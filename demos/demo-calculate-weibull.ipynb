{
 "cells": [
  {
   "attachments": {
    "image.png": {
     "image/png": "[encoded data removed]"
    }
   },
   "cell_type": "markdown",
   "metadata": {},
   "source": [
    "## Quick Intro to Jupyter \n",
    "\"The Jupyter Notebook is an open-source web application that allows you to create and share documents that contain live code, equations, visualizations and narrative text.\"\n",
    "\n",
    "For more info go to https://jupyter.org/.\n",
    "\n",
    "\n",
    "\n",
    "There a two different types of cells:\n",
    "* *Code* cells - in these, you can type programming code (such as Python code)\n",
    "* Text cells (using something called *Markdown*)\n",
    "\n",
    "The cell type can be changed between *Code* and *Markdown* using the dropdown box at the top. To edit a cell, you just double click on it. Double click on this text to edit the cell. This is a Markdown cell and it uses a language called Markdown to render text.\n",
    "\n",
    "To run a cell you are currently editing, you can run a cell by pressing Shift and Enter together or press the arrow on the top left corner of a cell as shown in the picture below. \n",
    "![image.png](attachment:image.png)\n",
    "\n",
    "An example code cell below, calculates the sum of 5 and 2."
   ]
  },
  {
   "cell_type": "code",
   "execution_count": 148,
   "metadata": {},
   "outputs": [
    {
     "data": {
      "text/plain": [
       "7"
      ]
     },
     "execution_count": 148,
     "metadata": {},
     "output_type": "execute_result"
    }
   ],
   "source": [
    "5+2"
   ]
  },
  {
   "cell_type": "markdown",
   "metadata": {},
   "source": [
    "## Imports"
   ]
  },
  {
   "cell_type": "code",
   "execution_count": 149,
   "metadata": {},
   "outputs": [
    {
     "name": "stdout",
     "output_type": "stream",
     "text": [
      "Once deleted, variables cannot be recovered. Proceed (y/[n])? n\n",
      "Nothing done.\n"
     ]
    }
   ],
   "source": [
    "# To reset the notebook and delete all variables and methods in the workspace (when needed)\n",
    "%reset"
   ]
  },
  {
   "cell_type": "code",
   "execution_count": 109,
   "metadata": {
    "code_folding": [],
    "scrolled": true
   },
   "outputs": [
    {
     "name": "stdout",
     "output_type": "stream",
     "text": [
      "The autoreload extension is already loaded. To reload it, use:\n",
      "  %reload_ext autoreload\n"
     ]
    }
   ],
   "source": [
    "# imports\n",
    "import matplotlib.pyplot as plt\n",
    "import numpy as np\n",
    "import os\n",
    "import pandas as pd\n",
    "import pickle\n",
    "import glob\n",
    "import re\n",
    "from pathlib import Path\n",
    "from plotly import graph_objs as go\n",
    "import plotly.offline as py\n",
    "from plotly.offline import init_notebook_mode, iplot, plot\n",
    "from scipy.optimize import curve_fit\n",
    "import scipy.stats \n",
    "from fracture_fea_laf import postprocess\n",
    "from fracture_fea_laf.postprocess import calc_sw_diff, pred_j0\n",
    "\n",
    "%load_ext autoreload\n",
    "%autoreload 2"
   ]
  },
  {
   "cell_type": "markdown",
   "metadata": {},
   "source": [
    "# Experimental data"
   ]
  },
  {
   "cell_type": "markdown",
   "metadata": {},
   "source": [
    "## Mechanical properties"
   ]
  },
  {
   "cell_type": "code",
   "execution_count": 110,
   "metadata": {},
   "outputs": [],
   "source": [
    "def E_temp(T):\n",
    "    \"\"\"\n",
    "    Calculate Young's modulus of Euromaterial A based on Serco fitting \n",
    "    \n",
    "    Parameters\n",
    "    ----------\n",
    "    T : float\n",
    "        Temperature in °C\n",
    "        \n",
    "    Returns\n",
    "    -------\n",
    "    float\n",
    "        Young's modulus in MPa.    \n",
    "    \n",
    "    \"\"\"\n",
    "    return -90 * T + 206000\n",
    "\n",
    "def s0(T):\n",
    "    \"\"\"\n",
    "    Calculate Yield stress of Euromaterial A based on Serco fitting \n",
    "    \n",
    "    Parameters\n",
    "    ----------\n",
    "    T : float\n",
    "        Temperature in °C\n",
    "        \n",
    "    Returns\n",
    "    -------\n",
    "    float\n",
    "        Yield stress in MPa.    \n",
    "    \n",
    "    \"\"\"\n",
    "    return 421.18 + 63.9 * np.exp(- T / 91)\n",
    "\n",
    "nu = 0.3\n",
    "davg = 9e-9"
   ]
  },
  {
   "cell_type": "markdown",
   "metadata": {},
   "source": [
    "## Fracture toughness"
   ]
  },
  {
   "cell_type": "code",
   "execution_count": 150,
   "metadata": {
    "code_folding": []
   },
   "outputs": [],
   "source": [
    "# Load data and calculate CDF\n",
    "with open('../exp-data/raw_frac_data.pickle', 'rb') as handle:\n",
    "    raw_frac_data = pickle.load(handle)\n",
    "    \n",
    "sflow = [848.5, 723.6, 683.5, 663.0]\n",
    "temps = [ -154, -91, -60, -40, -20, 0]\n",
    "\n",
    "j_exp_1, cpf_1 = postprocess.calc_cpf(raw_frac_data['1w']['t_-154']['j'])\n",
    "j_exp_2, cpf_2 = postprocess.calc_cpf(raw_frac_data['1w']['t_-91']['j'])\n",
    "j_exp_3, cpf_3 = postprocess.calc_cpf(raw_frac_data['1w']['t_-60']['j'])\n",
    "j_exp_4, cpf_4 = postprocess.calc_cpf(raw_frac_data['1w']['t_-40']['j'])\n",
    "\n",
    "\n"
   ]
  },
  {
   "cell_type": "code",
   "execution_count": 112,
   "metadata": {
    "code_folding": []
   },
   "outputs": [
    {
     "data": {
      "image/png": "[encoded data removed]",
      "text/plain": [
       "<Figure size 936x360 with 2 Axes>"
      ]
     },
     "metadata": {
      "needs_background": "light"
     },
     "output_type": "display_data"
    }
   ],
   "source": [
    "# plot\n",
    "f, (ax1,ax2) = plt.subplots(1, 2, figsize=(13,5));\n",
    "\n",
    "mar = ['o','v','s','x',]\n",
    "i=0\n",
    "for key, val in raw_frac_data['1w'].items():\n",
    "    if key != 't_-20':\n",
    "        ti = int(key[2:])\n",
    "        kj = np.array(val['kj_v']).flatten()\n",
    "        kj = kj[np.where(kj != -1)[0]]\n",
    "        t_all = np.repeat(ti, len(kj))\n",
    "        ax1.scatter(t_all, kj, marker=mar[i], s=18)\n",
    "        i += 1\n",
    "ax1.set_ylabel('K$_{JC}$ (MPa m$^{1/2}$)', fontsize=13)\n",
    "ax1.set_xlabel('T (°C)', fontsize=13)\n",
    "ax1.xaxis.set_tick_params(labelsize=12)\n",
    "ax1.yaxis.set_tick_params(labelsize=12)\n",
    "        \n",
    "ax2.scatter(j_exp_1, cpf_1, label='T=-154°C', marker='o', s=18)\n",
    "ax2.scatter(j_exp_2, cpf_2, label='T=-91°C',  marker='v', s=18)\n",
    "ax2.scatter(j_exp_3, cpf_3, label='T=-60°C',  marker='s', s=18)\n",
    "ax2.scatter(j_exp_4, cpf_4, label='T=-40°C',  marker='x', s=18)\n",
    "ax2.set_xlabel('J$_c$ (N/mm)', fontsize=13)\n",
    "ax2.set_ylabel('CDF(J$_c$)', fontsize=13)\n",
    "ax2.set_ylim([0,1])\n",
    "ax2.xaxis.set_tick_params(labelsize=12)\n",
    "ax2.yaxis.set_tick_params(labelsize=12)\n",
    "ax2.legend(fontsize=13, loc=5)\n",
    "f.savefig('exp_data.png', bbox_inches='tight', dpi=300)"
   ]
  },
  {
   "cell_type": "markdown",
   "metadata": {},
   "source": [
    "## Calculate Weibull fits"
   ]
  },
  {
   "cell_type": "code",
   "execution_count": 113,
   "metadata": {},
   "outputs": [
    {
     "name": "stdout",
     "output_type": "stream",
     "text": [
      "7.56049214329971\n",
      " 57.2880364349686\n",
      " 113.0712179340385\n",
      " 233.78352964417985\n",
      "\n"
     ]
    },
    {
     "data": {
      "text/plain": [
       "[<matplotlib.lines.Line2D at 0x1ac8268ac70>]"
      ]
     },
     "execution_count": 113,
     "metadata": {},
     "output_type": "execute_result"
    },
    {
     "data": {
      "image/png": "[encoded data removed]",
      "text/plain": [
       "<Figure size 432x288 with 1 Axes>"
      ]
     },
     "metadata": {
      "needs_background": "light"
     },
     "output_type": "display_data"
    }
   ],
   "source": [
    "a_out, Kappa_out, loc_out, Lambda_out = scipy.stats.exponweib.fit(j_exp_1,floc=0,f0=1)\n",
    "j_fit_unsorted = scipy.stats.exponweib.rvs(a=a_out,c=Kappa_out, loc=loc_out, scale=Lambda_out, size = 100000)\n",
    "\n",
    "j_1_fit, cpf_1_fit = postprocess.calc_cpf(j_fit_unsorted)\n",
    "\n",
    "a_out, Kappa_out, loc_out, Lambda_out = scipy.stats.exponweib.fit(j_exp_2, floc=0,f0=1)\n",
    "j_fit_unsorted = scipy.stats.exponweib.rvs(a=a_out,c=Kappa_out, loc=loc_out, scale=Lambda_out, size = 10000)\n",
    "j_2_fit, cpf_2_fit = postprocess.calc_cpf(j_fit_unsorted)\n",
    "\n",
    "\n",
    "a_out, Kappa_out, loc_out, Lambda_out = scipy.stats.exponweib.fit(j_exp_3, floc=0,f0=1)\n",
    "j_fit_unsorted = scipy.stats.exponweib.rvs(a=a_out,c=Kappa_out, loc=loc_out, scale=Lambda_out, size = 10000)\n",
    "j_3_fit, cpf_3_fit = postprocess.calc_cpf(j_fit_unsorted)\n",
    "\n",
    "\n",
    "a_out, Kappa_out, loc_out, Lambda_out = scipy.stats.exponweib.fit(j_exp_4, floc=0,f0=1)\n",
    "j_fit_unsorted = scipy.stats.exponweib.rvs(a=a_out,c=Kappa_out, loc=loc_out, scale=Lambda_out, size = 10000)\n",
    "j_4_fit, cpf_4_fit = postprocess.calc_cpf(j_fit_unsorted)\n",
    "\n",
    "\n",
    "j0_1 = postprocess.find_closest(cpf_1_fit, j_1_fit, 0.632, 0.001)[1][0]\n",
    "j0_2 = postprocess.find_closest(cpf_2_fit, j_2_fit, 0.632,  0.001)[1][0]\n",
    "j0_3 = postprocess.find_closest(cpf_3_fit, j_3_fit, 0.632,  0.001)[1][0]\n",
    "j0_4 = postprocess.find_closest(cpf_4_fit, j_4_fit, 0.632,  0.001)[1][0]\n",
    "\n",
    "print(\n",
    "    str(j0_1) + '\\n' ,\n",
    "    str(j0_2) + '\\n' ,\n",
    "    str(j0_3) + '\\n' ,\n",
    "    str(j0_4) + '\\n' ,\n",
    ")\n",
    "j0_all_temps = [j0_1,\n",
    "j0_2,\n",
    "j0_3,\n",
    "j0_4,]\n",
    "\n",
    "\n",
    "plt.scatter(j_exp_1, cpf_1, label='T=-154 °C')\n",
    "plt.plot( j_1_fit, cpf_1_fit)\n",
    "\n",
    "plt.scatter(j_exp_2, cpf_2, label='T=-91 °C')\n",
    "plt.plot(j_2_fit, cpf_2_fit)\n",
    "\n",
    "plt.scatter(j_exp_3, cpf_3, label='T=-60 °C')\n",
    "plt.plot(j_3_fit, cpf_3_fit)\n",
    "\n",
    "plt.scatter(j_exp_4, cpf_4, label='T=-40 °C')\n",
    "plt.plot(j_4_fit, cpf_4_fit)"
   ]
  },
  {
   "cell_type": "markdown",
   "metadata": {},
   "source": [
    "# Model"
   ]
  },
  {
   "cell_type": "markdown",
   "metadata": {},
   "source": [
    "## Load FE data"
   ]
  },
  {
   "cell_type": "code",
   "execution_count": 151,
   "metadata": {},
   "outputs": [],
   "source": [
    "# index of active calculation\n",
    "act_idx = [1, 1, 1]\n",
    "\n",
    "paths = np.array([\n",
    "     '../fea-data/ct-3d-fan/ct91',\n",
    "     '../fea-data/ct-3d-fan/ct60', \n",
    "     '../fea-data/ct-3d-fan/ct40'\n",
    "    ])[np.where(act_idx)]\n",
    "\n",
    "temps = np.array([-91, -60, -40])[np.where(act_idx)]\n",
    "radii = np.array([10, 15, 30])[np.where(act_idx)]\n",
    "\n",
    "filesg = np.array([r'ct91_ghis.txt', r'ct60_ghis.txt', r'ct40_ghis.txt'])[np.where(act_idx)]\n",
    "file_labs = np.array([r'ct91', r'ct60', r'ct40'])[np.where(act_idx)]\n",
    "\n",
    "s0_all_temps = s0(np.array(temps))\n",
    "j0_all = np.array(j0_all_temps)[1:][np.where(act_idx)]"
   ]
  },
  {
   "cell_type": "code",
   "execution_count": 115,
   "metadata": {},
   "outputs": [
    {
     "name": "stdout",
     "output_type": "stream",
     "text": [
      "\n",
      " ..\\fea-data\\ct-3d-fan\\ct91\n",
      "Characteristic J0:  56.0808105469\n",
      "Time increment of J0:  44\n",
      "\n",
      " ..\\fea-data\\ct-3d-fan\\ct60\n",
      "Characteristic J0:  113.964439392\n",
      "Time increment of J0:  64\n",
      "\n",
      " ..\\fea-data\\ct-3d-fan\\ct40\n",
      "Characteristic J0:  236.860244751\n",
      "Time increment of J0:  63\n"
     ]
    }
   ],
   "source": [
    "# Read data from ghis file and find J values closest to J0\n",
    "gdata_all = []\n",
    "for i, path in enumerate(paths):\n",
    "    print('\\n', path)\n",
    "\n",
    "    file_path = os.path.join(path, filesg[i])\n",
    "    data_path = pd.read_csv(file_path, sep=' ', skiprows=1, index_col=False,  \n",
    "                    names=[ 'iframe','jintc', 'ctod', 'sqrt(rpz)', 'vpz', 'smax', 'pmax','peeq'])\n",
    "\n",
    "    jdata = data_path['jintc']\n",
    "    j0_idx = postprocess.find_nearest(jdata, j0_all[i])\n",
    "\n",
    "    j0_close = jdata[j0_idx]\n",
    "\n",
    "    gdata_all.append(\n",
    "        {\n",
    "            'file_path': file_path,\n",
    "            'gdata': data_path,\n",
    "            'j0_idx': j0_idx,\n",
    "            'j0': j0_close,\n",
    "\n",
    "\n",
    "        }\n",
    "    )\n",
    "    \n",
    "    print('Characteristic J0: ', jdata[j0_idx])\n",
    "    print('Time increment of J0: ', j0_idx)\n"
   ]
  },
  {
   "cell_type": "markdown",
   "metadata": {},
   "source": [
    "## Crack fronts"
   ]
  },
  {
   "cell_type": "code",
   "execution_count": 116,
   "metadata": {
    "code_folding": []
   },
   "outputs": [],
   "source": [
    "# %%time\n",
    "\n",
    "data_labels = ['label', 'xcoord', 'ycoord', 'zcoord','vol', 's1',\n",
    "               's2', 's3', 'p1', 'p2', 'p3', 'peeq', 'sh', 'seq']\n",
    "front_data_all = []\n",
    "skipped_lines_all = []\n",
    "\n",
    "for ip, path in enumerate(paths):\n",
    "    file_path = os.path.join(path, file_labs[ip] +  r'_front.txt')\n",
    "    front_data_all.append({\n",
    "        'file_path': file_path,\n",
    "        'data': {},\n",
    "    })\n",
    "    curr_line = 0\n",
    "    skipped_lines = 0\n",
    "    dwp = 0\n",
    "    dwv = 0\n",
    "    rtrat = 0\n",
    "    with open(file_path, 'rb') as file:\n",
    "        all_lines = file.readlines()\n",
    "        num_frames = int(all_lines[0].strip())\n",
    "        front_data_all[ip]['data'] = []\n",
    "        curr_line += 1\n",
    "        labels_0 = pd.Series(dtype='float64')\n",
    "        smax_0 = pd.Series(dtype='float64')\n",
    "        data_0 = 0\n",
    "        k = 0\n",
    "        for ti in range(num_frames):\n",
    "#             print('step:', ti)\n",
    "            frame_i, num_elem_i = [int(n) for n in all_lines[curr_line].strip().split()]\n",
    "            if num_elem_i == 0:\n",
    "                skipped_lines += 1\n",
    "            elif num_elem_i > 0:\n",
    "                skip_rows = list(range(0, curr_line+1))\n",
    "                data_i = pd.read_csv(file_path, sep=' ', skiprows=skip_rows,index_col=False,\n",
    "                                     nrows=num_elem_i, names=data_labels)\n",
    "\n",
    "                labels_i = data_i['label']\n",
    "                pl_elem_check = labels_i.isin(labels_0)\n",
    "                smax_i = np.max(data_i[['s1', 's2', 's3']], axis=1)\n",
    "                vols_i = data_i['vol']\n",
    "                smin_i = np.min(data_i[['s1', 's2', 's3']], axis=1)\n",
    "                pmax_i = np.max(data_i[['p1', 'p2', 'p3']], axis=1)\n",
    "                seq_i = data_i['seq'].values\n",
    "                sh_i = data_i['sh'].values\n",
    "                smax_i_allt = smax_i.copy()\n",
    "            \n",
    "                smax_i_allt[labels_i.isin(labels_0)] = np.max([smax_0.values, \n",
    "                                                          smax_i_allt[labels_i.isin(labels_0)].values], \n",
    "                                                          axis=0)\n",
    "                peeq_0 = np.zeros(len(labels_i))\n",
    "                wp_i = np.zeros(len(labels_i))\n",
    "                wv_i = np.zeros(len(labels_i))\n",
    "                sum_rtrat_i = np.zeros(len(labels_i))\n",
    "                \n",
    "                \n",
    "                if type(data_0) == pd.core.frame.DataFrame:\n",
    "                    \n",
    "                    peeq_0[labels_i.isin(labels_0)] = data_0['peeq']\n",
    "                    dpeeq = data_i['peeq'].values - peeq_0\n",
    "                    \n",
    "                    if k >= 1:\n",
    "                        wp_i[labels_i.isin(labels_0)] = wp_0\n",
    "                        wv_i[labels_i.isin(labels_0)] = wv_0\n",
    "                        sum_rtrat_i[labels_i.isin(labels_0)] = sum_rtrat_0\n",
    "                    \n",
    "                    dwp = seq_i * dpeeq * (10 ** (-3))  # plastic flow work\n",
    "#                     dwv = 3 * 0.427 * (-sh_i / seq_i) * np.exp(\n",
    "#                           3 * sh_i / (2 * seq_i)\n",
    "#                           ) * dwp   # voids growth work\n",
    "                    \n",
    "                    striax = sh_i / seq_i\n",
    "                    deps_kkp = 3 * 0.427 * np.exp(3 * striax / 2) * dpeeq\n",
    "                    dwv = - sh_i * deps_kkp * (10 ** (-3))\n",
    "                    \n",
    "                    rtrat = deps_kkp / 3\n",
    "                    \n",
    "                    wp_i = wp_i + dwp\n",
    "                    wv_i = wv_i + dwv\n",
    "                    sum_rtrat_i = sum_rtrat_i + rtrat\n",
    "                    \n",
    "                    k += 1\n",
    "\n",
    "                \n",
    "                front_data_all[ip]['data'].append({\n",
    "                    'frame_i': frame_i,\n",
    "                    'num_elem_i': num_elem_i,\n",
    "                    'elem_labels': data_i['label'],\n",
    "                    'xcoord': data_i['xcoord'],\n",
    "                    'smax': smax_i,\n",
    "                    'smin': smin_i,\n",
    "                    'smaxallt': smax_i_allt,\n",
    "                    'sh':  sh_i,\n",
    "                    'seq':  seq_i,\n",
    "                    'vol': vols_i,\n",
    "                    'peeq': data_i['peeq'],\n",
    "                    'p1': data_i['p1'],\n",
    "                    'p2': data_i['p2'],\n",
    "                    'p3': data_i['p3'],\n",
    "                    'pmax': pmax_i,\n",
    "                    'dwp': dwp,\n",
    "                    'dwv': dwv,\n",
    "                    'wp': wp_i,\n",
    "                    'wv': wv_i,\n",
    "                    'rtrat': rtrat,\n",
    "                    'sum_rt_rat': sum_rtrat_i\n",
    "                })\n",
    "\n",
    "                labels_0 = labels_i\n",
    "                smax_0 = smax_i_allt\n",
    "                data_0 = data_i\n",
    "                wp_0 = np.copy(wp_i)\n",
    "                wv_0 = np.copy(wv_i)\n",
    "                sum_rtrat_0 = np.copy(sum_rtrat_i)\n",
    "\n",
    "            curr_line += num_elem_i + 1\n",
    "    skipped_lines_all.append(skipped_lines)"
   ]
  },
  {
   "cell_type": "code",
   "execution_count": 128,
   "metadata": {
    "code_folding": [
     0,
     44
    ]
   },
   "outputs": [],
   "source": [
    "# code\n",
    "cols = ['black', 'blue', 'green', 'red']\n",
    "def plot_front(data_all, iframes, xparam, yparam, norm_factors=None,\n",
    "              xrange=None, yrange=None, ylog=False, ylab=None, plot_lim=None,\n",
    "              xlab=r'$\\LARGE{r * \\sigma_0 / J}$', figsize=[450,400]):    \n",
    "    data = []\n",
    "    for i, d in enumerate(data_all):\n",
    "#         print(i, iframes[i])\n",
    "        xdata = d['data'][iframes[i]][xparam]\n",
    "        ydata = d['data'][iframes[i]][yparam]\n",
    "        \n",
    "        if type(norm_factors) == list:\n",
    "            xdata = xdata * norm_factors[0][i]\n",
    "            ydata = ydata / norm_factors[1][i]\n",
    "#             print(norm_factors[0][i])\n",
    "#             print(norm_factors[1][i])\n",
    "        if plot_lim:\n",
    "            plot_idx_y = np.where(ydata>=plot_lim)[0]\n",
    "            plot_idx_x= np.where(xdata<=xrange[1])[0]\n",
    "            plot_idx = np.intersect1d(plot_idx_x, plot_idx_y)\n",
    "            \n",
    "            xdata = xdata[plot_idx]\n",
    "            ydata = ydata[plot_idx]\n",
    "        \n",
    "        if i == 4:\n",
    "            data.append({\n",
    "                 'x': xdata,\n",
    "                 'y': ydata,\n",
    "                   'name': 'T = -' + file_labs[i][2:] + '°C-lc',\n",
    "                    #'marker':{'symbol':'circle', 'color': [ri], 'colorscale': 'Viridis'},\n",
    "                    'line': {'width': 1.5, 'color': cols[i]},\n",
    "                'mode': 'lines'\n",
    "            })\n",
    "        else:\n",
    "            data.append({\n",
    "                 'x': xdata,\n",
    "                 'y': ydata,\n",
    "                   'name': 'T = -' + file_labs[i][2:] + '°C',\n",
    "                    #'marker':{'symbol':'circle', 'color': [ri], 'colorscale': 'Viridis'},\n",
    "                    'line': {'width': 1.5, 'color': cols[i]},\n",
    "                'mode': 'lines'\n",
    "            })\n",
    "\n",
    "\n",
    "    layout = {\n",
    "            'width': figsize[0],\n",
    "            'height': figsize[1],\n",
    "         'margin': {\n",
    "                'l': 80,\n",
    "                'r': 20,\n",
    "                'b': 80,\n",
    "                't': 20,\n",
    "#                 'pad': 1\n",
    "     },\n",
    "            'xaxis': {\n",
    "        #         'range': [-0.1, 1.1],\n",
    "                'zeroline': False,\n",
    "                'showline': True,\n",
    "                'mirror': 'all',\n",
    "                 'dtick': 0.5,\n",
    "                'tickformat': \".1f\"\n",
    "    #             'title': r'$r * \\sigma_0 / J$',\n",
    "            },\n",
    "            'yaxis': {\n",
    "                'zeroline': False,\n",
    "                'showline': True,\n",
    "                'mirror': 'all',\n",
    "    #             'title': ylab,\n",
    "                'tickformat' : '.2f',\n",
    "               \n",
    "            },\n",
    "             'annotations':[\n",
    "        {\n",
    "            'text':  xlab,\n",
    "            'x': 0.5,\n",
    "            'y': -0.22,\n",
    "            'xref': 'paper',\n",
    "            'yref': 'paper',\n",
    "            'showarrow': False,\n",
    "            'font': {'size': 13},\n",
    "        },\n",
    "            {\n",
    "            'text':  ylab,\n",
    "            'x': -0.22,\n",
    "            'y': 0.5,\n",
    "            'xref': 'paper',\n",
    "            'yref': 'paper',\n",
    "            'showarrow': False,\n",
    "            'font': {'size': 13},\n",
    "            'textangle': -90\n",
    "        },\n",
    "                  \n",
    "        ],\n",
    "            'legend':{\n",
    "            'x': 0.5,\n",
    "            'y': 0.65, # 0.06; \n",
    "        },\n",
    "    }\n",
    "    if xrange:\n",
    "        layout['xaxis']['range'] = xrange\n",
    "    if yrange:\n",
    "        layout['yaxis']['range'] = yrange\n",
    "    if ylog:\n",
    "        layout['yaxis']['type'] = 'log'\n",
    "        layout['yaxis']['tickformat'] =  ''\n",
    "#         layout['yaxis']['dtick'] =  1\n",
    "        layout['yaxis']['tickvals'] = np.concatenate([\n",
    "                                    np.linspace(1, 9, 9),\n",
    "                                    np.linspace(10, 90, 9),\n",
    "                                    np.linspace(100, 900, 9),\n",
    "                                    [1000]\n",
    "                                ]) / 1000\n",
    "        layout['yaxis']['ticktext'] = ['0.001','','','','','','','','',\n",
    "                                       '0.01','','','','','','','','',\n",
    "                                       '0.1','','','','','','','','','1','']\n",
    "    else:\n",
    "        layout['yaxis']['dtick'] = 0.2\n",
    "        layout['yaxis']['tickformat'] = '.1f'\n",
    "\n",
    "    layout['showlegend'] = True\n",
    "#     iplot(go.Figure(data=data, layout=layout))\n",
    "    f = go.FigureWidget(data,layout)\n",
    "    return f\n",
    "    \n",
    "\n",
    "# plot\n",
    "xcorr = []\n",
    "\n",
    "for ti, temp in enumerate(temps):\n",
    "    xcorr.append(\n",
    "        s0(temp) / gdata_all[ti]['gdata']['jintc'][gdata_all[ti]['j0_idx']]\n",
    "    )\n",
    "\n",
    "n = len(paths)\n",
    "j0_idx_all = np.array([gdata_all[ti]['j0_idx'] for ti in range(n)]) - np.array(skipped_lines_all)\n",
    "plot_lim=0.002\n",
    "\n",
    "plot_idx_y = []\n",
    "for i, d in enumerate(front_data_all):\n",
    "    plot_idx_y.append(np.where(d['data'][j0_idx_all[i]]['peeq']>=plot_lim)[0])\n"
   ]
  },
  {
   "cell_type": "markdown",
   "metadata": {},
   "source": [
    "### Equivalent plastic strain"
   ]
  },
  {
   "cell_type": "code",
   "execution_count": 129,
   "metadata": {
    "code_folding": [],
    "scrolled": false
   },
   "outputs": [
    {
     "data": {
      "application/vnd.plotly.v1+json": {
       "config": {
        "linkText": "Export to plot.ly",
        "plotlyServerURL": "https://plot.ly",
        "showLink": false
       },
       "data": [
        {
         "line": {
          "color": "black",
          "width": 1.5
         },
         "mode": "lines",
         "name": "T = -91°C",
         "type": "scatter",
         "uid": "5ac3cf54-396d-4023-9caa-a103a7373b8b",
         "x": [
          0,
          0.08651300767402469,
          0.19649578543361285,
          0.32533469938815135,
          0.5015372420845315,
          0.7601856578930685,
          1.12450298603002,
          1.6073890291678807,
          2.188161248657831,
          2.844331706282876,
          3.601156902465027,
          4.462890451933066,
          5.409187135111428,
          6.433321785571067,
          7.544724486837884,
          8.824001768398176,
          10.413251941740084,
          12.446543427205402,
          14.823900367390742,
          17.385085594981994,
          20.28528709871247,
          23.5468867416189
         ],
         "y": [
          0.998905658722,
          0.476526290178,
          0.247933313251,
          0.140879303217,
          0.0743488669395,
          0.0337477326393,
          0.0140754571185,
          0.00717993546277,
          0.00495485030115,
          0.00394324539229,
          0.00327128171921,
          0.0027268154081,
          0.00230875844136,
          0.00196913164109,
          0.0016828130465,
          0.00142307707574,
          0.00117454794236,
          0.00092121923808,
          0.000702221586835,
          0.000523476861417,
          0.00036436872324,
          0.000220207759412
         ]
        },
        {
         "line": {
          "color": "blue",
          "width": 1.5
         },
         "mode": "lines",
         "name": "T = -60°C",
         "type": "scatter",
         "uid": "40ef3485-52e8-4ee2-af16-91d0ba5825a8",
         "x": [
          0,
          0.17569017432924297,
          0.4238135600025453,
          0.7367214576888591,
          1.097690164588866,
          1.455255625692281,
          1.8020329888140847,
          2.182546459846484,
          2.5986506165550365,
          3.052859654570371,
          3.5486150584058946,
          4.090964338681271,
          4.684065955850202,
          5.332819245504689,
          6.042577627998923,
          6.818345595396148,
          7.6662413423868685,
          8.592239668473526,
          9.603127945890897,
          10.70641052281405,
          11.911981667219031,
          13.23336832517937,
          14.684001845976562,
          16.271004190617518,
          17.989308729124165,
          23.77974981811998,
          33.578277606938784,
          111.86210822058248,
          121.64978577350486
         ],
         "y": [
          0.685851275921,
          0.224731728435,
          0.0832853987813,
          0.031834859401,
          0.0142143312842,
          0.00836365669966,
          0.00661357399076,
          0.00584488781169,
          0.00526391621679,
          0.00475454749539,
          0.0043205623515,
          0.00394230242819,
          0.00360541907139,
          0.00330117624253,
          0.00302555365488,
          0.00277353613637,
          0.00254253158346,
          0.00233139190823,
          0.00213762302883,
          0.00195848871954,
          0.00179179466795,
          0.00163594307378,
          0.00148980668746,
          0.0013521371875,
          0.00122257159092,
          0.00084962969413,
          0.000328255671775,
          0.000845569127705,
          0.00166824297048
         ]
        },
        {
         "line": {
          "color": "green",
          "width": 1.5
         },
         "mode": "lines",
         "name": "T = -40°C",
         "type": "scatter",
         "uid": "45ed39c1-f6bc-40fe-b140-6313ad960708",
         "x": [
          0,
          0.10949048202599279,
          0.39632439312456463,
          0.888951375989923,
          1.4156124796752554,
          1.9532733795744792,
          2.5513068378427777,
          3.211733987397423,
          3.944526482924824,
          4.760558898273347,
          5.679251684517647,
          6.722024456813594,
          7.898213970485544,
          10.774813363828807,
          15.285520689622446,
          19.79427278900699,
          24.299290186261786,
          37.7960643064265,
          42.295721307683316,
          46.799552387791024,
          51.30799692347076,
          55.8203958496408
         ],
         "y": [
          0.94071149826,
          0.37125185132,
          0.110756278038,
          0.0291213840246,
          0.0142071889713,
          0.010813861154,
          0.00926131755114,
          0.00817203614861,
          0.00732275936753,
          0.0066268206574,
          0.00603691115975,
          0.00555587280542,
          0.0051422980614,
          0.00428914092481,
          0.00312149268575,
          0.00194442702923,
          0.000763410760555,
          0.000385778228519,
          0.00199064565822,
          0.00377707649022,
          0.00549006462097,
          0.00689076865092
         ]
        }
       ],
       "layout": {
        "annotations": [
         {
          "font": {
           "size": 13
          },
          "showarrow": false,
          "text": "r (mm)",
          "x": 0.5,
          "xref": "paper",
          "y": -0.22,
          "yref": "paper"
         },
         {
          "font": {
           "size": 13
          },
          "showarrow": false,
          "text": "$\\LARGE{\\varepsilon_{\\textrm{eq}}^\\textrm{p}}$",
          "textangle": -90,
          "x": -0.22,
          "xref": "paper",
          "y": 0.5,
          "yref": "paper"
         }
        ],
        "height": 500,
        "legend": {
         "x": 0.5,
         "y": 0.65
        },
        "margin": {
         "b": 80,
         "l": 80,
         "r": 20,
         "t": 20
        },
        "showlegend": true,
        "template": {
         "data": {
          "bar": [
           {
            "error_x": {
             "color": "#2a3f5f"
            },
            "error_y": {
             "color": "#2a3f5f"
            },
            "marker": {
             "line": {
              "color": "#E5ECF6",
              "width": 0.5
             }
            },
            "type": "bar"
           }
          ],
          "barpolar": [
           {
            "marker": {
             "line": {
              "color": "#E5ECF6",
              "width": 0.5
             }
            },
            "type": "barpolar"
           }
          ],
          "carpet": [
           {
            "aaxis": {
             "endlinecolor": "#2a3f5f",
             "gridcolor": "white",
             "linecolor": "white",
             "minorgridcolor": "white",
             "startlinecolor": "#2a3f5f"
            },
            "baxis": {
             "endlinecolor": "#2a3f5f",
             "gridcolor": "white",
             "linecolor": "white",
             "minorgridcolor": "white",
             "startlinecolor": "#2a3f5f"
            },
            "type": "carpet"
           }
          ],
          "choropleth": [
           {
            "colorbar": {
             "outlinewidth": 0,
             "ticks": ""
            },
            "type": "choropleth"
           }
          ],
          "contour": [
           {
            "colorbar": {
             "outlinewidth": 0,
             "ticks": ""
            },
            "colorscale": [
             [
              0,
              "#0d0887"
             ],
             [
              0.1111111111111111,
              "#46039f"
             ],
             [
              0.2222222222222222,
              "#7201a8"
             ],
             [
              0.3333333333333333,
              "#9c179e"
             ],
             [
              0.4444444444444444,
              "#bd3786"
             ],
             [
              0.5555555555555556,
              "#d8576b"
             ],
             [
              0.6666666666666666,
              "#ed7953"
             ],
             [
              0.7777777777777778,
              "#fb9f3a"
             ],
             [
              0.8888888888888888,
              "#fdca26"
             ],
             [
              1,
              "#f0f921"
             ]
            ],
            "type": "contour"
           }
          ],
          "contourcarpet": [
           {
            "colorbar": {
             "outlinewidth": 0,
             "ticks": ""
            },
            "type": "contourcarpet"
           }
          ],
          "heatmap": [
           {
            "colorbar": {
             "outlinewidth": 0,
             "ticks": ""
            },
            "colorscale": [
             [
              0,
              "#0d0887"
             ],
             [
              0.1111111111111111,
              "#46039f"
             ],
             [
              0.2222222222222222,
              "#7201a8"
             ],
             [
              0.3333333333333333,
              "#9c179e"
             ],
             [
              0.4444444444444444,
              "#bd3786"
             ],
             [
              0.5555555555555556,
              "#d8576b"
             ],
             [
              0.6666666666666666,
              "#ed7953"
             ],
             [
              0.7777777777777778,
              "#fb9f3a"
             ],
             [
              0.8888888888888888,
              "#fdca26"
             ],
             [
              1,
              "#f0f921"
             ]
            ],
            "type": "heatmap"
           }
          ],
          "heatmapgl": [
           {
            "colorbar": {
             "outlinewidth": 0,
             "ticks": ""
            },
            "colorscale": [
             [
              0,
              "#0d0887"
             ],
             [
              0.1111111111111111,
              "#46039f"
             ],
             [
              0.2222222222222222,
              "#7201a8"
             ],
             [
              0.3333333333333333,
              "#9c179e"
             ],
             [
              0.4444444444444444,
              "#bd3786"
             ],
             [
              0.5555555555555556,
              "#d8576b"
             ],
             [
              0.6666666666666666,
              "#ed7953"
             ],
             [
              0.7777777777777778,
              "#fb9f3a"
             ],
             [
              0.8888888888888888,
              "#fdca26"
             ],
             [
              1,
              "#f0f921"
             ]
            ],
            "type": "heatmapgl"
           }
          ],
          "histogram": [
           {
            "marker": {
             "colorbar": {
              "outlinewidth": 0,
              "ticks": ""
             }
            },
            "type": "histogram"
           }
          ],
          "histogram2d": [
           {
            "colorbar": {
             "outlinewidth": 0,
             "ticks": ""
            },
            "colorscale": [
             [
              0,
              "#0d0887"
             ],
             [
              0.1111111111111111,
              "#46039f"
             ],
             [
              0.2222222222222222,
              "#7201a8"
             ],
             [
              0.3333333333333333,
              "#9c179e"
             ],
             [
              0.4444444444444444,
              "#bd3786"
             ],
             [
              0.5555555555555556,
              "#d8576b"
             ],
             [
              0.6666666666666666,
              "#ed7953"
             ],
             [
              0.7777777777777778,
              "#fb9f3a"
             ],
             [
              0.8888888888888888,
              "#fdca26"
             ],
             [
              1,
              "#f0f921"
             ]
            ],
            "type": "histogram2d"
           }
          ],
          "histogram2dcontour": [
           {
            "colorbar": {
             "outlinewidth": 0,
             "ticks": ""
            },
            "colorscale": [
             [
              0,
              "#0d0887"
             ],
             [
              0.1111111111111111,
              "#46039f"
             ],
             [
              0.2222222222222222,
              "#7201a8"
             ],
             [
              0.3333333333333333,
              "#9c179e"
             ],
             [
              0.4444444444444444,
              "#bd3786"
             ],
             [
              0.5555555555555556,
              "#d8576b"
             ],
             [
              0.6666666666666666,
              "#ed7953"
             ],
             [
              0.7777777777777778,
              "#fb9f3a"
             ],
             [
              0.8888888888888888,
              "#fdca26"
             ],
             [
              1,
              "#f0f921"
             ]
            ],
            "type": "histogram2dcontour"
           }
          ],
          "mesh3d": [
           {
            "colorbar": {
             "outlinewidth": 0,
             "ticks": ""
            },
            "type": "mesh3d"
           }
          ],
          "parcoords": [
           {
            "line": {
             "colorbar": {
              "outlinewidth": 0,
              "ticks": ""
             }
            },
            "type": "parcoords"
           }
          ],
          "pie": [
           {
            "automargin": true,
            "type": "pie"
           }
          ],
          "scatter": [
           {
            "marker": {
             "colorbar": {
              "outlinewidth": 0,
              "ticks": ""
             }
            },
            "type": "scatter"
           }
          ],
          "scatter3d": [
           {
            "line": {
             "colorbar": {
              "outlinewidth": 0,
              "ticks": ""
             }
            },
            "marker": {
             "colorbar": {
              "outlinewidth": 0,
              "ticks": ""
             }
            },
            "type": "scatter3d"
           }
          ],
          "scattercarpet": [
           {
            "marker": {
             "colorbar": {
              "outlinewidth": 0,
              "ticks": ""
             }
            },
            "type": "scattercarpet"
           }
          ],
          "scattergeo": [
           {
            "marker": {
             "colorbar": {
              "outlinewidth": 0,
              "ticks": ""
             }
            },
            "type": "scattergeo"
           }
          ],
          "scattergl": [
           {
            "marker": {
             "colorbar": {
              "outlinewidth": 0,
              "ticks": ""
             }
            },
            "type": "scattergl"
           }
          ],
          "scattermapbox": [
           {
            "marker": {
             "colorbar": {
              "outlinewidth": 0,
              "ticks": ""
             }
            },
            "type": "scattermapbox"
           }
          ],
          "scatterpolar": [
           {
            "marker": {
             "colorbar": {
              "outlinewidth": 0,
              "ticks": ""
             }
            },
            "type": "scatterpolar"
           }
          ],
          "scatterpolargl": [
           {
            "marker": {
             "colorbar": {
              "outlinewidth": 0,
              "ticks": ""
             }
            },
            "type": "scatterpolargl"
           }
          ],
          "scatterternary": [
           {
            "marker": {
             "colorbar": {
              "outlinewidth": 0,
              "ticks": ""
             }
            },
            "type": "scatterternary"
           }
          ],
          "surface": [
           {
            "colorbar": {
             "outlinewidth": 0,
             "ticks": ""
            },
            "colorscale": [
             [
              0,
              "#0d0887"
             ],
             [
              0.1111111111111111,
              "#46039f"
             ],
             [
              0.2222222222222222,
              "#7201a8"
             ],
             [
              0.3333333333333333,
              "#9c179e"
             ],
             [
              0.4444444444444444,
              "#bd3786"
             ],
             [
              0.5555555555555556,
              "#d8576b"
             ],
             [
              0.6666666666666666,
              "#ed7953"
             ],
             [
              0.7777777777777778,
              "#fb9f3a"
             ],
             [
              0.8888888888888888,
              "#fdca26"
             ],
             [
              1,
              "#f0f921"
             ]
            ],
            "type": "surface"
           }
          ],
          "table": [
           {
            "cells": {
             "fill": {
              "color": "#EBF0F8"
             },
             "line": {
              "color": "white"
             }
            },
            "header": {
             "fill": {
              "color": "#C8D4E3"
             },
             "line": {
              "color": "white"
             }
            },
            "type": "table"
           }
          ]
         },
         "layout": {
          "annotationdefaults": {
           "arrowcolor": "#2a3f5f",
           "arrowhead": 0,
           "arrowwidth": 1
          },
          "autotypenumbers": "strict",
          "coloraxis": {
           "colorbar": {
            "outlinewidth": 0,
            "ticks": ""
           }
          },
          "colorscale": {
           "diverging": [
            [
             0,
             "#8e0152"
            ],
            [
             0.1,
             "#c51b7d"
            ],
            [
             0.2,
             "#de77ae"
            ],
            [
             0.3,
             "#f1b6da"
            ],
            [
             0.4,
             "#fde0ef"
            ],
            [
             0.5,
             "#f7f7f7"
            ],
            [
             0.6,
             "#e6f5d0"
            ],
            [
             0.7,
             "#b8e186"
            ],
            [
             0.8,
             "#7fbc41"
            ],
            [
             0.9,
             "#4d9221"
            ],
            [
             1,
             "#276419"
            ]
           ],
           "sequential": [
            [
             0,
             "#0d0887"
            ],
            [
             0.1111111111111111,
             "#46039f"
            ],
            [
             0.2222222222222222,
             "#7201a8"
            ],
            [
             0.3333333333333333,
             "#9c179e"
            ],
            [
             0.4444444444444444,
             "#bd3786"
            ],
            [
             0.5555555555555556,
             "#d8576b"
            ],
            [
             0.6666666666666666,
             "#ed7953"
            ],
            [
             0.7777777777777778,
             "#fb9f3a"
            ],
            [
             0.8888888888888888,
             "#fdca26"
            ],
            [
             1,
             "#f0f921"
            ]
           ],
           "sequentialminus": [
            [
             0,
             "#0d0887"
            ],
            [
             0.1111111111111111,
             "#46039f"
            ],
            [
             0.2222222222222222,
             "#7201a8"
            ],
            [
             0.3333333333333333,
             "#9c179e"
            ],
            [
             0.4444444444444444,
             "#bd3786"
            ],
            [
             0.5555555555555556,
             "#d8576b"
            ],
            [
             0.6666666666666666,
             "#ed7953"
            ],
            [
             0.7777777777777778,
             "#fb9f3a"
            ],
            [
             0.8888888888888888,
             "#fdca26"
            ],
            [
             1,
             "#f0f921"
            ]
           ]
          },
          "colorway": [
           "#636efa",
           "#EF553B",
           "#00cc96",
           "#ab63fa",
           "#FFA15A",
           "#19d3f3",
           "#FF6692",
           "#B6E880",
           "#FF97FF",
           "#FECB52"
          ],
          "font": {
           "color": "#2a3f5f"
          },
          "geo": {
           "bgcolor": "white",
           "lakecolor": "white",
           "landcolor": "#E5ECF6",
           "showlakes": true,
           "showland": true,
           "subunitcolor": "white"
          },
          "hoverlabel": {
           "align": "left"
          },
          "hovermode": "closest",
          "mapbox": {
           "style": "light"
          },
          "paper_bgcolor": "white",
          "plot_bgcolor": "#E5ECF6",
          "polar": {
           "angularaxis": {
            "gridcolor": "white",
            "linecolor": "white",
            "ticks": ""
           },
           "bgcolor": "#E5ECF6",
           "radialaxis": {
            "gridcolor": "white",
            "linecolor": "white",
            "ticks": ""
           }
          },
          "scene": {
           "xaxis": {
            "backgroundcolor": "#E5ECF6",
            "gridcolor": "white",
            "gridwidth": 2,
            "linecolor": "white",
            "showbackground": true,
            "ticks": "",
            "zerolinecolor": "white"
           },
           "yaxis": {
            "backgroundcolor": "#E5ECF6",
            "gridcolor": "white",
            "gridwidth": 2,
            "linecolor": "white",
            "showbackground": true,
            "ticks": "",
            "zerolinecolor": "white"
           },
           "zaxis": {
            "backgroundcolor": "#E5ECF6",
            "gridcolor": "white",
            "gridwidth": 2,
            "linecolor": "white",
            "showbackground": true,
            "ticks": "",
            "zerolinecolor": "white"
           }
          },
          "shapedefaults": {
           "line": {
            "color": "#2a3f5f"
           }
          },
          "ternary": {
           "aaxis": {
            "gridcolor": "white",
            "linecolor": "white",
            "ticks": ""
           },
           "baxis": {
            "gridcolor": "white",
            "linecolor": "white",
            "ticks": ""
           },
           "bgcolor": "#E5ECF6",
           "caxis": {
            "gridcolor": "white",
            "linecolor": "white",
            "ticks": ""
           }
          },
          "title": {
           "x": 0.05
          },
          "xaxis": {
           "automargin": true,
           "gridcolor": "white",
           "linecolor": "white",
           "ticks": "",
           "title": {
            "standoff": 15
           },
           "zerolinecolor": "white",
           "zerolinewidth": 2
          },
          "yaxis": {
           "automargin": true,
           "gridcolor": "white",
           "linecolor": "white",
           "ticks": "",
           "title": {
            "standoff": 15
           },
           "zerolinecolor": "white",
           "zerolinewidth": 2
          }
         }
        },
        "width": 550,
        "xaxis": {
         "dtick": 0.5,
         "mirror": "all",
         "range": [
          -0.05,
          4.05
         ],
         "showline": true,
         "tickformat": ".1f",
         "zeroline": false
        },
        "yaxis": {
         "mirror": "all",
         "range": [
          -3.2188758248682006,
          0.5306282510621704
         ],
         "showline": true,
         "tickformat": "",
         "ticktext": [
          "0.001",
          "",
          "",
          "",
          "",
          "",
          "",
          "",
          "",
          "0.01",
          "",
          "",
          "",
          "",
          "",
          "",
          "",
          "",
          "0.1",
          "",
          "",
          "",
          "",
          "",
          "",
          "",
          "",
          "1",
          ""
         ],
         "tickvals": [
          0.001,
          0.002,
          0.003,
          0.004,
          0.005,
          0.006,
          0.007,
          0.008,
          0.009,
          0.01,
          0.02,
          0.03,
          0.04,
          0.05,
          0.06,
          0.07,
          0.08,
          0.09,
          0.1,
          0.2,
          0.3,
          0.4,
          0.5,
          0.6,
          0.7,
          0.8,
          0.9,
          1
         ],
         "type": "log",
         "zeroline": false
        }
       }
      },
      "text/html": [
       "<div>                            <div id=\"de13252a-cd8f-4beb-89a9-9e4f758a91c6\" class=\"plotly-graph-div\" style=\"height:500px; width:550px;\"></div>            <script type=\"text/javascript\">                require([\"plotly\"], function(Plotly) {                    window.PLOTLYENV=window.PLOTLYENV || {};                                    if (document.getElementById(\"de13252a-cd8f-4beb-89a9-9e4f758a91c6\")) {                    Plotly.newPlot(                        \"de13252a-cd8f-4beb-89a9-9e4f758a91c6\",                        [{\"line\": {\"color\": \"black\", \"width\": 1.5}, \"mode\": \"lines\", \"name\": \"T = -91\\u00b0C\", \"type\": \"scatter\", \"uid\": \"5ac3cf54-396d-4023-9caa-a103a7373b8b\", \"x\": [0.0, 0.08651300767402469, 0.19649578543361285, 0.32533469938815135, 0.5015372420845315, 0.7601856578930685, 1.12450298603002, 1.6073890291678807, 2.188161248657831, 2.844331706282876, 3.601156902465027, 4.462890451933066, 5.409187135111428, 6.433321785571067, 7.544724486837884, 8.824001768398176, 10.413251941740084, 12.446543427205402, 14.823900367390742, 17.385085594981994, 20.28528709871247, 23.5468867416189], \"y\": [0.998905658722, 0.476526290178, 0.247933313251, 0.140879303217, 0.0743488669395, 0.0337477326393, 0.0140754571185, 0.00717993546277, 0.00495485030115, 0.00394324539229, 0.00327128171921, 0.0027268154081, 0.00230875844136, 0.00196913164109, 0.0016828130465, 0.00142307707574, 0.00117454794236, 0.00092121923808, 0.000702221586835, 0.000523476861417, 0.00036436872324, 0.000220207759412]}, {\"line\": {\"color\": \"blue\", \"width\": 1.5}, \"mode\": \"lines\", \"name\": \"T = -60\\u00b0C\", \"type\": \"scatter\", \"uid\": \"40ef3485-52e8-4ee2-af16-91d0ba5825a8\", \"x\": [0.0, 0.17569017432924297, 0.4238135600025453, 0.7367214576888591, 1.097690164588866, 1.455255625692281, 1.8020329888140847, 2.182546459846484, 2.5986506165550365, 3.052859654570371, 3.5486150584058946, 4.090964338681271, 4.684065955850202, 5.332819245504689, 6.042577627998923, 6.818345595396148, 7.6662413423868685, 8.592239668473526, 9.603127945890897, 10.70641052281405, 11.911981667219031, 13.23336832517937, 14.684001845976562, 16.271004190617518, 17.989308729124165, 23.77974981811998, 33.578277606938784, 111.86210822058248, 121.64978577350486], \"y\": [0.685851275921, 0.224731728435, 0.0832853987813, 0.031834859401, 0.0142143312842, 0.00836365669966, 0.00661357399076, 0.00584488781169, 0.00526391621679, 0.00475454749539, 0.0043205623515, 0.00394230242819, 0.00360541907139, 0.00330117624253, 0.00302555365488, 0.00277353613637, 0.00254253158346, 0.00233139190823, 0.00213762302883, 0.00195848871954, 0.00179179466795, 0.00163594307378, 0.00148980668746, 0.0013521371875, 0.00122257159092, 0.00084962969413, 0.000328255671775, 0.000845569127705, 0.00166824297048]}, {\"line\": {\"color\": \"green\", \"width\": 1.5}, \"mode\": \"lines\", \"name\": \"T = -40\\u00b0C\", \"type\": \"scatter\", \"uid\": \"45ed39c1-f6bc-40fe-b140-6313ad960708\", \"x\": [0.0, 0.10949048202599279, 0.39632439312456463, 0.888951375989923, 1.4156124796752554, 1.9532733795744792, 2.5513068378427777, 3.211733987397423, 3.944526482924824, 4.760558898273347, 5.679251684517647, 6.722024456813594, 7.898213970485544, 10.774813363828807, 15.285520689622446, 19.79427278900699, 24.299290186261786, 37.7960643064265, 42.295721307683316, 46.799552387791024, 51.30799692347076, 55.8203958496408], \"y\": [0.94071149826, 0.37125185132, 0.110756278038, 0.0291213840246, 0.0142071889713, 0.010813861154, 0.00926131755114, 0.00817203614861, 0.00732275936753, 0.0066268206574, 0.00603691115975, 0.00555587280542, 0.0051422980614, 0.00428914092481, 0.00312149268575, 0.00194442702923, 0.000763410760555, 0.000385778228519, 0.00199064565822, 0.00377707649022, 0.00549006462097, 0.00689076865092]}],                        {\"annotations\": [{\"font\": {\"size\": 13}, \"showarrow\": false, \"text\": \"r (mm)\", \"x\": 0.5, \"xref\": \"paper\", \"y\": -0.22, \"yref\": \"paper\"}, {\"font\": {\"size\": 13}, \"showarrow\": false, \"text\": \"$\\\\LARGE{\\\\varepsilon_{\\\\textrm{eq}}^\\\\textrm{p}}$\", \"textangle\": -90, \"x\": -0.22, \"xref\": \"paper\", \"y\": 0.5, \"yref\": \"paper\"}], \"height\": 500, \"legend\": {\"x\": 0.5, \"y\": 0.65}, \"margin\": {\"b\": 80, \"l\": 80, \"r\": 20, \"t\": 20}, \"showlegend\": true, \"template\": {\"data\": {\"bar\": [{\"error_x\": {\"color\": \"#2a3f5f\"}, \"error_y\": {\"color\": \"#2a3f5f\"}, \"marker\": {\"line\": {\"color\": \"#E5ECF6\", \"width\": 0.5}}, \"type\": \"bar\"}], \"barpolar\": [{\"marker\": {\"line\": {\"color\": \"#E5ECF6\", \"width\": 0.5}}, \"type\": \"barpolar\"}], \"carpet\": [{\"aaxis\": {\"endlinecolor\": \"#2a3f5f\", \"gridcolor\": \"white\", \"linecolor\": \"white\", \"minorgridcolor\": \"white\", \"startlinecolor\": \"#2a3f5f\"}, \"baxis\": {\"endlinecolor\": \"#2a3f5f\", \"gridcolor\": \"white\", \"linecolor\": \"white\", \"minorgridcolor\": \"white\", \"startlinecolor\": \"#2a3f5f\"}, \"type\": \"carpet\"}], \"choropleth\": [{\"colorbar\": {\"outlinewidth\": 0, \"ticks\": \"\"}, \"type\": \"choropleth\"}], \"contour\": [{\"colorbar\": {\"outlinewidth\": 0, \"ticks\": \"\"}, \"colorscale\": [[0.0, \"#0d0887\"], [0.1111111111111111, \"#46039f\"], [0.2222222222222222, \"#7201a8\"], [0.3333333333333333, \"#9c179e\"], [0.4444444444444444, \"#bd3786\"], [0.5555555555555556, \"#d8576b\"], [0.6666666666666666, \"#ed7953\"], [0.7777777777777778, \"#fb9f3a\"], [0.8888888888888888, \"#fdca26\"], [1.0, \"#f0f921\"]], \"type\": \"contour\"}], \"contourcarpet\": [{\"colorbar\": {\"outlinewidth\": 0, \"ticks\": \"\"}, \"type\": \"contourcarpet\"}], \"heatmap\": [{\"colorbar\": {\"outlinewidth\": 0, \"ticks\": \"\"}, \"colorscale\": [[0.0, \"#0d0887\"], [0.1111111111111111, \"#46039f\"], [0.2222222222222222, \"#7201a8\"], [0.3333333333333333, \"#9c179e\"], [0.4444444444444444, \"#bd3786\"], [0.5555555555555556, \"#d8576b\"], [0.6666666666666666, \"#ed7953\"], [0.7777777777777778, \"#fb9f3a\"], [0.8888888888888888, \"#fdca26\"], [1.0, \"#f0f921\"]], \"type\": \"heatmap\"}], \"heatmapgl\": [{\"colorbar\": {\"outlinewidth\": 0, \"ticks\": \"\"}, \"colorscale\": [[0.0, \"#0d0887\"], [0.1111111111111111, \"#46039f\"], [0.2222222222222222, \"#7201a8\"], [0.3333333333333333, \"#9c179e\"], [0.4444444444444444, \"#bd3786\"], [0.5555555555555556, \"#d8576b\"], [0.6666666666666666, \"#ed7953\"], [0.7777777777777778, \"#fb9f3a\"], [0.8888888888888888, \"#fdca26\"], [1.0, \"#f0f921\"]], \"type\": \"heatmapgl\"}], \"histogram\": [{\"marker\": {\"colorbar\": {\"outlinewidth\": 0, \"ticks\": \"\"}}, \"type\": \"histogram\"}], \"histogram2d\": [{\"colorbar\": {\"outlinewidth\": 0, \"ticks\": \"\"}, \"colorscale\": [[0.0, \"#0d0887\"], [0.1111111111111111, \"#46039f\"], [0.2222222222222222, \"#7201a8\"], [0.3333333333333333, \"#9c179e\"], [0.4444444444444444, \"#bd3786\"], [0.5555555555555556, \"#d8576b\"], [0.6666666666666666, \"#ed7953\"], [0.7777777777777778, \"#fb9f3a\"], [0.8888888888888888, \"#fdca26\"], [1.0, \"#f0f921\"]], \"type\": \"histogram2d\"}], \"histogram2dcontour\": [{\"colorbar\": {\"outlinewidth\": 0, \"ticks\": \"\"}, \"colorscale\": [[0.0, \"#0d0887\"], [0.1111111111111111, \"#46039f\"], [0.2222222222222222, \"#7201a8\"], [0.3333333333333333, \"#9c179e\"], [0.4444444444444444, \"#bd3786\"], [0.5555555555555556, \"#d8576b\"], [0.6666666666666666, \"#ed7953\"], [0.7777777777777778, \"#fb9f3a\"], [0.8888888888888888, \"#fdca26\"], [1.0, \"#f0f921\"]], \"type\": \"histogram2dcontour\"}], \"mesh3d\": [{\"colorbar\": {\"outlinewidth\": 0, \"ticks\": \"\"}, \"type\": \"mesh3d\"}], \"parcoords\": [{\"line\": {\"colorbar\": {\"outlinewidth\": 0, \"ticks\": \"\"}}, \"type\": \"parcoords\"}], \"pie\": [{\"automargin\": true, \"type\": \"pie\"}], \"scatter\": [{\"marker\": {\"colorbar\": {\"outlinewidth\": 0, \"ticks\": \"\"}}, \"type\": \"scatter\"}], \"scatter3d\": [{\"line\": {\"colorbar\": {\"outlinewidth\": 0, \"ticks\": \"\"}}, \"marker\": {\"colorbar\": {\"outlinewidth\": 0, \"ticks\": \"\"}}, \"type\": \"scatter3d\"}], \"scattercarpet\": [{\"marker\": {\"colorbar\": {\"outlinewidth\": 0, \"ticks\": \"\"}}, \"type\": \"scattercarpet\"}], \"scattergeo\": [{\"marker\": {\"colorbar\": {\"outlinewidth\": 0, \"ticks\": \"\"}}, \"type\": \"scattergeo\"}], \"scattergl\": [{\"marker\": {\"colorbar\": {\"outlinewidth\": 0, \"ticks\": \"\"}}, \"type\": \"scattergl\"}], \"scattermapbox\": [{\"marker\": {\"colorbar\": {\"outlinewidth\": 0, \"ticks\": \"\"}}, \"type\": \"scattermapbox\"}], \"scatterpolar\": [{\"marker\": {\"colorbar\": {\"outlinewidth\": 0, \"ticks\": \"\"}}, \"type\": \"scatterpolar\"}], \"scatterpolargl\": [{\"marker\": {\"colorbar\": {\"outlinewidth\": 0, \"ticks\": \"\"}}, \"type\": \"scatterpolargl\"}], \"scatterternary\": [{\"marker\": {\"colorbar\": {\"outlinewidth\": 0, \"ticks\": \"\"}}, \"type\": \"scatterternary\"}], \"surface\": [{\"colorbar\": {\"outlinewidth\": 0, \"ticks\": \"\"}, \"colorscale\": [[0.0, \"#0d0887\"], [0.1111111111111111, \"#46039f\"], [0.2222222222222222, \"#7201a8\"], [0.3333333333333333, \"#9c179e\"], [0.4444444444444444, \"#bd3786\"], [0.5555555555555556, \"#d8576b\"], [0.6666666666666666, \"#ed7953\"], [0.7777777777777778, \"#fb9f3a\"], [0.8888888888888888, \"#fdca26\"], [1.0, \"#f0f921\"]], \"type\": \"surface\"}], \"table\": [{\"cells\": {\"fill\": {\"color\": \"#EBF0F8\"}, \"line\": {\"color\": \"white\"}}, \"header\": {\"fill\": {\"color\": \"#C8D4E3\"}, \"line\": {\"color\": \"white\"}}, \"type\": \"table\"}]}, \"layout\": {\"annotationdefaults\": {\"arrowcolor\": \"#2a3f5f\", \"arrowhead\": 0, \"arrowwidth\": 1}, \"autotypenumbers\": \"strict\", \"coloraxis\": {\"colorbar\": {\"outlinewidth\": 0, \"ticks\": \"\"}}, \"colorscale\": {\"diverging\": [[0, \"#8e0152\"], [0.1, \"#c51b7d\"], [0.2, \"#de77ae\"], [0.3, \"#f1b6da\"], [0.4, \"#fde0ef\"], [0.5, \"#f7f7f7\"], [0.6, \"#e6f5d0\"], [0.7, \"#b8e186\"], [0.8, \"#7fbc41\"], [0.9, \"#4d9221\"], [1, \"#276419\"]], \"sequential\": [[0.0, \"#0d0887\"], [0.1111111111111111, \"#46039f\"], [0.2222222222222222, \"#7201a8\"], [0.3333333333333333, \"#9c179e\"], [0.4444444444444444, \"#bd3786\"], [0.5555555555555556, \"#d8576b\"], [0.6666666666666666, \"#ed7953\"], [0.7777777777777778, \"#fb9f3a\"], [0.8888888888888888, \"#fdca26\"], [1.0, \"#f0f921\"]], \"sequentialminus\": [[0.0, \"#0d0887\"], [0.1111111111111111, \"#46039f\"], [0.2222222222222222, \"#7201a8\"], [0.3333333333333333, \"#9c179e\"], [0.4444444444444444, \"#bd3786\"], [0.5555555555555556, \"#d8576b\"], [0.6666666666666666, \"#ed7953\"], [0.7777777777777778, \"#fb9f3a\"], [0.8888888888888888, \"#fdca26\"], [1.0, \"#f0f921\"]]}, \"colorway\": [\"#636efa\", \"#EF553B\", \"#00cc96\", \"#ab63fa\", \"#FFA15A\", \"#19d3f3\", \"#FF6692\", \"#B6E880\", \"#FF97FF\", \"#FECB52\"], \"font\": {\"color\": \"#2a3f5f\"}, \"geo\": {\"bgcolor\": \"white\", \"lakecolor\": \"white\", \"landcolor\": \"#E5ECF6\", \"showlakes\": true, \"showland\": true, \"subunitcolor\": \"white\"}, \"hoverlabel\": {\"align\": \"left\"}, \"hovermode\": \"closest\", \"mapbox\": {\"style\": \"light\"}, \"paper_bgcolor\": \"white\", \"plot_bgcolor\": \"#E5ECF6\", \"polar\": {\"angularaxis\": {\"gridcolor\": \"white\", \"linecolor\": \"white\", \"ticks\": \"\"}, \"bgcolor\": \"#E5ECF6\", \"radialaxis\": {\"gridcolor\": \"white\", \"linecolor\": \"white\", \"ticks\": \"\"}}, \"scene\": {\"xaxis\": {\"backgroundcolor\": \"#E5ECF6\", \"gridcolor\": \"white\", \"gridwidth\": 2, \"linecolor\": \"white\", \"showbackground\": true, \"ticks\": \"\", \"zerolinecolor\": \"white\"}, \"yaxis\": {\"backgroundcolor\": \"#E5ECF6\", \"gridcolor\": \"white\", \"gridwidth\": 2, \"linecolor\": \"white\", \"showbackground\": true, \"ticks\": \"\", \"zerolinecolor\": \"white\"}, \"zaxis\": {\"backgroundcolor\": \"#E5ECF6\", \"gridcolor\": \"white\", \"gridwidth\": 2, \"linecolor\": \"white\", \"showbackground\": true, \"ticks\": \"\", \"zerolinecolor\": \"white\"}}, \"shapedefaults\": {\"line\": {\"color\": \"#2a3f5f\"}}, \"ternary\": {\"aaxis\": {\"gridcolor\": \"white\", \"linecolor\": \"white\", \"ticks\": \"\"}, \"baxis\": {\"gridcolor\": \"white\", \"linecolor\": \"white\", \"ticks\": \"\"}, \"bgcolor\": \"#E5ECF6\", \"caxis\": {\"gridcolor\": \"white\", \"linecolor\": \"white\", \"ticks\": \"\"}}, \"title\": {\"x\": 0.05}, \"xaxis\": {\"automargin\": true, \"gridcolor\": \"white\", \"linecolor\": \"white\", \"ticks\": \"\", \"title\": {\"standoff\": 15}, \"zerolinecolor\": \"white\", \"zerolinewidth\": 2}, \"yaxis\": {\"automargin\": true, \"gridcolor\": \"white\", \"linecolor\": \"white\", \"ticks\": \"\", \"title\": {\"standoff\": 15}, \"zerolinecolor\": \"white\", \"zerolinewidth\": 2}}}, \"width\": 550, \"xaxis\": {\"dtick\": 0.5, \"mirror\": \"all\", \"range\": [-0.05, 4.05], \"showline\": true, \"tickformat\": \".1f\", \"zeroline\": false}, \"yaxis\": {\"mirror\": \"all\", \"range\": [-3.2188758248682006, 0.5306282510621704], \"showline\": true, \"tickformat\": \"\", \"ticktext\": [\"0.001\", \"\", \"\", \"\", \"\", \"\", \"\", \"\", \"\", \"0.01\", \"\", \"\", \"\", \"\", \"\", \"\", \"\", \"\", \"0.1\", \"\", \"\", \"\", \"\", \"\", \"\", \"\", \"\", \"1\", \"\"], \"tickvals\": [0.001, 0.002, 0.003, 0.004, 0.005, 0.006, 0.007, 0.008, 0.009, 0.01, 0.02, 0.03, 0.04, 0.05, 0.06, 0.07, 0.08, 0.09, 0.1, 0.2, 0.3, 0.4, 0.5, 0.6, 0.7, 0.8, 0.9, 1.0], \"type\": \"log\", \"zeroline\": false}},                        {\"responsive\": true}                    ).then(function(){\n",
       "                            \n",
       "var gd = document.getElementById('de13252a-cd8f-4beb-89a9-9e4f758a91c6');\n",
       "var x = new MutationObserver(function (mutations, observer) {{\n",
       "        var display = window.getComputedStyle(gd).display;\n",
       "        if (!display || display === 'none') {{\n",
       "            console.log([gd, 'removed!']);\n",
       "            Plotly.purge(gd);\n",
       "            observer.disconnect();\n",
       "        }}\n",
       "}});\n",
       "\n",
       "// Listen for the removal of the full notebook cells\n",
       "var notebookContainer = gd.closest('#notebook-container');\n",
       "if (notebookContainer) {{\n",
       "    x.observe(notebookContainer, {childList: true});\n",
       "}}\n",
       "\n",
       "// Listen for the clearing of the current output cell\n",
       "var outputEl = gd.closest('.output');\n",
       "if (outputEl) {{\n",
       "    x.observe(outputEl, {childList: true});\n",
       "}}\n",
       "\n",
       "                        })                };                });            </script>        </div>"
      ]
     },
     "metadata": {},
     "output_type": "display_data"
    }
   ],
   "source": [
    "# plastic strain\n",
    "\n",
    "f = plot_front(front_data_all, \n",
    "                np.array([gdata_all[ti]['j0_idx'] for ti in range(n)]) - np.array(skipped_lines_all),\n",
    "               'xcoord', 'peeq',  [xcorr, np.ones(n)],\n",
    "               xrange=[-0.05, 4.05], yrange=[np.log(0.04), np.log(1.7)], ylog=True,\n",
    "               ylab=r'$\\LARGE{\\varepsilon_{\\textrm{eq}}^\\textrm{p}}$', xlab = r'r (mm)',\n",
    "               figsize=[550,500]\n",
    "              )\n",
    "\n",
    "py.iplot(f)\n",
    "# pio.write_image(f, 'images/fig5.svg',width=450, height=400,)\\\n"
   ]
  },
  {
   "cell_type": "markdown",
   "metadata": {},
   "source": [
    "### Maximum principal stress"
   ]
  },
  {
   "cell_type": "code",
   "execution_count": 130,
   "metadata": {
    "code_folding": [
     0
    ],
    "scrolled": false
   },
   "outputs": [
    {
     "data": {
      "application/vnd.plotly.v1+json": {
       "config": {
        "linkText": "Export to plot.ly",
        "plotlyServerURL": "https://plot.ly",
        "showLink": false
       },
       "data": [
        {
         "line": {
          "color": "black",
          "width": 1.5
         },
         "mode": "lines",
         "name": "T = -91°C",
         "type": "scatter",
         "uid": "f868f0c6-1343-4eab-b2e7-12ae9dea6af0",
         "x": [
          0,
          0.08651300767402469,
          0.19649578543361285,
          0.32533469938815135,
          0.5015372420845315,
          0.7601856578930685,
          1.12450298603002,
          1.6073890291678807,
          2.188161248657831,
          2.844331706282876,
          3.601156902465027,
          4.462890451933066,
          5.409187135111428,
          6.433321785571067,
          7.544724486837884,
          8.824001768398176,
          10.413251941740084,
          12.446543427205402,
          14.823900367390742,
          17.385085594981994,
          20.28528709871247,
          23.5468867416189
         ],
         "y": [
          2.044165550111897,
          2.2853959119033993,
          2.5574494897878224,
          2.822106965050517,
          3.095873570836886,
          3.363937402493028,
          3.521025426228933,
          3.4872561222747303,
          3.3764639703169688,
          3.273044938310202,
          3.170846654145953,
          3.0647164907915636,
          2.959556523388925,
          2.8549733793677823,
          2.749281117479827,
          2.6354043661658664,
          2.505643733967365,
          2.3498946545366404,
          2.1909390856570514,
          2.041065150176924,
          1.8928217513437748,
          1.7503264762932673
         ]
        },
        {
         "line": {
          "color": "blue",
          "width": 1.5
         },
         "mode": "lines",
         "name": "T = -60°C",
         "type": "scatter",
         "uid": "b86050f9-c369-4184-bc49-84b9ecc444bc",
         "x": [
          0,
          0.17569017432924297,
          0.4238135600025453,
          0.7367214576888591,
          1.097690164588866,
          1.455255625692281,
          1.8020329888140847,
          2.182546459846484,
          2.5986506165550365,
          3.052859654570371,
          3.5486150584058946,
          4.090964338681271,
          4.684065955850202,
          5.332819245504689,
          6.042577627998923,
          6.818345595396148,
          7.6662413423868685,
          8.592239668473526,
          9.603127945890897,
          10.70641052281405,
          11.911981667219031,
          13.23336832517937,
          14.684001845976562,
          16.271004190617518,
          17.989308729124165,
          23.77974981811998,
          33.578277606938784,
          111.86210822058248,
          121.64978577350486
         ],
         "y": [
          2.340847235389042,
          2.8061565447223056,
          3.2469071058086563,
          3.538736977809394,
          3.6774742301566192,
          3.6350790612727635,
          3.511002390243793,
          3.4159504074622737,
          3.3450038337487937,
          3.2735768056749674,
          3.200367345611967,
          3.126185548101921,
          3.0493274135230277,
          2.96880379747664,
          2.884398898842255,
          2.795188111887467,
          2.7015490324905085,
          2.603617684816073,
          2.5018346347833167,
          2.3964416782344458,
          2.287812153300572,
          2.1768935232218793,
          2.0657021725195808,
          1.95761427923299,
          1.8592903214459946,
          1.6115855006027737,
          1.3272200386424144,
          0.013169458269402919,
          0.0009177863741326612
         ]
        },
        {
         "line": {
          "color": "green",
          "width": 1.5
         },
         "mode": "lines",
         "name": "T = -40°C",
         "type": "scatter",
         "uid": "3a32db8c-328a-4ab2-aa75-5dab89e3c2b0",
         "x": [
          0,
          0.10949048202599279,
          0.39632439312456463,
          0.888951375989923,
          1.4156124796752554,
          1.9532733795744792,
          2.5513068378427777,
          3.211733987397423,
          3.944526482924824,
          4.760558898273347,
          5.679251684517647,
          6.722024456813594,
          7.898213970485544,
          10.774813363828807,
          15.285520689622446,
          19.79427278900699,
          24.299290186261786,
          37.7960643064265,
          42.295721307683316,
          46.799552387791024,
          51.30799692347076,
          55.8203958496408
         ],
         "y": [
          2.2715668425517914,
          2.6171335229320234,
          3.3227967293447427,
          3.675457902384753,
          3.6470750053530563,
          3.4690030518724737,
          3.322046508209694,
          3.1785131123846577,
          3.029794792382166,
          2.871224365771413,
          2.7029454020535777,
          2.53845038672429,
          2.3794673150302477,
          2.0392856647020303,
          1.6601895186746243,
          1.3866806632932493,
          1.0946861761928102,
          0.1752597091933806,
          0.044459018122607455,
          -0.004509680432121994,
          -0.014055175139796637,
          -0.0067922660412802465
         ]
        }
       ],
       "layout": {
        "annotations": [
         {
          "font": {
           "size": 13
          },
          "showarrow": false,
          "text": "r (mm)",
          "x": 0.5,
          "xref": "paper",
          "y": -0.22,
          "yref": "paper"
         },
         {
          "font": {
           "size": 13
          },
          "showarrow": false,
          "text": "$\\LARGE{\\sigma_\\mathrm{I}/\\sigma_0}$",
          "textangle": -90,
          "x": -0.22,
          "xref": "paper",
          "y": 0.5,
          "yref": "paper"
         }
        ],
        "height": 400,
        "legend": {
         "x": 0.5,
         "y": 0.65
        },
        "margin": {
         "b": 80,
         "l": 80,
         "r": 20,
         "t": 20
        },
        "showlegend": true,
        "template": {
         "data": {
          "bar": [
           {
            "error_x": {
             "color": "#2a3f5f"
            },
            "error_y": {
             "color": "#2a3f5f"
            },
            "marker": {
             "line": {
              "color": "#E5ECF6",
              "width": 0.5
             }
            },
            "type": "bar"
           }
          ],
          "barpolar": [
           {
            "marker": {
             "line": {
              "color": "#E5ECF6",
              "width": 0.5
             }
            },
            "type": "barpolar"
           }
          ],
          "carpet": [
           {
            "aaxis": {
             "endlinecolor": "#2a3f5f",
             "gridcolor": "white",
             "linecolor": "white",
             "minorgridcolor": "white",
             "startlinecolor": "#2a3f5f"
            },
            "baxis": {
             "endlinecolor": "#2a3f5f",
             "gridcolor": "white",
             "linecolor": "white",
             "minorgridcolor": "white",
             "startlinecolor": "#2a3f5f"
            },
            "type": "carpet"
           }
          ],
          "choropleth": [
           {
            "colorbar": {
             "outlinewidth": 0,
             "ticks": ""
            },
            "type": "choropleth"
           }
          ],
          "contour": [
           {
            "colorbar": {
             "outlinewidth": 0,
             "ticks": ""
            },
            "colorscale": [
             [
              0,
              "#0d0887"
             ],
             [
              0.1111111111111111,
              "#46039f"
             ],
             [
              0.2222222222222222,
              "#7201a8"
             ],
             [
              0.3333333333333333,
              "#9c179e"
             ],
             [
              0.4444444444444444,
              "#bd3786"
             ],
             [
              0.5555555555555556,
              "#d8576b"
             ],
             [
              0.6666666666666666,
              "#ed7953"
             ],
             [
              0.7777777777777778,
              "#fb9f3a"
             ],
             [
              0.8888888888888888,
              "#fdca26"
             ],
             [
              1,
              "#f0f921"
             ]
            ],
            "type": "contour"
           }
          ],
          "contourcarpet": [
           {
            "colorbar": {
             "outlinewidth": 0,
             "ticks": ""
            },
            "type": "contourcarpet"
           }
          ],
          "heatmap": [
           {
            "colorbar": {
             "outlinewidth": 0,
             "ticks": ""
            },
            "colorscale": [
             [
              0,
              "#0d0887"
             ],
             [
              0.1111111111111111,
              "#46039f"
             ],
             [
              0.2222222222222222,
              "#7201a8"
             ],
             [
              0.3333333333333333,
              "#9c179e"
             ],
             [
              0.4444444444444444,
              "#bd3786"
             ],
             [
              0.5555555555555556,
              "#d8576b"
             ],
             [
              0.6666666666666666,
              "#ed7953"
             ],
             [
              0.7777777777777778,
              "#fb9f3a"
             ],
             [
              0.8888888888888888,
              "#fdca26"
             ],
             [
              1,
              "#f0f921"
             ]
            ],
            "type": "heatmap"
           }
          ],
          "heatmapgl": [
           {
            "colorbar": {
             "outlinewidth": 0,
             "ticks": ""
            },
            "colorscale": [
             [
              0,
              "#0d0887"
             ],
             [
              0.1111111111111111,
              "#46039f"
             ],
             [
              0.2222222222222222,
              "#7201a8"
             ],
             [
              0.3333333333333333,
              "#9c179e"
             ],
             [
              0.4444444444444444,
              "#bd3786"
             ],
             [
              0.5555555555555556,
              "#d8576b"
             ],
             [
              0.6666666666666666,
              "#ed7953"
             ],
             [
              0.7777777777777778,
              "#fb9f3a"
             ],
             [
              0.8888888888888888,
              "#fdca26"
             ],
             [
              1,
              "#f0f921"
             ]
            ],
            "type": "heatmapgl"
           }
          ],
          "histogram": [
           {
            "marker": {
             "colorbar": {
              "outlinewidth": 0,
              "ticks": ""
             }
            },
            "type": "histogram"
           }
          ],
          "histogram2d": [
           {
            "colorbar": {
             "outlinewidth": 0,
             "ticks": ""
            },
            "colorscale": [
             [
              0,
              "#0d0887"
             ],
             [
              0.1111111111111111,
              "#46039f"
             ],
             [
              0.2222222222222222,
              "#7201a8"
             ],
             [
              0.3333333333333333,
              "#9c179e"
             ],
             [
              0.4444444444444444,
              "#bd3786"
             ],
             [
              0.5555555555555556,
              "#d8576b"
             ],
             [
              0.6666666666666666,
              "#ed7953"
             ],
             [
              0.7777777777777778,
              "#fb9f3a"
             ],
             [
              0.8888888888888888,
              "#fdca26"
             ],
             [
              1,
              "#f0f921"
             ]
            ],
            "type": "histogram2d"
           }
          ],
          "histogram2dcontour": [
           {
            "colorbar": {
             "outlinewidth": 0,
             "ticks": ""
            },
            "colorscale": [
             [
              0,
              "#0d0887"
             ],
             [
              0.1111111111111111,
              "#46039f"
             ],
             [
              0.2222222222222222,
              "#7201a8"
             ],
             [
              0.3333333333333333,
              "#9c179e"
             ],
             [
              0.4444444444444444,
              "#bd3786"
             ],
             [
              0.5555555555555556,
              "#d8576b"
             ],
             [
              0.6666666666666666,
              "#ed7953"
             ],
             [
              0.7777777777777778,
              "#fb9f3a"
             ],
             [
              0.8888888888888888,
              "#fdca26"
             ],
             [
              1,
              "#f0f921"
             ]
            ],
            "type": "histogram2dcontour"
           }
          ],
          "mesh3d": [
           {
            "colorbar": {
             "outlinewidth": 0,
             "ticks": ""
            },
            "type": "mesh3d"
           }
          ],
          "parcoords": [
           {
            "line": {
             "colorbar": {
              "outlinewidth": 0,
              "ticks": ""
             }
            },
            "type": "parcoords"
           }
          ],
          "pie": [
           {
            "automargin": true,
            "type": "pie"
           }
          ],
          "scatter": [
           {
            "marker": {
             "colorbar": {
              "outlinewidth": 0,
              "ticks": ""
             }
            },
            "type": "scatter"
           }
          ],
          "scatter3d": [
           {
            "line": {
             "colorbar": {
              "outlinewidth": 0,
              "ticks": ""
             }
            },
            "marker": {
             "colorbar": {
              "outlinewidth": 0,
              "ticks": ""
             }
            },
            "type": "scatter3d"
           }
          ],
          "scattercarpet": [
           {
            "marker": {
             "colorbar": {
              "outlinewidth": 0,
              "ticks": ""
             }
            },
            "type": "scattercarpet"
           }
          ],
          "scattergeo": [
           {
            "marker": {
             "colorbar": {
              "outlinewidth": 0,
              "ticks": ""
             }
            },
            "type": "scattergeo"
           }
          ],
          "scattergl": [
           {
            "marker": {
             "colorbar": {
              "outlinewidth": 0,
              "ticks": ""
             }
            },
            "type": "scattergl"
           }
          ],
          "scattermapbox": [
           {
            "marker": {
             "colorbar": {
              "outlinewidth": 0,
              "ticks": ""
             }
            },
            "type": "scattermapbox"
           }
          ],
          "scatterpolar": [
           {
            "marker": {
             "colorbar": {
              "outlinewidth": 0,
              "ticks": ""
             }
            },
            "type": "scatterpolar"
           }
          ],
          "scatterpolargl": [
           {
            "marker": {
             "colorbar": {
              "outlinewidth": 0,
              "ticks": ""
             }
            },
            "type": "scatterpolargl"
           }
          ],
          "scatterternary": [
           {
            "marker": {
             "colorbar": {
              "outlinewidth": 0,
              "ticks": ""
             }
            },
            "type": "scatterternary"
           }
          ],
          "surface": [
           {
            "colorbar": {
             "outlinewidth": 0,
             "ticks": ""
            },
            "colorscale": [
             [
              0,
              "#0d0887"
             ],
             [
              0.1111111111111111,
              "#46039f"
             ],
             [
              0.2222222222222222,
              "#7201a8"
             ],
             [
              0.3333333333333333,
              "#9c179e"
             ],
             [
              0.4444444444444444,
              "#bd3786"
             ],
             [
              0.5555555555555556,
              "#d8576b"
             ],
             [
              0.6666666666666666,
              "#ed7953"
             ],
             [
              0.7777777777777778,
              "#fb9f3a"
             ],
             [
              0.8888888888888888,
              "#fdca26"
             ],
             [
              1,
              "#f0f921"
             ]
            ],
            "type": "surface"
           }
          ],
          "table": [
           {
            "cells": {
             "fill": {
              "color": "#EBF0F8"
             },
             "line": {
              "color": "white"
             }
            },
            "header": {
             "fill": {
              "color": "#C8D4E3"
             },
             "line": {
              "color": "white"
             }
            },
            "type": "table"
           }
          ]
         },
         "layout": {
          "annotationdefaults": {
           "arrowcolor": "#2a3f5f",
           "arrowhead": 0,
           "arrowwidth": 1
          },
          "autotypenumbers": "strict",
          "coloraxis": {
           "colorbar": {
            "outlinewidth": 0,
            "ticks": ""
           }
          },
          "colorscale": {
           "diverging": [
            [
             0,
             "#8e0152"
            ],
            [
             0.1,
             "#c51b7d"
            ],
            [
             0.2,
             "#de77ae"
            ],
            [
             0.3,
             "#f1b6da"
            ],
            [
             0.4,
             "#fde0ef"
            ],
            [
             0.5,
             "#f7f7f7"
            ],
            [
             0.6,
             "#e6f5d0"
            ],
            [
             0.7,
             "#b8e186"
            ],
            [
             0.8,
             "#7fbc41"
            ],
            [
             0.9,
             "#4d9221"
            ],
            [
             1,
             "#276419"
            ]
           ],
           "sequential": [
            [
             0,
             "#0d0887"
            ],
            [
             0.1111111111111111,
             "#46039f"
            ],
            [
             0.2222222222222222,
             "#7201a8"
            ],
            [
             0.3333333333333333,
             "#9c179e"
            ],
            [
             0.4444444444444444,
             "#bd3786"
            ],
            [
             0.5555555555555556,
             "#d8576b"
            ],
            [
             0.6666666666666666,
             "#ed7953"
            ],
            [
             0.7777777777777778,
             "#fb9f3a"
            ],
            [
             0.8888888888888888,
             "#fdca26"
            ],
            [
             1,
             "#f0f921"
            ]
           ],
           "sequentialminus": [
            [
             0,
             "#0d0887"
            ],
            [
             0.1111111111111111,
             "#46039f"
            ],
            [
             0.2222222222222222,
             "#7201a8"
            ],
            [
             0.3333333333333333,
             "#9c179e"
            ],
            [
             0.4444444444444444,
             "#bd3786"
            ],
            [
             0.5555555555555556,
             "#d8576b"
            ],
            [
             0.6666666666666666,
             "#ed7953"
            ],
            [
             0.7777777777777778,
             "#fb9f3a"
            ],
            [
             0.8888888888888888,
             "#fdca26"
            ],
            [
             1,
             "#f0f921"
            ]
           ]
          },
          "colorway": [
           "#636efa",
           "#EF553B",
           "#00cc96",
           "#ab63fa",
           "#FFA15A",
           "#19d3f3",
           "#FF6692",
           "#B6E880",
           "#FF97FF",
           "#FECB52"
          ],
          "font": {
           "color": "#2a3f5f"
          },
          "geo": {
           "bgcolor": "white",
           "lakecolor": "white",
           "landcolor": "#E5ECF6",
           "showlakes": true,
           "showland": true,
           "subunitcolor": "white"
          },
          "hoverlabel": {
           "align": "left"
          },
          "hovermode": "closest",
          "mapbox": {
           "style": "light"
          },
          "paper_bgcolor": "white",
          "plot_bgcolor": "#E5ECF6",
          "polar": {
           "angularaxis": {
            "gridcolor": "white",
            "linecolor": "white",
            "ticks": ""
           },
           "bgcolor": "#E5ECF6",
           "radialaxis": {
            "gridcolor": "white",
            "linecolor": "white",
            "ticks": ""
           }
          },
          "scene": {
           "xaxis": {
            "backgroundcolor": "#E5ECF6",
            "gridcolor": "white",
            "gridwidth": 2,
            "linecolor": "white",
            "showbackground": true,
            "ticks": "",
            "zerolinecolor": "white"
           },
           "yaxis": {
            "backgroundcolor": "#E5ECF6",
            "gridcolor": "white",
            "gridwidth": 2,
            "linecolor": "white",
            "showbackground": true,
            "ticks": "",
            "zerolinecolor": "white"
           },
           "zaxis": {
            "backgroundcolor": "#E5ECF6",
            "gridcolor": "white",
            "gridwidth": 2,
            "linecolor": "white",
            "showbackground": true,
            "ticks": "",
            "zerolinecolor": "white"
           }
          },
          "shapedefaults": {
           "line": {
            "color": "#2a3f5f"
           }
          },
          "ternary": {
           "aaxis": {
            "gridcolor": "white",
            "linecolor": "white",
            "ticks": ""
           },
           "baxis": {
            "gridcolor": "white",
            "linecolor": "white",
            "ticks": ""
           },
           "bgcolor": "#E5ECF6",
           "caxis": {
            "gridcolor": "white",
            "linecolor": "white",
            "ticks": ""
           }
          },
          "title": {
           "x": 0.05
          },
          "xaxis": {
           "automargin": true,
           "gridcolor": "white",
           "linecolor": "white",
           "ticks": "",
           "title": {
            "standoff": 15
           },
           "zerolinecolor": "white",
           "zerolinewidth": 2
          },
          "yaxis": {
           "automargin": true,
           "gridcolor": "white",
           "linecolor": "white",
           "ticks": "",
           "title": {
            "standoff": 15
           },
           "zerolinecolor": "white",
           "zerolinewidth": 2
          }
         }
        },
        "width": 450,
        "xaxis": {
         "dtick": 0.5,
         "mirror": "all",
         "range": [
          -0.05,
          4.05
         ],
         "showline": true,
         "tickformat": ".1f",
         "zeroline": false
        },
        "yaxis": {
         "dtick": 0.2,
         "mirror": "all",
         "range": [
          1.6,
          4.05
         ],
         "showline": true,
         "tickformat": ".1f",
         "zeroline": false
        }
       }
      },
      "text/html": [
       "<div>                            <div id=\"4b71940a-cd57-42e8-8cbc-dccb09b5b2f0\" class=\"plotly-graph-div\" style=\"height:400px; width:450px;\"></div>            <script type=\"text/javascript\">                require([\"plotly\"], function(Plotly) {                    window.PLOTLYENV=window.PLOTLYENV || {};                                    if (document.getElementById(\"4b71940a-cd57-42e8-8cbc-dccb09b5b2f0\")) {                    Plotly.newPlot(                        \"4b71940a-cd57-42e8-8cbc-dccb09b5b2f0\",                        [{\"line\": {\"color\": \"black\", \"width\": 1.5}, \"mode\": \"lines\", \"name\": \"T = -91\\u00b0C\", \"type\": \"scatter\", \"uid\": \"f868f0c6-1343-4eab-b2e7-12ae9dea6af0\", \"x\": [0.0, 0.08651300767402469, 0.19649578543361285, 0.32533469938815135, 0.5015372420845315, 0.7601856578930685, 1.12450298603002, 1.6073890291678807, 2.188161248657831, 2.844331706282876, 3.601156902465027, 4.462890451933066, 5.409187135111428, 6.433321785571067, 7.544724486837884, 8.824001768398176, 10.413251941740084, 12.446543427205402, 14.823900367390742, 17.385085594981994, 20.28528709871247, 23.5468867416189], \"y\": [2.044165550111897, 2.2853959119033993, 2.5574494897878224, 2.822106965050517, 3.095873570836886, 3.363937402493028, 3.521025426228933, 3.4872561222747303, 3.3764639703169688, 3.273044938310202, 3.170846654145953, 3.0647164907915636, 2.959556523388925, 2.8549733793677823, 2.749281117479827, 2.6354043661658664, 2.505643733967365, 2.3498946545366404, 2.1909390856570514, 2.041065150176924, 1.8928217513437748, 1.7503264762932673]}, {\"line\": {\"color\": \"blue\", \"width\": 1.5}, \"mode\": \"lines\", \"name\": \"T = -60\\u00b0C\", \"type\": \"scatter\", \"uid\": \"b86050f9-c369-4184-bc49-84b9ecc444bc\", \"x\": [0.0, 0.17569017432924297, 0.4238135600025453, 0.7367214576888591, 1.097690164588866, 1.455255625692281, 1.8020329888140847, 2.182546459846484, 2.5986506165550365, 3.052859654570371, 3.5486150584058946, 4.090964338681271, 4.684065955850202, 5.332819245504689, 6.042577627998923, 6.818345595396148, 7.6662413423868685, 8.592239668473526, 9.603127945890897, 10.70641052281405, 11.911981667219031, 13.23336832517937, 14.684001845976562, 16.271004190617518, 17.989308729124165, 23.77974981811998, 33.578277606938784, 111.86210822058248, 121.64978577350486], \"y\": [2.340847235389042, 2.8061565447223056, 3.2469071058086563, 3.538736977809394, 3.6774742301566192, 3.6350790612727635, 3.511002390243793, 3.4159504074622737, 3.3450038337487937, 3.2735768056749674, 3.200367345611967, 3.126185548101921, 3.0493274135230277, 2.96880379747664, 2.884398898842255, 2.795188111887467, 2.7015490324905085, 2.603617684816073, 2.5018346347833167, 2.3964416782344458, 2.287812153300572, 2.1768935232218793, 2.0657021725195808, 1.95761427923299, 1.8592903214459946, 1.6115855006027737, 1.3272200386424144, 0.013169458269402919, 0.0009177863741326612]}, {\"line\": {\"color\": \"green\", \"width\": 1.5}, \"mode\": \"lines\", \"name\": \"T = -40\\u00b0C\", \"type\": \"scatter\", \"uid\": \"3a32db8c-328a-4ab2-aa75-5dab89e3c2b0\", \"x\": [0.0, 0.10949048202599279, 0.39632439312456463, 0.888951375989923, 1.4156124796752554, 1.9532733795744792, 2.5513068378427777, 3.211733987397423, 3.944526482924824, 4.760558898273347, 5.679251684517647, 6.722024456813594, 7.898213970485544, 10.774813363828807, 15.285520689622446, 19.79427278900699, 24.299290186261786, 37.7960643064265, 42.295721307683316, 46.799552387791024, 51.30799692347076, 55.8203958496408], \"y\": [2.2715668425517914, 2.6171335229320234, 3.3227967293447427, 3.675457902384753, 3.6470750053530563, 3.4690030518724737, 3.322046508209694, 3.1785131123846577, 3.029794792382166, 2.871224365771413, 2.7029454020535777, 2.53845038672429, 2.3794673150302477, 2.0392856647020303, 1.6601895186746243, 1.3866806632932493, 1.0946861761928102, 0.1752597091933806, 0.044459018122607455, -0.004509680432121994, -0.014055175139796637, -0.0067922660412802465]}],                        {\"annotations\": [{\"font\": {\"size\": 13}, \"showarrow\": false, \"text\": \"r (mm)\", \"x\": 0.5, \"xref\": \"paper\", \"y\": -0.22, \"yref\": \"paper\"}, {\"font\": {\"size\": 13}, \"showarrow\": false, \"text\": \"$\\\\LARGE{\\\\sigma_\\\\mathrm{I}/\\\\sigma_0}$\", \"textangle\": -90, \"x\": -0.22, \"xref\": \"paper\", \"y\": 0.5, \"yref\": \"paper\"}], \"height\": 400, \"legend\": {\"x\": 0.5, \"y\": 0.65}, \"margin\": {\"b\": 80, \"l\": 80, \"r\": 20, \"t\": 20}, \"showlegend\": true, \"template\": {\"data\": {\"bar\": [{\"error_x\": {\"color\": \"#2a3f5f\"}, \"error_y\": {\"color\": \"#2a3f5f\"}, \"marker\": {\"line\": {\"color\": \"#E5ECF6\", \"width\": 0.5}}, \"type\": \"bar\"}], \"barpolar\": [{\"marker\": {\"line\": {\"color\": \"#E5ECF6\", \"width\": 0.5}}, \"type\": \"barpolar\"}], \"carpet\": [{\"aaxis\": {\"endlinecolor\": \"#2a3f5f\", \"gridcolor\": \"white\", \"linecolor\": \"white\", \"minorgridcolor\": \"white\", \"startlinecolor\": \"#2a3f5f\"}, \"baxis\": {\"endlinecolor\": \"#2a3f5f\", \"gridcolor\": \"white\", \"linecolor\": \"white\", \"minorgridcolor\": \"white\", \"startlinecolor\": \"#2a3f5f\"}, \"type\": \"carpet\"}], \"choropleth\": [{\"colorbar\": {\"outlinewidth\": 0, \"ticks\": \"\"}, \"type\": \"choropleth\"}], \"contour\": [{\"colorbar\": {\"outlinewidth\": 0, \"ticks\": \"\"}, \"colorscale\": [[0.0, \"#0d0887\"], [0.1111111111111111, \"#46039f\"], [0.2222222222222222, \"#7201a8\"], [0.3333333333333333, \"#9c179e\"], [0.4444444444444444, \"#bd3786\"], [0.5555555555555556, \"#d8576b\"], [0.6666666666666666, \"#ed7953\"], [0.7777777777777778, \"#fb9f3a\"], [0.8888888888888888, \"#fdca26\"], [1.0, \"#f0f921\"]], \"type\": \"contour\"}], \"contourcarpet\": [{\"colorbar\": {\"outlinewidth\": 0, \"ticks\": \"\"}, \"type\": \"contourcarpet\"}], \"heatmap\": [{\"colorbar\": {\"outlinewidth\": 0, \"ticks\": \"\"}, \"colorscale\": [[0.0, \"#0d0887\"], [0.1111111111111111, \"#46039f\"], [0.2222222222222222, \"#7201a8\"], [0.3333333333333333, \"#9c179e\"], [0.4444444444444444, \"#bd3786\"], [0.5555555555555556, \"#d8576b\"], [0.6666666666666666, \"#ed7953\"], [0.7777777777777778, \"#fb9f3a\"], [0.8888888888888888, \"#fdca26\"], [1.0, \"#f0f921\"]], \"type\": \"heatmap\"}], \"heatmapgl\": [{\"colorbar\": {\"outlinewidth\": 0, \"ticks\": \"\"}, \"colorscale\": [[0.0, \"#0d0887\"], [0.1111111111111111, \"#46039f\"], [0.2222222222222222, \"#7201a8\"], [0.3333333333333333, \"#9c179e\"], [0.4444444444444444, \"#bd3786\"], [0.5555555555555556, \"#d8576b\"], [0.6666666666666666, \"#ed7953\"], [0.7777777777777778, \"#fb9f3a\"], [0.8888888888888888, \"#fdca26\"], [1.0, \"#f0f921\"]], \"type\": \"heatmapgl\"}], \"histogram\": [{\"marker\": {\"colorbar\": {\"outlinewidth\": 0, \"ticks\": \"\"}}, \"type\": \"histogram\"}], \"histogram2d\": [{\"colorbar\": {\"outlinewidth\": 0, \"ticks\": \"\"}, \"colorscale\": [[0.0, \"#0d0887\"], [0.1111111111111111, \"#46039f\"], [0.2222222222222222, \"#7201a8\"], [0.3333333333333333, \"#9c179e\"], [0.4444444444444444, \"#bd3786\"], [0.5555555555555556, \"#d8576b\"], [0.6666666666666666, \"#ed7953\"], [0.7777777777777778, \"#fb9f3a\"], [0.8888888888888888, \"#fdca26\"], [1.0, \"#f0f921\"]], \"type\": \"histogram2d\"}], \"histogram2dcontour\": [{\"colorbar\": {\"outlinewidth\": 0, \"ticks\": \"\"}, \"colorscale\": [[0.0, \"#0d0887\"], [0.1111111111111111, \"#46039f\"], [0.2222222222222222, \"#7201a8\"], [0.3333333333333333, \"#9c179e\"], [0.4444444444444444, \"#bd3786\"], [0.5555555555555556, \"#d8576b\"], [0.6666666666666666, \"#ed7953\"], [0.7777777777777778, \"#fb9f3a\"], [0.8888888888888888, \"#fdca26\"], [1.0, \"#f0f921\"]], \"type\": \"histogram2dcontour\"}], \"mesh3d\": [{\"colorbar\": {\"outlinewidth\": 0, \"ticks\": \"\"}, \"type\": \"mesh3d\"}], \"parcoords\": [{\"line\": {\"colorbar\": {\"outlinewidth\": 0, \"ticks\": \"\"}}, \"type\": \"parcoords\"}], \"pie\": [{\"automargin\": true, \"type\": \"pie\"}], \"scatter\": [{\"marker\": {\"colorbar\": {\"outlinewidth\": 0, \"ticks\": \"\"}}, \"type\": \"scatter\"}], \"scatter3d\": [{\"line\": {\"colorbar\": {\"outlinewidth\": 0, \"ticks\": \"\"}}, \"marker\": {\"colorbar\": {\"outlinewidth\": 0, \"ticks\": \"\"}}, \"type\": \"scatter3d\"}], \"scattercarpet\": [{\"marker\": {\"colorbar\": {\"outlinewidth\": 0, \"ticks\": \"\"}}, \"type\": \"scattercarpet\"}], \"scattergeo\": [{\"marker\": {\"colorbar\": {\"outlinewidth\": 0, \"ticks\": \"\"}}, \"type\": \"scattergeo\"}], \"scattergl\": [{\"marker\": {\"colorbar\": {\"outlinewidth\": 0, \"ticks\": \"\"}}, \"type\": \"scattergl\"}], \"scattermapbox\": [{\"marker\": {\"colorbar\": {\"outlinewidth\": 0, \"ticks\": \"\"}}, \"type\": \"scattermapbox\"}], \"scatterpolar\": [{\"marker\": {\"colorbar\": {\"outlinewidth\": 0, \"ticks\": \"\"}}, \"type\": \"scatterpolar\"}], \"scatterpolargl\": [{\"marker\": {\"colorbar\": {\"outlinewidth\": 0, \"ticks\": \"\"}}, \"type\": \"scatterpolargl\"}], \"scatterternary\": [{\"marker\": {\"colorbar\": {\"outlinewidth\": 0, \"ticks\": \"\"}}, \"type\": \"scatterternary\"}], \"surface\": [{\"colorbar\": {\"outlinewidth\": 0, \"ticks\": \"\"}, \"colorscale\": [[0.0, \"#0d0887\"], [0.1111111111111111, \"#46039f\"], [0.2222222222222222, \"#7201a8\"], [0.3333333333333333, \"#9c179e\"], [0.4444444444444444, \"#bd3786\"], [0.5555555555555556, \"#d8576b\"], [0.6666666666666666, \"#ed7953\"], [0.7777777777777778, \"#fb9f3a\"], [0.8888888888888888, \"#fdca26\"], [1.0, \"#f0f921\"]], \"type\": \"surface\"}], \"table\": [{\"cells\": {\"fill\": {\"color\": \"#EBF0F8\"}, \"line\": {\"color\": \"white\"}}, \"header\": {\"fill\": {\"color\": \"#C8D4E3\"}, \"line\": {\"color\": \"white\"}}, \"type\": \"table\"}]}, \"layout\": {\"annotationdefaults\": {\"arrowcolor\": \"#2a3f5f\", \"arrowhead\": 0, \"arrowwidth\": 1}, \"autotypenumbers\": \"strict\", \"coloraxis\": {\"colorbar\": {\"outlinewidth\": 0, \"ticks\": \"\"}}, \"colorscale\": {\"diverging\": [[0, \"#8e0152\"], [0.1, \"#c51b7d\"], [0.2, \"#de77ae\"], [0.3, \"#f1b6da\"], [0.4, \"#fde0ef\"], [0.5, \"#f7f7f7\"], [0.6, \"#e6f5d0\"], [0.7, \"#b8e186\"], [0.8, \"#7fbc41\"], [0.9, \"#4d9221\"], [1, \"#276419\"]], \"sequential\": [[0.0, \"#0d0887\"], [0.1111111111111111, \"#46039f\"], [0.2222222222222222, \"#7201a8\"], [0.3333333333333333, \"#9c179e\"], [0.4444444444444444, \"#bd3786\"], [0.5555555555555556, \"#d8576b\"], [0.6666666666666666, \"#ed7953\"], [0.7777777777777778, \"#fb9f3a\"], [0.8888888888888888, \"#fdca26\"], [1.0, \"#f0f921\"]], \"sequentialminus\": [[0.0, \"#0d0887\"], [0.1111111111111111, \"#46039f\"], [0.2222222222222222, \"#7201a8\"], [0.3333333333333333, \"#9c179e\"], [0.4444444444444444, \"#bd3786\"], [0.5555555555555556, \"#d8576b\"], [0.6666666666666666, \"#ed7953\"], [0.7777777777777778, \"#fb9f3a\"], [0.8888888888888888, \"#fdca26\"], [1.0, \"#f0f921\"]]}, \"colorway\": [\"#636efa\", \"#EF553B\", \"#00cc96\", \"#ab63fa\", \"#FFA15A\", \"#19d3f3\", \"#FF6692\", \"#B6E880\", \"#FF97FF\", \"#FECB52\"], \"font\": {\"color\": \"#2a3f5f\"}, \"geo\": {\"bgcolor\": \"white\", \"lakecolor\": \"white\", \"landcolor\": \"#E5ECF6\", \"showlakes\": true, \"showland\": true, \"subunitcolor\": \"white\"}, \"hoverlabel\": {\"align\": \"left\"}, \"hovermode\": \"closest\", \"mapbox\": {\"style\": \"light\"}, \"paper_bgcolor\": \"white\", \"plot_bgcolor\": \"#E5ECF6\", \"polar\": {\"angularaxis\": {\"gridcolor\": \"white\", \"linecolor\": \"white\", \"ticks\": \"\"}, \"bgcolor\": \"#E5ECF6\", \"radialaxis\": {\"gridcolor\": \"white\", \"linecolor\": \"white\", \"ticks\": \"\"}}, \"scene\": {\"xaxis\": {\"backgroundcolor\": \"#E5ECF6\", \"gridcolor\": \"white\", \"gridwidth\": 2, \"linecolor\": \"white\", \"showbackground\": true, \"ticks\": \"\", \"zerolinecolor\": \"white\"}, \"yaxis\": {\"backgroundcolor\": \"#E5ECF6\", \"gridcolor\": \"white\", \"gridwidth\": 2, \"linecolor\": \"white\", \"showbackground\": true, \"ticks\": \"\", \"zerolinecolor\": \"white\"}, \"zaxis\": {\"backgroundcolor\": \"#E5ECF6\", \"gridcolor\": \"white\", \"gridwidth\": 2, \"linecolor\": \"white\", \"showbackground\": true, \"ticks\": \"\", \"zerolinecolor\": \"white\"}}, \"shapedefaults\": {\"line\": {\"color\": \"#2a3f5f\"}}, \"ternary\": {\"aaxis\": {\"gridcolor\": \"white\", \"linecolor\": \"white\", \"ticks\": \"\"}, \"baxis\": {\"gridcolor\": \"white\", \"linecolor\": \"white\", \"ticks\": \"\"}, \"bgcolor\": \"#E5ECF6\", \"caxis\": {\"gridcolor\": \"white\", \"linecolor\": \"white\", \"ticks\": \"\"}}, \"title\": {\"x\": 0.05}, \"xaxis\": {\"automargin\": true, \"gridcolor\": \"white\", \"linecolor\": \"white\", \"ticks\": \"\", \"title\": {\"standoff\": 15}, \"zerolinecolor\": \"white\", \"zerolinewidth\": 2}, \"yaxis\": {\"automargin\": true, \"gridcolor\": \"white\", \"linecolor\": \"white\", \"ticks\": \"\", \"title\": {\"standoff\": 15}, \"zerolinecolor\": \"white\", \"zerolinewidth\": 2}}}, \"width\": 450, \"xaxis\": {\"dtick\": 0.5, \"mirror\": \"all\", \"range\": [-0.05, 4.05], \"showline\": true, \"tickformat\": \".1f\", \"zeroline\": false}, \"yaxis\": {\"dtick\": 0.2, \"mirror\": \"all\", \"range\": [1.6, 4.05], \"showline\": true, \"tickformat\": \".1f\", \"zeroline\": false}},                        {\"responsive\": true}                    ).then(function(){\n",
       "                            \n",
       "var gd = document.getElementById('4b71940a-cd57-42e8-8cbc-dccb09b5b2f0');\n",
       "var x = new MutationObserver(function (mutations, observer) {{\n",
       "        var display = window.getComputedStyle(gd).display;\n",
       "        if (!display || display === 'none') {{\n",
       "            console.log([gd, 'removed!']);\n",
       "            Plotly.purge(gd);\n",
       "            observer.disconnect();\n",
       "        }}\n",
       "}});\n",
       "\n",
       "// Listen for the removal of the full notebook cells\n",
       "var notebookContainer = gd.closest('#notebook-container');\n",
       "if (notebookContainer) {{\n",
       "    x.observe(notebookContainer, {childList: true});\n",
       "}}\n",
       "\n",
       "// Listen for the clearing of the current output cell\n",
       "var outputEl = gd.closest('.output');\n",
       "if (outputEl) {{\n",
       "    x.observe(outputEl, {childList: true});\n",
       "}}\n",
       "\n",
       "                        })                };                });            </script>        </div>"
      ]
     },
     "metadata": {},
     "output_type": "display_data"
    }
   ],
   "source": [
    "# Max stress\n",
    "f = plot_front(front_data_all,\n",
    "               np.array([gdata_all[ti]['j0_idx'] for ti in range(n)]) - np.array(skipped_lines_all),\n",
    "           'xcoord', 'smax', \n",
    "               [xcorr, [s0(t) for t in temps]],\n",
    "#                [np.ones(4), [s0(t) for t in temps]],\n",
    "               xrange=[-0.05, 4.05], yrange=[1.6, 4.05], \n",
    "               ylab=r'$\\LARGE{\\sigma_\\mathrm{I}/\\sigma_0}$',\n",
    "               xlab = r'r (mm)',)\n",
    "py.iplot(f)"
   ]
  },
  {
   "cell_type": "markdown",
   "metadata": {},
   "source": [
    "## Weibull stress calculation"
   ]
  },
  {
   "cell_type": "markdown",
   "metadata": {},
   "source": [
    "### Extract data"
   ]
  },
  {
   "cell_type": "code",
   "execution_count": 132,
   "metadata": {
    "code_folding": []
   },
   "outputs": [
    {
     "name": "stdout",
     "output_type": "stream",
     "text": [
      "Current path:  ..\\fea-data\\ct-3d-fan\\ct40\\ct40_front.txt\n",
      "Current path:  ..\\fea-data\\ct-3d-fan\\ct91\\ehis-122.txt\n",
      "Current path:  ..\\fea-data\\ct-3d-fan\\ct60\\ehis-89.txt\n"
     ]
    }
   ],
   "source": [
    "# code\n",
    "\n",
    "data_labels = ['label', 'xcoord', 'ycoord', 'zcoord','vol', 's1', 's2', 's3', 'p1', 'p2', 'p3', 'peeq', 'sh', 'seq']\n",
    "sw_data_all = []\n",
    "skipped_lines_all = []\n",
    "for ip, path in enumerate(paths):\n",
    "\n",
    "    print('Current path: ', file_path)\n",
    "    sw_data_all.append({\n",
    "            'file_path': file_path,\n",
    "            'data': [],\n",
    "        })\n",
    "\n",
    "    skipped_lines = 0\n",
    "    \n",
    "    labels_0 = pd.Series(dtype=float)\n",
    "    smax_0 =  pd.Series(dtype=float)\n",
    "    \n",
    "    my_list = list(glob.iglob(path+'\\ehis*'))\n",
    "    my_sorted_list = sorted(my_list, key=lambda i: int(re.search('\\d+', Path(i).name).group()))\n",
    "    \n",
    "    for file_path in my_sorted_list:\n",
    "        with open(file_path, 'rb') as file:\n",
    "            line = file.readline()\n",
    "        frame_i, num_elem_i = [int(n) for n in line.strip().split()]\n",
    "\n",
    "        if num_elem_i == 0:\n",
    "            skipped_lines += 1\n",
    "        elif num_elem_i > 0:\n",
    "            data_i = pd.read_csv(file_path, delim_whitespace=True, skiprows=1, index_col=False,\n",
    "                                 nrows=num_elem_i, names=data_labels)\n",
    "\n",
    "            labels_i = data_i['label']\n",
    "            pl_elem_check = labels_i.isin(labels_0)\n",
    "            x_i = data_i['xcoord']\n",
    "            y_i = data_i['ycoord']\n",
    "            z_i = data_i['zcoord']\n",
    "            smin_i = np.min(data_i[['s1', 's2', 's3']], axis=1)\n",
    "            smax_i = np.max(data_i[['s1', 's2', 's3']], axis=1)\n",
    "            pmax_i = np.max(data_i[['p1', 'p2', 'p3']], axis=1)\n",
    "            vols_i = data_i['vol']\n",
    "            peeq_i = data_i['peeq']\n",
    "            sh_i = data_i['sh']\n",
    "            seq_i = data_i['seq']\n",
    "\n",
    "            smax_i_allt = smax_i.copy()\n",
    "            smax_i_allt[labels_i.isin(labels_0)] = np.max([smax_0.values[np.where(labels_0.isin(labels_i))], \n",
    "                                                      smax_i_allt[labels_i.isin(labels_0)].values], axis=0)\n",
    "\n",
    "            peeq_0 = np.zeros(len(labels_i))\n",
    "\n",
    "\n",
    "            sw_data_all[ip]['data'].append({\n",
    "                'frame_i': frame_i,\n",
    "                'num_elem_i': num_elem_i,\n",
    "                'elem_labels': labels_i,\n",
    "                'xcoord': x_i,\n",
    "                'ycoord': y_i,\n",
    "                'zcoord': z_i,\n",
    "                'smax': smax_i,\n",
    "                'smin': smin_i,\n",
    "                'smaxallt': smax_i_allt,\n",
    "                'vol': vols_i,\n",
    "                'peeq': peeq_i,\n",
    "                'pmax': pmax_i,\n",
    "            })\n",
    "\n",
    "\n",
    "            labels_0 = labels_i.copy()\n",
    "            smax_0 = smax_i_allt.copy()\n",
    "#             data_0 = data_i\n",
    "\n",
    "\n",
    "#         curr_line += num_elem_i + 1\n",
    "    skipped_lines_all.append(skipped_lines)"
   ]
  },
  {
   "cell_type": "markdown",
   "metadata": {},
   "source": [
    "### Original Beremin"
   ]
  },
  {
   "cell_type": "code",
   "execution_count": 133,
   "metadata": {},
   "outputs": [],
   "source": [
    "# USER INPUT\n",
    "sy_cut = 2\n",
    "plastic_strain_offset = 0.002\n",
    "unit_volume = (4 / 3) * np.pi * (10 * 1e-3) ** 3"
   ]
  },
  {
   "cell_type": "code",
   "execution_count": 134,
   "metadata": {
    "code_folding": [
     0
    ]
   },
   "outputs": [
    {
     "name": "stdout",
     "output_type": "stream",
     "text": [
      "path:  ..\\fea-data\\ct-3d-fan\\ct91\n",
      "Yield stress:  594.878208838533\n",
      "path:  ..\\fea-data\\ct-3d-fan\\ct60\n",
      "Yield stress:  544.7317406204324\n",
      "path:  ..\\fea-data\\ct-3d-fan\\ct40\n",
      "Yield stress:  520.35438854274\n"
     ]
    }
   ],
   "source": [
    "# code\n",
    "\n",
    "m_vals = np.arange(5, 26, 1)\n",
    "v0s = unit_volume * np.ones(len(paths))\n",
    "glob_sw_all = []\n",
    "for ip, path in enumerate(paths):\n",
    "    print('path: ', path)\n",
    "    glob_sw_all.append([])\n",
    "    num_frames = len(sw_data_all[ip]['data'])\n",
    "#     print(num_frames)\n",
    "    sy_ip = s0_all_temps[ip]\n",
    "    print('Yield stress: ', sy_ip)\n",
    "    for m in m_vals:\n",
    "        glob_sw = []\n",
    "        \n",
    "        for ti in range(num_frames):\n",
    "            data_i = sw_data_all[ip]['data'][ti]\n",
    "            peeq_i = data_i['peeq']\n",
    "            smax_i = data_i['smaxallt']\n",
    "            vols_i = data_i['vol']\n",
    "            pcut_idx = np.where(peeq_i>=plastic_strain_offset)[0]\n",
    "            scut_idx = np.where(smax_i>=(sy_cut*sy_ip))[0]\n",
    "            combcut_idx = np.intersect1d(pcut_idx, scut_idx)\n",
    "            \n",
    "            loc_sw_i = (smax_i.values ** m) * vols_i.values\n",
    "\n",
    "            loc_sw_i = loc_sw_i[combcut_idx]\n",
    "            glob_sw.append((sum(np.array(loc_sw_i)) / v0s[ip]) ** (1. / m))\n",
    "\n",
    "\n",
    "        glob_sw_all[ip].append(glob_sw)\n"
   ]
  },
  {
   "cell_type": "markdown",
   "metadata": {
    "code_folding": []
   },
   "source": [
    "### Weibull stress vs Shape parameter `m`"
   ]
  },
  {
   "cell_type": "code",
   "execution_count": 135,
   "metadata": {
    "code_folding": [
     0
    ]
   },
   "outputs": [
    {
     "name": "stdout",
     "output_type": "stream",
     "text": [
      "56.0808105469\n",
      "113.964439392\n",
      "236.860244751\n"
     ]
    },
    {
     "data": {
      "application/vnd.plotly.v1+json": {
       "config": {
        "linkText": "Export to plot.ly",
        "plotlyServerURL": "https://plot.ly",
        "showLink": false
       },
       "data": [
        {
         "line": {
          "color": "black",
          "dash": "solid",
          "width": 2
         },
         "mode": "lines",
         "name": "T = -91°C",
         "type": "scatter",
         "uid": "923f2f7c-9f3c-4d11-9745-0a2707a3476a",
         "x": [
          5,
          6,
          7,
          8,
          9,
          10,
          11,
          12,
          13,
          14,
          15,
          16,
          17,
          18,
          19,
          20,
          21,
          22,
          23,
          24,
          25
         ],
         "y": [
          30422.95076105844,
          18564.60413681139,
          13083.846560688886,
          10089.237071616035,
          8260.13510788777,
          7051.32612949666,
          6204.500914619165,
          5584.157799754209,
          5113.432456186828,
          4745.941309976312,
          4452.258296568246,
          4212.9290112644385,
          4014.6390514911727,
          3848.0043539817525,
          3706.2415756885052,
          3584.3383017322108,
          3478.5185475620574,
          3385.8888070093644,
          3304.19786179951,
          3231.6702064431847,
          3166.8882538448775
         ]
        },
        {
         "line": {
          "color": "blue",
          "dash": "solid",
          "width": 2
         },
         "mode": "lines",
         "name": "T = -60°C",
         "type": "scatter",
         "uid": "c88b05a0-1347-48ea-9285-eb486e4bb9da",
         "x": [
          5,
          6,
          7,
          8,
          9,
          10,
          11,
          12,
          13,
          14,
          15,
          16,
          17,
          18,
          19,
          20,
          21,
          22,
          23,
          24,
          25
         ],
         "y": [
          37610.96922054096,
          21836.950768500887,
          14859.312701380106,
          11165.233100831485,
          8961.9996069669,
          7532.795781532148,
          6546.416454820651,
          5832.612123897288,
          5296.423572913539,
          4881.36333019577,
          4552.036559124069,
          4285.295457129214,
          4065.449519701007,
          3881.5344412908275,
          3725.6852433981844,
          3592.1301984892816,
          3476.5481652907333,
          3375.6462661497826,
          3286.8753347085576,
          3208.233878163722,
          3138.130300837569
         ]
        },
        {
         "line": {
          "color": "green",
          "dash": "solid",
          "width": 2
         },
         "mode": "lines",
         "name": "T = -40°C",
         "type": "scatter",
         "uid": "1e224710-aecb-4694-b17f-097e7f1df0ee",
         "x": [
          5,
          6,
          7,
          8,
          9,
          10,
          11,
          12,
          13,
          14,
          15,
          16,
          17,
          18,
          19,
          20,
          21,
          22,
          23,
          24,
          25
         ],
         "y": [
          42145.925444355635,
          23933.689781330595,
          16030.21308242282,
          11902.261438586178,
          9464.704995188491,
          7895.40604347408,
          6818.645362856352,
          6042.999349923145,
          5462.477888988289,
          5014.4161883046145,
          4659.750280651458,
          4373.04373929222,
          4137.118432693208,
          3940.0085271076823,
          3773.1541509413255,
          3630.2887267235715,
          3506.730660931238,
          3398.919277658596,
          3304.102955803025,
          3220.1247650702167,
          3145.272110664307
         ]
        }
       ],
       "layout": {
        "annotations": [
         {
          "font": {
           "size": 11
          },
          "showarrow": false,
          "text": "$\\LARGE{m}$",
          "x": 0.5,
          "xref": "paper",
          "y": -0.2,
          "yref": "paper"
         },
         {
          "font": {
           "size": 11
          },
          "showarrow": false,
          "text": "$\\LARGE{\\sigma_\\mathrm{w}}\\;\\textrm{(MPa)}$ ",
          "textangle": -90,
          "x": -0.2,
          "xref": "paper",
          "y": 0.5,
          "yref": "paper"
         }
        ],
        "height": 420,
        "legend": {
         "x": 0.6,
         "y": 0.7
        },
        "margin": {
         "b": 80,
         "l": 80,
         "r": 20,
         "t": 40
        },
        "showlegend": true,
        "template": {
         "data": {
          "bar": [
           {
            "error_x": {
             "color": "#2a3f5f"
            },
            "error_y": {
             "color": "#2a3f5f"
            },
            "marker": {
             "line": {
              "color": "#E5ECF6",
              "width": 0.5
             }
            },
            "type": "bar"
           }
          ],
          "barpolar": [
           {
            "marker": {
             "line": {
              "color": "#E5ECF6",
              "width": 0.5
             }
            },
            "type": "barpolar"
           }
          ],
          "carpet": [
           {
            "aaxis": {
             "endlinecolor": "#2a3f5f",
             "gridcolor": "white",
             "linecolor": "white",
             "minorgridcolor": "white",
             "startlinecolor": "#2a3f5f"
            },
            "baxis": {
             "endlinecolor": "#2a3f5f",
             "gridcolor": "white",
             "linecolor": "white",
             "minorgridcolor": "white",
             "startlinecolor": "#2a3f5f"
            },
            "type": "carpet"
           }
          ],
          "choropleth": [
           {
            "colorbar": {
             "outlinewidth": 0,
             "ticks": ""
            },
            "type": "choropleth"
           }
          ],
          "contour": [
           {
            "colorbar": {
             "outlinewidth": 0,
             "ticks": ""
            },
            "colorscale": [
             [
              0,
              "#0d0887"
             ],
             [
              0.1111111111111111,
              "#46039f"
             ],
             [
              0.2222222222222222,
              "#7201a8"
             ],
             [
              0.3333333333333333,
              "#9c179e"
             ],
             [
              0.4444444444444444,
              "#bd3786"
             ],
             [
              0.5555555555555556,
              "#d8576b"
             ],
             [
              0.6666666666666666,
              "#ed7953"
             ],
             [
              0.7777777777777778,
              "#fb9f3a"
             ],
             [
              0.8888888888888888,
              "#fdca26"
             ],
             [
              1,
              "#f0f921"
             ]
            ],
            "type": "contour"
           }
          ],
          "contourcarpet": [
           {
            "colorbar": {
             "outlinewidth": 0,
             "ticks": ""
            },
            "type": "contourcarpet"
           }
          ],
          "heatmap": [
           {
            "colorbar": {
             "outlinewidth": 0,
             "ticks": ""
            },
            "colorscale": [
             [
              0,
              "#0d0887"
             ],
             [
              0.1111111111111111,
              "#46039f"
             ],
             [
              0.2222222222222222,
              "#7201a8"
             ],
             [
              0.3333333333333333,
              "#9c179e"
             ],
             [
              0.4444444444444444,
              "#bd3786"
             ],
             [
              0.5555555555555556,
              "#d8576b"
             ],
             [
              0.6666666666666666,
              "#ed7953"
             ],
             [
              0.7777777777777778,
              "#fb9f3a"
             ],
             [
              0.8888888888888888,
              "#fdca26"
             ],
             [
              1,
              "#f0f921"
             ]
            ],
            "type": "heatmap"
           }
          ],
          "heatmapgl": [
           {
            "colorbar": {
             "outlinewidth": 0,
             "ticks": ""
            },
            "colorscale": [
             [
              0,
              "#0d0887"
             ],
             [
              0.1111111111111111,
              "#46039f"
             ],
             [
              0.2222222222222222,
              "#7201a8"
             ],
             [
              0.3333333333333333,
              "#9c179e"
             ],
             [
              0.4444444444444444,
              "#bd3786"
             ],
             [
              0.5555555555555556,
              "#d8576b"
             ],
             [
              0.6666666666666666,
              "#ed7953"
             ],
             [
              0.7777777777777778,
              "#fb9f3a"
             ],
             [
              0.8888888888888888,
              "#fdca26"
             ],
             [
              1,
              "#f0f921"
             ]
            ],
            "type": "heatmapgl"
           }
          ],
          "histogram": [
           {
            "marker": {
             "colorbar": {
              "outlinewidth": 0,
              "ticks": ""
             }
            },
            "type": "histogram"
           }
          ],
          "histogram2d": [
           {
            "colorbar": {
             "outlinewidth": 0,
             "ticks": ""
            },
            "colorscale": [
             [
              0,
              "#0d0887"
             ],
             [
              0.1111111111111111,
              "#46039f"
             ],
             [
              0.2222222222222222,
              "#7201a8"
             ],
             [
              0.3333333333333333,
              "#9c179e"
             ],
             [
              0.4444444444444444,
              "#bd3786"
             ],
             [
              0.5555555555555556,
              "#d8576b"
             ],
             [
              0.6666666666666666,
              "#ed7953"
             ],
             [
              0.7777777777777778,
              "#fb9f3a"
             ],
             [
              0.8888888888888888,
              "#fdca26"
             ],
             [
              1,
              "#f0f921"
             ]
            ],
            "type": "histogram2d"
           }
          ],
          "histogram2dcontour": [
           {
            "colorbar": {
             "outlinewidth": 0,
             "ticks": ""
            },
            "colorscale": [
             [
              0,
              "#0d0887"
             ],
             [
              0.1111111111111111,
              "#46039f"
             ],
             [
              0.2222222222222222,
              "#7201a8"
             ],
             [
              0.3333333333333333,
              "#9c179e"
             ],
             [
              0.4444444444444444,
              "#bd3786"
             ],
             [
              0.5555555555555556,
              "#d8576b"
             ],
             [
              0.6666666666666666,
              "#ed7953"
             ],
             [
              0.7777777777777778,
              "#fb9f3a"
             ],
             [
              0.8888888888888888,
              "#fdca26"
             ],
             [
              1,
              "#f0f921"
             ]
            ],
            "type": "histogram2dcontour"
           }
          ],
          "mesh3d": [
           {
            "colorbar": {
             "outlinewidth": 0,
             "ticks": ""
            },
            "type": "mesh3d"
           }
          ],
          "parcoords": [
           {
            "line": {
             "colorbar": {
              "outlinewidth": 0,
              "ticks": ""
             }
            },
            "type": "parcoords"
           }
          ],
          "pie": [
           {
            "automargin": true,
            "type": "pie"
           }
          ],
          "scatter": [
           {
            "marker": {
             "colorbar": {
              "outlinewidth": 0,
              "ticks": ""
             }
            },
            "type": "scatter"
           }
          ],
          "scatter3d": [
           {
            "line": {
             "colorbar": {
              "outlinewidth": 0,
              "ticks": ""
             }
            },
            "marker": {
             "colorbar": {
              "outlinewidth": 0,
              "ticks": ""
             }
            },
            "type": "scatter3d"
           }
          ],
          "scattercarpet": [
           {
            "marker": {
             "colorbar": {
              "outlinewidth": 0,
              "ticks": ""
             }
            },
            "type": "scattercarpet"
           }
          ],
          "scattergeo": [
           {
            "marker": {
             "colorbar": {
              "outlinewidth": 0,
              "ticks": ""
             }
            },
            "type": "scattergeo"
           }
          ],
          "scattergl": [
           {
            "marker": {
             "colorbar": {
              "outlinewidth": 0,
              "ticks": ""
             }
            },
            "type": "scattergl"
           }
          ],
          "scattermapbox": [
           {
            "marker": {
             "colorbar": {
              "outlinewidth": 0,
              "ticks": ""
             }
            },
            "type": "scattermapbox"
           }
          ],
          "scatterpolar": [
           {
            "marker": {
             "colorbar": {
              "outlinewidth": 0,
              "ticks": ""
             }
            },
            "type": "scatterpolar"
           }
          ],
          "scatterpolargl": [
           {
            "marker": {
             "colorbar": {
              "outlinewidth": 0,
              "ticks": ""
             }
            },
            "type": "scatterpolargl"
           }
          ],
          "scatterternary": [
           {
            "marker": {
             "colorbar": {
              "outlinewidth": 0,
              "ticks": ""
             }
            },
            "type": "scatterternary"
           }
          ],
          "surface": [
           {
            "colorbar": {
             "outlinewidth": 0,
             "ticks": ""
            },
            "colorscale": [
             [
              0,
              "#0d0887"
             ],
             [
              0.1111111111111111,
              "#46039f"
             ],
             [
              0.2222222222222222,
              "#7201a8"
             ],
             [
              0.3333333333333333,
              "#9c179e"
             ],
             [
              0.4444444444444444,
              "#bd3786"
             ],
             [
              0.5555555555555556,
              "#d8576b"
             ],
             [
              0.6666666666666666,
              "#ed7953"
             ],
             [
              0.7777777777777778,
              "#fb9f3a"
             ],
             [
              0.8888888888888888,
              "#fdca26"
             ],
             [
              1,
              "#f0f921"
             ]
            ],
            "type": "surface"
           }
          ],
          "table": [
           {
            "cells": {
             "fill": {
              "color": "#EBF0F8"
             },
             "line": {
              "color": "white"
             }
            },
            "header": {
             "fill": {
              "color": "#C8D4E3"
             },
             "line": {
              "color": "white"
             }
            },
            "type": "table"
           }
          ]
         },
         "layout": {
          "annotationdefaults": {
           "arrowcolor": "#2a3f5f",
           "arrowhead": 0,
           "arrowwidth": 1
          },
          "autotypenumbers": "strict",
          "coloraxis": {
           "colorbar": {
            "outlinewidth": 0,
            "ticks": ""
           }
          },
          "colorscale": {
           "diverging": [
            [
             0,
             "#8e0152"
            ],
            [
             0.1,
             "#c51b7d"
            ],
            [
             0.2,
             "#de77ae"
            ],
            [
             0.3,
             "#f1b6da"
            ],
            [
             0.4,
             "#fde0ef"
            ],
            [
             0.5,
             "#f7f7f7"
            ],
            [
             0.6,
             "#e6f5d0"
            ],
            [
             0.7,
             "#b8e186"
            ],
            [
             0.8,
             "#7fbc41"
            ],
            [
             0.9,
             "#4d9221"
            ],
            [
             1,
             "#276419"
            ]
           ],
           "sequential": [
            [
             0,
             "#0d0887"
            ],
            [
             0.1111111111111111,
             "#46039f"
            ],
            [
             0.2222222222222222,
             "#7201a8"
            ],
            [
             0.3333333333333333,
             "#9c179e"
            ],
            [
             0.4444444444444444,
             "#bd3786"
            ],
            [
             0.5555555555555556,
             "#d8576b"
            ],
            [
             0.6666666666666666,
             "#ed7953"
            ],
            [
             0.7777777777777778,
             "#fb9f3a"
            ],
            [
             0.8888888888888888,
             "#fdca26"
            ],
            [
             1,
             "#f0f921"
            ]
           ],
           "sequentialminus": [
            [
             0,
             "#0d0887"
            ],
            [
             0.1111111111111111,
             "#46039f"
            ],
            [
             0.2222222222222222,
             "#7201a8"
            ],
            [
             0.3333333333333333,
             "#9c179e"
            ],
            [
             0.4444444444444444,
             "#bd3786"
            ],
            [
             0.5555555555555556,
             "#d8576b"
            ],
            [
             0.6666666666666666,
             "#ed7953"
            ],
            [
             0.7777777777777778,
             "#fb9f3a"
            ],
            [
             0.8888888888888888,
             "#fdca26"
            ],
            [
             1,
             "#f0f921"
            ]
           ]
          },
          "colorway": [
           "#636efa",
           "#EF553B",
           "#00cc96",
           "#ab63fa",
           "#FFA15A",
           "#19d3f3",
           "#FF6692",
           "#B6E880",
           "#FF97FF",
           "#FECB52"
          ],
          "font": {
           "color": "#2a3f5f"
          },
          "geo": {
           "bgcolor": "white",
           "lakecolor": "white",
           "landcolor": "#E5ECF6",
           "showlakes": true,
           "showland": true,
           "subunitcolor": "white"
          },
          "hoverlabel": {
           "align": "left"
          },
          "hovermode": "closest",
          "mapbox": {
           "style": "light"
          },
          "paper_bgcolor": "white",
          "plot_bgcolor": "#E5ECF6",
          "polar": {
           "angularaxis": {
            "gridcolor": "white",
            "linecolor": "white",
            "ticks": ""
           },
           "bgcolor": "#E5ECF6",
           "radialaxis": {
            "gridcolor": "white",
            "linecolor": "white",
            "ticks": ""
           }
          },
          "scene": {
           "xaxis": {
            "backgroundcolor": "#E5ECF6",
            "gridcolor": "white",
            "gridwidth": 2,
            "linecolor": "white",
            "showbackground": true,
            "ticks": "",
            "zerolinecolor": "white"
           },
           "yaxis": {
            "backgroundcolor": "#E5ECF6",
            "gridcolor": "white",
            "gridwidth": 2,
            "linecolor": "white",
            "showbackground": true,
            "ticks": "",
            "zerolinecolor": "white"
           },
           "zaxis": {
            "backgroundcolor": "#E5ECF6",
            "gridcolor": "white",
            "gridwidth": 2,
            "linecolor": "white",
            "showbackground": true,
            "ticks": "",
            "zerolinecolor": "white"
           }
          },
          "shapedefaults": {
           "line": {
            "color": "#2a3f5f"
           }
          },
          "ternary": {
           "aaxis": {
            "gridcolor": "white",
            "linecolor": "white",
            "ticks": ""
           },
           "baxis": {
            "gridcolor": "white",
            "linecolor": "white",
            "ticks": ""
           },
           "bgcolor": "#E5ECF6",
           "caxis": {
            "gridcolor": "white",
            "linecolor": "white",
            "ticks": ""
           }
          },
          "title": {
           "x": 0.05
          },
          "xaxis": {
           "automargin": true,
           "gridcolor": "white",
           "linecolor": "white",
           "ticks": "",
           "title": {
            "standoff": 15
           },
           "zerolinecolor": "white",
           "zerolinewidth": 2
          },
          "yaxis": {
           "automargin": true,
           "gridcolor": "white",
           "linecolor": "white",
           "ticks": "",
           "title": {
            "standoff": 15
           },
           "zerolinecolor": "white",
           "zerolinewidth": 2
          }
         }
        },
        "width": 450,
        "xaxis": {
         "mirror": "all",
         "range": [
          5,
          25
         ],
         "showline": true,
         "title": {
          "font": {
           "size": 13
          }
         },
         "zeroline": false
        },
        "yaxis": {
         "mirror": "all",
         "showline": true,
         "title": {
          "font": {
           "size": 13
          }
         },
         "zeroline": false
        }
       }
      },
      "text/html": [
       "<div>                            <div id=\"5e2c4d12-9557-4300-94d6-2ccb9ac3db09\" class=\"plotly-graph-div\" style=\"height:420px; width:450px;\"></div>            <script type=\"text/javascript\">                require([\"plotly\"], function(Plotly) {                    window.PLOTLYENV=window.PLOTLYENV || {};                                    if (document.getElementById(\"5e2c4d12-9557-4300-94d6-2ccb9ac3db09\")) {                    Plotly.newPlot(                        \"5e2c4d12-9557-4300-94d6-2ccb9ac3db09\",                        [{\"line\": {\"color\": \"black\", \"dash\": \"solid\", \"width\": 2}, \"mode\": \"lines\", \"name\": \"T = -91\\u00b0C\", \"type\": \"scatter\", \"uid\": \"923f2f7c-9f3c-4d11-9745-0a2707a3476a\", \"x\": [5, 6, 7, 8, 9, 10, 11, 12, 13, 14, 15, 16, 17, 18, 19, 20, 21, 22, 23, 24, 25], \"y\": [30422.95076105844, 18564.60413681139, 13083.846560688886, 10089.237071616035, 8260.13510788777, 7051.32612949666, 6204.500914619165, 5584.157799754209, 5113.432456186828, 4745.941309976312, 4452.258296568246, 4212.9290112644385, 4014.6390514911727, 3848.0043539817525, 3706.2415756885052, 3584.3383017322108, 3478.5185475620574, 3385.8888070093644, 3304.19786179951, 3231.6702064431847, 3166.8882538448775]}, {\"line\": {\"color\": \"blue\", \"dash\": \"solid\", \"width\": 2}, \"mode\": \"lines\", \"name\": \"T = -60\\u00b0C\", \"type\": \"scatter\", \"uid\": \"c88b05a0-1347-48ea-9285-eb486e4bb9da\", \"x\": [5, 6, 7, 8, 9, 10, 11, 12, 13, 14, 15, 16, 17, 18, 19, 20, 21, 22, 23, 24, 25], \"y\": [37610.96922054096, 21836.950768500887, 14859.312701380106, 11165.233100831485, 8961.9996069669, 7532.795781532148, 6546.416454820651, 5832.612123897288, 5296.423572913539, 4881.36333019577, 4552.036559124069, 4285.295457129214, 4065.449519701007, 3881.5344412908275, 3725.6852433981844, 3592.1301984892816, 3476.5481652907333, 3375.6462661497826, 3286.8753347085576, 3208.233878163722, 3138.130300837569]}, {\"line\": {\"color\": \"green\", \"dash\": \"solid\", \"width\": 2}, \"mode\": \"lines\", \"name\": \"T = -40\\u00b0C\", \"type\": \"scatter\", \"uid\": \"1e224710-aecb-4694-b17f-097e7f1df0ee\", \"x\": [5, 6, 7, 8, 9, 10, 11, 12, 13, 14, 15, 16, 17, 18, 19, 20, 21, 22, 23, 24, 25], \"y\": [42145.925444355635, 23933.689781330595, 16030.21308242282, 11902.261438586178, 9464.704995188491, 7895.40604347408, 6818.645362856352, 6042.999349923145, 5462.477888988289, 5014.4161883046145, 4659.750280651458, 4373.04373929222, 4137.118432693208, 3940.0085271076823, 3773.1541509413255, 3630.2887267235715, 3506.730660931238, 3398.919277658596, 3304.102955803025, 3220.1247650702167, 3145.272110664307]}],                        {\"annotations\": [{\"font\": {\"size\": 11}, \"showarrow\": false, \"text\": \"$\\\\LARGE{m}$\", \"x\": 0.5, \"xref\": \"paper\", \"y\": -0.2, \"yref\": \"paper\"}, {\"font\": {\"size\": 11}, \"showarrow\": false, \"text\": \"$\\\\LARGE{\\\\sigma_\\\\mathrm{w}}\\\\;\\\\textrm{(MPa)}$ \", \"textangle\": -90, \"x\": -0.2, \"xref\": \"paper\", \"y\": 0.5, \"yref\": \"paper\"}], \"height\": 420, \"legend\": {\"x\": 0.6, \"y\": 0.7}, \"margin\": {\"b\": 80, \"l\": 80, \"r\": 20, \"t\": 40}, \"showlegend\": true, \"template\": {\"data\": {\"bar\": [{\"error_x\": {\"color\": \"#2a3f5f\"}, \"error_y\": {\"color\": \"#2a3f5f\"}, \"marker\": {\"line\": {\"color\": \"#E5ECF6\", \"width\": 0.5}}, \"type\": \"bar\"}], \"barpolar\": [{\"marker\": {\"line\": {\"color\": \"#E5ECF6\", \"width\": 0.5}}, \"type\": \"barpolar\"}], \"carpet\": [{\"aaxis\": {\"endlinecolor\": \"#2a3f5f\", \"gridcolor\": \"white\", \"linecolor\": \"white\", \"minorgridcolor\": \"white\", \"startlinecolor\": \"#2a3f5f\"}, \"baxis\": {\"endlinecolor\": \"#2a3f5f\", \"gridcolor\": \"white\", \"linecolor\": \"white\", \"minorgridcolor\": \"white\", \"startlinecolor\": \"#2a3f5f\"}, \"type\": \"carpet\"}], \"choropleth\": [{\"colorbar\": {\"outlinewidth\": 0, \"ticks\": \"\"}, \"type\": \"choropleth\"}], \"contour\": [{\"colorbar\": {\"outlinewidth\": 0, \"ticks\": \"\"}, \"colorscale\": [[0.0, \"#0d0887\"], [0.1111111111111111, \"#46039f\"], [0.2222222222222222, \"#7201a8\"], [0.3333333333333333, \"#9c179e\"], [0.4444444444444444, \"#bd3786\"], [0.5555555555555556, \"#d8576b\"], [0.6666666666666666, \"#ed7953\"], [0.7777777777777778, \"#fb9f3a\"], [0.8888888888888888, \"#fdca26\"], [1.0, \"#f0f921\"]], \"type\": \"contour\"}], \"contourcarpet\": [{\"colorbar\": {\"outlinewidth\": 0, \"ticks\": \"\"}, \"type\": \"contourcarpet\"}], \"heatmap\": [{\"colorbar\": {\"outlinewidth\": 0, \"ticks\": \"\"}, \"colorscale\": [[0.0, \"#0d0887\"], [0.1111111111111111, \"#46039f\"], [0.2222222222222222, \"#7201a8\"], [0.3333333333333333, \"#9c179e\"], [0.4444444444444444, \"#bd3786\"], [0.5555555555555556, \"#d8576b\"], [0.6666666666666666, \"#ed7953\"], [0.7777777777777778, \"#fb9f3a\"], [0.8888888888888888, \"#fdca26\"], [1.0, \"#f0f921\"]], \"type\": \"heatmap\"}], \"heatmapgl\": [{\"colorbar\": {\"outlinewidth\": 0, \"ticks\": \"\"}, \"colorscale\": [[0.0, \"#0d0887\"], [0.1111111111111111, \"#46039f\"], [0.2222222222222222, \"#7201a8\"], [0.3333333333333333, \"#9c179e\"], [0.4444444444444444, \"#bd3786\"], [0.5555555555555556, \"#d8576b\"], [0.6666666666666666, \"#ed7953\"], [0.7777777777777778, \"#fb9f3a\"], [0.8888888888888888, \"#fdca26\"], [1.0, \"#f0f921\"]], \"type\": \"heatmapgl\"}], \"histogram\": [{\"marker\": {\"colorbar\": {\"outlinewidth\": 0, \"ticks\": \"\"}}, \"type\": \"histogram\"}], \"histogram2d\": [{\"colorbar\": {\"outlinewidth\": 0, \"ticks\": \"\"}, \"colorscale\": [[0.0, \"#0d0887\"], [0.1111111111111111, \"#46039f\"], [0.2222222222222222, \"#7201a8\"], [0.3333333333333333, \"#9c179e\"], [0.4444444444444444, \"#bd3786\"], [0.5555555555555556, \"#d8576b\"], [0.6666666666666666, \"#ed7953\"], [0.7777777777777778, \"#fb9f3a\"], [0.8888888888888888, \"#fdca26\"], [1.0, \"#f0f921\"]], \"type\": \"histogram2d\"}], \"histogram2dcontour\": [{\"colorbar\": {\"outlinewidth\": 0, \"ticks\": \"\"}, \"colorscale\": [[0.0, \"#0d0887\"], [0.1111111111111111, \"#46039f\"], [0.2222222222222222, \"#7201a8\"], [0.3333333333333333, \"#9c179e\"], [0.4444444444444444, \"#bd3786\"], [0.5555555555555556, \"#d8576b\"], [0.6666666666666666, \"#ed7953\"], [0.7777777777777778, \"#fb9f3a\"], [0.8888888888888888, \"#fdca26\"], [1.0, \"#f0f921\"]], \"type\": \"histogram2dcontour\"}], \"mesh3d\": [{\"colorbar\": {\"outlinewidth\": 0, \"ticks\": \"\"}, \"type\": \"mesh3d\"}], \"parcoords\": [{\"line\": {\"colorbar\": {\"outlinewidth\": 0, \"ticks\": \"\"}}, \"type\": \"parcoords\"}], \"pie\": [{\"automargin\": true, \"type\": \"pie\"}], \"scatter\": [{\"marker\": {\"colorbar\": {\"outlinewidth\": 0, \"ticks\": \"\"}}, \"type\": \"scatter\"}], \"scatter3d\": [{\"line\": {\"colorbar\": {\"outlinewidth\": 0, \"ticks\": \"\"}}, \"marker\": {\"colorbar\": {\"outlinewidth\": 0, \"ticks\": \"\"}}, \"type\": \"scatter3d\"}], \"scattercarpet\": [{\"marker\": {\"colorbar\": {\"outlinewidth\": 0, \"ticks\": \"\"}}, \"type\": \"scattercarpet\"}], \"scattergeo\": [{\"marker\": {\"colorbar\": {\"outlinewidth\": 0, \"ticks\": \"\"}}, \"type\": \"scattergeo\"}], \"scattergl\": [{\"marker\": {\"colorbar\": {\"outlinewidth\": 0, \"ticks\": \"\"}}, \"type\": \"scattergl\"}], \"scattermapbox\": [{\"marker\": {\"colorbar\": {\"outlinewidth\": 0, \"ticks\": \"\"}}, \"type\": \"scattermapbox\"}], \"scatterpolar\": [{\"marker\": {\"colorbar\": {\"outlinewidth\": 0, \"ticks\": \"\"}}, \"type\": \"scatterpolar\"}], \"scatterpolargl\": [{\"marker\": {\"colorbar\": {\"outlinewidth\": 0, \"ticks\": \"\"}}, \"type\": \"scatterpolargl\"}], \"scatterternary\": [{\"marker\": {\"colorbar\": {\"outlinewidth\": 0, \"ticks\": \"\"}}, \"type\": \"scatterternary\"}], \"surface\": [{\"colorbar\": {\"outlinewidth\": 0, \"ticks\": \"\"}, \"colorscale\": [[0.0, \"#0d0887\"], [0.1111111111111111, \"#46039f\"], [0.2222222222222222, \"#7201a8\"], [0.3333333333333333, \"#9c179e\"], [0.4444444444444444, \"#bd3786\"], [0.5555555555555556, \"#d8576b\"], [0.6666666666666666, \"#ed7953\"], [0.7777777777777778, \"#fb9f3a\"], [0.8888888888888888, \"#fdca26\"], [1.0, \"#f0f921\"]], \"type\": \"surface\"}], \"table\": [{\"cells\": {\"fill\": {\"color\": \"#EBF0F8\"}, \"line\": {\"color\": \"white\"}}, \"header\": {\"fill\": {\"color\": \"#C8D4E3\"}, \"line\": {\"color\": \"white\"}}, \"type\": \"table\"}]}, \"layout\": {\"annotationdefaults\": {\"arrowcolor\": \"#2a3f5f\", \"arrowhead\": 0, \"arrowwidth\": 1}, \"autotypenumbers\": \"strict\", \"coloraxis\": {\"colorbar\": {\"outlinewidth\": 0, \"ticks\": \"\"}}, \"colorscale\": {\"diverging\": [[0, \"#8e0152\"], [0.1, \"#c51b7d\"], [0.2, \"#de77ae\"], [0.3, \"#f1b6da\"], [0.4, \"#fde0ef\"], [0.5, \"#f7f7f7\"], [0.6, \"#e6f5d0\"], [0.7, \"#b8e186\"], [0.8, \"#7fbc41\"], [0.9, \"#4d9221\"], [1, \"#276419\"]], \"sequential\": [[0.0, \"#0d0887\"], [0.1111111111111111, \"#46039f\"], [0.2222222222222222, \"#7201a8\"], [0.3333333333333333, \"#9c179e\"], [0.4444444444444444, \"#bd3786\"], [0.5555555555555556, \"#d8576b\"], [0.6666666666666666, \"#ed7953\"], [0.7777777777777778, \"#fb9f3a\"], [0.8888888888888888, \"#fdca26\"], [1.0, \"#f0f921\"]], \"sequentialminus\": [[0.0, \"#0d0887\"], [0.1111111111111111, \"#46039f\"], [0.2222222222222222, \"#7201a8\"], [0.3333333333333333, \"#9c179e\"], [0.4444444444444444, \"#bd3786\"], [0.5555555555555556, \"#d8576b\"], [0.6666666666666666, \"#ed7953\"], [0.7777777777777778, \"#fb9f3a\"], [0.8888888888888888, \"#fdca26\"], [1.0, \"#f0f921\"]]}, \"colorway\": [\"#636efa\", \"#EF553B\", \"#00cc96\", \"#ab63fa\", \"#FFA15A\", \"#19d3f3\", \"#FF6692\", \"#B6E880\", \"#FF97FF\", \"#FECB52\"], \"font\": {\"color\": \"#2a3f5f\"}, \"geo\": {\"bgcolor\": \"white\", \"lakecolor\": \"white\", \"landcolor\": \"#E5ECF6\", \"showlakes\": true, \"showland\": true, \"subunitcolor\": \"white\"}, \"hoverlabel\": {\"align\": \"left\"}, \"hovermode\": \"closest\", \"mapbox\": {\"style\": \"light\"}, \"paper_bgcolor\": \"white\", \"plot_bgcolor\": \"#E5ECF6\", \"polar\": {\"angularaxis\": {\"gridcolor\": \"white\", \"linecolor\": \"white\", \"ticks\": \"\"}, \"bgcolor\": \"#E5ECF6\", \"radialaxis\": {\"gridcolor\": \"white\", \"linecolor\": \"white\", \"ticks\": \"\"}}, \"scene\": {\"xaxis\": {\"backgroundcolor\": \"#E5ECF6\", \"gridcolor\": \"white\", \"gridwidth\": 2, \"linecolor\": \"white\", \"showbackground\": true, \"ticks\": \"\", \"zerolinecolor\": \"white\"}, \"yaxis\": {\"backgroundcolor\": \"#E5ECF6\", \"gridcolor\": \"white\", \"gridwidth\": 2, \"linecolor\": \"white\", \"showbackground\": true, \"ticks\": \"\", \"zerolinecolor\": \"white\"}, \"zaxis\": {\"backgroundcolor\": \"#E5ECF6\", \"gridcolor\": \"white\", \"gridwidth\": 2, \"linecolor\": \"white\", \"showbackground\": true, \"ticks\": \"\", \"zerolinecolor\": \"white\"}}, \"shapedefaults\": {\"line\": {\"color\": \"#2a3f5f\"}}, \"ternary\": {\"aaxis\": {\"gridcolor\": \"white\", \"linecolor\": \"white\", \"ticks\": \"\"}, \"baxis\": {\"gridcolor\": \"white\", \"linecolor\": \"white\", \"ticks\": \"\"}, \"bgcolor\": \"#E5ECF6\", \"caxis\": {\"gridcolor\": \"white\", \"linecolor\": \"white\", \"ticks\": \"\"}}, \"title\": {\"x\": 0.05}, \"xaxis\": {\"automargin\": true, \"gridcolor\": \"white\", \"linecolor\": \"white\", \"ticks\": \"\", \"title\": {\"standoff\": 15}, \"zerolinecolor\": \"white\", \"zerolinewidth\": 2}, \"yaxis\": {\"automargin\": true, \"gridcolor\": \"white\", \"linecolor\": \"white\", \"ticks\": \"\", \"title\": {\"standoff\": 15}, \"zerolinecolor\": \"white\", \"zerolinewidth\": 2}}}, \"width\": 450, \"xaxis\": {\"mirror\": \"all\", \"range\": [5, 25], \"showline\": true, \"title\": {\"font\": {\"size\": 13}}, \"zeroline\": false}, \"yaxis\": {\"mirror\": \"all\", \"showline\": true, \"title\": {\"font\": {\"size\": 13}}, \"zeroline\": false}},                        {\"responsive\": true}                    ).then(function(){\n",
       "                            \n",
       "var gd = document.getElementById('5e2c4d12-9557-4300-94d6-2ccb9ac3db09');\n",
       "var x = new MutationObserver(function (mutations, observer) {{\n",
       "        var display = window.getComputedStyle(gd).display;\n",
       "        if (!display || display === 'none') {{\n",
       "            console.log([gd, 'removed!']);\n",
       "            Plotly.purge(gd);\n",
       "            observer.disconnect();\n",
       "        }}\n",
       "}});\n",
       "\n",
       "// Listen for the removal of the full notebook cells\n",
       "var notebookContainer = gd.closest('#notebook-container');\n",
       "if (notebookContainer) {{\n",
       "    x.observe(notebookContainer, {childList: true});\n",
       "}}\n",
       "\n",
       "// Listen for the clearing of the current output cell\n",
       "var outputEl = gd.closest('.output');\n",
       "if (outputEl) {{\n",
       "    x.observe(outputEl, {childList: true});\n",
       "}}\n",
       "\n",
       "                        })                };                });            </script>        </div>"
      ]
     },
     "metadata": {},
     "output_type": "display_data"
    }
   ],
   "source": [
    "# non-normalised Weibull\n",
    "\n",
    "data = []\n",
    "lines = ['solid','dash']\n",
    "ylab =  r'$\\LARGE{\\sigma_\\mathrm{w}}\\;\\textrm{(MPa)}$ '\n",
    "\n",
    "for ri, sw_r in enumerate(glob_sw_all):\n",
    "    temp_ri = temps[ri]\n",
    "    x_plot = []\n",
    "    y_plot = []\n",
    "    for mi, sw in enumerate(sw_r):                \n",
    "        x_plot.append(m_vals[mi])\n",
    "        y_plot.append(sw[gdata_all[ri]['j0_idx']-np.array(skipped_lines_all)[ri]])\n",
    "\n",
    "        if mi == 0:\n",
    "            print(gdata_all[ri]['j0'])\n",
    "    data.append({\n",
    "            'x': x_plot,\n",
    "            'y': np.array(y_plot) ,\n",
    "#             'name': file_labs[ri],\n",
    "            'name': r'T = ' + str(temps[ri]) + r'°C',\n",
    "#             'name': str(num_el[ri]) + ' elements',\n",
    "#             'name': paths[ri][18:],\n",
    "#             'name': str(radii[ri]) + ' μm',\n",
    "            'line': {'dash': lines[0], 'color': cols[ri], 'width': 2},\n",
    "             'mode': 'lines',\n",
    "        })\n",
    "  \n",
    "\n",
    "layout = {\n",
    "    'width': 450,\n",
    "    'height': 420,\n",
    "    'xaxis': {\n",
    "#         'range': [-0.1, 1.1],\n",
    "        'zeroline': False,\n",
    "        'showline': True,\n",
    "        'mirror': 'all',\n",
    "#         'title': r'$m$',\n",
    "        'titlefont':{'size': 13}\n",
    "    },\n",
    "    'yaxis': {\n",
    "        'zeroline': False,\n",
    "        'showline': True,\n",
    "        'mirror': 'all',\n",
    "#         'title': '$\\sigma_\\mathrm{w}/\\sigma_\\mathrm{f} $ ',\n",
    "        'titlefont':{'size': 13},\n",
    "\n",
    "    },\n",
    "    'annotations':[\n",
    "    {\n",
    "        'text':  r'$\\LARGE{m}$',\n",
    "        'x': 0.5,\n",
    "        'y': -0.2,\n",
    "        'xref': 'paper',\n",
    "        'yref': 'paper',\n",
    "        'showarrow': False,\n",
    "        'font': {'size': 11},\n",
    "    },\n",
    "        {\n",
    "        'text': ylab,\n",
    "        'x': -0.2,\n",
    "        'y': 0.5,\n",
    "        'xref': 'paper',\n",
    "        'yref': 'paper',\n",
    "        'showarrow': False,\n",
    "        'font': {'size': 11},\n",
    "        'textangle': -90\n",
    "    },\n",
    "    ],\n",
    "    'legend':{\n",
    "        'x': 0.6,\n",
    "        'y': 0.7,\n",
    "    },\n",
    "     'margin': {\n",
    "                'l': 80,\n",
    "                'r': 20,\n",
    "                'b': 80,\n",
    "                't': 40,\n",
    "#                 'pad': 1\n",
    "     },\n",
    "\n",
    "}\n",
    "layout['xaxis']['range'] = [5, 25]\n",
    "# layout['yaxis']['range'] = [-0.1, 1]\n",
    "layout['showlegend'] = True\n",
    "f = go.FigureWidget(data,layout)\n",
    "py.iplot(f)\n",
    "# pio.write_image(f, 'images-jan2020/fig6.svg',width=450, height=400,)"
   ]
  },
  {
   "attachments": {},
   "cell_type": "markdown",
   "metadata": {},
   "source": [
    "### Delta Weibull stress vs Shape parameter `m`\n",
    "\n",
    "$\\Large{\\Delta \\sigma_W = \\frac{\\sigma_{-91°C} - \\sigma_{T_i}}{\\sigma_{-91°C}} 100}$\n",
    "\n"
   ]
  },
  {
   "cell_type": "code",
   "execution_count": 136,
   "metadata": {
    "code_folding": [
     0,
     26
    ]
   },
   "outputs": [
    {
     "data": {
      "application/vnd.plotly.v1+json": {
       "config": {
        "linkText": "Export to plot.ly",
        "plotlyServerURL": "https://plot.ly",
        "showLink": false
       },
       "data": [
        {
         "line": {
          "color": "black",
          "dash": "solid",
          "width": 2
         },
         "mode": "lines",
         "name": "T = -91°C",
         "type": "scatter",
         "uid": "18d3fd75-c3b5-4958-be75-0a205b29a56d",
         "x": [
          5,
          6,
          7,
          8,
          9,
          10,
          11,
          12,
          13,
          14,
          15,
          16,
          17,
          18,
          19,
          20,
          21,
          22,
          23,
          24,
          25
         ],
         "y": [
          0,
          0,
          0,
          0,
          0,
          0,
          0,
          0,
          0,
          0,
          0,
          0,
          0,
          0,
          0,
          0,
          0,
          0,
          0,
          0,
          0
         ]
        },
        {
         "line": {
          "color": "black",
          "dash": "solid",
          "width": 2
         },
         "mode": "lines",
         "name": "T = -91°C",
         "type": "scatter",
         "uid": "a6d5706b-2bf1-4404-855f-4ac1c960f297",
         "x": [
          5,
          6,
          7,
          8,
          9,
          10,
          11,
          12,
          13,
          14,
          15,
          16,
          17,
          18,
          19,
          20,
          21,
          22,
          23,
          24,
          25
         ],
         "y": [
          0,
          0,
          0,
          0,
          0,
          0,
          0,
          0,
          0,
          0,
          0,
          0,
          0,
          0,
          0,
          0,
          0,
          0,
          0,
          0,
          0
         ]
        },
        {
         "line": {
          "color": "black",
          "dash": "solid",
          "width": 2
         },
         "mode": "lines",
         "name": "T = -91°C",
         "type": "scatter",
         "uid": "193ef65a-27b1-4cbd-b5b3-4f5c03507b95",
         "x": [
          5,
          6,
          7,
          8,
          9,
          10,
          11,
          12,
          13,
          14,
          15,
          16,
          17,
          18,
          19,
          20,
          21,
          22,
          23,
          24,
          25
         ],
         "y": [
          0,
          0,
          0,
          0,
          0,
          0,
          0,
          0,
          0,
          0,
          0,
          0,
          0,
          0,
          0,
          0,
          0,
          0,
          0,
          0,
          0
         ]
        },
        {
         "line": {
          "color": "black",
          "dash": "solid",
          "width": 2
         },
         "mode": "lines",
         "name": "T = -91°C",
         "type": "scatter",
         "uid": "399b7d79-f0b3-4bcf-8536-5855b6a5dc74",
         "x": [
          5,
          6,
          7,
          8,
          9,
          10,
          11,
          12,
          13,
          14,
          15,
          16,
          17,
          18,
          19,
          20,
          21,
          22,
          23,
          24,
          25
         ],
         "y": [
          0,
          0,
          0,
          0,
          0,
          0,
          0,
          0,
          0,
          0,
          0,
          0,
          0,
          0,
          0,
          0,
          0,
          0,
          0,
          0,
          0
         ]
        },
        {
         "line": {
          "color": "black",
          "dash": "solid",
          "width": 2
         },
         "mode": "lines",
         "name": "T = -91°C",
         "type": "scatter",
         "uid": "ae5e7f14-c45b-4ab0-af5a-254928b8ec89",
         "x": [
          5,
          6,
          7,
          8,
          9,
          10,
          11,
          12,
          13,
          14,
          15,
          16,
          17,
          18,
          19,
          20,
          21,
          22,
          23,
          24,
          25
         ],
         "y": [
          0,
          0,
          0,
          0,
          0,
          0,
          0,
          0,
          0,
          0,
          0,
          0,
          0,
          0,
          0,
          0,
          0,
          0,
          0,
          0,
          0
         ]
        },
        {
         "line": {
          "color": "black",
          "dash": "solid",
          "width": 2
         },
         "mode": "lines",
         "name": "T = -91°C",
         "type": "scatter",
         "uid": "7a829386-5792-4419-899a-ce1a704b1ea0",
         "x": [
          5,
          6,
          7,
          8,
          9,
          10,
          11,
          12,
          13,
          14,
          15,
          16,
          17,
          18,
          19,
          20,
          21,
          22,
          23,
          24,
          25
         ],
         "y": [
          0,
          0,
          0,
          0,
          0,
          0,
          0,
          0,
          0,
          0,
          0,
          0,
          0,
          0,
          0,
          0,
          0,
          0,
          0,
          0,
          0
         ]
        },
        {
         "line": {
          "color": "black",
          "dash": "solid",
          "width": 2
         },
         "mode": "lines",
         "name": "T = -91°C",
         "type": "scatter",
         "uid": "ea2b60b5-2d1f-4224-b5dc-bd8e6c60e0d2",
         "x": [
          5,
          6,
          7,
          8,
          9,
          10,
          11,
          12,
          13,
          14,
          15,
          16,
          17,
          18,
          19,
          20,
          21,
          22,
          23,
          24,
          25
         ],
         "y": [
          0,
          0,
          0,
          0,
          0,
          0,
          0,
          0,
          0,
          0,
          0,
          0,
          0,
          0,
          0,
          0,
          0,
          0,
          0,
          0,
          0
         ]
        },
        {
         "line": {
          "color": "black",
          "dash": "solid",
          "width": 2
         },
         "mode": "lines",
         "name": "T = -91°C",
         "type": "scatter",
         "uid": "6c395185-2966-4b21-97a4-cafd43377c2d",
         "x": [
          5,
          6,
          7,
          8,
          9,
          10,
          11,
          12,
          13,
          14,
          15,
          16,
          17,
          18,
          19,
          20,
          21,
          22,
          23,
          24,
          25
         ],
         "y": [
          0,
          0,
          0,
          0,
          0,
          0,
          0,
          0,
          0,
          0,
          0,
          0,
          0,
          0,
          0,
          0,
          0,
          0,
          0,
          0,
          0
         ]
        },
        {
         "line": {
          "color": "black",
          "dash": "solid",
          "width": 2
         },
         "mode": "lines",
         "name": "T = -91°C",
         "type": "scatter",
         "uid": "fd225223-6a5c-490e-a1e9-f09677266f07",
         "x": [
          5,
          6,
          7,
          8,
          9,
          10,
          11,
          12,
          13,
          14,
          15,
          16,
          17,
          18,
          19,
          20,
          21,
          22,
          23,
          24,
          25
         ],
         "y": [
          0,
          0,
          0,
          0,
          0,
          0,
          0,
          0,
          0,
          0,
          0,
          0,
          0,
          0,
          0,
          0,
          0,
          0,
          0,
          0,
          0
         ]
        },
        {
         "line": {
          "color": "black",
          "dash": "solid",
          "width": 2
         },
         "mode": "lines",
         "name": "T = -91°C",
         "type": "scatter",
         "uid": "44de900e-b4c6-4f3b-861e-38675264f82d",
         "x": [
          5,
          6,
          7,
          8,
          9,
          10,
          11,
          12,
          13,
          14,
          15,
          16,
          17,
          18,
          19,
          20,
          21,
          22,
          23,
          24,
          25
         ],
         "y": [
          0,
          0,
          0,
          0,
          0,
          0,
          0,
          0,
          0,
          0,
          0,
          0,
          0,
          0,
          0,
          0,
          0,
          0,
          0,
          0,
          0
         ]
        },
        {
         "line": {
          "color": "black",
          "dash": "solid",
          "width": 2
         },
         "mode": "lines",
         "name": "T = -91°C",
         "type": "scatter",
         "uid": "e5baf4ce-e0dd-4e79-a7c7-ef06c847a42a",
         "x": [
          5,
          6,
          7,
          8,
          9,
          10,
          11,
          12,
          13,
          14,
          15,
          16,
          17,
          18,
          19,
          20,
          21,
          22,
          23,
          24,
          25
         ],
         "y": [
          0,
          0,
          0,
          0,
          0,
          0,
          0,
          0,
          0,
          0,
          0,
          0,
          0,
          0,
          0,
          0,
          0,
          0,
          0,
          0,
          0
         ]
        },
        {
         "line": {
          "color": "black",
          "dash": "solid",
          "width": 2
         },
         "mode": "lines",
         "name": "T = -91°C",
         "type": "scatter",
         "uid": "c30910c3-b8d9-4680-9e27-6fb05d2ee10d",
         "x": [
          5,
          6,
          7,
          8,
          9,
          10,
          11,
          12,
          13,
          14,
          15,
          16,
          17,
          18,
          19,
          20,
          21,
          22,
          23,
          24,
          25
         ],
         "y": [
          0,
          0,
          0,
          0,
          0,
          0,
          0,
          0,
          0,
          0,
          0,
          0,
          0,
          0,
          0,
          0,
          0,
          0,
          0,
          0,
          0
         ]
        },
        {
         "line": {
          "color": "black",
          "dash": "solid",
          "width": 2
         },
         "mode": "lines",
         "name": "T = -91°C",
         "type": "scatter",
         "uid": "135fffb7-5599-4f57-8a3c-af5d9277be72",
         "x": [
          5,
          6,
          7,
          8,
          9,
          10,
          11,
          12,
          13,
          14,
          15,
          16,
          17,
          18,
          19,
          20,
          21,
          22,
          23,
          24,
          25
         ],
         "y": [
          0,
          0,
          0,
          0,
          0,
          0,
          0,
          0,
          0,
          0,
          0,
          0,
          0,
          0,
          0,
          0,
          0,
          0,
          0,
          0,
          0
         ]
        },
        {
         "line": {
          "color": "black",
          "dash": "solid",
          "width": 2
         },
         "mode": "lines",
         "name": "T = -91°C",
         "type": "scatter",
         "uid": "6b7b78ff-7be2-4a96-aa30-38f90b9a7cfb",
         "x": [
          5,
          6,
          7,
          8,
          9,
          10,
          11,
          12,
          13,
          14,
          15,
          16,
          17,
          18,
          19,
          20,
          21,
          22,
          23,
          24,
          25
         ],
         "y": [
          0,
          0,
          0,
          0,
          0,
          0,
          0,
          0,
          0,
          0,
          0,
          0,
          0,
          0,
          0,
          0,
          0,
          0,
          0,
          0,
          0
         ]
        },
        {
         "line": {
          "color": "black",
          "dash": "solid",
          "width": 2
         },
         "mode": "lines",
         "name": "T = -91°C",
         "type": "scatter",
         "uid": "435db05a-38c1-4564-a978-6f501dc7ce31",
         "x": [
          5,
          6,
          7,
          8,
          9,
          10,
          11,
          12,
          13,
          14,
          15,
          16,
          17,
          18,
          19,
          20,
          21,
          22,
          23,
          24,
          25
         ],
         "y": [
          0,
          0,
          0,
          0,
          0,
          0,
          0,
          0,
          0,
          0,
          0,
          0,
          0,
          0,
          0,
          0,
          0,
          0,
          0,
          0,
          0
         ]
        },
        {
         "line": {
          "color": "black",
          "dash": "solid",
          "width": 2
         },
         "mode": "lines",
         "name": "T = -91°C",
         "type": "scatter",
         "uid": "c4e7ac03-389e-43c1-82b3-aaa096179557",
         "x": [
          5,
          6,
          7,
          8,
          9,
          10,
          11,
          12,
          13,
          14,
          15,
          16,
          17,
          18,
          19,
          20,
          21,
          22,
          23,
          24,
          25
         ],
         "y": [
          0,
          0,
          0,
          0,
          0,
          0,
          0,
          0,
          0,
          0,
          0,
          0,
          0,
          0,
          0,
          0,
          0,
          0,
          0,
          0,
          0
         ]
        },
        {
         "line": {
          "color": "black",
          "dash": "solid",
          "width": 2
         },
         "mode": "lines",
         "name": "T = -91°C",
         "type": "scatter",
         "uid": "470b9ecb-fe68-421e-8ee4-2bb025ea1942",
         "x": [
          5,
          6,
          7,
          8,
          9,
          10,
          11,
          12,
          13,
          14,
          15,
          16,
          17,
          18,
          19,
          20,
          21,
          22,
          23,
          24,
          25
         ],
         "y": [
          0,
          0,
          0,
          0,
          0,
          0,
          0,
          0,
          0,
          0,
          0,
          0,
          0,
          0,
          0,
          0,
          0,
          0,
          0,
          0,
          0
         ]
        },
        {
         "line": {
          "color": "black",
          "dash": "solid",
          "width": 2
         },
         "mode": "lines",
         "name": "T = -91°C",
         "type": "scatter",
         "uid": "b2dbe057-1bcc-4c85-b862-0eb5044db767",
         "x": [
          5,
          6,
          7,
          8,
          9,
          10,
          11,
          12,
          13,
          14,
          15,
          16,
          17,
          18,
          19,
          20,
          21,
          22,
          23,
          24,
          25
         ],
         "y": [
          0,
          0,
          0,
          0,
          0,
          0,
          0,
          0,
          0,
          0,
          0,
          0,
          0,
          0,
          0,
          0,
          0,
          0,
          0,
          0,
          0
         ]
        },
        {
         "line": {
          "color": "black",
          "dash": "solid",
          "width": 2
         },
         "mode": "lines",
         "name": "T = -91°C",
         "type": "scatter",
         "uid": "90c0d7ac-3d60-400d-822f-69103513acef",
         "x": [
          5,
          6,
          7,
          8,
          9,
          10,
          11,
          12,
          13,
          14,
          15,
          16,
          17,
          18,
          19,
          20,
          21,
          22,
          23,
          24,
          25
         ],
         "y": [
          0,
          0,
          0,
          0,
          0,
          0,
          0,
          0,
          0,
          0,
          0,
          0,
          0,
          0,
          0,
          0,
          0,
          0,
          0,
          0,
          0
         ]
        },
        {
         "line": {
          "color": "black",
          "dash": "solid",
          "width": 2
         },
         "mode": "lines",
         "name": "T = -91°C",
         "type": "scatter",
         "uid": "b7762482-7047-4e62-adf4-b2ca589b9a91",
         "x": [
          5,
          6,
          7,
          8,
          9,
          10,
          11,
          12,
          13,
          14,
          15,
          16,
          17,
          18,
          19,
          20,
          21,
          22,
          23,
          24,
          25
         ],
         "y": [
          0,
          0,
          0,
          0,
          0,
          0,
          0,
          0,
          0,
          0,
          0,
          0,
          0,
          0,
          0,
          0,
          0,
          0,
          0,
          0,
          0
         ]
        },
        {
         "line": {
          "color": "black",
          "dash": "solid",
          "width": 2
         },
         "mode": "lines",
         "name": "T = -91°C",
         "type": "scatter",
         "uid": "bc9d53c2-e324-4849-87f0-f1addd5fbfb6",
         "x": [
          5,
          6,
          7,
          8,
          9,
          10,
          11,
          12,
          13,
          14,
          15,
          16,
          17,
          18,
          19,
          20,
          21,
          22,
          23,
          24,
          25
         ],
         "y": [
          0,
          0,
          0,
          0,
          0,
          0,
          0,
          0,
          0,
          0,
          0,
          0,
          0,
          0,
          0,
          0,
          0,
          0,
          0,
          0,
          0
         ]
        },
        {
         "line": {
          "color": "blue",
          "dash": "solid",
          "width": 2
         },
         "mode": "lines",
         "name": "T = -60°C",
         "type": "scatter",
         "uid": "072f1872-b101-4c31-a21a-2db46d3dc4ba",
         "x": [
          5,
          6,
          7,
          8,
          9,
          10,
          11,
          12,
          13,
          14,
          15,
          16,
          17,
          18,
          19,
          20,
          21,
          22,
          23,
          24,
          25
         ],
         "y": [
          19.111494886860918,
          14.985364332138131,
          11.94850782382632,
          9.637022527862134,
          7.831561368665002,
          6.391646156343279,
          5.222942086883366,
          4.259743642563098,
          3.4549940012831786,
          2.774266348537228,
          2.1919477416284834,
          1.6887154360473158,
          1.2498118095824013,
          0.8638358828506082,
          0.5218816523519489,
          0.21691576659297682,
          -0.05667639789938859,
          -0.3034245904937287,
          -0.527021116621949,
          -0.7305056043132696,
          -0.9164040447789246
         ]
        },
        {
         "line": {
          "color": "blue",
          "dash": "solid",
          "width": 2
         },
         "mode": "lines",
         "name": "T = -60°C",
         "type": "scatter",
         "uid": "a2dced36-2cdd-41c7-b721-12b354f76f5d",
         "x": [
          5,
          6,
          7,
          8,
          9,
          10,
          11,
          12,
          13,
          14,
          15,
          16,
          17,
          18,
          19,
          20,
          21,
          22,
          23,
          24,
          25
         ],
         "y": [
          19.111494886860918,
          14.985364332138131,
          11.94850782382632,
          9.637022527862134,
          7.831561368665002,
          6.391646156343279,
          5.222942086883366,
          4.259743642563098,
          3.4549940012831786,
          2.774266348537228,
          2.1919477416284834,
          1.6887154360473158,
          1.2498118095824013,
          0.8638358828506082,
          0.5218816523519489,
          0.21691576659297682,
          -0.05667639789938859,
          -0.3034245904937287,
          -0.527021116621949,
          -0.7305056043132696,
          -0.9164040447789246
         ]
        },
        {
         "line": {
          "color": "blue",
          "dash": "solid",
          "width": 2
         },
         "mode": "lines",
         "name": "T = -60°C",
         "type": "scatter",
         "uid": "770f63e9-6d91-494a-8456-808ca8d8be10",
         "x": [
          5,
          6,
          7,
          8,
          9,
          10,
          11,
          12,
          13,
          14,
          15,
          16,
          17,
          18,
          19,
          20,
          21,
          22,
          23,
          24,
          25
         ],
         "y": [
          19.111494886860918,
          14.985364332138131,
          11.94850782382632,
          9.637022527862134,
          7.831561368665002,
          6.391646156343279,
          5.222942086883366,
          4.259743642563098,
          3.4549940012831786,
          2.774266348537228,
          2.1919477416284834,
          1.6887154360473158,
          1.2498118095824013,
          0.8638358828506082,
          0.5218816523519489,
          0.21691576659297682,
          -0.05667639789938859,
          -0.3034245904937287,
          -0.527021116621949,
          -0.7305056043132696,
          -0.9164040447789246
         ]
        },
        {
         "line": {
          "color": "blue",
          "dash": "solid",
          "width": 2
         },
         "mode": "lines",
         "name": "T = -60°C",
         "type": "scatter",
         "uid": "7e68a881-9776-45b8-8dd0-16c38f2c9050",
         "x": [
          5,
          6,
          7,
          8,
          9,
          10,
          11,
          12,
          13,
          14,
          15,
          16,
          17,
          18,
          19,
          20,
          21,
          22,
          23,
          24,
          25
         ],
         "y": [
          19.111494886860918,
          14.985364332138131,
          11.94850782382632,
          9.637022527862134,
          7.831561368665002,
          6.391646156343279,
          5.222942086883366,
          4.259743642563098,
          3.4549940012831786,
          2.774266348537228,
          2.1919477416284834,
          1.6887154360473158,
          1.2498118095824013,
          0.8638358828506082,
          0.5218816523519489,
          0.21691576659297682,
          -0.05667639789938859,
          -0.3034245904937287,
          -0.527021116621949,
          -0.7305056043132696,
          -0.9164040447789246
         ]
        },
        {
         "line": {
          "color": "blue",
          "dash": "solid",
          "width": 2
         },
         "mode": "lines",
         "name": "T = -60°C",
         "type": "scatter",
         "uid": "198e086a-ebc0-47cc-9088-cd6adc22c998",
         "x": [
          5,
          6,
          7,
          8,
          9,
          10,
          11,
          12,
          13,
          14,
          15,
          16,
          17,
          18,
          19,
          20,
          21,
          22,
          23,
          24,
          25
         ],
         "y": [
          19.111494886860918,
          14.985364332138131,
          11.94850782382632,
          9.637022527862134,
          7.831561368665002,
          6.391646156343279,
          5.222942086883366,
          4.259743642563098,
          3.4549940012831786,
          2.774266348537228,
          2.1919477416284834,
          1.6887154360473158,
          1.2498118095824013,
          0.8638358828506082,
          0.5218816523519489,
          0.21691576659297682,
          -0.05667639789938859,
          -0.3034245904937287,
          -0.527021116621949,
          -0.7305056043132696,
          -0.9164040447789246
         ]
        },
        {
         "line": {
          "color": "blue",
          "dash": "solid",
          "width": 2
         },
         "mode": "lines",
         "name": "T = -60°C",
         "type": "scatter",
         "uid": "8dfbfefc-4ea7-4891-9ee9-9faaf691ead4",
         "x": [
          5,
          6,
          7,
          8,
          9,
          10,
          11,
          12,
          13,
          14,
          15,
          16,
          17,
          18,
          19,
          20,
          21,
          22,
          23,
          24,
          25
         ],
         "y": [
          19.111494886860918,
          14.985364332138131,
          11.94850782382632,
          9.637022527862134,
          7.831561368665002,
          6.391646156343279,
          5.222942086883366,
          4.259743642563098,
          3.4549940012831786,
          2.774266348537228,
          2.1919477416284834,
          1.6887154360473158,
          1.2498118095824013,
          0.8638358828506082,
          0.5218816523519489,
          0.21691576659297682,
          -0.05667639789938859,
          -0.3034245904937287,
          -0.527021116621949,
          -0.7305056043132696,
          -0.9164040447789246
         ]
        },
        {
         "line": {
          "color": "blue",
          "dash": "solid",
          "width": 2
         },
         "mode": "lines",
         "name": "T = -60°C",
         "type": "scatter",
         "uid": "ba9e1587-8edf-48d0-9a89-c57ba6e9023b",
         "x": [
          5,
          6,
          7,
          8,
          9,
          10,
          11,
          12,
          13,
          14,
          15,
          16,
          17,
          18,
          19,
          20,
          21,
          22,
          23,
          24,
          25
         ],
         "y": [
          19.111494886860918,
          14.985364332138131,
          11.94850782382632,
          9.637022527862134,
          7.831561368665002,
          6.391646156343279,
          5.222942086883366,
          4.259743642563098,
          3.4549940012831786,
          2.774266348537228,
          2.1919477416284834,
          1.6887154360473158,
          1.2498118095824013,
          0.8638358828506082,
          0.5218816523519489,
          0.21691576659297682,
          -0.05667639789938859,
          -0.3034245904937287,
          -0.527021116621949,
          -0.7305056043132696,
          -0.9164040447789246
         ]
        },
        {
         "line": {
          "color": "blue",
          "dash": "solid",
          "width": 2
         },
         "mode": "lines",
         "name": "T = -60°C",
         "type": "scatter",
         "uid": "82ca2b55-0520-4c95-880e-cbb1a4affcbf",
         "x": [
          5,
          6,
          7,
          8,
          9,
          10,
          11,
          12,
          13,
          14,
          15,
          16,
          17,
          18,
          19,
          20,
          21,
          22,
          23,
          24,
          25
         ],
         "y": [
          19.111494886860918,
          14.985364332138131,
          11.94850782382632,
          9.637022527862134,
          7.831561368665002,
          6.391646156343279,
          5.222942086883366,
          4.259743642563098,
          3.4549940012831786,
          2.774266348537228,
          2.1919477416284834,
          1.6887154360473158,
          1.2498118095824013,
          0.8638358828506082,
          0.5218816523519489,
          0.21691576659297682,
          -0.05667639789938859,
          -0.3034245904937287,
          -0.527021116621949,
          -0.7305056043132696,
          -0.9164040447789246
         ]
        },
        {
         "line": {
          "color": "blue",
          "dash": "solid",
          "width": 2
         },
         "mode": "lines",
         "name": "T = -60°C",
         "type": "scatter",
         "uid": "b0771b4e-c9b6-47b0-aa8a-fbd6b4a1dbb9",
         "x": [
          5,
          6,
          7,
          8,
          9,
          10,
          11,
          12,
          13,
          14,
          15,
          16,
          17,
          18,
          19,
          20,
          21,
          22,
          23,
          24,
          25
         ],
         "y": [
          19.111494886860918,
          14.985364332138131,
          11.94850782382632,
          9.637022527862134,
          7.831561368665002,
          6.391646156343279,
          5.222942086883366,
          4.259743642563098,
          3.4549940012831786,
          2.774266348537228,
          2.1919477416284834,
          1.6887154360473158,
          1.2498118095824013,
          0.8638358828506082,
          0.5218816523519489,
          0.21691576659297682,
          -0.05667639789938859,
          -0.3034245904937287,
          -0.527021116621949,
          -0.7305056043132696,
          -0.9164040447789246
         ]
        },
        {
         "line": {
          "color": "blue",
          "dash": "solid",
          "width": 2
         },
         "mode": "lines",
         "name": "T = -60°C",
         "type": "scatter",
         "uid": "12f015c7-4eae-4842-b67d-0921557f55b1",
         "x": [
          5,
          6,
          7,
          8,
          9,
          10,
          11,
          12,
          13,
          14,
          15,
          16,
          17,
          18,
          19,
          20,
          21,
          22,
          23,
          24,
          25
         ],
         "y": [
          19.111494886860918,
          14.985364332138131,
          11.94850782382632,
          9.637022527862134,
          7.831561368665002,
          6.391646156343279,
          5.222942086883366,
          4.259743642563098,
          3.4549940012831786,
          2.774266348537228,
          2.1919477416284834,
          1.6887154360473158,
          1.2498118095824013,
          0.8638358828506082,
          0.5218816523519489,
          0.21691576659297682,
          -0.05667639789938859,
          -0.3034245904937287,
          -0.527021116621949,
          -0.7305056043132696,
          -0.9164040447789246
         ]
        },
        {
         "line": {
          "color": "blue",
          "dash": "solid",
          "width": 2
         },
         "mode": "lines",
         "name": "T = -60°C",
         "type": "scatter",
         "uid": "727d7e4b-420c-4e82-a7b6-1430f94c7909",
         "x": [
          5,
          6,
          7,
          8,
          9,
          10,
          11,
          12,
          13,
          14,
          15,
          16,
          17,
          18,
          19,
          20,
          21,
          22,
          23,
          24,
          25
         ],
         "y": [
          19.111494886860918,
          14.985364332138131,
          11.94850782382632,
          9.637022527862134,
          7.831561368665002,
          6.391646156343279,
          5.222942086883366,
          4.259743642563098,
          3.4549940012831786,
          2.774266348537228,
          2.1919477416284834,
          1.6887154360473158,
          1.2498118095824013,
          0.8638358828506082,
          0.5218816523519489,
          0.21691576659297682,
          -0.05667639789938859,
          -0.3034245904937287,
          -0.527021116621949,
          -0.7305056043132696,
          -0.9164040447789246
         ]
        },
        {
         "line": {
          "color": "blue",
          "dash": "solid",
          "width": 2
         },
         "mode": "lines",
         "name": "T = -60°C",
         "type": "scatter",
         "uid": "6df5a085-2e56-4cff-aa10-1adf434a69fd",
         "x": [
          5,
          6,
          7,
          8,
          9,
          10,
          11,
          12,
          13,
          14,
          15,
          16,
          17,
          18,
          19,
          20,
          21,
          22,
          23,
          24,
          25
         ],
         "y": [
          19.111494886860918,
          14.985364332138131,
          11.94850782382632,
          9.637022527862134,
          7.831561368665002,
          6.391646156343279,
          5.222942086883366,
          4.259743642563098,
          3.4549940012831786,
          2.774266348537228,
          2.1919477416284834,
          1.6887154360473158,
          1.2498118095824013,
          0.8638358828506082,
          0.5218816523519489,
          0.21691576659297682,
          -0.05667639789938859,
          -0.3034245904937287,
          -0.527021116621949,
          -0.7305056043132696,
          -0.9164040447789246
         ]
        },
        {
         "line": {
          "color": "blue",
          "dash": "solid",
          "width": 2
         },
         "mode": "lines",
         "name": "T = -60°C",
         "type": "scatter",
         "uid": "4daeb790-da97-4166-8e1e-1b7fd1029301",
         "x": [
          5,
          6,
          7,
          8,
          9,
          10,
          11,
          12,
          13,
          14,
          15,
          16,
          17,
          18,
          19,
          20,
          21,
          22,
          23,
          24,
          25
         ],
         "y": [
          19.111494886860918,
          14.985364332138131,
          11.94850782382632,
          9.637022527862134,
          7.831561368665002,
          6.391646156343279,
          5.222942086883366,
          4.259743642563098,
          3.4549940012831786,
          2.774266348537228,
          2.1919477416284834,
          1.6887154360473158,
          1.2498118095824013,
          0.8638358828506082,
          0.5218816523519489,
          0.21691576659297682,
          -0.05667639789938859,
          -0.3034245904937287,
          -0.527021116621949,
          -0.7305056043132696,
          -0.9164040447789246
         ]
        },
        {
         "line": {
          "color": "blue",
          "dash": "solid",
          "width": 2
         },
         "mode": "lines",
         "name": "T = -60°C",
         "type": "scatter",
         "uid": "1f7924cd-0264-4e66-af05-3ea7408e356d",
         "x": [
          5,
          6,
          7,
          8,
          9,
          10,
          11,
          12,
          13,
          14,
          15,
          16,
          17,
          18,
          19,
          20,
          21,
          22,
          23,
          24,
          25
         ],
         "y": [
          19.111494886860918,
          14.985364332138131,
          11.94850782382632,
          9.637022527862134,
          7.831561368665002,
          6.391646156343279,
          5.222942086883366,
          4.259743642563098,
          3.4549940012831786,
          2.774266348537228,
          2.1919477416284834,
          1.6887154360473158,
          1.2498118095824013,
          0.8638358828506082,
          0.5218816523519489,
          0.21691576659297682,
          -0.05667639789938859,
          -0.3034245904937287,
          -0.527021116621949,
          -0.7305056043132696,
          -0.9164040447789246
         ]
        },
        {
         "line": {
          "color": "blue",
          "dash": "solid",
          "width": 2
         },
         "mode": "lines",
         "name": "T = -60°C",
         "type": "scatter",
         "uid": "a259fdb6-d78f-4bc8-9479-5613482bb5e7",
         "x": [
          5,
          6,
          7,
          8,
          9,
          10,
          11,
          12,
          13,
          14,
          15,
          16,
          17,
          18,
          19,
          20,
          21,
          22,
          23,
          24,
          25
         ],
         "y": [
          19.111494886860918,
          14.985364332138131,
          11.94850782382632,
          9.637022527862134,
          7.831561368665002,
          6.391646156343279,
          5.222942086883366,
          4.259743642563098,
          3.4549940012831786,
          2.774266348537228,
          2.1919477416284834,
          1.6887154360473158,
          1.2498118095824013,
          0.8638358828506082,
          0.5218816523519489,
          0.21691576659297682,
          -0.05667639789938859,
          -0.3034245904937287,
          -0.527021116621949,
          -0.7305056043132696,
          -0.9164040447789246
         ]
        },
        {
         "line": {
          "color": "blue",
          "dash": "solid",
          "width": 2
         },
         "mode": "lines",
         "name": "T = -60°C",
         "type": "scatter",
         "uid": "d602fcc3-2177-4532-bd57-b16a27886272",
         "x": [
          5,
          6,
          7,
          8,
          9,
          10,
          11,
          12,
          13,
          14,
          15,
          16,
          17,
          18,
          19,
          20,
          21,
          22,
          23,
          24,
          25
         ],
         "y": [
          19.111494886860918,
          14.985364332138131,
          11.94850782382632,
          9.637022527862134,
          7.831561368665002,
          6.391646156343279,
          5.222942086883366,
          4.259743642563098,
          3.4549940012831786,
          2.774266348537228,
          2.1919477416284834,
          1.6887154360473158,
          1.2498118095824013,
          0.8638358828506082,
          0.5218816523519489,
          0.21691576659297682,
          -0.05667639789938859,
          -0.3034245904937287,
          -0.527021116621949,
          -0.7305056043132696,
          -0.9164040447789246
         ]
        },
        {
         "line": {
          "color": "blue",
          "dash": "solid",
          "width": 2
         },
         "mode": "lines",
         "name": "T = -60°C",
         "type": "scatter",
         "uid": "62cf720f-a462-45fb-8dd2-4ce91b12f3e7",
         "x": [
          5,
          6,
          7,
          8,
          9,
          10,
          11,
          12,
          13,
          14,
          15,
          16,
          17,
          18,
          19,
          20,
          21,
          22,
          23,
          24,
          25
         ],
         "y": [
          19.111494886860918,
          14.985364332138131,
          11.94850782382632,
          9.637022527862134,
          7.831561368665002,
          6.391646156343279,
          5.222942086883366,
          4.259743642563098,
          3.4549940012831786,
          2.774266348537228,
          2.1919477416284834,
          1.6887154360473158,
          1.2498118095824013,
          0.8638358828506082,
          0.5218816523519489,
          0.21691576659297682,
          -0.05667639789938859,
          -0.3034245904937287,
          -0.527021116621949,
          -0.7305056043132696,
          -0.9164040447789246
         ]
        },
        {
         "line": {
          "color": "blue",
          "dash": "solid",
          "width": 2
         },
         "mode": "lines",
         "name": "T = -60°C",
         "type": "scatter",
         "uid": "ddbce806-0aca-4b60-9cd5-30af9371daaa",
         "x": [
          5,
          6,
          7,
          8,
          9,
          10,
          11,
          12,
          13,
          14,
          15,
          16,
          17,
          18,
          19,
          20,
          21,
          22,
          23,
          24,
          25
         ],
         "y": [
          19.111494886860918,
          14.985364332138131,
          11.94850782382632,
          9.637022527862134,
          7.831561368665002,
          6.391646156343279,
          5.222942086883366,
          4.259743642563098,
          3.4549940012831786,
          2.774266348537228,
          2.1919477416284834,
          1.6887154360473158,
          1.2498118095824013,
          0.8638358828506082,
          0.5218816523519489,
          0.21691576659297682,
          -0.05667639789938859,
          -0.3034245904937287,
          -0.527021116621949,
          -0.7305056043132696,
          -0.9164040447789246
         ]
        },
        {
         "line": {
          "color": "blue",
          "dash": "solid",
          "width": 2
         },
         "mode": "lines",
         "name": "T = -60°C",
         "type": "scatter",
         "uid": "dce08b32-5a0e-4c79-b9bc-5f26b972e906",
         "x": [
          5,
          6,
          7,
          8,
          9,
          10,
          11,
          12,
          13,
          14,
          15,
          16,
          17,
          18,
          19,
          20,
          21,
          22,
          23,
          24,
          25
         ],
         "y": [
          19.111494886860918,
          14.985364332138131,
          11.94850782382632,
          9.637022527862134,
          7.831561368665002,
          6.391646156343279,
          5.222942086883366,
          4.259743642563098,
          3.4549940012831786,
          2.774266348537228,
          2.1919477416284834,
          1.6887154360473158,
          1.2498118095824013,
          0.8638358828506082,
          0.5218816523519489,
          0.21691576659297682,
          -0.05667639789938859,
          -0.3034245904937287,
          -0.527021116621949,
          -0.7305056043132696,
          -0.9164040447789246
         ]
        },
        {
         "line": {
          "color": "blue",
          "dash": "solid",
          "width": 2
         },
         "mode": "lines",
         "name": "T = -60°C",
         "type": "scatter",
         "uid": "ee2ce53e-8432-40ea-bee3-b5cf6b1faa37",
         "x": [
          5,
          6,
          7,
          8,
          9,
          10,
          11,
          12,
          13,
          14,
          15,
          16,
          17,
          18,
          19,
          20,
          21,
          22,
          23,
          24,
          25
         ],
         "y": [
          19.111494886860918,
          14.985364332138131,
          11.94850782382632,
          9.637022527862134,
          7.831561368665002,
          6.391646156343279,
          5.222942086883366,
          4.259743642563098,
          3.4549940012831786,
          2.774266348537228,
          2.1919477416284834,
          1.6887154360473158,
          1.2498118095824013,
          0.8638358828506082,
          0.5218816523519489,
          0.21691576659297682,
          -0.05667639789938859,
          -0.3034245904937287,
          -0.527021116621949,
          -0.7305056043132696,
          -0.9164040447789246
         ]
        },
        {
         "line": {
          "color": "blue",
          "dash": "solid",
          "width": 2
         },
         "mode": "lines",
         "name": "T = -60°C",
         "type": "scatter",
         "uid": "41be4c0b-d7c7-4138-a012-d059bd6a90e8",
         "x": [
          5,
          6,
          7,
          8,
          9,
          10,
          11,
          12,
          13,
          14,
          15,
          16,
          17,
          18,
          19,
          20,
          21,
          22,
          23,
          24,
          25
         ],
         "y": [
          19.111494886860918,
          14.985364332138131,
          11.94850782382632,
          9.637022527862134,
          7.831561368665002,
          6.391646156343279,
          5.222942086883366,
          4.259743642563098,
          3.4549940012831786,
          2.774266348537228,
          2.1919477416284834,
          1.6887154360473158,
          1.2498118095824013,
          0.8638358828506082,
          0.5218816523519489,
          0.21691576659297682,
          -0.05667639789938859,
          -0.3034245904937287,
          -0.527021116621949,
          -0.7305056043132696,
          -0.9164040447789246
         ]
        },
        {
         "line": {
          "color": "green",
          "dash": "solid",
          "width": 2
         },
         "mode": "lines",
         "name": "T = -40°C",
         "type": "scatter",
         "uid": "fd123dc8-e31e-4e79-bdd1-a7e10ba6a242",
         "x": [
          5,
          6,
          7,
          8,
          9,
          10,
          11,
          12,
          13,
          14,
          15,
          16,
          17,
          18,
          19,
          20,
          21,
          22,
          23,
          24,
          25
         ],
         "y": [
          27.815202916293266,
          22.433171372962907,
          18.380083325059694,
          15.232604125905548,
          12.726967062503054,
          10.690772701615415,
          9.006839563510018,
          7.59294389423973,
          6.389873604890842,
          5.354060537585215,
          4.452856303153723,
          3.6614023909510807,
          2.9604997583379027,
          2.3351262438375757,
          1.7733856761756455,
          1.2657512514943168,
          0.8045132659743203,
          0.38337099485951426,
          -0.002872368014997334,
          -0.3585401875792324,
          -0.6872582854526013
         ]
        },
        {
         "line": {
          "color": "green",
          "dash": "solid",
          "width": 2
         },
         "mode": "lines",
         "name": "T = -40°C",
         "type": "scatter",
         "uid": "46fa0bec-7a8e-44fd-a455-3a49c04a7c1b",
         "x": [
          5,
          6,
          7,
          8,
          9,
          10,
          11,
          12,
          13,
          14,
          15,
          16,
          17,
          18,
          19,
          20,
          21,
          22,
          23,
          24,
          25
         ],
         "y": [
          27.815202916293266,
          22.433171372962907,
          18.380083325059694,
          15.232604125905548,
          12.726967062503054,
          10.690772701615415,
          9.006839563510018,
          7.59294389423973,
          6.389873604890842,
          5.354060537585215,
          4.452856303153723,
          3.6614023909510807,
          2.9604997583379027,
          2.3351262438375757,
          1.7733856761756455,
          1.2657512514943168,
          0.8045132659743203,
          0.38337099485951426,
          -0.002872368014997334,
          -0.3585401875792324,
          -0.6872582854526013
         ]
        },
        {
         "line": {
          "color": "green",
          "dash": "solid",
          "width": 2
         },
         "mode": "lines",
         "name": "T = -40°C",
         "type": "scatter",
         "uid": "33a8946e-c8e2-4e63-9695-b025232bb13f",
         "x": [
          5,
          6,
          7,
          8,
          9,
          10,
          11,
          12,
          13,
          14,
          15,
          16,
          17,
          18,
          19,
          20,
          21,
          22,
          23,
          24,
          25
         ],
         "y": [
          27.815202916293266,
          22.433171372962907,
          18.380083325059694,
          15.232604125905548,
          12.726967062503054,
          10.690772701615415,
          9.006839563510018,
          7.59294389423973,
          6.389873604890842,
          5.354060537585215,
          4.452856303153723,
          3.6614023909510807,
          2.9604997583379027,
          2.3351262438375757,
          1.7733856761756455,
          1.2657512514943168,
          0.8045132659743203,
          0.38337099485951426,
          -0.002872368014997334,
          -0.3585401875792324,
          -0.6872582854526013
         ]
        },
        {
         "line": {
          "color": "green",
          "dash": "solid",
          "width": 2
         },
         "mode": "lines",
         "name": "T = -40°C",
         "type": "scatter",
         "uid": "1458e1db-fa34-457c-b843-1e608a1441ad",
         "x": [
          5,
          6,
          7,
          8,
          9,
          10,
          11,
          12,
          13,
          14,
          15,
          16,
          17,
          18,
          19,
          20,
          21,
          22,
          23,
          24,
          25
         ],
         "y": [
          27.815202916293266,
          22.433171372962907,
          18.380083325059694,
          15.232604125905548,
          12.726967062503054,
          10.690772701615415,
          9.006839563510018,
          7.59294389423973,
          6.389873604890842,
          5.354060537585215,
          4.452856303153723,
          3.6614023909510807,
          2.9604997583379027,
          2.3351262438375757,
          1.7733856761756455,
          1.2657512514943168,
          0.8045132659743203,
          0.38337099485951426,
          -0.002872368014997334,
          -0.3585401875792324,
          -0.6872582854526013
         ]
        },
        {
         "line": {
          "color": "green",
          "dash": "solid",
          "width": 2
         },
         "mode": "lines",
         "name": "T = -40°C",
         "type": "scatter",
         "uid": "0c8daa34-04a1-40b5-9e9a-59b4b82bdd6a",
         "x": [
          5,
          6,
          7,
          8,
          9,
          10,
          11,
          12,
          13,
          14,
          15,
          16,
          17,
          18,
          19,
          20,
          21,
          22,
          23,
          24,
          25
         ],
         "y": [
          27.815202916293266,
          22.433171372962907,
          18.380083325059694,
          15.232604125905548,
          12.726967062503054,
          10.690772701615415,
          9.006839563510018,
          7.59294389423973,
          6.389873604890842,
          5.354060537585215,
          4.452856303153723,
          3.6614023909510807,
          2.9604997583379027,
          2.3351262438375757,
          1.7733856761756455,
          1.2657512514943168,
          0.8045132659743203,
          0.38337099485951426,
          -0.002872368014997334,
          -0.3585401875792324,
          -0.6872582854526013
         ]
        },
        {
         "line": {
          "color": "green",
          "dash": "solid",
          "width": 2
         },
         "mode": "lines",
         "name": "T = -40°C",
         "type": "scatter",
         "uid": "5119332b-0bfc-4326-a59c-a017cf96a52c",
         "x": [
          5,
          6,
          7,
          8,
          9,
          10,
          11,
          12,
          13,
          14,
          15,
          16,
          17,
          18,
          19,
          20,
          21,
          22,
          23,
          24,
          25
         ],
         "y": [
          27.815202916293266,
          22.433171372962907,
          18.380083325059694,
          15.232604125905548,
          12.726967062503054,
          10.690772701615415,
          9.006839563510018,
          7.59294389423973,
          6.389873604890842,
          5.354060537585215,
          4.452856303153723,
          3.6614023909510807,
          2.9604997583379027,
          2.3351262438375757,
          1.7733856761756455,
          1.2657512514943168,
          0.8045132659743203,
          0.38337099485951426,
          -0.002872368014997334,
          -0.3585401875792324,
          -0.6872582854526013
         ]
        },
        {
         "line": {
          "color": "green",
          "dash": "solid",
          "width": 2
         },
         "mode": "lines",
         "name": "T = -40°C",
         "type": "scatter",
         "uid": "2f4d277e-87be-48ca-a5a8-0fc8454682d9",
         "x": [
          5,
          6,
          7,
          8,
          9,
          10,
          11,
          12,
          13,
          14,
          15,
          16,
          17,
          18,
          19,
          20,
          21,
          22,
          23,
          24,
          25
         ],
         "y": [
          27.815202916293266,
          22.433171372962907,
          18.380083325059694,
          15.232604125905548,
          12.726967062503054,
          10.690772701615415,
          9.006839563510018,
          7.59294389423973,
          6.389873604890842,
          5.354060537585215,
          4.452856303153723,
          3.6614023909510807,
          2.9604997583379027,
          2.3351262438375757,
          1.7733856761756455,
          1.2657512514943168,
          0.8045132659743203,
          0.38337099485951426,
          -0.002872368014997334,
          -0.3585401875792324,
          -0.6872582854526013
         ]
        },
        {
         "line": {
          "color": "green",
          "dash": "solid",
          "width": 2
         },
         "mode": "lines",
         "name": "T = -40°C",
         "type": "scatter",
         "uid": "85055224-8c61-438b-a9ab-ab859ebd267e",
         "x": [
          5,
          6,
          7,
          8,
          9,
          10,
          11,
          12,
          13,
          14,
          15,
          16,
          17,
          18,
          19,
          20,
          21,
          22,
          23,
          24,
          25
         ],
         "y": [
          27.815202916293266,
          22.433171372962907,
          18.380083325059694,
          15.232604125905548,
          12.726967062503054,
          10.690772701615415,
          9.006839563510018,
          7.59294389423973,
          6.389873604890842,
          5.354060537585215,
          4.452856303153723,
          3.6614023909510807,
          2.9604997583379027,
          2.3351262438375757,
          1.7733856761756455,
          1.2657512514943168,
          0.8045132659743203,
          0.38337099485951426,
          -0.002872368014997334,
          -0.3585401875792324,
          -0.6872582854526013
         ]
        },
        {
         "line": {
          "color": "green",
          "dash": "solid",
          "width": 2
         },
         "mode": "lines",
         "name": "T = -40°C",
         "type": "scatter",
         "uid": "0d73d39a-d280-438f-bb1a-d7b30a833216",
         "x": [
          5,
          6,
          7,
          8,
          9,
          10,
          11,
          12,
          13,
          14,
          15,
          16,
          17,
          18,
          19,
          20,
          21,
          22,
          23,
          24,
          25
         ],
         "y": [
          27.815202916293266,
          22.433171372962907,
          18.380083325059694,
          15.232604125905548,
          12.726967062503054,
          10.690772701615415,
          9.006839563510018,
          7.59294389423973,
          6.389873604890842,
          5.354060537585215,
          4.452856303153723,
          3.6614023909510807,
          2.9604997583379027,
          2.3351262438375757,
          1.7733856761756455,
          1.2657512514943168,
          0.8045132659743203,
          0.38337099485951426,
          -0.002872368014997334,
          -0.3585401875792324,
          -0.6872582854526013
         ]
        },
        {
         "line": {
          "color": "green",
          "dash": "solid",
          "width": 2
         },
         "mode": "lines",
         "name": "T = -40°C",
         "type": "scatter",
         "uid": "fda4855c-12d5-43c8-a3aa-be92f3f3add5",
         "x": [
          5,
          6,
          7,
          8,
          9,
          10,
          11,
          12,
          13,
          14,
          15,
          16,
          17,
          18,
          19,
          20,
          21,
          22,
          23,
          24,
          25
         ],
         "y": [
          27.815202916293266,
          22.433171372962907,
          18.380083325059694,
          15.232604125905548,
          12.726967062503054,
          10.690772701615415,
          9.006839563510018,
          7.59294389423973,
          6.389873604890842,
          5.354060537585215,
          4.452856303153723,
          3.6614023909510807,
          2.9604997583379027,
          2.3351262438375757,
          1.7733856761756455,
          1.2657512514943168,
          0.8045132659743203,
          0.38337099485951426,
          -0.002872368014997334,
          -0.3585401875792324,
          -0.6872582854526013
         ]
        },
        {
         "line": {
          "color": "green",
          "dash": "solid",
          "width": 2
         },
         "mode": "lines",
         "name": "T = -40°C",
         "type": "scatter",
         "uid": "a0d03644-753c-4028-91b6-ca4c1f225c81",
         "x": [
          5,
          6,
          7,
          8,
          9,
          10,
          11,
          12,
          13,
          14,
          15,
          16,
          17,
          18,
          19,
          20,
          21,
          22,
          23,
          24,
          25
         ],
         "y": [
          27.815202916293266,
          22.433171372962907,
          18.380083325059694,
          15.232604125905548,
          12.726967062503054,
          10.690772701615415,
          9.006839563510018,
          7.59294389423973,
          6.389873604890842,
          5.354060537585215,
          4.452856303153723,
          3.6614023909510807,
          2.9604997583379027,
          2.3351262438375757,
          1.7733856761756455,
          1.2657512514943168,
          0.8045132659743203,
          0.38337099485951426,
          -0.002872368014997334,
          -0.3585401875792324,
          -0.6872582854526013
         ]
        },
        {
         "line": {
          "color": "green",
          "dash": "solid",
          "width": 2
         },
         "mode": "lines",
         "name": "T = -40°C",
         "type": "scatter",
         "uid": "d615f4e3-2685-4c23-8042-f98cc75fb348",
         "x": [
          5,
          6,
          7,
          8,
          9,
          10,
          11,
          12,
          13,
          14,
          15,
          16,
          17,
          18,
          19,
          20,
          21,
          22,
          23,
          24,
          25
         ],
         "y": [
          27.815202916293266,
          22.433171372962907,
          18.380083325059694,
          15.232604125905548,
          12.726967062503054,
          10.690772701615415,
          9.006839563510018,
          7.59294389423973,
          6.389873604890842,
          5.354060537585215,
          4.452856303153723,
          3.6614023909510807,
          2.9604997583379027,
          2.3351262438375757,
          1.7733856761756455,
          1.2657512514943168,
          0.8045132659743203,
          0.38337099485951426,
          -0.002872368014997334,
          -0.3585401875792324,
          -0.6872582854526013
         ]
        },
        {
         "line": {
          "color": "green",
          "dash": "solid",
          "width": 2
         },
         "mode": "lines",
         "name": "T = -40°C",
         "type": "scatter",
         "uid": "c9b7510e-7f27-431a-8a75-94860772aceb",
         "x": [
          5,
          6,
          7,
          8,
          9,
          10,
          11,
          12,
          13,
          14,
          15,
          16,
          17,
          18,
          19,
          20,
          21,
          22,
          23,
          24,
          25
         ],
         "y": [
          27.815202916293266,
          22.433171372962907,
          18.380083325059694,
          15.232604125905548,
          12.726967062503054,
          10.690772701615415,
          9.006839563510018,
          7.59294389423973,
          6.389873604890842,
          5.354060537585215,
          4.452856303153723,
          3.6614023909510807,
          2.9604997583379027,
          2.3351262438375757,
          1.7733856761756455,
          1.2657512514943168,
          0.8045132659743203,
          0.38337099485951426,
          -0.002872368014997334,
          -0.3585401875792324,
          -0.6872582854526013
         ]
        },
        {
         "line": {
          "color": "green",
          "dash": "solid",
          "width": 2
         },
         "mode": "lines",
         "name": "T = -40°C",
         "type": "scatter",
         "uid": "112f9cb5-c48c-4cf9-a367-ed4c124eb530",
         "x": [
          5,
          6,
          7,
          8,
          9,
          10,
          11,
          12,
          13,
          14,
          15,
          16,
          17,
          18,
          19,
          20,
          21,
          22,
          23,
          24,
          25
         ],
         "y": [
          27.815202916293266,
          22.433171372962907,
          18.380083325059694,
          15.232604125905548,
          12.726967062503054,
          10.690772701615415,
          9.006839563510018,
          7.59294389423973,
          6.389873604890842,
          5.354060537585215,
          4.452856303153723,
          3.6614023909510807,
          2.9604997583379027,
          2.3351262438375757,
          1.7733856761756455,
          1.2657512514943168,
          0.8045132659743203,
          0.38337099485951426,
          -0.002872368014997334,
          -0.3585401875792324,
          -0.6872582854526013
         ]
        },
        {
         "line": {
          "color": "green",
          "dash": "solid",
          "width": 2
         },
         "mode": "lines",
         "name": "T = -40°C",
         "type": "scatter",
         "uid": "21f48bb6-a51c-4102-b24e-a8383a4343eb",
         "x": [
          5,
          6,
          7,
          8,
          9,
          10,
          11,
          12,
          13,
          14,
          15,
          16,
          17,
          18,
          19,
          20,
          21,
          22,
          23,
          24,
          25
         ],
         "y": [
          27.815202916293266,
          22.433171372962907,
          18.380083325059694,
          15.232604125905548,
          12.726967062503054,
          10.690772701615415,
          9.006839563510018,
          7.59294389423973,
          6.389873604890842,
          5.354060537585215,
          4.452856303153723,
          3.6614023909510807,
          2.9604997583379027,
          2.3351262438375757,
          1.7733856761756455,
          1.2657512514943168,
          0.8045132659743203,
          0.38337099485951426,
          -0.002872368014997334,
          -0.3585401875792324,
          -0.6872582854526013
         ]
        },
        {
         "line": {
          "color": "green",
          "dash": "solid",
          "width": 2
         },
         "mode": "lines",
         "name": "T = -40°C",
         "type": "scatter",
         "uid": "6a84d151-ccb1-4980-8d70-806e80aa6598",
         "x": [
          5,
          6,
          7,
          8,
          9,
          10,
          11,
          12,
          13,
          14,
          15,
          16,
          17,
          18,
          19,
          20,
          21,
          22,
          23,
          24,
          25
         ],
         "y": [
          27.815202916293266,
          22.433171372962907,
          18.380083325059694,
          15.232604125905548,
          12.726967062503054,
          10.690772701615415,
          9.006839563510018,
          7.59294389423973,
          6.389873604890842,
          5.354060537585215,
          4.452856303153723,
          3.6614023909510807,
          2.9604997583379027,
          2.3351262438375757,
          1.7733856761756455,
          1.2657512514943168,
          0.8045132659743203,
          0.38337099485951426,
          -0.002872368014997334,
          -0.3585401875792324,
          -0.6872582854526013
         ]
        },
        {
         "line": {
          "color": "green",
          "dash": "solid",
          "width": 2
         },
         "mode": "lines",
         "name": "T = -40°C",
         "type": "scatter",
         "uid": "645ed5f8-3009-4b0b-95c8-610382b568b9",
         "x": [
          5,
          6,
          7,
          8,
          9,
          10,
          11,
          12,
          13,
          14,
          15,
          16,
          17,
          18,
          19,
          20,
          21,
          22,
          23,
          24,
          25
         ],
         "y": [
          27.815202916293266,
          22.433171372962907,
          18.380083325059694,
          15.232604125905548,
          12.726967062503054,
          10.690772701615415,
          9.006839563510018,
          7.59294389423973,
          6.389873604890842,
          5.354060537585215,
          4.452856303153723,
          3.6614023909510807,
          2.9604997583379027,
          2.3351262438375757,
          1.7733856761756455,
          1.2657512514943168,
          0.8045132659743203,
          0.38337099485951426,
          -0.002872368014997334,
          -0.3585401875792324,
          -0.6872582854526013
         ]
        },
        {
         "line": {
          "color": "green",
          "dash": "solid",
          "width": 2
         },
         "mode": "lines",
         "name": "T = -40°C",
         "type": "scatter",
         "uid": "d1a41faf-f8c2-4983-8904-e17e9ee62a3a",
         "x": [
          5,
          6,
          7,
          8,
          9,
          10,
          11,
          12,
          13,
          14,
          15,
          16,
          17,
          18,
          19,
          20,
          21,
          22,
          23,
          24,
          25
         ],
         "y": [
          27.815202916293266,
          22.433171372962907,
          18.380083325059694,
          15.232604125905548,
          12.726967062503054,
          10.690772701615415,
          9.006839563510018,
          7.59294389423973,
          6.389873604890842,
          5.354060537585215,
          4.452856303153723,
          3.6614023909510807,
          2.9604997583379027,
          2.3351262438375757,
          1.7733856761756455,
          1.2657512514943168,
          0.8045132659743203,
          0.38337099485951426,
          -0.002872368014997334,
          -0.3585401875792324,
          -0.6872582854526013
         ]
        },
        {
         "line": {
          "color": "green",
          "dash": "solid",
          "width": 2
         },
         "mode": "lines",
         "name": "T = -40°C",
         "type": "scatter",
         "uid": "795cbff8-187a-492f-9e00-0cd7ec863c0b",
         "x": [
          5,
          6,
          7,
          8,
          9,
          10,
          11,
          12,
          13,
          14,
          15,
          16,
          17,
          18,
          19,
          20,
          21,
          22,
          23,
          24,
          25
         ],
         "y": [
          27.815202916293266,
          22.433171372962907,
          18.380083325059694,
          15.232604125905548,
          12.726967062503054,
          10.690772701615415,
          9.006839563510018,
          7.59294389423973,
          6.389873604890842,
          5.354060537585215,
          4.452856303153723,
          3.6614023909510807,
          2.9604997583379027,
          2.3351262438375757,
          1.7733856761756455,
          1.2657512514943168,
          0.8045132659743203,
          0.38337099485951426,
          -0.002872368014997334,
          -0.3585401875792324,
          -0.6872582854526013
         ]
        },
        {
         "line": {
          "color": "green",
          "dash": "solid",
          "width": 2
         },
         "mode": "lines",
         "name": "T = -40°C",
         "type": "scatter",
         "uid": "9ef39af3-9711-4d82-b588-0cc96f889660",
         "x": [
          5,
          6,
          7,
          8,
          9,
          10,
          11,
          12,
          13,
          14,
          15,
          16,
          17,
          18,
          19,
          20,
          21,
          22,
          23,
          24,
          25
         ],
         "y": [
          27.815202916293266,
          22.433171372962907,
          18.380083325059694,
          15.232604125905548,
          12.726967062503054,
          10.690772701615415,
          9.006839563510018,
          7.59294389423973,
          6.389873604890842,
          5.354060537585215,
          4.452856303153723,
          3.6614023909510807,
          2.9604997583379027,
          2.3351262438375757,
          1.7733856761756455,
          1.2657512514943168,
          0.8045132659743203,
          0.38337099485951426,
          -0.002872368014997334,
          -0.3585401875792324,
          -0.6872582854526013
         ]
        },
        {
         "line": {
          "color": "green",
          "dash": "solid",
          "width": 2
         },
         "mode": "lines",
         "name": "T = -40°C",
         "type": "scatter",
         "uid": "707a776f-68d7-491e-aa75-c3b04706f112",
         "x": [
          5,
          6,
          7,
          8,
          9,
          10,
          11,
          12,
          13,
          14,
          15,
          16,
          17,
          18,
          19,
          20,
          21,
          22,
          23,
          24,
          25
         ],
         "y": [
          27.815202916293266,
          22.433171372962907,
          18.380083325059694,
          15.232604125905548,
          12.726967062503054,
          10.690772701615415,
          9.006839563510018,
          7.59294389423973,
          6.389873604890842,
          5.354060537585215,
          4.452856303153723,
          3.6614023909510807,
          2.9604997583379027,
          2.3351262438375757,
          1.7733856761756455,
          1.2657512514943168,
          0.8045132659743203,
          0.38337099485951426,
          -0.002872368014997334,
          -0.3585401875792324,
          -0.6872582854526013
         ]
        }
       ],
       "layout": {
        "annotations": [
         {
          "font": {
           "size": 18
          },
          "showarrow": false,
          "text": "$\\LARGE{m}$",
          "x": 0.5,
          "xref": "paper",
          "y": -0.2,
          "yref": "paper"
         },
         {
          "font": {
           "size": 18
          },
          "showarrow": false,
          "text": "$\\LARGE{ \\Delta \\sigma_\\mathrm{w} (\\%)}$",
          "textangle": -90,
          "x": -0.2,
          "xref": "paper",
          "y": 0.5,
          "yref": "paper"
         },
         {
          "font": {
           "size": 18
          },
          "showarrow": false,
          "text": "",
          "x": 0.41,
          "xref": "paper",
          "y": 1.1,
          "yref": "paper"
         }
        ],
        "height": 420,
        "legend": {
         "x": 0.6,
         "y": 0.5
        },
        "margin": {
         "b": 80,
         "l": 80,
         "r": 20,
         "t": 40
        },
        "showlegend": false,
        "template": {
         "data": {
          "bar": [
           {
            "error_x": {
             "color": "#2a3f5f"
            },
            "error_y": {
             "color": "#2a3f5f"
            },
            "marker": {
             "line": {
              "color": "#E5ECF6",
              "width": 0.5
             }
            },
            "type": "bar"
           }
          ],
          "barpolar": [
           {
            "marker": {
             "line": {
              "color": "#E5ECF6",
              "width": 0.5
             }
            },
            "type": "barpolar"
           }
          ],
          "carpet": [
           {
            "aaxis": {
             "endlinecolor": "#2a3f5f",
             "gridcolor": "white",
             "linecolor": "white",
             "minorgridcolor": "white",
             "startlinecolor": "#2a3f5f"
            },
            "baxis": {
             "endlinecolor": "#2a3f5f",
             "gridcolor": "white",
             "linecolor": "white",
             "minorgridcolor": "white",
             "startlinecolor": "#2a3f5f"
            },
            "type": "carpet"
           }
          ],
          "choropleth": [
           {
            "colorbar": {
             "outlinewidth": 0,
             "ticks": ""
            },
            "type": "choropleth"
           }
          ],
          "contour": [
           {
            "colorbar": {
             "outlinewidth": 0,
             "ticks": ""
            },
            "colorscale": [
             [
              0,
              "#0d0887"
             ],
             [
              0.1111111111111111,
              "#46039f"
             ],
             [
              0.2222222222222222,
              "#7201a8"
             ],
             [
              0.3333333333333333,
              "#9c179e"
             ],
             [
              0.4444444444444444,
              "#bd3786"
             ],
             [
              0.5555555555555556,
              "#d8576b"
             ],
             [
              0.6666666666666666,
              "#ed7953"
             ],
             [
              0.7777777777777778,
              "#fb9f3a"
             ],
             [
              0.8888888888888888,
              "#fdca26"
             ],
             [
              1,
              "#f0f921"
             ]
            ],
            "type": "contour"
           }
          ],
          "contourcarpet": [
           {
            "colorbar": {
             "outlinewidth": 0,
             "ticks": ""
            },
            "type": "contourcarpet"
           }
          ],
          "heatmap": [
           {
            "colorbar": {
             "outlinewidth": 0,
             "ticks": ""
            },
            "colorscale": [
             [
              0,
              "#0d0887"
             ],
             [
              0.1111111111111111,
              "#46039f"
             ],
             [
              0.2222222222222222,
              "#7201a8"
             ],
             [
              0.3333333333333333,
              "#9c179e"
             ],
             [
              0.4444444444444444,
              "#bd3786"
             ],
             [
              0.5555555555555556,
              "#d8576b"
             ],
             [
              0.6666666666666666,
              "#ed7953"
             ],
             [
              0.7777777777777778,
              "#fb9f3a"
             ],
             [
              0.8888888888888888,
              "#fdca26"
             ],
             [
              1,
              "#f0f921"
             ]
            ],
            "type": "heatmap"
           }
          ],
          "heatmapgl": [
           {
            "colorbar": {
             "outlinewidth": 0,
             "ticks": ""
            },
            "colorscale": [
             [
              0,
              "#0d0887"
             ],
             [
              0.1111111111111111,
              "#46039f"
             ],
             [
              0.2222222222222222,
              "#7201a8"
             ],
             [
              0.3333333333333333,
              "#9c179e"
             ],
             [
              0.4444444444444444,
              "#bd3786"
             ],
             [
              0.5555555555555556,
              "#d8576b"
             ],
             [
              0.6666666666666666,
              "#ed7953"
             ],
             [
              0.7777777777777778,
              "#fb9f3a"
             ],
             [
              0.8888888888888888,
              "#fdca26"
             ],
             [
              1,
              "#f0f921"
             ]
            ],
            "type": "heatmapgl"
           }
          ],
          "histogram": [
           {
            "marker": {
             "colorbar": {
              "outlinewidth": 0,
              "ticks": ""
             }
            },
            "type": "histogram"
           }
          ],
          "histogram2d": [
           {
            "colorbar": {
             "outlinewidth": 0,
             "ticks": ""
            },
            "colorscale": [
             [
              0,
              "#0d0887"
             ],
             [
              0.1111111111111111,
              "#46039f"
             ],
             [
              0.2222222222222222,
              "#7201a8"
             ],
             [
              0.3333333333333333,
              "#9c179e"
             ],
             [
              0.4444444444444444,
              "#bd3786"
             ],
             [
              0.5555555555555556,
              "#d8576b"
             ],
             [
              0.6666666666666666,
              "#ed7953"
             ],
             [
              0.7777777777777778,
              "#fb9f3a"
             ],
             [
              0.8888888888888888,
              "#fdca26"
             ],
             [
              1,
              "#f0f921"
             ]
            ],
            "type": "histogram2d"
           }
          ],
          "histogram2dcontour": [
           {
            "colorbar": {
             "outlinewidth": 0,
             "ticks": ""
            },
            "colorscale": [
             [
              0,
              "#0d0887"
             ],
             [
              0.1111111111111111,
              "#46039f"
             ],
             [
              0.2222222222222222,
              "#7201a8"
             ],
             [
              0.3333333333333333,
              "#9c179e"
             ],
             [
              0.4444444444444444,
              "#bd3786"
             ],
             [
              0.5555555555555556,
              "#d8576b"
             ],
             [
              0.6666666666666666,
              "#ed7953"
             ],
             [
              0.7777777777777778,
              "#fb9f3a"
             ],
             [
              0.8888888888888888,
              "#fdca26"
             ],
             [
              1,
              "#f0f921"
             ]
            ],
            "type": "histogram2dcontour"
           }
          ],
          "mesh3d": [
           {
            "colorbar": {
             "outlinewidth": 0,
             "ticks": ""
            },
            "type": "mesh3d"
           }
          ],
          "parcoords": [
           {
            "line": {
             "colorbar": {
              "outlinewidth": 0,
              "ticks": ""
             }
            },
            "type": "parcoords"
           }
          ],
          "pie": [
           {
            "automargin": true,
            "type": "pie"
           }
          ],
          "scatter": [
           {
            "marker": {
             "colorbar": {
              "outlinewidth": 0,
              "ticks": ""
             }
            },
            "type": "scatter"
           }
          ],
          "scatter3d": [
           {
            "line": {
             "colorbar": {
              "outlinewidth": 0,
              "ticks": ""
             }
            },
            "marker": {
             "colorbar": {
              "outlinewidth": 0,
              "ticks": ""
             }
            },
            "type": "scatter3d"
           }
          ],
          "scattercarpet": [
           {
            "marker": {
             "colorbar": {
              "outlinewidth": 0,
              "ticks": ""
             }
            },
            "type": "scattercarpet"
           }
          ],
          "scattergeo": [
           {
            "marker": {
             "colorbar": {
              "outlinewidth": 0,
              "ticks": ""
             }
            },
            "type": "scattergeo"
           }
          ],
          "scattergl": [
           {
            "marker": {
             "colorbar": {
              "outlinewidth": 0,
              "ticks": ""
             }
            },
            "type": "scattergl"
           }
          ],
          "scattermapbox": [
           {
            "marker": {
             "colorbar": {
              "outlinewidth": 0,
              "ticks": ""
             }
            },
            "type": "scattermapbox"
           }
          ],
          "scatterpolar": [
           {
            "marker": {
             "colorbar": {
              "outlinewidth": 0,
              "ticks": ""
             }
            },
            "type": "scatterpolar"
           }
          ],
          "scatterpolargl": [
           {
            "marker": {
             "colorbar": {
              "outlinewidth": 0,
              "ticks": ""
             }
            },
            "type": "scatterpolargl"
           }
          ],
          "scatterternary": [
           {
            "marker": {
             "colorbar": {
              "outlinewidth": 0,
              "ticks": ""
             }
            },
            "type": "scatterternary"
           }
          ],
          "surface": [
           {
            "colorbar": {
             "outlinewidth": 0,
             "ticks": ""
            },
            "colorscale": [
             [
              0,
              "#0d0887"
             ],
             [
              0.1111111111111111,
              "#46039f"
             ],
             [
              0.2222222222222222,
              "#7201a8"
             ],
             [
              0.3333333333333333,
              "#9c179e"
             ],
             [
              0.4444444444444444,
              "#bd3786"
             ],
             [
              0.5555555555555556,
              "#d8576b"
             ],
             [
              0.6666666666666666,
              "#ed7953"
             ],
             [
              0.7777777777777778,
              "#fb9f3a"
             ],
             [
              0.8888888888888888,
              "#fdca26"
             ],
             [
              1,
              "#f0f921"
             ]
            ],
            "type": "surface"
           }
          ],
          "table": [
           {
            "cells": {
             "fill": {
              "color": "#EBF0F8"
             },
             "line": {
              "color": "white"
             }
            },
            "header": {
             "fill": {
              "color": "#C8D4E3"
             },
             "line": {
              "color": "white"
             }
            },
            "type": "table"
           }
          ]
         },
         "layout": {
          "annotationdefaults": {
           "arrowcolor": "#2a3f5f",
           "arrowhead": 0,
           "arrowwidth": 1
          },
          "autotypenumbers": "strict",
          "coloraxis": {
           "colorbar": {
            "outlinewidth": 0,
            "ticks": ""
           }
          },
          "colorscale": {
           "diverging": [
            [
             0,
             "#8e0152"
            ],
            [
             0.1,
             "#c51b7d"
            ],
            [
             0.2,
             "#de77ae"
            ],
            [
             0.3,
             "#f1b6da"
            ],
            [
             0.4,
             "#fde0ef"
            ],
            [
             0.5,
             "#f7f7f7"
            ],
            [
             0.6,
             "#e6f5d0"
            ],
            [
             0.7,
             "#b8e186"
            ],
            [
             0.8,
             "#7fbc41"
            ],
            [
             0.9,
             "#4d9221"
            ],
            [
             1,
             "#276419"
            ]
           ],
           "sequential": [
            [
             0,
             "#0d0887"
            ],
            [
             0.1111111111111111,
             "#46039f"
            ],
            [
             0.2222222222222222,
             "#7201a8"
            ],
            [
             0.3333333333333333,
             "#9c179e"
            ],
            [
             0.4444444444444444,
             "#bd3786"
            ],
            [
             0.5555555555555556,
             "#d8576b"
            ],
            [
             0.6666666666666666,
             "#ed7953"
            ],
            [
             0.7777777777777778,
             "#fb9f3a"
            ],
            [
             0.8888888888888888,
             "#fdca26"
            ],
            [
             1,
             "#f0f921"
            ]
           ],
           "sequentialminus": [
            [
             0,
             "#0d0887"
            ],
            [
             0.1111111111111111,
             "#46039f"
            ],
            [
             0.2222222222222222,
             "#7201a8"
            ],
            [
             0.3333333333333333,
             "#9c179e"
            ],
            [
             0.4444444444444444,
             "#bd3786"
            ],
            [
             0.5555555555555556,
             "#d8576b"
            ],
            [
             0.6666666666666666,
             "#ed7953"
            ],
            [
             0.7777777777777778,
             "#fb9f3a"
            ],
            [
             0.8888888888888888,
             "#fdca26"
            ],
            [
             1,
             "#f0f921"
            ]
           ]
          },
          "colorway": [
           "#636efa",
           "#EF553B",
           "#00cc96",
           "#ab63fa",
           "#FFA15A",
           "#19d3f3",
           "#FF6692",
           "#B6E880",
           "#FF97FF",
           "#FECB52"
          ],
          "font": {
           "color": "#2a3f5f"
          },
          "geo": {
           "bgcolor": "white",
           "lakecolor": "white",
           "landcolor": "#E5ECF6",
           "showlakes": true,
           "showland": true,
           "subunitcolor": "white"
          },
          "hoverlabel": {
           "align": "left"
          },
          "hovermode": "closest",
          "mapbox": {
           "style": "light"
          },
          "paper_bgcolor": "white",
          "plot_bgcolor": "#E5ECF6",
          "polar": {
           "angularaxis": {
            "gridcolor": "white",
            "linecolor": "white",
            "ticks": ""
           },
           "bgcolor": "#E5ECF6",
           "radialaxis": {
            "gridcolor": "white",
            "linecolor": "white",
            "ticks": ""
           }
          },
          "scene": {
           "xaxis": {
            "backgroundcolor": "#E5ECF6",
            "gridcolor": "white",
            "gridwidth": 2,
            "linecolor": "white",
            "showbackground": true,
            "ticks": "",
            "zerolinecolor": "white"
           },
           "yaxis": {
            "backgroundcolor": "#E5ECF6",
            "gridcolor": "white",
            "gridwidth": 2,
            "linecolor": "white",
            "showbackground": true,
            "ticks": "",
            "zerolinecolor": "white"
           },
           "zaxis": {
            "backgroundcolor": "#E5ECF6",
            "gridcolor": "white",
            "gridwidth": 2,
            "linecolor": "white",
            "showbackground": true,
            "ticks": "",
            "zerolinecolor": "white"
           }
          },
          "shapedefaults": {
           "line": {
            "color": "#2a3f5f"
           }
          },
          "ternary": {
           "aaxis": {
            "gridcolor": "white",
            "linecolor": "white",
            "ticks": ""
           },
           "baxis": {
            "gridcolor": "white",
            "linecolor": "white",
            "ticks": ""
           },
           "bgcolor": "#E5ECF6",
           "caxis": {
            "gridcolor": "white",
            "linecolor": "white",
            "ticks": ""
           }
          },
          "title": {
           "x": 0.05
          },
          "xaxis": {
           "automargin": true,
           "gridcolor": "white",
           "linecolor": "white",
           "ticks": "",
           "title": {
            "standoff": 15
           },
           "zerolinecolor": "white",
           "zerolinewidth": 2
          },
          "yaxis": {
           "automargin": true,
           "gridcolor": "white",
           "linecolor": "white",
           "ticks": "",
           "title": {
            "standoff": 15
           },
           "zerolinecolor": "white",
           "zerolinewidth": 2
          }
         }
        },
        "width": 450,
        "xaxis": {
         "mirror": "all",
         "range": [
          5,
          25
         ],
         "showline": true,
         "title": {
          "font": {
           "size": 13
          }
         },
         "zeroline": false
        },
        "yaxis": {
         "mirror": "all",
         "showline": true,
         "title": {
          "font": {
           "size": 13
          }
         },
         "zeroline": false
        }
       }
      },
      "text/html": [
       "<div>                            <div id=\"c8174f73-706a-48dd-a948-88e93a505b2a\" class=\"plotly-graph-div\" style=\"height:420px; width:450px;\"></div>            <script type=\"text/javascript\">                require([\"plotly\"], function(Plotly) {                    window.PLOTLYENV=window.PLOTLYENV || {};                                    if (document.getElementById(\"c8174f73-706a-48dd-a948-88e93a505b2a\")) {                    Plotly.newPlot(                        \"c8174f73-706a-48dd-a948-88e93a505b2a\",                        [{\"line\": {\"color\": \"black\", \"dash\": \"solid\", \"width\": 2}, \"mode\": \"lines\", \"name\": \"T = -91\\u00b0C\", \"type\": \"scatter\", \"uid\": \"18d3fd75-c3b5-4958-be75-0a205b29a56d\", \"x\": [5, 6, 7, 8, 9, 10, 11, 12, 13, 14, 15, 16, 17, 18, 19, 20, 21, 22, 23, 24, 25], \"y\": [0.0, 0.0, 0.0, 0.0, 0.0, 0.0, 0.0, 0.0, 0.0, 0.0, 0.0, 0.0, 0.0, 0.0, 0.0, 0.0, 0.0, 0.0, 0.0, 0.0, 0.0]}, {\"line\": {\"color\": \"black\", \"dash\": \"solid\", \"width\": 2}, \"mode\": \"lines\", \"name\": \"T = -91\\u00b0C\", \"type\": \"scatter\", \"uid\": \"a6d5706b-2bf1-4404-855f-4ac1c960f297\", \"x\": [5, 6, 7, 8, 9, 10, 11, 12, 13, 14, 15, 16, 17, 18, 19, 20, 21, 22, 23, 24, 25], \"y\": [0.0, 0.0, 0.0, 0.0, 0.0, 0.0, 0.0, 0.0, 0.0, 0.0, 0.0, 0.0, 0.0, 0.0, 0.0, 0.0, 0.0, 0.0, 0.0, 0.0, 0.0]}, {\"line\": {\"color\": \"black\", \"dash\": \"solid\", \"width\": 2}, \"mode\": \"lines\", \"name\": \"T = -91\\u00b0C\", \"type\": \"scatter\", \"uid\": \"193ef65a-27b1-4cbd-b5b3-4f5c03507b95\", \"x\": [5, 6, 7, 8, 9, 10, 11, 12, 13, 14, 15, 16, 17, 18, 19, 20, 21, 22, 23, 24, 25], \"y\": [0.0, 0.0, 0.0, 0.0, 0.0, 0.0, 0.0, 0.0, 0.0, 0.0, 0.0, 0.0, 0.0, 0.0, 0.0, 0.0, 0.0, 0.0, 0.0, 0.0, 0.0]}, {\"line\": {\"color\": \"black\", \"dash\": \"solid\", \"width\": 2}, \"mode\": \"lines\", \"name\": \"T = -91\\u00b0C\", \"type\": \"scatter\", \"uid\": \"399b7d79-f0b3-4bcf-8536-5855b6a5dc74\", \"x\": [5, 6, 7, 8, 9, 10, 11, 12, 13, 14, 15, 16, 17, 18, 19, 20, 21, 22, 23, 24, 25], \"y\": [0.0, 0.0, 0.0, 0.0, 0.0, 0.0, 0.0, 0.0, 0.0, 0.0, 0.0, 0.0, 0.0, 0.0, 0.0, 0.0, 0.0, 0.0, 0.0, 0.0, 0.0]}, {\"line\": {\"color\": \"black\", \"dash\": \"solid\", \"width\": 2}, \"mode\": \"lines\", \"name\": \"T = -91\\u00b0C\", \"type\": \"scatter\", \"uid\": \"ae5e7f14-c45b-4ab0-af5a-254928b8ec89\", \"x\": [5, 6, 7, 8, 9, 10, 11, 12, 13, 14, 15, 16, 17, 18, 19, 20, 21, 22, 23, 24, 25], \"y\": [0.0, 0.0, 0.0, 0.0, 0.0, 0.0, 0.0, 0.0, 0.0, 0.0, 0.0, 0.0, 0.0, 0.0, 0.0, 0.0, 0.0, 0.0, 0.0, 0.0, 0.0]}, {\"line\": {\"color\": \"black\", \"dash\": \"solid\", \"width\": 2}, \"mode\": \"lines\", \"name\": \"T = -91\\u00b0C\", \"type\": \"scatter\", \"uid\": \"7a829386-5792-4419-899a-ce1a704b1ea0\", \"x\": [5, 6, 7, 8, 9, 10, 11, 12, 13, 14, 15, 16, 17, 18, 19, 20, 21, 22, 23, 24, 25], \"y\": [0.0, 0.0, 0.0, 0.0, 0.0, 0.0, 0.0, 0.0, 0.0, 0.0, 0.0, 0.0, 0.0, 0.0, 0.0, 0.0, 0.0, 0.0, 0.0, 0.0, 0.0]}, {\"line\": {\"color\": \"black\", \"dash\": \"solid\", \"width\": 2}, \"mode\": \"lines\", \"name\": \"T = -91\\u00b0C\", \"type\": \"scatter\", \"uid\": \"ea2b60b5-2d1f-4224-b5dc-bd8e6c60e0d2\", \"x\": [5, 6, 7, 8, 9, 10, 11, 12, 13, 14, 15, 16, 17, 18, 19, 20, 21, 22, 23, 24, 25], \"y\": [0.0, 0.0, 0.0, 0.0, 0.0, 0.0, 0.0, 0.0, 0.0, 0.0, 0.0, 0.0, 0.0, 0.0, 0.0, 0.0, 0.0, 0.0, 0.0, 0.0, 0.0]}, {\"line\": {\"color\": \"black\", \"dash\": \"solid\", \"width\": 2}, \"mode\": \"lines\", \"name\": \"T = -91\\u00b0C\", \"type\": \"scatter\", \"uid\": \"6c395185-2966-4b21-97a4-cafd43377c2d\", \"x\": [5, 6, 7, 8, 9, 10, 11, 12, 13, 14, 15, 16, 17, 18, 19, 20, 21, 22, 23, 24, 25], \"y\": [0.0, 0.0, 0.0, 0.0, 0.0, 0.0, 0.0, 0.0, 0.0, 0.0, 0.0, 0.0, 0.0, 0.0, 0.0, 0.0, 0.0, 0.0, 0.0, 0.0, 0.0]}, {\"line\": {\"color\": \"black\", \"dash\": \"solid\", \"width\": 2}, \"mode\": \"lines\", \"name\": \"T = -91\\u00b0C\", \"type\": \"scatter\", \"uid\": \"fd225223-6a5c-490e-a1e9-f09677266f07\", \"x\": [5, 6, 7, 8, 9, 10, 11, 12, 13, 14, 15, 16, 17, 18, 19, 20, 21, 22, 23, 24, 25], \"y\": [0.0, 0.0, 0.0, 0.0, 0.0, 0.0, 0.0, 0.0, 0.0, 0.0, 0.0, 0.0, 0.0, 0.0, 0.0, 0.0, 0.0, 0.0, 0.0, 0.0, 0.0]}, {\"line\": {\"color\": \"black\", \"dash\": \"solid\", \"width\": 2}, \"mode\": \"lines\", \"name\": \"T = -91\\u00b0C\", \"type\": \"scatter\", \"uid\": \"44de900e-b4c6-4f3b-861e-38675264f82d\", \"x\": [5, 6, 7, 8, 9, 10, 11, 12, 13, 14, 15, 16, 17, 18, 19, 20, 21, 22, 23, 24, 25], \"y\": [0.0, 0.0, 0.0, 0.0, 0.0, 0.0, 0.0, 0.0, 0.0, 0.0, 0.0, 0.0, 0.0, 0.0, 0.0, 0.0, 0.0, 0.0, 0.0, 0.0, 0.0]}, {\"line\": {\"color\": \"black\", \"dash\": \"solid\", \"width\": 2}, \"mode\": \"lines\", \"name\": \"T = -91\\u00b0C\", \"type\": \"scatter\", \"uid\": \"e5baf4ce-e0dd-4e79-a7c7-ef06c847a42a\", \"x\": [5, 6, 7, 8, 9, 10, 11, 12, 13, 14, 15, 16, 17, 18, 19, 20, 21, 22, 23, 24, 25], \"y\": [0.0, 0.0, 0.0, 0.0, 0.0, 0.0, 0.0, 0.0, 0.0, 0.0, 0.0, 0.0, 0.0, 0.0, 0.0, 0.0, 0.0, 0.0, 0.0, 0.0, 0.0]}, {\"line\": {\"color\": \"black\", \"dash\": \"solid\", \"width\": 2}, \"mode\": \"lines\", \"name\": \"T = -91\\u00b0C\", \"type\": \"scatter\", \"uid\": \"c30910c3-b8d9-4680-9e27-6fb05d2ee10d\", \"x\": [5, 6, 7, 8, 9, 10, 11, 12, 13, 14, 15, 16, 17, 18, 19, 20, 21, 22, 23, 24, 25], \"y\": [0.0, 0.0, 0.0, 0.0, 0.0, 0.0, 0.0, 0.0, 0.0, 0.0, 0.0, 0.0, 0.0, 0.0, 0.0, 0.0, 0.0, 0.0, 0.0, 0.0, 0.0]}, {\"line\": {\"color\": \"black\", \"dash\": \"solid\", \"width\": 2}, \"mode\": \"lines\", \"name\": \"T = -91\\u00b0C\", \"type\": \"scatter\", \"uid\": \"135fffb7-5599-4f57-8a3c-af5d9277be72\", \"x\": [5, 6, 7, 8, 9, 10, 11, 12, 13, 14, 15, 16, 17, 18, 19, 20, 21, 22, 23, 24, 25], \"y\": [0.0, 0.0, 0.0, 0.0, 0.0, 0.0, 0.0, 0.0, 0.0, 0.0, 0.0, 0.0, 0.0, 0.0, 0.0, 0.0, 0.0, 0.0, 0.0, 0.0, 0.0]}, {\"line\": {\"color\": \"black\", \"dash\": \"solid\", \"width\": 2}, \"mode\": \"lines\", \"name\": \"T = -91\\u00b0C\", \"type\": \"scatter\", \"uid\": \"6b7b78ff-7be2-4a96-aa30-38f90b9a7cfb\", \"x\": [5, 6, 7, 8, 9, 10, 11, 12, 13, 14, 15, 16, 17, 18, 19, 20, 21, 22, 23, 24, 25], \"y\": [0.0, 0.0, 0.0, 0.0, 0.0, 0.0, 0.0, 0.0, 0.0, 0.0, 0.0, 0.0, 0.0, 0.0, 0.0, 0.0, 0.0, 0.0, 0.0, 0.0, 0.0]}, {\"line\": {\"color\": \"black\", \"dash\": \"solid\", \"width\": 2}, \"mode\": \"lines\", \"name\": \"T = -91\\u00b0C\", \"type\": \"scatter\", \"uid\": \"435db05a-38c1-4564-a978-6f501dc7ce31\", \"x\": [5, 6, 7, 8, 9, 10, 11, 12, 13, 14, 15, 16, 17, 18, 19, 20, 21, 22, 23, 24, 25], \"y\": [0.0, 0.0, 0.0, 0.0, 0.0, 0.0, 0.0, 0.0, 0.0, 0.0, 0.0, 0.0, 0.0, 0.0, 0.0, 0.0, 0.0, 0.0, 0.0, 0.0, 0.0]}, {\"line\": {\"color\": \"black\", \"dash\": \"solid\", \"width\": 2}, \"mode\": \"lines\", \"name\": \"T = -91\\u00b0C\", \"type\": \"scatter\", \"uid\": \"c4e7ac03-389e-43c1-82b3-aaa096179557\", \"x\": [5, 6, 7, 8, 9, 10, 11, 12, 13, 14, 15, 16, 17, 18, 19, 20, 21, 22, 23, 24, 25], \"y\": [0.0, 0.0, 0.0, 0.0, 0.0, 0.0, 0.0, 0.0, 0.0, 0.0, 0.0, 0.0, 0.0, 0.0, 0.0, 0.0, 0.0, 0.0, 0.0, 0.0, 0.0]}, {\"line\": {\"color\": \"black\", \"dash\": \"solid\", \"width\": 2}, \"mode\": \"lines\", \"name\": \"T = -91\\u00b0C\", \"type\": \"scatter\", \"uid\": \"470b9ecb-fe68-421e-8ee4-2bb025ea1942\", \"x\": [5, 6, 7, 8, 9, 10, 11, 12, 13, 14, 15, 16, 17, 18, 19, 20, 21, 22, 23, 24, 25], \"y\": [0.0, 0.0, 0.0, 0.0, 0.0, 0.0, 0.0, 0.0, 0.0, 0.0, 0.0, 0.0, 0.0, 0.0, 0.0, 0.0, 0.0, 0.0, 0.0, 0.0, 0.0]}, {\"line\": {\"color\": \"black\", \"dash\": \"solid\", \"width\": 2}, \"mode\": \"lines\", \"name\": \"T = -91\\u00b0C\", \"type\": \"scatter\", \"uid\": \"b2dbe057-1bcc-4c85-b862-0eb5044db767\", \"x\": [5, 6, 7, 8, 9, 10, 11, 12, 13, 14, 15, 16, 17, 18, 19, 20, 21, 22, 23, 24, 25], \"y\": [0.0, 0.0, 0.0, 0.0, 0.0, 0.0, 0.0, 0.0, 0.0, 0.0, 0.0, 0.0, 0.0, 0.0, 0.0, 0.0, 0.0, 0.0, 0.0, 0.0, 0.0]}, {\"line\": {\"color\": \"black\", \"dash\": \"solid\", \"width\": 2}, \"mode\": \"lines\", \"name\": \"T = -91\\u00b0C\", \"type\": \"scatter\", \"uid\": \"90c0d7ac-3d60-400d-822f-69103513acef\", \"x\": [5, 6, 7, 8, 9, 10, 11, 12, 13, 14, 15, 16, 17, 18, 19, 20, 21, 22, 23, 24, 25], \"y\": [0.0, 0.0, 0.0, 0.0, 0.0, 0.0, 0.0, 0.0, 0.0, 0.0, 0.0, 0.0, 0.0, 0.0, 0.0, 0.0, 0.0, 0.0, 0.0, 0.0, 0.0]}, {\"line\": {\"color\": \"black\", \"dash\": \"solid\", \"width\": 2}, \"mode\": \"lines\", \"name\": \"T = -91\\u00b0C\", \"type\": \"scatter\", \"uid\": \"b7762482-7047-4e62-adf4-b2ca589b9a91\", \"x\": [5, 6, 7, 8, 9, 10, 11, 12, 13, 14, 15, 16, 17, 18, 19, 20, 21, 22, 23, 24, 25], \"y\": [0.0, 0.0, 0.0, 0.0, 0.0, 0.0, 0.0, 0.0, 0.0, 0.0, 0.0, 0.0, 0.0, 0.0, 0.0, 0.0, 0.0, 0.0, 0.0, 0.0, 0.0]}, {\"line\": {\"color\": \"black\", \"dash\": \"solid\", \"width\": 2}, \"mode\": \"lines\", \"name\": \"T = -91\\u00b0C\", \"type\": \"scatter\", \"uid\": \"bc9d53c2-e324-4849-87f0-f1addd5fbfb6\", \"x\": [5, 6, 7, 8, 9, 10, 11, 12, 13, 14, 15, 16, 17, 18, 19, 20, 21, 22, 23, 24, 25], \"y\": [0.0, 0.0, 0.0, 0.0, 0.0, 0.0, 0.0, 0.0, 0.0, 0.0, 0.0, 0.0, 0.0, 0.0, 0.0, 0.0, 0.0, 0.0, 0.0, 0.0, 0.0]}, {\"line\": {\"color\": \"blue\", \"dash\": \"solid\", \"width\": 2}, \"mode\": \"lines\", \"name\": \"T = -60\\u00b0C\", \"type\": \"scatter\", \"uid\": \"072f1872-b101-4c31-a21a-2db46d3dc4ba\", \"x\": [5, 6, 7, 8, 9, 10, 11, 12, 13, 14, 15, 16, 17, 18, 19, 20, 21, 22, 23, 24, 25], \"y\": [19.111494886860918, 14.985364332138131, 11.94850782382632, 9.637022527862134, 7.831561368665002, 6.391646156343279, 5.222942086883366, 4.259743642563098, 3.4549940012831786, 2.774266348537228, 2.1919477416284834, 1.6887154360473158, 1.2498118095824013, 0.8638358828506082, 0.5218816523519489, 0.21691576659297682, -0.05667639789938859, -0.3034245904937287, -0.527021116621949, -0.7305056043132696, -0.9164040447789246]}, {\"line\": {\"color\": \"blue\", \"dash\": \"solid\", \"width\": 2}, \"mode\": \"lines\", \"name\": \"T = -60\\u00b0C\", \"type\": \"scatter\", \"uid\": \"a2dced36-2cdd-41c7-b721-12b354f76f5d\", \"x\": [5, 6, 7, 8, 9, 10, 11, 12, 13, 14, 15, 16, 17, 18, 19, 20, 21, 22, 23, 24, 25], \"y\": [19.111494886860918, 14.985364332138131, 11.94850782382632, 9.637022527862134, 7.831561368665002, 6.391646156343279, 5.222942086883366, 4.259743642563098, 3.4549940012831786, 2.774266348537228, 2.1919477416284834, 1.6887154360473158, 1.2498118095824013, 0.8638358828506082, 0.5218816523519489, 0.21691576659297682, -0.05667639789938859, -0.3034245904937287, -0.527021116621949, -0.7305056043132696, -0.9164040447789246]}, {\"line\": {\"color\": \"blue\", \"dash\": \"solid\", \"width\": 2}, \"mode\": \"lines\", \"name\": \"T = -60\\u00b0C\", \"type\": \"scatter\", \"uid\": \"770f63e9-6d91-494a-8456-808ca8d8be10\", \"x\": [5, 6, 7, 8, 9, 10, 11, 12, 13, 14, 15, 16, 17, 18, 19, 20, 21, 22, 23, 24, 25], \"y\": [19.111494886860918, 14.985364332138131, 11.94850782382632, 9.637022527862134, 7.831561368665002, 6.391646156343279, 5.222942086883366, 4.259743642563098, 3.4549940012831786, 2.774266348537228, 2.1919477416284834, 1.6887154360473158, 1.2498118095824013, 0.8638358828506082, 0.5218816523519489, 0.21691576659297682, -0.05667639789938859, -0.3034245904937287, -0.527021116621949, -0.7305056043132696, -0.9164040447789246]}, {\"line\": {\"color\": \"blue\", \"dash\": \"solid\", \"width\": 2}, \"mode\": \"lines\", \"name\": \"T = -60\\u00b0C\", \"type\": \"scatter\", \"uid\": \"7e68a881-9776-45b8-8dd0-16c38f2c9050\", \"x\": [5, 6, 7, 8, 9, 10, 11, 12, 13, 14, 15, 16, 17, 18, 19, 20, 21, 22, 23, 24, 25], \"y\": [19.111494886860918, 14.985364332138131, 11.94850782382632, 9.637022527862134, 7.831561368665002, 6.391646156343279, 5.222942086883366, 4.259743642563098, 3.4549940012831786, 2.774266348537228, 2.1919477416284834, 1.6887154360473158, 1.2498118095824013, 0.8638358828506082, 0.5218816523519489, 0.21691576659297682, -0.05667639789938859, -0.3034245904937287, -0.527021116621949, -0.7305056043132696, -0.9164040447789246]}, {\"line\": {\"color\": \"blue\", \"dash\": \"solid\", \"width\": 2}, \"mode\": \"lines\", \"name\": \"T = -60\\u00b0C\", \"type\": \"scatter\", \"uid\": \"198e086a-ebc0-47cc-9088-cd6adc22c998\", \"x\": [5, 6, 7, 8, 9, 10, 11, 12, 13, 14, 15, 16, 17, 18, 19, 20, 21, 22, 23, 24, 25], \"y\": [19.111494886860918, 14.985364332138131, 11.94850782382632, 9.637022527862134, 7.831561368665002, 6.391646156343279, 5.222942086883366, 4.259743642563098, 3.4549940012831786, 2.774266348537228, 2.1919477416284834, 1.6887154360473158, 1.2498118095824013, 0.8638358828506082, 0.5218816523519489, 0.21691576659297682, -0.05667639789938859, -0.3034245904937287, -0.527021116621949, -0.7305056043132696, -0.9164040447789246]}, {\"line\": {\"color\": \"blue\", \"dash\": \"solid\", \"width\": 2}, \"mode\": \"lines\", \"name\": \"T = -60\\u00b0C\", \"type\": \"scatter\", \"uid\": \"8dfbfefc-4ea7-4891-9ee9-9faaf691ead4\", \"x\": [5, 6, 7, 8, 9, 10, 11, 12, 13, 14, 15, 16, 17, 18, 19, 20, 21, 22, 23, 24, 25], \"y\": [19.111494886860918, 14.985364332138131, 11.94850782382632, 9.637022527862134, 7.831561368665002, 6.391646156343279, 5.222942086883366, 4.259743642563098, 3.4549940012831786, 2.774266348537228, 2.1919477416284834, 1.6887154360473158, 1.2498118095824013, 0.8638358828506082, 0.5218816523519489, 0.21691576659297682, -0.05667639789938859, -0.3034245904937287, -0.527021116621949, -0.7305056043132696, -0.9164040447789246]}, {\"line\": {\"color\": \"blue\", \"dash\": \"solid\", \"width\": 2}, \"mode\": \"lines\", \"name\": \"T = -60\\u00b0C\", \"type\": \"scatter\", \"uid\": \"ba9e1587-8edf-48d0-9a89-c57ba6e9023b\", \"x\": [5, 6, 7, 8, 9, 10, 11, 12, 13, 14, 15, 16, 17, 18, 19, 20, 21, 22, 23, 24, 25], \"y\": [19.111494886860918, 14.985364332138131, 11.94850782382632, 9.637022527862134, 7.831561368665002, 6.391646156343279, 5.222942086883366, 4.259743642563098, 3.4549940012831786, 2.774266348537228, 2.1919477416284834, 1.6887154360473158, 1.2498118095824013, 0.8638358828506082, 0.5218816523519489, 0.21691576659297682, -0.05667639789938859, -0.3034245904937287, -0.527021116621949, -0.7305056043132696, -0.9164040447789246]}, {\"line\": {\"color\": \"blue\", \"dash\": \"solid\", \"width\": 2}, \"mode\": \"lines\", \"name\": \"T = -60\\u00b0C\", \"type\": \"scatter\", \"uid\": \"82ca2b55-0520-4c95-880e-cbb1a4affcbf\", \"x\": [5, 6, 7, 8, 9, 10, 11, 12, 13, 14, 15, 16, 17, 18, 19, 20, 21, 22, 23, 24, 25], \"y\": [19.111494886860918, 14.985364332138131, 11.94850782382632, 9.637022527862134, 7.831561368665002, 6.391646156343279, 5.222942086883366, 4.259743642563098, 3.4549940012831786, 2.774266348537228, 2.1919477416284834, 1.6887154360473158, 1.2498118095824013, 0.8638358828506082, 0.5218816523519489, 0.21691576659297682, -0.05667639789938859, -0.3034245904937287, -0.527021116621949, -0.7305056043132696, -0.9164040447789246]}, {\"line\": {\"color\": \"blue\", \"dash\": \"solid\", \"width\": 2}, \"mode\": \"lines\", \"name\": \"T = -60\\u00b0C\", \"type\": \"scatter\", \"uid\": \"b0771b4e-c9b6-47b0-aa8a-fbd6b4a1dbb9\", \"x\": [5, 6, 7, 8, 9, 10, 11, 12, 13, 14, 15, 16, 17, 18, 19, 20, 21, 22, 23, 24, 25], \"y\": [19.111494886860918, 14.985364332138131, 11.94850782382632, 9.637022527862134, 7.831561368665002, 6.391646156343279, 5.222942086883366, 4.259743642563098, 3.4549940012831786, 2.774266348537228, 2.1919477416284834, 1.6887154360473158, 1.2498118095824013, 0.8638358828506082, 0.5218816523519489, 0.21691576659297682, -0.05667639789938859, -0.3034245904937287, -0.527021116621949, -0.7305056043132696, -0.9164040447789246]}, {\"line\": {\"color\": \"blue\", \"dash\": \"solid\", \"width\": 2}, \"mode\": \"lines\", \"name\": \"T = -60\\u00b0C\", \"type\": \"scatter\", \"uid\": \"12f015c7-4eae-4842-b67d-0921557f55b1\", \"x\": [5, 6, 7, 8, 9, 10, 11, 12, 13, 14, 15, 16, 17, 18, 19, 20, 21, 22, 23, 24, 25], \"y\": [19.111494886860918, 14.985364332138131, 11.94850782382632, 9.637022527862134, 7.831561368665002, 6.391646156343279, 5.222942086883366, 4.259743642563098, 3.4549940012831786, 2.774266348537228, 2.1919477416284834, 1.6887154360473158, 1.2498118095824013, 0.8638358828506082, 0.5218816523519489, 0.21691576659297682, -0.05667639789938859, -0.3034245904937287, -0.527021116621949, -0.7305056043132696, -0.9164040447789246]}, {\"line\": {\"color\": \"blue\", \"dash\": \"solid\", \"width\": 2}, \"mode\": \"lines\", \"name\": \"T = -60\\u00b0C\", \"type\": \"scatter\", \"uid\": \"727d7e4b-420c-4e82-a7b6-1430f94c7909\", \"x\": [5, 6, 7, 8, 9, 10, 11, 12, 13, 14, 15, 16, 17, 18, 19, 20, 21, 22, 23, 24, 25], \"y\": [19.111494886860918, 14.985364332138131, 11.94850782382632, 9.637022527862134, 7.831561368665002, 6.391646156343279, 5.222942086883366, 4.259743642563098, 3.4549940012831786, 2.774266348537228, 2.1919477416284834, 1.6887154360473158, 1.2498118095824013, 0.8638358828506082, 0.5218816523519489, 0.21691576659297682, -0.05667639789938859, -0.3034245904937287, -0.527021116621949, -0.7305056043132696, -0.9164040447789246]}, {\"line\": {\"color\": \"blue\", \"dash\": \"solid\", \"width\": 2}, \"mode\": \"lines\", \"name\": \"T = -60\\u00b0C\", \"type\": \"scatter\", \"uid\": \"6df5a085-2e56-4cff-aa10-1adf434a69fd\", \"x\": [5, 6, 7, 8, 9, 10, 11, 12, 13, 14, 15, 16, 17, 18, 19, 20, 21, 22, 23, 24, 25], \"y\": [19.111494886860918, 14.985364332138131, 11.94850782382632, 9.637022527862134, 7.831561368665002, 6.391646156343279, 5.222942086883366, 4.259743642563098, 3.4549940012831786, 2.774266348537228, 2.1919477416284834, 1.6887154360473158, 1.2498118095824013, 0.8638358828506082, 0.5218816523519489, 0.21691576659297682, -0.05667639789938859, -0.3034245904937287, -0.527021116621949, -0.7305056043132696, -0.9164040447789246]}, {\"line\": {\"color\": \"blue\", \"dash\": \"solid\", \"width\": 2}, \"mode\": \"lines\", \"name\": \"T = -60\\u00b0C\", \"type\": \"scatter\", \"uid\": \"4daeb790-da97-4166-8e1e-1b7fd1029301\", \"x\": [5, 6, 7, 8, 9, 10, 11, 12, 13, 14, 15, 16, 17, 18, 19, 20, 21, 22, 23, 24, 25], \"y\": [19.111494886860918, 14.985364332138131, 11.94850782382632, 9.637022527862134, 7.831561368665002, 6.391646156343279, 5.222942086883366, 4.259743642563098, 3.4549940012831786, 2.774266348537228, 2.1919477416284834, 1.6887154360473158, 1.2498118095824013, 0.8638358828506082, 0.5218816523519489, 0.21691576659297682, -0.05667639789938859, -0.3034245904937287, -0.527021116621949, -0.7305056043132696, -0.9164040447789246]}, {\"line\": {\"color\": \"blue\", \"dash\": \"solid\", \"width\": 2}, \"mode\": \"lines\", \"name\": \"T = -60\\u00b0C\", \"type\": \"scatter\", \"uid\": \"1f7924cd-0264-4e66-af05-3ea7408e356d\", \"x\": [5, 6, 7, 8, 9, 10, 11, 12, 13, 14, 15, 16, 17, 18, 19, 20, 21, 22, 23, 24, 25], \"y\": [19.111494886860918, 14.985364332138131, 11.94850782382632, 9.637022527862134, 7.831561368665002, 6.391646156343279, 5.222942086883366, 4.259743642563098, 3.4549940012831786, 2.774266348537228, 2.1919477416284834, 1.6887154360473158, 1.2498118095824013, 0.8638358828506082, 0.5218816523519489, 0.21691576659297682, -0.05667639789938859, -0.3034245904937287, -0.527021116621949, -0.7305056043132696, -0.9164040447789246]}, {\"line\": {\"color\": \"blue\", \"dash\": \"solid\", \"width\": 2}, \"mode\": \"lines\", \"name\": \"T = -60\\u00b0C\", \"type\": \"scatter\", \"uid\": \"a259fdb6-d78f-4bc8-9479-5613482bb5e7\", \"x\": [5, 6, 7, 8, 9, 10, 11, 12, 13, 14, 15, 16, 17, 18, 19, 20, 21, 22, 23, 24, 25], \"y\": [19.111494886860918, 14.985364332138131, 11.94850782382632, 9.637022527862134, 7.831561368665002, 6.391646156343279, 5.222942086883366, 4.259743642563098, 3.4549940012831786, 2.774266348537228, 2.1919477416284834, 1.6887154360473158, 1.2498118095824013, 0.8638358828506082, 0.5218816523519489, 0.21691576659297682, -0.05667639789938859, -0.3034245904937287, -0.527021116621949, -0.7305056043132696, -0.9164040447789246]}, {\"line\": {\"color\": \"blue\", \"dash\": \"solid\", \"width\": 2}, \"mode\": \"lines\", \"name\": \"T = -60\\u00b0C\", \"type\": \"scatter\", \"uid\": \"d602fcc3-2177-4532-bd57-b16a27886272\", \"x\": [5, 6, 7, 8, 9, 10, 11, 12, 13, 14, 15, 16, 17, 18, 19, 20, 21, 22, 23, 24, 25], \"y\": [19.111494886860918, 14.985364332138131, 11.94850782382632, 9.637022527862134, 7.831561368665002, 6.391646156343279, 5.222942086883366, 4.259743642563098, 3.4549940012831786, 2.774266348537228, 2.1919477416284834, 1.6887154360473158, 1.2498118095824013, 0.8638358828506082, 0.5218816523519489, 0.21691576659297682, -0.05667639789938859, -0.3034245904937287, -0.527021116621949, -0.7305056043132696, -0.9164040447789246]}, {\"line\": {\"color\": \"blue\", \"dash\": \"solid\", \"width\": 2}, \"mode\": \"lines\", \"name\": \"T = -60\\u00b0C\", \"type\": \"scatter\", \"uid\": \"62cf720f-a462-45fb-8dd2-4ce91b12f3e7\", \"x\": [5, 6, 7, 8, 9, 10, 11, 12, 13, 14, 15, 16, 17, 18, 19, 20, 21, 22, 23, 24, 25], \"y\": [19.111494886860918, 14.985364332138131, 11.94850782382632, 9.637022527862134, 7.831561368665002, 6.391646156343279, 5.222942086883366, 4.259743642563098, 3.4549940012831786, 2.774266348537228, 2.1919477416284834, 1.6887154360473158, 1.2498118095824013, 0.8638358828506082, 0.5218816523519489, 0.21691576659297682, -0.05667639789938859, -0.3034245904937287, -0.527021116621949, -0.7305056043132696, -0.9164040447789246]}, {\"line\": {\"color\": \"blue\", \"dash\": \"solid\", \"width\": 2}, \"mode\": \"lines\", \"name\": \"T = -60\\u00b0C\", \"type\": \"scatter\", \"uid\": \"ddbce806-0aca-4b60-9cd5-30af9371daaa\", \"x\": [5, 6, 7, 8, 9, 10, 11, 12, 13, 14, 15, 16, 17, 18, 19, 20, 21, 22, 23, 24, 25], \"y\": [19.111494886860918, 14.985364332138131, 11.94850782382632, 9.637022527862134, 7.831561368665002, 6.391646156343279, 5.222942086883366, 4.259743642563098, 3.4549940012831786, 2.774266348537228, 2.1919477416284834, 1.6887154360473158, 1.2498118095824013, 0.8638358828506082, 0.5218816523519489, 0.21691576659297682, -0.05667639789938859, -0.3034245904937287, -0.527021116621949, -0.7305056043132696, -0.9164040447789246]}, {\"line\": {\"color\": \"blue\", \"dash\": \"solid\", \"width\": 2}, \"mode\": \"lines\", \"name\": \"T = -60\\u00b0C\", \"type\": \"scatter\", \"uid\": \"dce08b32-5a0e-4c79-b9bc-5f26b972e906\", \"x\": [5, 6, 7, 8, 9, 10, 11, 12, 13, 14, 15, 16, 17, 18, 19, 20, 21, 22, 23, 24, 25], \"y\": [19.111494886860918, 14.985364332138131, 11.94850782382632, 9.637022527862134, 7.831561368665002, 6.391646156343279, 5.222942086883366, 4.259743642563098, 3.4549940012831786, 2.774266348537228, 2.1919477416284834, 1.6887154360473158, 1.2498118095824013, 0.8638358828506082, 0.5218816523519489, 0.21691576659297682, -0.05667639789938859, -0.3034245904937287, -0.527021116621949, -0.7305056043132696, -0.9164040447789246]}, {\"line\": {\"color\": \"blue\", \"dash\": \"solid\", \"width\": 2}, \"mode\": \"lines\", \"name\": \"T = -60\\u00b0C\", \"type\": \"scatter\", \"uid\": \"ee2ce53e-8432-40ea-bee3-b5cf6b1faa37\", \"x\": [5, 6, 7, 8, 9, 10, 11, 12, 13, 14, 15, 16, 17, 18, 19, 20, 21, 22, 23, 24, 25], \"y\": [19.111494886860918, 14.985364332138131, 11.94850782382632, 9.637022527862134, 7.831561368665002, 6.391646156343279, 5.222942086883366, 4.259743642563098, 3.4549940012831786, 2.774266348537228, 2.1919477416284834, 1.6887154360473158, 1.2498118095824013, 0.8638358828506082, 0.5218816523519489, 0.21691576659297682, -0.05667639789938859, -0.3034245904937287, -0.527021116621949, -0.7305056043132696, -0.9164040447789246]}, {\"line\": {\"color\": \"blue\", \"dash\": \"solid\", \"width\": 2}, \"mode\": \"lines\", \"name\": \"T = -60\\u00b0C\", \"type\": \"scatter\", \"uid\": \"41be4c0b-d7c7-4138-a012-d059bd6a90e8\", \"x\": [5, 6, 7, 8, 9, 10, 11, 12, 13, 14, 15, 16, 17, 18, 19, 20, 21, 22, 23, 24, 25], \"y\": [19.111494886860918, 14.985364332138131, 11.94850782382632, 9.637022527862134, 7.831561368665002, 6.391646156343279, 5.222942086883366, 4.259743642563098, 3.4549940012831786, 2.774266348537228, 2.1919477416284834, 1.6887154360473158, 1.2498118095824013, 0.8638358828506082, 0.5218816523519489, 0.21691576659297682, -0.05667639789938859, -0.3034245904937287, -0.527021116621949, -0.7305056043132696, -0.9164040447789246]}, {\"line\": {\"color\": \"green\", \"dash\": \"solid\", \"width\": 2}, \"mode\": \"lines\", \"name\": \"T = -40\\u00b0C\", \"type\": \"scatter\", \"uid\": \"fd123dc8-e31e-4e79-bdd1-a7e10ba6a242\", \"x\": [5, 6, 7, 8, 9, 10, 11, 12, 13, 14, 15, 16, 17, 18, 19, 20, 21, 22, 23, 24, 25], \"y\": [27.815202916293266, 22.433171372962907, 18.380083325059694, 15.232604125905548, 12.726967062503054, 10.690772701615415, 9.006839563510018, 7.59294389423973, 6.389873604890842, 5.354060537585215, 4.452856303153723, 3.6614023909510807, 2.9604997583379027, 2.3351262438375757, 1.7733856761756455, 1.2657512514943168, 0.8045132659743203, 0.38337099485951426, -0.002872368014997334, -0.3585401875792324, -0.6872582854526013]}, {\"line\": {\"color\": \"green\", \"dash\": \"solid\", \"width\": 2}, \"mode\": \"lines\", \"name\": \"T = -40\\u00b0C\", \"type\": \"scatter\", \"uid\": \"46fa0bec-7a8e-44fd-a455-3a49c04a7c1b\", \"x\": [5, 6, 7, 8, 9, 10, 11, 12, 13, 14, 15, 16, 17, 18, 19, 20, 21, 22, 23, 24, 25], \"y\": [27.815202916293266, 22.433171372962907, 18.380083325059694, 15.232604125905548, 12.726967062503054, 10.690772701615415, 9.006839563510018, 7.59294389423973, 6.389873604890842, 5.354060537585215, 4.452856303153723, 3.6614023909510807, 2.9604997583379027, 2.3351262438375757, 1.7733856761756455, 1.2657512514943168, 0.8045132659743203, 0.38337099485951426, -0.002872368014997334, -0.3585401875792324, -0.6872582854526013]}, {\"line\": {\"color\": \"green\", \"dash\": \"solid\", \"width\": 2}, \"mode\": \"lines\", \"name\": \"T = -40\\u00b0C\", \"type\": \"scatter\", \"uid\": \"33a8946e-c8e2-4e63-9695-b025232bb13f\", \"x\": [5, 6, 7, 8, 9, 10, 11, 12, 13, 14, 15, 16, 17, 18, 19, 20, 21, 22, 23, 24, 25], \"y\": [27.815202916293266, 22.433171372962907, 18.380083325059694, 15.232604125905548, 12.726967062503054, 10.690772701615415, 9.006839563510018, 7.59294389423973, 6.389873604890842, 5.354060537585215, 4.452856303153723, 3.6614023909510807, 2.9604997583379027, 2.3351262438375757, 1.7733856761756455, 1.2657512514943168, 0.8045132659743203, 0.38337099485951426, -0.002872368014997334, -0.3585401875792324, -0.6872582854526013]}, {\"line\": {\"color\": \"green\", \"dash\": \"solid\", \"width\": 2}, \"mode\": \"lines\", \"name\": \"T = -40\\u00b0C\", \"type\": \"scatter\", \"uid\": \"1458e1db-fa34-457c-b843-1e608a1441ad\", \"x\": [5, 6, 7, 8, 9, 10, 11, 12, 13, 14, 15, 16, 17, 18, 19, 20, 21, 22, 23, 24, 25], \"y\": [27.815202916293266, 22.433171372962907, 18.380083325059694, 15.232604125905548, 12.726967062503054, 10.690772701615415, 9.006839563510018, 7.59294389423973, 6.389873604890842, 5.354060537585215, 4.452856303153723, 3.6614023909510807, 2.9604997583379027, 2.3351262438375757, 1.7733856761756455, 1.2657512514943168, 0.8045132659743203, 0.38337099485951426, -0.002872368014997334, -0.3585401875792324, -0.6872582854526013]}, {\"line\": {\"color\": \"green\", \"dash\": \"solid\", \"width\": 2}, \"mode\": \"lines\", \"name\": \"T = -40\\u00b0C\", \"type\": \"scatter\", \"uid\": \"0c8daa34-04a1-40b5-9e9a-59b4b82bdd6a\", \"x\": [5, 6, 7, 8, 9, 10, 11, 12, 13, 14, 15, 16, 17, 18, 19, 20, 21, 22, 23, 24, 25], \"y\": [27.815202916293266, 22.433171372962907, 18.380083325059694, 15.232604125905548, 12.726967062503054, 10.690772701615415, 9.006839563510018, 7.59294389423973, 6.389873604890842, 5.354060537585215, 4.452856303153723, 3.6614023909510807, 2.9604997583379027, 2.3351262438375757, 1.7733856761756455, 1.2657512514943168, 0.8045132659743203, 0.38337099485951426, -0.002872368014997334, -0.3585401875792324, -0.6872582854526013]}, {\"line\": {\"color\": \"green\", \"dash\": \"solid\", \"width\": 2}, \"mode\": \"lines\", \"name\": \"T = -40\\u00b0C\", \"type\": \"scatter\", \"uid\": \"5119332b-0bfc-4326-a59c-a017cf96a52c\", \"x\": [5, 6, 7, 8, 9, 10, 11, 12, 13, 14, 15, 16, 17, 18, 19, 20, 21, 22, 23, 24, 25], \"y\": [27.815202916293266, 22.433171372962907, 18.380083325059694, 15.232604125905548, 12.726967062503054, 10.690772701615415, 9.006839563510018, 7.59294389423973, 6.389873604890842, 5.354060537585215, 4.452856303153723, 3.6614023909510807, 2.9604997583379027, 2.3351262438375757, 1.7733856761756455, 1.2657512514943168, 0.8045132659743203, 0.38337099485951426, -0.002872368014997334, -0.3585401875792324, -0.6872582854526013]}, {\"line\": {\"color\": \"green\", \"dash\": \"solid\", \"width\": 2}, \"mode\": \"lines\", \"name\": \"T = -40\\u00b0C\", \"type\": \"scatter\", \"uid\": \"2f4d277e-87be-48ca-a5a8-0fc8454682d9\", \"x\": [5, 6, 7, 8, 9, 10, 11, 12, 13, 14, 15, 16, 17, 18, 19, 20, 21, 22, 23, 24, 25], \"y\": [27.815202916293266, 22.433171372962907, 18.380083325059694, 15.232604125905548, 12.726967062503054, 10.690772701615415, 9.006839563510018, 7.59294389423973, 6.389873604890842, 5.354060537585215, 4.452856303153723, 3.6614023909510807, 2.9604997583379027, 2.3351262438375757, 1.7733856761756455, 1.2657512514943168, 0.8045132659743203, 0.38337099485951426, -0.002872368014997334, -0.3585401875792324, -0.6872582854526013]}, {\"line\": {\"color\": \"green\", \"dash\": \"solid\", \"width\": 2}, \"mode\": \"lines\", \"name\": \"T = -40\\u00b0C\", \"type\": \"scatter\", \"uid\": \"85055224-8c61-438b-a9ab-ab859ebd267e\", \"x\": [5, 6, 7, 8, 9, 10, 11, 12, 13, 14, 15, 16, 17, 18, 19, 20, 21, 22, 23, 24, 25], \"y\": [27.815202916293266, 22.433171372962907, 18.380083325059694, 15.232604125905548, 12.726967062503054, 10.690772701615415, 9.006839563510018, 7.59294389423973, 6.389873604890842, 5.354060537585215, 4.452856303153723, 3.6614023909510807, 2.9604997583379027, 2.3351262438375757, 1.7733856761756455, 1.2657512514943168, 0.8045132659743203, 0.38337099485951426, -0.002872368014997334, -0.3585401875792324, -0.6872582854526013]}, {\"line\": {\"color\": \"green\", \"dash\": \"solid\", \"width\": 2}, \"mode\": \"lines\", \"name\": \"T = -40\\u00b0C\", \"type\": \"scatter\", \"uid\": \"0d73d39a-d280-438f-bb1a-d7b30a833216\", \"x\": [5, 6, 7, 8, 9, 10, 11, 12, 13, 14, 15, 16, 17, 18, 19, 20, 21, 22, 23, 24, 25], \"y\": [27.815202916293266, 22.433171372962907, 18.380083325059694, 15.232604125905548, 12.726967062503054, 10.690772701615415, 9.006839563510018, 7.59294389423973, 6.389873604890842, 5.354060537585215, 4.452856303153723, 3.6614023909510807, 2.9604997583379027, 2.3351262438375757, 1.7733856761756455, 1.2657512514943168, 0.8045132659743203, 0.38337099485951426, -0.002872368014997334, -0.3585401875792324, -0.6872582854526013]}, {\"line\": {\"color\": \"green\", \"dash\": \"solid\", \"width\": 2}, \"mode\": \"lines\", \"name\": \"T = -40\\u00b0C\", \"type\": \"scatter\", \"uid\": \"fda4855c-12d5-43c8-a3aa-be92f3f3add5\", \"x\": [5, 6, 7, 8, 9, 10, 11, 12, 13, 14, 15, 16, 17, 18, 19, 20, 21, 22, 23, 24, 25], \"y\": [27.815202916293266, 22.433171372962907, 18.380083325059694, 15.232604125905548, 12.726967062503054, 10.690772701615415, 9.006839563510018, 7.59294389423973, 6.389873604890842, 5.354060537585215, 4.452856303153723, 3.6614023909510807, 2.9604997583379027, 2.3351262438375757, 1.7733856761756455, 1.2657512514943168, 0.8045132659743203, 0.38337099485951426, -0.002872368014997334, -0.3585401875792324, -0.6872582854526013]}, {\"line\": {\"color\": \"green\", \"dash\": \"solid\", \"width\": 2}, \"mode\": \"lines\", \"name\": \"T = -40\\u00b0C\", \"type\": \"scatter\", \"uid\": \"a0d03644-753c-4028-91b6-ca4c1f225c81\", \"x\": [5, 6, 7, 8, 9, 10, 11, 12, 13, 14, 15, 16, 17, 18, 19, 20, 21, 22, 23, 24, 25], \"y\": [27.815202916293266, 22.433171372962907, 18.380083325059694, 15.232604125905548, 12.726967062503054, 10.690772701615415, 9.006839563510018, 7.59294389423973, 6.389873604890842, 5.354060537585215, 4.452856303153723, 3.6614023909510807, 2.9604997583379027, 2.3351262438375757, 1.7733856761756455, 1.2657512514943168, 0.8045132659743203, 0.38337099485951426, -0.002872368014997334, -0.3585401875792324, -0.6872582854526013]}, {\"line\": {\"color\": \"green\", \"dash\": \"solid\", \"width\": 2}, \"mode\": \"lines\", \"name\": \"T = -40\\u00b0C\", \"type\": \"scatter\", \"uid\": \"d615f4e3-2685-4c23-8042-f98cc75fb348\", \"x\": [5, 6, 7, 8, 9, 10, 11, 12, 13, 14, 15, 16, 17, 18, 19, 20, 21, 22, 23, 24, 25], \"y\": [27.815202916293266, 22.433171372962907, 18.380083325059694, 15.232604125905548, 12.726967062503054, 10.690772701615415, 9.006839563510018, 7.59294389423973, 6.389873604890842, 5.354060537585215, 4.452856303153723, 3.6614023909510807, 2.9604997583379027, 2.3351262438375757, 1.7733856761756455, 1.2657512514943168, 0.8045132659743203, 0.38337099485951426, -0.002872368014997334, -0.3585401875792324, -0.6872582854526013]}, {\"line\": {\"color\": \"green\", \"dash\": \"solid\", \"width\": 2}, \"mode\": \"lines\", \"name\": \"T = -40\\u00b0C\", \"type\": \"scatter\", \"uid\": \"c9b7510e-7f27-431a-8a75-94860772aceb\", \"x\": [5, 6, 7, 8, 9, 10, 11, 12, 13, 14, 15, 16, 17, 18, 19, 20, 21, 22, 23, 24, 25], \"y\": [27.815202916293266, 22.433171372962907, 18.380083325059694, 15.232604125905548, 12.726967062503054, 10.690772701615415, 9.006839563510018, 7.59294389423973, 6.389873604890842, 5.354060537585215, 4.452856303153723, 3.6614023909510807, 2.9604997583379027, 2.3351262438375757, 1.7733856761756455, 1.2657512514943168, 0.8045132659743203, 0.38337099485951426, -0.002872368014997334, -0.3585401875792324, -0.6872582854526013]}, {\"line\": {\"color\": \"green\", \"dash\": \"solid\", \"width\": 2}, \"mode\": \"lines\", \"name\": \"T = -40\\u00b0C\", \"type\": \"scatter\", \"uid\": \"112f9cb5-c48c-4cf9-a367-ed4c124eb530\", \"x\": [5, 6, 7, 8, 9, 10, 11, 12, 13, 14, 15, 16, 17, 18, 19, 20, 21, 22, 23, 24, 25], \"y\": [27.815202916293266, 22.433171372962907, 18.380083325059694, 15.232604125905548, 12.726967062503054, 10.690772701615415, 9.006839563510018, 7.59294389423973, 6.389873604890842, 5.354060537585215, 4.452856303153723, 3.6614023909510807, 2.9604997583379027, 2.3351262438375757, 1.7733856761756455, 1.2657512514943168, 0.8045132659743203, 0.38337099485951426, -0.002872368014997334, -0.3585401875792324, -0.6872582854526013]}, {\"line\": {\"color\": \"green\", \"dash\": \"solid\", \"width\": 2}, \"mode\": \"lines\", \"name\": \"T = -40\\u00b0C\", \"type\": \"scatter\", \"uid\": \"21f48bb6-a51c-4102-b24e-a8383a4343eb\", \"x\": [5, 6, 7, 8, 9, 10, 11, 12, 13, 14, 15, 16, 17, 18, 19, 20, 21, 22, 23, 24, 25], \"y\": [27.815202916293266, 22.433171372962907, 18.380083325059694, 15.232604125905548, 12.726967062503054, 10.690772701615415, 9.006839563510018, 7.59294389423973, 6.389873604890842, 5.354060537585215, 4.452856303153723, 3.6614023909510807, 2.9604997583379027, 2.3351262438375757, 1.7733856761756455, 1.2657512514943168, 0.8045132659743203, 0.38337099485951426, -0.002872368014997334, -0.3585401875792324, -0.6872582854526013]}, {\"line\": {\"color\": \"green\", \"dash\": \"solid\", \"width\": 2}, \"mode\": \"lines\", \"name\": \"T = -40\\u00b0C\", \"type\": \"scatter\", \"uid\": \"6a84d151-ccb1-4980-8d70-806e80aa6598\", \"x\": [5, 6, 7, 8, 9, 10, 11, 12, 13, 14, 15, 16, 17, 18, 19, 20, 21, 22, 23, 24, 25], \"y\": [27.815202916293266, 22.433171372962907, 18.380083325059694, 15.232604125905548, 12.726967062503054, 10.690772701615415, 9.006839563510018, 7.59294389423973, 6.389873604890842, 5.354060537585215, 4.452856303153723, 3.6614023909510807, 2.9604997583379027, 2.3351262438375757, 1.7733856761756455, 1.2657512514943168, 0.8045132659743203, 0.38337099485951426, -0.002872368014997334, -0.3585401875792324, -0.6872582854526013]}, {\"line\": {\"color\": \"green\", \"dash\": \"solid\", \"width\": 2}, \"mode\": \"lines\", \"name\": \"T = -40\\u00b0C\", \"type\": \"scatter\", \"uid\": \"645ed5f8-3009-4b0b-95c8-610382b568b9\", \"x\": [5, 6, 7, 8, 9, 10, 11, 12, 13, 14, 15, 16, 17, 18, 19, 20, 21, 22, 23, 24, 25], \"y\": [27.815202916293266, 22.433171372962907, 18.380083325059694, 15.232604125905548, 12.726967062503054, 10.690772701615415, 9.006839563510018, 7.59294389423973, 6.389873604890842, 5.354060537585215, 4.452856303153723, 3.6614023909510807, 2.9604997583379027, 2.3351262438375757, 1.7733856761756455, 1.2657512514943168, 0.8045132659743203, 0.38337099485951426, -0.002872368014997334, -0.3585401875792324, -0.6872582854526013]}, {\"line\": {\"color\": \"green\", \"dash\": \"solid\", \"width\": 2}, \"mode\": \"lines\", \"name\": \"T = -40\\u00b0C\", \"type\": \"scatter\", \"uid\": \"d1a41faf-f8c2-4983-8904-e17e9ee62a3a\", \"x\": [5, 6, 7, 8, 9, 10, 11, 12, 13, 14, 15, 16, 17, 18, 19, 20, 21, 22, 23, 24, 25], \"y\": [27.815202916293266, 22.433171372962907, 18.380083325059694, 15.232604125905548, 12.726967062503054, 10.690772701615415, 9.006839563510018, 7.59294389423973, 6.389873604890842, 5.354060537585215, 4.452856303153723, 3.6614023909510807, 2.9604997583379027, 2.3351262438375757, 1.7733856761756455, 1.2657512514943168, 0.8045132659743203, 0.38337099485951426, -0.002872368014997334, -0.3585401875792324, -0.6872582854526013]}, {\"line\": {\"color\": \"green\", \"dash\": \"solid\", \"width\": 2}, \"mode\": \"lines\", \"name\": \"T = -40\\u00b0C\", \"type\": \"scatter\", \"uid\": \"795cbff8-187a-492f-9e00-0cd7ec863c0b\", \"x\": [5, 6, 7, 8, 9, 10, 11, 12, 13, 14, 15, 16, 17, 18, 19, 20, 21, 22, 23, 24, 25], \"y\": [27.815202916293266, 22.433171372962907, 18.380083325059694, 15.232604125905548, 12.726967062503054, 10.690772701615415, 9.006839563510018, 7.59294389423973, 6.389873604890842, 5.354060537585215, 4.452856303153723, 3.6614023909510807, 2.9604997583379027, 2.3351262438375757, 1.7733856761756455, 1.2657512514943168, 0.8045132659743203, 0.38337099485951426, -0.002872368014997334, -0.3585401875792324, -0.6872582854526013]}, {\"line\": {\"color\": \"green\", \"dash\": \"solid\", \"width\": 2}, \"mode\": \"lines\", \"name\": \"T = -40\\u00b0C\", \"type\": \"scatter\", \"uid\": \"9ef39af3-9711-4d82-b588-0cc96f889660\", \"x\": [5, 6, 7, 8, 9, 10, 11, 12, 13, 14, 15, 16, 17, 18, 19, 20, 21, 22, 23, 24, 25], \"y\": [27.815202916293266, 22.433171372962907, 18.380083325059694, 15.232604125905548, 12.726967062503054, 10.690772701615415, 9.006839563510018, 7.59294389423973, 6.389873604890842, 5.354060537585215, 4.452856303153723, 3.6614023909510807, 2.9604997583379027, 2.3351262438375757, 1.7733856761756455, 1.2657512514943168, 0.8045132659743203, 0.38337099485951426, -0.002872368014997334, -0.3585401875792324, -0.6872582854526013]}, {\"line\": {\"color\": \"green\", \"dash\": \"solid\", \"width\": 2}, \"mode\": \"lines\", \"name\": \"T = -40\\u00b0C\", \"type\": \"scatter\", \"uid\": \"707a776f-68d7-491e-aa75-c3b04706f112\", \"x\": [5, 6, 7, 8, 9, 10, 11, 12, 13, 14, 15, 16, 17, 18, 19, 20, 21, 22, 23, 24, 25], \"y\": [27.815202916293266, 22.433171372962907, 18.380083325059694, 15.232604125905548, 12.726967062503054, 10.690772701615415, 9.006839563510018, 7.59294389423973, 6.389873604890842, 5.354060537585215, 4.452856303153723, 3.6614023909510807, 2.9604997583379027, 2.3351262438375757, 1.7733856761756455, 1.2657512514943168, 0.8045132659743203, 0.38337099485951426, -0.002872368014997334, -0.3585401875792324, -0.6872582854526013]}],                        {\"annotations\": [{\"font\": {\"size\": 18}, \"showarrow\": false, \"text\": \"$\\\\LARGE{m}$\", \"x\": 0.5, \"xref\": \"paper\", \"y\": -0.2, \"yref\": \"paper\"}, {\"font\": {\"size\": 18}, \"showarrow\": false, \"text\": \"$\\\\LARGE{ \\\\Delta \\\\sigma_\\\\mathrm{w} (\\\\%)}$\", \"textangle\": -90, \"x\": -0.2, \"xref\": \"paper\", \"y\": 0.5, \"yref\": \"paper\"}, {\"font\": {\"size\": 18}, \"showarrow\": false, \"text\": \"\", \"x\": 0.41, \"xref\": \"paper\", \"y\": 1.1, \"yref\": \"paper\"}], \"height\": 420, \"legend\": {\"x\": 0.6, \"y\": 0.5}, \"margin\": {\"b\": 80, \"l\": 80, \"r\": 20, \"t\": 40}, \"showlegend\": false, \"template\": {\"data\": {\"bar\": [{\"error_x\": {\"color\": \"#2a3f5f\"}, \"error_y\": {\"color\": \"#2a3f5f\"}, \"marker\": {\"line\": {\"color\": \"#E5ECF6\", \"width\": 0.5}}, \"type\": \"bar\"}], \"barpolar\": [{\"marker\": {\"line\": {\"color\": \"#E5ECF6\", \"width\": 0.5}}, \"type\": \"barpolar\"}], \"carpet\": [{\"aaxis\": {\"endlinecolor\": \"#2a3f5f\", \"gridcolor\": \"white\", \"linecolor\": \"white\", \"minorgridcolor\": \"white\", \"startlinecolor\": \"#2a3f5f\"}, \"baxis\": {\"endlinecolor\": \"#2a3f5f\", \"gridcolor\": \"white\", \"linecolor\": \"white\", \"minorgridcolor\": \"white\", \"startlinecolor\": \"#2a3f5f\"}, \"type\": \"carpet\"}], \"choropleth\": [{\"colorbar\": {\"outlinewidth\": 0, \"ticks\": \"\"}, \"type\": \"choropleth\"}], \"contour\": [{\"colorbar\": {\"outlinewidth\": 0, \"ticks\": \"\"}, \"colorscale\": [[0.0, \"#0d0887\"], [0.1111111111111111, \"#46039f\"], [0.2222222222222222, \"#7201a8\"], [0.3333333333333333, \"#9c179e\"], [0.4444444444444444, \"#bd3786\"], [0.5555555555555556, \"#d8576b\"], [0.6666666666666666, \"#ed7953\"], [0.7777777777777778, \"#fb9f3a\"], [0.8888888888888888, \"#fdca26\"], [1.0, \"#f0f921\"]], \"type\": \"contour\"}], \"contourcarpet\": [{\"colorbar\": {\"outlinewidth\": 0, \"ticks\": \"\"}, \"type\": \"contourcarpet\"}], \"heatmap\": [{\"colorbar\": {\"outlinewidth\": 0, \"ticks\": \"\"}, \"colorscale\": [[0.0, \"#0d0887\"], [0.1111111111111111, \"#46039f\"], [0.2222222222222222, \"#7201a8\"], [0.3333333333333333, \"#9c179e\"], [0.4444444444444444, \"#bd3786\"], [0.5555555555555556, \"#d8576b\"], [0.6666666666666666, \"#ed7953\"], [0.7777777777777778, \"#fb9f3a\"], [0.8888888888888888, \"#fdca26\"], [1.0, \"#f0f921\"]], \"type\": \"heatmap\"}], \"heatmapgl\": [{\"colorbar\": {\"outlinewidth\": 0, \"ticks\": \"\"}, \"colorscale\": [[0.0, \"#0d0887\"], [0.1111111111111111, \"#46039f\"], [0.2222222222222222, \"#7201a8\"], [0.3333333333333333, \"#9c179e\"], [0.4444444444444444, \"#bd3786\"], [0.5555555555555556, \"#d8576b\"], [0.6666666666666666, \"#ed7953\"], [0.7777777777777778, \"#fb9f3a\"], [0.8888888888888888, \"#fdca26\"], [1.0, \"#f0f921\"]], \"type\": \"heatmapgl\"}], \"histogram\": [{\"marker\": {\"colorbar\": {\"outlinewidth\": 0, \"ticks\": \"\"}}, \"type\": \"histogram\"}], \"histogram2d\": [{\"colorbar\": {\"outlinewidth\": 0, \"ticks\": \"\"}, \"colorscale\": [[0.0, \"#0d0887\"], [0.1111111111111111, \"#46039f\"], [0.2222222222222222, \"#7201a8\"], [0.3333333333333333, \"#9c179e\"], [0.4444444444444444, \"#bd3786\"], [0.5555555555555556, \"#d8576b\"], [0.6666666666666666, \"#ed7953\"], [0.7777777777777778, \"#fb9f3a\"], [0.8888888888888888, \"#fdca26\"], [1.0, \"#f0f921\"]], \"type\": \"histogram2d\"}], \"histogram2dcontour\": [{\"colorbar\": {\"outlinewidth\": 0, \"ticks\": \"\"}, \"colorscale\": [[0.0, \"#0d0887\"], [0.1111111111111111, \"#46039f\"], [0.2222222222222222, \"#7201a8\"], [0.3333333333333333, \"#9c179e\"], [0.4444444444444444, \"#bd3786\"], [0.5555555555555556, \"#d8576b\"], [0.6666666666666666, \"#ed7953\"], [0.7777777777777778, \"#fb9f3a\"], [0.8888888888888888, \"#fdca26\"], [1.0, \"#f0f921\"]], \"type\": \"histogram2dcontour\"}], \"mesh3d\": [{\"colorbar\": {\"outlinewidth\": 0, \"ticks\": \"\"}, \"type\": \"mesh3d\"}], \"parcoords\": [{\"line\": {\"colorbar\": {\"outlinewidth\": 0, \"ticks\": \"\"}}, \"type\": \"parcoords\"}], \"pie\": [{\"automargin\": true, \"type\": \"pie\"}], \"scatter\": [{\"marker\": {\"colorbar\": {\"outlinewidth\": 0, \"ticks\": \"\"}}, \"type\": \"scatter\"}], \"scatter3d\": [{\"line\": {\"colorbar\": {\"outlinewidth\": 0, \"ticks\": \"\"}}, \"marker\": {\"colorbar\": {\"outlinewidth\": 0, \"ticks\": \"\"}}, \"type\": \"scatter3d\"}], \"scattercarpet\": [{\"marker\": {\"colorbar\": {\"outlinewidth\": 0, \"ticks\": \"\"}}, \"type\": \"scattercarpet\"}], \"scattergeo\": [{\"marker\": {\"colorbar\": {\"outlinewidth\": 0, \"ticks\": \"\"}}, \"type\": \"scattergeo\"}], \"scattergl\": [{\"marker\": {\"colorbar\": {\"outlinewidth\": 0, \"ticks\": \"\"}}, \"type\": \"scattergl\"}], \"scattermapbox\": [{\"marker\": {\"colorbar\": {\"outlinewidth\": 0, \"ticks\": \"\"}}, \"type\": \"scattermapbox\"}], \"scatterpolar\": [{\"marker\": {\"colorbar\": {\"outlinewidth\": 0, \"ticks\": \"\"}}, \"type\": \"scatterpolar\"}], \"scatterpolargl\": [{\"marker\": {\"colorbar\": {\"outlinewidth\": 0, \"ticks\": \"\"}}, \"type\": \"scatterpolargl\"}], \"scatterternary\": [{\"marker\": {\"colorbar\": {\"outlinewidth\": 0, \"ticks\": \"\"}}, \"type\": \"scatterternary\"}], \"surface\": [{\"colorbar\": {\"outlinewidth\": 0, \"ticks\": \"\"}, \"colorscale\": [[0.0, \"#0d0887\"], [0.1111111111111111, \"#46039f\"], [0.2222222222222222, \"#7201a8\"], [0.3333333333333333, \"#9c179e\"], [0.4444444444444444, \"#bd3786\"], [0.5555555555555556, \"#d8576b\"], [0.6666666666666666, \"#ed7953\"], [0.7777777777777778, \"#fb9f3a\"], [0.8888888888888888, \"#fdca26\"], [1.0, \"#f0f921\"]], \"type\": \"surface\"}], \"table\": [{\"cells\": {\"fill\": {\"color\": \"#EBF0F8\"}, \"line\": {\"color\": \"white\"}}, \"header\": {\"fill\": {\"color\": \"#C8D4E3\"}, \"line\": {\"color\": \"white\"}}, \"type\": \"table\"}]}, \"layout\": {\"annotationdefaults\": {\"arrowcolor\": \"#2a3f5f\", \"arrowhead\": 0, \"arrowwidth\": 1}, \"autotypenumbers\": \"strict\", \"coloraxis\": {\"colorbar\": {\"outlinewidth\": 0, \"ticks\": \"\"}}, \"colorscale\": {\"diverging\": [[0, \"#8e0152\"], [0.1, \"#c51b7d\"], [0.2, \"#de77ae\"], [0.3, \"#f1b6da\"], [0.4, \"#fde0ef\"], [0.5, \"#f7f7f7\"], [0.6, \"#e6f5d0\"], [0.7, \"#b8e186\"], [0.8, \"#7fbc41\"], [0.9, \"#4d9221\"], [1, \"#276419\"]], \"sequential\": [[0.0, \"#0d0887\"], [0.1111111111111111, \"#46039f\"], [0.2222222222222222, \"#7201a8\"], [0.3333333333333333, \"#9c179e\"], [0.4444444444444444, \"#bd3786\"], [0.5555555555555556, \"#d8576b\"], [0.6666666666666666, \"#ed7953\"], [0.7777777777777778, \"#fb9f3a\"], [0.8888888888888888, \"#fdca26\"], [1.0, \"#f0f921\"]], \"sequentialminus\": [[0.0, \"#0d0887\"], [0.1111111111111111, \"#46039f\"], [0.2222222222222222, \"#7201a8\"], [0.3333333333333333, \"#9c179e\"], [0.4444444444444444, \"#bd3786\"], [0.5555555555555556, \"#d8576b\"], [0.6666666666666666, \"#ed7953\"], [0.7777777777777778, \"#fb9f3a\"], [0.8888888888888888, \"#fdca26\"], [1.0, \"#f0f921\"]]}, \"colorway\": [\"#636efa\", \"#EF553B\", \"#00cc96\", \"#ab63fa\", \"#FFA15A\", \"#19d3f3\", \"#FF6692\", \"#B6E880\", \"#FF97FF\", \"#FECB52\"], \"font\": {\"color\": \"#2a3f5f\"}, \"geo\": {\"bgcolor\": \"white\", \"lakecolor\": \"white\", \"landcolor\": \"#E5ECF6\", \"showlakes\": true, \"showland\": true, \"subunitcolor\": \"white\"}, \"hoverlabel\": {\"align\": \"left\"}, \"hovermode\": \"closest\", \"mapbox\": {\"style\": \"light\"}, \"paper_bgcolor\": \"white\", \"plot_bgcolor\": \"#E5ECF6\", \"polar\": {\"angularaxis\": {\"gridcolor\": \"white\", \"linecolor\": \"white\", \"ticks\": \"\"}, \"bgcolor\": \"#E5ECF6\", \"radialaxis\": {\"gridcolor\": \"white\", \"linecolor\": \"white\", \"ticks\": \"\"}}, \"scene\": {\"xaxis\": {\"backgroundcolor\": \"#E5ECF6\", \"gridcolor\": \"white\", \"gridwidth\": 2, \"linecolor\": \"white\", \"showbackground\": true, \"ticks\": \"\", \"zerolinecolor\": \"white\"}, \"yaxis\": {\"backgroundcolor\": \"#E5ECF6\", \"gridcolor\": \"white\", \"gridwidth\": 2, \"linecolor\": \"white\", \"showbackground\": true, \"ticks\": \"\", \"zerolinecolor\": \"white\"}, \"zaxis\": {\"backgroundcolor\": \"#E5ECF6\", \"gridcolor\": \"white\", \"gridwidth\": 2, \"linecolor\": \"white\", \"showbackground\": true, \"ticks\": \"\", \"zerolinecolor\": \"white\"}}, \"shapedefaults\": {\"line\": {\"color\": \"#2a3f5f\"}}, \"ternary\": {\"aaxis\": {\"gridcolor\": \"white\", \"linecolor\": \"white\", \"ticks\": \"\"}, \"baxis\": {\"gridcolor\": \"white\", \"linecolor\": \"white\", \"ticks\": \"\"}, \"bgcolor\": \"#E5ECF6\", \"caxis\": {\"gridcolor\": \"white\", \"linecolor\": \"white\", \"ticks\": \"\"}}, \"title\": {\"x\": 0.05}, \"xaxis\": {\"automargin\": true, \"gridcolor\": \"white\", \"linecolor\": \"white\", \"ticks\": \"\", \"title\": {\"standoff\": 15}, \"zerolinecolor\": \"white\", \"zerolinewidth\": 2}, \"yaxis\": {\"automargin\": true, \"gridcolor\": \"white\", \"linecolor\": \"white\", \"ticks\": \"\", \"title\": {\"standoff\": 15}, \"zerolinecolor\": \"white\", \"zerolinewidth\": 2}}}, \"width\": 450, \"xaxis\": {\"mirror\": \"all\", \"range\": [5, 25], \"showline\": true, \"title\": {\"font\": {\"size\": 13}}, \"zeroline\": false}, \"yaxis\": {\"mirror\": \"all\", \"showline\": true, \"title\": {\"font\": {\"size\": 13}}, \"zeroline\": false}},                        {\"responsive\": true}                    ).then(function(){\n",
       "                            \n",
       "var gd = document.getElementById('c8174f73-706a-48dd-a948-88e93a505b2a');\n",
       "var x = new MutationObserver(function (mutations, observer) {{\n",
       "        var display = window.getComputedStyle(gd).display;\n",
       "        if (!display || display === 'none') {{\n",
       "            console.log([gd, 'removed!']);\n",
       "            Plotly.purge(gd);\n",
       "            observer.disconnect();\n",
       "        }}\n",
       "}});\n",
       "\n",
       "// Listen for the removal of the full notebook cells\n",
       "var notebookContainer = gd.closest('#notebook-container');\n",
       "if (notebookContainer) {{\n",
       "    x.observe(notebookContainer, {childList: true});\n",
       "}}\n",
       "\n",
       "// Listen for the clearing of the current output cell\n",
       "var outputEl = gd.closest('.output');\n",
       "if (outputEl) {{\n",
       "    x.observe(outputEl, {childList: true});\n",
       "}}\n",
       "\n",
       "                        })                };                });            </script>        </div>"
      ]
     },
     "metadata": {},
     "output_type": "display_data"
    }
   ],
   "source": [
    "# plot\n",
    "\n",
    "title = r''\n",
    "ylab = r'$\\LARGE{ \\Delta \\sigma_\\mathrm{w} (\\%)}$'\n",
    "\n",
    "data = []\n",
    "for ri, sw_r in enumerate(glob_sw_all):\n",
    "\n",
    "    x_plot = []\n",
    "    y_plot = []\n",
    "\n",
    "    for mi, sw in enumerate(sw_r):\n",
    "        x_plot.append(m_vals[mi])\n",
    "        y_plot.append(\n",
    "            calc_sw_diff(glob_sw_all, 0, ri, mi, gdata_all, skipped_lines_all) \n",
    "            )\n",
    "        data.append({\n",
    "            'x': x_plot,\n",
    "            'y': y_plot,\n",
    "            'name': r'T = ' + str(temps[ri]) + r'°C',\n",
    "            'line': {'dash': lines[0], 'color': cols[ri], 'width': 2},\n",
    "            'mode': 'lines',\n",
    "        })\n",
    "\n",
    "        \n",
    "\n",
    "layout = {\n",
    "    'width': 450,\n",
    "    'height': 420,\n",
    "    'xaxis': {\n",
    "#         'range': [-0.1, 1.1],\n",
    "        'zeroline': False,\n",
    "        'showline': True,\n",
    "        'mirror': 'all',\n",
    "#         'title': r'$m$',\n",
    "        'titlefont':{'size': 13}\n",
    "    },\n",
    "    'yaxis': {\n",
    "        'zeroline': False,\n",
    "        'showline': True,\n",
    "        'mirror': 'all',\n",
    "#         'title': '$\\sigma_\\mathrm{w}/\\sigma_\\mathrm{f} $ ',\n",
    "        'titlefont':{'size': 13},\n",
    "\n",
    "    },\n",
    "    'annotations':[\n",
    "    {\n",
    "        'text':  r'$\\LARGE{m}$',\n",
    "        'x': 0.5,\n",
    "        'y': -0.2,\n",
    "        'xref': 'paper',\n",
    "        'yref': 'paper',\n",
    "        'showarrow': False,\n",
    "        'font': {'size': 18},\n",
    "    },\n",
    "        {\n",
    "        'text':  ylab,\n",
    "        'x': -0.2,\n",
    "        'y': 0.5,\n",
    "        'xref': 'paper',\n",
    "        'yref': 'paper',\n",
    "        'showarrow': False,\n",
    "        'font': {'size': 18},\n",
    "        'textangle': -90\n",
    "    },\n",
    "        {\n",
    "        'text':  title,\n",
    "        'x': 0.41,\n",
    "        'y': 1.1,\n",
    "        'xref': 'paper',\n",
    "        'yref': 'paper',\n",
    "        'showarrow': False,\n",
    "        'font': {'size': 18},\n",
    "    },\n",
    "    ],\n",
    "    'legend':{\n",
    "        'x': 0.6,\n",
    "        'y': 0.5,\n",
    "    },\n",
    "     'margin': {\n",
    "                'l': 80,\n",
    "                'r': 20,\n",
    "                'b': 80,\n",
    "                't': 40,\n",
    "#                 'pad': 1\n",
    "     },\n",
    "\n",
    "}\n",
    "layout['xaxis']['range'] = [5, 25]\n",
    "layout['showlegend'] = False\n",
    "f = go.FigureWidget(data,layout)\n",
    "py.iplot(f)\n",
    "# pio.write_image(f, 'images/fig9.svg',width=450, height=400,)"
   ]
  },
  {
   "cell_type": "markdown",
   "metadata": {},
   "source": [
    "### Predict the caharcteristic fracture toughness $J_0$"
   ]
  },
  {
   "cell_type": "code",
   "execution_count": 137,
   "metadata": {},
   "outputs": [
    {
     "name": "stdout",
     "output_type": "stream",
     "text": [
      "Temperature:  -91\n",
      "basis for prediction\n",
      "J0 = 56.08\n",
      "###\n",
      "Temperature:  -60\n",
      "Predicted J0 = 97.83\n",
      "###\n",
      "Temperature:  -40\n",
      "Predicted J0 = 178.45\n",
      "###\n",
      "None\n"
     ]
    }
   ],
   "source": [
    "# USER INPUT\n",
    "# Choose shape parameter m\n",
    "mchosen = 20\n",
    "\n",
    "# Choose index basis for prediction \n",
    "# For inctance, to use the first temperature as a basis, we specify 0 (due to zero-based indexing)\n",
    "pred_index = 0\n",
    "\n",
    "idxm = np.where(m_vals==mchosen)[0][0]\n",
    "print(pred_j0(pred_index, glob_sw_all, idxm, skipped_lines_all, \n",
    "              gdata_all, temps, tol=0.01))"
   ]
  },
  {
   "cell_type": "code",
   "execution_count": 138,
   "metadata": {
    "code_folding": [
     0
    ],
    "scrolled": true
   },
   "outputs": [
    {
     "data": {
      "application/vnd.plotly.v1+json": {
       "config": {
        "linkText": "Export to plot.ly",
        "plotlyServerURL": "https://plot.ly",
        "showLink": false
       },
       "data": [
        {
         "line": {
          "color": "black",
          "dash": "solid",
          "width": 2
         },
         "mode": "lines",
         "name": "T = -91°C",
         "type": "scatter",
         "uid": "76869864-6db2-4b25-aeb0-951edaedb5a3",
         "x": [
          0.115698337555,
          0.260338902473,
          0.462844640017,
          0.723201870918,
          1.0413916111,
          1.41738843918,
          1.8511531353,
          2.34265327454,
          2.89188027382,
          3.49874424934,
          4.16319656372,
          4.88532924652,
          5.6650261879,
          6.50230073929,
          7.39715242386,
          8.34968280792,
          9.35976886749,
          10.4275512695,
          11.5532798767,
          12.7366924286,
          13.9783153534,
          15.2781858444,
          16.6360569,
          18.0529785156,
          19.5280799866,
          21.0627822876,
          22.6562213898,
          24.3087234497,
          26.0200214386,
          27.7887744904,
          29.6151733398,
          31.5005283356,
          33.4433937073,
          35.4459915161,
          37.5080604553,
          39.6281471252,
          41.8096351624,
          44.0500984192,
          46.3443031311,
          48.6949882507,
          51.1016235352,
          53.5655479431,
          56.0808105469,
          58.6458435059,
          61.2635421753,
          63.9311790466,
          66.6494064331,
          69.4313201904,
          72.2623291016,
          72.3144683838,
          72.3590393066,
          72.4034729004,
          72.4702682495,
          72.5705413818,
          72.7211761475,
          72.9472045898,
          73.2865066528,
          73.795425415,
          74.5604400635,
          75.7085647583,
          77.4429092407,
          80.0786437988,
          80.1331558228,
          80.2023468018,
          80.3061447144,
          80.462020874,
          80.6963119507,
          81.048576355,
          81.5787963867,
          82.3776855469,
          83.5811386108,
          85.3967819214,
          88.1395187378,
          88.1960830688,
          88.2678604126,
          88.3758621216,
          88.5380477905,
          88.7816009521,
          89.147102356,
          89.6970901489,
          90.5262985229,
          91.7776031494,
          93.6670532227,
          96.5374755859,
          96.5973587036,
          96.6726913452,
          96.7853546143,
          96.9547653198,
          97.2091522217,
          97.5916366577,
          98.166053772,
          99.03074646,
          100.339012146,
          102.32346344,
          105.34589386,
          105.408500671,
          105.487579346,
          105.606735229,
          105.786094666,
          106.054298401,
          106.457695007,
          107.063247681,
          107.975448608,
          109.345672607,
          111.417732239,
          111.619148254,
          111.911865234,
          112.351303101,
          113.012252808,
          114.005645752,
          115.501480103,
          117.76423645,
          117.824699402,
          117.878089905,
          117.931419373,
          118.011329651,
          118.131332397,
          118.311355591,
          118.581512451,
          118.987037659,
          119.596694946
         ],
         "y": [
          0,
          0,
          1662.042604329667,
          1725.6747370540993,
          2063.9044487201545,
          2190.752559301317,
          2264.4994008464587,
          2387.659422931492,
          2467.000361119547,
          2529.593127161238,
          2603.46994580604,
          2663.26959147835,
          2711.3065975704926,
          2770.521702103606,
          2816.154458353101,
          2856.818818743986,
          2893.991506828828,
          2959.9469625775437,
          2980.217145552847,
          3012.363811922406,
          3074.436696411196,
          3106.1653801586863,
          3135.0978596719333,
          3169.032616184759,
          3200.6286460630076,
          3227.282497999655,
          3253.113483020886,
          3284.3487227865353,
          3308.116389920355,
          3332.6348699390833,
          3356.509284796625,
          3379.5805426247384,
          3401.950699962974,
          3422.839570376124,
          3443.2163890603515,
          3463.1973880527275,
          3481.845977436291,
          3501.0029314548037,
          3518.685545192119,
          3535.693059302891,
          3553.1267724857967,
          3568.851418877048,
          3584.3383017322108,
          3599.684649859287,
          3614.3564131797075,
          3628.853508997329,
          3642.890146380434,
          3656.4800211644088,
          3669.685725019288,
          3669.9893427947236,
          3670.1719184271633,
          3670.360899252575,
          3670.6474447681853,
          3671.0785346593484,
          3671.727964456899,
          3672.6976643533094,
          3674.1439042776683,
          3691.1637562653955,
          3679.68279896337,
          3684.584882623394,
          3691.770493245395,
          3702.23526684353,
          3702.5031171561527,
          3702.7513677917536,
          3703.120588526632,
          3703.6861887052773,
          3704.539646373477,
          3705.915891296851,
          3707.865120229503,
          3710.758442639339,
          3715.273063662683,
          3721.61117440617,
          3731.0664232344425,
          3731.272812091858,
          3731.5959590405973,
          3731.934040529202,
          3732.4642726671946,
          3733.25924623888,
          3735.2282572949775,
          3736.2391647909662,
          3738.987295749742,
          3742.943251497078,
          3748.9184073617657,
          3757.620181200923,
          3761.479419899913,
          3778.552655937555,
          3761.202633186875,
          3760.9339708529114,
          3760.455296279947,
          3760.610264368842,
          3762.339441032387,
          3764.830110650567,
          3768.520799326593,
          3774.028787314215,
          3782.079282406023,
          3782.234722810285,
          3782.385056785004,
          3786.046339989772,
          3785.0548791079195,
          3785.731773797022,
          3785.940743872815,
          3786.314872075562,
          3788.6774573775797,
          3792.0775332014746,
          3797.1175698956026,
          3797.552848852864,
          3798.2316192491944,
          3800.543957580418,
          3801.3104651648578,
          3803.1473748939256,
          3806.6049469344402,
          3811.7566561293233,
          3811.904402010873,
          3837.3754853338723,
          3812.12318545004,
          3812.298741231855,
          3812.5595113306463,
          3812.9520814577713,
          3813.5415473918065,
          3814.436277468933,
          3815.772761727397
         ]
        },
        {
         "line": {
          "color": "blue",
          "dash": "solid",
          "width": 2
         },
         "mode": "lines",
         "name": "T = -60°C",
         "type": "scatter",
         "uid": "d05dee93-c1cf-4c6d-8b64-851b5886073a",
         "x": [
          0.260264933109,
          0.462675571442,
          0.722916841507,
          1.04088020325,
          1.41660559177,
          1.84996175766,
          2.34093403816,
          2.88945651054,
          3.49548697472,
          4.15896987915,
          4.87987756729,
          5.65815830231,
          6.49382162094,
          7.3868637085,
          8.337266922,
          9.34507083893,
          10.4104423523,
          11.533367157,
          12.7142162323,
          13.9527130127,
          15.2493076324,
          16.6042823792,
          18.0177688599,
          19.4895629883,
          21.0208816528,
          22.6110057831,
          24.2600402832,
          25.9664897919,
          27.7267971039,
          29.5445709229,
          31.4192276001,
          33.3480453491,
          35.3357048035,
          37.3792228699,
          39.4819259644,
          41.6393966675,
          43.8539237976,
          46.1201057434,
          48.4417304993,
          50.8184661865,
          53.2501831055,
          55.7308349609,
          58.263458252,
          60.8368263245,
          63.4373474121,
          66.0624237061,
          68.7168960571,
          71.4187698364,
          74.1615524292,
          76.9486999512,
          79.7900695801,
          82.6758041382,
          85.6066055298,
          88.5867767334,
          91.6195907593,
          94.6997756958,
          97.8332672119,
          100.995506287,
          104.183174133,
          107.408676147,
          110.669548035,
          113.964439392,
          117.293388367,
          120.655036926,
          124.052993774,
          127.490730286,
          130.976486206,
          134.507751465,
          138.082199097,
          141.702056885,
          145.361480713,
          149.064041138,
          152.803588867,
          156.577560425,
          160.395187378,
          164.257629395,
          168.166366577,
          172.11328125,
          176.090362549,
          180.102325439,
          184.151733398,
          188.236740112,
          192.351501465,
          196.502914429,
          200.688583374,
          204.902633667,
          209.144500732
         ],
         "y": [
          0,
          0,
          1654.4663214197574,
          1881.8614635498834,
          1998.2635034194038,
          2105.575341038197,
          2191.4749238791023,
          2252.4128549107636,
          2312.467580738804,
          2369.362349753222,
          2461.0154916891343,
          2523.879523567989,
          2574.9035490218416,
          2623.7976817980175,
          2677.3798802317465,
          2726.507893667785,
          2760.8862465275215,
          2804.1269121848136,
          2845.1210125026923,
          2876.0364555190145,
          2908.8434256844816,
          2936.225425267965,
          2966.6176052190694,
          2993.6551815664166,
          3024.4447183945817,
          3049.494583470465,
          3073.7803311049124,
          3099.2142682645135,
          3122.4689477953807,
          3146.079004462439,
          3167.815025266036,
          3188.3975970636156,
          3208.969450653629,
          3227.8952592074015,
          3247.252256835089,
          3264.7792605770387,
          3282.086145063663,
          3298.8166147984484,
          3316.15035182155,
          3336.7850594317024,
          3353.2379017986664,
          3364.0003365280627,
          3387.4113127554783,
          3390.57366255054,
          3404.2010974456443,
          3418.8591730717626,
          3439.3877891902403,
          3447.0194150655166,
          3467.435662969963,
          3478.3859625044884,
          3488.949167566285,
          3498.7015600942364,
          3510.1837910011377,
          3521.202004258649,
          3517.7478330506265,
          3535.845636660965,
          3549.7284304276322,
          3546.6837951458506,
          3567.1221193546694,
          3568.1770800090612,
          3586.3994339209307,
          3592.1301984892816,
          3589.132541850071,
          3591.8111591084376,
          3616.6155241791384,
          3621.657965660468,
          3622.894355649357,
          3627.262761715123,
          3647.482133545299,
          3653.567395786378,
          3659.018528905516,
          3662.3384772694153,
          3668.525159228393,
          3674.479218972955,
          3677.701601290609,
          3688.202112517445,
          3701.975131361265,
          3698.246584027796,
          3703.9378087490795,
          3708.278427520656,
          3710.872457972742,
          3716.369384927325,
          3719.1174905964263,
          3721.4050006515595,
          3726.3894806989483,
          3731.708972722443,
          3736.187537738051
         ]
        },
        {
         "line": {
          "color": "green",
          "dash": "solid",
          "width": 2
         },
         "mode": "lines",
         "name": "T = -40°C",
         "type": "scatter",
         "uid": "09e132b2-b051-439c-91e5-bb4bfee3c18a",
         "x": [
          0.256513297558,
          0.577115416527,
          1.02571594715,
          1.60218751431,
          2.3061709404,
          3.13781690598,
          4.09654188156,
          5.182513237,
          6.39557027817,
          7.73576974869,
          9.20316505432,
          10.798204422,
          12.5211801529,
          14.37271595,
          16.3538303375,
          18.4647254944,
          20.7068767548,
          23.0804634094,
          25.5852451324,
          28.2205066681,
          30.9811096191,
          33.8687286377,
          36.8777542114,
          40.0129470825,
          43.2747955322,
          46.6620521545,
          50.1710205078,
          53.7910079956,
          57.5207939148,
          61.3296508789,
          65.2536392212,
          69.2781066895,
          73.419883728,
          77.6879348755,
          82.0928497314,
          86.632484436,
          91.2769851685,
          95.9990997314,
          100.799934387,
          105.691932678,
          110.682525635,
          115.769340515,
          120.960014343,
          126.246871948,
          131.642868042,
          137.153366089,
          142.774917603,
          148.487136841,
          154.304244995,
          160.217163086,
          166.211715698,
          172.28994751,
          178.453857422,
          184.704223633,
          191.022460938,
          197.407806396,
          203.853469849,
          210.355682373,
          216.914779663,
          223.516296387,
          230.164703369,
          236.860244751,
          243.600128174,
          250.373550415,
          257.177856445,
          264.017669678,
          270.890258789,
          277.795288086,
          284.73236084,
          291.703369141,
          298.705444336,
          305.73550415,
          312.79486084,
          319.884490967,
          327.001251221,
          334.14666748,
          341.313781738,
          348.506256104,
          355.719696045,
          362.953033447,
          370.205718994,
          377.479125977,
          384.768188477,
          392.071380615,
          399.388214111,
          406.720031738,
          414.067108154,
          421.430877686,
          428.809570313,
          436.20111084,
          443.604705811,
          451.019439697,
          458.44354248
         ],
         "y": [
          0,
          0,
          1665.5058031224987,
          1825.7096466206983,
          2035.297068548747,
          2121.706165458023,
          2187.6616929903,
          2257.947143188703,
          2418.0700851391443,
          2517.484609493741,
          2569.3719374029947,
          2632.4050577663456,
          2698.86856583681,
          2740.0375055698582,
          2787.670347139675,
          2822.510519693779,
          2894.6835931065234,
          2930.6428229419203,
          2965.0668161710014,
          2998.491995804817,
          3032.2312082200456,
          3066.065795842832,
          3095.641134250827,
          3125.436571086446,
          3156.672822898323,
          3183.359483388459,
          3207.601011442164,
          3230.864780279499,
          3253.3449644050456,
          3272.898575274424,
          3291.395662449226,
          3308.7861300412633,
          3324.542588228642,
          3339.6645736281453,
          3353.7546530540008,
          3367.3082813541664,
          3380.2384778354394,
          3392.559080156142,
          3404.2803752154814,
          3415.513131926023,
          3431.5074593504414,
          3437.2891335589766,
          3462.2767735040375,
          3458.840183061044,
          3468.5129757522236,
          3495.4565385785086,
          3487.96220189329,
          3499.794158420826,
          3525.589506864462,
          3535.066302456067,
          3543.8732123828363,
          3529.9453574015115,
          3561.6008870462006,
          3569.764743590348,
          3568.541977784513,
          3562.937269100368,
          3571.274889263486,
          3601.7736772077155,
          3609.0602490693695,
          3616.182650727313,
          3623.2668662804804,
          3630.2887267235715,
          3637.314981157807,
          3644.232849808555,
          3651.024756466761,
          3657.6625226212104,
          3664.2142770269784,
          3670.5948816220557,
          3676.8188899833845,
          3682.9172603977695,
          3688.864151153705,
          3694.6247161593383,
          3700.2501539276786,
          3705.765046036851,
          3711.097629211816,
          3716.305960670645,
          3721.372655304511,
          3726.290618608628,
          3731.128367189594,
          3735.9014062274837,
          3740.557572934679,
          3745.1890203617418,
          3749.671028190851,
          3754.107729850185,
          3758.454955959615,
          3762.739546443336,
          3766.938216534293,
          3771.09353420034,
          3775.1168342295714,
          3779.088948249611,
          3782.997387089537,
          3786.775992649316,
          3790.564011879232
         ]
        },
        {
         "line": {
          "color": "grey",
          "dash": "dash"
         },
         "name": "$\\mathrm{prediction\\;based\\;on}\\;J_0^{T = -91\\mathrm{°C}}$",
         "type": "scatter",
         "uid": "942a1dc3-0428-4de9-8596-3c916fb8e7a7",
         "x": [
          0,
          9.183673469387756,
          18.367346938775512,
          27.551020408163268,
          36.734693877551024,
          45.91836734693878,
          55.102040816326536,
          64.28571428571429,
          73.46938775510205,
          82.6530612244898,
          91.83673469387756,
          101.02040816326532,
          110.20408163265307,
          119.38775510204083,
          128.57142857142858,
          137.75510204081633,
          146.9387755102041,
          156.12244897959187,
          165.3061224489796,
          174.48979591836735,
          183.67346938775512,
          192.8571428571429,
          202.04081632653063,
          211.22448979591837,
          220.40816326530614,
          229.5918367346939,
          238.77551020408166,
          247.9591836734694,
          257.14285714285717,
          266.32653061224494,
          275.51020408163265,
          284.6938775510204,
          293.8775510204082,
          303.06122448979596,
          312.24489795918373,
          321.42857142857144,
          330.6122448979592,
          339.795918367347,
          348.9795918367347,
          358.16326530612247,
          367.34693877551024,
          376.530612244898,
          385.7142857142858,
          394.8979591836735,
          404.08163265306126,
          413.26530612244903,
          422.44897959183675,
          431.6326530612245,
          440.8163265306123,
          450
         ],
         "y": [
          3592.1301984892816,
          3592.1301984892816,
          3592.1301984892816,
          3592.1301984892816,
          3592.1301984892816,
          3592.1301984892816,
          3592.1301984892816,
          3592.1301984892816,
          3592.1301984892816,
          3592.1301984892816,
          3592.1301984892816,
          3592.1301984892816,
          3592.1301984892816,
          3592.1301984892816,
          3592.1301984892816,
          3592.1301984892816,
          3592.1301984892816,
          3592.1301984892816,
          3592.1301984892816,
          3592.1301984892816,
          3592.1301984892816,
          3592.1301984892816,
          3592.1301984892816,
          3592.1301984892816,
          3592.1301984892816,
          3592.1301984892816,
          3592.1301984892816,
          3592.1301984892816,
          3592.1301984892816,
          3592.1301984892816,
          3592.1301984892816,
          3592.1301984892816,
          3592.1301984892816,
          3592.1301984892816,
          3592.1301984892816,
          3592.1301984892816,
          3592.1301984892816,
          3592.1301984892816,
          3592.1301984892816,
          3592.1301984892816,
          3592.1301984892816,
          3592.1301984892816,
          3592.1301984892816,
          3592.1301984892816,
          3592.1301984892816,
          3592.1301984892816,
          3592.1301984892816,
          3592.1301984892816,
          3592.1301984892816,
          3592.1301984892816,
          3592.1301984892816,
          3592.1301984892816,
          3592.1301984892816,
          3592.1301984892816,
          3592.1301984892816,
          3592.1301984892816,
          3592.1301984892816,
          3592.1301984892816,
          3592.1301984892816,
          3592.1301984892816,
          3592.1301984892816,
          3592.1301984892816,
          3592.1301984892816,
          3592.1301984892816,
          3592.1301984892816,
          3592.1301984892816,
          3592.1301984892816,
          3592.1301984892816,
          3592.1301984892816,
          3592.1301984892816,
          3592.1301984892816,
          3592.1301984892816,
          3592.1301984892816,
          3592.1301984892816,
          3592.1301984892816,
          3592.1301984892816,
          3592.1301984892816,
          3592.1301984892816,
          3592.1301984892816,
          3592.1301984892816,
          3592.1301984892816,
          3592.1301984892816,
          3592.1301984892816,
          3592.1301984892816,
          3592.1301984892816,
          3592.1301984892816,
          3592.1301984892816,
          3592.1301984892816,
          3592.1301984892816,
          3592.1301984892816,
          3592.1301984892816,
          3592.1301984892816,
          3592.1301984892816,
          3592.1301984892816,
          3592.1301984892816,
          3592.1301984892816,
          3592.1301984892816,
          3592.1301984892816,
          3592.1301984892816,
          3592.1301984892816,
          3592.1301984892816,
          3592.1301984892816,
          3592.1301984892816,
          3592.1301984892816,
          3592.1301984892816,
          3592.1301984892816,
          3592.1301984892816,
          3592.1301984892816,
          3592.1301984892816,
          3592.1301984892816,
          3592.1301984892816,
          3592.1301984892816,
          3592.1301984892816,
          3592.1301984892816,
          3592.1301984892816,
          3592.1301984892816,
          3592.1301984892816,
          3592.1301984892816,
          3592.1301984892816,
          3592.1301984892816
         ]
        }
       ],
       "layout": {
        "annotations": [
         {
          "font": {
           "size": 11
          },
          "showarrow": false,
          "text": "$\\LARGE{J\\;\\mathrm{(Nmm)}^{-1}}$",
          "x": 0.5,
          "xref": "paper",
          "y": -0.22,
          "yref": "paper"
         },
         {
          "font": {
           "size": 11
          },
          "showarrow": false,
          "text": "$\\LARGE{\\sigma_\\mathrm{w}}$",
          "textangle": -90,
          "x": -0.22,
          "xref": "paper",
          "y": 0.5,
          "yref": "paper"
         },
         {
          "font": {
           "size": 11
          },
          "showarrow": false,
          "text": "$$",
          "x": 0.41,
          "xref": "paper",
          "y": 1.1,
          "yref": "paper"
         }
        ],
        "height": 350,
        "legend": {
         "x": 0.8,
         "y": 0.01
        },
        "margin": {
         "b": 80,
         "l": 80,
         "r": 20,
         "t": 40
        },
        "showlegend": true,
        "template": {
         "data": {
          "bar": [
           {
            "error_x": {
             "color": "#2a3f5f"
            },
            "error_y": {
             "color": "#2a3f5f"
            },
            "marker": {
             "line": {
              "color": "#E5ECF6",
              "width": 0.5
             }
            },
            "type": "bar"
           }
          ],
          "barpolar": [
           {
            "marker": {
             "line": {
              "color": "#E5ECF6",
              "width": 0.5
             }
            },
            "type": "barpolar"
           }
          ],
          "carpet": [
           {
            "aaxis": {
             "endlinecolor": "#2a3f5f",
             "gridcolor": "white",
             "linecolor": "white",
             "minorgridcolor": "white",
             "startlinecolor": "#2a3f5f"
            },
            "baxis": {
             "endlinecolor": "#2a3f5f",
             "gridcolor": "white",
             "linecolor": "white",
             "minorgridcolor": "white",
             "startlinecolor": "#2a3f5f"
            },
            "type": "carpet"
           }
          ],
          "choropleth": [
           {
            "colorbar": {
             "outlinewidth": 0,
             "ticks": ""
            },
            "type": "choropleth"
           }
          ],
          "contour": [
           {
            "colorbar": {
             "outlinewidth": 0,
             "ticks": ""
            },
            "colorscale": [
             [
              0,
              "#0d0887"
             ],
             [
              0.1111111111111111,
              "#46039f"
             ],
             [
              0.2222222222222222,
              "#7201a8"
             ],
             [
              0.3333333333333333,
              "#9c179e"
             ],
             [
              0.4444444444444444,
              "#bd3786"
             ],
             [
              0.5555555555555556,
              "#d8576b"
             ],
             [
              0.6666666666666666,
              "#ed7953"
             ],
             [
              0.7777777777777778,
              "#fb9f3a"
             ],
             [
              0.8888888888888888,
              "#fdca26"
             ],
             [
              1,
              "#f0f921"
             ]
            ],
            "type": "contour"
           }
          ],
          "contourcarpet": [
           {
            "colorbar": {
             "outlinewidth": 0,
             "ticks": ""
            },
            "type": "contourcarpet"
           }
          ],
          "heatmap": [
           {
            "colorbar": {
             "outlinewidth": 0,
             "ticks": ""
            },
            "colorscale": [
             [
              0,
              "#0d0887"
             ],
             [
              0.1111111111111111,
              "#46039f"
             ],
             [
              0.2222222222222222,
              "#7201a8"
             ],
             [
              0.3333333333333333,
              "#9c179e"
             ],
             [
              0.4444444444444444,
              "#bd3786"
             ],
             [
              0.5555555555555556,
              "#d8576b"
             ],
             [
              0.6666666666666666,
              "#ed7953"
             ],
             [
              0.7777777777777778,
              "#fb9f3a"
             ],
             [
              0.8888888888888888,
              "#fdca26"
             ],
             [
              1,
              "#f0f921"
             ]
            ],
            "type": "heatmap"
           }
          ],
          "heatmapgl": [
           {
            "colorbar": {
             "outlinewidth": 0,
             "ticks": ""
            },
            "colorscale": [
             [
              0,
              "#0d0887"
             ],
             [
              0.1111111111111111,
              "#46039f"
             ],
             [
              0.2222222222222222,
              "#7201a8"
             ],
             [
              0.3333333333333333,
              "#9c179e"
             ],
             [
              0.4444444444444444,
              "#bd3786"
             ],
             [
              0.5555555555555556,
              "#d8576b"
             ],
             [
              0.6666666666666666,
              "#ed7953"
             ],
             [
              0.7777777777777778,
              "#fb9f3a"
             ],
             [
              0.8888888888888888,
              "#fdca26"
             ],
             [
              1,
              "#f0f921"
             ]
            ],
            "type": "heatmapgl"
           }
          ],
          "histogram": [
           {
            "marker": {
             "colorbar": {
              "outlinewidth": 0,
              "ticks": ""
             }
            },
            "type": "histogram"
           }
          ],
          "histogram2d": [
           {
            "colorbar": {
             "outlinewidth": 0,
             "ticks": ""
            },
            "colorscale": [
             [
              0,
              "#0d0887"
             ],
             [
              0.1111111111111111,
              "#46039f"
             ],
             [
              0.2222222222222222,
              "#7201a8"
             ],
             [
              0.3333333333333333,
              "#9c179e"
             ],
             [
              0.4444444444444444,
              "#bd3786"
             ],
             [
              0.5555555555555556,
              "#d8576b"
             ],
             [
              0.6666666666666666,
              "#ed7953"
             ],
             [
              0.7777777777777778,
              "#fb9f3a"
             ],
             [
              0.8888888888888888,
              "#fdca26"
             ],
             [
              1,
              "#f0f921"
             ]
            ],
            "type": "histogram2d"
           }
          ],
          "histogram2dcontour": [
           {
            "colorbar": {
             "outlinewidth": 0,
             "ticks": ""
            },
            "colorscale": [
             [
              0,
              "#0d0887"
             ],
             [
              0.1111111111111111,
              "#46039f"
             ],
             [
              0.2222222222222222,
              "#7201a8"
             ],
             [
              0.3333333333333333,
              "#9c179e"
             ],
             [
              0.4444444444444444,
              "#bd3786"
             ],
             [
              0.5555555555555556,
              "#d8576b"
             ],
             [
              0.6666666666666666,
              "#ed7953"
             ],
             [
              0.7777777777777778,
              "#fb9f3a"
             ],
             [
              0.8888888888888888,
              "#fdca26"
             ],
             [
              1,
              "#f0f921"
             ]
            ],
            "type": "histogram2dcontour"
           }
          ],
          "mesh3d": [
           {
            "colorbar": {
             "outlinewidth": 0,
             "ticks": ""
            },
            "type": "mesh3d"
           }
          ],
          "parcoords": [
           {
            "line": {
             "colorbar": {
              "outlinewidth": 0,
              "ticks": ""
             }
            },
            "type": "parcoords"
           }
          ],
          "pie": [
           {
            "automargin": true,
            "type": "pie"
           }
          ],
          "scatter": [
           {
            "marker": {
             "colorbar": {
              "outlinewidth": 0,
              "ticks": ""
             }
            },
            "type": "scatter"
           }
          ],
          "scatter3d": [
           {
            "line": {
             "colorbar": {
              "outlinewidth": 0,
              "ticks": ""
             }
            },
            "marker": {
             "colorbar": {
              "outlinewidth": 0,
              "ticks": ""
             }
            },
            "type": "scatter3d"
           }
          ],
          "scattercarpet": [
           {
            "marker": {
             "colorbar": {
              "outlinewidth": 0,
              "ticks": ""
             }
            },
            "type": "scattercarpet"
           }
          ],
          "scattergeo": [
           {
            "marker": {
             "colorbar": {
              "outlinewidth": 0,
              "ticks": ""
             }
            },
            "type": "scattergeo"
           }
          ],
          "scattergl": [
           {
            "marker": {
             "colorbar": {
              "outlinewidth": 0,
              "ticks": ""
             }
            },
            "type": "scattergl"
           }
          ],
          "scattermapbox": [
           {
            "marker": {
             "colorbar": {
              "outlinewidth": 0,
              "ticks": ""
             }
            },
            "type": "scattermapbox"
           }
          ],
          "scatterpolar": [
           {
            "marker": {
             "colorbar": {
              "outlinewidth": 0,
              "ticks": ""
             }
            },
            "type": "scatterpolar"
           }
          ],
          "scatterpolargl": [
           {
            "marker": {
             "colorbar": {
              "outlinewidth": 0,
              "ticks": ""
             }
            },
            "type": "scatterpolargl"
           }
          ],
          "scatterternary": [
           {
            "marker": {
             "colorbar": {
              "outlinewidth": 0,
              "ticks": ""
             }
            },
            "type": "scatterternary"
           }
          ],
          "surface": [
           {
            "colorbar": {
             "outlinewidth": 0,
             "ticks": ""
            },
            "colorscale": [
             [
              0,
              "#0d0887"
             ],
             [
              0.1111111111111111,
              "#46039f"
             ],
             [
              0.2222222222222222,
              "#7201a8"
             ],
             [
              0.3333333333333333,
              "#9c179e"
             ],
             [
              0.4444444444444444,
              "#bd3786"
             ],
             [
              0.5555555555555556,
              "#d8576b"
             ],
             [
              0.6666666666666666,
              "#ed7953"
             ],
             [
              0.7777777777777778,
              "#fb9f3a"
             ],
             [
              0.8888888888888888,
              "#fdca26"
             ],
             [
              1,
              "#f0f921"
             ]
            ],
            "type": "surface"
           }
          ],
          "table": [
           {
            "cells": {
             "fill": {
              "color": "#EBF0F8"
             },
             "line": {
              "color": "white"
             }
            },
            "header": {
             "fill": {
              "color": "#C8D4E3"
             },
             "line": {
              "color": "white"
             }
            },
            "type": "table"
           }
          ]
         },
         "layout": {
          "annotationdefaults": {
           "arrowcolor": "#2a3f5f",
           "arrowhead": 0,
           "arrowwidth": 1
          },
          "autotypenumbers": "strict",
          "coloraxis": {
           "colorbar": {
            "outlinewidth": 0,
            "ticks": ""
           }
          },
          "colorscale": {
           "diverging": [
            [
             0,
             "#8e0152"
            ],
            [
             0.1,
             "#c51b7d"
            ],
            [
             0.2,
             "#de77ae"
            ],
            [
             0.3,
             "#f1b6da"
            ],
            [
             0.4,
             "#fde0ef"
            ],
            [
             0.5,
             "#f7f7f7"
            ],
            [
             0.6,
             "#e6f5d0"
            ],
            [
             0.7,
             "#b8e186"
            ],
            [
             0.8,
             "#7fbc41"
            ],
            [
             0.9,
             "#4d9221"
            ],
            [
             1,
             "#276419"
            ]
           ],
           "sequential": [
            [
             0,
             "#0d0887"
            ],
            [
             0.1111111111111111,
             "#46039f"
            ],
            [
             0.2222222222222222,
             "#7201a8"
            ],
            [
             0.3333333333333333,
             "#9c179e"
            ],
            [
             0.4444444444444444,
             "#bd3786"
            ],
            [
             0.5555555555555556,
             "#d8576b"
            ],
            [
             0.6666666666666666,
             "#ed7953"
            ],
            [
             0.7777777777777778,
             "#fb9f3a"
            ],
            [
             0.8888888888888888,
             "#fdca26"
            ],
            [
             1,
             "#f0f921"
            ]
           ],
           "sequentialminus": [
            [
             0,
             "#0d0887"
            ],
            [
             0.1111111111111111,
             "#46039f"
            ],
            [
             0.2222222222222222,
             "#7201a8"
            ],
            [
             0.3333333333333333,
             "#9c179e"
            ],
            [
             0.4444444444444444,
             "#bd3786"
            ],
            [
             0.5555555555555556,
             "#d8576b"
            ],
            [
             0.6666666666666666,
             "#ed7953"
            ],
            [
             0.7777777777777778,
             "#fb9f3a"
            ],
            [
             0.8888888888888888,
             "#fdca26"
            ],
            [
             1,
             "#f0f921"
            ]
           ]
          },
          "colorway": [
           "#636efa",
           "#EF553B",
           "#00cc96",
           "#ab63fa",
           "#FFA15A",
           "#19d3f3",
           "#FF6692",
           "#B6E880",
           "#FF97FF",
           "#FECB52"
          ],
          "font": {
           "color": "#2a3f5f"
          },
          "geo": {
           "bgcolor": "white",
           "lakecolor": "white",
           "landcolor": "#E5ECF6",
           "showlakes": true,
           "showland": true,
           "subunitcolor": "white"
          },
          "hoverlabel": {
           "align": "left"
          },
          "hovermode": "closest",
          "mapbox": {
           "style": "light"
          },
          "paper_bgcolor": "white",
          "plot_bgcolor": "#E5ECF6",
          "polar": {
           "angularaxis": {
            "gridcolor": "white",
            "linecolor": "white",
            "ticks": ""
           },
           "bgcolor": "#E5ECF6",
           "radialaxis": {
            "gridcolor": "white",
            "linecolor": "white",
            "ticks": ""
           }
          },
          "scene": {
           "xaxis": {
            "backgroundcolor": "#E5ECF6",
            "gridcolor": "white",
            "gridwidth": 2,
            "linecolor": "white",
            "showbackground": true,
            "ticks": "",
            "zerolinecolor": "white"
           },
           "yaxis": {
            "backgroundcolor": "#E5ECF6",
            "gridcolor": "white",
            "gridwidth": 2,
            "linecolor": "white",
            "showbackground": true,
            "ticks": "",
            "zerolinecolor": "white"
           },
           "zaxis": {
            "backgroundcolor": "#E5ECF6",
            "gridcolor": "white",
            "gridwidth": 2,
            "linecolor": "white",
            "showbackground": true,
            "ticks": "",
            "zerolinecolor": "white"
           }
          },
          "shapedefaults": {
           "line": {
            "color": "#2a3f5f"
           }
          },
          "ternary": {
           "aaxis": {
            "gridcolor": "white",
            "linecolor": "white",
            "ticks": ""
           },
           "baxis": {
            "gridcolor": "white",
            "linecolor": "white",
            "ticks": ""
           },
           "bgcolor": "#E5ECF6",
           "caxis": {
            "gridcolor": "white",
            "linecolor": "white",
            "ticks": ""
           }
          },
          "title": {
           "x": 0.05
          },
          "xaxis": {
           "automargin": true,
           "gridcolor": "white",
           "linecolor": "white",
           "ticks": "",
           "title": {
            "standoff": 15
           },
           "zerolinecolor": "white",
           "zerolinewidth": 2
          },
          "yaxis": {
           "automargin": true,
           "gridcolor": "white",
           "linecolor": "white",
           "ticks": "",
           "title": {
            "standoff": 15
           },
           "zerolinecolor": "white",
           "zerolinewidth": 2
          }
         }
        },
        "width": 500,
        "xaxis": {
         "mirror": "all",
         "showline": true,
         "title": {
          "font": {
           "size": 13
          }
         },
         "zeroline": false
        },
        "yaxis": {
         "mirror": "all",
         "showline": true,
         "title": {
          "font": {
           "size": 13
          }
         },
         "zeroline": false
        }
       }
      },
      "text/html": [
       "<div>                            <div id=\"a82e6bf4-a873-46be-bb1e-1ede4de245ee\" class=\"plotly-graph-div\" style=\"height:350px; width:500px;\"></div>            <script type=\"text/javascript\">                require([\"plotly\"], function(Plotly) {                    window.PLOTLYENV=window.PLOTLYENV || {};                                    if (document.getElementById(\"a82e6bf4-a873-46be-bb1e-1ede4de245ee\")) {                    Plotly.newPlot(                        \"a82e6bf4-a873-46be-bb1e-1ede4de245ee\",                        [{\"line\": {\"color\": \"black\", \"dash\": \"solid\", \"width\": 2}, \"mode\": \"lines\", \"name\": \"T = -91\\u00b0C\", \"type\": \"scatter\", \"uid\": \"76869864-6db2-4b25-aeb0-951edaedb5a3\", \"x\": [0.115698337555, 0.260338902473, 0.462844640017, 0.723201870918, 1.0413916111, 1.41738843918, 1.8511531353, 2.34265327454, 2.89188027382, 3.49874424934, 4.16319656372, 4.88532924652, 5.6650261879, 6.50230073929, 7.39715242386, 8.34968280792, 9.35976886749, 10.4275512695, 11.5532798767, 12.7366924286, 13.9783153534, 15.2781858444, 16.6360569, 18.0529785156, 19.5280799866, 21.0627822876, 22.6562213898, 24.3087234497, 26.0200214386, 27.7887744904, 29.6151733398, 31.5005283356, 33.4433937073, 35.4459915161, 37.5080604553, 39.6281471252, 41.8096351624, 44.0500984192, 46.3443031311, 48.6949882507, 51.1016235352, 53.5655479431, 56.0808105469, 58.6458435059, 61.2635421753, 63.9311790466, 66.6494064331, 69.4313201904, 72.2623291016, 72.3144683838, 72.3590393066, 72.4034729004, 72.4702682495, 72.5705413818, 72.7211761475, 72.9472045898, 73.2865066528, 73.795425415, 74.5604400635, 75.7085647583, 77.4429092407, 80.0786437988, 80.1331558228, 80.2023468018, 80.3061447144, 80.462020874, 80.6963119507, 81.048576355, 81.5787963867, 82.3776855469, 83.5811386108, 85.3967819214, 88.1395187378, 88.1960830688, 88.2678604126, 88.3758621216, 88.5380477905, 88.7816009521, 89.147102356, 89.6970901489, 90.5262985229, 91.7776031494, 93.6670532227, 96.5374755859, 96.5973587036, 96.6726913452, 96.7853546143, 96.9547653198, 97.2091522217, 97.5916366577, 98.166053772, 99.03074646, 100.339012146, 102.32346344, 105.34589386, 105.408500671, 105.487579346, 105.606735229, 105.786094666, 106.054298401, 106.457695007, 107.063247681, 107.975448608, 109.345672607, 111.417732239, 111.619148254, 111.911865234, 112.351303101, 113.012252808, 114.005645752, 115.501480103, 117.76423645, 117.824699402, 117.878089905, 117.931419373, 118.011329651, 118.131332397, 118.311355591, 118.581512451, 118.987037659, 119.596694946], \"y\": [0.0, 0.0, 1662.042604329667, 1725.6747370540993, 2063.9044487201545, 2190.752559301317, 2264.4994008464587, 2387.659422931492, 2467.000361119547, 2529.593127161238, 2603.46994580604, 2663.26959147835, 2711.3065975704926, 2770.521702103606, 2816.154458353101, 2856.818818743986, 2893.991506828828, 2959.9469625775437, 2980.217145552847, 3012.363811922406, 3074.436696411196, 3106.1653801586863, 3135.0978596719333, 3169.032616184759, 3200.6286460630076, 3227.282497999655, 3253.113483020886, 3284.3487227865353, 3308.116389920355, 3332.6348699390833, 3356.509284796625, 3379.5805426247384, 3401.950699962974, 3422.839570376124, 3443.2163890603515, 3463.1973880527275, 3481.845977436291, 3501.0029314548037, 3518.685545192119, 3535.693059302891, 3553.1267724857967, 3568.851418877048, 3584.3383017322108, 3599.684649859287, 3614.3564131797075, 3628.853508997329, 3642.890146380434, 3656.4800211644088, 3669.685725019288, 3669.9893427947236, 3670.1719184271633, 3670.360899252575, 3670.6474447681853, 3671.0785346593484, 3671.727964456899, 3672.6976643533094, 3674.1439042776683, 3691.1637562653955, 3679.68279896337, 3684.584882623394, 3691.770493245395, 3702.23526684353, 3702.5031171561527, 3702.7513677917536, 3703.120588526632, 3703.6861887052773, 3704.539646373477, 3705.915891296851, 3707.865120229503, 3710.758442639339, 3715.273063662683, 3721.61117440617, 3731.0664232344425, 3731.272812091858, 3731.5959590405973, 3731.934040529202, 3732.4642726671946, 3733.25924623888, 3735.2282572949775, 3736.2391647909662, 3738.987295749742, 3742.943251497078, 3748.9184073617657, 3757.620181200923, 3761.479419899913, 3778.552655937555, 3761.202633186875, 3760.9339708529114, 3760.455296279947, 3760.610264368842, 3762.339441032387, 3764.830110650567, 3768.520799326593, 3774.028787314215, 3782.079282406023, 3782.234722810285, 3782.385056785004, 3786.046339989772, 3785.0548791079195, 3785.731773797022, 3785.940743872815, 3786.314872075562, 3788.6774573775797, 3792.0775332014746, 3797.1175698956026, 3797.552848852864, 3798.2316192491944, 3800.543957580418, 3801.3104651648578, 3803.1473748939256, 3806.6049469344402, 3811.7566561293233, 3811.904402010873, 3837.3754853338723, 3812.12318545004, 3812.298741231855, 3812.5595113306463, 3812.9520814577713, 3813.5415473918065, 3814.436277468933, 3815.772761727397]}, {\"line\": {\"color\": \"blue\", \"dash\": \"solid\", \"width\": 2}, \"mode\": \"lines\", \"name\": \"T = -60\\u00b0C\", \"type\": \"scatter\", \"uid\": \"d05dee93-c1cf-4c6d-8b64-851b5886073a\", \"x\": [0.260264933109, 0.462675571442, 0.722916841507, 1.04088020325, 1.41660559177, 1.84996175766, 2.34093403816, 2.88945651054, 3.49548697472, 4.15896987915, 4.87987756729, 5.65815830231, 6.49382162094, 7.3868637085, 8.337266922, 9.34507083893, 10.4104423523, 11.533367157, 12.7142162323, 13.9527130127, 15.2493076324, 16.6042823792, 18.0177688599, 19.4895629883, 21.0208816528, 22.6110057831, 24.2600402832, 25.9664897919, 27.7267971039, 29.5445709229, 31.4192276001, 33.3480453491, 35.3357048035, 37.3792228699, 39.4819259644, 41.6393966675, 43.8539237976, 46.1201057434, 48.4417304993, 50.8184661865, 53.2501831055, 55.7308349609, 58.263458252, 60.8368263245, 63.4373474121, 66.0624237061, 68.7168960571, 71.4187698364, 74.1615524292, 76.9486999512, 79.7900695801, 82.6758041382, 85.6066055298, 88.5867767334, 91.6195907593, 94.6997756958, 97.8332672119, 100.995506287, 104.183174133, 107.408676147, 110.669548035, 113.964439392, 117.293388367, 120.655036926, 124.052993774, 127.490730286, 130.976486206, 134.507751465, 138.082199097, 141.702056885, 145.361480713, 149.064041138, 152.803588867, 156.577560425, 160.395187378, 164.257629395, 168.166366577, 172.11328125, 176.090362549, 180.102325439, 184.151733398, 188.236740112, 192.351501465, 196.502914429, 200.688583374, 204.902633667, 209.144500732], \"y\": [0.0, 0.0, 1654.4663214197574, 1881.8614635498834, 1998.2635034194038, 2105.575341038197, 2191.4749238791023, 2252.4128549107636, 2312.467580738804, 2369.362349753222, 2461.0154916891343, 2523.879523567989, 2574.9035490218416, 2623.7976817980175, 2677.3798802317465, 2726.507893667785, 2760.8862465275215, 2804.1269121848136, 2845.1210125026923, 2876.0364555190145, 2908.8434256844816, 2936.225425267965, 2966.6176052190694, 2993.6551815664166, 3024.4447183945817, 3049.494583470465, 3073.7803311049124, 3099.2142682645135, 3122.4689477953807, 3146.079004462439, 3167.815025266036, 3188.3975970636156, 3208.969450653629, 3227.8952592074015, 3247.252256835089, 3264.7792605770387, 3282.086145063663, 3298.8166147984484, 3316.15035182155, 3336.7850594317024, 3353.2379017986664, 3364.0003365280627, 3387.4113127554783, 3390.57366255054, 3404.2010974456443, 3418.8591730717626, 3439.3877891902403, 3447.0194150655166, 3467.435662969963, 3478.3859625044884, 3488.949167566285, 3498.7015600942364, 3510.1837910011377, 3521.202004258649, 3517.7478330506265, 3535.845636660965, 3549.7284304276322, 3546.6837951458506, 3567.1221193546694, 3568.1770800090612, 3586.3994339209307, 3592.1301984892816, 3589.132541850071, 3591.8111591084376, 3616.6155241791384, 3621.657965660468, 3622.894355649357, 3627.262761715123, 3647.482133545299, 3653.567395786378, 3659.018528905516, 3662.3384772694153, 3668.525159228393, 3674.479218972955, 3677.701601290609, 3688.202112517445, 3701.975131361265, 3698.246584027796, 3703.9378087490795, 3708.278427520656, 3710.872457972742, 3716.369384927325, 3719.1174905964263, 3721.4050006515595, 3726.3894806989483, 3731.708972722443, 3736.187537738051]}, {\"line\": {\"color\": \"green\", \"dash\": \"solid\", \"width\": 2}, \"mode\": \"lines\", \"name\": \"T = -40\\u00b0C\", \"type\": \"scatter\", \"uid\": \"09e132b2-b051-439c-91e5-bb4bfee3c18a\", \"x\": [0.256513297558, 0.577115416527, 1.02571594715, 1.60218751431, 2.3061709404, 3.13781690598, 4.09654188156, 5.182513237, 6.39557027817, 7.73576974869, 9.20316505432, 10.798204422, 12.5211801529, 14.37271595, 16.3538303375, 18.4647254944, 20.7068767548, 23.0804634094, 25.5852451324, 28.2205066681, 30.9811096191, 33.8687286377, 36.8777542114, 40.0129470825, 43.2747955322, 46.6620521545, 50.1710205078, 53.7910079956, 57.5207939148, 61.3296508789, 65.2536392212, 69.2781066895, 73.419883728, 77.6879348755, 82.0928497314, 86.632484436, 91.2769851685, 95.9990997314, 100.799934387, 105.691932678, 110.682525635, 115.769340515, 120.960014343, 126.246871948, 131.642868042, 137.153366089, 142.774917603, 148.487136841, 154.304244995, 160.217163086, 166.211715698, 172.28994751, 178.453857422, 184.704223633, 191.022460938, 197.407806396, 203.853469849, 210.355682373, 216.914779663, 223.516296387, 230.164703369, 236.860244751, 243.600128174, 250.373550415, 257.177856445, 264.017669678, 270.890258789, 277.795288086, 284.73236084, 291.703369141, 298.705444336, 305.73550415, 312.79486084, 319.884490967, 327.001251221, 334.14666748, 341.313781738, 348.506256104, 355.719696045, 362.953033447, 370.205718994, 377.479125977, 384.768188477, 392.071380615, 399.388214111, 406.720031738, 414.067108154, 421.430877686, 428.809570313, 436.20111084, 443.604705811, 451.019439697, 458.44354248], \"y\": [0.0, 0.0, 1665.5058031224987, 1825.7096466206983, 2035.297068548747, 2121.706165458023, 2187.6616929903, 2257.947143188703, 2418.0700851391443, 2517.484609493741, 2569.3719374029947, 2632.4050577663456, 2698.86856583681, 2740.0375055698582, 2787.670347139675, 2822.510519693779, 2894.6835931065234, 2930.6428229419203, 2965.0668161710014, 2998.491995804817, 3032.2312082200456, 3066.065795842832, 3095.641134250827, 3125.436571086446, 3156.672822898323, 3183.359483388459, 3207.601011442164, 3230.864780279499, 3253.3449644050456, 3272.898575274424, 3291.395662449226, 3308.7861300412633, 3324.542588228642, 3339.6645736281453, 3353.7546530540008, 3367.3082813541664, 3380.2384778354394, 3392.559080156142, 3404.2803752154814, 3415.513131926023, 3431.5074593504414, 3437.2891335589766, 3462.2767735040375, 3458.840183061044, 3468.5129757522236, 3495.4565385785086, 3487.96220189329, 3499.794158420826, 3525.589506864462, 3535.066302456067, 3543.8732123828363, 3529.9453574015115, 3561.6008870462006, 3569.764743590348, 3568.541977784513, 3562.937269100368, 3571.274889263486, 3601.7736772077155, 3609.0602490693695, 3616.182650727313, 3623.2668662804804, 3630.2887267235715, 3637.314981157807, 3644.232849808555, 3651.024756466761, 3657.6625226212104, 3664.2142770269784, 3670.5948816220557, 3676.8188899833845, 3682.9172603977695, 3688.864151153705, 3694.6247161593383, 3700.2501539276786, 3705.765046036851, 3711.097629211816, 3716.305960670645, 3721.372655304511, 3726.290618608628, 3731.128367189594, 3735.9014062274837, 3740.557572934679, 3745.1890203617418, 3749.671028190851, 3754.107729850185, 3758.454955959615, 3762.739546443336, 3766.938216534293, 3771.09353420034, 3775.1168342295714, 3779.088948249611, 3782.997387089537, 3786.775992649316, 3790.564011879232]}, {\"line\": {\"color\": \"grey\", \"dash\": \"dash\"}, \"name\": \"$\\\\mathrm{prediction\\\\;based\\\\;on}\\\\;J_0^{T = -91\\\\mathrm{\\u00b0C}}$\", \"type\": \"scatter\", \"uid\": \"942a1dc3-0428-4de9-8596-3c916fb8e7a7\", \"x\": [0.0, 9.183673469387756, 18.367346938775512, 27.551020408163268, 36.734693877551024, 45.91836734693878, 55.102040816326536, 64.28571428571429, 73.46938775510205, 82.6530612244898, 91.83673469387756, 101.02040816326532, 110.20408163265307, 119.38775510204083, 128.57142857142858, 137.75510204081633, 146.9387755102041, 156.12244897959187, 165.3061224489796, 174.48979591836735, 183.67346938775512, 192.8571428571429, 202.04081632653063, 211.22448979591837, 220.40816326530614, 229.5918367346939, 238.77551020408166, 247.9591836734694, 257.14285714285717, 266.32653061224494, 275.51020408163265, 284.6938775510204, 293.8775510204082, 303.06122448979596, 312.24489795918373, 321.42857142857144, 330.6122448979592, 339.795918367347, 348.9795918367347, 358.16326530612247, 367.34693877551024, 376.530612244898, 385.7142857142858, 394.8979591836735, 404.08163265306126, 413.26530612244903, 422.44897959183675, 431.6326530612245, 440.8163265306123, 450.0], \"y\": [3592.1301984892816, 3592.1301984892816, 3592.1301984892816, 3592.1301984892816, 3592.1301984892816, 3592.1301984892816, 3592.1301984892816, 3592.1301984892816, 3592.1301984892816, 3592.1301984892816, 3592.1301984892816, 3592.1301984892816, 3592.1301984892816, 3592.1301984892816, 3592.1301984892816, 3592.1301984892816, 3592.1301984892816, 3592.1301984892816, 3592.1301984892816, 3592.1301984892816, 3592.1301984892816, 3592.1301984892816, 3592.1301984892816, 3592.1301984892816, 3592.1301984892816, 3592.1301984892816, 3592.1301984892816, 3592.1301984892816, 3592.1301984892816, 3592.1301984892816, 3592.1301984892816, 3592.1301984892816, 3592.1301984892816, 3592.1301984892816, 3592.1301984892816, 3592.1301984892816, 3592.1301984892816, 3592.1301984892816, 3592.1301984892816, 3592.1301984892816, 3592.1301984892816, 3592.1301984892816, 3592.1301984892816, 3592.1301984892816, 3592.1301984892816, 3592.1301984892816, 3592.1301984892816, 3592.1301984892816, 3592.1301984892816, 3592.1301984892816, 3592.1301984892816, 3592.1301984892816, 3592.1301984892816, 3592.1301984892816, 3592.1301984892816, 3592.1301984892816, 3592.1301984892816, 3592.1301984892816, 3592.1301984892816, 3592.1301984892816, 3592.1301984892816, 3592.1301984892816, 3592.1301984892816, 3592.1301984892816, 3592.1301984892816, 3592.1301984892816, 3592.1301984892816, 3592.1301984892816, 3592.1301984892816, 3592.1301984892816, 3592.1301984892816, 3592.1301984892816, 3592.1301984892816, 3592.1301984892816, 3592.1301984892816, 3592.1301984892816, 3592.1301984892816, 3592.1301984892816, 3592.1301984892816, 3592.1301984892816, 3592.1301984892816, 3592.1301984892816, 3592.1301984892816, 3592.1301984892816, 3592.1301984892816, 3592.1301984892816, 3592.1301984892816, 3592.1301984892816, 3592.1301984892816, 3592.1301984892816, 3592.1301984892816, 3592.1301984892816, 3592.1301984892816, 3592.1301984892816, 3592.1301984892816, 3592.1301984892816, 3592.1301984892816, 3592.1301984892816, 3592.1301984892816, 3592.1301984892816, 3592.1301984892816, 3592.1301984892816, 3592.1301984892816, 3592.1301984892816, 3592.1301984892816, 3592.1301984892816, 3592.1301984892816, 3592.1301984892816, 3592.1301984892816, 3592.1301984892816, 3592.1301984892816, 3592.1301984892816, 3592.1301984892816, 3592.1301984892816, 3592.1301984892816, 3592.1301984892816, 3592.1301984892816, 3592.1301984892816, 3592.1301984892816, 3592.1301984892816]}],                        {\"annotations\": [{\"font\": {\"size\": 11}, \"showarrow\": false, \"text\": \"$\\\\LARGE{J\\\\;\\\\mathrm{(Nmm)}^{-1}}$\", \"x\": 0.5, \"xref\": \"paper\", \"y\": -0.22, \"yref\": \"paper\"}, {\"font\": {\"size\": 11}, \"showarrow\": false, \"text\": \"$\\\\LARGE{\\\\sigma_\\\\mathrm{w}}$\", \"textangle\": -90, \"x\": -0.22, \"xref\": \"paper\", \"y\": 0.5, \"yref\": \"paper\"}, {\"font\": {\"size\": 11}, \"showarrow\": false, \"text\": \"$$\", \"x\": 0.41, \"xref\": \"paper\", \"y\": 1.1, \"yref\": \"paper\"}], \"height\": 350, \"legend\": {\"x\": 0.8, \"y\": 0.01}, \"margin\": {\"b\": 80, \"l\": 80, \"r\": 20, \"t\": 40}, \"showlegend\": true, \"template\": {\"data\": {\"bar\": [{\"error_x\": {\"color\": \"#2a3f5f\"}, \"error_y\": {\"color\": \"#2a3f5f\"}, \"marker\": {\"line\": {\"color\": \"#E5ECF6\", \"width\": 0.5}}, \"type\": \"bar\"}], \"barpolar\": [{\"marker\": {\"line\": {\"color\": \"#E5ECF6\", \"width\": 0.5}}, \"type\": \"barpolar\"}], \"carpet\": [{\"aaxis\": {\"endlinecolor\": \"#2a3f5f\", \"gridcolor\": \"white\", \"linecolor\": \"white\", \"minorgridcolor\": \"white\", \"startlinecolor\": \"#2a3f5f\"}, \"baxis\": {\"endlinecolor\": \"#2a3f5f\", \"gridcolor\": \"white\", \"linecolor\": \"white\", \"minorgridcolor\": \"white\", \"startlinecolor\": \"#2a3f5f\"}, \"type\": \"carpet\"}], \"choropleth\": [{\"colorbar\": {\"outlinewidth\": 0, \"ticks\": \"\"}, \"type\": \"choropleth\"}], \"contour\": [{\"colorbar\": {\"outlinewidth\": 0, \"ticks\": \"\"}, \"colorscale\": [[0.0, \"#0d0887\"], [0.1111111111111111, \"#46039f\"], [0.2222222222222222, \"#7201a8\"], [0.3333333333333333, \"#9c179e\"], [0.4444444444444444, \"#bd3786\"], [0.5555555555555556, \"#d8576b\"], [0.6666666666666666, \"#ed7953\"], [0.7777777777777778, \"#fb9f3a\"], [0.8888888888888888, \"#fdca26\"], [1.0, \"#f0f921\"]], \"type\": \"contour\"}], \"contourcarpet\": [{\"colorbar\": {\"outlinewidth\": 0, \"ticks\": \"\"}, \"type\": \"contourcarpet\"}], \"heatmap\": [{\"colorbar\": {\"outlinewidth\": 0, \"ticks\": \"\"}, \"colorscale\": [[0.0, \"#0d0887\"], [0.1111111111111111, \"#46039f\"], [0.2222222222222222, \"#7201a8\"], [0.3333333333333333, \"#9c179e\"], [0.4444444444444444, \"#bd3786\"], [0.5555555555555556, \"#d8576b\"], [0.6666666666666666, \"#ed7953\"], [0.7777777777777778, \"#fb9f3a\"], [0.8888888888888888, \"#fdca26\"], [1.0, \"#f0f921\"]], \"type\": \"heatmap\"}], \"heatmapgl\": [{\"colorbar\": {\"outlinewidth\": 0, \"ticks\": \"\"}, \"colorscale\": [[0.0, \"#0d0887\"], [0.1111111111111111, \"#46039f\"], [0.2222222222222222, \"#7201a8\"], [0.3333333333333333, \"#9c179e\"], [0.4444444444444444, \"#bd3786\"], [0.5555555555555556, \"#d8576b\"], [0.6666666666666666, \"#ed7953\"], [0.7777777777777778, \"#fb9f3a\"], [0.8888888888888888, \"#fdca26\"], [1.0, \"#f0f921\"]], \"type\": \"heatmapgl\"}], \"histogram\": [{\"marker\": {\"colorbar\": {\"outlinewidth\": 0, \"ticks\": \"\"}}, \"type\": \"histogram\"}], \"histogram2d\": [{\"colorbar\": {\"outlinewidth\": 0, \"ticks\": \"\"}, \"colorscale\": [[0.0, \"#0d0887\"], [0.1111111111111111, \"#46039f\"], [0.2222222222222222, \"#7201a8\"], [0.3333333333333333, \"#9c179e\"], [0.4444444444444444, \"#bd3786\"], [0.5555555555555556, \"#d8576b\"], [0.6666666666666666, \"#ed7953\"], [0.7777777777777778, \"#fb9f3a\"], [0.8888888888888888, \"#fdca26\"], [1.0, \"#f0f921\"]], \"type\": \"histogram2d\"}], \"histogram2dcontour\": [{\"colorbar\": {\"outlinewidth\": 0, \"ticks\": \"\"}, \"colorscale\": [[0.0, \"#0d0887\"], [0.1111111111111111, \"#46039f\"], [0.2222222222222222, \"#7201a8\"], [0.3333333333333333, \"#9c179e\"], [0.4444444444444444, \"#bd3786\"], [0.5555555555555556, \"#d8576b\"], [0.6666666666666666, \"#ed7953\"], [0.7777777777777778, \"#fb9f3a\"], [0.8888888888888888, \"#fdca26\"], [1.0, \"#f0f921\"]], \"type\": \"histogram2dcontour\"}], \"mesh3d\": [{\"colorbar\": {\"outlinewidth\": 0, \"ticks\": \"\"}, \"type\": \"mesh3d\"}], \"parcoords\": [{\"line\": {\"colorbar\": {\"outlinewidth\": 0, \"ticks\": \"\"}}, \"type\": \"parcoords\"}], \"pie\": [{\"automargin\": true, \"type\": \"pie\"}], \"scatter\": [{\"marker\": {\"colorbar\": {\"outlinewidth\": 0, \"ticks\": \"\"}}, \"type\": \"scatter\"}], \"scatter3d\": [{\"line\": {\"colorbar\": {\"outlinewidth\": 0, \"ticks\": \"\"}}, \"marker\": {\"colorbar\": {\"outlinewidth\": 0, \"ticks\": \"\"}}, \"type\": \"scatter3d\"}], \"scattercarpet\": [{\"marker\": {\"colorbar\": {\"outlinewidth\": 0, \"ticks\": \"\"}}, \"type\": \"scattercarpet\"}], \"scattergeo\": [{\"marker\": {\"colorbar\": {\"outlinewidth\": 0, \"ticks\": \"\"}}, \"type\": \"scattergeo\"}], \"scattergl\": [{\"marker\": {\"colorbar\": {\"outlinewidth\": 0, \"ticks\": \"\"}}, \"type\": \"scattergl\"}], \"scattermapbox\": [{\"marker\": {\"colorbar\": {\"outlinewidth\": 0, \"ticks\": \"\"}}, \"type\": \"scattermapbox\"}], \"scatterpolar\": [{\"marker\": {\"colorbar\": {\"outlinewidth\": 0, \"ticks\": \"\"}}, \"type\": \"scatterpolar\"}], \"scatterpolargl\": [{\"marker\": {\"colorbar\": {\"outlinewidth\": 0, \"ticks\": \"\"}}, \"type\": \"scatterpolargl\"}], \"scatterternary\": [{\"marker\": {\"colorbar\": {\"outlinewidth\": 0, \"ticks\": \"\"}}, \"type\": \"scatterternary\"}], \"surface\": [{\"colorbar\": {\"outlinewidth\": 0, \"ticks\": \"\"}, \"colorscale\": [[0.0, \"#0d0887\"], [0.1111111111111111, \"#46039f\"], [0.2222222222222222, \"#7201a8\"], [0.3333333333333333, \"#9c179e\"], [0.4444444444444444, \"#bd3786\"], [0.5555555555555556, \"#d8576b\"], [0.6666666666666666, \"#ed7953\"], [0.7777777777777778, \"#fb9f3a\"], [0.8888888888888888, \"#fdca26\"], [1.0, \"#f0f921\"]], \"type\": \"surface\"}], \"table\": [{\"cells\": {\"fill\": {\"color\": \"#EBF0F8\"}, \"line\": {\"color\": \"white\"}}, \"header\": {\"fill\": {\"color\": \"#C8D4E3\"}, \"line\": {\"color\": \"white\"}}, \"type\": \"table\"}]}, \"layout\": {\"annotationdefaults\": {\"arrowcolor\": \"#2a3f5f\", \"arrowhead\": 0, \"arrowwidth\": 1}, \"autotypenumbers\": \"strict\", \"coloraxis\": {\"colorbar\": {\"outlinewidth\": 0, \"ticks\": \"\"}}, \"colorscale\": {\"diverging\": [[0, \"#8e0152\"], [0.1, \"#c51b7d\"], [0.2, \"#de77ae\"], [0.3, \"#f1b6da\"], [0.4, \"#fde0ef\"], [0.5, \"#f7f7f7\"], [0.6, \"#e6f5d0\"], [0.7, \"#b8e186\"], [0.8, \"#7fbc41\"], [0.9, \"#4d9221\"], [1, \"#276419\"]], \"sequential\": [[0.0, \"#0d0887\"], [0.1111111111111111, \"#46039f\"], [0.2222222222222222, \"#7201a8\"], [0.3333333333333333, \"#9c179e\"], [0.4444444444444444, \"#bd3786\"], [0.5555555555555556, \"#d8576b\"], [0.6666666666666666, \"#ed7953\"], [0.7777777777777778, \"#fb9f3a\"], [0.8888888888888888, \"#fdca26\"], [1.0, \"#f0f921\"]], \"sequentialminus\": [[0.0, \"#0d0887\"], [0.1111111111111111, \"#46039f\"], [0.2222222222222222, \"#7201a8\"], [0.3333333333333333, \"#9c179e\"], [0.4444444444444444, \"#bd3786\"], [0.5555555555555556, \"#d8576b\"], [0.6666666666666666, \"#ed7953\"], [0.7777777777777778, \"#fb9f3a\"], [0.8888888888888888, \"#fdca26\"], [1.0, \"#f0f921\"]]}, \"colorway\": [\"#636efa\", \"#EF553B\", \"#00cc96\", \"#ab63fa\", \"#FFA15A\", \"#19d3f3\", \"#FF6692\", \"#B6E880\", \"#FF97FF\", \"#FECB52\"], \"font\": {\"color\": \"#2a3f5f\"}, \"geo\": {\"bgcolor\": \"white\", \"lakecolor\": \"white\", \"landcolor\": \"#E5ECF6\", \"showlakes\": true, \"showland\": true, \"subunitcolor\": \"white\"}, \"hoverlabel\": {\"align\": \"left\"}, \"hovermode\": \"closest\", \"mapbox\": {\"style\": \"light\"}, \"paper_bgcolor\": \"white\", \"plot_bgcolor\": \"#E5ECF6\", \"polar\": {\"angularaxis\": {\"gridcolor\": \"white\", \"linecolor\": \"white\", \"ticks\": \"\"}, \"bgcolor\": \"#E5ECF6\", \"radialaxis\": {\"gridcolor\": \"white\", \"linecolor\": \"white\", \"ticks\": \"\"}}, \"scene\": {\"xaxis\": {\"backgroundcolor\": \"#E5ECF6\", \"gridcolor\": \"white\", \"gridwidth\": 2, \"linecolor\": \"white\", \"showbackground\": true, \"ticks\": \"\", \"zerolinecolor\": \"white\"}, \"yaxis\": {\"backgroundcolor\": \"#E5ECF6\", \"gridcolor\": \"white\", \"gridwidth\": 2, \"linecolor\": \"white\", \"showbackground\": true, \"ticks\": \"\", \"zerolinecolor\": \"white\"}, \"zaxis\": {\"backgroundcolor\": \"#E5ECF6\", \"gridcolor\": \"white\", \"gridwidth\": 2, \"linecolor\": \"white\", \"showbackground\": true, \"ticks\": \"\", \"zerolinecolor\": \"white\"}}, \"shapedefaults\": {\"line\": {\"color\": \"#2a3f5f\"}}, \"ternary\": {\"aaxis\": {\"gridcolor\": \"white\", \"linecolor\": \"white\", \"ticks\": \"\"}, \"baxis\": {\"gridcolor\": \"white\", \"linecolor\": \"white\", \"ticks\": \"\"}, \"bgcolor\": \"#E5ECF6\", \"caxis\": {\"gridcolor\": \"white\", \"linecolor\": \"white\", \"ticks\": \"\"}}, \"title\": {\"x\": 0.05}, \"xaxis\": {\"automargin\": true, \"gridcolor\": \"white\", \"linecolor\": \"white\", \"ticks\": \"\", \"title\": {\"standoff\": 15}, \"zerolinecolor\": \"white\", \"zerolinewidth\": 2}, \"yaxis\": {\"automargin\": true, \"gridcolor\": \"white\", \"linecolor\": \"white\", \"ticks\": \"\", \"title\": {\"standoff\": 15}, \"zerolinecolor\": \"white\", \"zerolinewidth\": 2}}}, \"width\": 500, \"xaxis\": {\"mirror\": \"all\", \"showline\": true, \"title\": {\"font\": {\"size\": 13}}, \"zeroline\": false}, \"yaxis\": {\"mirror\": \"all\", \"showline\": true, \"title\": {\"font\": {\"size\": 13}}, \"zeroline\": false}},                        {\"responsive\": true}                    ).then(function(){\n",
       "                            \n",
       "var gd = document.getElementById('a82e6bf4-a873-46be-bb1e-1ede4de245ee');\n",
       "var x = new MutationObserver(function (mutations, observer) {{\n",
       "        var display = window.getComputedStyle(gd).display;\n",
       "        if (!display || display === 'none') {{\n",
       "            console.log([gd, 'removed!']);\n",
       "            Plotly.purge(gd);\n",
       "            observer.disconnect();\n",
       "        }}\n",
       "}});\n",
       "\n",
       "// Listen for the removal of the full notebook cells\n",
       "var notebookContainer = gd.closest('#notebook-container');\n",
       "if (notebookContainer) {{\n",
       "    x.observe(notebookContainer, {childList: true});\n",
       "}}\n",
       "\n",
       "// Listen for the clearing of the current output cell\n",
       "var outputEl = gd.closest('.output');\n",
       "if (outputEl) {{\n",
       "    x.observe(outputEl, {childList: true});\n",
       "}}\n",
       "\n",
       "                        })                };                });            </script>        </div>"
      ]
     },
     "metadata": {},
     "output_type": "display_data"
    }
   ],
   "source": [
    "# plot\n",
    "# non-normalised\n",
    "\n",
    "ylab = r'$\\LARGE{\\sigma_\\mathrm{w}}$'\n",
    "xlab = r'$\\LARGE{J\\;\\mathrm{(Nmm)}^{-1}}$'\n",
    "# ylab = r'$\\LARGE{(\\sigma_\\mathrm{w}/\\sigma_\\mathrm{u})^m }$'\n",
    "layout['annotations'][1]['text'] = ylab\n",
    "title = r'$$'\n",
    "data = []\n",
    "\n",
    "sw_data_plot = glob_sw_all #glob_sw_all_corr\n",
    "\n",
    "for ri, sw_r in enumerate(sw_data_plot):\n",
    "    sw = sw_r[idxm]\n",
    "    mi = idxm\n",
    "   \n",
    "    x_plot = (gdata_all[ri]['gdata']['jintc']).values[skipped_lines_all[ri]:]\n",
    "    y_plot = sw # / su_all[ri] \n",
    "    \n",
    "\n",
    "    data.append({\n",
    "            'x': x_plot,\n",
    "            'y': np.array(y_plot),   # /mean_corr[ri]\n",
    "            'name': r'T = ' + str(temps[ri]) + r'°C',\n",
    "        #             'marker':{'symbol':'circle', 'color': [ri]},\n",
    "            'line': {'dash': lines[0], 'color': cols[ri], 'width': 2},\n",
    "             'mode': 'lines',\n",
    "        })\n",
    "data.append(\n",
    "    {\n",
    "        'x': np.linspace(0, 450),\n",
    "        'y': sw_data_plot[1][idxm][gdata_all[1]['j0_idx']-skipped_lines_all[1]]  * np.ones(120), # / su_all[1],\n",
    "        'line': {'dash': lines[1], 'color': 'grey'},\n",
    "        'name': r'$\\mathrm{prediction\\;based\\;on}\\;J_0^{T = -91\\mathrm{°C}}$' \n",
    "            })\n",
    "\n",
    "\n",
    "layout = {\n",
    "    'width': 500,\n",
    "    'height': 350,\n",
    "    'xaxis': {\n",
    "#         'range': [-0.1, 1.1],\n",
    "        'zeroline': False,\n",
    "        'showline': True,\n",
    "        'mirror': 'all',\n",
    "#         'title': r'$m$',\n",
    "        'titlefont':{'size': 13}\n",
    "    },\n",
    "    'yaxis': {\n",
    "        'zeroline': False,\n",
    "        'showline': True,\n",
    "        'mirror': 'all',\n",
    "#         'title': '$\\sigma_\\mathrm{w}/\\sigma_\\mathrm{f} $ ',\n",
    "        'titlefont':{'size': 13},\n",
    "\n",
    "    },\n",
    "    'annotations':[\n",
    "    {\n",
    "        'text':  xlab,\n",
    "        'x': 0.5,\n",
    "        'y': -0.22,\n",
    "        'xref': 'paper',\n",
    "        'yref': 'paper',\n",
    "        'showarrow': False,\n",
    "        'font': {'size': 11},\n",
    "    },\n",
    "        {\n",
    "        'text':  ylab,\n",
    "        'x': -0.22,\n",
    "        'y': 0.5,\n",
    "        'xref': 'paper',\n",
    "        'yref': 'paper',\n",
    "        'showarrow': False,\n",
    "        'font': {'size': 11},\n",
    "        'textangle': -90\n",
    "    },\n",
    "        {\n",
    "        'text':  title,\n",
    "        'x': 0.41,\n",
    "        'y': 1.1,\n",
    "        'xref': 'paper',\n",
    "        'yref': 'paper',\n",
    "        'showarrow': False,\n",
    "        'font': {'size': 11},\n",
    "    },\n",
    "    ],\n",
    "    'legend':{\n",
    "        'x': 0.8,\n",
    "        'y': 0.01,\n",
    "    },\n",
    "    \n",
    "     'margin': {\n",
    "                'l': 80,\n",
    "                'r': 20,\n",
    "                'b': 80,\n",
    "                't': 40,\n",
    "#                 'pad': 1\n",
    "     },\n",
    "\n",
    "}\n",
    "\n",
    "layout['showlegend'] = True\n",
    "f = go.FigureWidget(data,layout)\n",
    "py.iplot(f)     "
   ]
  },
  {
   "cell_type": "markdown",
   "metadata": {},
   "source": [
    "\n",
    "## Modified Beremin"
   ]
  },
  {
   "cell_type": "code",
   "execution_count": 139,
   "metadata": {},
   "outputs": [],
   "source": [
    "# USER INPUT\n",
    "sy_cut = 2\n",
    "plastic_strain_offset = 0.002\n",
    "unit_volume = (4 / 3) * np.pi * (10 * 1e-3) ** 3"
   ]
  },
  {
   "cell_type": "code",
   "execution_count": 140,
   "metadata": {
    "code_folding": [
     0
    ]
   },
   "outputs": [],
   "source": [
    "# code\n",
    "m_vals = np.arange(5, 26, 1)\n",
    "v0s = unit_volume * np.ones(len(paths))\n",
    "sy_cut = 2\n",
    "glob_sw_all_corr = []\n",
    "davg_new = davg\n",
    "\n",
    "for ip, path in enumerate(paths):\n",
    "    temp_ip = temps[ip] + 273\n",
    "    glob_sw_all_corr.append([])\n",
    "    num_frames = len(sw_data_all[ip]['data'])\n",
    "    sy_ip = s0_all_temps[ip]\n",
    "    for m in m_vals:\n",
    "        glob_sw_corr = []\n",
    "        \n",
    "        for ti in range(num_frames):\n",
    "            data_i = sw_data_all[ip]['data'][ti]\n",
    "            smax_i = data_i['smax'].values\n",
    "            smaxallt_i = data_i['smaxallt']\n",
    "            smin_i = data_i['smin'].values\n",
    "            vols_i = data_i['vol']\n",
    "            peeq_i = data_i['peeq']\n",
    "            \n",
    "            loc_sw_i = (smaxallt_i ** m) * vols_i\n",
    "\n",
    "            tau_i = (smax_i - smin_i) / 2\n",
    "\n",
    "            thinf_i = postprocess.thinning_function(davg, tau_i * 1e6, temp_ip) \n",
    "            loc_corr_i = thinf_i\n",
    "            \n",
    "            pcut_idx = np.where(peeq_i>=plastic_strain_offset)[0] #\n",
    "            scut_idx = np.where(smax_i>=(sy_cut*sy_ip))[0]\n",
    "            combcut_idx = np.intersect1d(pcut_idx, scut_idx)\n",
    "\n",
    "\n",
    "            corr_loc_sw_i = loc_corr_i[combcut_idx] * loc_sw_i.values[combcut_idx]\n",
    "\n",
    "            glob_sw_corr.append(\n",
    "                (sum(np.array(corr_loc_sw_i)) / v0s[ip]) ** (1. / m)\n",
    "            )\n",
    "\n",
    "        glob_sw_all_corr[ip].append(glob_sw_corr)"
   ]
  },
  {
   "cell_type": "code",
   "execution_count": 141,
   "metadata": {
    "code_folding": [
     0,
     29
    ]
   },
   "outputs": [
    {
     "data": {
      "application/vnd.plotly.v1+json": {
       "config": {
        "linkText": "Export to plot.ly",
        "plotlyServerURL": "https://plot.ly",
        "showLink": false
       },
       "data": [
        {
         "line": {
          "color": "black",
          "dash": "solid",
          "width": 2
         },
         "mode": "lines",
         "name": "T = -91°C",
         "type": "scatter",
         "uid": "5eda16d4-8572-43aa-a6b8-ca035c06bbf0",
         "x": [
          5,
          6,
          7,
          8,
          9,
          10,
          11,
          12,
          13,
          14,
          15,
          16,
          17,
          18,
          19,
          20,
          21,
          22,
          23,
          24,
          25
         ],
         "y": [
          18421.32096424743,
          12207.233262742953,
          9124.579896843612,
          7353.053337220168,
          6229.528352874341,
          5465.233014848035,
          4917.488156551448,
          4508.8561423164865,
          4194.152458805366,
          3945.4545789373583,
          3744.685426811818,
          3579.6832573513716,
          3441.9975955797627,
          3325.5930604267846,
          3226.0557510148174,
          3140.0902323068476,
          3065.1909994781918,
          2999.4221888245174,
          2941.2664026215607,
          2889.5187980070914,
          2843.211498869979
         ]
        },
        {
         "line": {
          "color": "blue",
          "dash": "solid",
          "width": 2
         },
         "mode": "lines",
         "name": "T = -60°C",
         "type": "scatter",
         "uid": "a47f95c9-d475-44da-a257-1e868c14f7f4",
         "x": [
          5,
          6,
          7,
          8,
          9,
          10,
          11,
          12,
          13,
          14,
          15,
          16,
          17,
          18,
          19,
          20,
          21,
          22,
          23,
          24,
          25
         ],
         "y": [
          18744.104259863154,
          12197.506858639237,
          9004.352386419227,
          7192.154102445235,
          6054.077945165048,
          5286.087854822929,
          4739.403187931626,
          4333.904033642122,
          4023.148727402956,
          3778.6043781349517,
          3581.8967378170187,
          3420.725703901225,
          3286.585193416074,
          3173.4275905202066,
          3076.8490061409407,
          2993.5746790951116,
          2921.1240448417198,
          2857.58695326082,
          2801.470652338791,
          2751.592982217933,
          2707.0064315791697
         ]
        },
        {
         "line": {
          "color": "green",
          "dash": "solid",
          "width": 2
         },
         "mode": "lines",
         "name": "T = -40°C",
         "type": "scatter",
         "uid": "456290e1-53ed-4765-b43c-e196c1802d81",
         "x": [
          5,
          6,
          7,
          8,
          9,
          10,
          11,
          12,
          13,
          14,
          15,
          16,
          17,
          18,
          19,
          20,
          21,
          22,
          23,
          24,
          25
         ],
         "y": [
          18579.146918237828,
          12067.82047267916,
          8896.038597068247,
          7097.238103071371,
          5967.881722434691,
          5205.74503805728,
          4663.091813243196,
          4260.433977375938,
          3951.726606218814,
          3708.692358638181,
          3513.124275312924,
          3352.8328566818896,
          3219.3856225528452,
          3106.7842048926714,
          3010.6578757157095,
          2927.7544030361823,
          2855.608730145201,
          2792.321583028499,
          2736.4080326226876,
          2686.6917285952863,
          2642.2296380949533
         ]
        }
       ],
       "layout": {
        "annotations": [
         {
          "font": {
           "size": 11
          },
          "showarrow": false,
          "text": "$\\LARGE{m}$",
          "x": 0.5,
          "xref": "paper",
          "y": -0.2,
          "yref": "paper"
         },
         {
          "font": {
           "size": 11
          },
          "showarrow": false,
          "text": "$\\LARGE{\\sigma_\\mathrm{w}\\;\\mathrm{(MPa)} }$",
          "textangle": -90,
          "x": -0.2,
          "xref": "paper",
          "y": 0.5,
          "yref": "paper"
         },
         {
          "font": {
           "size": 11
          },
          "showarrow": false,
          "text": "${\\mathrm{At}\\;J_0\\;\\mathrm{with}\\;\\theta(x)\\propto \\dot{\\varepsilon}}$",
          "x": 0.41,
          "xref": "paper",
          "y": 1.1,
          "yref": "paper"
         }
        ],
        "height": 420,
        "legend": {
         "x": 0.6,
         "y": 0.3
        },
        "margin": {
         "b": 80,
         "l": 80,
         "r": 20,
         "t": 40
        },
        "showlegend": true,
        "template": {
         "data": {
          "bar": [
           {
            "error_x": {
             "color": "#2a3f5f"
            },
            "error_y": {
             "color": "#2a3f5f"
            },
            "marker": {
             "line": {
              "color": "#E5ECF6",
              "width": 0.5
             }
            },
            "type": "bar"
           }
          ],
          "barpolar": [
           {
            "marker": {
             "line": {
              "color": "#E5ECF6",
              "width": 0.5
             }
            },
            "type": "barpolar"
           }
          ],
          "carpet": [
           {
            "aaxis": {
             "endlinecolor": "#2a3f5f",
             "gridcolor": "white",
             "linecolor": "white",
             "minorgridcolor": "white",
             "startlinecolor": "#2a3f5f"
            },
            "baxis": {
             "endlinecolor": "#2a3f5f",
             "gridcolor": "white",
             "linecolor": "white",
             "minorgridcolor": "white",
             "startlinecolor": "#2a3f5f"
            },
            "type": "carpet"
           }
          ],
          "choropleth": [
           {
            "colorbar": {
             "outlinewidth": 0,
             "ticks": ""
            },
            "type": "choropleth"
           }
          ],
          "contour": [
           {
            "colorbar": {
             "outlinewidth": 0,
             "ticks": ""
            },
            "colorscale": [
             [
              0,
              "#0d0887"
             ],
             [
              0.1111111111111111,
              "#46039f"
             ],
             [
              0.2222222222222222,
              "#7201a8"
             ],
             [
              0.3333333333333333,
              "#9c179e"
             ],
             [
              0.4444444444444444,
              "#bd3786"
             ],
             [
              0.5555555555555556,
              "#d8576b"
             ],
             [
              0.6666666666666666,
              "#ed7953"
             ],
             [
              0.7777777777777778,
              "#fb9f3a"
             ],
             [
              0.8888888888888888,
              "#fdca26"
             ],
             [
              1,
              "#f0f921"
             ]
            ],
            "type": "contour"
           }
          ],
          "contourcarpet": [
           {
            "colorbar": {
             "outlinewidth": 0,
             "ticks": ""
            },
            "type": "contourcarpet"
           }
          ],
          "heatmap": [
           {
            "colorbar": {
             "outlinewidth": 0,
             "ticks": ""
            },
            "colorscale": [
             [
              0,
              "#0d0887"
             ],
             [
              0.1111111111111111,
              "#46039f"
             ],
             [
              0.2222222222222222,
              "#7201a8"
             ],
             [
              0.3333333333333333,
              "#9c179e"
             ],
             [
              0.4444444444444444,
              "#bd3786"
             ],
             [
              0.5555555555555556,
              "#d8576b"
             ],
             [
              0.6666666666666666,
              "#ed7953"
             ],
             [
              0.7777777777777778,
              "#fb9f3a"
             ],
             [
              0.8888888888888888,
              "#fdca26"
             ],
             [
              1,
              "#f0f921"
             ]
            ],
            "type": "heatmap"
           }
          ],
          "heatmapgl": [
           {
            "colorbar": {
             "outlinewidth": 0,
             "ticks": ""
            },
            "colorscale": [
             [
              0,
              "#0d0887"
             ],
             [
              0.1111111111111111,
              "#46039f"
             ],
             [
              0.2222222222222222,
              "#7201a8"
             ],
             [
              0.3333333333333333,
              "#9c179e"
             ],
             [
              0.4444444444444444,
              "#bd3786"
             ],
             [
              0.5555555555555556,
              "#d8576b"
             ],
             [
              0.6666666666666666,
              "#ed7953"
             ],
             [
              0.7777777777777778,
              "#fb9f3a"
             ],
             [
              0.8888888888888888,
              "#fdca26"
             ],
             [
              1,
              "#f0f921"
             ]
            ],
            "type": "heatmapgl"
           }
          ],
          "histogram": [
           {
            "marker": {
             "colorbar": {
              "outlinewidth": 0,
              "ticks": ""
             }
            },
            "type": "histogram"
           }
          ],
          "histogram2d": [
           {
            "colorbar": {
             "outlinewidth": 0,
             "ticks": ""
            },
            "colorscale": [
             [
              0,
              "#0d0887"
             ],
             [
              0.1111111111111111,
              "#46039f"
             ],
             [
              0.2222222222222222,
              "#7201a8"
             ],
             [
              0.3333333333333333,
              "#9c179e"
             ],
             [
              0.4444444444444444,
              "#bd3786"
             ],
             [
              0.5555555555555556,
              "#d8576b"
             ],
             [
              0.6666666666666666,
              "#ed7953"
             ],
             [
              0.7777777777777778,
              "#fb9f3a"
             ],
             [
              0.8888888888888888,
              "#fdca26"
             ],
             [
              1,
              "#f0f921"
             ]
            ],
            "type": "histogram2d"
           }
          ],
          "histogram2dcontour": [
           {
            "colorbar": {
             "outlinewidth": 0,
             "ticks": ""
            },
            "colorscale": [
             [
              0,
              "#0d0887"
             ],
             [
              0.1111111111111111,
              "#46039f"
             ],
             [
              0.2222222222222222,
              "#7201a8"
             ],
             [
              0.3333333333333333,
              "#9c179e"
             ],
             [
              0.4444444444444444,
              "#bd3786"
             ],
             [
              0.5555555555555556,
              "#d8576b"
             ],
             [
              0.6666666666666666,
              "#ed7953"
             ],
             [
              0.7777777777777778,
              "#fb9f3a"
             ],
             [
              0.8888888888888888,
              "#fdca26"
             ],
             [
              1,
              "#f0f921"
             ]
            ],
            "type": "histogram2dcontour"
           }
          ],
          "mesh3d": [
           {
            "colorbar": {
             "outlinewidth": 0,
             "ticks": ""
            },
            "type": "mesh3d"
           }
          ],
          "parcoords": [
           {
            "line": {
             "colorbar": {
              "outlinewidth": 0,
              "ticks": ""
             }
            },
            "type": "parcoords"
           }
          ],
          "pie": [
           {
            "automargin": true,
            "type": "pie"
           }
          ],
          "scatter": [
           {
            "marker": {
             "colorbar": {
              "outlinewidth": 0,
              "ticks": ""
             }
            },
            "type": "scatter"
           }
          ],
          "scatter3d": [
           {
            "line": {
             "colorbar": {
              "outlinewidth": 0,
              "ticks": ""
             }
            },
            "marker": {
             "colorbar": {
              "outlinewidth": 0,
              "ticks": ""
             }
            },
            "type": "scatter3d"
           }
          ],
          "scattercarpet": [
           {
            "marker": {
             "colorbar": {
              "outlinewidth": 0,
              "ticks": ""
             }
            },
            "type": "scattercarpet"
           }
          ],
          "scattergeo": [
           {
            "marker": {
             "colorbar": {
              "outlinewidth": 0,
              "ticks": ""
             }
            },
            "type": "scattergeo"
           }
          ],
          "scattergl": [
           {
            "marker": {
             "colorbar": {
              "outlinewidth": 0,
              "ticks": ""
             }
            },
            "type": "scattergl"
           }
          ],
          "scattermapbox": [
           {
            "marker": {
             "colorbar": {
              "outlinewidth": 0,
              "ticks": ""
             }
            },
            "type": "scattermapbox"
           }
          ],
          "scatterpolar": [
           {
            "marker": {
             "colorbar": {
              "outlinewidth": 0,
              "ticks": ""
             }
            },
            "type": "scatterpolar"
           }
          ],
          "scatterpolargl": [
           {
            "marker": {
             "colorbar": {
              "outlinewidth": 0,
              "ticks": ""
             }
            },
            "type": "scatterpolargl"
           }
          ],
          "scatterternary": [
           {
            "marker": {
             "colorbar": {
              "outlinewidth": 0,
              "ticks": ""
             }
            },
            "type": "scatterternary"
           }
          ],
          "surface": [
           {
            "colorbar": {
             "outlinewidth": 0,
             "ticks": ""
            },
            "colorscale": [
             [
              0,
              "#0d0887"
             ],
             [
              0.1111111111111111,
              "#46039f"
             ],
             [
              0.2222222222222222,
              "#7201a8"
             ],
             [
              0.3333333333333333,
              "#9c179e"
             ],
             [
              0.4444444444444444,
              "#bd3786"
             ],
             [
              0.5555555555555556,
              "#d8576b"
             ],
             [
              0.6666666666666666,
              "#ed7953"
             ],
             [
              0.7777777777777778,
              "#fb9f3a"
             ],
             [
              0.8888888888888888,
              "#fdca26"
             ],
             [
              1,
              "#f0f921"
             ]
            ],
            "type": "surface"
           }
          ],
          "table": [
           {
            "cells": {
             "fill": {
              "color": "#EBF0F8"
             },
             "line": {
              "color": "white"
             }
            },
            "header": {
             "fill": {
              "color": "#C8D4E3"
             },
             "line": {
              "color": "white"
             }
            },
            "type": "table"
           }
          ]
         },
         "layout": {
          "annotationdefaults": {
           "arrowcolor": "#2a3f5f",
           "arrowhead": 0,
           "arrowwidth": 1
          },
          "autotypenumbers": "strict",
          "coloraxis": {
           "colorbar": {
            "outlinewidth": 0,
            "ticks": ""
           }
          },
          "colorscale": {
           "diverging": [
            [
             0,
             "#8e0152"
            ],
            [
             0.1,
             "#c51b7d"
            ],
            [
             0.2,
             "#de77ae"
            ],
            [
             0.3,
             "#f1b6da"
            ],
            [
             0.4,
             "#fde0ef"
            ],
            [
             0.5,
             "#f7f7f7"
            ],
            [
             0.6,
             "#e6f5d0"
            ],
            [
             0.7,
             "#b8e186"
            ],
            [
             0.8,
             "#7fbc41"
            ],
            [
             0.9,
             "#4d9221"
            ],
            [
             1,
             "#276419"
            ]
           ],
           "sequential": [
            [
             0,
             "#0d0887"
            ],
            [
             0.1111111111111111,
             "#46039f"
            ],
            [
             0.2222222222222222,
             "#7201a8"
            ],
            [
             0.3333333333333333,
             "#9c179e"
            ],
            [
             0.4444444444444444,
             "#bd3786"
            ],
            [
             0.5555555555555556,
             "#d8576b"
            ],
            [
             0.6666666666666666,
             "#ed7953"
            ],
            [
             0.7777777777777778,
             "#fb9f3a"
            ],
            [
             0.8888888888888888,
             "#fdca26"
            ],
            [
             1,
             "#f0f921"
            ]
           ],
           "sequentialminus": [
            [
             0,
             "#0d0887"
            ],
            [
             0.1111111111111111,
             "#46039f"
            ],
            [
             0.2222222222222222,
             "#7201a8"
            ],
            [
             0.3333333333333333,
             "#9c179e"
            ],
            [
             0.4444444444444444,
             "#bd3786"
            ],
            [
             0.5555555555555556,
             "#d8576b"
            ],
            [
             0.6666666666666666,
             "#ed7953"
            ],
            [
             0.7777777777777778,
             "#fb9f3a"
            ],
            [
             0.8888888888888888,
             "#fdca26"
            ],
            [
             1,
             "#f0f921"
            ]
           ]
          },
          "colorway": [
           "#636efa",
           "#EF553B",
           "#00cc96",
           "#ab63fa",
           "#FFA15A",
           "#19d3f3",
           "#FF6692",
           "#B6E880",
           "#FF97FF",
           "#FECB52"
          ],
          "font": {
           "color": "#2a3f5f"
          },
          "geo": {
           "bgcolor": "white",
           "lakecolor": "white",
           "landcolor": "#E5ECF6",
           "showlakes": true,
           "showland": true,
           "subunitcolor": "white"
          },
          "hoverlabel": {
           "align": "left"
          },
          "hovermode": "closest",
          "mapbox": {
           "style": "light"
          },
          "paper_bgcolor": "white",
          "plot_bgcolor": "#E5ECF6",
          "polar": {
           "angularaxis": {
            "gridcolor": "white",
            "linecolor": "white",
            "ticks": ""
           },
           "bgcolor": "#E5ECF6",
           "radialaxis": {
            "gridcolor": "white",
            "linecolor": "white",
            "ticks": ""
           }
          },
          "scene": {
           "xaxis": {
            "backgroundcolor": "#E5ECF6",
            "gridcolor": "white",
            "gridwidth": 2,
            "linecolor": "white",
            "showbackground": true,
            "ticks": "",
            "zerolinecolor": "white"
           },
           "yaxis": {
            "backgroundcolor": "#E5ECF6",
            "gridcolor": "white",
            "gridwidth": 2,
            "linecolor": "white",
            "showbackground": true,
            "ticks": "",
            "zerolinecolor": "white"
           },
           "zaxis": {
            "backgroundcolor": "#E5ECF6",
            "gridcolor": "white",
            "gridwidth": 2,
            "linecolor": "white",
            "showbackground": true,
            "ticks": "",
            "zerolinecolor": "white"
           }
          },
          "shapedefaults": {
           "line": {
            "color": "#2a3f5f"
           }
          },
          "ternary": {
           "aaxis": {
            "gridcolor": "white",
            "linecolor": "white",
            "ticks": ""
           },
           "baxis": {
            "gridcolor": "white",
            "linecolor": "white",
            "ticks": ""
           },
           "bgcolor": "#E5ECF6",
           "caxis": {
            "gridcolor": "white",
            "linecolor": "white",
            "ticks": ""
           }
          },
          "title": {
           "x": 0.05
          },
          "xaxis": {
           "automargin": true,
           "gridcolor": "white",
           "linecolor": "white",
           "ticks": "",
           "title": {
            "standoff": 15
           },
           "zerolinecolor": "white",
           "zerolinewidth": 2
          },
          "yaxis": {
           "automargin": true,
           "gridcolor": "white",
           "linecolor": "white",
           "ticks": "",
           "title": {
            "standoff": 15
           },
           "zerolinecolor": "white",
           "zerolinewidth": 2
          }
         }
        },
        "width": 450,
        "xaxis": {
         "mirror": "all",
         "range": [
          5,
          25
         ],
         "showline": true,
         "title": {
          "font": {
           "size": 13
          }
         },
         "zeroline": false
        },
        "yaxis": {
         "mirror": "all",
         "showline": true,
         "title": {
          "font": {
           "size": 13
          }
         },
         "zeroline": false
        }
       }
      },
      "text/html": [
       "<div>                            <div id=\"0c1119c2-37a6-4f97-ba9e-89e21e0d8595\" class=\"plotly-graph-div\" style=\"height:420px; width:450px;\"></div>            <script type=\"text/javascript\">                require([\"plotly\"], function(Plotly) {                    window.PLOTLYENV=window.PLOTLYENV || {};                                    if (document.getElementById(\"0c1119c2-37a6-4f97-ba9e-89e21e0d8595\")) {                    Plotly.newPlot(                        \"0c1119c2-37a6-4f97-ba9e-89e21e0d8595\",                        [{\"line\": {\"color\": \"black\", \"dash\": \"solid\", \"width\": 2}, \"mode\": \"lines\", \"name\": \"T = -91\\u00b0C\", \"type\": \"scatter\", \"uid\": \"5eda16d4-8572-43aa-a6b8-ca035c06bbf0\", \"x\": [5, 6, 7, 8, 9, 10, 11, 12, 13, 14, 15, 16, 17, 18, 19, 20, 21, 22, 23, 24, 25], \"y\": [18421.32096424743, 12207.233262742953, 9124.579896843612, 7353.053337220168, 6229.528352874341, 5465.233014848035, 4917.488156551448, 4508.8561423164865, 4194.152458805366, 3945.4545789373583, 3744.685426811818, 3579.6832573513716, 3441.9975955797627, 3325.5930604267846, 3226.0557510148174, 3140.0902323068476, 3065.1909994781918, 2999.4221888245174, 2941.2664026215607, 2889.5187980070914, 2843.211498869979]}, {\"line\": {\"color\": \"blue\", \"dash\": \"solid\", \"width\": 2}, \"mode\": \"lines\", \"name\": \"T = -60\\u00b0C\", \"type\": \"scatter\", \"uid\": \"a47f95c9-d475-44da-a257-1e868c14f7f4\", \"x\": [5, 6, 7, 8, 9, 10, 11, 12, 13, 14, 15, 16, 17, 18, 19, 20, 21, 22, 23, 24, 25], \"y\": [18744.104259863154, 12197.506858639237, 9004.352386419227, 7192.154102445235, 6054.077945165048, 5286.087854822929, 4739.403187931626, 4333.904033642122, 4023.148727402956, 3778.6043781349517, 3581.8967378170187, 3420.725703901225, 3286.585193416074, 3173.4275905202066, 3076.8490061409407, 2993.5746790951116, 2921.1240448417198, 2857.58695326082, 2801.470652338791, 2751.592982217933, 2707.0064315791697]}, {\"line\": {\"color\": \"green\", \"dash\": \"solid\", \"width\": 2}, \"mode\": \"lines\", \"name\": \"T = -40\\u00b0C\", \"type\": \"scatter\", \"uid\": \"456290e1-53ed-4765-b43c-e196c1802d81\", \"x\": [5, 6, 7, 8, 9, 10, 11, 12, 13, 14, 15, 16, 17, 18, 19, 20, 21, 22, 23, 24, 25], \"y\": [18579.146918237828, 12067.82047267916, 8896.038597068247, 7097.238103071371, 5967.881722434691, 5205.74503805728, 4663.091813243196, 4260.433977375938, 3951.726606218814, 3708.692358638181, 3513.124275312924, 3352.8328566818896, 3219.3856225528452, 3106.7842048926714, 3010.6578757157095, 2927.7544030361823, 2855.608730145201, 2792.321583028499, 2736.4080326226876, 2686.6917285952863, 2642.2296380949533]}],                        {\"annotations\": [{\"font\": {\"size\": 11}, \"showarrow\": false, \"text\": \"$\\\\LARGE{m}$\", \"x\": 0.5, \"xref\": \"paper\", \"y\": -0.2, \"yref\": \"paper\"}, {\"font\": {\"size\": 11}, \"showarrow\": false, \"text\": \"$\\\\LARGE{\\\\sigma_\\\\mathrm{w}\\\\;\\\\mathrm{(MPa)} }$\", \"textangle\": -90, \"x\": -0.2, \"xref\": \"paper\", \"y\": 0.5, \"yref\": \"paper\"}, {\"font\": {\"size\": 11}, \"showarrow\": false, \"text\": \"${\\\\mathrm{At}\\\\;J_0\\\\;\\\\mathrm{with}\\\\;\\\\theta(x)\\\\propto \\\\dot{\\\\varepsilon}}$\", \"x\": 0.41, \"xref\": \"paper\", \"y\": 1.1, \"yref\": \"paper\"}], \"height\": 420, \"legend\": {\"x\": 0.6, \"y\": 0.3}, \"margin\": {\"b\": 80, \"l\": 80, \"r\": 20, \"t\": 40}, \"showlegend\": true, \"template\": {\"data\": {\"bar\": [{\"error_x\": {\"color\": \"#2a3f5f\"}, \"error_y\": {\"color\": \"#2a3f5f\"}, \"marker\": {\"line\": {\"color\": \"#E5ECF6\", \"width\": 0.5}}, \"type\": \"bar\"}], \"barpolar\": [{\"marker\": {\"line\": {\"color\": \"#E5ECF6\", \"width\": 0.5}}, \"type\": \"barpolar\"}], \"carpet\": [{\"aaxis\": {\"endlinecolor\": \"#2a3f5f\", \"gridcolor\": \"white\", \"linecolor\": \"white\", \"minorgridcolor\": \"white\", \"startlinecolor\": \"#2a3f5f\"}, \"baxis\": {\"endlinecolor\": \"#2a3f5f\", \"gridcolor\": \"white\", \"linecolor\": \"white\", \"minorgridcolor\": \"white\", \"startlinecolor\": \"#2a3f5f\"}, \"type\": \"carpet\"}], \"choropleth\": [{\"colorbar\": {\"outlinewidth\": 0, \"ticks\": \"\"}, \"type\": \"choropleth\"}], \"contour\": [{\"colorbar\": {\"outlinewidth\": 0, \"ticks\": \"\"}, \"colorscale\": [[0.0, \"#0d0887\"], [0.1111111111111111, \"#46039f\"], [0.2222222222222222, \"#7201a8\"], [0.3333333333333333, \"#9c179e\"], [0.4444444444444444, \"#bd3786\"], [0.5555555555555556, \"#d8576b\"], [0.6666666666666666, \"#ed7953\"], [0.7777777777777778, \"#fb9f3a\"], [0.8888888888888888, \"#fdca26\"], [1.0, \"#f0f921\"]], \"type\": \"contour\"}], \"contourcarpet\": [{\"colorbar\": {\"outlinewidth\": 0, \"ticks\": \"\"}, \"type\": \"contourcarpet\"}], \"heatmap\": [{\"colorbar\": {\"outlinewidth\": 0, \"ticks\": \"\"}, \"colorscale\": [[0.0, \"#0d0887\"], [0.1111111111111111, \"#46039f\"], [0.2222222222222222, \"#7201a8\"], [0.3333333333333333, \"#9c179e\"], [0.4444444444444444, \"#bd3786\"], [0.5555555555555556, \"#d8576b\"], [0.6666666666666666, \"#ed7953\"], [0.7777777777777778, \"#fb9f3a\"], [0.8888888888888888, \"#fdca26\"], [1.0, \"#f0f921\"]], \"type\": \"heatmap\"}], \"heatmapgl\": [{\"colorbar\": {\"outlinewidth\": 0, \"ticks\": \"\"}, \"colorscale\": [[0.0, \"#0d0887\"], [0.1111111111111111, \"#46039f\"], [0.2222222222222222, \"#7201a8\"], [0.3333333333333333, \"#9c179e\"], [0.4444444444444444, \"#bd3786\"], [0.5555555555555556, \"#d8576b\"], [0.6666666666666666, \"#ed7953\"], [0.7777777777777778, \"#fb9f3a\"], [0.8888888888888888, \"#fdca26\"], [1.0, \"#f0f921\"]], \"type\": \"heatmapgl\"}], \"histogram\": [{\"marker\": {\"colorbar\": {\"outlinewidth\": 0, \"ticks\": \"\"}}, \"type\": \"histogram\"}], \"histogram2d\": [{\"colorbar\": {\"outlinewidth\": 0, \"ticks\": \"\"}, \"colorscale\": [[0.0, \"#0d0887\"], [0.1111111111111111, \"#46039f\"], [0.2222222222222222, \"#7201a8\"], [0.3333333333333333, \"#9c179e\"], [0.4444444444444444, \"#bd3786\"], [0.5555555555555556, \"#d8576b\"], [0.6666666666666666, \"#ed7953\"], [0.7777777777777778, \"#fb9f3a\"], [0.8888888888888888, \"#fdca26\"], [1.0, \"#f0f921\"]], \"type\": \"histogram2d\"}], \"histogram2dcontour\": [{\"colorbar\": {\"outlinewidth\": 0, \"ticks\": \"\"}, \"colorscale\": [[0.0, \"#0d0887\"], [0.1111111111111111, \"#46039f\"], [0.2222222222222222, \"#7201a8\"], [0.3333333333333333, \"#9c179e\"], [0.4444444444444444, \"#bd3786\"], [0.5555555555555556, \"#d8576b\"], [0.6666666666666666, \"#ed7953\"], [0.7777777777777778, \"#fb9f3a\"], [0.8888888888888888, \"#fdca26\"], [1.0, \"#f0f921\"]], \"type\": \"histogram2dcontour\"}], \"mesh3d\": [{\"colorbar\": {\"outlinewidth\": 0, \"ticks\": \"\"}, \"type\": \"mesh3d\"}], \"parcoords\": [{\"line\": {\"colorbar\": {\"outlinewidth\": 0, \"ticks\": \"\"}}, \"type\": \"parcoords\"}], \"pie\": [{\"automargin\": true, \"type\": \"pie\"}], \"scatter\": [{\"marker\": {\"colorbar\": {\"outlinewidth\": 0, \"ticks\": \"\"}}, \"type\": \"scatter\"}], \"scatter3d\": [{\"line\": {\"colorbar\": {\"outlinewidth\": 0, \"ticks\": \"\"}}, \"marker\": {\"colorbar\": {\"outlinewidth\": 0, \"ticks\": \"\"}}, \"type\": \"scatter3d\"}], \"scattercarpet\": [{\"marker\": {\"colorbar\": {\"outlinewidth\": 0, \"ticks\": \"\"}}, \"type\": \"scattercarpet\"}], \"scattergeo\": [{\"marker\": {\"colorbar\": {\"outlinewidth\": 0, \"ticks\": \"\"}}, \"type\": \"scattergeo\"}], \"scattergl\": [{\"marker\": {\"colorbar\": {\"outlinewidth\": 0, \"ticks\": \"\"}}, \"type\": \"scattergl\"}], \"scattermapbox\": [{\"marker\": {\"colorbar\": {\"outlinewidth\": 0, \"ticks\": \"\"}}, \"type\": \"scattermapbox\"}], \"scatterpolar\": [{\"marker\": {\"colorbar\": {\"outlinewidth\": 0, \"ticks\": \"\"}}, \"type\": \"scatterpolar\"}], \"scatterpolargl\": [{\"marker\": {\"colorbar\": {\"outlinewidth\": 0, \"ticks\": \"\"}}, \"type\": \"scatterpolargl\"}], \"scatterternary\": [{\"marker\": {\"colorbar\": {\"outlinewidth\": 0, \"ticks\": \"\"}}, \"type\": \"scatterternary\"}], \"surface\": [{\"colorbar\": {\"outlinewidth\": 0, \"ticks\": \"\"}, \"colorscale\": [[0.0, \"#0d0887\"], [0.1111111111111111, \"#46039f\"], [0.2222222222222222, \"#7201a8\"], [0.3333333333333333, \"#9c179e\"], [0.4444444444444444, \"#bd3786\"], [0.5555555555555556, \"#d8576b\"], [0.6666666666666666, \"#ed7953\"], [0.7777777777777778, \"#fb9f3a\"], [0.8888888888888888, \"#fdca26\"], [1.0, \"#f0f921\"]], \"type\": \"surface\"}], \"table\": [{\"cells\": {\"fill\": {\"color\": \"#EBF0F8\"}, \"line\": {\"color\": \"white\"}}, \"header\": {\"fill\": {\"color\": \"#C8D4E3\"}, \"line\": {\"color\": \"white\"}}, \"type\": \"table\"}]}, \"layout\": {\"annotationdefaults\": {\"arrowcolor\": \"#2a3f5f\", \"arrowhead\": 0, \"arrowwidth\": 1}, \"autotypenumbers\": \"strict\", \"coloraxis\": {\"colorbar\": {\"outlinewidth\": 0, \"ticks\": \"\"}}, \"colorscale\": {\"diverging\": [[0, \"#8e0152\"], [0.1, \"#c51b7d\"], [0.2, \"#de77ae\"], [0.3, \"#f1b6da\"], [0.4, \"#fde0ef\"], [0.5, \"#f7f7f7\"], [0.6, \"#e6f5d0\"], [0.7, \"#b8e186\"], [0.8, \"#7fbc41\"], [0.9, \"#4d9221\"], [1, \"#276419\"]], \"sequential\": [[0.0, \"#0d0887\"], [0.1111111111111111, \"#46039f\"], [0.2222222222222222, \"#7201a8\"], [0.3333333333333333, \"#9c179e\"], [0.4444444444444444, \"#bd3786\"], [0.5555555555555556, \"#d8576b\"], [0.6666666666666666, \"#ed7953\"], [0.7777777777777778, \"#fb9f3a\"], [0.8888888888888888, \"#fdca26\"], [1.0, \"#f0f921\"]], \"sequentialminus\": [[0.0, \"#0d0887\"], [0.1111111111111111, \"#46039f\"], [0.2222222222222222, \"#7201a8\"], [0.3333333333333333, \"#9c179e\"], [0.4444444444444444, \"#bd3786\"], [0.5555555555555556, \"#d8576b\"], [0.6666666666666666, \"#ed7953\"], [0.7777777777777778, \"#fb9f3a\"], [0.8888888888888888, \"#fdca26\"], [1.0, \"#f0f921\"]]}, \"colorway\": [\"#636efa\", \"#EF553B\", \"#00cc96\", \"#ab63fa\", \"#FFA15A\", \"#19d3f3\", \"#FF6692\", \"#B6E880\", \"#FF97FF\", \"#FECB52\"], \"font\": {\"color\": \"#2a3f5f\"}, \"geo\": {\"bgcolor\": \"white\", \"lakecolor\": \"white\", \"landcolor\": \"#E5ECF6\", \"showlakes\": true, \"showland\": true, \"subunitcolor\": \"white\"}, \"hoverlabel\": {\"align\": \"left\"}, \"hovermode\": \"closest\", \"mapbox\": {\"style\": \"light\"}, \"paper_bgcolor\": \"white\", \"plot_bgcolor\": \"#E5ECF6\", \"polar\": {\"angularaxis\": {\"gridcolor\": \"white\", \"linecolor\": \"white\", \"ticks\": \"\"}, \"bgcolor\": \"#E5ECF6\", \"radialaxis\": {\"gridcolor\": \"white\", \"linecolor\": \"white\", \"ticks\": \"\"}}, \"scene\": {\"xaxis\": {\"backgroundcolor\": \"#E5ECF6\", \"gridcolor\": \"white\", \"gridwidth\": 2, \"linecolor\": \"white\", \"showbackground\": true, \"ticks\": \"\", \"zerolinecolor\": \"white\"}, \"yaxis\": {\"backgroundcolor\": \"#E5ECF6\", \"gridcolor\": \"white\", \"gridwidth\": 2, \"linecolor\": \"white\", \"showbackground\": true, \"ticks\": \"\", \"zerolinecolor\": \"white\"}, \"zaxis\": {\"backgroundcolor\": \"#E5ECF6\", \"gridcolor\": \"white\", \"gridwidth\": 2, \"linecolor\": \"white\", \"showbackground\": true, \"ticks\": \"\", \"zerolinecolor\": \"white\"}}, \"shapedefaults\": {\"line\": {\"color\": \"#2a3f5f\"}}, \"ternary\": {\"aaxis\": {\"gridcolor\": \"white\", \"linecolor\": \"white\", \"ticks\": \"\"}, \"baxis\": {\"gridcolor\": \"white\", \"linecolor\": \"white\", \"ticks\": \"\"}, \"bgcolor\": \"#E5ECF6\", \"caxis\": {\"gridcolor\": \"white\", \"linecolor\": \"white\", \"ticks\": \"\"}}, \"title\": {\"x\": 0.05}, \"xaxis\": {\"automargin\": true, \"gridcolor\": \"white\", \"linecolor\": \"white\", \"ticks\": \"\", \"title\": {\"standoff\": 15}, \"zerolinecolor\": \"white\", \"zerolinewidth\": 2}, \"yaxis\": {\"automargin\": true, \"gridcolor\": \"white\", \"linecolor\": \"white\", \"ticks\": \"\", \"title\": {\"standoff\": 15}, \"zerolinecolor\": \"white\", \"zerolinewidth\": 2}}}, \"width\": 450, \"xaxis\": {\"mirror\": \"all\", \"range\": [5, 25], \"showline\": true, \"title\": {\"font\": {\"size\": 13}}, \"zeroline\": false}, \"yaxis\": {\"mirror\": \"all\", \"showline\": true, \"title\": {\"font\": {\"size\": 13}}, \"zeroline\": false}},                        {\"responsive\": true}                    ).then(function(){\n",
       "                            \n",
       "var gd = document.getElementById('0c1119c2-37a6-4f97-ba9e-89e21e0d8595');\n",
       "var x = new MutationObserver(function (mutations, observer) {{\n",
       "        var display = window.getComputedStyle(gd).display;\n",
       "        if (!display || display === 'none') {{\n",
       "            console.log([gd, 'removed!']);\n",
       "            Plotly.purge(gd);\n",
       "            observer.disconnect();\n",
       "        }}\n",
       "}});\n",
       "\n",
       "// Listen for the removal of the full notebook cells\n",
       "var notebookContainer = gd.closest('#notebook-container');\n",
       "if (notebookContainer) {{\n",
       "    x.observe(notebookContainer, {childList: true});\n",
       "}}\n",
       "\n",
       "// Listen for the clearing of the current output cell\n",
       "var outputEl = gd.closest('.output');\n",
       "if (outputEl) {{\n",
       "    x.observe(outputEl, {childList: true});\n",
       "}}\n",
       "\n",
       "                        })                };                });            </script>        </div>"
      ]
     },
     "metadata": {},
     "output_type": "display_data"
    }
   ],
   "source": [
    "# plot\n",
    "\n",
    "# lambda_vals = [1000, 1.4, 0.4, 0.1]\n",
    "my_cols = ['black', 'blue', 'green', 'red']\n",
    "\n",
    "data = []\n",
    "lines = ['solid','dash', 'dot', '5, 10, 2, 2']\n",
    "\n",
    "title = r'${\\mathrm{At}\\;J_0\\;\\mathrm{with}\\;\\theta(x)\\propto \\dot{\\varepsilon}}$'\n",
    "ylab = r'$\\LARGE{\\sigma_\\mathrm{w}\\;\\mathrm{(MPa)} }$'\n",
    "\n",
    "for ri, sw_r in enumerate(glob_sw_all_corr):\n",
    "#     if ri != 0:\n",
    "        x_plot = []\n",
    "        y_plot = []\n",
    "        for mi, sw in enumerate(sw_r):\n",
    "            x_plot.append(m_vals[mi])\n",
    "            y_plot.append(sw[gdata_all[ri]['j0_idx'] - np.array(skipped_lines_all[ri])] )\n",
    "        y_plot_upper = list(1.12 * np.array(y_plot))\n",
    "        y_plot_lower = list(0.88 * np.array(y_plot))\n",
    "        y_plot_lower = y_plot_lower[::-1]\n",
    "        data.append({\n",
    "                'x': x_plot,\n",
    "                'y': y_plot,\n",
    "                'name': r'T = ' + str(temps[ri]) + r'°C',\n",
    "                'line': {'dash': lines[0], 'color': my_cols[ri], 'width': 2},\n",
    "                 'mode': 'lines',\n",
    "            })     \n",
    "\n",
    "layout = {\n",
    "    'width': 450,\n",
    "    'height': 420,\n",
    "    'xaxis': {\n",
    "#         'range': [-0.1, 1.1],\n",
    "        'zeroline': False,\n",
    "        'showline': True,\n",
    "        'mirror': 'all',\n",
    "#         'title': r'$m$',\n",
    "        'titlefont':{'size': 13}\n",
    "    },\n",
    "    'yaxis': {\n",
    "        'zeroline': False,\n",
    "        'showline': True,\n",
    "        'mirror': 'all',\n",
    "#         'title': '$\\sigma_\\mathrm{w}/\\sigma_\\mathrm{f} $ ',\n",
    "        'titlefont':{'size': 13},\n",
    "\n",
    "    },\n",
    "    'annotations':[\n",
    "    {\n",
    "        'text':  r'$\\LARGE{m}$',\n",
    "        'x': 0.5,\n",
    "        'y': -0.2,\n",
    "        'xref': 'paper',\n",
    "        'yref': 'paper',\n",
    "        'showarrow': False,\n",
    "        'font': {'size': 11},\n",
    "    },\n",
    "        {\n",
    "        'text':  ylab,\n",
    "        'x': -0.2,\n",
    "        'y': 0.5,\n",
    "        'xref': 'paper',\n",
    "        'yref': 'paper',\n",
    "        'showarrow': False,\n",
    "        'font': {'size': 11},\n",
    "        'textangle': -90\n",
    "    },\n",
    "        {\n",
    "        'text':  title,\n",
    "        'x': 0.41,\n",
    "        'y': 1.1,\n",
    "        'xref': 'paper',\n",
    "        'yref': 'paper',\n",
    "        'showarrow': False,\n",
    "        'font': {'size': 11},\n",
    "    },\n",
    "    ],\n",
    "    'legend':{\n",
    "        'x': 0.6,\n",
    "        'y': 0.3,\n",
    "    },\n",
    "     'margin': {\n",
    "                'l': 80,\n",
    "                'r': 20,\n",
    "                'b': 80,\n",
    "                't': 40,\n",
    "#                 'pad': 1\n",
    "     },\n",
    "\n",
    "}\n",
    "layout['xaxis']['range'] = [5, 25]\n",
    "layout['showlegend'] = True\n",
    "f = go.FigureWidget(data,layout)\n",
    "py.iplot(f)\n",
    "# pio.write_image(f, 'images/fig9.svg',width=450, height=400,)"
   ]
  },
  {
   "cell_type": "markdown",
   "metadata": {},
   "source": [
    "### Delta Weibull stress vs Shape parameter `m`\n",
    "\n",
    "$\\Large{\\Delta \\sigma_W = \\frac{\\sigma_{-91°C} - \\sigma_{T_i}}{\\sigma_{-91°C}} 100}$\n",
    "\n"
   ]
  },
  {
   "cell_type": "code",
   "execution_count": 142,
   "metadata": {
    "code_folding": [
     0,
     27
    ]
   },
   "outputs": [
    {
     "data": {
      "application/vnd.plotly.v1+json": {
       "config": {
        "linkText": "Export to plot.ly",
        "plotlyServerURL": "https://plot.ly",
        "showLink": false
       },
       "data": [
        {
         "line": {
          "color": "black",
          "dash": "solid",
          "width": 2
         },
         "mode": "lines",
         "name": "T = -91°C",
         "type": "scatter",
         "uid": "f0640e4b-990e-4641-a46d-d8a5d786a223",
         "x": [
          5,
          6,
          7,
          8,
          9,
          10,
          11,
          12,
          13,
          14,
          15,
          16,
          17,
          18,
          19,
          20,
          21,
          22,
          23,
          24,
          25
         ],
         "y": [
          0,
          0,
          0,
          0,
          0,
          0,
          0,
          0,
          0,
          0,
          0,
          0,
          0,
          0,
          0,
          0,
          0,
          0,
          0,
          0,
          0
         ]
        },
        {
         "line": {
          "color": "black",
          "dash": "solid",
          "width": 2
         },
         "mode": "lines",
         "name": "T = -91°C",
         "type": "scatter",
         "uid": "67edb628-d3f2-44b4-9b8e-169030f04751",
         "x": [
          5,
          6,
          7,
          8,
          9,
          10,
          11,
          12,
          13,
          14,
          15,
          16,
          17,
          18,
          19,
          20,
          21,
          22,
          23,
          24,
          25
         ],
         "y": [
          0,
          0,
          0,
          0,
          0,
          0,
          0,
          0,
          0,
          0,
          0,
          0,
          0,
          0,
          0,
          0,
          0,
          0,
          0,
          0,
          0
         ]
        },
        {
         "line": {
          "color": "black",
          "dash": "solid",
          "width": 2
         },
         "mode": "lines",
         "name": "T = -91°C",
         "type": "scatter",
         "uid": "23e3ef83-14bc-415d-81f0-c2924b4ef6a2",
         "x": [
          5,
          6,
          7,
          8,
          9,
          10,
          11,
          12,
          13,
          14,
          15,
          16,
          17,
          18,
          19,
          20,
          21,
          22,
          23,
          24,
          25
         ],
         "y": [
          0,
          0,
          0,
          0,
          0,
          0,
          0,
          0,
          0,
          0,
          0,
          0,
          0,
          0,
          0,
          0,
          0,
          0,
          0,
          0,
          0
         ]
        },
        {
         "line": {
          "color": "black",
          "dash": "solid",
          "width": 2
         },
         "mode": "lines",
         "name": "T = -91°C",
         "type": "scatter",
         "uid": "2acdce9d-2d17-4575-b29f-9420199980c9",
         "x": [
          5,
          6,
          7,
          8,
          9,
          10,
          11,
          12,
          13,
          14,
          15,
          16,
          17,
          18,
          19,
          20,
          21,
          22,
          23,
          24,
          25
         ],
         "y": [
          0,
          0,
          0,
          0,
          0,
          0,
          0,
          0,
          0,
          0,
          0,
          0,
          0,
          0,
          0,
          0,
          0,
          0,
          0,
          0,
          0
         ]
        },
        {
         "line": {
          "color": "black",
          "dash": "solid",
          "width": 2
         },
         "mode": "lines",
         "name": "T = -91°C",
         "type": "scatter",
         "uid": "5fedddd9-f155-4752-b0f0-d98c80653b4c",
         "x": [
          5,
          6,
          7,
          8,
          9,
          10,
          11,
          12,
          13,
          14,
          15,
          16,
          17,
          18,
          19,
          20,
          21,
          22,
          23,
          24,
          25
         ],
         "y": [
          0,
          0,
          0,
          0,
          0,
          0,
          0,
          0,
          0,
          0,
          0,
          0,
          0,
          0,
          0,
          0,
          0,
          0,
          0,
          0,
          0
         ]
        },
        {
         "line": {
          "color": "black",
          "dash": "solid",
          "width": 2
         },
         "mode": "lines",
         "name": "T = -91°C",
         "type": "scatter",
         "uid": "d9f3a61d-6ed5-483e-b382-234f6000aaee",
         "x": [
          5,
          6,
          7,
          8,
          9,
          10,
          11,
          12,
          13,
          14,
          15,
          16,
          17,
          18,
          19,
          20,
          21,
          22,
          23,
          24,
          25
         ],
         "y": [
          0,
          0,
          0,
          0,
          0,
          0,
          0,
          0,
          0,
          0,
          0,
          0,
          0,
          0,
          0,
          0,
          0,
          0,
          0,
          0,
          0
         ]
        },
        {
         "line": {
          "color": "black",
          "dash": "solid",
          "width": 2
         },
         "mode": "lines",
         "name": "T = -91°C",
         "type": "scatter",
         "uid": "274c927e-b077-4f4c-9d06-9d6312b1a9ef",
         "x": [
          5,
          6,
          7,
          8,
          9,
          10,
          11,
          12,
          13,
          14,
          15,
          16,
          17,
          18,
          19,
          20,
          21,
          22,
          23,
          24,
          25
         ],
         "y": [
          0,
          0,
          0,
          0,
          0,
          0,
          0,
          0,
          0,
          0,
          0,
          0,
          0,
          0,
          0,
          0,
          0,
          0,
          0,
          0,
          0
         ]
        },
        {
         "line": {
          "color": "black",
          "dash": "solid",
          "width": 2
         },
         "mode": "lines",
         "name": "T = -91°C",
         "type": "scatter",
         "uid": "f76a7f26-3a81-47f5-b496-aa1a863d61e6",
         "x": [
          5,
          6,
          7,
          8,
          9,
          10,
          11,
          12,
          13,
          14,
          15,
          16,
          17,
          18,
          19,
          20,
          21,
          22,
          23,
          24,
          25
         ],
         "y": [
          0,
          0,
          0,
          0,
          0,
          0,
          0,
          0,
          0,
          0,
          0,
          0,
          0,
          0,
          0,
          0,
          0,
          0,
          0,
          0,
          0
         ]
        },
        {
         "line": {
          "color": "black",
          "dash": "solid",
          "width": 2
         },
         "mode": "lines",
         "name": "T = -91°C",
         "type": "scatter",
         "uid": "dfdd7fb2-23cf-454c-b1e6-8690d31e65f6",
         "x": [
          5,
          6,
          7,
          8,
          9,
          10,
          11,
          12,
          13,
          14,
          15,
          16,
          17,
          18,
          19,
          20,
          21,
          22,
          23,
          24,
          25
         ],
         "y": [
          0,
          0,
          0,
          0,
          0,
          0,
          0,
          0,
          0,
          0,
          0,
          0,
          0,
          0,
          0,
          0,
          0,
          0,
          0,
          0,
          0
         ]
        },
        {
         "line": {
          "color": "black",
          "dash": "solid",
          "width": 2
         },
         "mode": "lines",
         "name": "T = -91°C",
         "type": "scatter",
         "uid": "65a868f9-22c2-4ada-b9fa-081c27fac4f5",
         "x": [
          5,
          6,
          7,
          8,
          9,
          10,
          11,
          12,
          13,
          14,
          15,
          16,
          17,
          18,
          19,
          20,
          21,
          22,
          23,
          24,
          25
         ],
         "y": [
          0,
          0,
          0,
          0,
          0,
          0,
          0,
          0,
          0,
          0,
          0,
          0,
          0,
          0,
          0,
          0,
          0,
          0,
          0,
          0,
          0
         ]
        },
        {
         "line": {
          "color": "black",
          "dash": "solid",
          "width": 2
         },
         "mode": "lines",
         "name": "T = -91°C",
         "type": "scatter",
         "uid": "609c9b49-f4b4-471b-9a32-51183ad997d8",
         "x": [
          5,
          6,
          7,
          8,
          9,
          10,
          11,
          12,
          13,
          14,
          15,
          16,
          17,
          18,
          19,
          20,
          21,
          22,
          23,
          24,
          25
         ],
         "y": [
          0,
          0,
          0,
          0,
          0,
          0,
          0,
          0,
          0,
          0,
          0,
          0,
          0,
          0,
          0,
          0,
          0,
          0,
          0,
          0,
          0
         ]
        },
        {
         "line": {
          "color": "black",
          "dash": "solid",
          "width": 2
         },
         "mode": "lines",
         "name": "T = -91°C",
         "type": "scatter",
         "uid": "3b0fd790-e563-44b6-8d43-90c39fbc35dc",
         "x": [
          5,
          6,
          7,
          8,
          9,
          10,
          11,
          12,
          13,
          14,
          15,
          16,
          17,
          18,
          19,
          20,
          21,
          22,
          23,
          24,
          25
         ],
         "y": [
          0,
          0,
          0,
          0,
          0,
          0,
          0,
          0,
          0,
          0,
          0,
          0,
          0,
          0,
          0,
          0,
          0,
          0,
          0,
          0,
          0
         ]
        },
        {
         "line": {
          "color": "black",
          "dash": "solid",
          "width": 2
         },
         "mode": "lines",
         "name": "T = -91°C",
         "type": "scatter",
         "uid": "d729ff98-d268-4aed-b340-5643836fdbfa",
         "x": [
          5,
          6,
          7,
          8,
          9,
          10,
          11,
          12,
          13,
          14,
          15,
          16,
          17,
          18,
          19,
          20,
          21,
          22,
          23,
          24,
          25
         ],
         "y": [
          0,
          0,
          0,
          0,
          0,
          0,
          0,
          0,
          0,
          0,
          0,
          0,
          0,
          0,
          0,
          0,
          0,
          0,
          0,
          0,
          0
         ]
        },
        {
         "line": {
          "color": "black",
          "dash": "solid",
          "width": 2
         },
         "mode": "lines",
         "name": "T = -91°C",
         "type": "scatter",
         "uid": "19745920-b6dd-42cd-91cd-bf767fd9ed61",
         "x": [
          5,
          6,
          7,
          8,
          9,
          10,
          11,
          12,
          13,
          14,
          15,
          16,
          17,
          18,
          19,
          20,
          21,
          22,
          23,
          24,
          25
         ],
         "y": [
          0,
          0,
          0,
          0,
          0,
          0,
          0,
          0,
          0,
          0,
          0,
          0,
          0,
          0,
          0,
          0,
          0,
          0,
          0,
          0,
          0
         ]
        },
        {
         "line": {
          "color": "black",
          "dash": "solid",
          "width": 2
         },
         "mode": "lines",
         "name": "T = -91°C",
         "type": "scatter",
         "uid": "9d0f2330-beb8-4402-b4b0-800ece5d658e",
         "x": [
          5,
          6,
          7,
          8,
          9,
          10,
          11,
          12,
          13,
          14,
          15,
          16,
          17,
          18,
          19,
          20,
          21,
          22,
          23,
          24,
          25
         ],
         "y": [
          0,
          0,
          0,
          0,
          0,
          0,
          0,
          0,
          0,
          0,
          0,
          0,
          0,
          0,
          0,
          0,
          0,
          0,
          0,
          0,
          0
         ]
        },
        {
         "line": {
          "color": "black",
          "dash": "solid",
          "width": 2
         },
         "mode": "lines",
         "name": "T = -91°C",
         "type": "scatter",
         "uid": "8d3893a8-51a7-47af-87a3-03dcc5989683",
         "x": [
          5,
          6,
          7,
          8,
          9,
          10,
          11,
          12,
          13,
          14,
          15,
          16,
          17,
          18,
          19,
          20,
          21,
          22,
          23,
          24,
          25
         ],
         "y": [
          0,
          0,
          0,
          0,
          0,
          0,
          0,
          0,
          0,
          0,
          0,
          0,
          0,
          0,
          0,
          0,
          0,
          0,
          0,
          0,
          0
         ]
        },
        {
         "line": {
          "color": "black",
          "dash": "solid",
          "width": 2
         },
         "mode": "lines",
         "name": "T = -91°C",
         "type": "scatter",
         "uid": "3e525a76-595e-4826-ba31-e391aa188b41",
         "x": [
          5,
          6,
          7,
          8,
          9,
          10,
          11,
          12,
          13,
          14,
          15,
          16,
          17,
          18,
          19,
          20,
          21,
          22,
          23,
          24,
          25
         ],
         "y": [
          0,
          0,
          0,
          0,
          0,
          0,
          0,
          0,
          0,
          0,
          0,
          0,
          0,
          0,
          0,
          0,
          0,
          0,
          0,
          0,
          0
         ]
        },
        {
         "line": {
          "color": "black",
          "dash": "solid",
          "width": 2
         },
         "mode": "lines",
         "name": "T = -91°C",
         "type": "scatter",
         "uid": "93ff6023-3b8c-4350-b977-b77b8ab815e3",
         "x": [
          5,
          6,
          7,
          8,
          9,
          10,
          11,
          12,
          13,
          14,
          15,
          16,
          17,
          18,
          19,
          20,
          21,
          22,
          23,
          24,
          25
         ],
         "y": [
          0,
          0,
          0,
          0,
          0,
          0,
          0,
          0,
          0,
          0,
          0,
          0,
          0,
          0,
          0,
          0,
          0,
          0,
          0,
          0,
          0
         ]
        },
        {
         "line": {
          "color": "black",
          "dash": "solid",
          "width": 2
         },
         "mode": "lines",
         "name": "T = -91°C",
         "type": "scatter",
         "uid": "1f1fef20-45ee-4b31-8c8f-6c687ee4d22c",
         "x": [
          5,
          6,
          7,
          8,
          9,
          10,
          11,
          12,
          13,
          14,
          15,
          16,
          17,
          18,
          19,
          20,
          21,
          22,
          23,
          24,
          25
         ],
         "y": [
          0,
          0,
          0,
          0,
          0,
          0,
          0,
          0,
          0,
          0,
          0,
          0,
          0,
          0,
          0,
          0,
          0,
          0,
          0,
          0,
          0
         ]
        },
        {
         "line": {
          "color": "black",
          "dash": "solid",
          "width": 2
         },
         "mode": "lines",
         "name": "T = -91°C",
         "type": "scatter",
         "uid": "4dc861d6-2102-472a-be76-6fb187e34958",
         "x": [
          5,
          6,
          7,
          8,
          9,
          10,
          11,
          12,
          13,
          14,
          15,
          16,
          17,
          18,
          19,
          20,
          21,
          22,
          23,
          24,
          25
         ],
         "y": [
          0,
          0,
          0,
          0,
          0,
          0,
          0,
          0,
          0,
          0,
          0,
          0,
          0,
          0,
          0,
          0,
          0,
          0,
          0,
          0,
          0
         ]
        },
        {
         "line": {
          "color": "black",
          "dash": "solid",
          "width": 2
         },
         "mode": "lines",
         "name": "T = -91°C",
         "type": "scatter",
         "uid": "9fcf1694-826b-402c-ba90-75cd4b9aebfa",
         "x": [
          5,
          6,
          7,
          8,
          9,
          10,
          11,
          12,
          13,
          14,
          15,
          16,
          17,
          18,
          19,
          20,
          21,
          22,
          23,
          24,
          25
         ],
         "y": [
          0,
          0,
          0,
          0,
          0,
          0,
          0,
          0,
          0,
          0,
          0,
          0,
          0,
          0,
          0,
          0,
          0,
          0,
          0,
          0,
          0
         ]
        },
        {
         "line": {
          "color": "blue",
          "dash": "solid",
          "width": 2
         },
         "mode": "lines",
         "name": "T = -60°C",
         "type": "scatter",
         "uid": "28a6dd27-90e0-47d9-ba93-ffd053eb92cc",
         "x": [
          5,
          6,
          7,
          8,
          9,
          10,
          11,
          12,
          13,
          14,
          15,
          16,
          17,
          18,
          19,
          20,
          21,
          22,
          23,
          24,
          25
         ],
         "y": [
          1.7220523911985641,
          -0.07974091932423914,
          -1.3352155187275656,
          -2.2371494337173488,
          -2.898053333611485,
          -3.3889932393321267,
          -3.7575399593201024,
          -4.036824703922626,
          -4.250494898129145,
          -4.415656790318987,
          -4.544762200319901,
          -4.646895635883945,
          -4.72868929352636,
          -4.794987929175789,
          -4.849335946485572,
          -4.894334329953121,
          -4.931901296381895,
          -4.963461755795323,
          -4.990084410345767,
          -5.012580591697212,
          -5.0315753114540005
         ]
        },
        {
         "line": {
          "color": "blue",
          "dash": "solid",
          "width": 2
         },
         "mode": "lines",
         "name": "T = -60°C",
         "type": "scatter",
         "uid": "e4bc166f-5f85-4804-af28-80ccbdd2753b",
         "x": [
          5,
          6,
          7,
          8,
          9,
          10,
          11,
          12,
          13,
          14,
          15,
          16,
          17,
          18,
          19,
          20,
          21,
          22,
          23,
          24,
          25
         ],
         "y": [
          1.7220523911985641,
          -0.07974091932423914,
          -1.3352155187275656,
          -2.2371494337173488,
          -2.898053333611485,
          -3.3889932393321267,
          -3.7575399593201024,
          -4.036824703922626,
          -4.250494898129145,
          -4.415656790318987,
          -4.544762200319901,
          -4.646895635883945,
          -4.72868929352636,
          -4.794987929175789,
          -4.849335946485572,
          -4.894334329953121,
          -4.931901296381895,
          -4.963461755795323,
          -4.990084410345767,
          -5.012580591697212,
          -5.0315753114540005
         ]
        },
        {
         "line": {
          "color": "blue",
          "dash": "solid",
          "width": 2
         },
         "mode": "lines",
         "name": "T = -60°C",
         "type": "scatter",
         "uid": "ae59089f-0f1d-4ead-b588-3cc3d228cf60",
         "x": [
          5,
          6,
          7,
          8,
          9,
          10,
          11,
          12,
          13,
          14,
          15,
          16,
          17,
          18,
          19,
          20,
          21,
          22,
          23,
          24,
          25
         ],
         "y": [
          1.7220523911985641,
          -0.07974091932423914,
          -1.3352155187275656,
          -2.2371494337173488,
          -2.898053333611485,
          -3.3889932393321267,
          -3.7575399593201024,
          -4.036824703922626,
          -4.250494898129145,
          -4.415656790318987,
          -4.544762200319901,
          -4.646895635883945,
          -4.72868929352636,
          -4.794987929175789,
          -4.849335946485572,
          -4.894334329953121,
          -4.931901296381895,
          -4.963461755795323,
          -4.990084410345767,
          -5.012580591697212,
          -5.0315753114540005
         ]
        },
        {
         "line": {
          "color": "blue",
          "dash": "solid",
          "width": 2
         },
         "mode": "lines",
         "name": "T = -60°C",
         "type": "scatter",
         "uid": "b217ecef-14ac-4aa5-949e-fcf9912e8082",
         "x": [
          5,
          6,
          7,
          8,
          9,
          10,
          11,
          12,
          13,
          14,
          15,
          16,
          17,
          18,
          19,
          20,
          21,
          22,
          23,
          24,
          25
         ],
         "y": [
          1.7220523911985641,
          -0.07974091932423914,
          -1.3352155187275656,
          -2.2371494337173488,
          -2.898053333611485,
          -3.3889932393321267,
          -3.7575399593201024,
          -4.036824703922626,
          -4.250494898129145,
          -4.415656790318987,
          -4.544762200319901,
          -4.646895635883945,
          -4.72868929352636,
          -4.794987929175789,
          -4.849335946485572,
          -4.894334329953121,
          -4.931901296381895,
          -4.963461755795323,
          -4.990084410345767,
          -5.012580591697212,
          -5.0315753114540005
         ]
        },
        {
         "line": {
          "color": "blue",
          "dash": "solid",
          "width": 2
         },
         "mode": "lines",
         "name": "T = -60°C",
         "type": "scatter",
         "uid": "db3f40cb-f00b-424c-a6d2-181afe240280",
         "x": [
          5,
          6,
          7,
          8,
          9,
          10,
          11,
          12,
          13,
          14,
          15,
          16,
          17,
          18,
          19,
          20,
          21,
          22,
          23,
          24,
          25
         ],
         "y": [
          1.7220523911985641,
          -0.07974091932423914,
          -1.3352155187275656,
          -2.2371494337173488,
          -2.898053333611485,
          -3.3889932393321267,
          -3.7575399593201024,
          -4.036824703922626,
          -4.250494898129145,
          -4.415656790318987,
          -4.544762200319901,
          -4.646895635883945,
          -4.72868929352636,
          -4.794987929175789,
          -4.849335946485572,
          -4.894334329953121,
          -4.931901296381895,
          -4.963461755795323,
          -4.990084410345767,
          -5.012580591697212,
          -5.0315753114540005
         ]
        },
        {
         "line": {
          "color": "blue",
          "dash": "solid",
          "width": 2
         },
         "mode": "lines",
         "name": "T = -60°C",
         "type": "scatter",
         "uid": "eaec988f-6e09-4f75-a8c2-d4fd8ae373c8",
         "x": [
          5,
          6,
          7,
          8,
          9,
          10,
          11,
          12,
          13,
          14,
          15,
          16,
          17,
          18,
          19,
          20,
          21,
          22,
          23,
          24,
          25
         ],
         "y": [
          1.7220523911985641,
          -0.07974091932423914,
          -1.3352155187275656,
          -2.2371494337173488,
          -2.898053333611485,
          -3.3889932393321267,
          -3.7575399593201024,
          -4.036824703922626,
          -4.250494898129145,
          -4.415656790318987,
          -4.544762200319901,
          -4.646895635883945,
          -4.72868929352636,
          -4.794987929175789,
          -4.849335946485572,
          -4.894334329953121,
          -4.931901296381895,
          -4.963461755795323,
          -4.990084410345767,
          -5.012580591697212,
          -5.0315753114540005
         ]
        },
        {
         "line": {
          "color": "blue",
          "dash": "solid",
          "width": 2
         },
         "mode": "lines",
         "name": "T = -60°C",
         "type": "scatter",
         "uid": "6e3034e6-d157-4668-bc8c-84a6414a5a7a",
         "x": [
          5,
          6,
          7,
          8,
          9,
          10,
          11,
          12,
          13,
          14,
          15,
          16,
          17,
          18,
          19,
          20,
          21,
          22,
          23,
          24,
          25
         ],
         "y": [
          1.7220523911985641,
          -0.07974091932423914,
          -1.3352155187275656,
          -2.2371494337173488,
          -2.898053333611485,
          -3.3889932393321267,
          -3.7575399593201024,
          -4.036824703922626,
          -4.250494898129145,
          -4.415656790318987,
          -4.544762200319901,
          -4.646895635883945,
          -4.72868929352636,
          -4.794987929175789,
          -4.849335946485572,
          -4.894334329953121,
          -4.931901296381895,
          -4.963461755795323,
          -4.990084410345767,
          -5.012580591697212,
          -5.0315753114540005
         ]
        },
        {
         "line": {
          "color": "blue",
          "dash": "solid",
          "width": 2
         },
         "mode": "lines",
         "name": "T = -60°C",
         "type": "scatter",
         "uid": "0707b4bd-874a-46b9-8ccf-bdc14ff8bf78",
         "x": [
          5,
          6,
          7,
          8,
          9,
          10,
          11,
          12,
          13,
          14,
          15,
          16,
          17,
          18,
          19,
          20,
          21,
          22,
          23,
          24,
          25
         ],
         "y": [
          1.7220523911985641,
          -0.07974091932423914,
          -1.3352155187275656,
          -2.2371494337173488,
          -2.898053333611485,
          -3.3889932393321267,
          -3.7575399593201024,
          -4.036824703922626,
          -4.250494898129145,
          -4.415656790318987,
          -4.544762200319901,
          -4.646895635883945,
          -4.72868929352636,
          -4.794987929175789,
          -4.849335946485572,
          -4.894334329953121,
          -4.931901296381895,
          -4.963461755795323,
          -4.990084410345767,
          -5.012580591697212,
          -5.0315753114540005
         ]
        },
        {
         "line": {
          "color": "blue",
          "dash": "solid",
          "width": 2
         },
         "mode": "lines",
         "name": "T = -60°C",
         "type": "scatter",
         "uid": "9a58c333-bdc9-4583-8eda-d1cb4936bbc6",
         "x": [
          5,
          6,
          7,
          8,
          9,
          10,
          11,
          12,
          13,
          14,
          15,
          16,
          17,
          18,
          19,
          20,
          21,
          22,
          23,
          24,
          25
         ],
         "y": [
          1.7220523911985641,
          -0.07974091932423914,
          -1.3352155187275656,
          -2.2371494337173488,
          -2.898053333611485,
          -3.3889932393321267,
          -3.7575399593201024,
          -4.036824703922626,
          -4.250494898129145,
          -4.415656790318987,
          -4.544762200319901,
          -4.646895635883945,
          -4.72868929352636,
          -4.794987929175789,
          -4.849335946485572,
          -4.894334329953121,
          -4.931901296381895,
          -4.963461755795323,
          -4.990084410345767,
          -5.012580591697212,
          -5.0315753114540005
         ]
        },
        {
         "line": {
          "color": "blue",
          "dash": "solid",
          "width": 2
         },
         "mode": "lines",
         "name": "T = -60°C",
         "type": "scatter",
         "uid": "33c06232-5e7c-460d-aa9e-6a9950cfc9b4",
         "x": [
          5,
          6,
          7,
          8,
          9,
          10,
          11,
          12,
          13,
          14,
          15,
          16,
          17,
          18,
          19,
          20,
          21,
          22,
          23,
          24,
          25
         ],
         "y": [
          1.7220523911985641,
          -0.07974091932423914,
          -1.3352155187275656,
          -2.2371494337173488,
          -2.898053333611485,
          -3.3889932393321267,
          -3.7575399593201024,
          -4.036824703922626,
          -4.250494898129145,
          -4.415656790318987,
          -4.544762200319901,
          -4.646895635883945,
          -4.72868929352636,
          -4.794987929175789,
          -4.849335946485572,
          -4.894334329953121,
          -4.931901296381895,
          -4.963461755795323,
          -4.990084410345767,
          -5.012580591697212,
          -5.0315753114540005
         ]
        },
        {
         "line": {
          "color": "blue",
          "dash": "solid",
          "width": 2
         },
         "mode": "lines",
         "name": "T = -60°C",
         "type": "scatter",
         "uid": "ebfe3568-b617-4ece-a49c-78c4ea8ab667",
         "x": [
          5,
          6,
          7,
          8,
          9,
          10,
          11,
          12,
          13,
          14,
          15,
          16,
          17,
          18,
          19,
          20,
          21,
          22,
          23,
          24,
          25
         ],
         "y": [
          1.7220523911985641,
          -0.07974091932423914,
          -1.3352155187275656,
          -2.2371494337173488,
          -2.898053333611485,
          -3.3889932393321267,
          -3.7575399593201024,
          -4.036824703922626,
          -4.250494898129145,
          -4.415656790318987,
          -4.544762200319901,
          -4.646895635883945,
          -4.72868929352636,
          -4.794987929175789,
          -4.849335946485572,
          -4.894334329953121,
          -4.931901296381895,
          -4.963461755795323,
          -4.990084410345767,
          -5.012580591697212,
          -5.0315753114540005
         ]
        },
        {
         "line": {
          "color": "blue",
          "dash": "solid",
          "width": 2
         },
         "mode": "lines",
         "name": "T = -60°C",
         "type": "scatter",
         "uid": "006f6b8b-d6f9-4f25-a00e-24c4158b582d",
         "x": [
          5,
          6,
          7,
          8,
          9,
          10,
          11,
          12,
          13,
          14,
          15,
          16,
          17,
          18,
          19,
          20,
          21,
          22,
          23,
          24,
          25
         ],
         "y": [
          1.7220523911985641,
          -0.07974091932423914,
          -1.3352155187275656,
          -2.2371494337173488,
          -2.898053333611485,
          -3.3889932393321267,
          -3.7575399593201024,
          -4.036824703922626,
          -4.250494898129145,
          -4.415656790318987,
          -4.544762200319901,
          -4.646895635883945,
          -4.72868929352636,
          -4.794987929175789,
          -4.849335946485572,
          -4.894334329953121,
          -4.931901296381895,
          -4.963461755795323,
          -4.990084410345767,
          -5.012580591697212,
          -5.0315753114540005
         ]
        },
        {
         "line": {
          "color": "blue",
          "dash": "solid",
          "width": 2
         },
         "mode": "lines",
         "name": "T = -60°C",
         "type": "scatter",
         "uid": "b4ed8ffe-11e7-4f9d-83ca-9ab9e6967430",
         "x": [
          5,
          6,
          7,
          8,
          9,
          10,
          11,
          12,
          13,
          14,
          15,
          16,
          17,
          18,
          19,
          20,
          21,
          22,
          23,
          24,
          25
         ],
         "y": [
          1.7220523911985641,
          -0.07974091932423914,
          -1.3352155187275656,
          -2.2371494337173488,
          -2.898053333611485,
          -3.3889932393321267,
          -3.7575399593201024,
          -4.036824703922626,
          -4.250494898129145,
          -4.415656790318987,
          -4.544762200319901,
          -4.646895635883945,
          -4.72868929352636,
          -4.794987929175789,
          -4.849335946485572,
          -4.894334329953121,
          -4.931901296381895,
          -4.963461755795323,
          -4.990084410345767,
          -5.012580591697212,
          -5.0315753114540005
         ]
        },
        {
         "line": {
          "color": "blue",
          "dash": "solid",
          "width": 2
         },
         "mode": "lines",
         "name": "T = -60°C",
         "type": "scatter",
         "uid": "8f3ab6a9-d076-4920-ae14-49d4478766ec",
         "x": [
          5,
          6,
          7,
          8,
          9,
          10,
          11,
          12,
          13,
          14,
          15,
          16,
          17,
          18,
          19,
          20,
          21,
          22,
          23,
          24,
          25
         ],
         "y": [
          1.7220523911985641,
          -0.07974091932423914,
          -1.3352155187275656,
          -2.2371494337173488,
          -2.898053333611485,
          -3.3889932393321267,
          -3.7575399593201024,
          -4.036824703922626,
          -4.250494898129145,
          -4.415656790318987,
          -4.544762200319901,
          -4.646895635883945,
          -4.72868929352636,
          -4.794987929175789,
          -4.849335946485572,
          -4.894334329953121,
          -4.931901296381895,
          -4.963461755795323,
          -4.990084410345767,
          -5.012580591697212,
          -5.0315753114540005
         ]
        },
        {
         "line": {
          "color": "blue",
          "dash": "solid",
          "width": 2
         },
         "mode": "lines",
         "name": "T = -60°C",
         "type": "scatter",
         "uid": "e757495d-9896-4e12-bec9-51d1d5e8fa68",
         "x": [
          5,
          6,
          7,
          8,
          9,
          10,
          11,
          12,
          13,
          14,
          15,
          16,
          17,
          18,
          19,
          20,
          21,
          22,
          23,
          24,
          25
         ],
         "y": [
          1.7220523911985641,
          -0.07974091932423914,
          -1.3352155187275656,
          -2.2371494337173488,
          -2.898053333611485,
          -3.3889932393321267,
          -3.7575399593201024,
          -4.036824703922626,
          -4.250494898129145,
          -4.415656790318987,
          -4.544762200319901,
          -4.646895635883945,
          -4.72868929352636,
          -4.794987929175789,
          -4.849335946485572,
          -4.894334329953121,
          -4.931901296381895,
          -4.963461755795323,
          -4.990084410345767,
          -5.012580591697212,
          -5.0315753114540005
         ]
        },
        {
         "line": {
          "color": "blue",
          "dash": "solid",
          "width": 2
         },
         "mode": "lines",
         "name": "T = -60°C",
         "type": "scatter",
         "uid": "d460ddea-d4d9-4f74-9939-bcdaeee5cb72",
         "x": [
          5,
          6,
          7,
          8,
          9,
          10,
          11,
          12,
          13,
          14,
          15,
          16,
          17,
          18,
          19,
          20,
          21,
          22,
          23,
          24,
          25
         ],
         "y": [
          1.7220523911985641,
          -0.07974091932423914,
          -1.3352155187275656,
          -2.2371494337173488,
          -2.898053333611485,
          -3.3889932393321267,
          -3.7575399593201024,
          -4.036824703922626,
          -4.250494898129145,
          -4.415656790318987,
          -4.544762200319901,
          -4.646895635883945,
          -4.72868929352636,
          -4.794987929175789,
          -4.849335946485572,
          -4.894334329953121,
          -4.931901296381895,
          -4.963461755795323,
          -4.990084410345767,
          -5.012580591697212,
          -5.0315753114540005
         ]
        },
        {
         "line": {
          "color": "blue",
          "dash": "solid",
          "width": 2
         },
         "mode": "lines",
         "name": "T = -60°C",
         "type": "scatter",
         "uid": "5746c23e-7434-4d0f-ae0e-692f9a1958e1",
         "x": [
          5,
          6,
          7,
          8,
          9,
          10,
          11,
          12,
          13,
          14,
          15,
          16,
          17,
          18,
          19,
          20,
          21,
          22,
          23,
          24,
          25
         ],
         "y": [
          1.7220523911985641,
          -0.07974091932423914,
          -1.3352155187275656,
          -2.2371494337173488,
          -2.898053333611485,
          -3.3889932393321267,
          -3.7575399593201024,
          -4.036824703922626,
          -4.250494898129145,
          -4.415656790318987,
          -4.544762200319901,
          -4.646895635883945,
          -4.72868929352636,
          -4.794987929175789,
          -4.849335946485572,
          -4.894334329953121,
          -4.931901296381895,
          -4.963461755795323,
          -4.990084410345767,
          -5.012580591697212,
          -5.0315753114540005
         ]
        },
        {
         "line": {
          "color": "blue",
          "dash": "solid",
          "width": 2
         },
         "mode": "lines",
         "name": "T = -60°C",
         "type": "scatter",
         "uid": "50c45afb-7fa1-4628-a8f9-73250f6582ea",
         "x": [
          5,
          6,
          7,
          8,
          9,
          10,
          11,
          12,
          13,
          14,
          15,
          16,
          17,
          18,
          19,
          20,
          21,
          22,
          23,
          24,
          25
         ],
         "y": [
          1.7220523911985641,
          -0.07974091932423914,
          -1.3352155187275656,
          -2.2371494337173488,
          -2.898053333611485,
          -3.3889932393321267,
          -3.7575399593201024,
          -4.036824703922626,
          -4.250494898129145,
          -4.415656790318987,
          -4.544762200319901,
          -4.646895635883945,
          -4.72868929352636,
          -4.794987929175789,
          -4.849335946485572,
          -4.894334329953121,
          -4.931901296381895,
          -4.963461755795323,
          -4.990084410345767,
          -5.012580591697212,
          -5.0315753114540005
         ]
        },
        {
         "line": {
          "color": "blue",
          "dash": "solid",
          "width": 2
         },
         "mode": "lines",
         "name": "T = -60°C",
         "type": "scatter",
         "uid": "01027d8f-d5cd-416b-9eba-88fc7ebcdbb5",
         "x": [
          5,
          6,
          7,
          8,
          9,
          10,
          11,
          12,
          13,
          14,
          15,
          16,
          17,
          18,
          19,
          20,
          21,
          22,
          23,
          24,
          25
         ],
         "y": [
          1.7220523911985641,
          -0.07974091932423914,
          -1.3352155187275656,
          -2.2371494337173488,
          -2.898053333611485,
          -3.3889932393321267,
          -3.7575399593201024,
          -4.036824703922626,
          -4.250494898129145,
          -4.415656790318987,
          -4.544762200319901,
          -4.646895635883945,
          -4.72868929352636,
          -4.794987929175789,
          -4.849335946485572,
          -4.894334329953121,
          -4.931901296381895,
          -4.963461755795323,
          -4.990084410345767,
          -5.012580591697212,
          -5.0315753114540005
         ]
        },
        {
         "line": {
          "color": "blue",
          "dash": "solid",
          "width": 2
         },
         "mode": "lines",
         "name": "T = -60°C",
         "type": "scatter",
         "uid": "7820273a-8c4e-4f4d-b568-7594e4b09b3f",
         "x": [
          5,
          6,
          7,
          8,
          9,
          10,
          11,
          12,
          13,
          14,
          15,
          16,
          17,
          18,
          19,
          20,
          21,
          22,
          23,
          24,
          25
         ],
         "y": [
          1.7220523911985641,
          -0.07974091932423914,
          -1.3352155187275656,
          -2.2371494337173488,
          -2.898053333611485,
          -3.3889932393321267,
          -3.7575399593201024,
          -4.036824703922626,
          -4.250494898129145,
          -4.415656790318987,
          -4.544762200319901,
          -4.646895635883945,
          -4.72868929352636,
          -4.794987929175789,
          -4.849335946485572,
          -4.894334329953121,
          -4.931901296381895,
          -4.963461755795323,
          -4.990084410345767,
          -5.012580591697212,
          -5.0315753114540005
         ]
        },
        {
         "line": {
          "color": "blue",
          "dash": "solid",
          "width": 2
         },
         "mode": "lines",
         "name": "T = -60°C",
         "type": "scatter",
         "uid": "703a4819-f682-46e7-8f15-f4617c2cdbc3",
         "x": [
          5,
          6,
          7,
          8,
          9,
          10,
          11,
          12,
          13,
          14,
          15,
          16,
          17,
          18,
          19,
          20,
          21,
          22,
          23,
          24,
          25
         ],
         "y": [
          1.7220523911985641,
          -0.07974091932423914,
          -1.3352155187275656,
          -2.2371494337173488,
          -2.898053333611485,
          -3.3889932393321267,
          -3.7575399593201024,
          -4.036824703922626,
          -4.250494898129145,
          -4.415656790318987,
          -4.544762200319901,
          -4.646895635883945,
          -4.72868929352636,
          -4.794987929175789,
          -4.849335946485572,
          -4.894334329953121,
          -4.931901296381895,
          -4.963461755795323,
          -4.990084410345767,
          -5.012580591697212,
          -5.0315753114540005
         ]
        },
        {
         "line": {
          "color": "green",
          "dash": "solid",
          "width": 2
         },
         "mode": "lines",
         "name": "T = -40°C",
         "type": "scatter",
         "uid": "b0668c45-81c0-488b-99b9-ed4e4f08d8d8",
         "x": [
          5,
          6,
          7,
          8,
          9,
          10,
          11,
          12,
          13,
          14,
          15,
          16,
          17,
          18,
          19,
          20,
          21,
          22,
          23,
          24,
          25
         ],
         "y": [
          0.8494790136756644,
          -1.1552441501712467,
          -2.5690232487377256,
          -3.604433589991734,
          -4.3842462469733245,
          -4.984646287778872,
          -5.455529367570359,
          -5.8309122089378045,
          -6.13468179213227,
          -6.383981128758701,
          -6.591316826623456,
          -6.765932283722105,
          -6.914734645873052,
          -7.042937040478237,
          -7.15451187717244,
          -7.2525150692443905,
          -7.339320233915021,
          -7.4167892070440224,
          -7.486397041545308,
          -7.549324221050528,
          -7.6065251058168295
         ]
        },
        {
         "line": {
          "color": "green",
          "dash": "solid",
          "width": 2
         },
         "mode": "lines",
         "name": "T = -40°C",
         "type": "scatter",
         "uid": "66fecd85-20ec-417d-a2cb-6185ebf5776c",
         "x": [
          5,
          6,
          7,
          8,
          9,
          10,
          11,
          12,
          13,
          14,
          15,
          16,
          17,
          18,
          19,
          20,
          21,
          22,
          23,
          24,
          25
         ],
         "y": [
          0.8494790136756644,
          -1.1552441501712467,
          -2.5690232487377256,
          -3.604433589991734,
          -4.3842462469733245,
          -4.984646287778872,
          -5.455529367570359,
          -5.8309122089378045,
          -6.13468179213227,
          -6.383981128758701,
          -6.591316826623456,
          -6.765932283722105,
          -6.914734645873052,
          -7.042937040478237,
          -7.15451187717244,
          -7.2525150692443905,
          -7.339320233915021,
          -7.4167892070440224,
          -7.486397041545308,
          -7.549324221050528,
          -7.6065251058168295
         ]
        },
        {
         "line": {
          "color": "green",
          "dash": "solid",
          "width": 2
         },
         "mode": "lines",
         "name": "T = -40°C",
         "type": "scatter",
         "uid": "dc63c836-59dd-4ca8-b749-5e6d0e70393c",
         "x": [
          5,
          6,
          7,
          8,
          9,
          10,
          11,
          12,
          13,
          14,
          15,
          16,
          17,
          18,
          19,
          20,
          21,
          22,
          23,
          24,
          25
         ],
         "y": [
          0.8494790136756644,
          -1.1552441501712467,
          -2.5690232487377256,
          -3.604433589991734,
          -4.3842462469733245,
          -4.984646287778872,
          -5.455529367570359,
          -5.8309122089378045,
          -6.13468179213227,
          -6.383981128758701,
          -6.591316826623456,
          -6.765932283722105,
          -6.914734645873052,
          -7.042937040478237,
          -7.15451187717244,
          -7.2525150692443905,
          -7.339320233915021,
          -7.4167892070440224,
          -7.486397041545308,
          -7.549324221050528,
          -7.6065251058168295
         ]
        },
        {
         "line": {
          "color": "green",
          "dash": "solid",
          "width": 2
         },
         "mode": "lines",
         "name": "T = -40°C",
         "type": "scatter",
         "uid": "03d524d2-844c-46d9-9100-18e670538955",
         "x": [
          5,
          6,
          7,
          8,
          9,
          10,
          11,
          12,
          13,
          14,
          15,
          16,
          17,
          18,
          19,
          20,
          21,
          22,
          23,
          24,
          25
         ],
         "y": [
          0.8494790136756644,
          -1.1552441501712467,
          -2.5690232487377256,
          -3.604433589991734,
          -4.3842462469733245,
          -4.984646287778872,
          -5.455529367570359,
          -5.8309122089378045,
          -6.13468179213227,
          -6.383981128758701,
          -6.591316826623456,
          -6.765932283722105,
          -6.914734645873052,
          -7.042937040478237,
          -7.15451187717244,
          -7.2525150692443905,
          -7.339320233915021,
          -7.4167892070440224,
          -7.486397041545308,
          -7.549324221050528,
          -7.6065251058168295
         ]
        },
        {
         "line": {
          "color": "green",
          "dash": "solid",
          "width": 2
         },
         "mode": "lines",
         "name": "T = -40°C",
         "type": "scatter",
         "uid": "76d26bee-84e7-4dcc-ab42-75ce42023feb",
         "x": [
          5,
          6,
          7,
          8,
          9,
          10,
          11,
          12,
          13,
          14,
          15,
          16,
          17,
          18,
          19,
          20,
          21,
          22,
          23,
          24,
          25
         ],
         "y": [
          0.8494790136756644,
          -1.1552441501712467,
          -2.5690232487377256,
          -3.604433589991734,
          -4.3842462469733245,
          -4.984646287778872,
          -5.455529367570359,
          -5.8309122089378045,
          -6.13468179213227,
          -6.383981128758701,
          -6.591316826623456,
          -6.765932283722105,
          -6.914734645873052,
          -7.042937040478237,
          -7.15451187717244,
          -7.2525150692443905,
          -7.339320233915021,
          -7.4167892070440224,
          -7.486397041545308,
          -7.549324221050528,
          -7.6065251058168295
         ]
        },
        {
         "line": {
          "color": "green",
          "dash": "solid",
          "width": 2
         },
         "mode": "lines",
         "name": "T = -40°C",
         "type": "scatter",
         "uid": "cf5f81be-2ba6-4947-abfa-f742322bd6a6",
         "x": [
          5,
          6,
          7,
          8,
          9,
          10,
          11,
          12,
          13,
          14,
          15,
          16,
          17,
          18,
          19,
          20,
          21,
          22,
          23,
          24,
          25
         ],
         "y": [
          0.8494790136756644,
          -1.1552441501712467,
          -2.5690232487377256,
          -3.604433589991734,
          -4.3842462469733245,
          -4.984646287778872,
          -5.455529367570359,
          -5.8309122089378045,
          -6.13468179213227,
          -6.383981128758701,
          -6.591316826623456,
          -6.765932283722105,
          -6.914734645873052,
          -7.042937040478237,
          -7.15451187717244,
          -7.2525150692443905,
          -7.339320233915021,
          -7.4167892070440224,
          -7.486397041545308,
          -7.549324221050528,
          -7.6065251058168295
         ]
        },
        {
         "line": {
          "color": "green",
          "dash": "solid",
          "width": 2
         },
         "mode": "lines",
         "name": "T = -40°C",
         "type": "scatter",
         "uid": "f44ed887-2875-4c58-9feb-c417d1509d0d",
         "x": [
          5,
          6,
          7,
          8,
          9,
          10,
          11,
          12,
          13,
          14,
          15,
          16,
          17,
          18,
          19,
          20,
          21,
          22,
          23,
          24,
          25
         ],
         "y": [
          0.8494790136756644,
          -1.1552441501712467,
          -2.5690232487377256,
          -3.604433589991734,
          -4.3842462469733245,
          -4.984646287778872,
          -5.455529367570359,
          -5.8309122089378045,
          -6.13468179213227,
          -6.383981128758701,
          -6.591316826623456,
          -6.765932283722105,
          -6.914734645873052,
          -7.042937040478237,
          -7.15451187717244,
          -7.2525150692443905,
          -7.339320233915021,
          -7.4167892070440224,
          -7.486397041545308,
          -7.549324221050528,
          -7.6065251058168295
         ]
        },
        {
         "line": {
          "color": "green",
          "dash": "solid",
          "width": 2
         },
         "mode": "lines",
         "name": "T = -40°C",
         "type": "scatter",
         "uid": "5b8d597e-1419-4da5-8d4d-617c38dd4882",
         "x": [
          5,
          6,
          7,
          8,
          9,
          10,
          11,
          12,
          13,
          14,
          15,
          16,
          17,
          18,
          19,
          20,
          21,
          22,
          23,
          24,
          25
         ],
         "y": [
          0.8494790136756644,
          -1.1552441501712467,
          -2.5690232487377256,
          -3.604433589991734,
          -4.3842462469733245,
          -4.984646287778872,
          -5.455529367570359,
          -5.8309122089378045,
          -6.13468179213227,
          -6.383981128758701,
          -6.591316826623456,
          -6.765932283722105,
          -6.914734645873052,
          -7.042937040478237,
          -7.15451187717244,
          -7.2525150692443905,
          -7.339320233915021,
          -7.4167892070440224,
          -7.486397041545308,
          -7.549324221050528,
          -7.6065251058168295
         ]
        },
        {
         "line": {
          "color": "green",
          "dash": "solid",
          "width": 2
         },
         "mode": "lines",
         "name": "T = -40°C",
         "type": "scatter",
         "uid": "5a18b1f0-d524-41e4-a007-426470ce4ff8",
         "x": [
          5,
          6,
          7,
          8,
          9,
          10,
          11,
          12,
          13,
          14,
          15,
          16,
          17,
          18,
          19,
          20,
          21,
          22,
          23,
          24,
          25
         ],
         "y": [
          0.8494790136756644,
          -1.1552441501712467,
          -2.5690232487377256,
          -3.604433589991734,
          -4.3842462469733245,
          -4.984646287778872,
          -5.455529367570359,
          -5.8309122089378045,
          -6.13468179213227,
          -6.383981128758701,
          -6.591316826623456,
          -6.765932283722105,
          -6.914734645873052,
          -7.042937040478237,
          -7.15451187717244,
          -7.2525150692443905,
          -7.339320233915021,
          -7.4167892070440224,
          -7.486397041545308,
          -7.549324221050528,
          -7.6065251058168295
         ]
        },
        {
         "line": {
          "color": "green",
          "dash": "solid",
          "width": 2
         },
         "mode": "lines",
         "name": "T = -40°C",
         "type": "scatter",
         "uid": "a607800e-64b4-4f85-8cc2-8cf131141630",
         "x": [
          5,
          6,
          7,
          8,
          9,
          10,
          11,
          12,
          13,
          14,
          15,
          16,
          17,
          18,
          19,
          20,
          21,
          22,
          23,
          24,
          25
         ],
         "y": [
          0.8494790136756644,
          -1.1552441501712467,
          -2.5690232487377256,
          -3.604433589991734,
          -4.3842462469733245,
          -4.984646287778872,
          -5.455529367570359,
          -5.8309122089378045,
          -6.13468179213227,
          -6.383981128758701,
          -6.591316826623456,
          -6.765932283722105,
          -6.914734645873052,
          -7.042937040478237,
          -7.15451187717244,
          -7.2525150692443905,
          -7.339320233915021,
          -7.4167892070440224,
          -7.486397041545308,
          -7.549324221050528,
          -7.6065251058168295
         ]
        },
        {
         "line": {
          "color": "green",
          "dash": "solid",
          "width": 2
         },
         "mode": "lines",
         "name": "T = -40°C",
         "type": "scatter",
         "uid": "c13c222f-eaca-403a-978f-fa2c28090865",
         "x": [
          5,
          6,
          7,
          8,
          9,
          10,
          11,
          12,
          13,
          14,
          15,
          16,
          17,
          18,
          19,
          20,
          21,
          22,
          23,
          24,
          25
         ],
         "y": [
          0.8494790136756644,
          -1.1552441501712467,
          -2.5690232487377256,
          -3.604433589991734,
          -4.3842462469733245,
          -4.984646287778872,
          -5.455529367570359,
          -5.8309122089378045,
          -6.13468179213227,
          -6.383981128758701,
          -6.591316826623456,
          -6.765932283722105,
          -6.914734645873052,
          -7.042937040478237,
          -7.15451187717244,
          -7.2525150692443905,
          -7.339320233915021,
          -7.4167892070440224,
          -7.486397041545308,
          -7.549324221050528,
          -7.6065251058168295
         ]
        },
        {
         "line": {
          "color": "green",
          "dash": "solid",
          "width": 2
         },
         "mode": "lines",
         "name": "T = -40°C",
         "type": "scatter",
         "uid": "1c5fa997-7585-4401-8a54-152ab84155a3",
         "x": [
          5,
          6,
          7,
          8,
          9,
          10,
          11,
          12,
          13,
          14,
          15,
          16,
          17,
          18,
          19,
          20,
          21,
          22,
          23,
          24,
          25
         ],
         "y": [
          0.8494790136756644,
          -1.1552441501712467,
          -2.5690232487377256,
          -3.604433589991734,
          -4.3842462469733245,
          -4.984646287778872,
          -5.455529367570359,
          -5.8309122089378045,
          -6.13468179213227,
          -6.383981128758701,
          -6.591316826623456,
          -6.765932283722105,
          -6.914734645873052,
          -7.042937040478237,
          -7.15451187717244,
          -7.2525150692443905,
          -7.339320233915021,
          -7.4167892070440224,
          -7.486397041545308,
          -7.549324221050528,
          -7.6065251058168295
         ]
        },
        {
         "line": {
          "color": "green",
          "dash": "solid",
          "width": 2
         },
         "mode": "lines",
         "name": "T = -40°C",
         "type": "scatter",
         "uid": "5b1e766d-c429-4746-8d75-e0178bba0bbb",
         "x": [
          5,
          6,
          7,
          8,
          9,
          10,
          11,
          12,
          13,
          14,
          15,
          16,
          17,
          18,
          19,
          20,
          21,
          22,
          23,
          24,
          25
         ],
         "y": [
          0.8494790136756644,
          -1.1552441501712467,
          -2.5690232487377256,
          -3.604433589991734,
          -4.3842462469733245,
          -4.984646287778872,
          -5.455529367570359,
          -5.8309122089378045,
          -6.13468179213227,
          -6.383981128758701,
          -6.591316826623456,
          -6.765932283722105,
          -6.914734645873052,
          -7.042937040478237,
          -7.15451187717244,
          -7.2525150692443905,
          -7.339320233915021,
          -7.4167892070440224,
          -7.486397041545308,
          -7.549324221050528,
          -7.6065251058168295
         ]
        },
        {
         "line": {
          "color": "green",
          "dash": "solid",
          "width": 2
         },
         "mode": "lines",
         "name": "T = -40°C",
         "type": "scatter",
         "uid": "a0b31982-89a2-47f1-a204-41eccfcb8334",
         "x": [
          5,
          6,
          7,
          8,
          9,
          10,
          11,
          12,
          13,
          14,
          15,
          16,
          17,
          18,
          19,
          20,
          21,
          22,
          23,
          24,
          25
         ],
         "y": [
          0.8494790136756644,
          -1.1552441501712467,
          -2.5690232487377256,
          -3.604433589991734,
          -4.3842462469733245,
          -4.984646287778872,
          -5.455529367570359,
          -5.8309122089378045,
          -6.13468179213227,
          -6.383981128758701,
          -6.591316826623456,
          -6.765932283722105,
          -6.914734645873052,
          -7.042937040478237,
          -7.15451187717244,
          -7.2525150692443905,
          -7.339320233915021,
          -7.4167892070440224,
          -7.486397041545308,
          -7.549324221050528,
          -7.6065251058168295
         ]
        },
        {
         "line": {
          "color": "green",
          "dash": "solid",
          "width": 2
         },
         "mode": "lines",
         "name": "T = -40°C",
         "type": "scatter",
         "uid": "1ab40f02-4fa6-4e76-9d36-b981d5c05334",
         "x": [
          5,
          6,
          7,
          8,
          9,
          10,
          11,
          12,
          13,
          14,
          15,
          16,
          17,
          18,
          19,
          20,
          21,
          22,
          23,
          24,
          25
         ],
         "y": [
          0.8494790136756644,
          -1.1552441501712467,
          -2.5690232487377256,
          -3.604433589991734,
          -4.3842462469733245,
          -4.984646287778872,
          -5.455529367570359,
          -5.8309122089378045,
          -6.13468179213227,
          -6.383981128758701,
          -6.591316826623456,
          -6.765932283722105,
          -6.914734645873052,
          -7.042937040478237,
          -7.15451187717244,
          -7.2525150692443905,
          -7.339320233915021,
          -7.4167892070440224,
          -7.486397041545308,
          -7.549324221050528,
          -7.6065251058168295
         ]
        },
        {
         "line": {
          "color": "green",
          "dash": "solid",
          "width": 2
         },
         "mode": "lines",
         "name": "T = -40°C",
         "type": "scatter",
         "uid": "e410c92f-d8c1-4d1a-8371-ae28de51f95e",
         "x": [
          5,
          6,
          7,
          8,
          9,
          10,
          11,
          12,
          13,
          14,
          15,
          16,
          17,
          18,
          19,
          20,
          21,
          22,
          23,
          24,
          25
         ],
         "y": [
          0.8494790136756644,
          -1.1552441501712467,
          -2.5690232487377256,
          -3.604433589991734,
          -4.3842462469733245,
          -4.984646287778872,
          -5.455529367570359,
          -5.8309122089378045,
          -6.13468179213227,
          -6.383981128758701,
          -6.591316826623456,
          -6.765932283722105,
          -6.914734645873052,
          -7.042937040478237,
          -7.15451187717244,
          -7.2525150692443905,
          -7.339320233915021,
          -7.4167892070440224,
          -7.486397041545308,
          -7.549324221050528,
          -7.6065251058168295
         ]
        },
        {
         "line": {
          "color": "green",
          "dash": "solid",
          "width": 2
         },
         "mode": "lines",
         "name": "T = -40°C",
         "type": "scatter",
         "uid": "2c23a69e-aa1d-4bff-8ea1-0bdcd11d4589",
         "x": [
          5,
          6,
          7,
          8,
          9,
          10,
          11,
          12,
          13,
          14,
          15,
          16,
          17,
          18,
          19,
          20,
          21,
          22,
          23,
          24,
          25
         ],
         "y": [
          0.8494790136756644,
          -1.1552441501712467,
          -2.5690232487377256,
          -3.604433589991734,
          -4.3842462469733245,
          -4.984646287778872,
          -5.455529367570359,
          -5.8309122089378045,
          -6.13468179213227,
          -6.383981128758701,
          -6.591316826623456,
          -6.765932283722105,
          -6.914734645873052,
          -7.042937040478237,
          -7.15451187717244,
          -7.2525150692443905,
          -7.339320233915021,
          -7.4167892070440224,
          -7.486397041545308,
          -7.549324221050528,
          -7.6065251058168295
         ]
        },
        {
         "line": {
          "color": "green",
          "dash": "solid",
          "width": 2
         },
         "mode": "lines",
         "name": "T = -40°C",
         "type": "scatter",
         "uid": "cac1ae4e-03a6-43aa-8df2-f70549556bf7",
         "x": [
          5,
          6,
          7,
          8,
          9,
          10,
          11,
          12,
          13,
          14,
          15,
          16,
          17,
          18,
          19,
          20,
          21,
          22,
          23,
          24,
          25
         ],
         "y": [
          0.8494790136756644,
          -1.1552441501712467,
          -2.5690232487377256,
          -3.604433589991734,
          -4.3842462469733245,
          -4.984646287778872,
          -5.455529367570359,
          -5.8309122089378045,
          -6.13468179213227,
          -6.383981128758701,
          -6.591316826623456,
          -6.765932283722105,
          -6.914734645873052,
          -7.042937040478237,
          -7.15451187717244,
          -7.2525150692443905,
          -7.339320233915021,
          -7.4167892070440224,
          -7.486397041545308,
          -7.549324221050528,
          -7.6065251058168295
         ]
        },
        {
         "line": {
          "color": "green",
          "dash": "solid",
          "width": 2
         },
         "mode": "lines",
         "name": "T = -40°C",
         "type": "scatter",
         "uid": "3eaea9c3-418b-437c-a682-00c5d4a800a9",
         "x": [
          5,
          6,
          7,
          8,
          9,
          10,
          11,
          12,
          13,
          14,
          15,
          16,
          17,
          18,
          19,
          20,
          21,
          22,
          23,
          24,
          25
         ],
         "y": [
          0.8494790136756644,
          -1.1552441501712467,
          -2.5690232487377256,
          -3.604433589991734,
          -4.3842462469733245,
          -4.984646287778872,
          -5.455529367570359,
          -5.8309122089378045,
          -6.13468179213227,
          -6.383981128758701,
          -6.591316826623456,
          -6.765932283722105,
          -6.914734645873052,
          -7.042937040478237,
          -7.15451187717244,
          -7.2525150692443905,
          -7.339320233915021,
          -7.4167892070440224,
          -7.486397041545308,
          -7.549324221050528,
          -7.6065251058168295
         ]
        },
        {
         "line": {
          "color": "green",
          "dash": "solid",
          "width": 2
         },
         "mode": "lines",
         "name": "T = -40°C",
         "type": "scatter",
         "uid": "7955cca2-04a5-435e-ac71-3b4da5808371",
         "x": [
          5,
          6,
          7,
          8,
          9,
          10,
          11,
          12,
          13,
          14,
          15,
          16,
          17,
          18,
          19,
          20,
          21,
          22,
          23,
          24,
          25
         ],
         "y": [
          0.8494790136756644,
          -1.1552441501712467,
          -2.5690232487377256,
          -3.604433589991734,
          -4.3842462469733245,
          -4.984646287778872,
          -5.455529367570359,
          -5.8309122089378045,
          -6.13468179213227,
          -6.383981128758701,
          -6.591316826623456,
          -6.765932283722105,
          -6.914734645873052,
          -7.042937040478237,
          -7.15451187717244,
          -7.2525150692443905,
          -7.339320233915021,
          -7.4167892070440224,
          -7.486397041545308,
          -7.549324221050528,
          -7.6065251058168295
         ]
        },
        {
         "line": {
          "color": "green",
          "dash": "solid",
          "width": 2
         },
         "mode": "lines",
         "name": "T = -40°C",
         "type": "scatter",
         "uid": "e0411cff-4242-49e5-b9d9-e34d0c2df9eb",
         "x": [
          5,
          6,
          7,
          8,
          9,
          10,
          11,
          12,
          13,
          14,
          15,
          16,
          17,
          18,
          19,
          20,
          21,
          22,
          23,
          24,
          25
         ],
         "y": [
          0.8494790136756644,
          -1.1552441501712467,
          -2.5690232487377256,
          -3.604433589991734,
          -4.3842462469733245,
          -4.984646287778872,
          -5.455529367570359,
          -5.8309122089378045,
          -6.13468179213227,
          -6.383981128758701,
          -6.591316826623456,
          -6.765932283722105,
          -6.914734645873052,
          -7.042937040478237,
          -7.15451187717244,
          -7.2525150692443905,
          -7.339320233915021,
          -7.4167892070440224,
          -7.486397041545308,
          -7.549324221050528,
          -7.6065251058168295
         ]
        }
       ],
       "layout": {
        "annotations": [
         {
          "font": {
           "size": 18
          },
          "showarrow": false,
          "text": "$\\LARGE{m}$",
          "x": 0.5,
          "xref": "paper",
          "y": -0.2,
          "yref": "paper"
         },
         {
          "font": {
           "size": 18
          },
          "showarrow": false,
          "text": "$\\LARGE{ \\Delta \\sigma_\\mathrm{w} (\\%)}$",
          "textangle": -90,
          "x": -0.2,
          "xref": "paper",
          "y": 0.5,
          "yref": "paper"
         },
         {
          "font": {
           "size": 18
          },
          "showarrow": false,
          "text": "",
          "x": 0.41,
          "xref": "paper",
          "y": 1.1,
          "yref": "paper"
         }
        ],
        "height": 420,
        "legend": {
         "x": 0.6,
         "y": 0.5
        },
        "margin": {
         "b": 80,
         "l": 80,
         "r": 20,
         "t": 40
        },
        "showlegend": false,
        "template": {
         "data": {
          "bar": [
           {
            "error_x": {
             "color": "#2a3f5f"
            },
            "error_y": {
             "color": "#2a3f5f"
            },
            "marker": {
             "line": {
              "color": "#E5ECF6",
              "width": 0.5
             }
            },
            "type": "bar"
           }
          ],
          "barpolar": [
           {
            "marker": {
             "line": {
              "color": "#E5ECF6",
              "width": 0.5
             }
            },
            "type": "barpolar"
           }
          ],
          "carpet": [
           {
            "aaxis": {
             "endlinecolor": "#2a3f5f",
             "gridcolor": "white",
             "linecolor": "white",
             "minorgridcolor": "white",
             "startlinecolor": "#2a3f5f"
            },
            "baxis": {
             "endlinecolor": "#2a3f5f",
             "gridcolor": "white",
             "linecolor": "white",
             "minorgridcolor": "white",
             "startlinecolor": "#2a3f5f"
            },
            "type": "carpet"
           }
          ],
          "choropleth": [
           {
            "colorbar": {
             "outlinewidth": 0,
             "ticks": ""
            },
            "type": "choropleth"
           }
          ],
          "contour": [
           {
            "colorbar": {
             "outlinewidth": 0,
             "ticks": ""
            },
            "colorscale": [
             [
              0,
              "#0d0887"
             ],
             [
              0.1111111111111111,
              "#46039f"
             ],
             [
              0.2222222222222222,
              "#7201a8"
             ],
             [
              0.3333333333333333,
              "#9c179e"
             ],
             [
              0.4444444444444444,
              "#bd3786"
             ],
             [
              0.5555555555555556,
              "#d8576b"
             ],
             [
              0.6666666666666666,
              "#ed7953"
             ],
             [
              0.7777777777777778,
              "#fb9f3a"
             ],
             [
              0.8888888888888888,
              "#fdca26"
             ],
             [
              1,
              "#f0f921"
             ]
            ],
            "type": "contour"
           }
          ],
          "contourcarpet": [
           {
            "colorbar": {
             "outlinewidth": 0,
             "ticks": ""
            },
            "type": "contourcarpet"
           }
          ],
          "heatmap": [
           {
            "colorbar": {
             "outlinewidth": 0,
             "ticks": ""
            },
            "colorscale": [
             [
              0,
              "#0d0887"
             ],
             [
              0.1111111111111111,
              "#46039f"
             ],
             [
              0.2222222222222222,
              "#7201a8"
             ],
             [
              0.3333333333333333,
              "#9c179e"
             ],
             [
              0.4444444444444444,
              "#bd3786"
             ],
             [
              0.5555555555555556,
              "#d8576b"
             ],
             [
              0.6666666666666666,
              "#ed7953"
             ],
             [
              0.7777777777777778,
              "#fb9f3a"
             ],
             [
              0.8888888888888888,
              "#fdca26"
             ],
             [
              1,
              "#f0f921"
             ]
            ],
            "type": "heatmap"
           }
          ],
          "heatmapgl": [
           {
            "colorbar": {
             "outlinewidth": 0,
             "ticks": ""
            },
            "colorscale": [
             [
              0,
              "#0d0887"
             ],
             [
              0.1111111111111111,
              "#46039f"
             ],
             [
              0.2222222222222222,
              "#7201a8"
             ],
             [
              0.3333333333333333,
              "#9c179e"
             ],
             [
              0.4444444444444444,
              "#bd3786"
             ],
             [
              0.5555555555555556,
              "#d8576b"
             ],
             [
              0.6666666666666666,
              "#ed7953"
             ],
             [
              0.7777777777777778,
              "#fb9f3a"
             ],
             [
              0.8888888888888888,
              "#fdca26"
             ],
             [
              1,
              "#f0f921"
             ]
            ],
            "type": "heatmapgl"
           }
          ],
          "histogram": [
           {
            "marker": {
             "colorbar": {
              "outlinewidth": 0,
              "ticks": ""
             }
            },
            "type": "histogram"
           }
          ],
          "histogram2d": [
           {
            "colorbar": {
             "outlinewidth": 0,
             "ticks": ""
            },
            "colorscale": [
             [
              0,
              "#0d0887"
             ],
             [
              0.1111111111111111,
              "#46039f"
             ],
             [
              0.2222222222222222,
              "#7201a8"
             ],
             [
              0.3333333333333333,
              "#9c179e"
             ],
             [
              0.4444444444444444,
              "#bd3786"
             ],
             [
              0.5555555555555556,
              "#d8576b"
             ],
             [
              0.6666666666666666,
              "#ed7953"
             ],
             [
              0.7777777777777778,
              "#fb9f3a"
             ],
             [
              0.8888888888888888,
              "#fdca26"
             ],
             [
              1,
              "#f0f921"
             ]
            ],
            "type": "histogram2d"
           }
          ],
          "histogram2dcontour": [
           {
            "colorbar": {
             "outlinewidth": 0,
             "ticks": ""
            },
            "colorscale": [
             [
              0,
              "#0d0887"
             ],
             [
              0.1111111111111111,
              "#46039f"
             ],
             [
              0.2222222222222222,
              "#7201a8"
             ],
             [
              0.3333333333333333,
              "#9c179e"
             ],
             [
              0.4444444444444444,
              "#bd3786"
             ],
             [
              0.5555555555555556,
              "#d8576b"
             ],
             [
              0.6666666666666666,
              "#ed7953"
             ],
             [
              0.7777777777777778,
              "#fb9f3a"
             ],
             [
              0.8888888888888888,
              "#fdca26"
             ],
             [
              1,
              "#f0f921"
             ]
            ],
            "type": "histogram2dcontour"
           }
          ],
          "mesh3d": [
           {
            "colorbar": {
             "outlinewidth": 0,
             "ticks": ""
            },
            "type": "mesh3d"
           }
          ],
          "parcoords": [
           {
            "line": {
             "colorbar": {
              "outlinewidth": 0,
              "ticks": ""
             }
            },
            "type": "parcoords"
           }
          ],
          "pie": [
           {
            "automargin": true,
            "type": "pie"
           }
          ],
          "scatter": [
           {
            "marker": {
             "colorbar": {
              "outlinewidth": 0,
              "ticks": ""
             }
            },
            "type": "scatter"
           }
          ],
          "scatter3d": [
           {
            "line": {
             "colorbar": {
              "outlinewidth": 0,
              "ticks": ""
             }
            },
            "marker": {
             "colorbar": {
              "outlinewidth": 0,
              "ticks": ""
             }
            },
            "type": "scatter3d"
           }
          ],
          "scattercarpet": [
           {
            "marker": {
             "colorbar": {
              "outlinewidth": 0,
              "ticks": ""
             }
            },
            "type": "scattercarpet"
           }
          ],
          "scattergeo": [
           {
            "marker": {
             "colorbar": {
              "outlinewidth": 0,
              "ticks": ""
             }
            },
            "type": "scattergeo"
           }
          ],
          "scattergl": [
           {
            "marker": {
             "colorbar": {
              "outlinewidth": 0,
              "ticks": ""
             }
            },
            "type": "scattergl"
           }
          ],
          "scattermapbox": [
           {
            "marker": {
             "colorbar": {
              "outlinewidth": 0,
              "ticks": ""
             }
            },
            "type": "scattermapbox"
           }
          ],
          "scatterpolar": [
           {
            "marker": {
             "colorbar": {
              "outlinewidth": 0,
              "ticks": ""
             }
            },
            "type": "scatterpolar"
           }
          ],
          "scatterpolargl": [
           {
            "marker": {
             "colorbar": {
              "outlinewidth": 0,
              "ticks": ""
             }
            },
            "type": "scatterpolargl"
           }
          ],
          "scatterternary": [
           {
            "marker": {
             "colorbar": {
              "outlinewidth": 0,
              "ticks": ""
             }
            },
            "type": "scatterternary"
           }
          ],
          "surface": [
           {
            "colorbar": {
             "outlinewidth": 0,
             "ticks": ""
            },
            "colorscale": [
             [
              0,
              "#0d0887"
             ],
             [
              0.1111111111111111,
              "#46039f"
             ],
             [
              0.2222222222222222,
              "#7201a8"
             ],
             [
              0.3333333333333333,
              "#9c179e"
             ],
             [
              0.4444444444444444,
              "#bd3786"
             ],
             [
              0.5555555555555556,
              "#d8576b"
             ],
             [
              0.6666666666666666,
              "#ed7953"
             ],
             [
              0.7777777777777778,
              "#fb9f3a"
             ],
             [
              0.8888888888888888,
              "#fdca26"
             ],
             [
              1,
              "#f0f921"
             ]
            ],
            "type": "surface"
           }
          ],
          "table": [
           {
            "cells": {
             "fill": {
              "color": "#EBF0F8"
             },
             "line": {
              "color": "white"
             }
            },
            "header": {
             "fill": {
              "color": "#C8D4E3"
             },
             "line": {
              "color": "white"
             }
            },
            "type": "table"
           }
          ]
         },
         "layout": {
          "annotationdefaults": {
           "arrowcolor": "#2a3f5f",
           "arrowhead": 0,
           "arrowwidth": 1
          },
          "autotypenumbers": "strict",
          "coloraxis": {
           "colorbar": {
            "outlinewidth": 0,
            "ticks": ""
           }
          },
          "colorscale": {
           "diverging": [
            [
             0,
             "#8e0152"
            ],
            [
             0.1,
             "#c51b7d"
            ],
            [
             0.2,
             "#de77ae"
            ],
            [
             0.3,
             "#f1b6da"
            ],
            [
             0.4,
             "#fde0ef"
            ],
            [
             0.5,
             "#f7f7f7"
            ],
            [
             0.6,
             "#e6f5d0"
            ],
            [
             0.7,
             "#b8e186"
            ],
            [
             0.8,
             "#7fbc41"
            ],
            [
             0.9,
             "#4d9221"
            ],
            [
             1,
             "#276419"
            ]
           ],
           "sequential": [
            [
             0,
             "#0d0887"
            ],
            [
             0.1111111111111111,
             "#46039f"
            ],
            [
             0.2222222222222222,
             "#7201a8"
            ],
            [
             0.3333333333333333,
             "#9c179e"
            ],
            [
             0.4444444444444444,
             "#bd3786"
            ],
            [
             0.5555555555555556,
             "#d8576b"
            ],
            [
             0.6666666666666666,
             "#ed7953"
            ],
            [
             0.7777777777777778,
             "#fb9f3a"
            ],
            [
             0.8888888888888888,
             "#fdca26"
            ],
            [
             1,
             "#f0f921"
            ]
           ],
           "sequentialminus": [
            [
             0,
             "#0d0887"
            ],
            [
             0.1111111111111111,
             "#46039f"
            ],
            [
             0.2222222222222222,
             "#7201a8"
            ],
            [
             0.3333333333333333,
             "#9c179e"
            ],
            [
             0.4444444444444444,
             "#bd3786"
            ],
            [
             0.5555555555555556,
             "#d8576b"
            ],
            [
             0.6666666666666666,
             "#ed7953"
            ],
            [
             0.7777777777777778,
             "#fb9f3a"
            ],
            [
             0.8888888888888888,
             "#fdca26"
            ],
            [
             1,
             "#f0f921"
            ]
           ]
          },
          "colorway": [
           "#636efa",
           "#EF553B",
           "#00cc96",
           "#ab63fa",
           "#FFA15A",
           "#19d3f3",
           "#FF6692",
           "#B6E880",
           "#FF97FF",
           "#FECB52"
          ],
          "font": {
           "color": "#2a3f5f"
          },
          "geo": {
           "bgcolor": "white",
           "lakecolor": "white",
           "landcolor": "#E5ECF6",
           "showlakes": true,
           "showland": true,
           "subunitcolor": "white"
          },
          "hoverlabel": {
           "align": "left"
          },
          "hovermode": "closest",
          "mapbox": {
           "style": "light"
          },
          "paper_bgcolor": "white",
          "plot_bgcolor": "#E5ECF6",
          "polar": {
           "angularaxis": {
            "gridcolor": "white",
            "linecolor": "white",
            "ticks": ""
           },
           "bgcolor": "#E5ECF6",
           "radialaxis": {
            "gridcolor": "white",
            "linecolor": "white",
            "ticks": ""
           }
          },
          "scene": {
           "xaxis": {
            "backgroundcolor": "#E5ECF6",
            "gridcolor": "white",
            "gridwidth": 2,
            "linecolor": "white",
            "showbackground": true,
            "ticks": "",
            "zerolinecolor": "white"
           },
           "yaxis": {
            "backgroundcolor": "#E5ECF6",
            "gridcolor": "white",
            "gridwidth": 2,
            "linecolor": "white",
            "showbackground": true,
            "ticks": "",
            "zerolinecolor": "white"
           },
           "zaxis": {
            "backgroundcolor": "#E5ECF6",
            "gridcolor": "white",
            "gridwidth": 2,
            "linecolor": "white",
            "showbackground": true,
            "ticks": "",
            "zerolinecolor": "white"
           }
          },
          "shapedefaults": {
           "line": {
            "color": "#2a3f5f"
           }
          },
          "ternary": {
           "aaxis": {
            "gridcolor": "white",
            "linecolor": "white",
            "ticks": ""
           },
           "baxis": {
            "gridcolor": "white",
            "linecolor": "white",
            "ticks": ""
           },
           "bgcolor": "#E5ECF6",
           "caxis": {
            "gridcolor": "white",
            "linecolor": "white",
            "ticks": ""
           }
          },
          "title": {
           "x": 0.05
          },
          "xaxis": {
           "automargin": true,
           "gridcolor": "white",
           "linecolor": "white",
           "ticks": "",
           "title": {
            "standoff": 15
           },
           "zerolinecolor": "white",
           "zerolinewidth": 2
          },
          "yaxis": {
           "automargin": true,
           "gridcolor": "white",
           "linecolor": "white",
           "ticks": "",
           "title": {
            "standoff": 15
           },
           "zerolinecolor": "white",
           "zerolinewidth": 2
          }
         }
        },
        "width": 450,
        "xaxis": {
         "mirror": "all",
         "range": [
          5,
          25
         ],
         "showline": true,
         "title": {
          "font": {
           "size": 13
          }
         },
         "zeroline": false
        },
        "yaxis": {
         "mirror": "all",
         "showline": true,
         "title": {
          "font": {
           "size": 13
          }
         },
         "zeroline": false
        }
       }
      },
      "text/html": [
       "<div>                            <div id=\"2ed03263-4b80-4779-8a7c-1cfabc53b44f\" class=\"plotly-graph-div\" style=\"height:420px; width:450px;\"></div>            <script type=\"text/javascript\">                require([\"plotly\"], function(Plotly) {                    window.PLOTLYENV=window.PLOTLYENV || {};                                    if (document.getElementById(\"2ed03263-4b80-4779-8a7c-1cfabc53b44f\")) {                    Plotly.newPlot(                        \"2ed03263-4b80-4779-8a7c-1cfabc53b44f\",                        [{\"line\": {\"color\": \"black\", \"dash\": \"solid\", \"width\": 2}, \"mode\": \"lines\", \"name\": \"T = -91\\u00b0C\", \"type\": \"scatter\", \"uid\": \"f0640e4b-990e-4641-a46d-d8a5d786a223\", \"x\": [5, 6, 7, 8, 9, 10, 11, 12, 13, 14, 15, 16, 17, 18, 19, 20, 21, 22, 23, 24, 25], \"y\": [0.0, 0.0, 0.0, 0.0, 0.0, 0.0, 0.0, 0.0, 0.0, 0.0, 0.0, 0.0, 0.0, 0.0, 0.0, 0.0, 0.0, 0.0, 0.0, 0.0, 0.0]}, {\"line\": {\"color\": \"black\", \"dash\": \"solid\", \"width\": 2}, \"mode\": \"lines\", \"name\": \"T = -91\\u00b0C\", \"type\": \"scatter\", \"uid\": \"67edb628-d3f2-44b4-9b8e-169030f04751\", \"x\": [5, 6, 7, 8, 9, 10, 11, 12, 13, 14, 15, 16, 17, 18, 19, 20, 21, 22, 23, 24, 25], \"y\": [0.0, 0.0, 0.0, 0.0, 0.0, 0.0, 0.0, 0.0, 0.0, 0.0, 0.0, 0.0, 0.0, 0.0, 0.0, 0.0, 0.0, 0.0, 0.0, 0.0, 0.0]}, {\"line\": {\"color\": \"black\", \"dash\": \"solid\", \"width\": 2}, \"mode\": \"lines\", \"name\": \"T = -91\\u00b0C\", \"type\": \"scatter\", \"uid\": \"23e3ef83-14bc-415d-81f0-c2924b4ef6a2\", \"x\": [5, 6, 7, 8, 9, 10, 11, 12, 13, 14, 15, 16, 17, 18, 19, 20, 21, 22, 23, 24, 25], \"y\": [0.0, 0.0, 0.0, 0.0, 0.0, 0.0, 0.0, 0.0, 0.0, 0.0, 0.0, 0.0, 0.0, 0.0, 0.0, 0.0, 0.0, 0.0, 0.0, 0.0, 0.0]}, {\"line\": {\"color\": \"black\", \"dash\": \"solid\", \"width\": 2}, \"mode\": \"lines\", \"name\": \"T = -91\\u00b0C\", \"type\": \"scatter\", \"uid\": \"2acdce9d-2d17-4575-b29f-9420199980c9\", \"x\": [5, 6, 7, 8, 9, 10, 11, 12, 13, 14, 15, 16, 17, 18, 19, 20, 21, 22, 23, 24, 25], \"y\": [0.0, 0.0, 0.0, 0.0, 0.0, 0.0, 0.0, 0.0, 0.0, 0.0, 0.0, 0.0, 0.0, 0.0, 0.0, 0.0, 0.0, 0.0, 0.0, 0.0, 0.0]}, {\"line\": {\"color\": \"black\", \"dash\": \"solid\", \"width\": 2}, \"mode\": \"lines\", \"name\": \"T = -91\\u00b0C\", \"type\": \"scatter\", \"uid\": \"5fedddd9-f155-4752-b0f0-d98c80653b4c\", \"x\": [5, 6, 7, 8, 9, 10, 11, 12, 13, 14, 15, 16, 17, 18, 19, 20, 21, 22, 23, 24, 25], \"y\": [0.0, 0.0, 0.0, 0.0, 0.0, 0.0, 0.0, 0.0, 0.0, 0.0, 0.0, 0.0, 0.0, 0.0, 0.0, 0.0, 0.0, 0.0, 0.0, 0.0, 0.0]}, {\"line\": {\"color\": \"black\", \"dash\": \"solid\", \"width\": 2}, \"mode\": \"lines\", \"name\": \"T = -91\\u00b0C\", \"type\": \"scatter\", \"uid\": \"d9f3a61d-6ed5-483e-b382-234f6000aaee\", \"x\": [5, 6, 7, 8, 9, 10, 11, 12, 13, 14, 15, 16, 17, 18, 19, 20, 21, 22, 23, 24, 25], \"y\": [0.0, 0.0, 0.0, 0.0, 0.0, 0.0, 0.0, 0.0, 0.0, 0.0, 0.0, 0.0, 0.0, 0.0, 0.0, 0.0, 0.0, 0.0, 0.0, 0.0, 0.0]}, {\"line\": {\"color\": \"black\", \"dash\": \"solid\", \"width\": 2}, \"mode\": \"lines\", \"name\": \"T = -91\\u00b0C\", \"type\": \"scatter\", \"uid\": \"274c927e-b077-4f4c-9d06-9d6312b1a9ef\", \"x\": [5, 6, 7, 8, 9, 10, 11, 12, 13, 14, 15, 16, 17, 18, 19, 20, 21, 22, 23, 24, 25], \"y\": [0.0, 0.0, 0.0, 0.0, 0.0, 0.0, 0.0, 0.0, 0.0, 0.0, 0.0, 0.0, 0.0, 0.0, 0.0, 0.0, 0.0, 0.0, 0.0, 0.0, 0.0]}, {\"line\": {\"color\": \"black\", \"dash\": \"solid\", \"width\": 2}, \"mode\": \"lines\", \"name\": \"T = -91\\u00b0C\", \"type\": \"scatter\", \"uid\": \"f76a7f26-3a81-47f5-b496-aa1a863d61e6\", \"x\": [5, 6, 7, 8, 9, 10, 11, 12, 13, 14, 15, 16, 17, 18, 19, 20, 21, 22, 23, 24, 25], \"y\": [0.0, 0.0, 0.0, 0.0, 0.0, 0.0, 0.0, 0.0, 0.0, 0.0, 0.0, 0.0, 0.0, 0.0, 0.0, 0.0, 0.0, 0.0, 0.0, 0.0, 0.0]}, {\"line\": {\"color\": \"black\", \"dash\": \"solid\", \"width\": 2}, \"mode\": \"lines\", \"name\": \"T = -91\\u00b0C\", \"type\": \"scatter\", \"uid\": \"dfdd7fb2-23cf-454c-b1e6-8690d31e65f6\", \"x\": [5, 6, 7, 8, 9, 10, 11, 12, 13, 14, 15, 16, 17, 18, 19, 20, 21, 22, 23, 24, 25], \"y\": [0.0, 0.0, 0.0, 0.0, 0.0, 0.0, 0.0, 0.0, 0.0, 0.0, 0.0, 0.0, 0.0, 0.0, 0.0, 0.0, 0.0, 0.0, 0.0, 0.0, 0.0]}, {\"line\": {\"color\": \"black\", \"dash\": \"solid\", \"width\": 2}, \"mode\": \"lines\", \"name\": \"T = -91\\u00b0C\", \"type\": \"scatter\", \"uid\": \"65a868f9-22c2-4ada-b9fa-081c27fac4f5\", \"x\": [5, 6, 7, 8, 9, 10, 11, 12, 13, 14, 15, 16, 17, 18, 19, 20, 21, 22, 23, 24, 25], \"y\": [0.0, 0.0, 0.0, 0.0, 0.0, 0.0, 0.0, 0.0, 0.0, 0.0, 0.0, 0.0, 0.0, 0.0, 0.0, 0.0, 0.0, 0.0, 0.0, 0.0, 0.0]}, {\"line\": {\"color\": \"black\", \"dash\": \"solid\", \"width\": 2}, \"mode\": \"lines\", \"name\": \"T = -91\\u00b0C\", \"type\": \"scatter\", \"uid\": \"609c9b49-f4b4-471b-9a32-51183ad997d8\", \"x\": [5, 6, 7, 8, 9, 10, 11, 12, 13, 14, 15, 16, 17, 18, 19, 20, 21, 22, 23, 24, 25], \"y\": [0.0, 0.0, 0.0, 0.0, 0.0, 0.0, 0.0, 0.0, 0.0, 0.0, 0.0, 0.0, 0.0, 0.0, 0.0, 0.0, 0.0, 0.0, 0.0, 0.0, 0.0]}, {\"line\": {\"color\": \"black\", \"dash\": \"solid\", \"width\": 2}, \"mode\": \"lines\", \"name\": \"T = -91\\u00b0C\", \"type\": \"scatter\", \"uid\": \"3b0fd790-e563-44b6-8d43-90c39fbc35dc\", \"x\": [5, 6, 7, 8, 9, 10, 11, 12, 13, 14, 15, 16, 17, 18, 19, 20, 21, 22, 23, 24, 25], \"y\": [0.0, 0.0, 0.0, 0.0, 0.0, 0.0, 0.0, 0.0, 0.0, 0.0, 0.0, 0.0, 0.0, 0.0, 0.0, 0.0, 0.0, 0.0, 0.0, 0.0, 0.0]}, {\"line\": {\"color\": \"black\", \"dash\": \"solid\", \"width\": 2}, \"mode\": \"lines\", \"name\": \"T = -91\\u00b0C\", \"type\": \"scatter\", \"uid\": \"d729ff98-d268-4aed-b340-5643836fdbfa\", \"x\": [5, 6, 7, 8, 9, 10, 11, 12, 13, 14, 15, 16, 17, 18, 19, 20, 21, 22, 23, 24, 25], \"y\": [0.0, 0.0, 0.0, 0.0, 0.0, 0.0, 0.0, 0.0, 0.0, 0.0, 0.0, 0.0, 0.0, 0.0, 0.0, 0.0, 0.0, 0.0, 0.0, 0.0, 0.0]}, {\"line\": {\"color\": \"black\", \"dash\": \"solid\", \"width\": 2}, \"mode\": \"lines\", \"name\": \"T = -91\\u00b0C\", \"type\": \"scatter\", \"uid\": \"19745920-b6dd-42cd-91cd-bf767fd9ed61\", \"x\": [5, 6, 7, 8, 9, 10, 11, 12, 13, 14, 15, 16, 17, 18, 19, 20, 21, 22, 23, 24, 25], \"y\": [0.0, 0.0, 0.0, 0.0, 0.0, 0.0, 0.0, 0.0, 0.0, 0.0, 0.0, 0.0, 0.0, 0.0, 0.0, 0.0, 0.0, 0.0, 0.0, 0.0, 0.0]}, {\"line\": {\"color\": \"black\", \"dash\": \"solid\", \"width\": 2}, \"mode\": \"lines\", \"name\": \"T = -91\\u00b0C\", \"type\": \"scatter\", \"uid\": \"9d0f2330-beb8-4402-b4b0-800ece5d658e\", \"x\": [5, 6, 7, 8, 9, 10, 11, 12, 13, 14, 15, 16, 17, 18, 19, 20, 21, 22, 23, 24, 25], \"y\": [0.0, 0.0, 0.0, 0.0, 0.0, 0.0, 0.0, 0.0, 0.0, 0.0, 0.0, 0.0, 0.0, 0.0, 0.0, 0.0, 0.0, 0.0, 0.0, 0.0, 0.0]}, {\"line\": {\"color\": \"black\", \"dash\": \"solid\", \"width\": 2}, \"mode\": \"lines\", \"name\": \"T = -91\\u00b0C\", \"type\": \"scatter\", \"uid\": \"8d3893a8-51a7-47af-87a3-03dcc5989683\", \"x\": [5, 6, 7, 8, 9, 10, 11, 12, 13, 14, 15, 16, 17, 18, 19, 20, 21, 22, 23, 24, 25], \"y\": [0.0, 0.0, 0.0, 0.0, 0.0, 0.0, 0.0, 0.0, 0.0, 0.0, 0.0, 0.0, 0.0, 0.0, 0.0, 0.0, 0.0, 0.0, 0.0, 0.0, 0.0]}, {\"line\": {\"color\": \"black\", \"dash\": \"solid\", \"width\": 2}, \"mode\": \"lines\", \"name\": \"T = -91\\u00b0C\", \"type\": \"scatter\", \"uid\": \"3e525a76-595e-4826-ba31-e391aa188b41\", \"x\": [5, 6, 7, 8, 9, 10, 11, 12, 13, 14, 15, 16, 17, 18, 19, 20, 21, 22, 23, 24, 25], \"y\": [0.0, 0.0, 0.0, 0.0, 0.0, 0.0, 0.0, 0.0, 0.0, 0.0, 0.0, 0.0, 0.0, 0.0, 0.0, 0.0, 0.0, 0.0, 0.0, 0.0, 0.0]}, {\"line\": {\"color\": \"black\", \"dash\": \"solid\", \"width\": 2}, \"mode\": \"lines\", \"name\": \"T = -91\\u00b0C\", \"type\": \"scatter\", \"uid\": \"93ff6023-3b8c-4350-b977-b77b8ab815e3\", \"x\": [5, 6, 7, 8, 9, 10, 11, 12, 13, 14, 15, 16, 17, 18, 19, 20, 21, 22, 23, 24, 25], \"y\": [0.0, 0.0, 0.0, 0.0, 0.0, 0.0, 0.0, 0.0, 0.0, 0.0, 0.0, 0.0, 0.0, 0.0, 0.0, 0.0, 0.0, 0.0, 0.0, 0.0, 0.0]}, {\"line\": {\"color\": \"black\", \"dash\": \"solid\", \"width\": 2}, \"mode\": \"lines\", \"name\": \"T = -91\\u00b0C\", \"type\": \"scatter\", \"uid\": \"1f1fef20-45ee-4b31-8c8f-6c687ee4d22c\", \"x\": [5, 6, 7, 8, 9, 10, 11, 12, 13, 14, 15, 16, 17, 18, 19, 20, 21, 22, 23, 24, 25], \"y\": [0.0, 0.0, 0.0, 0.0, 0.0, 0.0, 0.0, 0.0, 0.0, 0.0, 0.0, 0.0, 0.0, 0.0, 0.0, 0.0, 0.0, 0.0, 0.0, 0.0, 0.0]}, {\"line\": {\"color\": \"black\", \"dash\": \"solid\", \"width\": 2}, \"mode\": \"lines\", \"name\": \"T = -91\\u00b0C\", \"type\": \"scatter\", \"uid\": \"4dc861d6-2102-472a-be76-6fb187e34958\", \"x\": [5, 6, 7, 8, 9, 10, 11, 12, 13, 14, 15, 16, 17, 18, 19, 20, 21, 22, 23, 24, 25], \"y\": [0.0, 0.0, 0.0, 0.0, 0.0, 0.0, 0.0, 0.0, 0.0, 0.0, 0.0, 0.0, 0.0, 0.0, 0.0, 0.0, 0.0, 0.0, 0.0, 0.0, 0.0]}, {\"line\": {\"color\": \"black\", \"dash\": \"solid\", \"width\": 2}, \"mode\": \"lines\", \"name\": \"T = -91\\u00b0C\", \"type\": \"scatter\", \"uid\": \"9fcf1694-826b-402c-ba90-75cd4b9aebfa\", \"x\": [5, 6, 7, 8, 9, 10, 11, 12, 13, 14, 15, 16, 17, 18, 19, 20, 21, 22, 23, 24, 25], \"y\": [0.0, 0.0, 0.0, 0.0, 0.0, 0.0, 0.0, 0.0, 0.0, 0.0, 0.0, 0.0, 0.0, 0.0, 0.0, 0.0, 0.0, 0.0, 0.0, 0.0, 0.0]}, {\"line\": {\"color\": \"blue\", \"dash\": \"solid\", \"width\": 2}, \"mode\": \"lines\", \"name\": \"T = -60\\u00b0C\", \"type\": \"scatter\", \"uid\": \"28a6dd27-90e0-47d9-ba93-ffd053eb92cc\", \"x\": [5, 6, 7, 8, 9, 10, 11, 12, 13, 14, 15, 16, 17, 18, 19, 20, 21, 22, 23, 24, 25], \"y\": [1.7220523911985641, -0.07974091932423914, -1.3352155187275656, -2.2371494337173488, -2.898053333611485, -3.3889932393321267, -3.7575399593201024, -4.036824703922626, -4.250494898129145, -4.415656790318987, -4.544762200319901, -4.646895635883945, -4.72868929352636, -4.794987929175789, -4.849335946485572, -4.894334329953121, -4.931901296381895, -4.963461755795323, -4.990084410345767, -5.012580591697212, -5.0315753114540005]}, {\"line\": {\"color\": \"blue\", \"dash\": \"solid\", \"width\": 2}, \"mode\": \"lines\", \"name\": \"T = -60\\u00b0C\", \"type\": \"scatter\", \"uid\": \"e4bc166f-5f85-4804-af28-80ccbdd2753b\", \"x\": [5, 6, 7, 8, 9, 10, 11, 12, 13, 14, 15, 16, 17, 18, 19, 20, 21, 22, 23, 24, 25], \"y\": [1.7220523911985641, -0.07974091932423914, -1.3352155187275656, -2.2371494337173488, -2.898053333611485, -3.3889932393321267, -3.7575399593201024, -4.036824703922626, -4.250494898129145, -4.415656790318987, -4.544762200319901, -4.646895635883945, -4.72868929352636, -4.794987929175789, -4.849335946485572, -4.894334329953121, -4.931901296381895, -4.963461755795323, -4.990084410345767, -5.012580591697212, -5.0315753114540005]}, {\"line\": {\"color\": \"blue\", \"dash\": \"solid\", \"width\": 2}, \"mode\": \"lines\", \"name\": \"T = -60\\u00b0C\", \"type\": \"scatter\", \"uid\": \"ae59089f-0f1d-4ead-b588-3cc3d228cf60\", \"x\": [5, 6, 7, 8, 9, 10, 11, 12, 13, 14, 15, 16, 17, 18, 19, 20, 21, 22, 23, 24, 25], \"y\": [1.7220523911985641, -0.07974091932423914, -1.3352155187275656, -2.2371494337173488, -2.898053333611485, -3.3889932393321267, -3.7575399593201024, -4.036824703922626, -4.250494898129145, -4.415656790318987, -4.544762200319901, -4.646895635883945, -4.72868929352636, -4.794987929175789, -4.849335946485572, -4.894334329953121, -4.931901296381895, -4.963461755795323, -4.990084410345767, -5.012580591697212, -5.0315753114540005]}, {\"line\": {\"color\": \"blue\", \"dash\": \"solid\", \"width\": 2}, \"mode\": \"lines\", \"name\": \"T = -60\\u00b0C\", \"type\": \"scatter\", \"uid\": \"b217ecef-14ac-4aa5-949e-fcf9912e8082\", \"x\": [5, 6, 7, 8, 9, 10, 11, 12, 13, 14, 15, 16, 17, 18, 19, 20, 21, 22, 23, 24, 25], \"y\": [1.7220523911985641, -0.07974091932423914, -1.3352155187275656, -2.2371494337173488, -2.898053333611485, -3.3889932393321267, -3.7575399593201024, -4.036824703922626, -4.250494898129145, -4.415656790318987, -4.544762200319901, -4.646895635883945, -4.72868929352636, -4.794987929175789, -4.849335946485572, -4.894334329953121, -4.931901296381895, -4.963461755795323, -4.990084410345767, -5.012580591697212, -5.0315753114540005]}, {\"line\": {\"color\": \"blue\", \"dash\": \"solid\", \"width\": 2}, \"mode\": \"lines\", \"name\": \"T = -60\\u00b0C\", \"type\": \"scatter\", \"uid\": \"db3f40cb-f00b-424c-a6d2-181afe240280\", \"x\": [5, 6, 7, 8, 9, 10, 11, 12, 13, 14, 15, 16, 17, 18, 19, 20, 21, 22, 23, 24, 25], \"y\": [1.7220523911985641, -0.07974091932423914, -1.3352155187275656, -2.2371494337173488, -2.898053333611485, -3.3889932393321267, -3.7575399593201024, -4.036824703922626, -4.250494898129145, -4.415656790318987, -4.544762200319901, -4.646895635883945, -4.72868929352636, -4.794987929175789, -4.849335946485572, -4.894334329953121, -4.931901296381895, -4.963461755795323, -4.990084410345767, -5.012580591697212, -5.0315753114540005]}, {\"line\": {\"color\": \"blue\", \"dash\": \"solid\", \"width\": 2}, \"mode\": \"lines\", \"name\": \"T = -60\\u00b0C\", \"type\": \"scatter\", \"uid\": \"eaec988f-6e09-4f75-a8c2-d4fd8ae373c8\", \"x\": [5, 6, 7, 8, 9, 10, 11, 12, 13, 14, 15, 16, 17, 18, 19, 20, 21, 22, 23, 24, 25], \"y\": [1.7220523911985641, -0.07974091932423914, -1.3352155187275656, -2.2371494337173488, -2.898053333611485, -3.3889932393321267, -3.7575399593201024, -4.036824703922626, -4.250494898129145, -4.415656790318987, -4.544762200319901, -4.646895635883945, -4.72868929352636, -4.794987929175789, -4.849335946485572, -4.894334329953121, -4.931901296381895, -4.963461755795323, -4.990084410345767, -5.012580591697212, -5.0315753114540005]}, {\"line\": {\"color\": \"blue\", \"dash\": \"solid\", \"width\": 2}, \"mode\": \"lines\", \"name\": \"T = -60\\u00b0C\", \"type\": \"scatter\", \"uid\": \"6e3034e6-d157-4668-bc8c-84a6414a5a7a\", \"x\": [5, 6, 7, 8, 9, 10, 11, 12, 13, 14, 15, 16, 17, 18, 19, 20, 21, 22, 23, 24, 25], \"y\": [1.7220523911985641, -0.07974091932423914, -1.3352155187275656, -2.2371494337173488, -2.898053333611485, -3.3889932393321267, -3.7575399593201024, -4.036824703922626, -4.250494898129145, -4.415656790318987, -4.544762200319901, -4.646895635883945, -4.72868929352636, -4.794987929175789, -4.849335946485572, -4.894334329953121, -4.931901296381895, -4.963461755795323, -4.990084410345767, -5.012580591697212, -5.0315753114540005]}, {\"line\": {\"color\": \"blue\", \"dash\": \"solid\", \"width\": 2}, \"mode\": \"lines\", \"name\": \"T = -60\\u00b0C\", \"type\": \"scatter\", \"uid\": \"0707b4bd-874a-46b9-8ccf-bdc14ff8bf78\", \"x\": [5, 6, 7, 8, 9, 10, 11, 12, 13, 14, 15, 16, 17, 18, 19, 20, 21, 22, 23, 24, 25], \"y\": [1.7220523911985641, -0.07974091932423914, -1.3352155187275656, -2.2371494337173488, -2.898053333611485, -3.3889932393321267, -3.7575399593201024, -4.036824703922626, -4.250494898129145, -4.415656790318987, -4.544762200319901, -4.646895635883945, -4.72868929352636, -4.794987929175789, -4.849335946485572, -4.894334329953121, -4.931901296381895, -4.963461755795323, -4.990084410345767, -5.012580591697212, -5.0315753114540005]}, {\"line\": {\"color\": \"blue\", \"dash\": \"solid\", \"width\": 2}, \"mode\": \"lines\", \"name\": \"T = -60\\u00b0C\", \"type\": \"scatter\", \"uid\": \"9a58c333-bdc9-4583-8eda-d1cb4936bbc6\", \"x\": [5, 6, 7, 8, 9, 10, 11, 12, 13, 14, 15, 16, 17, 18, 19, 20, 21, 22, 23, 24, 25], \"y\": [1.7220523911985641, -0.07974091932423914, -1.3352155187275656, -2.2371494337173488, -2.898053333611485, -3.3889932393321267, -3.7575399593201024, -4.036824703922626, -4.250494898129145, -4.415656790318987, -4.544762200319901, -4.646895635883945, -4.72868929352636, -4.794987929175789, -4.849335946485572, -4.894334329953121, -4.931901296381895, -4.963461755795323, -4.990084410345767, -5.012580591697212, -5.0315753114540005]}, {\"line\": {\"color\": \"blue\", \"dash\": \"solid\", \"width\": 2}, \"mode\": \"lines\", \"name\": \"T = -60\\u00b0C\", \"type\": \"scatter\", \"uid\": \"33c06232-5e7c-460d-aa9e-6a9950cfc9b4\", \"x\": [5, 6, 7, 8, 9, 10, 11, 12, 13, 14, 15, 16, 17, 18, 19, 20, 21, 22, 23, 24, 25], \"y\": [1.7220523911985641, -0.07974091932423914, -1.3352155187275656, -2.2371494337173488, -2.898053333611485, -3.3889932393321267, -3.7575399593201024, -4.036824703922626, -4.250494898129145, -4.415656790318987, -4.544762200319901, -4.646895635883945, -4.72868929352636, -4.794987929175789, -4.849335946485572, -4.894334329953121, -4.931901296381895, -4.963461755795323, -4.990084410345767, -5.012580591697212, -5.0315753114540005]}, {\"line\": {\"color\": \"blue\", \"dash\": \"solid\", \"width\": 2}, \"mode\": \"lines\", \"name\": \"T = -60\\u00b0C\", \"type\": \"scatter\", \"uid\": \"ebfe3568-b617-4ece-a49c-78c4ea8ab667\", \"x\": [5, 6, 7, 8, 9, 10, 11, 12, 13, 14, 15, 16, 17, 18, 19, 20, 21, 22, 23, 24, 25], \"y\": [1.7220523911985641, -0.07974091932423914, -1.3352155187275656, -2.2371494337173488, -2.898053333611485, -3.3889932393321267, -3.7575399593201024, -4.036824703922626, -4.250494898129145, -4.415656790318987, -4.544762200319901, -4.646895635883945, -4.72868929352636, -4.794987929175789, -4.849335946485572, -4.894334329953121, -4.931901296381895, -4.963461755795323, -4.990084410345767, -5.012580591697212, -5.0315753114540005]}, {\"line\": {\"color\": \"blue\", \"dash\": \"solid\", \"width\": 2}, \"mode\": \"lines\", \"name\": \"T = -60\\u00b0C\", \"type\": \"scatter\", \"uid\": \"006f6b8b-d6f9-4f25-a00e-24c4158b582d\", \"x\": [5, 6, 7, 8, 9, 10, 11, 12, 13, 14, 15, 16, 17, 18, 19, 20, 21, 22, 23, 24, 25], \"y\": [1.7220523911985641, -0.07974091932423914, -1.3352155187275656, -2.2371494337173488, -2.898053333611485, -3.3889932393321267, -3.7575399593201024, -4.036824703922626, -4.250494898129145, -4.415656790318987, -4.544762200319901, -4.646895635883945, -4.72868929352636, -4.794987929175789, -4.849335946485572, -4.894334329953121, -4.931901296381895, -4.963461755795323, -4.990084410345767, -5.012580591697212, -5.0315753114540005]}, {\"line\": {\"color\": \"blue\", \"dash\": \"solid\", \"width\": 2}, \"mode\": \"lines\", \"name\": \"T = -60\\u00b0C\", \"type\": \"scatter\", \"uid\": \"b4ed8ffe-11e7-4f9d-83ca-9ab9e6967430\", \"x\": [5, 6, 7, 8, 9, 10, 11, 12, 13, 14, 15, 16, 17, 18, 19, 20, 21, 22, 23, 24, 25], \"y\": [1.7220523911985641, -0.07974091932423914, -1.3352155187275656, -2.2371494337173488, -2.898053333611485, -3.3889932393321267, -3.7575399593201024, -4.036824703922626, -4.250494898129145, -4.415656790318987, -4.544762200319901, -4.646895635883945, -4.72868929352636, -4.794987929175789, -4.849335946485572, -4.894334329953121, -4.931901296381895, -4.963461755795323, -4.990084410345767, -5.012580591697212, -5.0315753114540005]}, {\"line\": {\"color\": \"blue\", \"dash\": \"solid\", \"width\": 2}, \"mode\": \"lines\", \"name\": \"T = -60\\u00b0C\", \"type\": \"scatter\", \"uid\": \"8f3ab6a9-d076-4920-ae14-49d4478766ec\", \"x\": [5, 6, 7, 8, 9, 10, 11, 12, 13, 14, 15, 16, 17, 18, 19, 20, 21, 22, 23, 24, 25], \"y\": [1.7220523911985641, -0.07974091932423914, -1.3352155187275656, -2.2371494337173488, -2.898053333611485, -3.3889932393321267, -3.7575399593201024, -4.036824703922626, -4.250494898129145, -4.415656790318987, -4.544762200319901, -4.646895635883945, -4.72868929352636, -4.794987929175789, -4.849335946485572, -4.894334329953121, -4.931901296381895, -4.963461755795323, -4.990084410345767, -5.012580591697212, -5.0315753114540005]}, {\"line\": {\"color\": \"blue\", \"dash\": \"solid\", \"width\": 2}, \"mode\": \"lines\", \"name\": \"T = -60\\u00b0C\", \"type\": \"scatter\", \"uid\": \"e757495d-9896-4e12-bec9-51d1d5e8fa68\", \"x\": [5, 6, 7, 8, 9, 10, 11, 12, 13, 14, 15, 16, 17, 18, 19, 20, 21, 22, 23, 24, 25], \"y\": [1.7220523911985641, -0.07974091932423914, -1.3352155187275656, -2.2371494337173488, -2.898053333611485, -3.3889932393321267, -3.7575399593201024, -4.036824703922626, -4.250494898129145, -4.415656790318987, -4.544762200319901, -4.646895635883945, -4.72868929352636, -4.794987929175789, -4.849335946485572, -4.894334329953121, -4.931901296381895, -4.963461755795323, -4.990084410345767, -5.012580591697212, -5.0315753114540005]}, {\"line\": {\"color\": \"blue\", \"dash\": \"solid\", \"width\": 2}, \"mode\": \"lines\", \"name\": \"T = -60\\u00b0C\", \"type\": \"scatter\", \"uid\": \"d460ddea-d4d9-4f74-9939-bcdaeee5cb72\", \"x\": [5, 6, 7, 8, 9, 10, 11, 12, 13, 14, 15, 16, 17, 18, 19, 20, 21, 22, 23, 24, 25], \"y\": [1.7220523911985641, -0.07974091932423914, -1.3352155187275656, -2.2371494337173488, -2.898053333611485, -3.3889932393321267, -3.7575399593201024, -4.036824703922626, -4.250494898129145, -4.415656790318987, -4.544762200319901, -4.646895635883945, -4.72868929352636, -4.794987929175789, -4.849335946485572, -4.894334329953121, -4.931901296381895, -4.963461755795323, -4.990084410345767, -5.012580591697212, -5.0315753114540005]}, {\"line\": {\"color\": \"blue\", \"dash\": \"solid\", \"width\": 2}, \"mode\": \"lines\", \"name\": \"T = -60\\u00b0C\", \"type\": \"scatter\", \"uid\": \"5746c23e-7434-4d0f-ae0e-692f9a1958e1\", \"x\": [5, 6, 7, 8, 9, 10, 11, 12, 13, 14, 15, 16, 17, 18, 19, 20, 21, 22, 23, 24, 25], \"y\": [1.7220523911985641, -0.07974091932423914, -1.3352155187275656, -2.2371494337173488, -2.898053333611485, -3.3889932393321267, -3.7575399593201024, -4.036824703922626, -4.250494898129145, -4.415656790318987, -4.544762200319901, -4.646895635883945, -4.72868929352636, -4.794987929175789, -4.849335946485572, -4.894334329953121, -4.931901296381895, -4.963461755795323, -4.990084410345767, -5.012580591697212, -5.0315753114540005]}, {\"line\": {\"color\": \"blue\", \"dash\": \"solid\", \"width\": 2}, \"mode\": \"lines\", \"name\": \"T = -60\\u00b0C\", \"type\": \"scatter\", \"uid\": \"50c45afb-7fa1-4628-a8f9-73250f6582ea\", \"x\": [5, 6, 7, 8, 9, 10, 11, 12, 13, 14, 15, 16, 17, 18, 19, 20, 21, 22, 23, 24, 25], \"y\": [1.7220523911985641, -0.07974091932423914, -1.3352155187275656, -2.2371494337173488, -2.898053333611485, -3.3889932393321267, -3.7575399593201024, -4.036824703922626, -4.250494898129145, -4.415656790318987, -4.544762200319901, -4.646895635883945, -4.72868929352636, -4.794987929175789, -4.849335946485572, -4.894334329953121, -4.931901296381895, -4.963461755795323, -4.990084410345767, -5.012580591697212, -5.0315753114540005]}, {\"line\": {\"color\": \"blue\", \"dash\": \"solid\", \"width\": 2}, \"mode\": \"lines\", \"name\": \"T = -60\\u00b0C\", \"type\": \"scatter\", \"uid\": \"01027d8f-d5cd-416b-9eba-88fc7ebcdbb5\", \"x\": [5, 6, 7, 8, 9, 10, 11, 12, 13, 14, 15, 16, 17, 18, 19, 20, 21, 22, 23, 24, 25], \"y\": [1.7220523911985641, -0.07974091932423914, -1.3352155187275656, -2.2371494337173488, -2.898053333611485, -3.3889932393321267, -3.7575399593201024, -4.036824703922626, -4.250494898129145, -4.415656790318987, -4.544762200319901, -4.646895635883945, -4.72868929352636, -4.794987929175789, -4.849335946485572, -4.894334329953121, -4.931901296381895, -4.963461755795323, -4.990084410345767, -5.012580591697212, -5.0315753114540005]}, {\"line\": {\"color\": \"blue\", \"dash\": \"solid\", \"width\": 2}, \"mode\": \"lines\", \"name\": \"T = -60\\u00b0C\", \"type\": \"scatter\", \"uid\": \"7820273a-8c4e-4f4d-b568-7594e4b09b3f\", \"x\": [5, 6, 7, 8, 9, 10, 11, 12, 13, 14, 15, 16, 17, 18, 19, 20, 21, 22, 23, 24, 25], \"y\": [1.7220523911985641, -0.07974091932423914, -1.3352155187275656, -2.2371494337173488, -2.898053333611485, -3.3889932393321267, -3.7575399593201024, -4.036824703922626, -4.250494898129145, -4.415656790318987, -4.544762200319901, -4.646895635883945, -4.72868929352636, -4.794987929175789, -4.849335946485572, -4.894334329953121, -4.931901296381895, -4.963461755795323, -4.990084410345767, -5.012580591697212, -5.0315753114540005]}, {\"line\": {\"color\": \"blue\", \"dash\": \"solid\", \"width\": 2}, \"mode\": \"lines\", \"name\": \"T = -60\\u00b0C\", \"type\": \"scatter\", \"uid\": \"703a4819-f682-46e7-8f15-f4617c2cdbc3\", \"x\": [5, 6, 7, 8, 9, 10, 11, 12, 13, 14, 15, 16, 17, 18, 19, 20, 21, 22, 23, 24, 25], \"y\": [1.7220523911985641, -0.07974091932423914, -1.3352155187275656, -2.2371494337173488, -2.898053333611485, -3.3889932393321267, -3.7575399593201024, -4.036824703922626, -4.250494898129145, -4.415656790318987, -4.544762200319901, -4.646895635883945, -4.72868929352636, -4.794987929175789, -4.849335946485572, -4.894334329953121, -4.931901296381895, -4.963461755795323, -4.990084410345767, -5.012580591697212, -5.0315753114540005]}, {\"line\": {\"color\": \"green\", \"dash\": \"solid\", \"width\": 2}, \"mode\": \"lines\", \"name\": \"T = -40\\u00b0C\", \"type\": \"scatter\", \"uid\": \"b0668c45-81c0-488b-99b9-ed4e4f08d8d8\", \"x\": [5, 6, 7, 8, 9, 10, 11, 12, 13, 14, 15, 16, 17, 18, 19, 20, 21, 22, 23, 24, 25], \"y\": [0.8494790136756644, -1.1552441501712467, -2.5690232487377256, -3.604433589991734, -4.3842462469733245, -4.984646287778872, -5.455529367570359, -5.8309122089378045, -6.13468179213227, -6.383981128758701, -6.591316826623456, -6.765932283722105, -6.914734645873052, -7.042937040478237, -7.15451187717244, -7.2525150692443905, -7.339320233915021, -7.4167892070440224, -7.486397041545308, -7.549324221050528, -7.6065251058168295]}, {\"line\": {\"color\": \"green\", \"dash\": \"solid\", \"width\": 2}, \"mode\": \"lines\", \"name\": \"T = -40\\u00b0C\", \"type\": \"scatter\", \"uid\": \"66fecd85-20ec-417d-a2cb-6185ebf5776c\", \"x\": [5, 6, 7, 8, 9, 10, 11, 12, 13, 14, 15, 16, 17, 18, 19, 20, 21, 22, 23, 24, 25], \"y\": [0.8494790136756644, -1.1552441501712467, -2.5690232487377256, -3.604433589991734, -4.3842462469733245, -4.984646287778872, -5.455529367570359, -5.8309122089378045, -6.13468179213227, -6.383981128758701, -6.591316826623456, -6.765932283722105, -6.914734645873052, -7.042937040478237, -7.15451187717244, -7.2525150692443905, -7.339320233915021, -7.4167892070440224, -7.486397041545308, -7.549324221050528, -7.6065251058168295]}, {\"line\": {\"color\": \"green\", \"dash\": \"solid\", \"width\": 2}, \"mode\": \"lines\", \"name\": \"T = -40\\u00b0C\", \"type\": \"scatter\", \"uid\": \"dc63c836-59dd-4ca8-b749-5e6d0e70393c\", \"x\": [5, 6, 7, 8, 9, 10, 11, 12, 13, 14, 15, 16, 17, 18, 19, 20, 21, 22, 23, 24, 25], \"y\": [0.8494790136756644, -1.1552441501712467, -2.5690232487377256, -3.604433589991734, -4.3842462469733245, -4.984646287778872, -5.455529367570359, -5.8309122089378045, -6.13468179213227, -6.383981128758701, -6.591316826623456, -6.765932283722105, -6.914734645873052, -7.042937040478237, -7.15451187717244, -7.2525150692443905, -7.339320233915021, -7.4167892070440224, -7.486397041545308, -7.549324221050528, -7.6065251058168295]}, {\"line\": {\"color\": \"green\", \"dash\": \"solid\", \"width\": 2}, \"mode\": \"lines\", \"name\": \"T = -40\\u00b0C\", \"type\": \"scatter\", \"uid\": \"03d524d2-844c-46d9-9100-18e670538955\", \"x\": [5, 6, 7, 8, 9, 10, 11, 12, 13, 14, 15, 16, 17, 18, 19, 20, 21, 22, 23, 24, 25], \"y\": [0.8494790136756644, -1.1552441501712467, -2.5690232487377256, -3.604433589991734, -4.3842462469733245, -4.984646287778872, -5.455529367570359, -5.8309122089378045, -6.13468179213227, -6.383981128758701, -6.591316826623456, -6.765932283722105, -6.914734645873052, -7.042937040478237, -7.15451187717244, -7.2525150692443905, -7.339320233915021, -7.4167892070440224, -7.486397041545308, -7.549324221050528, -7.6065251058168295]}, {\"line\": {\"color\": \"green\", \"dash\": \"solid\", \"width\": 2}, \"mode\": \"lines\", \"name\": \"T = -40\\u00b0C\", \"type\": \"scatter\", \"uid\": \"76d26bee-84e7-4dcc-ab42-75ce42023feb\", \"x\": [5, 6, 7, 8, 9, 10, 11, 12, 13, 14, 15, 16, 17, 18, 19, 20, 21, 22, 23, 24, 25], \"y\": [0.8494790136756644, -1.1552441501712467, -2.5690232487377256, -3.604433589991734, -4.3842462469733245, -4.984646287778872, -5.455529367570359, -5.8309122089378045, -6.13468179213227, -6.383981128758701, -6.591316826623456, -6.765932283722105, -6.914734645873052, -7.042937040478237, -7.15451187717244, -7.2525150692443905, -7.339320233915021, -7.4167892070440224, -7.486397041545308, -7.549324221050528, -7.6065251058168295]}, {\"line\": {\"color\": \"green\", \"dash\": \"solid\", \"width\": 2}, \"mode\": \"lines\", \"name\": \"T = -40\\u00b0C\", \"type\": \"scatter\", \"uid\": \"cf5f81be-2ba6-4947-abfa-f742322bd6a6\", \"x\": [5, 6, 7, 8, 9, 10, 11, 12, 13, 14, 15, 16, 17, 18, 19, 20, 21, 22, 23, 24, 25], \"y\": [0.8494790136756644, -1.1552441501712467, -2.5690232487377256, -3.604433589991734, -4.3842462469733245, -4.984646287778872, -5.455529367570359, -5.8309122089378045, -6.13468179213227, -6.383981128758701, -6.591316826623456, -6.765932283722105, -6.914734645873052, -7.042937040478237, -7.15451187717244, -7.2525150692443905, -7.339320233915021, -7.4167892070440224, -7.486397041545308, -7.549324221050528, -7.6065251058168295]}, {\"line\": {\"color\": \"green\", \"dash\": \"solid\", \"width\": 2}, \"mode\": \"lines\", \"name\": \"T = -40\\u00b0C\", \"type\": \"scatter\", \"uid\": \"f44ed887-2875-4c58-9feb-c417d1509d0d\", \"x\": [5, 6, 7, 8, 9, 10, 11, 12, 13, 14, 15, 16, 17, 18, 19, 20, 21, 22, 23, 24, 25], \"y\": [0.8494790136756644, -1.1552441501712467, -2.5690232487377256, -3.604433589991734, -4.3842462469733245, -4.984646287778872, -5.455529367570359, -5.8309122089378045, -6.13468179213227, -6.383981128758701, -6.591316826623456, -6.765932283722105, -6.914734645873052, -7.042937040478237, -7.15451187717244, -7.2525150692443905, -7.339320233915021, -7.4167892070440224, -7.486397041545308, -7.549324221050528, -7.6065251058168295]}, {\"line\": {\"color\": \"green\", \"dash\": \"solid\", \"width\": 2}, \"mode\": \"lines\", \"name\": \"T = -40\\u00b0C\", \"type\": \"scatter\", \"uid\": \"5b8d597e-1419-4da5-8d4d-617c38dd4882\", \"x\": [5, 6, 7, 8, 9, 10, 11, 12, 13, 14, 15, 16, 17, 18, 19, 20, 21, 22, 23, 24, 25], \"y\": [0.8494790136756644, -1.1552441501712467, -2.5690232487377256, -3.604433589991734, -4.3842462469733245, -4.984646287778872, -5.455529367570359, -5.8309122089378045, -6.13468179213227, -6.383981128758701, -6.591316826623456, -6.765932283722105, -6.914734645873052, -7.042937040478237, -7.15451187717244, -7.2525150692443905, -7.339320233915021, -7.4167892070440224, -7.486397041545308, -7.549324221050528, -7.6065251058168295]}, {\"line\": {\"color\": \"green\", \"dash\": \"solid\", \"width\": 2}, \"mode\": \"lines\", \"name\": \"T = -40\\u00b0C\", \"type\": \"scatter\", \"uid\": \"5a18b1f0-d524-41e4-a007-426470ce4ff8\", \"x\": [5, 6, 7, 8, 9, 10, 11, 12, 13, 14, 15, 16, 17, 18, 19, 20, 21, 22, 23, 24, 25], \"y\": [0.8494790136756644, -1.1552441501712467, -2.5690232487377256, -3.604433589991734, -4.3842462469733245, -4.984646287778872, -5.455529367570359, -5.8309122089378045, -6.13468179213227, -6.383981128758701, -6.591316826623456, -6.765932283722105, -6.914734645873052, -7.042937040478237, -7.15451187717244, -7.2525150692443905, -7.339320233915021, -7.4167892070440224, -7.486397041545308, -7.549324221050528, -7.6065251058168295]}, {\"line\": {\"color\": \"green\", \"dash\": \"solid\", \"width\": 2}, \"mode\": \"lines\", \"name\": \"T = -40\\u00b0C\", \"type\": \"scatter\", \"uid\": \"a607800e-64b4-4f85-8cc2-8cf131141630\", \"x\": [5, 6, 7, 8, 9, 10, 11, 12, 13, 14, 15, 16, 17, 18, 19, 20, 21, 22, 23, 24, 25], \"y\": [0.8494790136756644, -1.1552441501712467, -2.5690232487377256, -3.604433589991734, -4.3842462469733245, -4.984646287778872, -5.455529367570359, -5.8309122089378045, -6.13468179213227, -6.383981128758701, -6.591316826623456, -6.765932283722105, -6.914734645873052, -7.042937040478237, -7.15451187717244, -7.2525150692443905, -7.339320233915021, -7.4167892070440224, -7.486397041545308, -7.549324221050528, -7.6065251058168295]}, {\"line\": {\"color\": \"green\", \"dash\": \"solid\", \"width\": 2}, \"mode\": \"lines\", \"name\": \"T = -40\\u00b0C\", \"type\": \"scatter\", \"uid\": \"c13c222f-eaca-403a-978f-fa2c28090865\", \"x\": [5, 6, 7, 8, 9, 10, 11, 12, 13, 14, 15, 16, 17, 18, 19, 20, 21, 22, 23, 24, 25], \"y\": [0.8494790136756644, -1.1552441501712467, -2.5690232487377256, -3.604433589991734, -4.3842462469733245, -4.984646287778872, -5.455529367570359, -5.8309122089378045, -6.13468179213227, -6.383981128758701, -6.591316826623456, -6.765932283722105, -6.914734645873052, -7.042937040478237, -7.15451187717244, -7.2525150692443905, -7.339320233915021, -7.4167892070440224, -7.486397041545308, -7.549324221050528, -7.6065251058168295]}, {\"line\": {\"color\": \"green\", \"dash\": \"solid\", \"width\": 2}, \"mode\": \"lines\", \"name\": \"T = -40\\u00b0C\", \"type\": \"scatter\", \"uid\": \"1c5fa997-7585-4401-8a54-152ab84155a3\", \"x\": [5, 6, 7, 8, 9, 10, 11, 12, 13, 14, 15, 16, 17, 18, 19, 20, 21, 22, 23, 24, 25], \"y\": [0.8494790136756644, -1.1552441501712467, -2.5690232487377256, -3.604433589991734, -4.3842462469733245, -4.984646287778872, -5.455529367570359, -5.8309122089378045, -6.13468179213227, -6.383981128758701, -6.591316826623456, -6.765932283722105, -6.914734645873052, -7.042937040478237, -7.15451187717244, -7.2525150692443905, -7.339320233915021, -7.4167892070440224, -7.486397041545308, -7.549324221050528, -7.6065251058168295]}, {\"line\": {\"color\": \"green\", \"dash\": \"solid\", \"width\": 2}, \"mode\": \"lines\", \"name\": \"T = -40\\u00b0C\", \"type\": \"scatter\", \"uid\": \"5b1e766d-c429-4746-8d75-e0178bba0bbb\", \"x\": [5, 6, 7, 8, 9, 10, 11, 12, 13, 14, 15, 16, 17, 18, 19, 20, 21, 22, 23, 24, 25], \"y\": [0.8494790136756644, -1.1552441501712467, -2.5690232487377256, -3.604433589991734, -4.3842462469733245, -4.984646287778872, -5.455529367570359, -5.8309122089378045, -6.13468179213227, -6.383981128758701, -6.591316826623456, -6.765932283722105, -6.914734645873052, -7.042937040478237, -7.15451187717244, -7.2525150692443905, -7.339320233915021, -7.4167892070440224, -7.486397041545308, -7.549324221050528, -7.6065251058168295]}, {\"line\": {\"color\": \"green\", \"dash\": \"solid\", \"width\": 2}, \"mode\": \"lines\", \"name\": \"T = -40\\u00b0C\", \"type\": \"scatter\", \"uid\": \"a0b31982-89a2-47f1-a204-41eccfcb8334\", \"x\": [5, 6, 7, 8, 9, 10, 11, 12, 13, 14, 15, 16, 17, 18, 19, 20, 21, 22, 23, 24, 25], \"y\": [0.8494790136756644, -1.1552441501712467, -2.5690232487377256, -3.604433589991734, -4.3842462469733245, -4.984646287778872, -5.455529367570359, -5.8309122089378045, -6.13468179213227, -6.383981128758701, -6.591316826623456, -6.765932283722105, -6.914734645873052, -7.042937040478237, -7.15451187717244, -7.2525150692443905, -7.339320233915021, -7.4167892070440224, -7.486397041545308, -7.549324221050528, -7.6065251058168295]}, {\"line\": {\"color\": \"green\", \"dash\": \"solid\", \"width\": 2}, \"mode\": \"lines\", \"name\": \"T = -40\\u00b0C\", \"type\": \"scatter\", \"uid\": \"1ab40f02-4fa6-4e76-9d36-b981d5c05334\", \"x\": [5, 6, 7, 8, 9, 10, 11, 12, 13, 14, 15, 16, 17, 18, 19, 20, 21, 22, 23, 24, 25], \"y\": [0.8494790136756644, -1.1552441501712467, -2.5690232487377256, -3.604433589991734, -4.3842462469733245, -4.984646287778872, -5.455529367570359, -5.8309122089378045, -6.13468179213227, -6.383981128758701, -6.591316826623456, -6.765932283722105, -6.914734645873052, -7.042937040478237, -7.15451187717244, -7.2525150692443905, -7.339320233915021, -7.4167892070440224, -7.486397041545308, -7.549324221050528, -7.6065251058168295]}, {\"line\": {\"color\": \"green\", \"dash\": \"solid\", \"width\": 2}, \"mode\": \"lines\", \"name\": \"T = -40\\u00b0C\", \"type\": \"scatter\", \"uid\": \"e410c92f-d8c1-4d1a-8371-ae28de51f95e\", \"x\": [5, 6, 7, 8, 9, 10, 11, 12, 13, 14, 15, 16, 17, 18, 19, 20, 21, 22, 23, 24, 25], \"y\": [0.8494790136756644, -1.1552441501712467, -2.5690232487377256, -3.604433589991734, -4.3842462469733245, -4.984646287778872, -5.455529367570359, -5.8309122089378045, -6.13468179213227, -6.383981128758701, -6.591316826623456, -6.765932283722105, -6.914734645873052, -7.042937040478237, -7.15451187717244, -7.2525150692443905, -7.339320233915021, -7.4167892070440224, -7.486397041545308, -7.549324221050528, -7.6065251058168295]}, {\"line\": {\"color\": \"green\", \"dash\": \"solid\", \"width\": 2}, \"mode\": \"lines\", \"name\": \"T = -40\\u00b0C\", \"type\": \"scatter\", \"uid\": \"2c23a69e-aa1d-4bff-8ea1-0bdcd11d4589\", \"x\": [5, 6, 7, 8, 9, 10, 11, 12, 13, 14, 15, 16, 17, 18, 19, 20, 21, 22, 23, 24, 25], \"y\": [0.8494790136756644, -1.1552441501712467, -2.5690232487377256, -3.604433589991734, -4.3842462469733245, -4.984646287778872, -5.455529367570359, -5.8309122089378045, -6.13468179213227, -6.383981128758701, -6.591316826623456, -6.765932283722105, -6.914734645873052, -7.042937040478237, -7.15451187717244, -7.2525150692443905, -7.339320233915021, -7.4167892070440224, -7.486397041545308, -7.549324221050528, -7.6065251058168295]}, {\"line\": {\"color\": \"green\", \"dash\": \"solid\", \"width\": 2}, \"mode\": \"lines\", \"name\": \"T = -40\\u00b0C\", \"type\": \"scatter\", \"uid\": \"cac1ae4e-03a6-43aa-8df2-f70549556bf7\", \"x\": [5, 6, 7, 8, 9, 10, 11, 12, 13, 14, 15, 16, 17, 18, 19, 20, 21, 22, 23, 24, 25], \"y\": [0.8494790136756644, -1.1552441501712467, -2.5690232487377256, -3.604433589991734, -4.3842462469733245, -4.984646287778872, -5.455529367570359, -5.8309122089378045, -6.13468179213227, -6.383981128758701, -6.591316826623456, -6.765932283722105, -6.914734645873052, -7.042937040478237, -7.15451187717244, -7.2525150692443905, -7.339320233915021, -7.4167892070440224, -7.486397041545308, -7.549324221050528, -7.6065251058168295]}, {\"line\": {\"color\": \"green\", \"dash\": \"solid\", \"width\": 2}, \"mode\": \"lines\", \"name\": \"T = -40\\u00b0C\", \"type\": \"scatter\", \"uid\": \"3eaea9c3-418b-437c-a682-00c5d4a800a9\", \"x\": [5, 6, 7, 8, 9, 10, 11, 12, 13, 14, 15, 16, 17, 18, 19, 20, 21, 22, 23, 24, 25], \"y\": [0.8494790136756644, -1.1552441501712467, -2.5690232487377256, -3.604433589991734, -4.3842462469733245, -4.984646287778872, -5.455529367570359, -5.8309122089378045, -6.13468179213227, -6.383981128758701, -6.591316826623456, -6.765932283722105, -6.914734645873052, -7.042937040478237, -7.15451187717244, -7.2525150692443905, -7.339320233915021, -7.4167892070440224, -7.486397041545308, -7.549324221050528, -7.6065251058168295]}, {\"line\": {\"color\": \"green\", \"dash\": \"solid\", \"width\": 2}, \"mode\": \"lines\", \"name\": \"T = -40\\u00b0C\", \"type\": \"scatter\", \"uid\": \"7955cca2-04a5-435e-ac71-3b4da5808371\", \"x\": [5, 6, 7, 8, 9, 10, 11, 12, 13, 14, 15, 16, 17, 18, 19, 20, 21, 22, 23, 24, 25], \"y\": [0.8494790136756644, -1.1552441501712467, -2.5690232487377256, -3.604433589991734, -4.3842462469733245, -4.984646287778872, -5.455529367570359, -5.8309122089378045, -6.13468179213227, -6.383981128758701, -6.591316826623456, -6.765932283722105, -6.914734645873052, -7.042937040478237, -7.15451187717244, -7.2525150692443905, -7.339320233915021, -7.4167892070440224, -7.486397041545308, -7.549324221050528, -7.6065251058168295]}, {\"line\": {\"color\": \"green\", \"dash\": \"solid\", \"width\": 2}, \"mode\": \"lines\", \"name\": \"T = -40\\u00b0C\", \"type\": \"scatter\", \"uid\": \"e0411cff-4242-49e5-b9d9-e34d0c2df9eb\", \"x\": [5, 6, 7, 8, 9, 10, 11, 12, 13, 14, 15, 16, 17, 18, 19, 20, 21, 22, 23, 24, 25], \"y\": [0.8494790136756644, -1.1552441501712467, -2.5690232487377256, -3.604433589991734, -4.3842462469733245, -4.984646287778872, -5.455529367570359, -5.8309122089378045, -6.13468179213227, -6.383981128758701, -6.591316826623456, -6.765932283722105, -6.914734645873052, -7.042937040478237, -7.15451187717244, -7.2525150692443905, -7.339320233915021, -7.4167892070440224, -7.486397041545308, -7.549324221050528, -7.6065251058168295]}],                        {\"annotations\": [{\"font\": {\"size\": 18}, \"showarrow\": false, \"text\": \"$\\\\LARGE{m}$\", \"x\": 0.5, \"xref\": \"paper\", \"y\": -0.2, \"yref\": \"paper\"}, {\"font\": {\"size\": 18}, \"showarrow\": false, \"text\": \"$\\\\LARGE{ \\\\Delta \\\\sigma_\\\\mathrm{w} (\\\\%)}$\", \"textangle\": -90, \"x\": -0.2, \"xref\": \"paper\", \"y\": 0.5, \"yref\": \"paper\"}, {\"font\": {\"size\": 18}, \"showarrow\": false, \"text\": \"\", \"x\": 0.41, \"xref\": \"paper\", \"y\": 1.1, \"yref\": \"paper\"}], \"height\": 420, \"legend\": {\"x\": 0.6, \"y\": 0.5}, \"margin\": {\"b\": 80, \"l\": 80, \"r\": 20, \"t\": 40}, \"showlegend\": false, \"template\": {\"data\": {\"bar\": [{\"error_x\": {\"color\": \"#2a3f5f\"}, \"error_y\": {\"color\": \"#2a3f5f\"}, \"marker\": {\"line\": {\"color\": \"#E5ECF6\", \"width\": 0.5}}, \"type\": \"bar\"}], \"barpolar\": [{\"marker\": {\"line\": {\"color\": \"#E5ECF6\", \"width\": 0.5}}, \"type\": \"barpolar\"}], \"carpet\": [{\"aaxis\": {\"endlinecolor\": \"#2a3f5f\", \"gridcolor\": \"white\", \"linecolor\": \"white\", \"minorgridcolor\": \"white\", \"startlinecolor\": \"#2a3f5f\"}, \"baxis\": {\"endlinecolor\": \"#2a3f5f\", \"gridcolor\": \"white\", \"linecolor\": \"white\", \"minorgridcolor\": \"white\", \"startlinecolor\": \"#2a3f5f\"}, \"type\": \"carpet\"}], \"choropleth\": [{\"colorbar\": {\"outlinewidth\": 0, \"ticks\": \"\"}, \"type\": \"choropleth\"}], \"contour\": [{\"colorbar\": {\"outlinewidth\": 0, \"ticks\": \"\"}, \"colorscale\": [[0.0, \"#0d0887\"], [0.1111111111111111, \"#46039f\"], [0.2222222222222222, \"#7201a8\"], [0.3333333333333333, \"#9c179e\"], [0.4444444444444444, \"#bd3786\"], [0.5555555555555556, \"#d8576b\"], [0.6666666666666666, \"#ed7953\"], [0.7777777777777778, \"#fb9f3a\"], [0.8888888888888888, \"#fdca26\"], [1.0, \"#f0f921\"]], \"type\": \"contour\"}], \"contourcarpet\": [{\"colorbar\": {\"outlinewidth\": 0, \"ticks\": \"\"}, \"type\": \"contourcarpet\"}], \"heatmap\": [{\"colorbar\": {\"outlinewidth\": 0, \"ticks\": \"\"}, \"colorscale\": [[0.0, \"#0d0887\"], [0.1111111111111111, \"#46039f\"], [0.2222222222222222, \"#7201a8\"], [0.3333333333333333, \"#9c179e\"], [0.4444444444444444, \"#bd3786\"], [0.5555555555555556, \"#d8576b\"], [0.6666666666666666, \"#ed7953\"], [0.7777777777777778, \"#fb9f3a\"], [0.8888888888888888, \"#fdca26\"], [1.0, \"#f0f921\"]], \"type\": \"heatmap\"}], \"heatmapgl\": [{\"colorbar\": {\"outlinewidth\": 0, \"ticks\": \"\"}, \"colorscale\": [[0.0, \"#0d0887\"], [0.1111111111111111, \"#46039f\"], [0.2222222222222222, \"#7201a8\"], [0.3333333333333333, \"#9c179e\"], [0.4444444444444444, \"#bd3786\"], [0.5555555555555556, \"#d8576b\"], [0.6666666666666666, \"#ed7953\"], [0.7777777777777778, \"#fb9f3a\"], [0.8888888888888888, \"#fdca26\"], [1.0, \"#f0f921\"]], \"type\": \"heatmapgl\"}], \"histogram\": [{\"marker\": {\"colorbar\": {\"outlinewidth\": 0, \"ticks\": \"\"}}, \"type\": \"histogram\"}], \"histogram2d\": [{\"colorbar\": {\"outlinewidth\": 0, \"ticks\": \"\"}, \"colorscale\": [[0.0, \"#0d0887\"], [0.1111111111111111, \"#46039f\"], [0.2222222222222222, \"#7201a8\"], [0.3333333333333333, \"#9c179e\"], [0.4444444444444444, \"#bd3786\"], [0.5555555555555556, \"#d8576b\"], [0.6666666666666666, \"#ed7953\"], [0.7777777777777778, \"#fb9f3a\"], [0.8888888888888888, \"#fdca26\"], [1.0, \"#f0f921\"]], \"type\": \"histogram2d\"}], \"histogram2dcontour\": [{\"colorbar\": {\"outlinewidth\": 0, \"ticks\": \"\"}, \"colorscale\": [[0.0, \"#0d0887\"], [0.1111111111111111, \"#46039f\"], [0.2222222222222222, \"#7201a8\"], [0.3333333333333333, \"#9c179e\"], [0.4444444444444444, \"#bd3786\"], [0.5555555555555556, \"#d8576b\"], [0.6666666666666666, \"#ed7953\"], [0.7777777777777778, \"#fb9f3a\"], [0.8888888888888888, \"#fdca26\"], [1.0, \"#f0f921\"]], \"type\": \"histogram2dcontour\"}], \"mesh3d\": [{\"colorbar\": {\"outlinewidth\": 0, \"ticks\": \"\"}, \"type\": \"mesh3d\"}], \"parcoords\": [{\"line\": {\"colorbar\": {\"outlinewidth\": 0, \"ticks\": \"\"}}, \"type\": \"parcoords\"}], \"pie\": [{\"automargin\": true, \"type\": \"pie\"}], \"scatter\": [{\"marker\": {\"colorbar\": {\"outlinewidth\": 0, \"ticks\": \"\"}}, \"type\": \"scatter\"}], \"scatter3d\": [{\"line\": {\"colorbar\": {\"outlinewidth\": 0, \"ticks\": \"\"}}, \"marker\": {\"colorbar\": {\"outlinewidth\": 0, \"ticks\": \"\"}}, \"type\": \"scatter3d\"}], \"scattercarpet\": [{\"marker\": {\"colorbar\": {\"outlinewidth\": 0, \"ticks\": \"\"}}, \"type\": \"scattercarpet\"}], \"scattergeo\": [{\"marker\": {\"colorbar\": {\"outlinewidth\": 0, \"ticks\": \"\"}}, \"type\": \"scattergeo\"}], \"scattergl\": [{\"marker\": {\"colorbar\": {\"outlinewidth\": 0, \"ticks\": \"\"}}, \"type\": \"scattergl\"}], \"scattermapbox\": [{\"marker\": {\"colorbar\": {\"outlinewidth\": 0, \"ticks\": \"\"}}, \"type\": \"scattermapbox\"}], \"scatterpolar\": [{\"marker\": {\"colorbar\": {\"outlinewidth\": 0, \"ticks\": \"\"}}, \"type\": \"scatterpolar\"}], \"scatterpolargl\": [{\"marker\": {\"colorbar\": {\"outlinewidth\": 0, \"ticks\": \"\"}}, \"type\": \"scatterpolargl\"}], \"scatterternary\": [{\"marker\": {\"colorbar\": {\"outlinewidth\": 0, \"ticks\": \"\"}}, \"type\": \"scatterternary\"}], \"surface\": [{\"colorbar\": {\"outlinewidth\": 0, \"ticks\": \"\"}, \"colorscale\": [[0.0, \"#0d0887\"], [0.1111111111111111, \"#46039f\"], [0.2222222222222222, \"#7201a8\"], [0.3333333333333333, \"#9c179e\"], [0.4444444444444444, \"#bd3786\"], [0.5555555555555556, \"#d8576b\"], [0.6666666666666666, \"#ed7953\"], [0.7777777777777778, \"#fb9f3a\"], [0.8888888888888888, \"#fdca26\"], [1.0, \"#f0f921\"]], \"type\": \"surface\"}], \"table\": [{\"cells\": {\"fill\": {\"color\": \"#EBF0F8\"}, \"line\": {\"color\": \"white\"}}, \"header\": {\"fill\": {\"color\": \"#C8D4E3\"}, \"line\": {\"color\": \"white\"}}, \"type\": \"table\"}]}, \"layout\": {\"annotationdefaults\": {\"arrowcolor\": \"#2a3f5f\", \"arrowhead\": 0, \"arrowwidth\": 1}, \"autotypenumbers\": \"strict\", \"coloraxis\": {\"colorbar\": {\"outlinewidth\": 0, \"ticks\": \"\"}}, \"colorscale\": {\"diverging\": [[0, \"#8e0152\"], [0.1, \"#c51b7d\"], [0.2, \"#de77ae\"], [0.3, \"#f1b6da\"], [0.4, \"#fde0ef\"], [0.5, \"#f7f7f7\"], [0.6, \"#e6f5d0\"], [0.7, \"#b8e186\"], [0.8, \"#7fbc41\"], [0.9, \"#4d9221\"], [1, \"#276419\"]], \"sequential\": [[0.0, \"#0d0887\"], [0.1111111111111111, \"#46039f\"], [0.2222222222222222, \"#7201a8\"], [0.3333333333333333, \"#9c179e\"], [0.4444444444444444, \"#bd3786\"], [0.5555555555555556, \"#d8576b\"], [0.6666666666666666, \"#ed7953\"], [0.7777777777777778, \"#fb9f3a\"], [0.8888888888888888, \"#fdca26\"], [1.0, \"#f0f921\"]], \"sequentialminus\": [[0.0, \"#0d0887\"], [0.1111111111111111, \"#46039f\"], [0.2222222222222222, \"#7201a8\"], [0.3333333333333333, \"#9c179e\"], [0.4444444444444444, \"#bd3786\"], [0.5555555555555556, \"#d8576b\"], [0.6666666666666666, \"#ed7953\"], [0.7777777777777778, \"#fb9f3a\"], [0.8888888888888888, \"#fdca26\"], [1.0, \"#f0f921\"]]}, \"colorway\": [\"#636efa\", \"#EF553B\", \"#00cc96\", \"#ab63fa\", \"#FFA15A\", \"#19d3f3\", \"#FF6692\", \"#B6E880\", \"#FF97FF\", \"#FECB52\"], \"font\": {\"color\": \"#2a3f5f\"}, \"geo\": {\"bgcolor\": \"white\", \"lakecolor\": \"white\", \"landcolor\": \"#E5ECF6\", \"showlakes\": true, \"showland\": true, \"subunitcolor\": \"white\"}, \"hoverlabel\": {\"align\": \"left\"}, \"hovermode\": \"closest\", \"mapbox\": {\"style\": \"light\"}, \"paper_bgcolor\": \"white\", \"plot_bgcolor\": \"#E5ECF6\", \"polar\": {\"angularaxis\": {\"gridcolor\": \"white\", \"linecolor\": \"white\", \"ticks\": \"\"}, \"bgcolor\": \"#E5ECF6\", \"radialaxis\": {\"gridcolor\": \"white\", \"linecolor\": \"white\", \"ticks\": \"\"}}, \"scene\": {\"xaxis\": {\"backgroundcolor\": \"#E5ECF6\", \"gridcolor\": \"white\", \"gridwidth\": 2, \"linecolor\": \"white\", \"showbackground\": true, \"ticks\": \"\", \"zerolinecolor\": \"white\"}, \"yaxis\": {\"backgroundcolor\": \"#E5ECF6\", \"gridcolor\": \"white\", \"gridwidth\": 2, \"linecolor\": \"white\", \"showbackground\": true, \"ticks\": \"\", \"zerolinecolor\": \"white\"}, \"zaxis\": {\"backgroundcolor\": \"#E5ECF6\", \"gridcolor\": \"white\", \"gridwidth\": 2, \"linecolor\": \"white\", \"showbackground\": true, \"ticks\": \"\", \"zerolinecolor\": \"white\"}}, \"shapedefaults\": {\"line\": {\"color\": \"#2a3f5f\"}}, \"ternary\": {\"aaxis\": {\"gridcolor\": \"white\", \"linecolor\": \"white\", \"ticks\": \"\"}, \"baxis\": {\"gridcolor\": \"white\", \"linecolor\": \"white\", \"ticks\": \"\"}, \"bgcolor\": \"#E5ECF6\", \"caxis\": {\"gridcolor\": \"white\", \"linecolor\": \"white\", \"ticks\": \"\"}}, \"title\": {\"x\": 0.05}, \"xaxis\": {\"automargin\": true, \"gridcolor\": \"white\", \"linecolor\": \"white\", \"ticks\": \"\", \"title\": {\"standoff\": 15}, \"zerolinecolor\": \"white\", \"zerolinewidth\": 2}, \"yaxis\": {\"automargin\": true, \"gridcolor\": \"white\", \"linecolor\": \"white\", \"ticks\": \"\", \"title\": {\"standoff\": 15}, \"zerolinecolor\": \"white\", \"zerolinewidth\": 2}}}, \"width\": 450, \"xaxis\": {\"mirror\": \"all\", \"range\": [5, 25], \"showline\": true, \"title\": {\"font\": {\"size\": 13}}, \"zeroline\": false}, \"yaxis\": {\"mirror\": \"all\", \"showline\": true, \"title\": {\"font\": {\"size\": 13}}, \"zeroline\": false}},                        {\"responsive\": true}                    ).then(function(){\n",
       "                            \n",
       "var gd = document.getElementById('2ed03263-4b80-4779-8a7c-1cfabc53b44f');\n",
       "var x = new MutationObserver(function (mutations, observer) {{\n",
       "        var display = window.getComputedStyle(gd).display;\n",
       "        if (!display || display === 'none') {{\n",
       "            console.log([gd, 'removed!']);\n",
       "            Plotly.purge(gd);\n",
       "            observer.disconnect();\n",
       "        }}\n",
       "}});\n",
       "\n",
       "// Listen for the removal of the full notebook cells\n",
       "var notebookContainer = gd.closest('#notebook-container');\n",
       "if (notebookContainer) {{\n",
       "    x.observe(notebookContainer, {childList: true});\n",
       "}}\n",
       "\n",
       "// Listen for the clearing of the current output cell\n",
       "var outputEl = gd.closest('.output');\n",
       "if (outputEl) {{\n",
       "    x.observe(outputEl, {childList: true});\n",
       "}}\n",
       "\n",
       "                        })                };                });            </script>        </div>"
      ]
     },
     "metadata": {},
     "output_type": "display_data"
    }
   ],
   "source": [
    "# plot\n",
    "\n",
    "title = r''\n",
    "ylab = r'$\\LARGE{ \\Delta \\sigma_\\mathrm{w} (\\%)}$'\n",
    "\n",
    "data = []\n",
    "for ri, sw_r in enumerate(glob_sw_all_corr):\n",
    "    x_plot = []\n",
    "    y_plot = []\n",
    "    \n",
    "    for mi, sw in enumerate(sw_r):\n",
    "\n",
    "        x_plot.append(m_vals[mi])\n",
    "        y_plot.append(\n",
    "            calc_sw_diff(glob_sw_all_corr, 0, ri, mi, gdata_all, skipped_lines_all) \n",
    "            )\n",
    "\n",
    "        data.append({\n",
    "            'x': x_plot,\n",
    "            'y': y_plot,\n",
    "            'name': r'T = ' + str(temps[ri]) + r'°C',\n",
    "            'line': {'dash': lines[0], 'color': my_cols[ri], 'width': 2},\n",
    "            'mode': 'lines',\n",
    "        })\n",
    "\n",
    "        \n",
    "\n",
    "layout = {\n",
    "    'width': 450,\n",
    "    'height': 420,\n",
    "    'xaxis': {\n",
    "#         'range': [-0.1, 1.1],\n",
    "        'zeroline': False,\n",
    "        'showline': True,\n",
    "        'mirror': 'all',\n",
    "#         'title': r'$m$',\n",
    "        'titlefont':{'size': 13}\n",
    "    },\n",
    "    'yaxis': {\n",
    "        'zeroline': False,\n",
    "        'showline': True,\n",
    "        'mirror': 'all',\n",
    "#         'title': '$\\sigma_\\mathrm{w}/\\sigma_\\mathrm{f} $ ',\n",
    "        'titlefont':{'size': 13},\n",
    "\n",
    "    },\n",
    "    'annotations':[\n",
    "    {\n",
    "        'text':  r'$\\LARGE{m}$',\n",
    "        'x': 0.5,\n",
    "        'y': -0.2,\n",
    "        'xref': 'paper',\n",
    "        'yref': 'paper',\n",
    "        'showarrow': False,\n",
    "        'font': {'size': 18},\n",
    "    },\n",
    "        {\n",
    "        'text':  ylab,\n",
    "        'x': -0.2,\n",
    "        'y': 0.5,\n",
    "        'xref': 'paper',\n",
    "        'yref': 'paper',\n",
    "        'showarrow': False,\n",
    "        'font': {'size': 18},\n",
    "        'textangle': -90\n",
    "    },\n",
    "        {\n",
    "        'text':  title,\n",
    "        'x': 0.41,\n",
    "        'y': 1.1,\n",
    "        'xref': 'paper',\n",
    "        'yref': 'paper',\n",
    "        'showarrow': False,\n",
    "        'font': {'size': 18},\n",
    "    },\n",
    "    ],\n",
    "    'legend':{\n",
    "        'x': 0.6,\n",
    "        'y': 0.5,\n",
    "    },\n",
    "     'margin': {\n",
    "                'l': 80,\n",
    "                'r': 20,\n",
    "                'b': 80,\n",
    "                't': 40,\n",
    "#                 'pad': 1\n",
    "     },\n",
    "\n",
    "}\n",
    "layout['xaxis']['range'] = [5, 25]\n",
    "layout['showlegend'] = False\n",
    "f = go.FigureWidget(data,layout)\n",
    "py.iplot(f)"
   ]
  },
  {
   "cell_type": "markdown",
   "metadata": {},
   "source": [
    "### Predict the caharcteristic fracture toughness $J_0$"
   ]
  },
  {
   "cell_type": "code",
   "execution_count": 143,
   "metadata": {},
   "outputs": [
    {
     "name": "stdout",
     "output_type": "stream",
     "text": [
      "Temperature:  -91\n",
      "basis for prediction\n",
      "J0 = 56.08\n",
      "###\n",
      "Temperature:  -60\n",
      "Predicted J0 = 104.18\n",
      "###\n",
      "Temperature:  -40\n",
      "Predicted J0 = 210.36\n",
      "###\n",
      "None\n"
     ]
    }
   ],
   "source": [
    "# USER INPUT\n",
    "# Choose shape parameter m\n",
    "mchosen = 5\n",
    "\n",
    "# Choose index basis for prediction \n",
    "# For inctance, to use the first temperature as a basis, we specify 0 (due to zero-based indexing)\n",
    "pred_index = 0\n",
    "\n",
    "idxm = np.where(m_vals==mchosen)[0][0]\n",
    "print(pred_j0(pred_index, glob_sw_all_corr, idxm, skipped_lines_all, \n",
    "              gdata_all, temps, tol=0.01))"
   ]
  },
  {
   "cell_type": "code",
   "execution_count": 145,
   "metadata": {
    "code_folding": [
     0
    ]
   },
   "outputs": [
    {
     "data": {
      "application/vnd.plotly.v1+json": {
       "config": {
        "linkText": "Export to plot.ly",
        "plotlyServerURL": "https://plot.ly",
        "showLink": false
       },
       "data": [
        {
         "line": {
          "color": "black",
          "dash": "solid",
          "width": 2
         },
         "mode": "lines",
         "name": "T = -91°C",
         "type": "scatter",
         "uid": "a07ae0e2-b85e-4917-abe0-1f26a51808ec",
         "x": [
          0.115698337555,
          0.260338902473,
          0.462844640017,
          0.723201870918,
          1.0413916111,
          1.41738843918,
          1.8511531353,
          2.34265327454,
          2.89188027382,
          3.49874424934,
          4.16319656372,
          4.88532924652,
          5.6650261879,
          6.50230073929,
          7.39715242386,
          8.34968280792,
          9.35976886749,
          10.4275512695,
          11.5532798767,
          12.7366924286,
          13.9783153534,
          15.2781858444,
          16.6360569,
          18.0529785156,
          19.5280799866,
          21.0627822876,
          22.6562213898,
          24.3087234497,
          26.0200214386,
          27.7887744904,
          29.6151733398,
          31.5005283356,
          33.4433937073,
          35.4459915161,
          37.5080604553,
          39.6281471252,
          41.8096351624,
          44.0500984192,
          46.3443031311,
          48.6949882507,
          51.1016235352,
          53.5655479431,
          56.0808105469,
          58.6458435059,
          61.2635421753,
          63.9311790466,
          66.6494064331,
          69.4313201904,
          72.2623291016,
          72.3144683838,
          72.3590393066,
          72.4034729004,
          72.4702682495,
          72.5705413818,
          72.7211761475,
          72.9472045898,
          73.2865066528,
          73.795425415,
          74.5604400635,
          75.7085647583,
          77.4429092407,
          80.0786437988,
          80.1331558228,
          80.2023468018,
          80.3061447144,
          80.462020874,
          80.6963119507,
          81.048576355,
          81.5787963867,
          82.3776855469,
          83.5811386108,
          85.3967819214,
          88.1395187378,
          88.1960830688,
          88.2678604126,
          88.3758621216,
          88.5380477905,
          88.7816009521,
          89.147102356,
          89.6970901489,
          90.5262985229,
          91.7776031494,
          93.6670532227,
          96.5374755859,
          96.5973587036,
          96.6726913452,
          96.7853546143,
          96.9547653198,
          97.2091522217,
          97.5916366577,
          98.166053772,
          99.03074646,
          100.339012146,
          102.32346344,
          105.34589386,
          105.408500671,
          105.487579346,
          105.606735229,
          105.786094666,
          106.054298401,
          106.457695007,
          107.063247681,
          107.975448608,
          109.345672607,
          111.417732239,
          111.619148254,
          111.911865234,
          112.351303101,
          113.012252808,
          114.005645752,
          115.501480103,
          117.76423645,
          117.824699402,
          117.878089905,
          117.931419373,
          118.011329651,
          118.131332397,
          118.311355591,
          118.581512451,
          118.987037659,
          119.596694946
         ],
         "y": [
          0,
          0,
          2114.4869194957823,
          2127.296918752069,
          3728.522991495941,
          4063.641165135588,
          4482.75618610516,
          4936.575956397143,
          5527.702842323175,
          5857.9590511457445,
          6413.114553069451,
          6893.400572437338,
          7214.165847552584,
          7758.384699539958,
          8069.521489388125,
          8409.009608087696,
          8861.14472225144,
          9323.75284230017,
          9718.796075665165,
          10034.356942050304,
          10557.953818549724,
          11063.182377173085,
          11259.501664293055,
          11855.830100459048,
          12201.823309144847,
          12609.217512832754,
          12864.54698945544,
          13496.149936233207,
          13683.426232705671,
          14186.651739189718,
          14448.015159777377,
          14695.15101575037,
          15262.805182576445,
          15474.460217150852,
          15767.953254783846,
          16258.408008611643,
          16468.932499540453,
          16795.245260192503,
          17210.846901075307,
          17447.30862571981,
          17793.690873118903,
          18146.771902836415,
          18421.32096424743,
          18720.723599314562,
          19021.681617184408,
          19341.493349515145,
          19609.98941898934,
          19893.367874349886,
          20250.648453726746,
          20252.869922974773,
          20250.240340363558,
          20252.13230468582,
          20254.969926642123,
          20259.092964860993,
          20271.512596206197,
          20279.93698453097,
          20289.348638176943,
          20638.006623332007,
          20391.965273889753,
          20530.734887480776,
          20689.90453901541,
          20899.744472657025,
          20901.348193142738,
          20909.839856845298,
          20913.604323997446,
          20926.762148329715,
          20936.864703746203,
          20964.787038689385,
          21005.502889763688,
          21060.162339973806,
          21179.75681082144,
          21361.328257489455,
          21568.265868581326,
          21570.011651216504,
          21587.49181289371,
          21591.021104060972,
          21594.589915235843,
          21601.74726761196,
          21650.80691842678,
          21637.335626473694,
          21715.096360227348,
          21765.40187952089,
          21970.587990392654,
          22160.30757862536,
          22246.85226785342,
          22571.76122642926,
          22240.339413546943,
          22233.450624885405,
          22222.959979016334,
          22215.194467500703,
          22242.070311282838,
          22299.251576481623,
          22363.07619544673,
          22501.559123850002,
          22671.498319932056,
          22672.990068013467,
          22674.453665233264,
          22748.943362669328,
          22724.090456950187,
          22731.75453699753,
          22787.10195527612,
          22767.876483457792,
          22852.71904567367,
          22920.671545081466,
          23057.702239898565,
          23062.796720653416,
          23083.527812113192,
          23127.446904458695,
          23118.11743157435,
          23144.699491536176,
          23221.42868630024,
          23392.236541367885,
          23420.77030371478,
          23905.89002788998,
          23423.39294332961,
          23425.38862678748,
          23428.383202588215,
          23432.895367576686,
          23433.255105029813,
          23455.635518962703,
          23465.967849334065
         ]
        },
        {
         "line": {
          "color": "blue",
          "dash": "solid",
          "width": 2
         },
         "mode": "lines",
         "name": "T = -60°C",
         "type": "scatter",
         "uid": "34cff62e-9f23-4975-bf0f-8d09d9d8abaf",
         "x": [
          0.260264933109,
          0.462675571442,
          0.722916841507,
          1.04088020325,
          1.41660559177,
          1.84996175766,
          2.34093403816,
          2.88945651054,
          3.49548697472,
          4.15896987915,
          4.87987756729,
          5.65815830231,
          6.49382162094,
          7.3868637085,
          8.337266922,
          9.34507083893,
          10.4104423523,
          11.533367157,
          12.7142162323,
          13.9527130127,
          15.2493076324,
          16.6042823792,
          18.0177688599,
          19.4895629883,
          21.0208816528,
          22.6110057831,
          24.2600402832,
          25.9664897919,
          27.7267971039,
          29.5445709229,
          31.4192276001,
          33.3480453491,
          35.3357048035,
          37.3792228699,
          39.4819259644,
          41.6393966675,
          43.8539237976,
          46.1201057434,
          48.4417304993,
          50.8184661865,
          53.2501831055,
          55.7308349609,
          58.263458252,
          60.8368263245,
          63.4373474121,
          66.0624237061,
          68.7168960571,
          71.4187698364,
          74.1615524292,
          76.9486999512,
          79.7900695801,
          82.6758041382,
          85.6066055298,
          88.5867767334,
          91.6195907593,
          94.6997756958,
          97.8332672119,
          100.995506287,
          104.183174133,
          107.408676147,
          110.669548035,
          113.964439392,
          117.293388367,
          120.655036926,
          124.052993774,
          127.490730286,
          130.976486206,
          134.507751465,
          138.082199097,
          141.702056885,
          145.361480713,
          149.064041138,
          152.803588867,
          156.577560425,
          160.395187378,
          164.257629395,
          168.166366577,
          172.11328125,
          176.090362549,
          180.102325439,
          184.151733398,
          188.236740112,
          192.351501465,
          196.502914429,
          200.688583374,
          204.902633667,
          209.144500732
         ],
         "y": [
          0,
          0,
          3034.508287454474,
          3383.9971623199604,
          3444.1739231611195,
          3640.068803584522,
          3968.4233891775125,
          4310.813511085656,
          4838.8960038463165,
          5440.653025550597,
          6115.331408352783,
          6423.8648057711835,
          6722.43789750347,
          6894.9982012987775,
          7270.911689767181,
          7655.849164254374,
          7830.089516794641,
          8448.383733338167,
          8785.05926737265,
          9009.449049107858,
          9583.094630169237,
          9749.578523141154,
          10093.881989212508,
          10440.26793625723,
          10720.780209173257,
          11049.706789995125,
          11304.353163227393,
          11612.647909321962,
          11893.498835256061,
          12238.545956512773,
          12526.683782250288,
          12792.484034466805,
          13032.967414595014,
          13277.41434099604,
          13611.892075977947,
          13816.02944488215,
          14142.85024011763,
          14362.444134140032,
          14649.550539370319,
          14975.095768673833,
          15208.426511393689,
          15400.372416321969,
          15761.671873959272,
          15835.045325094445,
          16010.47067135909,
          16273.084036127479,
          16572.155286931258,
          16695.677083595594,
          17067.453489232255,
          17147.14982103569,
          17295.486046622264,
          17441.99961718408,
          17616.46291957759,
          17814.21203255347,
          17833.792496968163,
          18002.968111454647,
          18181.691827116916,
          18231.062077267896,
          18396.685898770058,
          18465.93391285915,
          18757.62241829574,
          18744.104259863154,
          18785.486085251556,
          18882.142935324395,
          19060.40649743215,
          19085.701089815306,
          19136.167366526206,
          19206.12584199999,
          19388.362996348904,
          19421.032821902194,
          19476.393037837257,
          19476.59881396504,
          19522.620750014685,
          19583.09533664915,
          19625.53721752805,
          19660.307998575372,
          20159.935735501374,
          19740.172917775013,
          19782.748183915937,
          19801.06869073738,
          19833.017468762737,
          19867.014971654793,
          19877.818766942102,
          19895.124386510804,
          19913.14717556874,
          19952.92824698886,
          19984.641702342982
         ]
        },
        {
         "line": {
          "color": "green",
          "dash": "solid",
          "width": 2
         },
         "mode": "lines",
         "name": "T = -40°C",
         "type": "scatter",
         "uid": "0560a61d-3097-44cf-b2fd-f5eb7ea8df8a",
         "x": [
          0.256513297558,
          0.577115416527,
          1.02571594715,
          1.60218751431,
          2.3061709404,
          3.13781690598,
          4.09654188156,
          5.182513237,
          6.39557027817,
          7.73576974869,
          9.20316505432,
          10.798204422,
          12.5211801529,
          14.37271595,
          16.3538303375,
          18.4647254944,
          20.7068767548,
          23.0804634094,
          25.5852451324,
          28.2205066681,
          30.9811096191,
          33.8687286377,
          36.8777542114,
          40.0129470825,
          43.2747955322,
          46.6620521545,
          50.1710205078,
          53.7910079956,
          57.5207939148,
          61.3296508789,
          65.2536392212,
          69.2781066895,
          73.419883728,
          77.6879348755,
          82.0928497314,
          86.632484436,
          91.2769851685,
          95.9990997314,
          100.799934387,
          105.691932678,
          110.682525635,
          115.769340515,
          120.960014343,
          126.246871948,
          131.642868042,
          137.153366089,
          142.774917603,
          148.487136841,
          154.304244995,
          160.217163086,
          166.211715698,
          172.28994751,
          178.453857422,
          184.704223633,
          191.022460938,
          197.407806396,
          203.853469849,
          210.355682373,
          216.914779663,
          223.516296387,
          230.164703369,
          236.860244751,
          243.600128174,
          250.373550415,
          257.177856445,
          264.017669678,
          270.890258789,
          277.795288086,
          284.73236084,
          291.703369141,
          298.705444336,
          305.73550415,
          312.79486084,
          319.884490967,
          327.001251221,
          334.14666748,
          341.313781738,
          348.506256104,
          355.719696045,
          362.953033447,
          370.205718994,
          377.479125977,
          384.768188477,
          392.071380615,
          399.388214111,
          406.720031738,
          414.067108154,
          421.430877686,
          428.809570313,
          436.20111084,
          443.604705811,
          451.019439697,
          458.44354248
         ],
         "y": [
          0,
          0,
          2877.321845864282,
          3154.1380697243185,
          3705.8867314924682,
          3945.1037782301496,
          4352.225536523833,
          4822.594954586438,
          5736.861869133293,
          6338.622832729944,
          6489.908952360898,
          7011.958106024625,
          7248.8827185009095,
          7868.781747112003,
          8434.30938684672,
          8737.588624790409,
          9636.313946045986,
          9961.203483544587,
          10250.613426581816,
          10488.59151281802,
          11113.43467910335,
          11378.573660405726,
          11697.457842129836,
          12112.620341411319,
          12433.671793055923,
          12920.554644971404,
          13155.846971254494,
          13433.162105436377,
          13877.903201584522,
          14099.471386704156,
          14383.563275932376,
          14713.568248505071,
          14978.55158314635,
          15187.48600258957,
          15372.448539621822,
          15694.389681292738,
          15939.468440295423,
          16136.203623434027,
          16313.793804243818,
          16466.628980511778,
          16817.434996237815,
          16721.739378354978,
          17198.58987475992,
          17074.403060391738,
          17154.628504761287,
          17764.288284582,
          17407.83231998646,
          17624.922881313603,
          17991.9011193693,
          18036.30497578126,
          17897.34076368371,
          17670.180174723853,
          18052.03614697455,
          18036.82080258948,
          18053.510607062013,
          17961.968580356996,
          18024.250110525183,
          18390.3290185566,
          18442.451054879803,
          18476.37400577163,
          18533.352237572493,
          18579.146918237828,
          18641.76895258366,
          18680.450320557367,
          18694.977068130593,
          18708.317786418233,
          18800.024156857988,
          18833.34498832969,
          18788.42882471644,
          18875.513812197885,
          18923.258070663807,
          18829.703853137395,
          18832.375499862672,
          18999.045891662485,
          18857.56925441812,
          18874.42701267409,
          18984.449248680332,
          18879.45968494681,
          18935.092879836084,
          19119.34669177619,
          18939.096605510793,
          19211.363299251512,
          18980.78261540766,
          19096.89117126881,
          18982.30152241175,
          19099.47054484076,
          19008.725445476146,
          19181.8757650021,
          18987.01777414343,
          19120.95047885433,
          19207.23917360044,
          19008.824387412602,
          19279.258000921756
         ]
        },
        {
         "line": {
          "color": "grey",
          "dash": "dash"
         },
         "name": "$\\mathrm{prediction\\;based\\;on}\\;J_0^{T = -91\\mathrm{°C}}$",
         "type": "scatter",
         "uid": "211e9c50-ee91-4287-8c42-7a12ecd195f0",
         "x": [
          0,
          9.183673469387756,
          18.367346938775512,
          27.551020408163268,
          36.734693877551024,
          45.91836734693878,
          55.102040816326536,
          64.28571428571429,
          73.46938775510205,
          82.6530612244898,
          91.83673469387756,
          101.02040816326532,
          110.20408163265307,
          119.38775510204083,
          128.57142857142858,
          137.75510204081633,
          146.9387755102041,
          156.12244897959187,
          165.3061224489796,
          174.48979591836735,
          183.67346938775512,
          192.8571428571429,
          202.04081632653063,
          211.22448979591837,
          220.40816326530614,
          229.5918367346939,
          238.77551020408166,
          247.9591836734694,
          257.14285714285717,
          266.32653061224494,
          275.51020408163265,
          284.6938775510204,
          293.8775510204082,
          303.06122448979596,
          312.24489795918373,
          321.42857142857144,
          330.6122448979592,
          339.795918367347,
          348.9795918367347,
          358.16326530612247,
          367.34693877551024,
          376.530612244898,
          385.7142857142858,
          394.8979591836735,
          404.08163265306126,
          413.26530612244903,
          422.44897959183675,
          431.6326530612245,
          440.8163265306123,
          450
         ],
         "y": [
          18744.104259863154,
          18744.104259863154,
          18744.104259863154,
          18744.104259863154,
          18744.104259863154,
          18744.104259863154,
          18744.104259863154,
          18744.104259863154,
          18744.104259863154,
          18744.104259863154,
          18744.104259863154,
          18744.104259863154,
          18744.104259863154,
          18744.104259863154,
          18744.104259863154,
          18744.104259863154,
          18744.104259863154,
          18744.104259863154,
          18744.104259863154,
          18744.104259863154,
          18744.104259863154,
          18744.104259863154,
          18744.104259863154,
          18744.104259863154,
          18744.104259863154,
          18744.104259863154,
          18744.104259863154,
          18744.104259863154,
          18744.104259863154,
          18744.104259863154,
          18744.104259863154,
          18744.104259863154,
          18744.104259863154,
          18744.104259863154,
          18744.104259863154,
          18744.104259863154,
          18744.104259863154,
          18744.104259863154,
          18744.104259863154,
          18744.104259863154,
          18744.104259863154,
          18744.104259863154,
          18744.104259863154,
          18744.104259863154,
          18744.104259863154,
          18744.104259863154,
          18744.104259863154,
          18744.104259863154,
          18744.104259863154,
          18744.104259863154,
          18744.104259863154,
          18744.104259863154,
          18744.104259863154,
          18744.104259863154,
          18744.104259863154,
          18744.104259863154,
          18744.104259863154,
          18744.104259863154,
          18744.104259863154,
          18744.104259863154,
          18744.104259863154,
          18744.104259863154,
          18744.104259863154,
          18744.104259863154,
          18744.104259863154,
          18744.104259863154,
          18744.104259863154,
          18744.104259863154,
          18744.104259863154,
          18744.104259863154,
          18744.104259863154,
          18744.104259863154,
          18744.104259863154,
          18744.104259863154,
          18744.104259863154,
          18744.104259863154,
          18744.104259863154,
          18744.104259863154,
          18744.104259863154,
          18744.104259863154,
          18744.104259863154,
          18744.104259863154,
          18744.104259863154,
          18744.104259863154,
          18744.104259863154,
          18744.104259863154,
          18744.104259863154,
          18744.104259863154,
          18744.104259863154,
          18744.104259863154,
          18744.104259863154,
          18744.104259863154,
          18744.104259863154,
          18744.104259863154,
          18744.104259863154,
          18744.104259863154,
          18744.104259863154,
          18744.104259863154,
          18744.104259863154,
          18744.104259863154,
          18744.104259863154,
          18744.104259863154,
          18744.104259863154,
          18744.104259863154,
          18744.104259863154,
          18744.104259863154,
          18744.104259863154,
          18744.104259863154,
          18744.104259863154,
          18744.104259863154,
          18744.104259863154,
          18744.104259863154,
          18744.104259863154,
          18744.104259863154,
          18744.104259863154,
          18744.104259863154,
          18744.104259863154,
          18744.104259863154,
          18744.104259863154,
          18744.104259863154
         ]
        }
       ],
       "layout": {
        "annotations": [
         {
          "font": {
           "size": 11
          },
          "showarrow": false,
          "text": "$\\LARGE{J\\;\\mathrm{(Nmm)}^{-1}}$",
          "x": 0.5,
          "xref": "paper",
          "y": -0.22,
          "yref": "paper"
         },
         {
          "font": {
           "size": 11
          },
          "showarrow": false,
          "text": "$\\LARGE{\\sigma_\\mathrm{w}}$",
          "textangle": -90,
          "x": -0.22,
          "xref": "paper",
          "y": 0.5,
          "yref": "paper"
         },
         {
          "font": {
           "size": 11
          },
          "showarrow": false,
          "text": "$$",
          "x": 0.41,
          "xref": "paper",
          "y": 1.1,
          "yref": "paper"
         }
        ],
        "height": 350,
        "legend": {
         "x": 0.8,
         "y": 0.01
        },
        "margin": {
         "b": 80,
         "l": 80,
         "r": 20,
         "t": 40
        },
        "showlegend": true,
        "template": {
         "data": {
          "bar": [
           {
            "error_x": {
             "color": "#2a3f5f"
            },
            "error_y": {
             "color": "#2a3f5f"
            },
            "marker": {
             "line": {
              "color": "#E5ECF6",
              "width": 0.5
             }
            },
            "type": "bar"
           }
          ],
          "barpolar": [
           {
            "marker": {
             "line": {
              "color": "#E5ECF6",
              "width": 0.5
             }
            },
            "type": "barpolar"
           }
          ],
          "carpet": [
           {
            "aaxis": {
             "endlinecolor": "#2a3f5f",
             "gridcolor": "white",
             "linecolor": "white",
             "minorgridcolor": "white",
             "startlinecolor": "#2a3f5f"
            },
            "baxis": {
             "endlinecolor": "#2a3f5f",
             "gridcolor": "white",
             "linecolor": "white",
             "minorgridcolor": "white",
             "startlinecolor": "#2a3f5f"
            },
            "type": "carpet"
           }
          ],
          "choropleth": [
           {
            "colorbar": {
             "outlinewidth": 0,
             "ticks": ""
            },
            "type": "choropleth"
           }
          ],
          "contour": [
           {
            "colorbar": {
             "outlinewidth": 0,
             "ticks": ""
            },
            "colorscale": [
             [
              0,
              "#0d0887"
             ],
             [
              0.1111111111111111,
              "#46039f"
             ],
             [
              0.2222222222222222,
              "#7201a8"
             ],
             [
              0.3333333333333333,
              "#9c179e"
             ],
             [
              0.4444444444444444,
              "#bd3786"
             ],
             [
              0.5555555555555556,
              "#d8576b"
             ],
             [
              0.6666666666666666,
              "#ed7953"
             ],
             [
              0.7777777777777778,
              "#fb9f3a"
             ],
             [
              0.8888888888888888,
              "#fdca26"
             ],
             [
              1,
              "#f0f921"
             ]
            ],
            "type": "contour"
           }
          ],
          "contourcarpet": [
           {
            "colorbar": {
             "outlinewidth": 0,
             "ticks": ""
            },
            "type": "contourcarpet"
           }
          ],
          "heatmap": [
           {
            "colorbar": {
             "outlinewidth": 0,
             "ticks": ""
            },
            "colorscale": [
             [
              0,
              "#0d0887"
             ],
             [
              0.1111111111111111,
              "#46039f"
             ],
             [
              0.2222222222222222,
              "#7201a8"
             ],
             [
              0.3333333333333333,
              "#9c179e"
             ],
             [
              0.4444444444444444,
              "#bd3786"
             ],
             [
              0.5555555555555556,
              "#d8576b"
             ],
             [
              0.6666666666666666,
              "#ed7953"
             ],
             [
              0.7777777777777778,
              "#fb9f3a"
             ],
             [
              0.8888888888888888,
              "#fdca26"
             ],
             [
              1,
              "#f0f921"
             ]
            ],
            "type": "heatmap"
           }
          ],
          "heatmapgl": [
           {
            "colorbar": {
             "outlinewidth": 0,
             "ticks": ""
            },
            "colorscale": [
             [
              0,
              "#0d0887"
             ],
             [
              0.1111111111111111,
              "#46039f"
             ],
             [
              0.2222222222222222,
              "#7201a8"
             ],
             [
              0.3333333333333333,
              "#9c179e"
             ],
             [
              0.4444444444444444,
              "#bd3786"
             ],
             [
              0.5555555555555556,
              "#d8576b"
             ],
             [
              0.6666666666666666,
              "#ed7953"
             ],
             [
              0.7777777777777778,
              "#fb9f3a"
             ],
             [
              0.8888888888888888,
              "#fdca26"
             ],
             [
              1,
              "#f0f921"
             ]
            ],
            "type": "heatmapgl"
           }
          ],
          "histogram": [
           {
            "marker": {
             "colorbar": {
              "outlinewidth": 0,
              "ticks": ""
             }
            },
            "type": "histogram"
           }
          ],
          "histogram2d": [
           {
            "colorbar": {
             "outlinewidth": 0,
             "ticks": ""
            },
            "colorscale": [
             [
              0,
              "#0d0887"
             ],
             [
              0.1111111111111111,
              "#46039f"
             ],
             [
              0.2222222222222222,
              "#7201a8"
             ],
             [
              0.3333333333333333,
              "#9c179e"
             ],
             [
              0.4444444444444444,
              "#bd3786"
             ],
             [
              0.5555555555555556,
              "#d8576b"
             ],
             [
              0.6666666666666666,
              "#ed7953"
             ],
             [
              0.7777777777777778,
              "#fb9f3a"
             ],
             [
              0.8888888888888888,
              "#fdca26"
             ],
             [
              1,
              "#f0f921"
             ]
            ],
            "type": "histogram2d"
           }
          ],
          "histogram2dcontour": [
           {
            "colorbar": {
             "outlinewidth": 0,
             "ticks": ""
            },
            "colorscale": [
             [
              0,
              "#0d0887"
             ],
             [
              0.1111111111111111,
              "#46039f"
             ],
             [
              0.2222222222222222,
              "#7201a8"
             ],
             [
              0.3333333333333333,
              "#9c179e"
             ],
             [
              0.4444444444444444,
              "#bd3786"
             ],
             [
              0.5555555555555556,
              "#d8576b"
             ],
             [
              0.6666666666666666,
              "#ed7953"
             ],
             [
              0.7777777777777778,
              "#fb9f3a"
             ],
             [
              0.8888888888888888,
              "#fdca26"
             ],
             [
              1,
              "#f0f921"
             ]
            ],
            "type": "histogram2dcontour"
           }
          ],
          "mesh3d": [
           {
            "colorbar": {
             "outlinewidth": 0,
             "ticks": ""
            },
            "type": "mesh3d"
           }
          ],
          "parcoords": [
           {
            "line": {
             "colorbar": {
              "outlinewidth": 0,
              "ticks": ""
             }
            },
            "type": "parcoords"
           }
          ],
          "pie": [
           {
            "automargin": true,
            "type": "pie"
           }
          ],
          "scatter": [
           {
            "marker": {
             "colorbar": {
              "outlinewidth": 0,
              "ticks": ""
             }
            },
            "type": "scatter"
           }
          ],
          "scatter3d": [
           {
            "line": {
             "colorbar": {
              "outlinewidth": 0,
              "ticks": ""
             }
            },
            "marker": {
             "colorbar": {
              "outlinewidth": 0,
              "ticks": ""
             }
            },
            "type": "scatter3d"
           }
          ],
          "scattercarpet": [
           {
            "marker": {
             "colorbar": {
              "outlinewidth": 0,
              "ticks": ""
             }
            },
            "type": "scattercarpet"
           }
          ],
          "scattergeo": [
           {
            "marker": {
             "colorbar": {
              "outlinewidth": 0,
              "ticks": ""
             }
            },
            "type": "scattergeo"
           }
          ],
          "scattergl": [
           {
            "marker": {
             "colorbar": {
              "outlinewidth": 0,
              "ticks": ""
             }
            },
            "type": "scattergl"
           }
          ],
          "scattermapbox": [
           {
            "marker": {
             "colorbar": {
              "outlinewidth": 0,
              "ticks": ""
             }
            },
            "type": "scattermapbox"
           }
          ],
          "scatterpolar": [
           {
            "marker": {
             "colorbar": {
              "outlinewidth": 0,
              "ticks": ""
             }
            },
            "type": "scatterpolar"
           }
          ],
          "scatterpolargl": [
           {
            "marker": {
             "colorbar": {
              "outlinewidth": 0,
              "ticks": ""
             }
            },
            "type": "scatterpolargl"
           }
          ],
          "scatterternary": [
           {
            "marker": {
             "colorbar": {
              "outlinewidth": 0,
              "ticks": ""
             }
            },
            "type": "scatterternary"
           }
          ],
          "surface": [
           {
            "colorbar": {
             "outlinewidth": 0,
             "ticks": ""
            },
            "colorscale": [
             [
              0,
              "#0d0887"
             ],
             [
              0.1111111111111111,
              "#46039f"
             ],
             [
              0.2222222222222222,
              "#7201a8"
             ],
             [
              0.3333333333333333,
              "#9c179e"
             ],
             [
              0.4444444444444444,
              "#bd3786"
             ],
             [
              0.5555555555555556,
              "#d8576b"
             ],
             [
              0.6666666666666666,
              "#ed7953"
             ],
             [
              0.7777777777777778,
              "#fb9f3a"
             ],
             [
              0.8888888888888888,
              "#fdca26"
             ],
             [
              1,
              "#f0f921"
             ]
            ],
            "type": "surface"
           }
          ],
          "table": [
           {
            "cells": {
             "fill": {
              "color": "#EBF0F8"
             },
             "line": {
              "color": "white"
             }
            },
            "header": {
             "fill": {
              "color": "#C8D4E3"
             },
             "line": {
              "color": "white"
             }
            },
            "type": "table"
           }
          ]
         },
         "layout": {
          "annotationdefaults": {
           "arrowcolor": "#2a3f5f",
           "arrowhead": 0,
           "arrowwidth": 1
          },
          "autotypenumbers": "strict",
          "coloraxis": {
           "colorbar": {
            "outlinewidth": 0,
            "ticks": ""
           }
          },
          "colorscale": {
           "diverging": [
            [
             0,
             "#8e0152"
            ],
            [
             0.1,
             "#c51b7d"
            ],
            [
             0.2,
             "#de77ae"
            ],
            [
             0.3,
             "#f1b6da"
            ],
            [
             0.4,
             "#fde0ef"
            ],
            [
             0.5,
             "#f7f7f7"
            ],
            [
             0.6,
             "#e6f5d0"
            ],
            [
             0.7,
             "#b8e186"
            ],
            [
             0.8,
             "#7fbc41"
            ],
            [
             0.9,
             "#4d9221"
            ],
            [
             1,
             "#276419"
            ]
           ],
           "sequential": [
            [
             0,
             "#0d0887"
            ],
            [
             0.1111111111111111,
             "#46039f"
            ],
            [
             0.2222222222222222,
             "#7201a8"
            ],
            [
             0.3333333333333333,
             "#9c179e"
            ],
            [
             0.4444444444444444,
             "#bd3786"
            ],
            [
             0.5555555555555556,
             "#d8576b"
            ],
            [
             0.6666666666666666,
             "#ed7953"
            ],
            [
             0.7777777777777778,
             "#fb9f3a"
            ],
            [
             0.8888888888888888,
             "#fdca26"
            ],
            [
             1,
             "#f0f921"
            ]
           ],
           "sequentialminus": [
            [
             0,
             "#0d0887"
            ],
            [
             0.1111111111111111,
             "#46039f"
            ],
            [
             0.2222222222222222,
             "#7201a8"
            ],
            [
             0.3333333333333333,
             "#9c179e"
            ],
            [
             0.4444444444444444,
             "#bd3786"
            ],
            [
             0.5555555555555556,
             "#d8576b"
            ],
            [
             0.6666666666666666,
             "#ed7953"
            ],
            [
             0.7777777777777778,
             "#fb9f3a"
            ],
            [
             0.8888888888888888,
             "#fdca26"
            ],
            [
             1,
             "#f0f921"
            ]
           ]
          },
          "colorway": [
           "#636efa",
           "#EF553B",
           "#00cc96",
           "#ab63fa",
           "#FFA15A",
           "#19d3f3",
           "#FF6692",
           "#B6E880",
           "#FF97FF",
           "#FECB52"
          ],
          "font": {
           "color": "#2a3f5f"
          },
          "geo": {
           "bgcolor": "white",
           "lakecolor": "white",
           "landcolor": "#E5ECF6",
           "showlakes": true,
           "showland": true,
           "subunitcolor": "white"
          },
          "hoverlabel": {
           "align": "left"
          },
          "hovermode": "closest",
          "mapbox": {
           "style": "light"
          },
          "paper_bgcolor": "white",
          "plot_bgcolor": "#E5ECF6",
          "polar": {
           "angularaxis": {
            "gridcolor": "white",
            "linecolor": "white",
            "ticks": ""
           },
           "bgcolor": "#E5ECF6",
           "radialaxis": {
            "gridcolor": "white",
            "linecolor": "white",
            "ticks": ""
           }
          },
          "scene": {
           "xaxis": {
            "backgroundcolor": "#E5ECF6",
            "gridcolor": "white",
            "gridwidth": 2,
            "linecolor": "white",
            "showbackground": true,
            "ticks": "",
            "zerolinecolor": "white"
           },
           "yaxis": {
            "backgroundcolor": "#E5ECF6",
            "gridcolor": "white",
            "gridwidth": 2,
            "linecolor": "white",
            "showbackground": true,
            "ticks": "",
            "zerolinecolor": "white"
           },
           "zaxis": {
            "backgroundcolor": "#E5ECF6",
            "gridcolor": "white",
            "gridwidth": 2,
            "linecolor": "white",
            "showbackground": true,
            "ticks": "",
            "zerolinecolor": "white"
           }
          },
          "shapedefaults": {
           "line": {
            "color": "#2a3f5f"
           }
          },
          "ternary": {
           "aaxis": {
            "gridcolor": "white",
            "linecolor": "white",
            "ticks": ""
           },
           "baxis": {
            "gridcolor": "white",
            "linecolor": "white",
            "ticks": ""
           },
           "bgcolor": "#E5ECF6",
           "caxis": {
            "gridcolor": "white",
            "linecolor": "white",
            "ticks": ""
           }
          },
          "title": {
           "x": 0.05
          },
          "xaxis": {
           "automargin": true,
           "gridcolor": "white",
           "linecolor": "white",
           "ticks": "",
           "title": {
            "standoff": 15
           },
           "zerolinecolor": "white",
           "zerolinewidth": 2
          },
          "yaxis": {
           "automargin": true,
           "gridcolor": "white",
           "linecolor": "white",
           "ticks": "",
           "title": {
            "standoff": 15
           },
           "zerolinecolor": "white",
           "zerolinewidth": 2
          }
         }
        },
        "width": 500,
        "xaxis": {
         "mirror": "all",
         "showline": true,
         "title": {
          "font": {
           "size": 13
          }
         },
         "zeroline": false
        },
        "yaxis": {
         "mirror": "all",
         "showline": true,
         "title": {
          "font": {
           "size": 13
          }
         },
         "zeroline": false
        }
       }
      },
      "text/html": [
       "<div>                            <div id=\"25a9d963-fb32-4c78-bdae-539dad3f1711\" class=\"plotly-graph-div\" style=\"height:350px; width:500px;\"></div>            <script type=\"text/javascript\">                require([\"plotly\"], function(Plotly) {                    window.PLOTLYENV=window.PLOTLYENV || {};                                    if (document.getElementById(\"25a9d963-fb32-4c78-bdae-539dad3f1711\")) {                    Plotly.newPlot(                        \"25a9d963-fb32-4c78-bdae-539dad3f1711\",                        [{\"line\": {\"color\": \"black\", \"dash\": \"solid\", \"width\": 2}, \"mode\": \"lines\", \"name\": \"T = -91\\u00b0C\", \"type\": \"scatter\", \"uid\": \"a07ae0e2-b85e-4917-abe0-1f26a51808ec\", \"x\": [0.115698337555, 0.260338902473, 0.462844640017, 0.723201870918, 1.0413916111, 1.41738843918, 1.8511531353, 2.34265327454, 2.89188027382, 3.49874424934, 4.16319656372, 4.88532924652, 5.6650261879, 6.50230073929, 7.39715242386, 8.34968280792, 9.35976886749, 10.4275512695, 11.5532798767, 12.7366924286, 13.9783153534, 15.2781858444, 16.6360569, 18.0529785156, 19.5280799866, 21.0627822876, 22.6562213898, 24.3087234497, 26.0200214386, 27.7887744904, 29.6151733398, 31.5005283356, 33.4433937073, 35.4459915161, 37.5080604553, 39.6281471252, 41.8096351624, 44.0500984192, 46.3443031311, 48.6949882507, 51.1016235352, 53.5655479431, 56.0808105469, 58.6458435059, 61.2635421753, 63.9311790466, 66.6494064331, 69.4313201904, 72.2623291016, 72.3144683838, 72.3590393066, 72.4034729004, 72.4702682495, 72.5705413818, 72.7211761475, 72.9472045898, 73.2865066528, 73.795425415, 74.5604400635, 75.7085647583, 77.4429092407, 80.0786437988, 80.1331558228, 80.2023468018, 80.3061447144, 80.462020874, 80.6963119507, 81.048576355, 81.5787963867, 82.3776855469, 83.5811386108, 85.3967819214, 88.1395187378, 88.1960830688, 88.2678604126, 88.3758621216, 88.5380477905, 88.7816009521, 89.147102356, 89.6970901489, 90.5262985229, 91.7776031494, 93.6670532227, 96.5374755859, 96.5973587036, 96.6726913452, 96.7853546143, 96.9547653198, 97.2091522217, 97.5916366577, 98.166053772, 99.03074646, 100.339012146, 102.32346344, 105.34589386, 105.408500671, 105.487579346, 105.606735229, 105.786094666, 106.054298401, 106.457695007, 107.063247681, 107.975448608, 109.345672607, 111.417732239, 111.619148254, 111.911865234, 112.351303101, 113.012252808, 114.005645752, 115.501480103, 117.76423645, 117.824699402, 117.878089905, 117.931419373, 118.011329651, 118.131332397, 118.311355591, 118.581512451, 118.987037659, 119.596694946], \"y\": [0.0, 0.0, 2114.4869194957823, 2127.296918752069, 3728.522991495941, 4063.641165135588, 4482.75618610516, 4936.575956397143, 5527.702842323175, 5857.9590511457445, 6413.114553069451, 6893.400572437338, 7214.165847552584, 7758.384699539958, 8069.521489388125, 8409.009608087696, 8861.14472225144, 9323.75284230017, 9718.796075665165, 10034.356942050304, 10557.953818549724, 11063.182377173085, 11259.501664293055, 11855.830100459048, 12201.823309144847, 12609.217512832754, 12864.54698945544, 13496.149936233207, 13683.426232705671, 14186.651739189718, 14448.015159777377, 14695.15101575037, 15262.805182576445, 15474.460217150852, 15767.953254783846, 16258.408008611643, 16468.932499540453, 16795.245260192503, 17210.846901075307, 17447.30862571981, 17793.690873118903, 18146.771902836415, 18421.32096424743, 18720.723599314562, 19021.681617184408, 19341.493349515145, 19609.98941898934, 19893.367874349886, 20250.648453726746, 20252.869922974773, 20250.240340363558, 20252.13230468582, 20254.969926642123, 20259.092964860993, 20271.512596206197, 20279.93698453097, 20289.348638176943, 20638.006623332007, 20391.965273889753, 20530.734887480776, 20689.90453901541, 20899.744472657025, 20901.348193142738, 20909.839856845298, 20913.604323997446, 20926.762148329715, 20936.864703746203, 20964.787038689385, 21005.502889763688, 21060.162339973806, 21179.75681082144, 21361.328257489455, 21568.265868581326, 21570.011651216504, 21587.49181289371, 21591.021104060972, 21594.589915235843, 21601.74726761196, 21650.80691842678, 21637.335626473694, 21715.096360227348, 21765.40187952089, 21970.587990392654, 22160.30757862536, 22246.85226785342, 22571.76122642926, 22240.339413546943, 22233.450624885405, 22222.959979016334, 22215.194467500703, 22242.070311282838, 22299.251576481623, 22363.07619544673, 22501.559123850002, 22671.498319932056, 22672.990068013467, 22674.453665233264, 22748.943362669328, 22724.090456950187, 22731.75453699753, 22787.10195527612, 22767.876483457792, 22852.71904567367, 22920.671545081466, 23057.702239898565, 23062.796720653416, 23083.527812113192, 23127.446904458695, 23118.11743157435, 23144.699491536176, 23221.42868630024, 23392.236541367885, 23420.77030371478, 23905.89002788998, 23423.39294332961, 23425.38862678748, 23428.383202588215, 23432.895367576686, 23433.255105029813, 23455.635518962703, 23465.967849334065]}, {\"line\": {\"color\": \"blue\", \"dash\": \"solid\", \"width\": 2}, \"mode\": \"lines\", \"name\": \"T = -60\\u00b0C\", \"type\": \"scatter\", \"uid\": \"34cff62e-9f23-4975-bf0f-8d09d9d8abaf\", \"x\": [0.260264933109, 0.462675571442, 0.722916841507, 1.04088020325, 1.41660559177, 1.84996175766, 2.34093403816, 2.88945651054, 3.49548697472, 4.15896987915, 4.87987756729, 5.65815830231, 6.49382162094, 7.3868637085, 8.337266922, 9.34507083893, 10.4104423523, 11.533367157, 12.7142162323, 13.9527130127, 15.2493076324, 16.6042823792, 18.0177688599, 19.4895629883, 21.0208816528, 22.6110057831, 24.2600402832, 25.9664897919, 27.7267971039, 29.5445709229, 31.4192276001, 33.3480453491, 35.3357048035, 37.3792228699, 39.4819259644, 41.6393966675, 43.8539237976, 46.1201057434, 48.4417304993, 50.8184661865, 53.2501831055, 55.7308349609, 58.263458252, 60.8368263245, 63.4373474121, 66.0624237061, 68.7168960571, 71.4187698364, 74.1615524292, 76.9486999512, 79.7900695801, 82.6758041382, 85.6066055298, 88.5867767334, 91.6195907593, 94.6997756958, 97.8332672119, 100.995506287, 104.183174133, 107.408676147, 110.669548035, 113.964439392, 117.293388367, 120.655036926, 124.052993774, 127.490730286, 130.976486206, 134.507751465, 138.082199097, 141.702056885, 145.361480713, 149.064041138, 152.803588867, 156.577560425, 160.395187378, 164.257629395, 168.166366577, 172.11328125, 176.090362549, 180.102325439, 184.151733398, 188.236740112, 192.351501465, 196.502914429, 200.688583374, 204.902633667, 209.144500732], \"y\": [0.0, 0.0, 3034.508287454474, 3383.9971623199604, 3444.1739231611195, 3640.068803584522, 3968.4233891775125, 4310.813511085656, 4838.8960038463165, 5440.653025550597, 6115.331408352783, 6423.8648057711835, 6722.43789750347, 6894.9982012987775, 7270.911689767181, 7655.849164254374, 7830.089516794641, 8448.383733338167, 8785.05926737265, 9009.449049107858, 9583.094630169237, 9749.578523141154, 10093.881989212508, 10440.26793625723, 10720.780209173257, 11049.706789995125, 11304.353163227393, 11612.647909321962, 11893.498835256061, 12238.545956512773, 12526.683782250288, 12792.484034466805, 13032.967414595014, 13277.41434099604, 13611.892075977947, 13816.02944488215, 14142.85024011763, 14362.444134140032, 14649.550539370319, 14975.095768673833, 15208.426511393689, 15400.372416321969, 15761.671873959272, 15835.045325094445, 16010.47067135909, 16273.084036127479, 16572.155286931258, 16695.677083595594, 17067.453489232255, 17147.14982103569, 17295.486046622264, 17441.99961718408, 17616.46291957759, 17814.21203255347, 17833.792496968163, 18002.968111454647, 18181.691827116916, 18231.062077267896, 18396.685898770058, 18465.93391285915, 18757.62241829574, 18744.104259863154, 18785.486085251556, 18882.142935324395, 19060.40649743215, 19085.701089815306, 19136.167366526206, 19206.12584199999, 19388.362996348904, 19421.032821902194, 19476.393037837257, 19476.59881396504, 19522.620750014685, 19583.09533664915, 19625.53721752805, 19660.307998575372, 20159.935735501374, 19740.172917775013, 19782.748183915937, 19801.06869073738, 19833.017468762737, 19867.014971654793, 19877.818766942102, 19895.124386510804, 19913.14717556874, 19952.92824698886, 19984.641702342982]}, {\"line\": {\"color\": \"green\", \"dash\": \"solid\", \"width\": 2}, \"mode\": \"lines\", \"name\": \"T = -40\\u00b0C\", \"type\": \"scatter\", \"uid\": \"0560a61d-3097-44cf-b2fd-f5eb7ea8df8a\", \"x\": [0.256513297558, 0.577115416527, 1.02571594715, 1.60218751431, 2.3061709404, 3.13781690598, 4.09654188156, 5.182513237, 6.39557027817, 7.73576974869, 9.20316505432, 10.798204422, 12.5211801529, 14.37271595, 16.3538303375, 18.4647254944, 20.7068767548, 23.0804634094, 25.5852451324, 28.2205066681, 30.9811096191, 33.8687286377, 36.8777542114, 40.0129470825, 43.2747955322, 46.6620521545, 50.1710205078, 53.7910079956, 57.5207939148, 61.3296508789, 65.2536392212, 69.2781066895, 73.419883728, 77.6879348755, 82.0928497314, 86.632484436, 91.2769851685, 95.9990997314, 100.799934387, 105.691932678, 110.682525635, 115.769340515, 120.960014343, 126.246871948, 131.642868042, 137.153366089, 142.774917603, 148.487136841, 154.304244995, 160.217163086, 166.211715698, 172.28994751, 178.453857422, 184.704223633, 191.022460938, 197.407806396, 203.853469849, 210.355682373, 216.914779663, 223.516296387, 230.164703369, 236.860244751, 243.600128174, 250.373550415, 257.177856445, 264.017669678, 270.890258789, 277.795288086, 284.73236084, 291.703369141, 298.705444336, 305.73550415, 312.79486084, 319.884490967, 327.001251221, 334.14666748, 341.313781738, 348.506256104, 355.719696045, 362.953033447, 370.205718994, 377.479125977, 384.768188477, 392.071380615, 399.388214111, 406.720031738, 414.067108154, 421.430877686, 428.809570313, 436.20111084, 443.604705811, 451.019439697, 458.44354248], \"y\": [0.0, 0.0, 2877.321845864282, 3154.1380697243185, 3705.8867314924682, 3945.1037782301496, 4352.225536523833, 4822.594954586438, 5736.861869133293, 6338.622832729944, 6489.908952360898, 7011.958106024625, 7248.8827185009095, 7868.781747112003, 8434.30938684672, 8737.588624790409, 9636.313946045986, 9961.203483544587, 10250.613426581816, 10488.59151281802, 11113.43467910335, 11378.573660405726, 11697.457842129836, 12112.620341411319, 12433.671793055923, 12920.554644971404, 13155.846971254494, 13433.162105436377, 13877.903201584522, 14099.471386704156, 14383.563275932376, 14713.568248505071, 14978.55158314635, 15187.48600258957, 15372.448539621822, 15694.389681292738, 15939.468440295423, 16136.203623434027, 16313.793804243818, 16466.628980511778, 16817.434996237815, 16721.739378354978, 17198.58987475992, 17074.403060391738, 17154.628504761287, 17764.288284582, 17407.83231998646, 17624.922881313603, 17991.9011193693, 18036.30497578126, 17897.34076368371, 17670.180174723853, 18052.03614697455, 18036.82080258948, 18053.510607062013, 17961.968580356996, 18024.250110525183, 18390.3290185566, 18442.451054879803, 18476.37400577163, 18533.352237572493, 18579.146918237828, 18641.76895258366, 18680.450320557367, 18694.977068130593, 18708.317786418233, 18800.024156857988, 18833.34498832969, 18788.42882471644, 18875.513812197885, 18923.258070663807, 18829.703853137395, 18832.375499862672, 18999.045891662485, 18857.56925441812, 18874.42701267409, 18984.449248680332, 18879.45968494681, 18935.092879836084, 19119.34669177619, 18939.096605510793, 19211.363299251512, 18980.78261540766, 19096.89117126881, 18982.30152241175, 19099.47054484076, 19008.725445476146, 19181.8757650021, 18987.01777414343, 19120.95047885433, 19207.23917360044, 19008.824387412602, 19279.258000921756]}, {\"line\": {\"color\": \"grey\", \"dash\": \"dash\"}, \"name\": \"$\\\\mathrm{prediction\\\\;based\\\\;on}\\\\;J_0^{T = -91\\\\mathrm{\\u00b0C}}$\", \"type\": \"scatter\", \"uid\": \"211e9c50-ee91-4287-8c42-7a12ecd195f0\", \"x\": [0.0, 9.183673469387756, 18.367346938775512, 27.551020408163268, 36.734693877551024, 45.91836734693878, 55.102040816326536, 64.28571428571429, 73.46938775510205, 82.6530612244898, 91.83673469387756, 101.02040816326532, 110.20408163265307, 119.38775510204083, 128.57142857142858, 137.75510204081633, 146.9387755102041, 156.12244897959187, 165.3061224489796, 174.48979591836735, 183.67346938775512, 192.8571428571429, 202.04081632653063, 211.22448979591837, 220.40816326530614, 229.5918367346939, 238.77551020408166, 247.9591836734694, 257.14285714285717, 266.32653061224494, 275.51020408163265, 284.6938775510204, 293.8775510204082, 303.06122448979596, 312.24489795918373, 321.42857142857144, 330.6122448979592, 339.795918367347, 348.9795918367347, 358.16326530612247, 367.34693877551024, 376.530612244898, 385.7142857142858, 394.8979591836735, 404.08163265306126, 413.26530612244903, 422.44897959183675, 431.6326530612245, 440.8163265306123, 450.0], \"y\": [18744.104259863154, 18744.104259863154, 18744.104259863154, 18744.104259863154, 18744.104259863154, 18744.104259863154, 18744.104259863154, 18744.104259863154, 18744.104259863154, 18744.104259863154, 18744.104259863154, 18744.104259863154, 18744.104259863154, 18744.104259863154, 18744.104259863154, 18744.104259863154, 18744.104259863154, 18744.104259863154, 18744.104259863154, 18744.104259863154, 18744.104259863154, 18744.104259863154, 18744.104259863154, 18744.104259863154, 18744.104259863154, 18744.104259863154, 18744.104259863154, 18744.104259863154, 18744.104259863154, 18744.104259863154, 18744.104259863154, 18744.104259863154, 18744.104259863154, 18744.104259863154, 18744.104259863154, 18744.104259863154, 18744.104259863154, 18744.104259863154, 18744.104259863154, 18744.104259863154, 18744.104259863154, 18744.104259863154, 18744.104259863154, 18744.104259863154, 18744.104259863154, 18744.104259863154, 18744.104259863154, 18744.104259863154, 18744.104259863154, 18744.104259863154, 18744.104259863154, 18744.104259863154, 18744.104259863154, 18744.104259863154, 18744.104259863154, 18744.104259863154, 18744.104259863154, 18744.104259863154, 18744.104259863154, 18744.104259863154, 18744.104259863154, 18744.104259863154, 18744.104259863154, 18744.104259863154, 18744.104259863154, 18744.104259863154, 18744.104259863154, 18744.104259863154, 18744.104259863154, 18744.104259863154, 18744.104259863154, 18744.104259863154, 18744.104259863154, 18744.104259863154, 18744.104259863154, 18744.104259863154, 18744.104259863154, 18744.104259863154, 18744.104259863154, 18744.104259863154, 18744.104259863154, 18744.104259863154, 18744.104259863154, 18744.104259863154, 18744.104259863154, 18744.104259863154, 18744.104259863154, 18744.104259863154, 18744.104259863154, 18744.104259863154, 18744.104259863154, 18744.104259863154, 18744.104259863154, 18744.104259863154, 18744.104259863154, 18744.104259863154, 18744.104259863154, 18744.104259863154, 18744.104259863154, 18744.104259863154, 18744.104259863154, 18744.104259863154, 18744.104259863154, 18744.104259863154, 18744.104259863154, 18744.104259863154, 18744.104259863154, 18744.104259863154, 18744.104259863154, 18744.104259863154, 18744.104259863154, 18744.104259863154, 18744.104259863154, 18744.104259863154, 18744.104259863154, 18744.104259863154, 18744.104259863154, 18744.104259863154, 18744.104259863154, 18744.104259863154]}],                        {\"annotations\": [{\"font\": {\"size\": 11}, \"showarrow\": false, \"text\": \"$\\\\LARGE{J\\\\;\\\\mathrm{(Nmm)}^{-1}}$\", \"x\": 0.5, \"xref\": \"paper\", \"y\": -0.22, \"yref\": \"paper\"}, {\"font\": {\"size\": 11}, \"showarrow\": false, \"text\": \"$\\\\LARGE{\\\\sigma_\\\\mathrm{w}}$\", \"textangle\": -90, \"x\": -0.22, \"xref\": \"paper\", \"y\": 0.5, \"yref\": \"paper\"}, {\"font\": {\"size\": 11}, \"showarrow\": false, \"text\": \"$$\", \"x\": 0.41, \"xref\": \"paper\", \"y\": 1.1, \"yref\": \"paper\"}], \"height\": 350, \"legend\": {\"x\": 0.8, \"y\": 0.01}, \"margin\": {\"b\": 80, \"l\": 80, \"r\": 20, \"t\": 40}, \"showlegend\": true, \"template\": {\"data\": {\"bar\": [{\"error_x\": {\"color\": \"#2a3f5f\"}, \"error_y\": {\"color\": \"#2a3f5f\"}, \"marker\": {\"line\": {\"color\": \"#E5ECF6\", \"width\": 0.5}}, \"type\": \"bar\"}], \"barpolar\": [{\"marker\": {\"line\": {\"color\": \"#E5ECF6\", \"width\": 0.5}}, \"type\": \"barpolar\"}], \"carpet\": [{\"aaxis\": {\"endlinecolor\": \"#2a3f5f\", \"gridcolor\": \"white\", \"linecolor\": \"white\", \"minorgridcolor\": \"white\", \"startlinecolor\": \"#2a3f5f\"}, \"baxis\": {\"endlinecolor\": \"#2a3f5f\", \"gridcolor\": \"white\", \"linecolor\": \"white\", \"minorgridcolor\": \"white\", \"startlinecolor\": \"#2a3f5f\"}, \"type\": \"carpet\"}], \"choropleth\": [{\"colorbar\": {\"outlinewidth\": 0, \"ticks\": \"\"}, \"type\": \"choropleth\"}], \"contour\": [{\"colorbar\": {\"outlinewidth\": 0, \"ticks\": \"\"}, \"colorscale\": [[0.0, \"#0d0887\"], [0.1111111111111111, \"#46039f\"], [0.2222222222222222, \"#7201a8\"], [0.3333333333333333, \"#9c179e\"], [0.4444444444444444, \"#bd3786\"], [0.5555555555555556, \"#d8576b\"], [0.6666666666666666, \"#ed7953\"], [0.7777777777777778, \"#fb9f3a\"], [0.8888888888888888, \"#fdca26\"], [1.0, \"#f0f921\"]], \"type\": \"contour\"}], \"contourcarpet\": [{\"colorbar\": {\"outlinewidth\": 0, \"ticks\": \"\"}, \"type\": \"contourcarpet\"}], \"heatmap\": [{\"colorbar\": {\"outlinewidth\": 0, \"ticks\": \"\"}, \"colorscale\": [[0.0, \"#0d0887\"], [0.1111111111111111, \"#46039f\"], [0.2222222222222222, \"#7201a8\"], [0.3333333333333333, \"#9c179e\"], [0.4444444444444444, \"#bd3786\"], [0.5555555555555556, \"#d8576b\"], [0.6666666666666666, \"#ed7953\"], [0.7777777777777778, \"#fb9f3a\"], [0.8888888888888888, \"#fdca26\"], [1.0, \"#f0f921\"]], \"type\": \"heatmap\"}], \"heatmapgl\": [{\"colorbar\": {\"outlinewidth\": 0, \"ticks\": \"\"}, \"colorscale\": [[0.0, \"#0d0887\"], [0.1111111111111111, \"#46039f\"], [0.2222222222222222, \"#7201a8\"], [0.3333333333333333, \"#9c179e\"], [0.4444444444444444, \"#bd3786\"], [0.5555555555555556, \"#d8576b\"], [0.6666666666666666, \"#ed7953\"], [0.7777777777777778, \"#fb9f3a\"], [0.8888888888888888, \"#fdca26\"], [1.0, \"#f0f921\"]], \"type\": \"heatmapgl\"}], \"histogram\": [{\"marker\": {\"colorbar\": {\"outlinewidth\": 0, \"ticks\": \"\"}}, \"type\": \"histogram\"}], \"histogram2d\": [{\"colorbar\": {\"outlinewidth\": 0, \"ticks\": \"\"}, \"colorscale\": [[0.0, \"#0d0887\"], [0.1111111111111111, \"#46039f\"], [0.2222222222222222, \"#7201a8\"], [0.3333333333333333, \"#9c179e\"], [0.4444444444444444, \"#bd3786\"], [0.5555555555555556, \"#d8576b\"], [0.6666666666666666, \"#ed7953\"], [0.7777777777777778, \"#fb9f3a\"], [0.8888888888888888, \"#fdca26\"], [1.0, \"#f0f921\"]], \"type\": \"histogram2d\"}], \"histogram2dcontour\": [{\"colorbar\": {\"outlinewidth\": 0, \"ticks\": \"\"}, \"colorscale\": [[0.0, \"#0d0887\"], [0.1111111111111111, \"#46039f\"], [0.2222222222222222, \"#7201a8\"], [0.3333333333333333, \"#9c179e\"], [0.4444444444444444, \"#bd3786\"], [0.5555555555555556, \"#d8576b\"], [0.6666666666666666, \"#ed7953\"], [0.7777777777777778, \"#fb9f3a\"], [0.8888888888888888, \"#fdca26\"], [1.0, \"#f0f921\"]], \"type\": \"histogram2dcontour\"}], \"mesh3d\": [{\"colorbar\": {\"outlinewidth\": 0, \"ticks\": \"\"}, \"type\": \"mesh3d\"}], \"parcoords\": [{\"line\": {\"colorbar\": {\"outlinewidth\": 0, \"ticks\": \"\"}}, \"type\": \"parcoords\"}], \"pie\": [{\"automargin\": true, \"type\": \"pie\"}], \"scatter\": [{\"marker\": {\"colorbar\": {\"outlinewidth\": 0, \"ticks\": \"\"}}, \"type\": \"scatter\"}], \"scatter3d\": [{\"line\": {\"colorbar\": {\"outlinewidth\": 0, \"ticks\": \"\"}}, \"marker\": {\"colorbar\": {\"outlinewidth\": 0, \"ticks\": \"\"}}, \"type\": \"scatter3d\"}], \"scattercarpet\": [{\"marker\": {\"colorbar\": {\"outlinewidth\": 0, \"ticks\": \"\"}}, \"type\": \"scattercarpet\"}], \"scattergeo\": [{\"marker\": {\"colorbar\": {\"outlinewidth\": 0, \"ticks\": \"\"}}, \"type\": \"scattergeo\"}], \"scattergl\": [{\"marker\": {\"colorbar\": {\"outlinewidth\": 0, \"ticks\": \"\"}}, \"type\": \"scattergl\"}], \"scattermapbox\": [{\"marker\": {\"colorbar\": {\"outlinewidth\": 0, \"ticks\": \"\"}}, \"type\": \"scattermapbox\"}], \"scatterpolar\": [{\"marker\": {\"colorbar\": {\"outlinewidth\": 0, \"ticks\": \"\"}}, \"type\": \"scatterpolar\"}], \"scatterpolargl\": [{\"marker\": {\"colorbar\": {\"outlinewidth\": 0, \"ticks\": \"\"}}, \"type\": \"scatterpolargl\"}], \"scatterternary\": [{\"marker\": {\"colorbar\": {\"outlinewidth\": 0, \"ticks\": \"\"}}, \"type\": \"scatterternary\"}], \"surface\": [{\"colorbar\": {\"outlinewidth\": 0, \"ticks\": \"\"}, \"colorscale\": [[0.0, \"#0d0887\"], [0.1111111111111111, \"#46039f\"], [0.2222222222222222, \"#7201a8\"], [0.3333333333333333, \"#9c179e\"], [0.4444444444444444, \"#bd3786\"], [0.5555555555555556, \"#d8576b\"], [0.6666666666666666, \"#ed7953\"], [0.7777777777777778, \"#fb9f3a\"], [0.8888888888888888, \"#fdca26\"], [1.0, \"#f0f921\"]], \"type\": \"surface\"}], \"table\": [{\"cells\": {\"fill\": {\"color\": \"#EBF0F8\"}, \"line\": {\"color\": \"white\"}}, \"header\": {\"fill\": {\"color\": \"#C8D4E3\"}, \"line\": {\"color\": \"white\"}}, \"type\": \"table\"}]}, \"layout\": {\"annotationdefaults\": {\"arrowcolor\": \"#2a3f5f\", \"arrowhead\": 0, \"arrowwidth\": 1}, \"autotypenumbers\": \"strict\", \"coloraxis\": {\"colorbar\": {\"outlinewidth\": 0, \"ticks\": \"\"}}, \"colorscale\": {\"diverging\": [[0, \"#8e0152\"], [0.1, \"#c51b7d\"], [0.2, \"#de77ae\"], [0.3, \"#f1b6da\"], [0.4, \"#fde0ef\"], [0.5, \"#f7f7f7\"], [0.6, \"#e6f5d0\"], [0.7, \"#b8e186\"], [0.8, \"#7fbc41\"], [0.9, \"#4d9221\"], [1, \"#276419\"]], \"sequential\": [[0.0, \"#0d0887\"], [0.1111111111111111, \"#46039f\"], [0.2222222222222222, \"#7201a8\"], [0.3333333333333333, \"#9c179e\"], [0.4444444444444444, \"#bd3786\"], [0.5555555555555556, \"#d8576b\"], [0.6666666666666666, \"#ed7953\"], [0.7777777777777778, \"#fb9f3a\"], [0.8888888888888888, \"#fdca26\"], [1.0, \"#f0f921\"]], \"sequentialminus\": [[0.0, \"#0d0887\"], [0.1111111111111111, \"#46039f\"], [0.2222222222222222, \"#7201a8\"], [0.3333333333333333, \"#9c179e\"], [0.4444444444444444, \"#bd3786\"], [0.5555555555555556, \"#d8576b\"], [0.6666666666666666, \"#ed7953\"], [0.7777777777777778, \"#fb9f3a\"], [0.8888888888888888, \"#fdca26\"], [1.0, \"#f0f921\"]]}, \"colorway\": [\"#636efa\", \"#EF553B\", \"#00cc96\", \"#ab63fa\", \"#FFA15A\", \"#19d3f3\", \"#FF6692\", \"#B6E880\", \"#FF97FF\", \"#FECB52\"], \"font\": {\"color\": \"#2a3f5f\"}, \"geo\": {\"bgcolor\": \"white\", \"lakecolor\": \"white\", \"landcolor\": \"#E5ECF6\", \"showlakes\": true, \"showland\": true, \"subunitcolor\": \"white\"}, \"hoverlabel\": {\"align\": \"left\"}, \"hovermode\": \"closest\", \"mapbox\": {\"style\": \"light\"}, \"paper_bgcolor\": \"white\", \"plot_bgcolor\": \"#E5ECF6\", \"polar\": {\"angularaxis\": {\"gridcolor\": \"white\", \"linecolor\": \"white\", \"ticks\": \"\"}, \"bgcolor\": \"#E5ECF6\", \"radialaxis\": {\"gridcolor\": \"white\", \"linecolor\": \"white\", \"ticks\": \"\"}}, \"scene\": {\"xaxis\": {\"backgroundcolor\": \"#E5ECF6\", \"gridcolor\": \"white\", \"gridwidth\": 2, \"linecolor\": \"white\", \"showbackground\": true, \"ticks\": \"\", \"zerolinecolor\": \"white\"}, \"yaxis\": {\"backgroundcolor\": \"#E5ECF6\", \"gridcolor\": \"white\", \"gridwidth\": 2, \"linecolor\": \"white\", \"showbackground\": true, \"ticks\": \"\", \"zerolinecolor\": \"white\"}, \"zaxis\": {\"backgroundcolor\": \"#E5ECF6\", \"gridcolor\": \"white\", \"gridwidth\": 2, \"linecolor\": \"white\", \"showbackground\": true, \"ticks\": \"\", \"zerolinecolor\": \"white\"}}, \"shapedefaults\": {\"line\": {\"color\": \"#2a3f5f\"}}, \"ternary\": {\"aaxis\": {\"gridcolor\": \"white\", \"linecolor\": \"white\", \"ticks\": \"\"}, \"baxis\": {\"gridcolor\": \"white\", \"linecolor\": \"white\", \"ticks\": \"\"}, \"bgcolor\": \"#E5ECF6\", \"caxis\": {\"gridcolor\": \"white\", \"linecolor\": \"white\", \"ticks\": \"\"}}, \"title\": {\"x\": 0.05}, \"xaxis\": {\"automargin\": true, \"gridcolor\": \"white\", \"linecolor\": \"white\", \"ticks\": \"\", \"title\": {\"standoff\": 15}, \"zerolinecolor\": \"white\", \"zerolinewidth\": 2}, \"yaxis\": {\"automargin\": true, \"gridcolor\": \"white\", \"linecolor\": \"white\", \"ticks\": \"\", \"title\": {\"standoff\": 15}, \"zerolinecolor\": \"white\", \"zerolinewidth\": 2}}}, \"width\": 500, \"xaxis\": {\"mirror\": \"all\", \"showline\": true, \"title\": {\"font\": {\"size\": 13}}, \"zeroline\": false}, \"yaxis\": {\"mirror\": \"all\", \"showline\": true, \"title\": {\"font\": {\"size\": 13}}, \"zeroline\": false}},                        {\"responsive\": true}                    ).then(function(){\n",
       "                            \n",
       "var gd = document.getElementById('25a9d963-fb32-4c78-bdae-539dad3f1711');\n",
       "var x = new MutationObserver(function (mutations, observer) {{\n",
       "        var display = window.getComputedStyle(gd).display;\n",
       "        if (!display || display === 'none') {{\n",
       "            console.log([gd, 'removed!']);\n",
       "            Plotly.purge(gd);\n",
       "            observer.disconnect();\n",
       "        }}\n",
       "}});\n",
       "\n",
       "// Listen for the removal of the full notebook cells\n",
       "var notebookContainer = gd.closest('#notebook-container');\n",
       "if (notebookContainer) {{\n",
       "    x.observe(notebookContainer, {childList: true});\n",
       "}}\n",
       "\n",
       "// Listen for the clearing of the current output cell\n",
       "var outputEl = gd.closest('.output');\n",
       "if (outputEl) {{\n",
       "    x.observe(outputEl, {childList: true});\n",
       "}}\n",
       "\n",
       "                        })                };                });            </script>        </div>"
      ]
     },
     "metadata": {},
     "output_type": "display_data"
    }
   ],
   "source": [
    "# plot\n",
    "# non-normalised\n",
    "\n",
    "ylab = r'$\\LARGE{\\sigma_\\mathrm{w}}$'\n",
    "xlab = r'$\\LARGE{J\\;\\mathrm{(Nmm)}^{-1}}$'\n",
    "layout['annotations'][1]['text'] = ylab\n",
    "title = r'$$'\n",
    "data = []\n",
    "\n",
    "sw_data_plot = glob_sw_all_corr\n",
    "\n",
    "for ri, sw_r in enumerate(sw_data_plot):\n",
    "    sw = sw_r[idxm]\n",
    "    mi = idxm\n",
    "   \n",
    "    x_plot = (gdata_all[ri]['gdata']['jintc']).values[skipped_lines_all[ri]:]\n",
    "    y_plot = sw # / su_all[ri] \n",
    "    \n",
    "\n",
    "    data.append({\n",
    "            'x': x_plot,\n",
    "            'y': np.array(y_plot),   # /mean_corr[ri]\n",
    "            'name': r'T = ' + str(temps[ri]) + r'°C',\n",
    "        #             'marker':{'symbol':'circle', 'color': [ri]},\n",
    "            'line': {'dash': lines[0], 'color': cols[ri], 'width': 2},\n",
    "             'mode': 'lines',\n",
    "        })\n",
    "data.append(\n",
    "    {\n",
    "        'x': np.linspace(0, 450),\n",
    "        'y': sw_data_plot[1][idxm][gdata_all[1]['j0_idx']-skipped_lines_all[1]]  * np.ones(120), # / su_all[1],\n",
    "        'line': {'dash': lines[1], 'color': 'grey'},\n",
    "        'name': r'$\\mathrm{prediction\\;based\\;on}\\;J_0^{T = -91\\mathrm{°C}}$' \n",
    "            })\n",
    "\n",
    "\n",
    "layout = {\n",
    "    'width': 500,\n",
    "    'height': 350,\n",
    "    'xaxis': {\n",
    "#         'range': [-0.1, 1.1],\n",
    "        'zeroline': False,\n",
    "        'showline': True,\n",
    "        'mirror': 'all',\n",
    "#         'title': r'$m$',\n",
    "        'titlefont':{'size': 13}\n",
    "    },\n",
    "    'yaxis': {\n",
    "        'zeroline': False,\n",
    "        'showline': True,\n",
    "        'mirror': 'all',\n",
    "#         'title': '$\\sigma_\\mathrm{w}/\\sigma_\\mathrm{f} $ ',\n",
    "        'titlefont':{'size': 13},\n",
    "\n",
    "    },\n",
    "    'annotations':[\n",
    "    {\n",
    "        'text':  xlab,\n",
    "        'x': 0.5,\n",
    "        'y': -0.22,\n",
    "        'xref': 'paper',\n",
    "        'yref': 'paper',\n",
    "        'showarrow': False,\n",
    "        'font': {'size': 11},\n",
    "    },\n",
    "        {\n",
    "        'text':  ylab,\n",
    "        'x': -0.22,\n",
    "        'y': 0.5,\n",
    "        'xref': 'paper',\n",
    "        'yref': 'paper',\n",
    "        'showarrow': False,\n",
    "        'font': {'size': 11},\n",
    "        'textangle': -90\n",
    "    },\n",
    "        {\n",
    "        'text':  title,\n",
    "        'x': 0.41,\n",
    "        'y': 1.1,\n",
    "        'xref': 'paper',\n",
    "        'yref': 'paper',\n",
    "        'showarrow': False,\n",
    "        'font': {'size': 11},\n",
    "    },\n",
    "    ],\n",
    "    'legend':{\n",
    "        'x': 0.8,\n",
    "        'y': 0.01,\n",
    "    },\n",
    "    \n",
    "     'margin': {\n",
    "                'l': 80,\n",
    "                'r': 20,\n",
    "                'b': 80,\n",
    "                't': 40,\n",
    "#                 'pad': 1\n",
    "     },\n",
    "\n",
    "}\n",
    "\n",
    "layout['showlegend'] = True\n",
    "f = go.FigureWidget(data,layout)\n",
    "py.iplot(f)     "
   ]
  }
 ],
 "metadata": {
  "kernelspec": {
   "display_name": "Python [conda env:fracture_fea_laf_env]",
   "language": "python",
   "name": "conda-env-fracture_fea_laf_env-py"
  },
  "language_info": {
   "codemirror_mode": {
    "name": "ipython",
    "version": 3
   },
   "file_extension": ".py",
   "mimetype": "text/x-python",
   "name": "python",
   "nbconvert_exporter": "python",
   "pygments_lexer": "ipython3",
   "version": "3.9.5"
  },
  "toc": {
   "base_numbering": 1,
   "nav_menu": {},
   "number_sections": true,
   "sideBar": true,
   "skip_h1_title": false,
   "title_cell": "Table of Contents",
   "title_sidebar": "Contents",
   "toc_cell": false,
   "toc_position": {
    "height": "calc(100% - 180px)",
    "left": "10px",
    "top": "150px",
    "width": "234px"
   },
   "toc_section_display": true,
   "toc_window_display": true
  }
 },
 "nbformat": 4,
 "nbformat_minor": 4
}
