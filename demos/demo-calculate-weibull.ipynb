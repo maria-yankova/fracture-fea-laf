{
 "cells": [
  {
   "cell_type": "markdown",
   "metadata": {},
   "source": [
    "## Intro"
   ]
  },
  {
   "cell_type": "code",
   "execution_count": null,
   "metadata": {},
   "outputs": [],
   "source": []
  },
  {
   "cell_type": "markdown",
   "metadata": {},
   "source": [
    "## Imports"
   ]
  },
  {
   "cell_type": "code",
   "execution_count": 63,
   "metadata": {
    "code_folding": [],
    "scrolled": true
   },
   "outputs": [
    {
     "name": "stdout",
     "output_type": "stream",
     "text": [
      "The autoreload extension is already loaded. To reload it, use:\n",
      "  %reload_ext autoreload\n"
     ]
    }
   ],
   "source": [
    "# imports\n",
    "import matplotlib.pyplot as plt\n",
    "import numpy as np\n",
    "import os\n",
    "import pandas as pd\n",
    "import pickle\n",
    "from plotly import graph_objs as go\n",
    "import plotly.offline as py\n",
    "from plotly.offline import init_notebook_mode, iplot, plot\n",
    "from scipy.optimize import curve_fit\n",
    "import scipy.stats \n",
    "from fracture_fea_laf import postprocess\n",
    "from fracture_fea_laf.postprocess import calc_sw_diff, pred_j0\n",
    "\n",
    "%load_ext autoreload\n",
    "%autoreload 2"
   ]
  },
  {
   "cell_type": "markdown",
   "metadata": {},
   "source": [
    "# Experimental data"
   ]
  },
  {
   "cell_type": "markdown",
   "metadata": {},
   "source": [
    "## Mechanical properties"
   ]
  },
  {
   "cell_type": "code",
   "execution_count": 9,
   "metadata": {},
   "outputs": [],
   "source": [
    "def E_temp(T):\n",
    "    \"\"\"\n",
    "    Calculate Young's modulus of Euromaterial A based on Serco fitting \n",
    "    \n",
    "    Parameters\n",
    "    ----------\n",
    "    T : float\n",
    "        Temperature in °C\n",
    "        \n",
    "    Returns\n",
    "    -------\n",
    "    float\n",
    "        Young's modulus in MPa.    \n",
    "    \n",
    "    \"\"\"\n",
    "    return -90 * T + 206000\n",
    "\n",
    "def s0(T):\n",
    "    \"\"\"\n",
    "    Calculate Yield stress of Euromaterial A based on Serco fitting \n",
    "    \n",
    "    Parameters\n",
    "    ----------\n",
    "    T : float\n",
    "        Temperature in °C\n",
    "        \n",
    "    Returns\n",
    "    -------\n",
    "    float\n",
    "        Yield stress in MPa.    \n",
    "    \n",
    "    \"\"\"\n",
    "    return 421.18 + 63.9 * np.exp(- T / 91)\n",
    "\n",
    "nu = 0.3\n",
    "davg = 9e-9"
   ]
  },
  {
   "cell_type": "markdown",
   "metadata": {},
   "source": [
    "## Fracture toughness"
   ]
  },
  {
   "cell_type": "code",
   "execution_count": 10,
   "metadata": {
    "code_folding": []
   },
   "outputs": [],
   "source": [
    "# Load data and calculate CDF\n",
    "with open(r'..\\exp-data\\raw_frac_data.pickle', 'rb') as handle:\n",
    "    raw_frac_data = pickle.load(handle)\n",
    "    \n",
    "sflow = [848.5, 723.6, 683.5, 663.0]\n",
    "temps = [ -154, -91, -60, -40, -20, 0]\n",
    "\n",
    "j_exp_1, cpf_1 = postprocess.calc_cpf(raw_frac_data['1w']['t_-154']['j'])\n",
    "j_exp_2, cpf_2 = postprocess.calc_cpf(raw_frac_data['1w']['t_-91']['j'])\n",
    "j_exp_3, cpf_3 = postprocess.calc_cpf(raw_frac_data['1w']['t_-60']['j'])\n",
    "j_exp_4, cpf_4 = postprocess.calc_cpf(raw_frac_data['1w']['t_-40']['j'])\n",
    "\n",
    "\n"
   ]
  },
  {
   "cell_type": "code",
   "execution_count": 11,
   "metadata": {
    "code_folding": []
   },
   "outputs": [
    {
     "data": {
      "image/png": "[encoded data removed]",
      "text/plain": [
       "<Figure size 936x360 with 2 Axes>"
      ]
     },
     "metadata": {
      "needs_background": "light"
     },
     "output_type": "display_data"
    }
   ],
   "source": [
    "# plot\n",
    "f, (ax1,ax2) = plt.subplots(1, 2, figsize=(13,5));\n",
    "\n",
    "mar = ['o','v','s','x',]\n",
    "i=0\n",
    "for key, val in raw_frac_data['1w'].items():\n",
    "    if key != 't_-20':\n",
    "        ti = int(key[2:])\n",
    "        kj = np.array(val['kj_v']).flatten()\n",
    "        kj = kj[np.where(kj != -1)[0]]\n",
    "        t_all = np.repeat(ti, len(kj))\n",
    "        ax1.scatter(t_all, kj, marker=mar[i], s=18)\n",
    "        i += 1\n",
    "ax1.set_ylabel('K$_{JC}$ (MPa m$^{1/2}$)', fontsize=13)\n",
    "ax1.set_xlabel('T (°C)', fontsize=13)\n",
    "ax1.xaxis.set_tick_params(labelsize=12)\n",
    "ax1.yaxis.set_tick_params(labelsize=12)\n",
    "        \n",
    "ax2.scatter(j_exp_1, cpf_1, label='T=-154°C', marker='o', s=18)\n",
    "ax2.scatter(j_exp_2, cpf_2, label='T=-91°C',  marker='v', s=18)\n",
    "ax2.scatter(j_exp_3, cpf_3, label='T=-60°C',  marker='s', s=18)\n",
    "ax2.scatter(j_exp_4, cpf_4, label='T=-40°C',  marker='x', s=18)\n",
    "ax2.set_xlabel('J$_c$ (N/mm)', fontsize=13)\n",
    "ax2.set_ylabel('CDF(J$_c$)', fontsize=13)\n",
    "ax2.set_ylim([0,1])\n",
    "ax2.xaxis.set_tick_params(labelsize=12)\n",
    "ax2.yaxis.set_tick_params(labelsize=12)\n",
    "ax2.legend(fontsize=13, loc=5)\n",
    "f.savefig('exp_data.png', bbox_inches='tight', dpi=300)"
   ]
  },
  {
   "cell_type": "markdown",
   "metadata": {},
   "source": [
    "## Calculate Weibull fits"
   ]
  },
  {
   "cell_type": "code",
   "execution_count": 12,
   "metadata": {},
   "outputs": [
    {
     "name": "stdout",
     "output_type": "stream",
     "text": [
      "7.543057338566327\n",
      " 57.62462988888352\n",
      " 112.32615771117054\n",
      " 236.79391517405494\n",
      "\n"
     ]
    },
    {
     "data": {
      "text/plain": [
       "[<matplotlib.lines.Line2D at 0x1ac86afcaf0>]"
      ]
     },
     "execution_count": 12,
     "metadata": {},
     "output_type": "execute_result"
    },
    {
     "data": {
      "image/png": "[encoded data removed]",
      "text/plain": [
       "<Figure size 432x288 with 1 Axes>"
      ]
     },
     "metadata": {
      "needs_background": "light"
     },
     "output_type": "display_data"
    }
   ],
   "source": [
    "a_out, Kappa_out, loc_out, Lambda_out = scipy.stats.exponweib.fit(j_exp_1,floc=0,f0=1)\n",
    "j_fit_unsorted = scipy.stats.exponweib.rvs(a=a_out,c=Kappa_out, loc=loc_out, scale=Lambda_out, size = 100000)\n",
    "\n",
    "j_1_fit, cpf_1_fit = postprocess.calc_cpf(j_fit_unsorted)\n",
    "\n",
    "a_out, Kappa_out, loc_out, Lambda_out = scipy.stats.exponweib.fit(j_exp_2, floc=0,f0=1)\n",
    "j_fit_unsorted = scipy.stats.exponweib.rvs(a=a_out,c=Kappa_out, loc=loc_out, scale=Lambda_out, size = 10000)\n",
    "j_2_fit, cpf_2_fit = postprocess.calc_cpf(j_fit_unsorted)\n",
    "\n",
    "\n",
    "a_out, Kappa_out, loc_out, Lambda_out = scipy.stats.exponweib.fit(j_exp_3, floc=0,f0=1)\n",
    "j_fit_unsorted = scipy.stats.exponweib.rvs(a=a_out,c=Kappa_out, loc=loc_out, scale=Lambda_out, size = 10000)\n",
    "j_3_fit, cpf_3_fit = postprocess.calc_cpf(j_fit_unsorted)\n",
    "\n",
    "\n",
    "a_out, Kappa_out, loc_out, Lambda_out = scipy.stats.exponweib.fit(j_exp_4, floc=0,f0=1)\n",
    "j_fit_unsorted = scipy.stats.exponweib.rvs(a=a_out,c=Kappa_out, loc=loc_out, scale=Lambda_out, size = 10000)\n",
    "j_4_fit, cpf_4_fit = postprocess.calc_cpf(j_fit_unsorted)\n",
    "\n",
    "\n",
    "j0_1 = postprocess.find_closest(cpf_1_fit, j_1_fit, 0.632, 0.001)[1][0]\n",
    "j0_2 = postprocess.find_closest(cpf_2_fit, j_2_fit, 0.632,  0.001)[1][0]\n",
    "j0_3 = postprocess.find_closest(cpf_3_fit, j_3_fit, 0.632,  0.001)[1][0]\n",
    "j0_4 = postprocess.find_closest(cpf_4_fit, j_4_fit, 0.632,  0.001)[1][0]\n",
    "\n",
    "print(\n",
    "    str(j0_1) + '\\n' ,\n",
    "    str(j0_2) + '\\n' ,\n",
    "    str(j0_3) + '\\n' ,\n",
    "    str(j0_4) + '\\n' ,\n",
    ")\n",
    "j0_all_temps = [j0_1,\n",
    "j0_2,\n",
    "j0_3,\n",
    "j0_4,]\n",
    "\n",
    "\n",
    "plt.scatter(j_exp_1, cpf_1, label='T=-154 °C')\n",
    "plt.plot( j_1_fit, cpf_1_fit)\n",
    "\n",
    "plt.scatter(j_exp_2, cpf_2, label='T=-91 °C')\n",
    "plt.plot(j_2_fit, cpf_2_fit)\n",
    "\n",
    "plt.scatter(j_exp_3, cpf_3, label='T=-60 °C')\n",
    "plt.plot(j_3_fit, cpf_3_fit)\n",
    "\n",
    "plt.scatter(j_exp_4, cpf_4, label='T=-40 °C')\n",
    "plt.plot(j_4_fit, cpf_4_fit)"
   ]
  },
  {
   "cell_type": "markdown",
   "metadata": {},
   "source": [
    "# Model"
   ]
  },
  {
   "cell_type": "markdown",
   "metadata": {},
   "source": [
    "## Load FE data"
   ]
  },
  {
   "cell_type": "code",
   "execution_count": 13,
   "metadata": {},
   "outputs": [],
   "source": [
    "# index of active calculation\n",
    "act_idx = [1, 1, 1]\n",
    "\n",
    "paths = np.array([\n",
    "     r'..\\fea-data\\ct-3d-fan\\ct91',\n",
    "     r'..\\fea-data\\ct-3d-fan\\ct60', \n",
    "     r'..\\fea-data\\ct-3d-fan\\ct40'\n",
    "    ])[np.where(act_idx)]\n",
    "\n",
    "temps = np.array([-91, -60, -40])[np.where(act_idx)]\n",
    "radii = np.array([10, 15, 30])[np.where(act_idx)]\n",
    "\n",
    "filesg = np.array([r'ct91_ghis.txt', r'ct60_ghis.txt', r'ct40_ghis.txt'])[np.where(act_idx)]\n",
    "filese = np.array([r'ct91_ehis.txt', r'ct60_ehis.txt', r'ct40_ehis.txt'])[np.where(act_idx)]\n",
    "file_labs = np.array([r'ct91', r'ct60', r'ct40'])[np.where(act_idx)]\n",
    "\n",
    "s0_all_temps = s0(np.array(temps))\n",
    "j0_all = np.array(j0_all_temps)[1:][np.where(act_idx)]"
   ]
  },
  {
   "cell_type": "code",
   "execution_count": 14,
   "metadata": {},
   "outputs": [
    {
     "data": {
      "text/plain": [
       "array([ 57.62462989, 112.32615771, 236.79391517])"
      ]
     },
     "execution_count": 14,
     "metadata": {},
     "output_type": "execute_result"
    }
   ],
   "source": [
    "j0_all"
   ]
  },
  {
   "cell_type": "code",
   "execution_count": 15,
   "metadata": {},
   "outputs": [
    {
     "name": "stdout",
     "output_type": "stream",
     "text": [
      "\n",
      " ..\\fea-data\\ct-3d-fan\\ct91\n",
      "Characteristic J0:  58.6458435059\n",
      "Time increment of J0:  45\n",
      "\n",
      " ..\\fea-data\\ct-3d-fan\\ct60\n",
      "Characteristic J0:  113.964439392\n",
      "Time increment of J0:  64\n",
      "\n",
      " ..\\fea-data\\ct-3d-fan\\ct40\n",
      "Characteristic J0:  236.860244751\n",
      "Time increment of J0:  63\n"
     ]
    }
   ],
   "source": [
    "# Read data from ghis file and find J values closest to J0\n",
    "gdata_all = []\n",
    "for i, path in enumerate(paths):\n",
    "    print('\\n', path)\n",
    "\n",
    "    file_path = os.path.join(path, filesg[i])\n",
    "    data_path = pd.read_csv(file_path, sep=' ', skiprows=1, index_col=False,  \n",
    "                    names=[ 'iframe','jintc', 'ctod', 'sqrt(rpz)', 'vpz', 'smax', 'pmax','peeq'])\n",
    "\n",
    "    jdata = data_path['jintc']\n",
    "    j0_idx = postprocess.find_nearest(jdata, j0_all[i])\n",
    "\n",
    "    j0_close = jdata[j0_idx]\n",
    "\n",
    "    gdata_all.append(\n",
    "        {\n",
    "            'file_path': file_path,\n",
    "            'gdata': data_path,\n",
    "            'j0_idx': j0_idx,\n",
    "            'j0': j0_close,\n",
    "\n",
    "\n",
    "        }\n",
    "    )\n",
    "    \n",
    "    print('Characteristic J0: ', jdata[j0_idx])\n",
    "    print('Time increment of J0: ', j0_idx)\n"
   ]
  },
  {
   "cell_type": "markdown",
   "metadata": {},
   "source": [
    "## Crack fronts"
   ]
  },
  {
   "cell_type": "code",
   "execution_count": 16,
   "metadata": {
    "code_folding": []
   },
   "outputs": [],
   "source": [
    "# %%time\n",
    "\n",
    "data_labels = ['label', 'xcoord', 'ycoord', 'zcoord','vol', 's1',\n",
    "               's2', 's3', 'p1', 'p2', 'p3', 'peeq', 'sh', 'seq']\n",
    "front_data_all = []\n",
    "skipped_lines_all = []\n",
    "\n",
    "for ip, path in enumerate(paths):\n",
    "    file_path = os.path.join(path, file_labs[ip] +  r'_front.txt')\n",
    "    front_data_all.append({\n",
    "        'file_path': file_path,\n",
    "        'data': {},\n",
    "    })\n",
    "    curr_line = 0\n",
    "    skipped_lines = 0\n",
    "    dwp = 0\n",
    "    dwv = 0\n",
    "    rtrat = 0\n",
    "    with open(file_path, 'rb') as file:\n",
    "        all_lines = file.readlines()\n",
    "        num_frames = int(all_lines[0].strip())\n",
    "        front_data_all[ip]['data'] = []\n",
    "        curr_line += 1\n",
    "        labels_0 = pd.Series(dtype='float64')\n",
    "        smax_0 = pd.Series(dtype='float64')\n",
    "        data_0 = 0\n",
    "        k = 0\n",
    "        for ti in range(num_frames):\n",
    "#             print('step:', ti)\n",
    "            frame_i, num_elem_i = [int(n) for n in all_lines[curr_line].strip().split()]\n",
    "            if num_elem_i == 0:\n",
    "                skipped_lines += 1\n",
    "            elif num_elem_i > 0:\n",
    "                skip_rows = list(range(0, curr_line+1))\n",
    "                data_i = pd.read_csv(file_path, sep=' ', skiprows=skip_rows,index_col=False,\n",
    "                                     nrows=num_elem_i, names=data_labels)\n",
    "\n",
    "                labels_i = data_i['label']\n",
    "                pl_elem_check = labels_i.isin(labels_0)\n",
    "                smax_i = np.max(data_i[['s1', 's2', 's3']], axis=1)\n",
    "                vols_i = data_i['vol']\n",
    "                smin_i = np.min(data_i[['s1', 's2', 's3']], axis=1)\n",
    "                pmax_i = np.max(data_i[['p1', 'p2', 'p3']], axis=1)\n",
    "                seq_i = data_i['seq'].values\n",
    "                sh_i = data_i['sh'].values\n",
    "                smax_i_allt = smax_i.copy()\n",
    "            \n",
    "                smax_i_allt[labels_i.isin(labels_0)] = np.max([smax_0.values, \n",
    "                                                          smax_i_allt[labels_i.isin(labels_0)].values], \n",
    "                                                          axis=0)\n",
    "                peeq_0 = np.zeros(len(labels_i))\n",
    "                wp_i = np.zeros(len(labels_i))\n",
    "                wv_i = np.zeros(len(labels_i))\n",
    "                sum_rtrat_i = np.zeros(len(labels_i))\n",
    "                \n",
    "                \n",
    "                if type(data_0) == pd.core.frame.DataFrame:\n",
    "                    \n",
    "                    peeq_0[labels_i.isin(labels_0)] = data_0['peeq']\n",
    "                    dpeeq = data_i['peeq'].values - peeq_0\n",
    "                    \n",
    "                    if k >= 1:\n",
    "                        wp_i[labels_i.isin(labels_0)] = wp_0\n",
    "                        wv_i[labels_i.isin(labels_0)] = wv_0\n",
    "                        sum_rtrat_i[labels_i.isin(labels_0)] = sum_rtrat_0\n",
    "                    \n",
    "                    dwp = seq_i * dpeeq * (10 ** (-3))  # plastic flow work\n",
    "#                     dwv = 3 * 0.427 * (-sh_i / seq_i) * np.exp(\n",
    "#                           3 * sh_i / (2 * seq_i)\n",
    "#                           ) * dwp   # voids growth work\n",
    "                    \n",
    "                    striax = sh_i / seq_i\n",
    "                    deps_kkp = 3 * 0.427 * np.exp(3 * striax / 2) * dpeeq\n",
    "                    dwv = - sh_i * deps_kkp * (10 ** (-3))\n",
    "                    \n",
    "                    rtrat = deps_kkp / 3\n",
    "                    \n",
    "                    wp_i = wp_i + dwp\n",
    "                    wv_i = wv_i + dwv\n",
    "                    sum_rtrat_i = sum_rtrat_i + rtrat\n",
    "                    \n",
    "                    k += 1\n",
    "\n",
    "                \n",
    "                front_data_all[ip]['data'].append({\n",
    "                    'frame_i': frame_i,\n",
    "                    'num_elem_i': num_elem_i,\n",
    "                    'elem_labels': data_i['label'],\n",
    "                    'xcoord': data_i['xcoord'],\n",
    "                    'smax': smax_i,\n",
    "                    'smin': smin_i,\n",
    "                    'smaxallt': smax_i_allt,\n",
    "                    'sh':  sh_i,\n",
    "                    'seq':  seq_i,\n",
    "                    'vol': vols_i,\n",
    "                    'peeq': data_i['peeq'],\n",
    "                    'p1': data_i['p1'],\n",
    "                    'p2': data_i['p2'],\n",
    "                    'p3': data_i['p3'],\n",
    "                    'pmax': pmax_i,\n",
    "                    'dwp': dwp,\n",
    "                    'dwv': dwv,\n",
    "                    'wp': wp_i,\n",
    "                    'wv': wv_i,\n",
    "                    'rtrat': rtrat,\n",
    "                    'sum_rt_rat': sum_rtrat_i\n",
    "                })\n",
    "\n",
    "                labels_0 = labels_i\n",
    "                smax_0 = smax_i_allt\n",
    "                data_0 = data_i\n",
    "                wp_0 = np.copy(wp_i)\n",
    "                wv_0 = np.copy(wv_i)\n",
    "                sum_rtrat_0 = np.copy(sum_rtrat_i)\n",
    "\n",
    "            curr_line += num_elem_i + 1\n",
    "    skipped_lines_all.append(skipped_lines)"
   ]
  },
  {
   "cell_type": "code",
   "execution_count": 17,
   "metadata": {
    "code_folding": [
     2
    ]
   },
   "outputs": [],
   "source": [
    "# code\n",
    "cols = ['black', 'blue', 'green', 'red']\n",
    "def plot_front(data_all, iframes, xparam, yparam, norm_factors=None,\n",
    "              xrange=None, yrange=None, ylog=False, ylab=None, plot_lim=None,\n",
    "              xlab=r'$\\LARGE{r * \\sigma_0 / J}$'):    \n",
    "    data = []\n",
    "    for i, d in enumerate(data_all):\n",
    "#         print(i, iframes[i])\n",
    "        xdata = d['data'][iframes[i]][xparam]\n",
    "        ydata = d['data'][iframes[i]][yparam]\n",
    "        \n",
    "        if type(norm_factors) == list:\n",
    "            xdata = xdata * norm_factors[0][i]\n",
    "            ydata = ydata / norm_factors[1][i]\n",
    "#             print(norm_factors[0][i])\n",
    "#             print(norm_factors[1][i])\n",
    "        if plot_lim:\n",
    "            plot_idx_y = np.where(ydata>=plot_lim)[0]\n",
    "            plot_idx_x= np.where(xdata<=xrange[1])[0]\n",
    "            plot_idx = np.intersect1d(plot_idx_x, plot_idx_y)\n",
    "            \n",
    "            xdata = xdata[plot_idx]\n",
    "            ydata = ydata[plot_idx]\n",
    "        \n",
    "        if i == 4:\n",
    "            data.append({\n",
    "                 'x': xdata,\n",
    "                 'y': ydata,\n",
    "                   'name': 'T = -' + file_labs[i][2:] + '°C-lc',\n",
    "                    #'marker':{'symbol':'circle', 'color': [ri], 'colorscale': 'Viridis'},\n",
    "                    'line': {'width': 1.5, 'color': cols[i]},\n",
    "                'mode': 'lines'\n",
    "            })\n",
    "        else:\n",
    "            data.append({\n",
    "                 'x': xdata,\n",
    "                 'y': ydata,\n",
    "                   'name': 'T = -' + file_labs[i][2:] + '°C',\n",
    "                    #'marker':{'symbol':'circle', 'color': [ri], 'colorscale': 'Viridis'},\n",
    "                    'line': {'width': 1.5, 'color': cols[i]},\n",
    "                'mode': 'lines'\n",
    "            })\n",
    "\n",
    "\n",
    "    layout = {\n",
    "            'width': 450,\n",
    "            'height': 400,\n",
    "         'margin': {\n",
    "                'l': 80,\n",
    "                'r': 20,\n",
    "                'b': 80,\n",
    "                't': 20,\n",
    "#                 'pad': 1\n",
    "     },\n",
    "            'xaxis': {\n",
    "        #         'range': [-0.1, 1.1],\n",
    "                'zeroline': False,\n",
    "                'showline': True,\n",
    "                'mirror': 'all',\n",
    "                 'dtick': 0.5,\n",
    "                'tickformat': \".1f\"\n",
    "    #             'title': r'$r * \\sigma_0 / J$',\n",
    "            },\n",
    "            'yaxis': {\n",
    "                'zeroline': False,\n",
    "                'showline': True,\n",
    "                'mirror': 'all',\n",
    "    #             'title': ylab,\n",
    "                'tickformat' : '.2f',\n",
    "               \n",
    "            },\n",
    "             'annotations':[\n",
    "        {\n",
    "            'text':  xlab,\n",
    "            'x': 0.5,\n",
    "            'y': -0.22,\n",
    "            'xref': 'paper',\n",
    "            'yref': 'paper',\n",
    "            'showarrow': False,\n",
    "            'font': {'size': 13},\n",
    "        },\n",
    "            {\n",
    "            'text':  ylab,\n",
    "            'x': -0.22,\n",
    "            'y': 0.5,\n",
    "            'xref': 'paper',\n",
    "            'yref': 'paper',\n",
    "            'showarrow': False,\n",
    "            'font': {'size': 13},\n",
    "            'textangle': -90\n",
    "        },\n",
    "                  \n",
    "        ],\n",
    "            'legend':{\n",
    "            'x': 0.5,\n",
    "            'y': 0.65, # 0.06; \n",
    "        },\n",
    "    }\n",
    "    if xrange:\n",
    "        layout['xaxis']['range'] = xrange\n",
    "    if yrange:\n",
    "        layout['yaxis']['range'] = yrange\n",
    "    if ylog:\n",
    "        layout['yaxis']['type'] = 'log'\n",
    "        layout['yaxis']['tickformat'] =  ''\n",
    "#         layout['yaxis']['dtick'] =  1\n",
    "        layout['yaxis']['tickvals'] = np.concatenate([\n",
    "                                    np.linspace(1, 9, 9),\n",
    "                                    np.linspace(10, 90, 9),\n",
    "                                    np.linspace(100, 900, 9),\n",
    "                                    [1000]\n",
    "                                ]) / 1000\n",
    "        layout['yaxis']['ticktext'] = ['0.001','','','','','','','','',\n",
    "                                       '0.01','','','','','','','','',\n",
    "                                       '0.1','','','','','','','','','1','']\n",
    "    else:\n",
    "        layout['yaxis']['dtick'] = 0.2\n",
    "        layout['yaxis']['tickformat'] = '.1f'\n",
    "\n",
    "    layout['showlegend'] = True\n",
    "#     iplot(go.Figure(data=data, layout=layout))\n",
    "    f = go.FigureWidget(data,layout)\n",
    "    return f\n",
    "    \n",
    "\n",
    "# plot\n",
    "xcorr = []\n",
    "\n",
    "for ti, temp in enumerate(temps):\n",
    "    xcorr.append(\n",
    "        s0(temp) / gdata_all[ti]['gdata']['jintc'][gdata_all[ti]['j0_idx']]\n",
    "    )\n",
    "\n",
    "n = len(paths)\n",
    "j0_idx_all = np.array([gdata_all[ti]['j0_idx'] for ti in range(n)]) - np.array(skipped_lines_all)\n",
    "plot_lim=0.002\n",
    "\n",
    "plot_idx_y = []\n",
    "for i, d in enumerate(front_data_all):\n",
    "    plot_idx_y.append(np.where(d['data'][j0_idx_all[i]]['peeq']>=plot_lim)[0])\n"
   ]
  },
  {
   "cell_type": "markdown",
   "metadata": {},
   "source": [
    "### Equivalent plastic strain"
   ]
  },
  {
   "cell_type": "code",
   "execution_count": 21,
   "metadata": {
    "code_folding": [
     0
    ],
    "scrolled": true
   },
   "outputs": [
    {
     "data": {
      "application/vnd.plotly.v1+json": {
       "config": {
        "linkText": "Export to plot.ly",
        "plotlyServerURL": "https://plot.ly",
        "showLink": false
       },
       "data": [
        {
         "line": {
          "color": "black",
          "width": 1.5
         },
         "mode": "lines",
         "name": "T = -91°C",
         "type": "scatter",
         "uid": "c5eb9379-0609-4ab9-b014-b94df7f2fc9c",
         "x": [
          0,
          0.08067830274229935,
          0.18395465322316237,
          0.3056683619697393,
          0.47284859376511,
          0.7191009954559056,
          1.066768808306561,
          1.5282099434409069,
          2.0833979509436693,
          2.71078788849603,
          3.434440303734635,
          4.258422768161295,
          5.1632596277025025,
          6.142580720505047,
          7.205312388019287,
          8.428606622371838,
          9.948316254295246,
          11.892727011428912,
          14.166002446019453,
          16.61526881715966,
          19.388723680065134,
          22.507668531378773
         ],
         "y": [
          1.0335701704,
          0.501976966858,
          0.265272468328,
          0.15255984664,
          0.0815645083785,
          0.037465699017,
          0.0155701795593,
          0.00770599255338,
          0.00521321455017,
          0.00413325754926,
          0.00342916673981,
          0.0028648567386,
          0.00243421667255,
          0.00208482611924,
          0.00179003656376,
          0.00152220355812,
          0.00126576493494,
          0.00100373127498,
          0.000777272798587,
          0.000592846656218,
          0.00042920539272,
          0.000281398941297
         ]
        },
        {
         "line": {
          "color": "blue",
          "width": 1.5
         },
         "mode": "lines",
         "name": "T = -60°C",
         "type": "scatter",
         "uid": "c88bc473-3dcf-41ca-94b6-49c0417d0e5b",
         "x": [
          0,
          0.17569017432924297,
          0.4238135600025453,
          0.7367214576888591,
          1.097690164588866,
          1.455255625692281,
          1.8020329888140847,
          2.182546459846484,
          2.5986506165550365,
          3.052859654570371,
          3.5486150584058946,
          4.090964338681271,
          4.684065955850202,
          5.332819245504689,
          6.042577627998923,
          6.818345595396148,
          7.6662413423868685,
          8.592239668473526,
          9.603127945890897,
          10.70641052281405,
          11.911981667219031,
          13.23336832517937,
          14.684001845976562,
          16.271004190617518,
          17.989308729124165,
          23.77974981811998,
          33.578277606938784,
          111.86210822058248,
          121.64978577350486
         ],
         "y": [
          0.685851275921,
          0.224731728435,
          0.0832853987813,
          0.031834859401,
          0.0142143312842,
          0.00836365669966,
          0.00661357399076,
          0.00584488781169,
          0.00526391621679,
          0.00475454749539,
          0.0043205623515,
          0.00394230242819,
          0.00360541907139,
          0.00330117624253,
          0.00302555365488,
          0.00277353613637,
          0.00254253158346,
          0.00233139190823,
          0.00213762302883,
          0.00195848871954,
          0.00179179466795,
          0.00163594307378,
          0.00148980668746,
          0.0013521371875,
          0.00122257159092,
          0.00084962969413,
          0.000328255671775,
          0.000845569127705,
          0.00166824297048
         ]
        },
        {
         "line": {
          "color": "green",
          "width": 1.5
         },
         "mode": "lines",
         "name": "T = -40°C",
         "type": "scatter",
         "uid": "0396fc7f-bd69-408f-ad21-13643ebae794",
         "x": [
          0,
          0.10949048202599279,
          0.39632439312456463,
          0.888951375989923,
          1.4156124796752554,
          1.9532733795744792,
          2.5513068378427777,
          3.211733987397423,
          3.944526482924824,
          4.760558898273347,
          5.679251684517647,
          6.722024456813594,
          7.898213970485544,
          10.774813363828807,
          15.285520689622446,
          19.79427278900699,
          24.299290186261786,
          37.7960643064265,
          42.295721307683316,
          46.799552387791024,
          51.30799692347076,
          55.8203958496408
         ],
         "y": [
          0.94071149826,
          0.37125185132,
          0.110756278038,
          0.0291213840246,
          0.0142071889713,
          0.010813861154,
          0.00926131755114,
          0.00817203614861,
          0.00732275936753,
          0.0066268206574,
          0.00603691115975,
          0.00555587280542,
          0.0051422980614,
          0.00428914092481,
          0.00312149268575,
          0.00194442702923,
          0.000763410760555,
          0.000385778228519,
          0.00199064565822,
          0.00377707649022,
          0.00549006462097,
          0.00689076865092
         ]
        }
       ],
       "layout": {
        "annotations": [
         {
          "font": {
           "size": 13
          },
          "showarrow": false,
          "text": "r (mm)",
          "x": 0.5,
          "xref": "paper",
          "y": -0.22,
          "yref": "paper"
         },
         {
          "font": {
           "size": 13
          },
          "showarrow": false,
          "text": "$\\LARGE{\\varepsilon_{\\textrm{eq}}^\\textrm{p}}$",
          "textangle": -90,
          "x": -0.22,
          "xref": "paper",
          "y": 0.5,
          "yref": "paper"
         }
        ],
        "height": 400,
        "legend": {
         "x": 0.5,
         "y": 0.65
        },
        "margin": {
         "b": 80,
         "l": 80,
         "r": 20,
         "t": 20
        },
        "showlegend": true,
        "template": {
         "data": {
          "bar": [
           {
            "error_x": {
             "color": "#2a3f5f"
            },
            "error_y": {
             "color": "#2a3f5f"
            },
            "marker": {
             "line": {
              "color": "#E5ECF6",
              "width": 0.5
             }
            },
            "type": "bar"
           }
          ],
          "barpolar": [
           {
            "marker": {
             "line": {
              "color": "#E5ECF6",
              "width": 0.5
             }
            },
            "type": "barpolar"
           }
          ],
          "carpet": [
           {
            "aaxis": {
             "endlinecolor": "#2a3f5f",
             "gridcolor": "white",
             "linecolor": "white",
             "minorgridcolor": "white",
             "startlinecolor": "#2a3f5f"
            },
            "baxis": {
             "endlinecolor": "#2a3f5f",
             "gridcolor": "white",
             "linecolor": "white",
             "minorgridcolor": "white",
             "startlinecolor": "#2a3f5f"
            },
            "type": "carpet"
           }
          ],
          "choropleth": [
           {
            "colorbar": {
             "outlinewidth": 0,
             "ticks": ""
            },
            "type": "choropleth"
           }
          ],
          "contour": [
           {
            "colorbar": {
             "outlinewidth": 0,
             "ticks": ""
            },
            "colorscale": [
             [
              0,
              "#0d0887"
             ],
             [
              0.1111111111111111,
              "#46039f"
             ],
             [
              0.2222222222222222,
              "#7201a8"
             ],
             [
              0.3333333333333333,
              "#9c179e"
             ],
             [
              0.4444444444444444,
              "#bd3786"
             ],
             [
              0.5555555555555556,
              "#d8576b"
             ],
             [
              0.6666666666666666,
              "#ed7953"
             ],
             [
              0.7777777777777778,
              "#fb9f3a"
             ],
             [
              0.8888888888888888,
              "#fdca26"
             ],
             [
              1,
              "#f0f921"
             ]
            ],
            "type": "contour"
           }
          ],
          "contourcarpet": [
           {
            "colorbar": {
             "outlinewidth": 0,
             "ticks": ""
            },
            "type": "contourcarpet"
           }
          ],
          "heatmap": [
           {
            "colorbar": {
             "outlinewidth": 0,
             "ticks": ""
            },
            "colorscale": [
             [
              0,
              "#0d0887"
             ],
             [
              0.1111111111111111,
              "#46039f"
             ],
             [
              0.2222222222222222,
              "#7201a8"
             ],
             [
              0.3333333333333333,
              "#9c179e"
             ],
             [
              0.4444444444444444,
              "#bd3786"
             ],
             [
              0.5555555555555556,
              "#d8576b"
             ],
             [
              0.6666666666666666,
              "#ed7953"
             ],
             [
              0.7777777777777778,
              "#fb9f3a"
             ],
             [
              0.8888888888888888,
              "#fdca26"
             ],
             [
              1,
              "#f0f921"
             ]
            ],
            "type": "heatmap"
           }
          ],
          "heatmapgl": [
           {
            "colorbar": {
             "outlinewidth": 0,
             "ticks": ""
            },
            "colorscale": [
             [
              0,
              "#0d0887"
             ],
             [
              0.1111111111111111,
              "#46039f"
             ],
             [
              0.2222222222222222,
              "#7201a8"
             ],
             [
              0.3333333333333333,
              "#9c179e"
             ],
             [
              0.4444444444444444,
              "#bd3786"
             ],
             [
              0.5555555555555556,
              "#d8576b"
             ],
             [
              0.6666666666666666,
              "#ed7953"
             ],
             [
              0.7777777777777778,
              "#fb9f3a"
             ],
             [
              0.8888888888888888,
              "#fdca26"
             ],
             [
              1,
              "#f0f921"
             ]
            ],
            "type": "heatmapgl"
           }
          ],
          "histogram": [
           {
            "marker": {
             "colorbar": {
              "outlinewidth": 0,
              "ticks": ""
             }
            },
            "type": "histogram"
           }
          ],
          "histogram2d": [
           {
            "colorbar": {
             "outlinewidth": 0,
             "ticks": ""
            },
            "colorscale": [
             [
              0,
              "#0d0887"
             ],
             [
              0.1111111111111111,
              "#46039f"
             ],
             [
              0.2222222222222222,
              "#7201a8"
             ],
             [
              0.3333333333333333,
              "#9c179e"
             ],
             [
              0.4444444444444444,
              "#bd3786"
             ],
             [
              0.5555555555555556,
              "#d8576b"
             ],
             [
              0.6666666666666666,
              "#ed7953"
             ],
             [
              0.7777777777777778,
              "#fb9f3a"
             ],
             [
              0.8888888888888888,
              "#fdca26"
             ],
             [
              1,
              "#f0f921"
             ]
            ],
            "type": "histogram2d"
           }
          ],
          "histogram2dcontour": [
           {
            "colorbar": {
             "outlinewidth": 0,
             "ticks": ""
            },
            "colorscale": [
             [
              0,
              "#0d0887"
             ],
             [
              0.1111111111111111,
              "#46039f"
             ],
             [
              0.2222222222222222,
              "#7201a8"
             ],
             [
              0.3333333333333333,
              "#9c179e"
             ],
             [
              0.4444444444444444,
              "#bd3786"
             ],
             [
              0.5555555555555556,
              "#d8576b"
             ],
             [
              0.6666666666666666,
              "#ed7953"
             ],
             [
              0.7777777777777778,
              "#fb9f3a"
             ],
             [
              0.8888888888888888,
              "#fdca26"
             ],
             [
              1,
              "#f0f921"
             ]
            ],
            "type": "histogram2dcontour"
           }
          ],
          "mesh3d": [
           {
            "colorbar": {
             "outlinewidth": 0,
             "ticks": ""
            },
            "type": "mesh3d"
           }
          ],
          "parcoords": [
           {
            "line": {
             "colorbar": {
              "outlinewidth": 0,
              "ticks": ""
             }
            },
            "type": "parcoords"
           }
          ],
          "pie": [
           {
            "automargin": true,
            "type": "pie"
           }
          ],
          "scatter": [
           {
            "marker": {
             "colorbar": {
              "outlinewidth": 0,
              "ticks": ""
             }
            },
            "type": "scatter"
           }
          ],
          "scatter3d": [
           {
            "line": {
             "colorbar": {
              "outlinewidth": 0,
              "ticks": ""
             }
            },
            "marker": {
             "colorbar": {
              "outlinewidth": 0,
              "ticks": ""
             }
            },
            "type": "scatter3d"
           }
          ],
          "scattercarpet": [
           {
            "marker": {
             "colorbar": {
              "outlinewidth": 0,
              "ticks": ""
             }
            },
            "type": "scattercarpet"
           }
          ],
          "scattergeo": [
           {
            "marker": {
             "colorbar": {
              "outlinewidth": 0,
              "ticks": ""
             }
            },
            "type": "scattergeo"
           }
          ],
          "scattergl": [
           {
            "marker": {
             "colorbar": {
              "outlinewidth": 0,
              "ticks": ""
             }
            },
            "type": "scattergl"
           }
          ],
          "scattermapbox": [
           {
            "marker": {
             "colorbar": {
              "outlinewidth": 0,
              "ticks": ""
             }
            },
            "type": "scattermapbox"
           }
          ],
          "scatterpolar": [
           {
            "marker": {
             "colorbar": {
              "outlinewidth": 0,
              "ticks": ""
             }
            },
            "type": "scatterpolar"
           }
          ],
          "scatterpolargl": [
           {
            "marker": {
             "colorbar": {
              "outlinewidth": 0,
              "ticks": ""
             }
            },
            "type": "scatterpolargl"
           }
          ],
          "scatterternary": [
           {
            "marker": {
             "colorbar": {
              "outlinewidth": 0,
              "ticks": ""
             }
            },
            "type": "scatterternary"
           }
          ],
          "surface": [
           {
            "colorbar": {
             "outlinewidth": 0,
             "ticks": ""
            },
            "colorscale": [
             [
              0,
              "#0d0887"
             ],
             [
              0.1111111111111111,
              "#46039f"
             ],
             [
              0.2222222222222222,
              "#7201a8"
             ],
             [
              0.3333333333333333,
              "#9c179e"
             ],
             [
              0.4444444444444444,
              "#bd3786"
             ],
             [
              0.5555555555555556,
              "#d8576b"
             ],
             [
              0.6666666666666666,
              "#ed7953"
             ],
             [
              0.7777777777777778,
              "#fb9f3a"
             ],
             [
              0.8888888888888888,
              "#fdca26"
             ],
             [
              1,
              "#f0f921"
             ]
            ],
            "type": "surface"
           }
          ],
          "table": [
           {
            "cells": {
             "fill": {
              "color": "#EBF0F8"
             },
             "line": {
              "color": "white"
             }
            },
            "header": {
             "fill": {
              "color": "#C8D4E3"
             },
             "line": {
              "color": "white"
             }
            },
            "type": "table"
           }
          ]
         },
         "layout": {
          "annotationdefaults": {
           "arrowcolor": "#2a3f5f",
           "arrowhead": 0,
           "arrowwidth": 1
          },
          "autotypenumbers": "strict",
          "coloraxis": {
           "colorbar": {
            "outlinewidth": 0,
            "ticks": ""
           }
          },
          "colorscale": {
           "diverging": [
            [
             0,
             "#8e0152"
            ],
            [
             0.1,
             "#c51b7d"
            ],
            [
             0.2,
             "#de77ae"
            ],
            [
             0.3,
             "#f1b6da"
            ],
            [
             0.4,
             "#fde0ef"
            ],
            [
             0.5,
             "#f7f7f7"
            ],
            [
             0.6,
             "#e6f5d0"
            ],
            [
             0.7,
             "#b8e186"
            ],
            [
             0.8,
             "#7fbc41"
            ],
            [
             0.9,
             "#4d9221"
            ],
            [
             1,
             "#276419"
            ]
           ],
           "sequential": [
            [
             0,
             "#0d0887"
            ],
            [
             0.1111111111111111,
             "#46039f"
            ],
            [
             0.2222222222222222,
             "#7201a8"
            ],
            [
             0.3333333333333333,
             "#9c179e"
            ],
            [
             0.4444444444444444,
             "#bd3786"
            ],
            [
             0.5555555555555556,
             "#d8576b"
            ],
            [
             0.6666666666666666,
             "#ed7953"
            ],
            [
             0.7777777777777778,
             "#fb9f3a"
            ],
            [
             0.8888888888888888,
             "#fdca26"
            ],
            [
             1,
             "#f0f921"
            ]
           ],
           "sequentialminus": [
            [
             0,
             "#0d0887"
            ],
            [
             0.1111111111111111,
             "#46039f"
            ],
            [
             0.2222222222222222,
             "#7201a8"
            ],
            [
             0.3333333333333333,
             "#9c179e"
            ],
            [
             0.4444444444444444,
             "#bd3786"
            ],
            [
             0.5555555555555556,
             "#d8576b"
            ],
            [
             0.6666666666666666,
             "#ed7953"
            ],
            [
             0.7777777777777778,
             "#fb9f3a"
            ],
            [
             0.8888888888888888,
             "#fdca26"
            ],
            [
             1,
             "#f0f921"
            ]
           ]
          },
          "colorway": [
           "#636efa",
           "#EF553B",
           "#00cc96",
           "#ab63fa",
           "#FFA15A",
           "#19d3f3",
           "#FF6692",
           "#B6E880",
           "#FF97FF",
           "#FECB52"
          ],
          "font": {
           "color": "#2a3f5f"
          },
          "geo": {
           "bgcolor": "white",
           "lakecolor": "white",
           "landcolor": "#E5ECF6",
           "showlakes": true,
           "showland": true,
           "subunitcolor": "white"
          },
          "hoverlabel": {
           "align": "left"
          },
          "hovermode": "closest",
          "mapbox": {
           "style": "light"
          },
          "paper_bgcolor": "white",
          "plot_bgcolor": "#E5ECF6",
          "polar": {
           "angularaxis": {
            "gridcolor": "white",
            "linecolor": "white",
            "ticks": ""
           },
           "bgcolor": "#E5ECF6",
           "radialaxis": {
            "gridcolor": "white",
            "linecolor": "white",
            "ticks": ""
           }
          },
          "scene": {
           "xaxis": {
            "backgroundcolor": "#E5ECF6",
            "gridcolor": "white",
            "gridwidth": 2,
            "linecolor": "white",
            "showbackground": true,
            "ticks": "",
            "zerolinecolor": "white"
           },
           "yaxis": {
            "backgroundcolor": "#E5ECF6",
            "gridcolor": "white",
            "gridwidth": 2,
            "linecolor": "white",
            "showbackground": true,
            "ticks": "",
            "zerolinecolor": "white"
           },
           "zaxis": {
            "backgroundcolor": "#E5ECF6",
            "gridcolor": "white",
            "gridwidth": 2,
            "linecolor": "white",
            "showbackground": true,
            "ticks": "",
            "zerolinecolor": "white"
           }
          },
          "shapedefaults": {
           "line": {
            "color": "#2a3f5f"
           }
          },
          "ternary": {
           "aaxis": {
            "gridcolor": "white",
            "linecolor": "white",
            "ticks": ""
           },
           "baxis": {
            "gridcolor": "white",
            "linecolor": "white",
            "ticks": ""
           },
           "bgcolor": "#E5ECF6",
           "caxis": {
            "gridcolor": "white",
            "linecolor": "white",
            "ticks": ""
           }
          },
          "title": {
           "x": 0.05
          },
          "xaxis": {
           "automargin": true,
           "gridcolor": "white",
           "linecolor": "white",
           "ticks": "",
           "title": {
            "standoff": 15
           },
           "zerolinecolor": "white",
           "zerolinewidth": 2
          },
          "yaxis": {
           "automargin": true,
           "gridcolor": "white",
           "linecolor": "white",
           "ticks": "",
           "title": {
            "standoff": 15
           },
           "zerolinecolor": "white",
           "zerolinewidth": 2
          }
         }
        },
        "width": 450,
        "xaxis": {
         "dtick": 0.5,
         "mirror": "all",
         "range": [
          -0.05,
          4.05
         ],
         "showline": true,
         "tickformat": ".1f",
         "zeroline": false
        },
        "yaxis": {
         "mirror": "all",
         "range": [
          -3.2188758248682006,
          0.5306282510621704
         ],
         "showline": true,
         "tickformat": "",
         "ticktext": [
          "0.001",
          "",
          "",
          "",
          "",
          "",
          "",
          "",
          "",
          "0.01",
          "",
          "",
          "",
          "",
          "",
          "",
          "",
          "",
          "0.1",
          "",
          "",
          "",
          "",
          "",
          "",
          "",
          "",
          "1",
          ""
         ],
         "tickvals": [
          0.001,
          0.002,
          0.003,
          0.004,
          0.005,
          0.006,
          0.007,
          0.008,
          0.009,
          0.01,
          0.02,
          0.03,
          0.04,
          0.05,
          0.06,
          0.07,
          0.08,
          0.09,
          0.1,
          0.2,
          0.3,
          0.4,
          0.5,
          0.6,
          0.7,
          0.8,
          0.9,
          1
         ],
         "type": "log",
         "zeroline": false
        }
       }
      },
      "text/html": [
       "<div>                            <div id=\"6dc4e5e4-f139-472a-964d-c46e80cf3818\" class=\"plotly-graph-div\" style=\"height:400px; width:450px;\"></div>            <script type=\"text/javascript\">                require([\"plotly\"], function(Plotly) {                    window.PLOTLYENV=window.PLOTLYENV || {};                                    if (document.getElementById(\"6dc4e5e4-f139-472a-964d-c46e80cf3818\")) {                    Plotly.newPlot(                        \"6dc4e5e4-f139-472a-964d-c46e80cf3818\",                        [{\"line\": {\"color\": \"black\", \"width\": 1.5}, \"mode\": \"lines\", \"name\": \"T = -91\\u00b0C\", \"type\": \"scatter\", \"uid\": \"c5eb9379-0609-4ab9-b014-b94df7f2fc9c\", \"x\": [0.0, 0.08067830274229935, 0.18395465322316237, 0.3056683619697393, 0.47284859376511, 0.7191009954559056, 1.066768808306561, 1.5282099434409069, 2.0833979509436693, 2.71078788849603, 3.434440303734635, 4.258422768161295, 5.1632596277025025, 6.142580720505047, 7.205312388019287, 8.428606622371838, 9.948316254295246, 11.892727011428912, 14.166002446019453, 16.61526881715966, 19.388723680065134, 22.507668531378773], \"y\": [1.0335701704, 0.501976966858, 0.265272468328, 0.15255984664, 0.0815645083785, 0.037465699017, 0.0155701795593, 0.00770599255338, 0.00521321455017, 0.00413325754926, 0.00342916673981, 0.0028648567386, 0.00243421667255, 0.00208482611924, 0.00179003656376, 0.00152220355812, 0.00126576493494, 0.00100373127498, 0.000777272798587, 0.000592846656218, 0.00042920539272, 0.000281398941297]}, {\"line\": {\"color\": \"blue\", \"width\": 1.5}, \"mode\": \"lines\", \"name\": \"T = -60\\u00b0C\", \"type\": \"scatter\", \"uid\": \"c88bc473-3dcf-41ca-94b6-49c0417d0e5b\", \"x\": [0.0, 0.17569017432924297, 0.4238135600025453, 0.7367214576888591, 1.097690164588866, 1.455255625692281, 1.8020329888140847, 2.182546459846484, 2.5986506165550365, 3.052859654570371, 3.5486150584058946, 4.090964338681271, 4.684065955850202, 5.332819245504689, 6.042577627998923, 6.818345595396148, 7.6662413423868685, 8.592239668473526, 9.603127945890897, 10.70641052281405, 11.911981667219031, 13.23336832517937, 14.684001845976562, 16.271004190617518, 17.989308729124165, 23.77974981811998, 33.578277606938784, 111.86210822058248, 121.64978577350486], \"y\": [0.685851275921, 0.224731728435, 0.0832853987813, 0.031834859401, 0.0142143312842, 0.00836365669966, 0.00661357399076, 0.00584488781169, 0.00526391621679, 0.00475454749539, 0.0043205623515, 0.00394230242819, 0.00360541907139, 0.00330117624253, 0.00302555365488, 0.00277353613637, 0.00254253158346, 0.00233139190823, 0.00213762302883, 0.00195848871954, 0.00179179466795, 0.00163594307378, 0.00148980668746, 0.0013521371875, 0.00122257159092, 0.00084962969413, 0.000328255671775, 0.000845569127705, 0.00166824297048]}, {\"line\": {\"color\": \"green\", \"width\": 1.5}, \"mode\": \"lines\", \"name\": \"T = -40\\u00b0C\", \"type\": \"scatter\", \"uid\": \"0396fc7f-bd69-408f-ad21-13643ebae794\", \"x\": [0.0, 0.10949048202599279, 0.39632439312456463, 0.888951375989923, 1.4156124796752554, 1.9532733795744792, 2.5513068378427777, 3.211733987397423, 3.944526482924824, 4.760558898273347, 5.679251684517647, 6.722024456813594, 7.898213970485544, 10.774813363828807, 15.285520689622446, 19.79427278900699, 24.299290186261786, 37.7960643064265, 42.295721307683316, 46.799552387791024, 51.30799692347076, 55.8203958496408], \"y\": [0.94071149826, 0.37125185132, 0.110756278038, 0.0291213840246, 0.0142071889713, 0.010813861154, 0.00926131755114, 0.00817203614861, 0.00732275936753, 0.0066268206574, 0.00603691115975, 0.00555587280542, 0.0051422980614, 0.00428914092481, 0.00312149268575, 0.00194442702923, 0.000763410760555, 0.000385778228519, 0.00199064565822, 0.00377707649022, 0.00549006462097, 0.00689076865092]}],                        {\"annotations\": [{\"font\": {\"size\": 13}, \"showarrow\": false, \"text\": \"r (mm)\", \"x\": 0.5, \"xref\": \"paper\", \"y\": -0.22, \"yref\": \"paper\"}, {\"font\": {\"size\": 13}, \"showarrow\": false, \"text\": \"$\\\\LARGE{\\\\varepsilon_{\\\\textrm{eq}}^\\\\textrm{p}}$\", \"textangle\": -90, \"x\": -0.22, \"xref\": \"paper\", \"y\": 0.5, \"yref\": \"paper\"}], \"height\": 400, \"legend\": {\"x\": 0.5, \"y\": 0.65}, \"margin\": {\"b\": 80, \"l\": 80, \"r\": 20, \"t\": 20}, \"showlegend\": true, \"template\": {\"data\": {\"bar\": [{\"error_x\": {\"color\": \"#2a3f5f\"}, \"error_y\": {\"color\": \"#2a3f5f\"}, \"marker\": {\"line\": {\"color\": \"#E5ECF6\", \"width\": 0.5}}, \"type\": \"bar\"}], \"barpolar\": [{\"marker\": {\"line\": {\"color\": \"#E5ECF6\", \"width\": 0.5}}, \"type\": \"barpolar\"}], \"carpet\": [{\"aaxis\": {\"endlinecolor\": \"#2a3f5f\", \"gridcolor\": \"white\", \"linecolor\": \"white\", \"minorgridcolor\": \"white\", \"startlinecolor\": \"#2a3f5f\"}, \"baxis\": {\"endlinecolor\": \"#2a3f5f\", \"gridcolor\": \"white\", \"linecolor\": \"white\", \"minorgridcolor\": \"white\", \"startlinecolor\": \"#2a3f5f\"}, \"type\": \"carpet\"}], \"choropleth\": [{\"colorbar\": {\"outlinewidth\": 0, \"ticks\": \"\"}, \"type\": \"choropleth\"}], \"contour\": [{\"colorbar\": {\"outlinewidth\": 0, \"ticks\": \"\"}, \"colorscale\": [[0.0, \"#0d0887\"], [0.1111111111111111, \"#46039f\"], [0.2222222222222222, \"#7201a8\"], [0.3333333333333333, \"#9c179e\"], [0.4444444444444444, \"#bd3786\"], [0.5555555555555556, \"#d8576b\"], [0.6666666666666666, \"#ed7953\"], [0.7777777777777778, \"#fb9f3a\"], [0.8888888888888888, \"#fdca26\"], [1.0, \"#f0f921\"]], \"type\": \"contour\"}], \"contourcarpet\": [{\"colorbar\": {\"outlinewidth\": 0, \"ticks\": \"\"}, \"type\": \"contourcarpet\"}], \"heatmap\": [{\"colorbar\": {\"outlinewidth\": 0, \"ticks\": \"\"}, \"colorscale\": [[0.0, \"#0d0887\"], [0.1111111111111111, \"#46039f\"], [0.2222222222222222, \"#7201a8\"], [0.3333333333333333, \"#9c179e\"], [0.4444444444444444, \"#bd3786\"], [0.5555555555555556, \"#d8576b\"], [0.6666666666666666, \"#ed7953\"], [0.7777777777777778, \"#fb9f3a\"], [0.8888888888888888, \"#fdca26\"], [1.0, \"#f0f921\"]], \"type\": \"heatmap\"}], \"heatmapgl\": [{\"colorbar\": {\"outlinewidth\": 0, \"ticks\": \"\"}, \"colorscale\": [[0.0, \"#0d0887\"], [0.1111111111111111, \"#46039f\"], [0.2222222222222222, \"#7201a8\"], [0.3333333333333333, \"#9c179e\"], [0.4444444444444444, \"#bd3786\"], [0.5555555555555556, \"#d8576b\"], [0.6666666666666666, \"#ed7953\"], [0.7777777777777778, \"#fb9f3a\"], [0.8888888888888888, \"#fdca26\"], [1.0, \"#f0f921\"]], \"type\": \"heatmapgl\"}], \"histogram\": [{\"marker\": {\"colorbar\": {\"outlinewidth\": 0, \"ticks\": \"\"}}, \"type\": \"histogram\"}], \"histogram2d\": [{\"colorbar\": {\"outlinewidth\": 0, \"ticks\": \"\"}, \"colorscale\": [[0.0, \"#0d0887\"], [0.1111111111111111, \"#46039f\"], [0.2222222222222222, \"#7201a8\"], [0.3333333333333333, \"#9c179e\"], [0.4444444444444444, \"#bd3786\"], [0.5555555555555556, \"#d8576b\"], [0.6666666666666666, \"#ed7953\"], [0.7777777777777778, \"#fb9f3a\"], [0.8888888888888888, \"#fdca26\"], [1.0, \"#f0f921\"]], \"type\": \"histogram2d\"}], \"histogram2dcontour\": [{\"colorbar\": {\"outlinewidth\": 0, \"ticks\": \"\"}, \"colorscale\": [[0.0, \"#0d0887\"], [0.1111111111111111, \"#46039f\"], [0.2222222222222222, \"#7201a8\"], [0.3333333333333333, \"#9c179e\"], [0.4444444444444444, \"#bd3786\"], [0.5555555555555556, \"#d8576b\"], [0.6666666666666666, \"#ed7953\"], [0.7777777777777778, \"#fb9f3a\"], [0.8888888888888888, \"#fdca26\"], [1.0, \"#f0f921\"]], \"type\": \"histogram2dcontour\"}], \"mesh3d\": [{\"colorbar\": {\"outlinewidth\": 0, \"ticks\": \"\"}, \"type\": \"mesh3d\"}], \"parcoords\": [{\"line\": {\"colorbar\": {\"outlinewidth\": 0, \"ticks\": \"\"}}, \"type\": \"parcoords\"}], \"pie\": [{\"automargin\": true, \"type\": \"pie\"}], \"scatter\": [{\"marker\": {\"colorbar\": {\"outlinewidth\": 0, \"ticks\": \"\"}}, \"type\": \"scatter\"}], \"scatter3d\": [{\"line\": {\"colorbar\": {\"outlinewidth\": 0, \"ticks\": \"\"}}, \"marker\": {\"colorbar\": {\"outlinewidth\": 0, \"ticks\": \"\"}}, \"type\": \"scatter3d\"}], \"scattercarpet\": [{\"marker\": {\"colorbar\": {\"outlinewidth\": 0, \"ticks\": \"\"}}, \"type\": \"scattercarpet\"}], \"scattergeo\": [{\"marker\": {\"colorbar\": {\"outlinewidth\": 0, \"ticks\": \"\"}}, \"type\": \"scattergeo\"}], \"scattergl\": [{\"marker\": {\"colorbar\": {\"outlinewidth\": 0, \"ticks\": \"\"}}, \"type\": \"scattergl\"}], \"scattermapbox\": [{\"marker\": {\"colorbar\": {\"outlinewidth\": 0, \"ticks\": \"\"}}, \"type\": \"scattermapbox\"}], \"scatterpolar\": [{\"marker\": {\"colorbar\": {\"outlinewidth\": 0, \"ticks\": \"\"}}, \"type\": \"scatterpolar\"}], \"scatterpolargl\": [{\"marker\": {\"colorbar\": {\"outlinewidth\": 0, \"ticks\": \"\"}}, \"type\": \"scatterpolargl\"}], \"scatterternary\": [{\"marker\": {\"colorbar\": {\"outlinewidth\": 0, \"ticks\": \"\"}}, \"type\": \"scatterternary\"}], \"surface\": [{\"colorbar\": {\"outlinewidth\": 0, \"ticks\": \"\"}, \"colorscale\": [[0.0, \"#0d0887\"], [0.1111111111111111, \"#46039f\"], [0.2222222222222222, \"#7201a8\"], [0.3333333333333333, \"#9c179e\"], [0.4444444444444444, \"#bd3786\"], [0.5555555555555556, \"#d8576b\"], [0.6666666666666666, \"#ed7953\"], [0.7777777777777778, \"#fb9f3a\"], [0.8888888888888888, \"#fdca26\"], [1.0, \"#f0f921\"]], \"type\": \"surface\"}], \"table\": [{\"cells\": {\"fill\": {\"color\": \"#EBF0F8\"}, \"line\": {\"color\": \"white\"}}, \"header\": {\"fill\": {\"color\": \"#C8D4E3\"}, \"line\": {\"color\": \"white\"}}, \"type\": \"table\"}]}, \"layout\": {\"annotationdefaults\": {\"arrowcolor\": \"#2a3f5f\", \"arrowhead\": 0, \"arrowwidth\": 1}, \"autotypenumbers\": \"strict\", \"coloraxis\": {\"colorbar\": {\"outlinewidth\": 0, \"ticks\": \"\"}}, \"colorscale\": {\"diverging\": [[0, \"#8e0152\"], [0.1, \"#c51b7d\"], [0.2, \"#de77ae\"], [0.3, \"#f1b6da\"], [0.4, \"#fde0ef\"], [0.5, \"#f7f7f7\"], [0.6, \"#e6f5d0\"], [0.7, \"#b8e186\"], [0.8, \"#7fbc41\"], [0.9, \"#4d9221\"], [1, \"#276419\"]], \"sequential\": [[0.0, \"#0d0887\"], [0.1111111111111111, \"#46039f\"], [0.2222222222222222, \"#7201a8\"], [0.3333333333333333, \"#9c179e\"], [0.4444444444444444, \"#bd3786\"], [0.5555555555555556, \"#d8576b\"], [0.6666666666666666, \"#ed7953\"], [0.7777777777777778, \"#fb9f3a\"], [0.8888888888888888, \"#fdca26\"], [1.0, \"#f0f921\"]], \"sequentialminus\": [[0.0, \"#0d0887\"], [0.1111111111111111, \"#46039f\"], [0.2222222222222222, \"#7201a8\"], [0.3333333333333333, \"#9c179e\"], [0.4444444444444444, \"#bd3786\"], [0.5555555555555556, \"#d8576b\"], [0.6666666666666666, \"#ed7953\"], [0.7777777777777778, \"#fb9f3a\"], [0.8888888888888888, \"#fdca26\"], [1.0, \"#f0f921\"]]}, \"colorway\": [\"#636efa\", \"#EF553B\", \"#00cc96\", \"#ab63fa\", \"#FFA15A\", \"#19d3f3\", \"#FF6692\", \"#B6E880\", \"#FF97FF\", \"#FECB52\"], \"font\": {\"color\": \"#2a3f5f\"}, \"geo\": {\"bgcolor\": \"white\", \"lakecolor\": \"white\", \"landcolor\": \"#E5ECF6\", \"showlakes\": true, \"showland\": true, \"subunitcolor\": \"white\"}, \"hoverlabel\": {\"align\": \"left\"}, \"hovermode\": \"closest\", \"mapbox\": {\"style\": \"light\"}, \"paper_bgcolor\": \"white\", \"plot_bgcolor\": \"#E5ECF6\", \"polar\": {\"angularaxis\": {\"gridcolor\": \"white\", \"linecolor\": \"white\", \"ticks\": \"\"}, \"bgcolor\": \"#E5ECF6\", \"radialaxis\": {\"gridcolor\": \"white\", \"linecolor\": \"white\", \"ticks\": \"\"}}, \"scene\": {\"xaxis\": {\"backgroundcolor\": \"#E5ECF6\", \"gridcolor\": \"white\", \"gridwidth\": 2, \"linecolor\": \"white\", \"showbackground\": true, \"ticks\": \"\", \"zerolinecolor\": \"white\"}, \"yaxis\": {\"backgroundcolor\": \"#E5ECF6\", \"gridcolor\": \"white\", \"gridwidth\": 2, \"linecolor\": \"white\", \"showbackground\": true, \"ticks\": \"\", \"zerolinecolor\": \"white\"}, \"zaxis\": {\"backgroundcolor\": \"#E5ECF6\", \"gridcolor\": \"white\", \"gridwidth\": 2, \"linecolor\": \"white\", \"showbackground\": true, \"ticks\": \"\", \"zerolinecolor\": \"white\"}}, \"shapedefaults\": {\"line\": {\"color\": \"#2a3f5f\"}}, \"ternary\": {\"aaxis\": {\"gridcolor\": \"white\", \"linecolor\": \"white\", \"ticks\": \"\"}, \"baxis\": {\"gridcolor\": \"white\", \"linecolor\": \"white\", \"ticks\": \"\"}, \"bgcolor\": \"#E5ECF6\", \"caxis\": {\"gridcolor\": \"white\", \"linecolor\": \"white\", \"ticks\": \"\"}}, \"title\": {\"x\": 0.05}, \"xaxis\": {\"automargin\": true, \"gridcolor\": \"white\", \"linecolor\": \"white\", \"ticks\": \"\", \"title\": {\"standoff\": 15}, \"zerolinecolor\": \"white\", \"zerolinewidth\": 2}, \"yaxis\": {\"automargin\": true, \"gridcolor\": \"white\", \"linecolor\": \"white\", \"ticks\": \"\", \"title\": {\"standoff\": 15}, \"zerolinecolor\": \"white\", \"zerolinewidth\": 2}}}, \"width\": 450, \"xaxis\": {\"dtick\": 0.5, \"mirror\": \"all\", \"range\": [-0.05, 4.05], \"showline\": true, \"tickformat\": \".1f\", \"zeroline\": false}, \"yaxis\": {\"mirror\": \"all\", \"range\": [-3.2188758248682006, 0.5306282510621704], \"showline\": true, \"tickformat\": \"\", \"ticktext\": [\"0.001\", \"\", \"\", \"\", \"\", \"\", \"\", \"\", \"\", \"0.01\", \"\", \"\", \"\", \"\", \"\", \"\", \"\", \"\", \"0.1\", \"\", \"\", \"\", \"\", \"\", \"\", \"\", \"\", \"1\", \"\"], \"tickvals\": [0.001, 0.002, 0.003, 0.004, 0.005, 0.006, 0.007, 0.008, 0.009, 0.01, 0.02, 0.03, 0.04, 0.05, 0.06, 0.07, 0.08, 0.09, 0.1, 0.2, 0.3, 0.4, 0.5, 0.6, 0.7, 0.8, 0.9, 1.0], \"type\": \"log\", \"zeroline\": false}},                        {\"responsive\": true}                    ).then(function(){\n",
       "                            \n",
       "var gd = document.getElementById('6dc4e5e4-f139-472a-964d-c46e80cf3818');\n",
       "var x = new MutationObserver(function (mutations, observer) {{\n",
       "        var display = window.getComputedStyle(gd).display;\n",
       "        if (!display || display === 'none') {{\n",
       "            console.log([gd, 'removed!']);\n",
       "            Plotly.purge(gd);\n",
       "            observer.disconnect();\n",
       "        }}\n",
       "}});\n",
       "\n",
       "// Listen for the removal of the full notebook cells\n",
       "var notebookContainer = gd.closest('#notebook-container');\n",
       "if (notebookContainer) {{\n",
       "    x.observe(notebookContainer, {childList: true});\n",
       "}}\n",
       "\n",
       "// Listen for the clearing of the current output cell\n",
       "var outputEl = gd.closest('.output');\n",
       "if (outputEl) {{\n",
       "    x.observe(outputEl, {childList: true});\n",
       "}}\n",
       "\n",
       "                        })                };                });            </script>        </div>"
      ]
     },
     "metadata": {},
     "output_type": "display_data"
    }
   ],
   "source": [
    "# plastic strain\n",
    "\n",
    "f = plot_front(front_data_all, \n",
    "            np.array([gdata_all[ti]['j0_idx'] for ti in range(n)]) - np.array(skipped_lines_all),\n",
    "           'xcoord', 'peeq',  [xcorr, np.ones(n)],\n",
    "           xrange=[-0.05, 4.05], yrange=[np.log(0.04), np.log(1.7)], ylog=True,\n",
    "          ylab=r'$\\LARGE{\\varepsilon_{\\textrm{eq}}^\\textrm{p}}$', xlab = r'r (mm)',\n",
    "#                plot_lim=0.002\n",
    "              )\n",
    "\n",
    "py.iplot(f)\n",
    "# pio.write_image(f, 'images/fig5.svg',width=450, height=400,)\\\n"
   ]
  },
  {
   "cell_type": "markdown",
   "metadata": {},
   "source": [
    "### Maximum principal stress"
   ]
  },
  {
   "cell_type": "code",
   "execution_count": 20,
   "metadata": {
    "code_folding": [
     0
    ],
    "scrolled": false
   },
   "outputs": [
    {
     "data": {
      "application/vnd.plotly.v1+json": {
       "config": {
        "linkText": "Export to plot.ly",
        "plotlyServerURL": "https://plot.ly",
        "showLink": false
       },
       "data": [
        {
         "line": {
          "color": "black",
          "width": 1.5
         },
         "mode": "lines",
         "name": "T = -91°C",
         "type": "scatter",
         "uid": "d9b1ae93-26a9-49c8-9575-e66dbaaa5460",
         "x": [
          0,
          0.08067830274229935,
          0.18395465322316237,
          0.3056683619697393,
          0.47284859376511,
          0.7191009954559056,
          1.066768808306561,
          1.5282099434409069,
          2.0833979509436693,
          2.71078788849603,
          3.434440303734635,
          4.258422768161295,
          5.1632596277025025,
          6.142580720505047,
          7.205312388019287,
          8.428606622371838,
          9.948316254295246,
          11.892727011428912,
          14.166002446019453,
          16.61526881715966,
          19.388723680065134,
          22.507668531378773
         ],
         "y": [
          2.0405256736164588,
          2.267999896069831,
          2.5315375829790394,
          2.792387531564261,
          3.06643013429851,
          3.3418527217721614,
          3.517293208748089,
          3.501638743915393,
          3.3950645230109457,
          3.2930226029370564,
          3.1924427484542033,
          3.0883395723588603,
          2.9854316990153,
          2.8831182964301996,
          2.77956116334866,
          2.6676646131960426,
          2.539703399002935,
          2.3852220587309065,
          2.226845980837671,
          2.0769016610177276,
          1.9280178261350822,
          1.7839857918682893
         ]
        },
        {
         "line": {
          "color": "blue",
          "width": 1.5
         },
         "mode": "lines",
         "name": "T = -60°C",
         "type": "scatter",
         "uid": "bda4d474-a8b8-49f7-9d01-4bace5659336",
         "x": [
          0,
          0.17569017432924297,
          0.4238135600025453,
          0.7367214576888591,
          1.097690164588866,
          1.455255625692281,
          1.8020329888140847,
          2.182546459846484,
          2.5986506165550365,
          3.052859654570371,
          3.5486150584058946,
          4.090964338681271,
          4.684065955850202,
          5.332819245504689,
          6.042577627998923,
          6.818345595396148,
          7.6662413423868685,
          8.592239668473526,
          9.603127945890897,
          10.70641052281405,
          11.911981667219031,
          13.23336832517937,
          14.684001845976562,
          16.271004190617518,
          17.989308729124165,
          23.77974981811998,
          33.578277606938784,
          111.86210822058248,
          121.64978577350486
         ],
         "y": [
          2.340847235389042,
          2.8061565447223056,
          3.2469071058086563,
          3.538736977809394,
          3.6774742301566192,
          3.6350790612727635,
          3.511002390243793,
          3.4159504074622737,
          3.3450038337487937,
          3.2735768056749674,
          3.200367345611967,
          3.126185548101921,
          3.0493274135230277,
          2.96880379747664,
          2.884398898842255,
          2.795188111887467,
          2.7015490324905085,
          2.603617684816073,
          2.5018346347833167,
          2.3964416782344458,
          2.287812153300572,
          2.1768935232218793,
          2.0657021725195808,
          1.95761427923299,
          1.8592903214459946,
          1.6115855006027737,
          1.3272200386424144,
          0.013169458269402919,
          0.0009177863741326612
         ]
        },
        {
         "line": {
          "color": "green",
          "width": 1.5
         },
         "mode": "lines",
         "name": "T = -40°C",
         "type": "scatter",
         "uid": "3345a364-e488-4e16-8a90-8ff3befeb354",
         "x": [
          0,
          0.10949048202599279,
          0.39632439312456463,
          0.888951375989923,
          1.4156124796752554,
          1.9532733795744792,
          2.5513068378427777,
          3.211733987397423,
          3.944526482924824,
          4.760558898273347,
          5.679251684517647,
          6.722024456813594,
          7.898213970485544,
          10.774813363828807,
          15.285520689622446,
          19.79427278900699,
          24.299290186261786,
          37.7960643064265,
          42.295721307683316,
          46.799552387791024,
          51.30799692347076,
          55.8203958496408
         ],
         "y": [
          2.2715668425517914,
          2.6171335229320234,
          3.3227967293447427,
          3.675457902384753,
          3.6470750053530563,
          3.4690030518724737,
          3.322046508209694,
          3.1785131123846577,
          3.029794792382166,
          2.871224365771413,
          2.7029454020535777,
          2.53845038672429,
          2.3794673150302477,
          2.0392856647020303,
          1.6601895186746243,
          1.3866806632932493,
          1.0946861761928102,
          0.1752597091933806,
          0.044459018122607455,
          -0.004509680432121994,
          -0.014055175139796637,
          -0.0067922660412802465
         ]
        }
       ],
       "layout": {
        "annotations": [
         {
          "font": {
           "size": 13
          },
          "showarrow": false,
          "text": "r (mm)",
          "x": 0.5,
          "xref": "paper",
          "y": -0.22,
          "yref": "paper"
         },
         {
          "font": {
           "size": 13
          },
          "showarrow": false,
          "text": "$\\LARGE{\\sigma_\\mathrm{I}/\\sigma_0}$",
          "textangle": -90,
          "x": -0.22,
          "xref": "paper",
          "y": 0.5,
          "yref": "paper"
         }
        ],
        "height": 400,
        "legend": {
         "x": 0.5,
         "y": 0.65
        },
        "margin": {
         "b": 80,
         "l": 80,
         "r": 20,
         "t": 20
        },
        "showlegend": true,
        "template": {
         "data": {
          "bar": [
           {
            "error_x": {
             "color": "#2a3f5f"
            },
            "error_y": {
             "color": "#2a3f5f"
            },
            "marker": {
             "line": {
              "color": "#E5ECF6",
              "width": 0.5
             }
            },
            "type": "bar"
           }
          ],
          "barpolar": [
           {
            "marker": {
             "line": {
              "color": "#E5ECF6",
              "width": 0.5
             }
            },
            "type": "barpolar"
           }
          ],
          "carpet": [
           {
            "aaxis": {
             "endlinecolor": "#2a3f5f",
             "gridcolor": "white",
             "linecolor": "white",
             "minorgridcolor": "white",
             "startlinecolor": "#2a3f5f"
            },
            "baxis": {
             "endlinecolor": "#2a3f5f",
             "gridcolor": "white",
             "linecolor": "white",
             "minorgridcolor": "white",
             "startlinecolor": "#2a3f5f"
            },
            "type": "carpet"
           }
          ],
          "choropleth": [
           {
            "colorbar": {
             "outlinewidth": 0,
             "ticks": ""
            },
            "type": "choropleth"
           }
          ],
          "contour": [
           {
            "colorbar": {
             "outlinewidth": 0,
             "ticks": ""
            },
            "colorscale": [
             [
              0,
              "#0d0887"
             ],
             [
              0.1111111111111111,
              "#46039f"
             ],
             [
              0.2222222222222222,
              "#7201a8"
             ],
             [
              0.3333333333333333,
              "#9c179e"
             ],
             [
              0.4444444444444444,
              "#bd3786"
             ],
             [
              0.5555555555555556,
              "#d8576b"
             ],
             [
              0.6666666666666666,
              "#ed7953"
             ],
             [
              0.7777777777777778,
              "#fb9f3a"
             ],
             [
              0.8888888888888888,
              "#fdca26"
             ],
             [
              1,
              "#f0f921"
             ]
            ],
            "type": "contour"
           }
          ],
          "contourcarpet": [
           {
            "colorbar": {
             "outlinewidth": 0,
             "ticks": ""
            },
            "type": "contourcarpet"
           }
          ],
          "heatmap": [
           {
            "colorbar": {
             "outlinewidth": 0,
             "ticks": ""
            },
            "colorscale": [
             [
              0,
              "#0d0887"
             ],
             [
              0.1111111111111111,
              "#46039f"
             ],
             [
              0.2222222222222222,
              "#7201a8"
             ],
             [
              0.3333333333333333,
              "#9c179e"
             ],
             [
              0.4444444444444444,
              "#bd3786"
             ],
             [
              0.5555555555555556,
              "#d8576b"
             ],
             [
              0.6666666666666666,
              "#ed7953"
             ],
             [
              0.7777777777777778,
              "#fb9f3a"
             ],
             [
              0.8888888888888888,
              "#fdca26"
             ],
             [
              1,
              "#f0f921"
             ]
            ],
            "type": "heatmap"
           }
          ],
          "heatmapgl": [
           {
            "colorbar": {
             "outlinewidth": 0,
             "ticks": ""
            },
            "colorscale": [
             [
              0,
              "#0d0887"
             ],
             [
              0.1111111111111111,
              "#46039f"
             ],
             [
              0.2222222222222222,
              "#7201a8"
             ],
             [
              0.3333333333333333,
              "#9c179e"
             ],
             [
              0.4444444444444444,
              "#bd3786"
             ],
             [
              0.5555555555555556,
              "#d8576b"
             ],
             [
              0.6666666666666666,
              "#ed7953"
             ],
             [
              0.7777777777777778,
              "#fb9f3a"
             ],
             [
              0.8888888888888888,
              "#fdca26"
             ],
             [
              1,
              "#f0f921"
             ]
            ],
            "type": "heatmapgl"
           }
          ],
          "histogram": [
           {
            "marker": {
             "colorbar": {
              "outlinewidth": 0,
              "ticks": ""
             }
            },
            "type": "histogram"
           }
          ],
          "histogram2d": [
           {
            "colorbar": {
             "outlinewidth": 0,
             "ticks": ""
            },
            "colorscale": [
             [
              0,
              "#0d0887"
             ],
             [
              0.1111111111111111,
              "#46039f"
             ],
             [
              0.2222222222222222,
              "#7201a8"
             ],
             [
              0.3333333333333333,
              "#9c179e"
             ],
             [
              0.4444444444444444,
              "#bd3786"
             ],
             [
              0.5555555555555556,
              "#d8576b"
             ],
             [
              0.6666666666666666,
              "#ed7953"
             ],
             [
              0.7777777777777778,
              "#fb9f3a"
             ],
             [
              0.8888888888888888,
              "#fdca26"
             ],
             [
              1,
              "#f0f921"
             ]
            ],
            "type": "histogram2d"
           }
          ],
          "histogram2dcontour": [
           {
            "colorbar": {
             "outlinewidth": 0,
             "ticks": ""
            },
            "colorscale": [
             [
              0,
              "#0d0887"
             ],
             [
              0.1111111111111111,
              "#46039f"
             ],
             [
              0.2222222222222222,
              "#7201a8"
             ],
             [
              0.3333333333333333,
              "#9c179e"
             ],
             [
              0.4444444444444444,
              "#bd3786"
             ],
             [
              0.5555555555555556,
              "#d8576b"
             ],
             [
              0.6666666666666666,
              "#ed7953"
             ],
             [
              0.7777777777777778,
              "#fb9f3a"
             ],
             [
              0.8888888888888888,
              "#fdca26"
             ],
             [
              1,
              "#f0f921"
             ]
            ],
            "type": "histogram2dcontour"
           }
          ],
          "mesh3d": [
           {
            "colorbar": {
             "outlinewidth": 0,
             "ticks": ""
            },
            "type": "mesh3d"
           }
          ],
          "parcoords": [
           {
            "line": {
             "colorbar": {
              "outlinewidth": 0,
              "ticks": ""
             }
            },
            "type": "parcoords"
           }
          ],
          "pie": [
           {
            "automargin": true,
            "type": "pie"
           }
          ],
          "scatter": [
           {
            "marker": {
             "colorbar": {
              "outlinewidth": 0,
              "ticks": ""
             }
            },
            "type": "scatter"
           }
          ],
          "scatter3d": [
           {
            "line": {
             "colorbar": {
              "outlinewidth": 0,
              "ticks": ""
             }
            },
            "marker": {
             "colorbar": {
              "outlinewidth": 0,
              "ticks": ""
             }
            },
            "type": "scatter3d"
           }
          ],
          "scattercarpet": [
           {
            "marker": {
             "colorbar": {
              "outlinewidth": 0,
              "ticks": ""
             }
            },
            "type": "scattercarpet"
           }
          ],
          "scattergeo": [
           {
            "marker": {
             "colorbar": {
              "outlinewidth": 0,
              "ticks": ""
             }
            },
            "type": "scattergeo"
           }
          ],
          "scattergl": [
           {
            "marker": {
             "colorbar": {
              "outlinewidth": 0,
              "ticks": ""
             }
            },
            "type": "scattergl"
           }
          ],
          "scattermapbox": [
           {
            "marker": {
             "colorbar": {
              "outlinewidth": 0,
              "ticks": ""
             }
            },
            "type": "scattermapbox"
           }
          ],
          "scatterpolar": [
           {
            "marker": {
             "colorbar": {
              "outlinewidth": 0,
              "ticks": ""
             }
            },
            "type": "scatterpolar"
           }
          ],
          "scatterpolargl": [
           {
            "marker": {
             "colorbar": {
              "outlinewidth": 0,
              "ticks": ""
             }
            },
            "type": "scatterpolargl"
           }
          ],
          "scatterternary": [
           {
            "marker": {
             "colorbar": {
              "outlinewidth": 0,
              "ticks": ""
             }
            },
            "type": "scatterternary"
           }
          ],
          "surface": [
           {
            "colorbar": {
             "outlinewidth": 0,
             "ticks": ""
            },
            "colorscale": [
             [
              0,
              "#0d0887"
             ],
             [
              0.1111111111111111,
              "#46039f"
             ],
             [
              0.2222222222222222,
              "#7201a8"
             ],
             [
              0.3333333333333333,
              "#9c179e"
             ],
             [
              0.4444444444444444,
              "#bd3786"
             ],
             [
              0.5555555555555556,
              "#d8576b"
             ],
             [
              0.6666666666666666,
              "#ed7953"
             ],
             [
              0.7777777777777778,
              "#fb9f3a"
             ],
             [
              0.8888888888888888,
              "#fdca26"
             ],
             [
              1,
              "#f0f921"
             ]
            ],
            "type": "surface"
           }
          ],
          "table": [
           {
            "cells": {
             "fill": {
              "color": "#EBF0F8"
             },
             "line": {
              "color": "white"
             }
            },
            "header": {
             "fill": {
              "color": "#C8D4E3"
             },
             "line": {
              "color": "white"
             }
            },
            "type": "table"
           }
          ]
         },
         "layout": {
          "annotationdefaults": {
           "arrowcolor": "#2a3f5f",
           "arrowhead": 0,
           "arrowwidth": 1
          },
          "autotypenumbers": "strict",
          "coloraxis": {
           "colorbar": {
            "outlinewidth": 0,
            "ticks": ""
           }
          },
          "colorscale": {
           "diverging": [
            [
             0,
             "#8e0152"
            ],
            [
             0.1,
             "#c51b7d"
            ],
            [
             0.2,
             "#de77ae"
            ],
            [
             0.3,
             "#f1b6da"
            ],
            [
             0.4,
             "#fde0ef"
            ],
            [
             0.5,
             "#f7f7f7"
            ],
            [
             0.6,
             "#e6f5d0"
            ],
            [
             0.7,
             "#b8e186"
            ],
            [
             0.8,
             "#7fbc41"
            ],
            [
             0.9,
             "#4d9221"
            ],
            [
             1,
             "#276419"
            ]
           ],
           "sequential": [
            [
             0,
             "#0d0887"
            ],
            [
             0.1111111111111111,
             "#46039f"
            ],
            [
             0.2222222222222222,
             "#7201a8"
            ],
            [
             0.3333333333333333,
             "#9c179e"
            ],
            [
             0.4444444444444444,
             "#bd3786"
            ],
            [
             0.5555555555555556,
             "#d8576b"
            ],
            [
             0.6666666666666666,
             "#ed7953"
            ],
            [
             0.7777777777777778,
             "#fb9f3a"
            ],
            [
             0.8888888888888888,
             "#fdca26"
            ],
            [
             1,
             "#f0f921"
            ]
           ],
           "sequentialminus": [
            [
             0,
             "#0d0887"
            ],
            [
             0.1111111111111111,
             "#46039f"
            ],
            [
             0.2222222222222222,
             "#7201a8"
            ],
            [
             0.3333333333333333,
             "#9c179e"
            ],
            [
             0.4444444444444444,
             "#bd3786"
            ],
            [
             0.5555555555555556,
             "#d8576b"
            ],
            [
             0.6666666666666666,
             "#ed7953"
            ],
            [
             0.7777777777777778,
             "#fb9f3a"
            ],
            [
             0.8888888888888888,
             "#fdca26"
            ],
            [
             1,
             "#f0f921"
            ]
           ]
          },
          "colorway": [
           "#636efa",
           "#EF553B",
           "#00cc96",
           "#ab63fa",
           "#FFA15A",
           "#19d3f3",
           "#FF6692",
           "#B6E880",
           "#FF97FF",
           "#FECB52"
          ],
          "font": {
           "color": "#2a3f5f"
          },
          "geo": {
           "bgcolor": "white",
           "lakecolor": "white",
           "landcolor": "#E5ECF6",
           "showlakes": true,
           "showland": true,
           "subunitcolor": "white"
          },
          "hoverlabel": {
           "align": "left"
          },
          "hovermode": "closest",
          "mapbox": {
           "style": "light"
          },
          "paper_bgcolor": "white",
          "plot_bgcolor": "#E5ECF6",
          "polar": {
           "angularaxis": {
            "gridcolor": "white",
            "linecolor": "white",
            "ticks": ""
           },
           "bgcolor": "#E5ECF6",
           "radialaxis": {
            "gridcolor": "white",
            "linecolor": "white",
            "ticks": ""
           }
          },
          "scene": {
           "xaxis": {
            "backgroundcolor": "#E5ECF6",
            "gridcolor": "white",
            "gridwidth": 2,
            "linecolor": "white",
            "showbackground": true,
            "ticks": "",
            "zerolinecolor": "white"
           },
           "yaxis": {
            "backgroundcolor": "#E5ECF6",
            "gridcolor": "white",
            "gridwidth": 2,
            "linecolor": "white",
            "showbackground": true,
            "ticks": "",
            "zerolinecolor": "white"
           },
           "zaxis": {
            "backgroundcolor": "#E5ECF6",
            "gridcolor": "white",
            "gridwidth": 2,
            "linecolor": "white",
            "showbackground": true,
            "ticks": "",
            "zerolinecolor": "white"
           }
          },
          "shapedefaults": {
           "line": {
            "color": "#2a3f5f"
           }
          },
          "ternary": {
           "aaxis": {
            "gridcolor": "white",
            "linecolor": "white",
            "ticks": ""
           },
           "baxis": {
            "gridcolor": "white",
            "linecolor": "white",
            "ticks": ""
           },
           "bgcolor": "#E5ECF6",
           "caxis": {
            "gridcolor": "white",
            "linecolor": "white",
            "ticks": ""
           }
          },
          "title": {
           "x": 0.05
          },
          "xaxis": {
           "automargin": true,
           "gridcolor": "white",
           "linecolor": "white",
           "ticks": "",
           "title": {
            "standoff": 15
           },
           "zerolinecolor": "white",
           "zerolinewidth": 2
          },
          "yaxis": {
           "automargin": true,
           "gridcolor": "white",
           "linecolor": "white",
           "ticks": "",
           "title": {
            "standoff": 15
           },
           "zerolinecolor": "white",
           "zerolinewidth": 2
          }
         }
        },
        "width": 450,
        "xaxis": {
         "dtick": 0.5,
         "mirror": "all",
         "range": [
          -0.05,
          4.05
         ],
         "showline": true,
         "tickformat": ".1f",
         "zeroline": false
        },
        "yaxis": {
         "dtick": 0.2,
         "mirror": "all",
         "range": [
          1.6,
          4.05
         ],
         "showline": true,
         "tickformat": ".1f",
         "zeroline": false
        }
       }
      },
      "text/html": [
       "<div>                            <div id=\"445bbc6a-b756-427d-be26-c2f5877b7acd\" class=\"plotly-graph-div\" style=\"height:400px; width:450px;\"></div>            <script type=\"text/javascript\">                require([\"plotly\"], function(Plotly) {                    window.PLOTLYENV=window.PLOTLYENV || {};                                    if (document.getElementById(\"445bbc6a-b756-427d-be26-c2f5877b7acd\")) {                    Plotly.newPlot(                        \"445bbc6a-b756-427d-be26-c2f5877b7acd\",                        [{\"line\": {\"color\": \"black\", \"width\": 1.5}, \"mode\": \"lines\", \"name\": \"T = -91\\u00b0C\", \"type\": \"scatter\", \"uid\": \"d9b1ae93-26a9-49c8-9575-e66dbaaa5460\", \"x\": [0.0, 0.08067830274229935, 0.18395465322316237, 0.3056683619697393, 0.47284859376511, 0.7191009954559056, 1.066768808306561, 1.5282099434409069, 2.0833979509436693, 2.71078788849603, 3.434440303734635, 4.258422768161295, 5.1632596277025025, 6.142580720505047, 7.205312388019287, 8.428606622371838, 9.948316254295246, 11.892727011428912, 14.166002446019453, 16.61526881715966, 19.388723680065134, 22.507668531378773], \"y\": [2.0405256736164588, 2.267999896069831, 2.5315375829790394, 2.792387531564261, 3.06643013429851, 3.3418527217721614, 3.517293208748089, 3.501638743915393, 3.3950645230109457, 3.2930226029370564, 3.1924427484542033, 3.0883395723588603, 2.9854316990153, 2.8831182964301996, 2.77956116334866, 2.6676646131960426, 2.539703399002935, 2.3852220587309065, 2.226845980837671, 2.0769016610177276, 1.9280178261350822, 1.7839857918682893]}, {\"line\": {\"color\": \"blue\", \"width\": 1.5}, \"mode\": \"lines\", \"name\": \"T = -60\\u00b0C\", \"type\": \"scatter\", \"uid\": \"bda4d474-a8b8-49f7-9d01-4bace5659336\", \"x\": [0.0, 0.17569017432924297, 0.4238135600025453, 0.7367214576888591, 1.097690164588866, 1.455255625692281, 1.8020329888140847, 2.182546459846484, 2.5986506165550365, 3.052859654570371, 3.5486150584058946, 4.090964338681271, 4.684065955850202, 5.332819245504689, 6.042577627998923, 6.818345595396148, 7.6662413423868685, 8.592239668473526, 9.603127945890897, 10.70641052281405, 11.911981667219031, 13.23336832517937, 14.684001845976562, 16.271004190617518, 17.989308729124165, 23.77974981811998, 33.578277606938784, 111.86210822058248, 121.64978577350486], \"y\": [2.340847235389042, 2.8061565447223056, 3.2469071058086563, 3.538736977809394, 3.6774742301566192, 3.6350790612727635, 3.511002390243793, 3.4159504074622737, 3.3450038337487937, 3.2735768056749674, 3.200367345611967, 3.126185548101921, 3.0493274135230277, 2.96880379747664, 2.884398898842255, 2.795188111887467, 2.7015490324905085, 2.603617684816073, 2.5018346347833167, 2.3964416782344458, 2.287812153300572, 2.1768935232218793, 2.0657021725195808, 1.95761427923299, 1.8592903214459946, 1.6115855006027737, 1.3272200386424144, 0.013169458269402919, 0.0009177863741326612]}, {\"line\": {\"color\": \"green\", \"width\": 1.5}, \"mode\": \"lines\", \"name\": \"T = -40\\u00b0C\", \"type\": \"scatter\", \"uid\": \"3345a364-e488-4e16-8a90-8ff3befeb354\", \"x\": [0.0, 0.10949048202599279, 0.39632439312456463, 0.888951375989923, 1.4156124796752554, 1.9532733795744792, 2.5513068378427777, 3.211733987397423, 3.944526482924824, 4.760558898273347, 5.679251684517647, 6.722024456813594, 7.898213970485544, 10.774813363828807, 15.285520689622446, 19.79427278900699, 24.299290186261786, 37.7960643064265, 42.295721307683316, 46.799552387791024, 51.30799692347076, 55.8203958496408], \"y\": [2.2715668425517914, 2.6171335229320234, 3.3227967293447427, 3.675457902384753, 3.6470750053530563, 3.4690030518724737, 3.322046508209694, 3.1785131123846577, 3.029794792382166, 2.871224365771413, 2.7029454020535777, 2.53845038672429, 2.3794673150302477, 2.0392856647020303, 1.6601895186746243, 1.3866806632932493, 1.0946861761928102, 0.1752597091933806, 0.044459018122607455, -0.004509680432121994, -0.014055175139796637, -0.0067922660412802465]}],                        {\"annotations\": [{\"font\": {\"size\": 13}, \"showarrow\": false, \"text\": \"r (mm)\", \"x\": 0.5, \"xref\": \"paper\", \"y\": -0.22, \"yref\": \"paper\"}, {\"font\": {\"size\": 13}, \"showarrow\": false, \"text\": \"$\\\\LARGE{\\\\sigma_\\\\mathrm{I}/\\\\sigma_0}$\", \"textangle\": -90, \"x\": -0.22, \"xref\": \"paper\", \"y\": 0.5, \"yref\": \"paper\"}], \"height\": 400, \"legend\": {\"x\": 0.5, \"y\": 0.65}, \"margin\": {\"b\": 80, \"l\": 80, \"r\": 20, \"t\": 20}, \"showlegend\": true, \"template\": {\"data\": {\"bar\": [{\"error_x\": {\"color\": \"#2a3f5f\"}, \"error_y\": {\"color\": \"#2a3f5f\"}, \"marker\": {\"line\": {\"color\": \"#E5ECF6\", \"width\": 0.5}}, \"type\": \"bar\"}], \"barpolar\": [{\"marker\": {\"line\": {\"color\": \"#E5ECF6\", \"width\": 0.5}}, \"type\": \"barpolar\"}], \"carpet\": [{\"aaxis\": {\"endlinecolor\": \"#2a3f5f\", \"gridcolor\": \"white\", \"linecolor\": \"white\", \"minorgridcolor\": \"white\", \"startlinecolor\": \"#2a3f5f\"}, \"baxis\": {\"endlinecolor\": \"#2a3f5f\", \"gridcolor\": \"white\", \"linecolor\": \"white\", \"minorgridcolor\": \"white\", \"startlinecolor\": \"#2a3f5f\"}, \"type\": \"carpet\"}], \"choropleth\": [{\"colorbar\": {\"outlinewidth\": 0, \"ticks\": \"\"}, \"type\": \"choropleth\"}], \"contour\": [{\"colorbar\": {\"outlinewidth\": 0, \"ticks\": \"\"}, \"colorscale\": [[0.0, \"#0d0887\"], [0.1111111111111111, \"#46039f\"], [0.2222222222222222, \"#7201a8\"], [0.3333333333333333, \"#9c179e\"], [0.4444444444444444, \"#bd3786\"], [0.5555555555555556, \"#d8576b\"], [0.6666666666666666, \"#ed7953\"], [0.7777777777777778, \"#fb9f3a\"], [0.8888888888888888, \"#fdca26\"], [1.0, \"#f0f921\"]], \"type\": \"contour\"}], \"contourcarpet\": [{\"colorbar\": {\"outlinewidth\": 0, \"ticks\": \"\"}, \"type\": \"contourcarpet\"}], \"heatmap\": [{\"colorbar\": {\"outlinewidth\": 0, \"ticks\": \"\"}, \"colorscale\": [[0.0, \"#0d0887\"], [0.1111111111111111, \"#46039f\"], [0.2222222222222222, \"#7201a8\"], [0.3333333333333333, \"#9c179e\"], [0.4444444444444444, \"#bd3786\"], [0.5555555555555556, \"#d8576b\"], [0.6666666666666666, \"#ed7953\"], [0.7777777777777778, \"#fb9f3a\"], [0.8888888888888888, \"#fdca26\"], [1.0, \"#f0f921\"]], \"type\": \"heatmap\"}], \"heatmapgl\": [{\"colorbar\": {\"outlinewidth\": 0, \"ticks\": \"\"}, \"colorscale\": [[0.0, \"#0d0887\"], [0.1111111111111111, \"#46039f\"], [0.2222222222222222, \"#7201a8\"], [0.3333333333333333, \"#9c179e\"], [0.4444444444444444, \"#bd3786\"], [0.5555555555555556, \"#d8576b\"], [0.6666666666666666, \"#ed7953\"], [0.7777777777777778, \"#fb9f3a\"], [0.8888888888888888, \"#fdca26\"], [1.0, \"#f0f921\"]], \"type\": \"heatmapgl\"}], \"histogram\": [{\"marker\": {\"colorbar\": {\"outlinewidth\": 0, \"ticks\": \"\"}}, \"type\": \"histogram\"}], \"histogram2d\": [{\"colorbar\": {\"outlinewidth\": 0, \"ticks\": \"\"}, \"colorscale\": [[0.0, \"#0d0887\"], [0.1111111111111111, \"#46039f\"], [0.2222222222222222, \"#7201a8\"], [0.3333333333333333, \"#9c179e\"], [0.4444444444444444, \"#bd3786\"], [0.5555555555555556, \"#d8576b\"], [0.6666666666666666, \"#ed7953\"], [0.7777777777777778, \"#fb9f3a\"], [0.8888888888888888, \"#fdca26\"], [1.0, \"#f0f921\"]], \"type\": \"histogram2d\"}], \"histogram2dcontour\": [{\"colorbar\": {\"outlinewidth\": 0, \"ticks\": \"\"}, \"colorscale\": [[0.0, \"#0d0887\"], [0.1111111111111111, \"#46039f\"], [0.2222222222222222, \"#7201a8\"], [0.3333333333333333, \"#9c179e\"], [0.4444444444444444, \"#bd3786\"], [0.5555555555555556, \"#d8576b\"], [0.6666666666666666, \"#ed7953\"], [0.7777777777777778, \"#fb9f3a\"], [0.8888888888888888, \"#fdca26\"], [1.0, \"#f0f921\"]], \"type\": \"histogram2dcontour\"}], \"mesh3d\": [{\"colorbar\": {\"outlinewidth\": 0, \"ticks\": \"\"}, \"type\": \"mesh3d\"}], \"parcoords\": [{\"line\": {\"colorbar\": {\"outlinewidth\": 0, \"ticks\": \"\"}}, \"type\": \"parcoords\"}], \"pie\": [{\"automargin\": true, \"type\": \"pie\"}], \"scatter\": [{\"marker\": {\"colorbar\": {\"outlinewidth\": 0, \"ticks\": \"\"}}, \"type\": \"scatter\"}], \"scatter3d\": [{\"line\": {\"colorbar\": {\"outlinewidth\": 0, \"ticks\": \"\"}}, \"marker\": {\"colorbar\": {\"outlinewidth\": 0, \"ticks\": \"\"}}, \"type\": \"scatter3d\"}], \"scattercarpet\": [{\"marker\": {\"colorbar\": {\"outlinewidth\": 0, \"ticks\": \"\"}}, \"type\": \"scattercarpet\"}], \"scattergeo\": [{\"marker\": {\"colorbar\": {\"outlinewidth\": 0, \"ticks\": \"\"}}, \"type\": \"scattergeo\"}], \"scattergl\": [{\"marker\": {\"colorbar\": {\"outlinewidth\": 0, \"ticks\": \"\"}}, \"type\": \"scattergl\"}], \"scattermapbox\": [{\"marker\": {\"colorbar\": {\"outlinewidth\": 0, \"ticks\": \"\"}}, \"type\": \"scattermapbox\"}], \"scatterpolar\": [{\"marker\": {\"colorbar\": {\"outlinewidth\": 0, \"ticks\": \"\"}}, \"type\": \"scatterpolar\"}], \"scatterpolargl\": [{\"marker\": {\"colorbar\": {\"outlinewidth\": 0, \"ticks\": \"\"}}, \"type\": \"scatterpolargl\"}], \"scatterternary\": [{\"marker\": {\"colorbar\": {\"outlinewidth\": 0, \"ticks\": \"\"}}, \"type\": \"scatterternary\"}], \"surface\": [{\"colorbar\": {\"outlinewidth\": 0, \"ticks\": \"\"}, \"colorscale\": [[0.0, \"#0d0887\"], [0.1111111111111111, \"#46039f\"], [0.2222222222222222, \"#7201a8\"], [0.3333333333333333, \"#9c179e\"], [0.4444444444444444, \"#bd3786\"], [0.5555555555555556, \"#d8576b\"], [0.6666666666666666, \"#ed7953\"], [0.7777777777777778, \"#fb9f3a\"], [0.8888888888888888, \"#fdca26\"], [1.0, \"#f0f921\"]], \"type\": \"surface\"}], \"table\": [{\"cells\": {\"fill\": {\"color\": \"#EBF0F8\"}, \"line\": {\"color\": \"white\"}}, \"header\": {\"fill\": {\"color\": \"#C8D4E3\"}, \"line\": {\"color\": \"white\"}}, \"type\": \"table\"}]}, \"layout\": {\"annotationdefaults\": {\"arrowcolor\": \"#2a3f5f\", \"arrowhead\": 0, \"arrowwidth\": 1}, \"autotypenumbers\": \"strict\", \"coloraxis\": {\"colorbar\": {\"outlinewidth\": 0, \"ticks\": \"\"}}, \"colorscale\": {\"diverging\": [[0, \"#8e0152\"], [0.1, \"#c51b7d\"], [0.2, \"#de77ae\"], [0.3, \"#f1b6da\"], [0.4, \"#fde0ef\"], [0.5, \"#f7f7f7\"], [0.6, \"#e6f5d0\"], [0.7, \"#b8e186\"], [0.8, \"#7fbc41\"], [0.9, \"#4d9221\"], [1, \"#276419\"]], \"sequential\": [[0.0, \"#0d0887\"], [0.1111111111111111, \"#46039f\"], [0.2222222222222222, \"#7201a8\"], [0.3333333333333333, \"#9c179e\"], [0.4444444444444444, \"#bd3786\"], [0.5555555555555556, \"#d8576b\"], [0.6666666666666666, \"#ed7953\"], [0.7777777777777778, \"#fb9f3a\"], [0.8888888888888888, \"#fdca26\"], [1.0, \"#f0f921\"]], \"sequentialminus\": [[0.0, \"#0d0887\"], [0.1111111111111111, \"#46039f\"], [0.2222222222222222, \"#7201a8\"], [0.3333333333333333, \"#9c179e\"], [0.4444444444444444, \"#bd3786\"], [0.5555555555555556, \"#d8576b\"], [0.6666666666666666, \"#ed7953\"], [0.7777777777777778, \"#fb9f3a\"], [0.8888888888888888, \"#fdca26\"], [1.0, \"#f0f921\"]]}, \"colorway\": [\"#636efa\", \"#EF553B\", \"#00cc96\", \"#ab63fa\", \"#FFA15A\", \"#19d3f3\", \"#FF6692\", \"#B6E880\", \"#FF97FF\", \"#FECB52\"], \"font\": {\"color\": \"#2a3f5f\"}, \"geo\": {\"bgcolor\": \"white\", \"lakecolor\": \"white\", \"landcolor\": \"#E5ECF6\", \"showlakes\": true, \"showland\": true, \"subunitcolor\": \"white\"}, \"hoverlabel\": {\"align\": \"left\"}, \"hovermode\": \"closest\", \"mapbox\": {\"style\": \"light\"}, \"paper_bgcolor\": \"white\", \"plot_bgcolor\": \"#E5ECF6\", \"polar\": {\"angularaxis\": {\"gridcolor\": \"white\", \"linecolor\": \"white\", \"ticks\": \"\"}, \"bgcolor\": \"#E5ECF6\", \"radialaxis\": {\"gridcolor\": \"white\", \"linecolor\": \"white\", \"ticks\": \"\"}}, \"scene\": {\"xaxis\": {\"backgroundcolor\": \"#E5ECF6\", \"gridcolor\": \"white\", \"gridwidth\": 2, \"linecolor\": \"white\", \"showbackground\": true, \"ticks\": \"\", \"zerolinecolor\": \"white\"}, \"yaxis\": {\"backgroundcolor\": \"#E5ECF6\", \"gridcolor\": \"white\", \"gridwidth\": 2, \"linecolor\": \"white\", \"showbackground\": true, \"ticks\": \"\", \"zerolinecolor\": \"white\"}, \"zaxis\": {\"backgroundcolor\": \"#E5ECF6\", \"gridcolor\": \"white\", \"gridwidth\": 2, \"linecolor\": \"white\", \"showbackground\": true, \"ticks\": \"\", \"zerolinecolor\": \"white\"}}, \"shapedefaults\": {\"line\": {\"color\": \"#2a3f5f\"}}, \"ternary\": {\"aaxis\": {\"gridcolor\": \"white\", \"linecolor\": \"white\", \"ticks\": \"\"}, \"baxis\": {\"gridcolor\": \"white\", \"linecolor\": \"white\", \"ticks\": \"\"}, \"bgcolor\": \"#E5ECF6\", \"caxis\": {\"gridcolor\": \"white\", \"linecolor\": \"white\", \"ticks\": \"\"}}, \"title\": {\"x\": 0.05}, \"xaxis\": {\"automargin\": true, \"gridcolor\": \"white\", \"linecolor\": \"white\", \"ticks\": \"\", \"title\": {\"standoff\": 15}, \"zerolinecolor\": \"white\", \"zerolinewidth\": 2}, \"yaxis\": {\"automargin\": true, \"gridcolor\": \"white\", \"linecolor\": \"white\", \"ticks\": \"\", \"title\": {\"standoff\": 15}, \"zerolinecolor\": \"white\", \"zerolinewidth\": 2}}}, \"width\": 450, \"xaxis\": {\"dtick\": 0.5, \"mirror\": \"all\", \"range\": [-0.05, 4.05], \"showline\": true, \"tickformat\": \".1f\", \"zeroline\": false}, \"yaxis\": {\"dtick\": 0.2, \"mirror\": \"all\", \"range\": [1.6, 4.05], \"showline\": true, \"tickformat\": \".1f\", \"zeroline\": false}},                        {\"responsive\": true}                    ).then(function(){\n",
       "                            \n",
       "var gd = document.getElementById('445bbc6a-b756-427d-be26-c2f5877b7acd');\n",
       "var x = new MutationObserver(function (mutations, observer) {{\n",
       "        var display = window.getComputedStyle(gd).display;\n",
       "        if (!display || display === 'none') {{\n",
       "            console.log([gd, 'removed!']);\n",
       "            Plotly.purge(gd);\n",
       "            observer.disconnect();\n",
       "        }}\n",
       "}});\n",
       "\n",
       "// Listen for the removal of the full notebook cells\n",
       "var notebookContainer = gd.closest('#notebook-container');\n",
       "if (notebookContainer) {{\n",
       "    x.observe(notebookContainer, {childList: true});\n",
       "}}\n",
       "\n",
       "// Listen for the clearing of the current output cell\n",
       "var outputEl = gd.closest('.output');\n",
       "if (outputEl) {{\n",
       "    x.observe(outputEl, {childList: true});\n",
       "}}\n",
       "\n",
       "                        })                };                });            </script>        </div>"
      ]
     },
     "metadata": {},
     "output_type": "display_data"
    }
   ],
   "source": [
    "# Max stress\n",
    "f = plot_front(front_data_all,\n",
    "               np.array([gdata_all[ti]['j0_idx'] for ti in range(n)]) - np.array(skipped_lines_all),\n",
    "           'xcoord', 'smax', \n",
    "               [xcorr, [s0(t) for t in temps]],\n",
    "#                [np.ones(4), [s0(t) for t in temps]],\n",
    "               xrange=[-0.05, 4.05], yrange=[1.6, 4.05], \n",
    "               ylab=r'$\\LARGE{\\sigma_\\mathrm{I}/\\sigma_0}$',\n",
    "               xlab = r'r (mm)',)\n",
    "py.iplot(f)"
   ]
  },
  {
   "cell_type": "markdown",
   "metadata": {},
   "source": [
    "## Weibull stress calculation"
   ]
  },
  {
   "cell_type": "markdown",
   "metadata": {},
   "source": [
    "### Extract data"
   ]
  },
  {
   "cell_type": "code",
   "execution_count": 24,
   "metadata": {
    "code_folding": []
   },
   "outputs": [
    {
     "name": "stdout",
     "output_type": "stream",
     "text": [
      "..\\fea-data\\ct-3d-fan\\ct91\\ct91_ehis.txt\n",
      "..\\fea-data\\ct-3d-fan\\ct60\\ct60_ehis.txt\n",
      "..\\fea-data\\ct-3d-fan\\ct40\\ct40_ehis.txt\n"
     ]
    }
   ],
   "source": [
    "# code\n",
    "\n",
    "data_labels = ['label', 'xcoord', 'ycoord', 'zcoord','vol', 's1', 's2', 's3', 'p1', 'p2', 'p3', 'peeq', 'sh', 'seq']\n",
    "sw_data_all = []\n",
    "skipped_lines_all = []\n",
    "for ip, path in enumerate(paths):\n",
    "\n",
    "    file_path = os.path.join(path, filese[ip])\n",
    "    print(file_path)\n",
    "    sw_data_all.append({\n",
    "            'file_path': file_path,\n",
    "            'data': {},\n",
    "        })\n",
    "\n",
    "\n",
    "    curr_line = 0\n",
    "    skipped_lines = 0\n",
    "\n",
    "    with open(file_path, 'rb') as file:\n",
    "        all_lines = file.readlines()\n",
    "        num_frames = int(all_lines[0].strip())\n",
    "        sw_data_all[ip]['data'] = []\n",
    "        curr_line += 1\n",
    "        labels_0 = pd.Series(dtype='float64')\n",
    "        smax_0 =  pd.Series(dtype='float64')\n",
    "        data_0 = 0\n",
    "        k = 0\n",
    "        for ti in range(num_frames):\n",
    "#         for ti in range(5):\n",
    "            frame_i, num_elem_i = [int(n) for n in all_lines[curr_line].strip().split()]\n",
    "\n",
    "            if num_elem_i == 0:\n",
    "                skipped_lines += 1\n",
    "            elif num_elem_i > 0:\n",
    "#                 print(frame_i, num_elem_i)\n",
    "                skip_rows = list(range(0, curr_line+1))\n",
    "                data_i = pd.read_csv(file_path, sep=' ', skiprows=skip_rows, index_col=False,\n",
    "                                     nrows=num_elem_i, names=data_labels)\n",
    "\n",
    "                labels_i = data_i['label']\n",
    "                pl_elem_check = labels_i.isin(labels_0)\n",
    "                x_i = data_i['xcoord']\n",
    "                y_i = data_i['ycoord']\n",
    "                z_i = data_i['zcoord']\n",
    "                smin_i = np.min(data_i[['s1', 's2', 's3']], axis=1)\n",
    "                smax_i = np.max(data_i[['s1', 's2', 's3']], axis=1)\n",
    "                pmax_i = np.max(data_i[['p1', 'p2', 'p3']], axis=1)\n",
    "                vols_i = data_i['vol']\n",
    "                peeq_i = data_i['peeq']\n",
    "                sh_i = data_i['sh']\n",
    "                seq_i = data_i['seq']\n",
    "\n",
    "                smax_i_allt = smax_i.copy()\n",
    "                smax_i_allt[labels_i.isin(labels_0)] = np.max([smax_0.values[np.where(labels_0.isin(labels_i))], \n",
    "                                                          smax_i_allt[labels_i.isin(labels_0)].values], axis=0)\n",
    "\n",
    "                peeq_0 = np.zeros(len(labels_i))\n",
    "\n",
    "\n",
    "                sw_data_all[ip]['data'].append({\n",
    "                    'frame_i': frame_i,\n",
    "                    'num_elem_i': num_elem_i,\n",
    "                    'elem_labels': labels_i,\n",
    "                    'xcoord': x_i,\n",
    "                    'ycoord': y_i,\n",
    "                    'zcoord': z_i,\n",
    "                    'smax': smax_i,\n",
    "                    'smin': smin_i,\n",
    "                    'smaxallt': smax_i_allt,\n",
    "                    'vol': vols_i,\n",
    "                    'peeq': peeq_i,\n",
    "                    'pmax': pmax_i,\n",
    "                })\n",
    "\n",
    "\n",
    "                labels_0 = labels_i.copy()\n",
    "                smax_0 = smax_i_allt.copy()\n",
    "                data_0 = data_i\n",
    "\n",
    "\n",
    "            curr_line += num_elem_i + 1\n",
    "        skipped_lines_all.append(skipped_lines)"
   ]
  },
  {
   "cell_type": "markdown",
   "metadata": {},
   "source": [
    "### Original Beremin"
   ]
  },
  {
   "cell_type": "code",
   "execution_count": 25,
   "metadata": {},
   "outputs": [],
   "source": [
    "# USER INPUT\n",
    "sy_cut = 2\n",
    "plastic_strain_offset = 0.002\n",
    "unit_volume = (4 / 3) * np.pi * (10 * 1e-3) ** 3"
   ]
  },
  {
   "cell_type": "code",
   "execution_count": 26,
   "metadata": {
    "code_folding": [
     0
    ]
   },
   "outputs": [
    {
     "name": "stdout",
     "output_type": "stream",
     "text": [
      "path:  ..\\fea-data\\ct-3d-fan\\ct91\n",
      "Yield stress:  594.878208838533\n",
      "path:  ..\\fea-data\\ct-3d-fan\\ct60\n",
      "Yield stress:  544.7317406204324\n",
      "path:  ..\\fea-data\\ct-3d-fan\\ct40\n",
      "Yield stress:  520.35438854274\n"
     ]
    }
   ],
   "source": [
    "# code\n",
    "\n",
    "m_vals = np.arange(5, 26, 1)\n",
    "v0s = unit_volume * np.ones(len(paths))\n",
    "glob_sw_all = []\n",
    "for ip, path in enumerate(paths):\n",
    "    print('path: ', path)\n",
    "    glob_sw_all.append([])\n",
    "    num_frames = len(sw_data_all[ip]['data'])\n",
    "#     print(num_frames)\n",
    "    sy_ip = s0_all_temps[ip]\n",
    "    print('Yield stress: ', sy_ip)\n",
    "    for m in m_vals:\n",
    "        glob_sw = []\n",
    "        \n",
    "        for ti in range(num_frames):\n",
    "            data_i = sw_data_all[ip]['data'][ti]\n",
    "            peeq_i = data_i['peeq']\n",
    "            smax_i = data_i['smaxallt']\n",
    "            vols_i = data_i['vol']\n",
    "            pcut_idx = np.where(peeq_i>=plastic_strain_offset)[0]\n",
    "            scut_idx = np.where(smax_i>=(sy_cut*sy_ip))[0]\n",
    "            combcut_idx = np.intersect1d(pcut_idx, scut_idx)\n",
    "            \n",
    "            loc_sw_i = (smax_i.values ** m) * vols_i.values\n",
    "\n",
    "            loc_sw_i = loc_sw_i[combcut_idx]\n",
    "            glob_sw.append((sum(np.array(loc_sw_i)) / v0s[ip]) ** (1. / m))\n",
    "\n",
    "\n",
    "        glob_sw_all[ip].append(glob_sw)\n"
   ]
  },
  {
   "cell_type": "markdown",
   "metadata": {
    "code_folding": []
   },
   "source": [
    "### Weibull stress vs Shape parameter `m`"
   ]
  },
  {
   "cell_type": "code",
   "execution_count": 27,
   "metadata": {
    "code_folding": [
     0
    ]
   },
   "outputs": [
    {
     "name": "stdout",
     "output_type": "stream",
     "text": [
      "58.6458435059\n",
      "113.964439392\n",
      "236.860244751\n"
     ]
    },
    {
     "data": {
      "application/vnd.plotly.v1+json": {
       "config": {
        "linkText": "Export to plot.ly",
        "plotlyServerURL": "https://plot.ly",
        "showLink": false
       },
       "data": [
        {
         "line": {
          "color": "black",
          "dash": "solid",
          "width": 2
         },
         "mode": "lines",
         "name": "T = -91°C",
         "type": "scatter",
         "uid": "a82b7f1f-262c-400d-9400-47d8387a28bf",
         "x": [
          5,
          6,
          7,
          8,
          9,
          10,
          11,
          12,
          13,
          14,
          15,
          16,
          17,
          18,
          19,
          20,
          21,
          22,
          23,
          24,
          25
         ],
         "y": [
          31226.384523906443,
          18989.388076409523,
          13349.171478801374,
          10273.219971320028,
          8396.885744497375,
          7157.9903672963965,
          6290.638101973339,
          5655.53938156412,
          5173.770221790755,
          4797.747823583085,
          4497.30733263337,
          4252.517045476853,
          4049.741423563172,
          3879.3726592855046,
          3734.4667503875526,
          3609.8928755161382,
          3501.7857946196473,
          3407.18339408714,
          3323.7808194764366,
          3249.760012247539,
          3183.669189977974
         ]
        },
        {
         "line": {
          "color": "blue",
          "dash": "solid",
          "width": 2
         },
         "mode": "lines",
         "name": "T = -60°C",
         "type": "scatter",
         "uid": "100b9867-f8cf-4ff8-beca-e13336b61359",
         "x": [
          5,
          6,
          7,
          8,
          9,
          10,
          11,
          12,
          13,
          14,
          15,
          16,
          17,
          18,
          19,
          20,
          21,
          22,
          23,
          24,
          25
         ],
         "y": [
          38093.280044774285,
          22068.517049548016,
          14991.571043300528,
          11249.223126305451,
          9019.095759361828,
          7573.409365136399,
          6576.216377297874,
          5854.959111474407,
          5313.445848690699,
          4894.479550828977,
          4562.230708357967,
          4293.271244489895,
          4071.7222041811187,
          3886.488210664183,
          3729.6106227528753,
          3595.249326994503,
          3479.0323907099264,
          3377.62869439675,
          3288.4599609720635,
          3209.50233943949,
          3139.1469361738336
         ]
        },
        {
         "line": {
          "color": "green",
          "dash": "solid",
          "width": 2
         },
         "mode": "lines",
         "name": "T = -40°C",
         "type": "scatter",
         "uid": "b5404518-5f00-4e94-b536-51825a55a5a5",
         "x": [
          5,
          6,
          7,
          8,
          9,
          10,
          11,
          12,
          13,
          14,
          15,
          16,
          17,
          18,
          19,
          20,
          21,
          22,
          23,
          24,
          25
         ],
         "y": [
          42288.221756995496,
          23984.728800471876,
          16051.902398390443,
          11912.454309817875,
          9469.803457791608,
          7898.059762443339,
          6820.062768989444,
          6043.769409618774,
          5462.9010138269,
          5014.650450922299,
          4659.880642518277,
          4373.116532082838,
          4137.159173001735,
          3940.031362837032,
          3773.1669626316343,
          3630.2959176843947,
          3506.734696791329,
          3398.9215410479433,
          3304.1042228189367,
          3220.1254716573976,
          3145.2725018303213
         ]
        }
       ],
       "layout": {
        "annotations": [
         {
          "font": {
           "size": 11
          },
          "showarrow": false,
          "text": "$\\LARGE{m}$",
          "x": 0.5,
          "xref": "paper",
          "y": -0.2,
          "yref": "paper"
         },
         {
          "font": {
           "size": 11
          },
          "showarrow": false,
          "text": "$\\LARGE{\\sigma_\\mathrm{w}}\\;\\textrm{(MPa)}$ ",
          "textangle": -90,
          "x": -0.2,
          "xref": "paper",
          "y": 0.5,
          "yref": "paper"
         }
        ],
        "height": 420,
        "legend": {
         "x": 0.6,
         "y": 0.7
        },
        "margin": {
         "b": 80,
         "l": 80,
         "r": 20,
         "t": 40
        },
        "showlegend": true,
        "template": {
         "data": {
          "bar": [
           {
            "error_x": {
             "color": "#2a3f5f"
            },
            "error_y": {
             "color": "#2a3f5f"
            },
            "marker": {
             "line": {
              "color": "#E5ECF6",
              "width": 0.5
             }
            },
            "type": "bar"
           }
          ],
          "barpolar": [
           {
            "marker": {
             "line": {
              "color": "#E5ECF6",
              "width": 0.5
             }
            },
            "type": "barpolar"
           }
          ],
          "carpet": [
           {
            "aaxis": {
             "endlinecolor": "#2a3f5f",
             "gridcolor": "white",
             "linecolor": "white",
             "minorgridcolor": "white",
             "startlinecolor": "#2a3f5f"
            },
            "baxis": {
             "endlinecolor": "#2a3f5f",
             "gridcolor": "white",
             "linecolor": "white",
             "minorgridcolor": "white",
             "startlinecolor": "#2a3f5f"
            },
            "type": "carpet"
           }
          ],
          "choropleth": [
           {
            "colorbar": {
             "outlinewidth": 0,
             "ticks": ""
            },
            "type": "choropleth"
           }
          ],
          "contour": [
           {
            "colorbar": {
             "outlinewidth": 0,
             "ticks": ""
            },
            "colorscale": [
             [
              0,
              "#0d0887"
             ],
             [
              0.1111111111111111,
              "#46039f"
             ],
             [
              0.2222222222222222,
              "#7201a8"
             ],
             [
              0.3333333333333333,
              "#9c179e"
             ],
             [
              0.4444444444444444,
              "#bd3786"
             ],
             [
              0.5555555555555556,
              "#d8576b"
             ],
             [
              0.6666666666666666,
              "#ed7953"
             ],
             [
              0.7777777777777778,
              "#fb9f3a"
             ],
             [
              0.8888888888888888,
              "#fdca26"
             ],
             [
              1,
              "#f0f921"
             ]
            ],
            "type": "contour"
           }
          ],
          "contourcarpet": [
           {
            "colorbar": {
             "outlinewidth": 0,
             "ticks": ""
            },
            "type": "contourcarpet"
           }
          ],
          "heatmap": [
           {
            "colorbar": {
             "outlinewidth": 0,
             "ticks": ""
            },
            "colorscale": [
             [
              0,
              "#0d0887"
             ],
             [
              0.1111111111111111,
              "#46039f"
             ],
             [
              0.2222222222222222,
              "#7201a8"
             ],
             [
              0.3333333333333333,
              "#9c179e"
             ],
             [
              0.4444444444444444,
              "#bd3786"
             ],
             [
              0.5555555555555556,
              "#d8576b"
             ],
             [
              0.6666666666666666,
              "#ed7953"
             ],
             [
              0.7777777777777778,
              "#fb9f3a"
             ],
             [
              0.8888888888888888,
              "#fdca26"
             ],
             [
              1,
              "#f0f921"
             ]
            ],
            "type": "heatmap"
           }
          ],
          "heatmapgl": [
           {
            "colorbar": {
             "outlinewidth": 0,
             "ticks": ""
            },
            "colorscale": [
             [
              0,
              "#0d0887"
             ],
             [
              0.1111111111111111,
              "#46039f"
             ],
             [
              0.2222222222222222,
              "#7201a8"
             ],
             [
              0.3333333333333333,
              "#9c179e"
             ],
             [
              0.4444444444444444,
              "#bd3786"
             ],
             [
              0.5555555555555556,
              "#d8576b"
             ],
             [
              0.6666666666666666,
              "#ed7953"
             ],
             [
              0.7777777777777778,
              "#fb9f3a"
             ],
             [
              0.8888888888888888,
              "#fdca26"
             ],
             [
              1,
              "#f0f921"
             ]
            ],
            "type": "heatmapgl"
           }
          ],
          "histogram": [
           {
            "marker": {
             "colorbar": {
              "outlinewidth": 0,
              "ticks": ""
             }
            },
            "type": "histogram"
           }
          ],
          "histogram2d": [
           {
            "colorbar": {
             "outlinewidth": 0,
             "ticks": ""
            },
            "colorscale": [
             [
              0,
              "#0d0887"
             ],
             [
              0.1111111111111111,
              "#46039f"
             ],
             [
              0.2222222222222222,
              "#7201a8"
             ],
             [
              0.3333333333333333,
              "#9c179e"
             ],
             [
              0.4444444444444444,
              "#bd3786"
             ],
             [
              0.5555555555555556,
              "#d8576b"
             ],
             [
              0.6666666666666666,
              "#ed7953"
             ],
             [
              0.7777777777777778,
              "#fb9f3a"
             ],
             [
              0.8888888888888888,
              "#fdca26"
             ],
             [
              1,
              "#f0f921"
             ]
            ],
            "type": "histogram2d"
           }
          ],
          "histogram2dcontour": [
           {
            "colorbar": {
             "outlinewidth": 0,
             "ticks": ""
            },
            "colorscale": [
             [
              0,
              "#0d0887"
             ],
             [
              0.1111111111111111,
              "#46039f"
             ],
             [
              0.2222222222222222,
              "#7201a8"
             ],
             [
              0.3333333333333333,
              "#9c179e"
             ],
             [
              0.4444444444444444,
              "#bd3786"
             ],
             [
              0.5555555555555556,
              "#d8576b"
             ],
             [
              0.6666666666666666,
              "#ed7953"
             ],
             [
              0.7777777777777778,
              "#fb9f3a"
             ],
             [
              0.8888888888888888,
              "#fdca26"
             ],
             [
              1,
              "#f0f921"
             ]
            ],
            "type": "histogram2dcontour"
           }
          ],
          "mesh3d": [
           {
            "colorbar": {
             "outlinewidth": 0,
             "ticks": ""
            },
            "type": "mesh3d"
           }
          ],
          "parcoords": [
           {
            "line": {
             "colorbar": {
              "outlinewidth": 0,
              "ticks": ""
             }
            },
            "type": "parcoords"
           }
          ],
          "pie": [
           {
            "automargin": true,
            "type": "pie"
           }
          ],
          "scatter": [
           {
            "marker": {
             "colorbar": {
              "outlinewidth": 0,
              "ticks": ""
             }
            },
            "type": "scatter"
           }
          ],
          "scatter3d": [
           {
            "line": {
             "colorbar": {
              "outlinewidth": 0,
              "ticks": ""
             }
            },
            "marker": {
             "colorbar": {
              "outlinewidth": 0,
              "ticks": ""
             }
            },
            "type": "scatter3d"
           }
          ],
          "scattercarpet": [
           {
            "marker": {
             "colorbar": {
              "outlinewidth": 0,
              "ticks": ""
             }
            },
            "type": "scattercarpet"
           }
          ],
          "scattergeo": [
           {
            "marker": {
             "colorbar": {
              "outlinewidth": 0,
              "ticks": ""
             }
            },
            "type": "scattergeo"
           }
          ],
          "scattergl": [
           {
            "marker": {
             "colorbar": {
              "outlinewidth": 0,
              "ticks": ""
             }
            },
            "type": "scattergl"
           }
          ],
          "scattermapbox": [
           {
            "marker": {
             "colorbar": {
              "outlinewidth": 0,
              "ticks": ""
             }
            },
            "type": "scattermapbox"
           }
          ],
          "scatterpolar": [
           {
            "marker": {
             "colorbar": {
              "outlinewidth": 0,
              "ticks": ""
             }
            },
            "type": "scatterpolar"
           }
          ],
          "scatterpolargl": [
           {
            "marker": {
             "colorbar": {
              "outlinewidth": 0,
              "ticks": ""
             }
            },
            "type": "scatterpolargl"
           }
          ],
          "scatterternary": [
           {
            "marker": {
             "colorbar": {
              "outlinewidth": 0,
              "ticks": ""
             }
            },
            "type": "scatterternary"
           }
          ],
          "surface": [
           {
            "colorbar": {
             "outlinewidth": 0,
             "ticks": ""
            },
            "colorscale": [
             [
              0,
              "#0d0887"
             ],
             [
              0.1111111111111111,
              "#46039f"
             ],
             [
              0.2222222222222222,
              "#7201a8"
             ],
             [
              0.3333333333333333,
              "#9c179e"
             ],
             [
              0.4444444444444444,
              "#bd3786"
             ],
             [
              0.5555555555555556,
              "#d8576b"
             ],
             [
              0.6666666666666666,
              "#ed7953"
             ],
             [
              0.7777777777777778,
              "#fb9f3a"
             ],
             [
              0.8888888888888888,
              "#fdca26"
             ],
             [
              1,
              "#f0f921"
             ]
            ],
            "type": "surface"
           }
          ],
          "table": [
           {
            "cells": {
             "fill": {
              "color": "#EBF0F8"
             },
             "line": {
              "color": "white"
             }
            },
            "header": {
             "fill": {
              "color": "#C8D4E3"
             },
             "line": {
              "color": "white"
             }
            },
            "type": "table"
           }
          ]
         },
         "layout": {
          "annotationdefaults": {
           "arrowcolor": "#2a3f5f",
           "arrowhead": 0,
           "arrowwidth": 1
          },
          "autotypenumbers": "strict",
          "coloraxis": {
           "colorbar": {
            "outlinewidth": 0,
            "ticks": ""
           }
          },
          "colorscale": {
           "diverging": [
            [
             0,
             "#8e0152"
            ],
            [
             0.1,
             "#c51b7d"
            ],
            [
             0.2,
             "#de77ae"
            ],
            [
             0.3,
             "#f1b6da"
            ],
            [
             0.4,
             "#fde0ef"
            ],
            [
             0.5,
             "#f7f7f7"
            ],
            [
             0.6,
             "#e6f5d0"
            ],
            [
             0.7,
             "#b8e186"
            ],
            [
             0.8,
             "#7fbc41"
            ],
            [
             0.9,
             "#4d9221"
            ],
            [
             1,
             "#276419"
            ]
           ],
           "sequential": [
            [
             0,
             "#0d0887"
            ],
            [
             0.1111111111111111,
             "#46039f"
            ],
            [
             0.2222222222222222,
             "#7201a8"
            ],
            [
             0.3333333333333333,
             "#9c179e"
            ],
            [
             0.4444444444444444,
             "#bd3786"
            ],
            [
             0.5555555555555556,
             "#d8576b"
            ],
            [
             0.6666666666666666,
             "#ed7953"
            ],
            [
             0.7777777777777778,
             "#fb9f3a"
            ],
            [
             0.8888888888888888,
             "#fdca26"
            ],
            [
             1,
             "#f0f921"
            ]
           ],
           "sequentialminus": [
            [
             0,
             "#0d0887"
            ],
            [
             0.1111111111111111,
             "#46039f"
            ],
            [
             0.2222222222222222,
             "#7201a8"
            ],
            [
             0.3333333333333333,
             "#9c179e"
            ],
            [
             0.4444444444444444,
             "#bd3786"
            ],
            [
             0.5555555555555556,
             "#d8576b"
            ],
            [
             0.6666666666666666,
             "#ed7953"
            ],
            [
             0.7777777777777778,
             "#fb9f3a"
            ],
            [
             0.8888888888888888,
             "#fdca26"
            ],
            [
             1,
             "#f0f921"
            ]
           ]
          },
          "colorway": [
           "#636efa",
           "#EF553B",
           "#00cc96",
           "#ab63fa",
           "#FFA15A",
           "#19d3f3",
           "#FF6692",
           "#B6E880",
           "#FF97FF",
           "#FECB52"
          ],
          "font": {
           "color": "#2a3f5f"
          },
          "geo": {
           "bgcolor": "white",
           "lakecolor": "white",
           "landcolor": "#E5ECF6",
           "showlakes": true,
           "showland": true,
           "subunitcolor": "white"
          },
          "hoverlabel": {
           "align": "left"
          },
          "hovermode": "closest",
          "mapbox": {
           "style": "light"
          },
          "paper_bgcolor": "white",
          "plot_bgcolor": "#E5ECF6",
          "polar": {
           "angularaxis": {
            "gridcolor": "white",
            "linecolor": "white",
            "ticks": ""
           },
           "bgcolor": "#E5ECF6",
           "radialaxis": {
            "gridcolor": "white",
            "linecolor": "white",
            "ticks": ""
           }
          },
          "scene": {
           "xaxis": {
            "backgroundcolor": "#E5ECF6",
            "gridcolor": "white",
            "gridwidth": 2,
            "linecolor": "white",
            "showbackground": true,
            "ticks": "",
            "zerolinecolor": "white"
           },
           "yaxis": {
            "backgroundcolor": "#E5ECF6",
            "gridcolor": "white",
            "gridwidth": 2,
            "linecolor": "white",
            "showbackground": true,
            "ticks": "",
            "zerolinecolor": "white"
           },
           "zaxis": {
            "backgroundcolor": "#E5ECF6",
            "gridcolor": "white",
            "gridwidth": 2,
            "linecolor": "white",
            "showbackground": true,
            "ticks": "",
            "zerolinecolor": "white"
           }
          },
          "shapedefaults": {
           "line": {
            "color": "#2a3f5f"
           }
          },
          "ternary": {
           "aaxis": {
            "gridcolor": "white",
            "linecolor": "white",
            "ticks": ""
           },
           "baxis": {
            "gridcolor": "white",
            "linecolor": "white",
            "ticks": ""
           },
           "bgcolor": "#E5ECF6",
           "caxis": {
            "gridcolor": "white",
            "linecolor": "white",
            "ticks": ""
           }
          },
          "title": {
           "x": 0.05
          },
          "xaxis": {
           "automargin": true,
           "gridcolor": "white",
           "linecolor": "white",
           "ticks": "",
           "title": {
            "standoff": 15
           },
           "zerolinecolor": "white",
           "zerolinewidth": 2
          },
          "yaxis": {
           "automargin": true,
           "gridcolor": "white",
           "linecolor": "white",
           "ticks": "",
           "title": {
            "standoff": 15
           },
           "zerolinecolor": "white",
           "zerolinewidth": 2
          }
         }
        },
        "width": 450,
        "xaxis": {
         "mirror": "all",
         "range": [
          5,
          25
         ],
         "showline": true,
         "title": {
          "font": {
           "size": 13
          }
         },
         "zeroline": false
        },
        "yaxis": {
         "mirror": "all",
         "showline": true,
         "title": {
          "font": {
           "size": 13
          }
         },
         "zeroline": false
        }
       }
      },
      "text/html": [
       "<div>                            <div id=\"b095efce-c1c2-43c5-a814-7e9f6ea5897d\" class=\"plotly-graph-div\" style=\"height:420px; width:450px;\"></div>            <script type=\"text/javascript\">                require([\"plotly\"], function(Plotly) {                    window.PLOTLYENV=window.PLOTLYENV || {};                                    if (document.getElementById(\"b095efce-c1c2-43c5-a814-7e9f6ea5897d\")) {                    Plotly.newPlot(                        \"b095efce-c1c2-43c5-a814-7e9f6ea5897d\",                        [{\"line\": {\"color\": \"black\", \"dash\": \"solid\", \"width\": 2}, \"mode\": \"lines\", \"name\": \"T = -91\\u00b0C\", \"type\": \"scatter\", \"uid\": \"a82b7f1f-262c-400d-9400-47d8387a28bf\", \"x\": [5, 6, 7, 8, 9, 10, 11, 12, 13, 14, 15, 16, 17, 18, 19, 20, 21, 22, 23, 24, 25], \"y\": [31226.384523906443, 18989.388076409523, 13349.171478801374, 10273.219971320028, 8396.885744497375, 7157.9903672963965, 6290.638101973339, 5655.53938156412, 5173.770221790755, 4797.747823583085, 4497.30733263337, 4252.517045476853, 4049.741423563172, 3879.3726592855046, 3734.4667503875526, 3609.8928755161382, 3501.7857946196473, 3407.18339408714, 3323.7808194764366, 3249.760012247539, 3183.669189977974]}, {\"line\": {\"color\": \"blue\", \"dash\": \"solid\", \"width\": 2}, \"mode\": \"lines\", \"name\": \"T = -60\\u00b0C\", \"type\": \"scatter\", \"uid\": \"100b9867-f8cf-4ff8-beca-e13336b61359\", \"x\": [5, 6, 7, 8, 9, 10, 11, 12, 13, 14, 15, 16, 17, 18, 19, 20, 21, 22, 23, 24, 25], \"y\": [38093.280044774285, 22068.517049548016, 14991.571043300528, 11249.223126305451, 9019.095759361828, 7573.409365136399, 6576.216377297874, 5854.959111474407, 5313.445848690699, 4894.479550828977, 4562.230708357967, 4293.271244489895, 4071.7222041811187, 3886.488210664183, 3729.6106227528753, 3595.249326994503, 3479.0323907099264, 3377.62869439675, 3288.4599609720635, 3209.50233943949, 3139.1469361738336]}, {\"line\": {\"color\": \"green\", \"dash\": \"solid\", \"width\": 2}, \"mode\": \"lines\", \"name\": \"T = -40\\u00b0C\", \"type\": \"scatter\", \"uid\": \"b5404518-5f00-4e94-b536-51825a55a5a5\", \"x\": [5, 6, 7, 8, 9, 10, 11, 12, 13, 14, 15, 16, 17, 18, 19, 20, 21, 22, 23, 24, 25], \"y\": [42288.221756995496, 23984.728800471876, 16051.902398390443, 11912.454309817875, 9469.803457791608, 7898.059762443339, 6820.062768989444, 6043.769409618774, 5462.9010138269, 5014.650450922299, 4659.880642518277, 4373.116532082838, 4137.159173001735, 3940.031362837032, 3773.1669626316343, 3630.2959176843947, 3506.734696791329, 3398.9215410479433, 3304.1042228189367, 3220.1254716573976, 3145.2725018303213]}],                        {\"annotations\": [{\"font\": {\"size\": 11}, \"showarrow\": false, \"text\": \"$\\\\LARGE{m}$\", \"x\": 0.5, \"xref\": \"paper\", \"y\": -0.2, \"yref\": \"paper\"}, {\"font\": {\"size\": 11}, \"showarrow\": false, \"text\": \"$\\\\LARGE{\\\\sigma_\\\\mathrm{w}}\\\\;\\\\textrm{(MPa)}$ \", \"textangle\": -90, \"x\": -0.2, \"xref\": \"paper\", \"y\": 0.5, \"yref\": \"paper\"}], \"height\": 420, \"legend\": {\"x\": 0.6, \"y\": 0.7}, \"margin\": {\"b\": 80, \"l\": 80, \"r\": 20, \"t\": 40}, \"showlegend\": true, \"template\": {\"data\": {\"bar\": [{\"error_x\": {\"color\": \"#2a3f5f\"}, \"error_y\": {\"color\": \"#2a3f5f\"}, \"marker\": {\"line\": {\"color\": \"#E5ECF6\", \"width\": 0.5}}, \"type\": \"bar\"}], \"barpolar\": [{\"marker\": {\"line\": {\"color\": \"#E5ECF6\", \"width\": 0.5}}, \"type\": \"barpolar\"}], \"carpet\": [{\"aaxis\": {\"endlinecolor\": \"#2a3f5f\", \"gridcolor\": \"white\", \"linecolor\": \"white\", \"minorgridcolor\": \"white\", \"startlinecolor\": \"#2a3f5f\"}, \"baxis\": {\"endlinecolor\": \"#2a3f5f\", \"gridcolor\": \"white\", \"linecolor\": \"white\", \"minorgridcolor\": \"white\", \"startlinecolor\": \"#2a3f5f\"}, \"type\": \"carpet\"}], \"choropleth\": [{\"colorbar\": {\"outlinewidth\": 0, \"ticks\": \"\"}, \"type\": \"choropleth\"}], \"contour\": [{\"colorbar\": {\"outlinewidth\": 0, \"ticks\": \"\"}, \"colorscale\": [[0.0, \"#0d0887\"], [0.1111111111111111, \"#46039f\"], [0.2222222222222222, \"#7201a8\"], [0.3333333333333333, \"#9c179e\"], [0.4444444444444444, \"#bd3786\"], [0.5555555555555556, \"#d8576b\"], [0.6666666666666666, \"#ed7953\"], [0.7777777777777778, \"#fb9f3a\"], [0.8888888888888888, \"#fdca26\"], [1.0, \"#f0f921\"]], \"type\": \"contour\"}], \"contourcarpet\": [{\"colorbar\": {\"outlinewidth\": 0, \"ticks\": \"\"}, \"type\": \"contourcarpet\"}], \"heatmap\": [{\"colorbar\": {\"outlinewidth\": 0, \"ticks\": \"\"}, \"colorscale\": [[0.0, \"#0d0887\"], [0.1111111111111111, \"#46039f\"], [0.2222222222222222, \"#7201a8\"], [0.3333333333333333, \"#9c179e\"], [0.4444444444444444, \"#bd3786\"], [0.5555555555555556, \"#d8576b\"], [0.6666666666666666, \"#ed7953\"], [0.7777777777777778, \"#fb9f3a\"], [0.8888888888888888, \"#fdca26\"], [1.0, \"#f0f921\"]], \"type\": \"heatmap\"}], \"heatmapgl\": [{\"colorbar\": {\"outlinewidth\": 0, \"ticks\": \"\"}, \"colorscale\": [[0.0, \"#0d0887\"], [0.1111111111111111, \"#46039f\"], [0.2222222222222222, \"#7201a8\"], [0.3333333333333333, \"#9c179e\"], [0.4444444444444444, \"#bd3786\"], [0.5555555555555556, \"#d8576b\"], [0.6666666666666666, \"#ed7953\"], [0.7777777777777778, \"#fb9f3a\"], [0.8888888888888888, \"#fdca26\"], [1.0, \"#f0f921\"]], \"type\": \"heatmapgl\"}], \"histogram\": [{\"marker\": {\"colorbar\": {\"outlinewidth\": 0, \"ticks\": \"\"}}, \"type\": \"histogram\"}], \"histogram2d\": [{\"colorbar\": {\"outlinewidth\": 0, \"ticks\": \"\"}, \"colorscale\": [[0.0, \"#0d0887\"], [0.1111111111111111, \"#46039f\"], [0.2222222222222222, \"#7201a8\"], [0.3333333333333333, \"#9c179e\"], [0.4444444444444444, \"#bd3786\"], [0.5555555555555556, \"#d8576b\"], [0.6666666666666666, \"#ed7953\"], [0.7777777777777778, \"#fb9f3a\"], [0.8888888888888888, \"#fdca26\"], [1.0, \"#f0f921\"]], \"type\": \"histogram2d\"}], \"histogram2dcontour\": [{\"colorbar\": {\"outlinewidth\": 0, \"ticks\": \"\"}, \"colorscale\": [[0.0, \"#0d0887\"], [0.1111111111111111, \"#46039f\"], [0.2222222222222222, \"#7201a8\"], [0.3333333333333333, \"#9c179e\"], [0.4444444444444444, \"#bd3786\"], [0.5555555555555556, \"#d8576b\"], [0.6666666666666666, \"#ed7953\"], [0.7777777777777778, \"#fb9f3a\"], [0.8888888888888888, \"#fdca26\"], [1.0, \"#f0f921\"]], \"type\": \"histogram2dcontour\"}], \"mesh3d\": [{\"colorbar\": {\"outlinewidth\": 0, \"ticks\": \"\"}, \"type\": \"mesh3d\"}], \"parcoords\": [{\"line\": {\"colorbar\": {\"outlinewidth\": 0, \"ticks\": \"\"}}, \"type\": \"parcoords\"}], \"pie\": [{\"automargin\": true, \"type\": \"pie\"}], \"scatter\": [{\"marker\": {\"colorbar\": {\"outlinewidth\": 0, \"ticks\": \"\"}}, \"type\": \"scatter\"}], \"scatter3d\": [{\"line\": {\"colorbar\": {\"outlinewidth\": 0, \"ticks\": \"\"}}, \"marker\": {\"colorbar\": {\"outlinewidth\": 0, \"ticks\": \"\"}}, \"type\": \"scatter3d\"}], \"scattercarpet\": [{\"marker\": {\"colorbar\": {\"outlinewidth\": 0, \"ticks\": \"\"}}, \"type\": \"scattercarpet\"}], \"scattergeo\": [{\"marker\": {\"colorbar\": {\"outlinewidth\": 0, \"ticks\": \"\"}}, \"type\": \"scattergeo\"}], \"scattergl\": [{\"marker\": {\"colorbar\": {\"outlinewidth\": 0, \"ticks\": \"\"}}, \"type\": \"scattergl\"}], \"scattermapbox\": [{\"marker\": {\"colorbar\": {\"outlinewidth\": 0, \"ticks\": \"\"}}, \"type\": \"scattermapbox\"}], \"scatterpolar\": [{\"marker\": {\"colorbar\": {\"outlinewidth\": 0, \"ticks\": \"\"}}, \"type\": \"scatterpolar\"}], \"scatterpolargl\": [{\"marker\": {\"colorbar\": {\"outlinewidth\": 0, \"ticks\": \"\"}}, \"type\": \"scatterpolargl\"}], \"scatterternary\": [{\"marker\": {\"colorbar\": {\"outlinewidth\": 0, \"ticks\": \"\"}}, \"type\": \"scatterternary\"}], \"surface\": [{\"colorbar\": {\"outlinewidth\": 0, \"ticks\": \"\"}, \"colorscale\": [[0.0, \"#0d0887\"], [0.1111111111111111, \"#46039f\"], [0.2222222222222222, \"#7201a8\"], [0.3333333333333333, \"#9c179e\"], [0.4444444444444444, \"#bd3786\"], [0.5555555555555556, \"#d8576b\"], [0.6666666666666666, \"#ed7953\"], [0.7777777777777778, \"#fb9f3a\"], [0.8888888888888888, \"#fdca26\"], [1.0, \"#f0f921\"]], \"type\": \"surface\"}], \"table\": [{\"cells\": {\"fill\": {\"color\": \"#EBF0F8\"}, \"line\": {\"color\": \"white\"}}, \"header\": {\"fill\": {\"color\": \"#C8D4E3\"}, \"line\": {\"color\": \"white\"}}, \"type\": \"table\"}]}, \"layout\": {\"annotationdefaults\": {\"arrowcolor\": \"#2a3f5f\", \"arrowhead\": 0, \"arrowwidth\": 1}, \"autotypenumbers\": \"strict\", \"coloraxis\": {\"colorbar\": {\"outlinewidth\": 0, \"ticks\": \"\"}}, \"colorscale\": {\"diverging\": [[0, \"#8e0152\"], [0.1, \"#c51b7d\"], [0.2, \"#de77ae\"], [0.3, \"#f1b6da\"], [0.4, \"#fde0ef\"], [0.5, \"#f7f7f7\"], [0.6, \"#e6f5d0\"], [0.7, \"#b8e186\"], [0.8, \"#7fbc41\"], [0.9, \"#4d9221\"], [1, \"#276419\"]], \"sequential\": [[0.0, \"#0d0887\"], [0.1111111111111111, \"#46039f\"], [0.2222222222222222, \"#7201a8\"], [0.3333333333333333, \"#9c179e\"], [0.4444444444444444, \"#bd3786\"], [0.5555555555555556, \"#d8576b\"], [0.6666666666666666, \"#ed7953\"], [0.7777777777777778, \"#fb9f3a\"], [0.8888888888888888, \"#fdca26\"], [1.0, \"#f0f921\"]], \"sequentialminus\": [[0.0, \"#0d0887\"], [0.1111111111111111, \"#46039f\"], [0.2222222222222222, \"#7201a8\"], [0.3333333333333333, \"#9c179e\"], [0.4444444444444444, \"#bd3786\"], [0.5555555555555556, \"#d8576b\"], [0.6666666666666666, \"#ed7953\"], [0.7777777777777778, \"#fb9f3a\"], [0.8888888888888888, \"#fdca26\"], [1.0, \"#f0f921\"]]}, \"colorway\": [\"#636efa\", \"#EF553B\", \"#00cc96\", \"#ab63fa\", \"#FFA15A\", \"#19d3f3\", \"#FF6692\", \"#B6E880\", \"#FF97FF\", \"#FECB52\"], \"font\": {\"color\": \"#2a3f5f\"}, \"geo\": {\"bgcolor\": \"white\", \"lakecolor\": \"white\", \"landcolor\": \"#E5ECF6\", \"showlakes\": true, \"showland\": true, \"subunitcolor\": \"white\"}, \"hoverlabel\": {\"align\": \"left\"}, \"hovermode\": \"closest\", \"mapbox\": {\"style\": \"light\"}, \"paper_bgcolor\": \"white\", \"plot_bgcolor\": \"#E5ECF6\", \"polar\": {\"angularaxis\": {\"gridcolor\": \"white\", \"linecolor\": \"white\", \"ticks\": \"\"}, \"bgcolor\": \"#E5ECF6\", \"radialaxis\": {\"gridcolor\": \"white\", \"linecolor\": \"white\", \"ticks\": \"\"}}, \"scene\": {\"xaxis\": {\"backgroundcolor\": \"#E5ECF6\", \"gridcolor\": \"white\", \"gridwidth\": 2, \"linecolor\": \"white\", \"showbackground\": true, \"ticks\": \"\", \"zerolinecolor\": \"white\"}, \"yaxis\": {\"backgroundcolor\": \"#E5ECF6\", \"gridcolor\": \"white\", \"gridwidth\": 2, \"linecolor\": \"white\", \"showbackground\": true, \"ticks\": \"\", \"zerolinecolor\": \"white\"}, \"zaxis\": {\"backgroundcolor\": \"#E5ECF6\", \"gridcolor\": \"white\", \"gridwidth\": 2, \"linecolor\": \"white\", \"showbackground\": true, \"ticks\": \"\", \"zerolinecolor\": \"white\"}}, \"shapedefaults\": {\"line\": {\"color\": \"#2a3f5f\"}}, \"ternary\": {\"aaxis\": {\"gridcolor\": \"white\", \"linecolor\": \"white\", \"ticks\": \"\"}, \"baxis\": {\"gridcolor\": \"white\", \"linecolor\": \"white\", \"ticks\": \"\"}, \"bgcolor\": \"#E5ECF6\", \"caxis\": {\"gridcolor\": \"white\", \"linecolor\": \"white\", \"ticks\": \"\"}}, \"title\": {\"x\": 0.05}, \"xaxis\": {\"automargin\": true, \"gridcolor\": \"white\", \"linecolor\": \"white\", \"ticks\": \"\", \"title\": {\"standoff\": 15}, \"zerolinecolor\": \"white\", \"zerolinewidth\": 2}, \"yaxis\": {\"automargin\": true, \"gridcolor\": \"white\", \"linecolor\": \"white\", \"ticks\": \"\", \"title\": {\"standoff\": 15}, \"zerolinecolor\": \"white\", \"zerolinewidth\": 2}}}, \"width\": 450, \"xaxis\": {\"mirror\": \"all\", \"range\": [5, 25], \"showline\": true, \"title\": {\"font\": {\"size\": 13}}, \"zeroline\": false}, \"yaxis\": {\"mirror\": \"all\", \"showline\": true, \"title\": {\"font\": {\"size\": 13}}, \"zeroline\": false}},                        {\"responsive\": true}                    ).then(function(){\n",
       "                            \n",
       "var gd = document.getElementById('b095efce-c1c2-43c5-a814-7e9f6ea5897d');\n",
       "var x = new MutationObserver(function (mutations, observer) {{\n",
       "        var display = window.getComputedStyle(gd).display;\n",
       "        if (!display || display === 'none') {{\n",
       "            console.log([gd, 'removed!']);\n",
       "            Plotly.purge(gd);\n",
       "            observer.disconnect();\n",
       "        }}\n",
       "}});\n",
       "\n",
       "// Listen for the removal of the full notebook cells\n",
       "var notebookContainer = gd.closest('#notebook-container');\n",
       "if (notebookContainer) {{\n",
       "    x.observe(notebookContainer, {childList: true});\n",
       "}}\n",
       "\n",
       "// Listen for the clearing of the current output cell\n",
       "var outputEl = gd.closest('.output');\n",
       "if (outputEl) {{\n",
       "    x.observe(outputEl, {childList: true});\n",
       "}}\n",
       "\n",
       "                        })                };                });            </script>        </div>"
      ]
     },
     "metadata": {},
     "output_type": "display_data"
    }
   ],
   "source": [
    "# non-normalised Weibull\n",
    "\n",
    "data = []\n",
    "lines = ['solid','dash']\n",
    "ylab =  r'$\\LARGE{\\sigma_\\mathrm{w}}\\;\\textrm{(MPa)}$ '\n",
    "\n",
    "for ri, sw_r in enumerate(glob_sw_all):\n",
    "    temp_ri = temps[ri]\n",
    "    x_plot = []\n",
    "    y_plot = []\n",
    "    for mi, sw in enumerate(sw_r):                \n",
    "        x_plot.append(m_vals[mi])\n",
    "        y_plot.append(sw[gdata_all[ri]['j0_idx']-np.array(skipped_lines_all)[ri]])\n",
    "\n",
    "        if mi == 0:\n",
    "            print(gdata_all[ri]['j0'])\n",
    "    data.append({\n",
    "            'x': x_plot,\n",
    "            'y': np.array(y_plot) ,\n",
    "#             'name': file_labs[ri],\n",
    "            'name': r'T = ' + str(temps[ri]) + r'°C',\n",
    "#             'name': str(num_el[ri]) + ' elements',\n",
    "#             'name': paths[ri][18:],\n",
    "#             'name': str(radii[ri]) + ' μm',\n",
    "            'line': {'dash': lines[0], 'color': cols[ri], 'width': 2},\n",
    "             'mode': 'lines',\n",
    "        })\n",
    "  \n",
    "\n",
    "layout = {\n",
    "    'width': 450,\n",
    "    'height': 420,\n",
    "    'xaxis': {\n",
    "#         'range': [-0.1, 1.1],\n",
    "        'zeroline': False,\n",
    "        'showline': True,\n",
    "        'mirror': 'all',\n",
    "#         'title': r'$m$',\n",
    "        'titlefont':{'size': 13}\n",
    "    },\n",
    "    'yaxis': {\n",
    "        'zeroline': False,\n",
    "        'showline': True,\n",
    "        'mirror': 'all',\n",
    "#         'title': '$\\sigma_\\mathrm{w}/\\sigma_\\mathrm{f} $ ',\n",
    "        'titlefont':{'size': 13},\n",
    "\n",
    "    },\n",
    "    'annotations':[\n",
    "    {\n",
    "        'text':  r'$\\LARGE{m}$',\n",
    "        'x': 0.5,\n",
    "        'y': -0.2,\n",
    "        'xref': 'paper',\n",
    "        'yref': 'paper',\n",
    "        'showarrow': False,\n",
    "        'font': {'size': 11},\n",
    "    },\n",
    "        {\n",
    "        'text': ylab,\n",
    "        'x': -0.2,\n",
    "        'y': 0.5,\n",
    "        'xref': 'paper',\n",
    "        'yref': 'paper',\n",
    "        'showarrow': False,\n",
    "        'font': {'size': 11},\n",
    "        'textangle': -90\n",
    "    },\n",
    "    ],\n",
    "    'legend':{\n",
    "        'x': 0.6,\n",
    "        'y': 0.7,\n",
    "    },\n",
    "     'margin': {\n",
    "                'l': 80,\n",
    "                'r': 20,\n",
    "                'b': 80,\n",
    "                't': 40,\n",
    "#                 'pad': 1\n",
    "     },\n",
    "\n",
    "}\n",
    "layout['xaxis']['range'] = [5, 25]\n",
    "# layout['yaxis']['range'] = [-0.1, 1]\n",
    "layout['showlegend'] = True\n",
    "f = go.FigureWidget(data,layout)\n",
    "py.iplot(f)\n",
    "# pio.write_image(f, 'images-jan2020/fig6.svg',width=450, height=400,)"
   ]
  },
  {
   "attachments": {},
   "cell_type": "markdown",
   "metadata": {},
   "source": [
    "### Delta Weibull stress vs Shape parameter `m`\n",
    "\n",
    "$\\Large{\\Delta \\sigma_W = \\frac{\\sigma_{-91°C} - \\sigma_{T_i}}{\\sigma_{-91°C}} 100}$\n",
    "\n"
   ]
  },
  {
   "cell_type": "code",
   "execution_count": 30,
   "metadata": {
    "code_folding": [
     0,
     26
    ]
   },
   "outputs": [
    {
     "data": {
      "application/vnd.plotly.v1+json": {
       "config": {
        "linkText": "Export to plot.ly",
        "plotlyServerURL": "https://plot.ly",
        "showLink": false
       },
       "data": [
        {
         "line": {
          "color": "black",
          "dash": "solid",
          "width": 2
         },
         "mode": "lines",
         "name": "T = -91°C",
         "type": "scatter",
         "uid": "866f6e63-f0ff-475f-9221-dcaece93edc8",
         "x": [
          5,
          6,
          7,
          8,
          9,
          10,
          11,
          12,
          13,
          14,
          15,
          16,
          17,
          18,
          19,
          20,
          21,
          22,
          23,
          24,
          25
         ],
         "y": [
          0,
          0,
          0,
          0,
          0,
          0,
          0,
          0,
          0,
          0,
          0,
          0,
          0,
          0,
          0,
          0,
          0,
          0,
          0,
          0,
          0
         ]
        },
        {
         "line": {
          "color": "black",
          "dash": "solid",
          "width": 2
         },
         "mode": "lines",
         "name": "T = -91°C",
         "type": "scatter",
         "uid": "25886803-79c6-4178-b277-bf09e887ecd6",
         "x": [
          5,
          6,
          7,
          8,
          9,
          10,
          11,
          12,
          13,
          14,
          15,
          16,
          17,
          18,
          19,
          20,
          21,
          22,
          23,
          24,
          25
         ],
         "y": [
          0,
          0,
          0,
          0,
          0,
          0,
          0,
          0,
          0,
          0,
          0,
          0,
          0,
          0,
          0,
          0,
          0,
          0,
          0,
          0,
          0
         ]
        },
        {
         "line": {
          "color": "black",
          "dash": "solid",
          "width": 2
         },
         "mode": "lines",
         "name": "T = -91°C",
         "type": "scatter",
         "uid": "6088b3af-869e-4862-819e-669d6781d4da",
         "x": [
          5,
          6,
          7,
          8,
          9,
          10,
          11,
          12,
          13,
          14,
          15,
          16,
          17,
          18,
          19,
          20,
          21,
          22,
          23,
          24,
          25
         ],
         "y": [
          0,
          0,
          0,
          0,
          0,
          0,
          0,
          0,
          0,
          0,
          0,
          0,
          0,
          0,
          0,
          0,
          0,
          0,
          0,
          0,
          0
         ]
        },
        {
         "line": {
          "color": "black",
          "dash": "solid",
          "width": 2
         },
         "mode": "lines",
         "name": "T = -91°C",
         "type": "scatter",
         "uid": "3485afa0-b8fa-48d8-80dd-0f9ec9ec7af3",
         "x": [
          5,
          6,
          7,
          8,
          9,
          10,
          11,
          12,
          13,
          14,
          15,
          16,
          17,
          18,
          19,
          20,
          21,
          22,
          23,
          24,
          25
         ],
         "y": [
          0,
          0,
          0,
          0,
          0,
          0,
          0,
          0,
          0,
          0,
          0,
          0,
          0,
          0,
          0,
          0,
          0,
          0,
          0,
          0,
          0
         ]
        },
        {
         "line": {
          "color": "black",
          "dash": "solid",
          "width": 2
         },
         "mode": "lines",
         "name": "T = -91°C",
         "type": "scatter",
         "uid": "d973d084-9da8-4bd9-94ad-24d3be45b03a",
         "x": [
          5,
          6,
          7,
          8,
          9,
          10,
          11,
          12,
          13,
          14,
          15,
          16,
          17,
          18,
          19,
          20,
          21,
          22,
          23,
          24,
          25
         ],
         "y": [
          0,
          0,
          0,
          0,
          0,
          0,
          0,
          0,
          0,
          0,
          0,
          0,
          0,
          0,
          0,
          0,
          0,
          0,
          0,
          0,
          0
         ]
        },
        {
         "line": {
          "color": "black",
          "dash": "solid",
          "width": 2
         },
         "mode": "lines",
         "name": "T = -91°C",
         "type": "scatter",
         "uid": "28061ed2-a2f1-42ce-9428-7a1570e1ebdf",
         "x": [
          5,
          6,
          7,
          8,
          9,
          10,
          11,
          12,
          13,
          14,
          15,
          16,
          17,
          18,
          19,
          20,
          21,
          22,
          23,
          24,
          25
         ],
         "y": [
          0,
          0,
          0,
          0,
          0,
          0,
          0,
          0,
          0,
          0,
          0,
          0,
          0,
          0,
          0,
          0,
          0,
          0,
          0,
          0,
          0
         ]
        },
        {
         "line": {
          "color": "black",
          "dash": "solid",
          "width": 2
         },
         "mode": "lines",
         "name": "T = -91°C",
         "type": "scatter",
         "uid": "435d1916-9afb-4d30-8c67-c458ce3cde2d",
         "x": [
          5,
          6,
          7,
          8,
          9,
          10,
          11,
          12,
          13,
          14,
          15,
          16,
          17,
          18,
          19,
          20,
          21,
          22,
          23,
          24,
          25
         ],
         "y": [
          0,
          0,
          0,
          0,
          0,
          0,
          0,
          0,
          0,
          0,
          0,
          0,
          0,
          0,
          0,
          0,
          0,
          0,
          0,
          0,
          0
         ]
        },
        {
         "line": {
          "color": "black",
          "dash": "solid",
          "width": 2
         },
         "mode": "lines",
         "name": "T = -91°C",
         "type": "scatter",
         "uid": "e498503b-a3cc-40f0-924d-ef0cf659e65c",
         "x": [
          5,
          6,
          7,
          8,
          9,
          10,
          11,
          12,
          13,
          14,
          15,
          16,
          17,
          18,
          19,
          20,
          21,
          22,
          23,
          24,
          25
         ],
         "y": [
          0,
          0,
          0,
          0,
          0,
          0,
          0,
          0,
          0,
          0,
          0,
          0,
          0,
          0,
          0,
          0,
          0,
          0,
          0,
          0,
          0
         ]
        },
        {
         "line": {
          "color": "black",
          "dash": "solid",
          "width": 2
         },
         "mode": "lines",
         "name": "T = -91°C",
         "type": "scatter",
         "uid": "486867e5-23af-446f-8668-b2b9e1151c9e",
         "x": [
          5,
          6,
          7,
          8,
          9,
          10,
          11,
          12,
          13,
          14,
          15,
          16,
          17,
          18,
          19,
          20,
          21,
          22,
          23,
          24,
          25
         ],
         "y": [
          0,
          0,
          0,
          0,
          0,
          0,
          0,
          0,
          0,
          0,
          0,
          0,
          0,
          0,
          0,
          0,
          0,
          0,
          0,
          0,
          0
         ]
        },
        {
         "line": {
          "color": "black",
          "dash": "solid",
          "width": 2
         },
         "mode": "lines",
         "name": "T = -91°C",
         "type": "scatter",
         "uid": "1f1ee947-1fe0-4d13-8ea0-cdd8597bb3ae",
         "x": [
          5,
          6,
          7,
          8,
          9,
          10,
          11,
          12,
          13,
          14,
          15,
          16,
          17,
          18,
          19,
          20,
          21,
          22,
          23,
          24,
          25
         ],
         "y": [
          0,
          0,
          0,
          0,
          0,
          0,
          0,
          0,
          0,
          0,
          0,
          0,
          0,
          0,
          0,
          0,
          0,
          0,
          0,
          0,
          0
         ]
        },
        {
         "line": {
          "color": "black",
          "dash": "solid",
          "width": 2
         },
         "mode": "lines",
         "name": "T = -91°C",
         "type": "scatter",
         "uid": "0c47e79b-8794-437c-a6db-6074be008e5d",
         "x": [
          5,
          6,
          7,
          8,
          9,
          10,
          11,
          12,
          13,
          14,
          15,
          16,
          17,
          18,
          19,
          20,
          21,
          22,
          23,
          24,
          25
         ],
         "y": [
          0,
          0,
          0,
          0,
          0,
          0,
          0,
          0,
          0,
          0,
          0,
          0,
          0,
          0,
          0,
          0,
          0,
          0,
          0,
          0,
          0
         ]
        },
        {
         "line": {
          "color": "black",
          "dash": "solid",
          "width": 2
         },
         "mode": "lines",
         "name": "T = -91°C",
         "type": "scatter",
         "uid": "76731513-8499-4ab3-a30a-0292b67a9330",
         "x": [
          5,
          6,
          7,
          8,
          9,
          10,
          11,
          12,
          13,
          14,
          15,
          16,
          17,
          18,
          19,
          20,
          21,
          22,
          23,
          24,
          25
         ],
         "y": [
          0,
          0,
          0,
          0,
          0,
          0,
          0,
          0,
          0,
          0,
          0,
          0,
          0,
          0,
          0,
          0,
          0,
          0,
          0,
          0,
          0
         ]
        },
        {
         "line": {
          "color": "black",
          "dash": "solid",
          "width": 2
         },
         "mode": "lines",
         "name": "T = -91°C",
         "type": "scatter",
         "uid": "a4216d82-7ec0-4a84-abae-c8581b340be5",
         "x": [
          5,
          6,
          7,
          8,
          9,
          10,
          11,
          12,
          13,
          14,
          15,
          16,
          17,
          18,
          19,
          20,
          21,
          22,
          23,
          24,
          25
         ],
         "y": [
          0,
          0,
          0,
          0,
          0,
          0,
          0,
          0,
          0,
          0,
          0,
          0,
          0,
          0,
          0,
          0,
          0,
          0,
          0,
          0,
          0
         ]
        },
        {
         "line": {
          "color": "black",
          "dash": "solid",
          "width": 2
         },
         "mode": "lines",
         "name": "T = -91°C",
         "type": "scatter",
         "uid": "31dcb2e0-8a98-4ea1-bd22-1fa0d8203d6f",
         "x": [
          5,
          6,
          7,
          8,
          9,
          10,
          11,
          12,
          13,
          14,
          15,
          16,
          17,
          18,
          19,
          20,
          21,
          22,
          23,
          24,
          25
         ],
         "y": [
          0,
          0,
          0,
          0,
          0,
          0,
          0,
          0,
          0,
          0,
          0,
          0,
          0,
          0,
          0,
          0,
          0,
          0,
          0,
          0,
          0
         ]
        },
        {
         "line": {
          "color": "black",
          "dash": "solid",
          "width": 2
         },
         "mode": "lines",
         "name": "T = -91°C",
         "type": "scatter",
         "uid": "f922254c-1997-4207-93c3-b077cdd00a73",
         "x": [
          5,
          6,
          7,
          8,
          9,
          10,
          11,
          12,
          13,
          14,
          15,
          16,
          17,
          18,
          19,
          20,
          21,
          22,
          23,
          24,
          25
         ],
         "y": [
          0,
          0,
          0,
          0,
          0,
          0,
          0,
          0,
          0,
          0,
          0,
          0,
          0,
          0,
          0,
          0,
          0,
          0,
          0,
          0,
          0
         ]
        },
        {
         "line": {
          "color": "black",
          "dash": "solid",
          "width": 2
         },
         "mode": "lines",
         "name": "T = -91°C",
         "type": "scatter",
         "uid": "44b9ed6f-d92e-4526-8a2e-90b12ee9d6cd",
         "x": [
          5,
          6,
          7,
          8,
          9,
          10,
          11,
          12,
          13,
          14,
          15,
          16,
          17,
          18,
          19,
          20,
          21,
          22,
          23,
          24,
          25
         ],
         "y": [
          0,
          0,
          0,
          0,
          0,
          0,
          0,
          0,
          0,
          0,
          0,
          0,
          0,
          0,
          0,
          0,
          0,
          0,
          0,
          0,
          0
         ]
        },
        {
         "line": {
          "color": "black",
          "dash": "solid",
          "width": 2
         },
         "mode": "lines",
         "name": "T = -91°C",
         "type": "scatter",
         "uid": "0dab09be-1d57-4bfe-b47f-c87e5a395e4e",
         "x": [
          5,
          6,
          7,
          8,
          9,
          10,
          11,
          12,
          13,
          14,
          15,
          16,
          17,
          18,
          19,
          20,
          21,
          22,
          23,
          24,
          25
         ],
         "y": [
          0,
          0,
          0,
          0,
          0,
          0,
          0,
          0,
          0,
          0,
          0,
          0,
          0,
          0,
          0,
          0,
          0,
          0,
          0,
          0,
          0
         ]
        },
        {
         "line": {
          "color": "black",
          "dash": "solid",
          "width": 2
         },
         "mode": "lines",
         "name": "T = -91°C",
         "type": "scatter",
         "uid": "82d53851-2363-4864-8ace-91ea9b688ae7",
         "x": [
          5,
          6,
          7,
          8,
          9,
          10,
          11,
          12,
          13,
          14,
          15,
          16,
          17,
          18,
          19,
          20,
          21,
          22,
          23,
          24,
          25
         ],
         "y": [
          0,
          0,
          0,
          0,
          0,
          0,
          0,
          0,
          0,
          0,
          0,
          0,
          0,
          0,
          0,
          0,
          0,
          0,
          0,
          0,
          0
         ]
        },
        {
         "line": {
          "color": "black",
          "dash": "solid",
          "width": 2
         },
         "mode": "lines",
         "name": "T = -91°C",
         "type": "scatter",
         "uid": "f54392f8-318a-4cc0-aaea-aa1b0d4b7a0e",
         "x": [
          5,
          6,
          7,
          8,
          9,
          10,
          11,
          12,
          13,
          14,
          15,
          16,
          17,
          18,
          19,
          20,
          21,
          22,
          23,
          24,
          25
         ],
         "y": [
          0,
          0,
          0,
          0,
          0,
          0,
          0,
          0,
          0,
          0,
          0,
          0,
          0,
          0,
          0,
          0,
          0,
          0,
          0,
          0,
          0
         ]
        },
        {
         "line": {
          "color": "black",
          "dash": "solid",
          "width": 2
         },
         "mode": "lines",
         "name": "T = -91°C",
         "type": "scatter",
         "uid": "2f7b52cd-99f4-4395-8284-a0e9eab32245",
         "x": [
          5,
          6,
          7,
          8,
          9,
          10,
          11,
          12,
          13,
          14,
          15,
          16,
          17,
          18,
          19,
          20,
          21,
          22,
          23,
          24,
          25
         ],
         "y": [
          0,
          0,
          0,
          0,
          0,
          0,
          0,
          0,
          0,
          0,
          0,
          0,
          0,
          0,
          0,
          0,
          0,
          0,
          0,
          0,
          0
         ]
        },
        {
         "line": {
          "color": "black",
          "dash": "solid",
          "width": 2
         },
         "mode": "lines",
         "name": "T = -91°C",
         "type": "scatter",
         "uid": "72662409-c85f-4a41-bf03-9282f14defae",
         "x": [
          5,
          6,
          7,
          8,
          9,
          10,
          11,
          12,
          13,
          14,
          15,
          16,
          17,
          18,
          19,
          20,
          21,
          22,
          23,
          24,
          25
         ],
         "y": [
          0,
          0,
          0,
          0,
          0,
          0,
          0,
          0,
          0,
          0,
          0,
          0,
          0,
          0,
          0,
          0,
          0,
          0,
          0,
          0,
          0
         ]
        },
        {
         "line": {
          "color": "blue",
          "dash": "solid",
          "width": 2
         },
         "mode": "lines",
         "name": "T = -60°C",
         "type": "scatter",
         "uid": "0462f21d-3f8b-4423-9b11-b8a2be7a3ef6",
         "x": [
          5,
          6,
          7,
          8,
          9,
          10,
          11,
          12,
          13,
          14,
          15,
          16,
          17,
          18,
          19,
          20,
          21,
          22,
          23,
          24,
          25
         ],
         "y": [
          18.026527284593485,
          13.952586692731836,
          10.9554866515015,
          8.67618273748268,
          6.898807058552391,
          5.485230994541927,
          4.342592441307066,
          3.4059969696367154,
          2.6287202481674155,
          1.9763434751608837,
          1.4230620912190697,
          0.949257493696612,
          0.5398398887668614,
          0.18308434229014248,
          -0.13020468155715617,
          -0.4073027261749524,
          -0.6540152937488991,
          -0.8750132819341448,
          -1.0740851013412454,
          -1.254327573261094,
          -1.4182914884005553
         ]
        },
        {
         "line": {
          "color": "blue",
          "dash": "solid",
          "width": 2
         },
         "mode": "lines",
         "name": "T = -60°C",
         "type": "scatter",
         "uid": "d6ae9288-86c4-452e-9f26-ed080fdb6257",
         "x": [
          5,
          6,
          7,
          8,
          9,
          10,
          11,
          12,
          13,
          14,
          15,
          16,
          17,
          18,
          19,
          20,
          21,
          22,
          23,
          24,
          25
         ],
         "y": [
          18.026527284593485,
          13.952586692731836,
          10.9554866515015,
          8.67618273748268,
          6.898807058552391,
          5.485230994541927,
          4.342592441307066,
          3.4059969696367154,
          2.6287202481674155,
          1.9763434751608837,
          1.4230620912190697,
          0.949257493696612,
          0.5398398887668614,
          0.18308434229014248,
          -0.13020468155715617,
          -0.4073027261749524,
          -0.6540152937488991,
          -0.8750132819341448,
          -1.0740851013412454,
          -1.254327573261094,
          -1.4182914884005553
         ]
        },
        {
         "line": {
          "color": "blue",
          "dash": "solid",
          "width": 2
         },
         "mode": "lines",
         "name": "T = -60°C",
         "type": "scatter",
         "uid": "4a64c537-b989-4848-bb4a-55dc1e9a4e50",
         "x": [
          5,
          6,
          7,
          8,
          9,
          10,
          11,
          12,
          13,
          14,
          15,
          16,
          17,
          18,
          19,
          20,
          21,
          22,
          23,
          24,
          25
         ],
         "y": [
          18.026527284593485,
          13.952586692731836,
          10.9554866515015,
          8.67618273748268,
          6.898807058552391,
          5.485230994541927,
          4.342592441307066,
          3.4059969696367154,
          2.6287202481674155,
          1.9763434751608837,
          1.4230620912190697,
          0.949257493696612,
          0.5398398887668614,
          0.18308434229014248,
          -0.13020468155715617,
          -0.4073027261749524,
          -0.6540152937488991,
          -0.8750132819341448,
          -1.0740851013412454,
          -1.254327573261094,
          -1.4182914884005553
         ]
        },
        {
         "line": {
          "color": "blue",
          "dash": "solid",
          "width": 2
         },
         "mode": "lines",
         "name": "T = -60°C",
         "type": "scatter",
         "uid": "2abf4dab-a2ee-4494-8d1a-77fb3bfb7998",
         "x": [
          5,
          6,
          7,
          8,
          9,
          10,
          11,
          12,
          13,
          14,
          15,
          16,
          17,
          18,
          19,
          20,
          21,
          22,
          23,
          24,
          25
         ],
         "y": [
          18.026527284593485,
          13.952586692731836,
          10.9554866515015,
          8.67618273748268,
          6.898807058552391,
          5.485230994541927,
          4.342592441307066,
          3.4059969696367154,
          2.6287202481674155,
          1.9763434751608837,
          1.4230620912190697,
          0.949257493696612,
          0.5398398887668614,
          0.18308434229014248,
          -0.13020468155715617,
          -0.4073027261749524,
          -0.6540152937488991,
          -0.8750132819341448,
          -1.0740851013412454,
          -1.254327573261094,
          -1.4182914884005553
         ]
        },
        {
         "line": {
          "color": "blue",
          "dash": "solid",
          "width": 2
         },
         "mode": "lines",
         "name": "T = -60°C",
         "type": "scatter",
         "uid": "dbe30aaf-ff75-42aa-843f-0f6a8b50601f",
         "x": [
          5,
          6,
          7,
          8,
          9,
          10,
          11,
          12,
          13,
          14,
          15,
          16,
          17,
          18,
          19,
          20,
          21,
          22,
          23,
          24,
          25
         ],
         "y": [
          18.026527284593485,
          13.952586692731836,
          10.9554866515015,
          8.67618273748268,
          6.898807058552391,
          5.485230994541927,
          4.342592441307066,
          3.4059969696367154,
          2.6287202481674155,
          1.9763434751608837,
          1.4230620912190697,
          0.949257493696612,
          0.5398398887668614,
          0.18308434229014248,
          -0.13020468155715617,
          -0.4073027261749524,
          -0.6540152937488991,
          -0.8750132819341448,
          -1.0740851013412454,
          -1.254327573261094,
          -1.4182914884005553
         ]
        },
        {
         "line": {
          "color": "blue",
          "dash": "solid",
          "width": 2
         },
         "mode": "lines",
         "name": "T = -60°C",
         "type": "scatter",
         "uid": "6fec0f03-3b14-45bd-b965-108867f6d529",
         "x": [
          5,
          6,
          7,
          8,
          9,
          10,
          11,
          12,
          13,
          14,
          15,
          16,
          17,
          18,
          19,
          20,
          21,
          22,
          23,
          24,
          25
         ],
         "y": [
          18.026527284593485,
          13.952586692731836,
          10.9554866515015,
          8.67618273748268,
          6.898807058552391,
          5.485230994541927,
          4.342592441307066,
          3.4059969696367154,
          2.6287202481674155,
          1.9763434751608837,
          1.4230620912190697,
          0.949257493696612,
          0.5398398887668614,
          0.18308434229014248,
          -0.13020468155715617,
          -0.4073027261749524,
          -0.6540152937488991,
          -0.8750132819341448,
          -1.0740851013412454,
          -1.254327573261094,
          -1.4182914884005553
         ]
        },
        {
         "line": {
          "color": "blue",
          "dash": "solid",
          "width": 2
         },
         "mode": "lines",
         "name": "T = -60°C",
         "type": "scatter",
         "uid": "d88b7aec-c03b-431f-b11a-038c984497f2",
         "x": [
          5,
          6,
          7,
          8,
          9,
          10,
          11,
          12,
          13,
          14,
          15,
          16,
          17,
          18,
          19,
          20,
          21,
          22,
          23,
          24,
          25
         ],
         "y": [
          18.026527284593485,
          13.952586692731836,
          10.9554866515015,
          8.67618273748268,
          6.898807058552391,
          5.485230994541927,
          4.342592441307066,
          3.4059969696367154,
          2.6287202481674155,
          1.9763434751608837,
          1.4230620912190697,
          0.949257493696612,
          0.5398398887668614,
          0.18308434229014248,
          -0.13020468155715617,
          -0.4073027261749524,
          -0.6540152937488991,
          -0.8750132819341448,
          -1.0740851013412454,
          -1.254327573261094,
          -1.4182914884005553
         ]
        },
        {
         "line": {
          "color": "blue",
          "dash": "solid",
          "width": 2
         },
         "mode": "lines",
         "name": "T = -60°C",
         "type": "scatter",
         "uid": "73fbbb33-a93c-4182-aaa1-f2e8b5b11147",
         "x": [
          5,
          6,
          7,
          8,
          9,
          10,
          11,
          12,
          13,
          14,
          15,
          16,
          17,
          18,
          19,
          20,
          21,
          22,
          23,
          24,
          25
         ],
         "y": [
          18.026527284593485,
          13.952586692731836,
          10.9554866515015,
          8.67618273748268,
          6.898807058552391,
          5.485230994541927,
          4.342592441307066,
          3.4059969696367154,
          2.6287202481674155,
          1.9763434751608837,
          1.4230620912190697,
          0.949257493696612,
          0.5398398887668614,
          0.18308434229014248,
          -0.13020468155715617,
          -0.4073027261749524,
          -0.6540152937488991,
          -0.8750132819341448,
          -1.0740851013412454,
          -1.254327573261094,
          -1.4182914884005553
         ]
        },
        {
         "line": {
          "color": "blue",
          "dash": "solid",
          "width": 2
         },
         "mode": "lines",
         "name": "T = -60°C",
         "type": "scatter",
         "uid": "482029f2-b21a-4bd8-81a9-88c48401a3c1",
         "x": [
          5,
          6,
          7,
          8,
          9,
          10,
          11,
          12,
          13,
          14,
          15,
          16,
          17,
          18,
          19,
          20,
          21,
          22,
          23,
          24,
          25
         ],
         "y": [
          18.026527284593485,
          13.952586692731836,
          10.9554866515015,
          8.67618273748268,
          6.898807058552391,
          5.485230994541927,
          4.342592441307066,
          3.4059969696367154,
          2.6287202481674155,
          1.9763434751608837,
          1.4230620912190697,
          0.949257493696612,
          0.5398398887668614,
          0.18308434229014248,
          -0.13020468155715617,
          -0.4073027261749524,
          -0.6540152937488991,
          -0.8750132819341448,
          -1.0740851013412454,
          -1.254327573261094,
          -1.4182914884005553
         ]
        },
        {
         "line": {
          "color": "blue",
          "dash": "solid",
          "width": 2
         },
         "mode": "lines",
         "name": "T = -60°C",
         "type": "scatter",
         "uid": "fe25cf01-caba-490c-92e0-4fe79bb91a9c",
         "x": [
          5,
          6,
          7,
          8,
          9,
          10,
          11,
          12,
          13,
          14,
          15,
          16,
          17,
          18,
          19,
          20,
          21,
          22,
          23,
          24,
          25
         ],
         "y": [
          18.026527284593485,
          13.952586692731836,
          10.9554866515015,
          8.67618273748268,
          6.898807058552391,
          5.485230994541927,
          4.342592441307066,
          3.4059969696367154,
          2.6287202481674155,
          1.9763434751608837,
          1.4230620912190697,
          0.949257493696612,
          0.5398398887668614,
          0.18308434229014248,
          -0.13020468155715617,
          -0.4073027261749524,
          -0.6540152937488991,
          -0.8750132819341448,
          -1.0740851013412454,
          -1.254327573261094,
          -1.4182914884005553
         ]
        },
        {
         "line": {
          "color": "blue",
          "dash": "solid",
          "width": 2
         },
         "mode": "lines",
         "name": "T = -60°C",
         "type": "scatter",
         "uid": "5fbe9304-62bf-44d7-9a90-55a7a0d00b9f",
         "x": [
          5,
          6,
          7,
          8,
          9,
          10,
          11,
          12,
          13,
          14,
          15,
          16,
          17,
          18,
          19,
          20,
          21,
          22,
          23,
          24,
          25
         ],
         "y": [
          18.026527284593485,
          13.952586692731836,
          10.9554866515015,
          8.67618273748268,
          6.898807058552391,
          5.485230994541927,
          4.342592441307066,
          3.4059969696367154,
          2.6287202481674155,
          1.9763434751608837,
          1.4230620912190697,
          0.949257493696612,
          0.5398398887668614,
          0.18308434229014248,
          -0.13020468155715617,
          -0.4073027261749524,
          -0.6540152937488991,
          -0.8750132819341448,
          -1.0740851013412454,
          -1.254327573261094,
          -1.4182914884005553
         ]
        },
        {
         "line": {
          "color": "blue",
          "dash": "solid",
          "width": 2
         },
         "mode": "lines",
         "name": "T = -60°C",
         "type": "scatter",
         "uid": "b0eb011f-bd9e-47d6-980e-b391fcbf68fa",
         "x": [
          5,
          6,
          7,
          8,
          9,
          10,
          11,
          12,
          13,
          14,
          15,
          16,
          17,
          18,
          19,
          20,
          21,
          22,
          23,
          24,
          25
         ],
         "y": [
          18.026527284593485,
          13.952586692731836,
          10.9554866515015,
          8.67618273748268,
          6.898807058552391,
          5.485230994541927,
          4.342592441307066,
          3.4059969696367154,
          2.6287202481674155,
          1.9763434751608837,
          1.4230620912190697,
          0.949257493696612,
          0.5398398887668614,
          0.18308434229014248,
          -0.13020468155715617,
          -0.4073027261749524,
          -0.6540152937488991,
          -0.8750132819341448,
          -1.0740851013412454,
          -1.254327573261094,
          -1.4182914884005553
         ]
        },
        {
         "line": {
          "color": "blue",
          "dash": "solid",
          "width": 2
         },
         "mode": "lines",
         "name": "T = -60°C",
         "type": "scatter",
         "uid": "9893f204-f8ab-47e7-9798-975939acdd7d",
         "x": [
          5,
          6,
          7,
          8,
          9,
          10,
          11,
          12,
          13,
          14,
          15,
          16,
          17,
          18,
          19,
          20,
          21,
          22,
          23,
          24,
          25
         ],
         "y": [
          18.026527284593485,
          13.952586692731836,
          10.9554866515015,
          8.67618273748268,
          6.898807058552391,
          5.485230994541927,
          4.342592441307066,
          3.4059969696367154,
          2.6287202481674155,
          1.9763434751608837,
          1.4230620912190697,
          0.949257493696612,
          0.5398398887668614,
          0.18308434229014248,
          -0.13020468155715617,
          -0.4073027261749524,
          -0.6540152937488991,
          -0.8750132819341448,
          -1.0740851013412454,
          -1.254327573261094,
          -1.4182914884005553
         ]
        },
        {
         "line": {
          "color": "blue",
          "dash": "solid",
          "width": 2
         },
         "mode": "lines",
         "name": "T = -60°C",
         "type": "scatter",
         "uid": "36de5e05-fa63-41f4-b3fe-d710e71e44db",
         "x": [
          5,
          6,
          7,
          8,
          9,
          10,
          11,
          12,
          13,
          14,
          15,
          16,
          17,
          18,
          19,
          20,
          21,
          22,
          23,
          24,
          25
         ],
         "y": [
          18.026527284593485,
          13.952586692731836,
          10.9554866515015,
          8.67618273748268,
          6.898807058552391,
          5.485230994541927,
          4.342592441307066,
          3.4059969696367154,
          2.6287202481674155,
          1.9763434751608837,
          1.4230620912190697,
          0.949257493696612,
          0.5398398887668614,
          0.18308434229014248,
          -0.13020468155715617,
          -0.4073027261749524,
          -0.6540152937488991,
          -0.8750132819341448,
          -1.0740851013412454,
          -1.254327573261094,
          -1.4182914884005553
         ]
        },
        {
         "line": {
          "color": "blue",
          "dash": "solid",
          "width": 2
         },
         "mode": "lines",
         "name": "T = -60°C",
         "type": "scatter",
         "uid": "e5cda1a6-21c2-4ed4-a565-b8f3c8734ccc",
         "x": [
          5,
          6,
          7,
          8,
          9,
          10,
          11,
          12,
          13,
          14,
          15,
          16,
          17,
          18,
          19,
          20,
          21,
          22,
          23,
          24,
          25
         ],
         "y": [
          18.026527284593485,
          13.952586692731836,
          10.9554866515015,
          8.67618273748268,
          6.898807058552391,
          5.485230994541927,
          4.342592441307066,
          3.4059969696367154,
          2.6287202481674155,
          1.9763434751608837,
          1.4230620912190697,
          0.949257493696612,
          0.5398398887668614,
          0.18308434229014248,
          -0.13020468155715617,
          -0.4073027261749524,
          -0.6540152937488991,
          -0.8750132819341448,
          -1.0740851013412454,
          -1.254327573261094,
          -1.4182914884005553
         ]
        },
        {
         "line": {
          "color": "blue",
          "dash": "solid",
          "width": 2
         },
         "mode": "lines",
         "name": "T = -60°C",
         "type": "scatter",
         "uid": "cce47dcd-5f93-4d3b-96b8-fed67a6d736d",
         "x": [
          5,
          6,
          7,
          8,
          9,
          10,
          11,
          12,
          13,
          14,
          15,
          16,
          17,
          18,
          19,
          20,
          21,
          22,
          23,
          24,
          25
         ],
         "y": [
          18.026527284593485,
          13.952586692731836,
          10.9554866515015,
          8.67618273748268,
          6.898807058552391,
          5.485230994541927,
          4.342592441307066,
          3.4059969696367154,
          2.6287202481674155,
          1.9763434751608837,
          1.4230620912190697,
          0.949257493696612,
          0.5398398887668614,
          0.18308434229014248,
          -0.13020468155715617,
          -0.4073027261749524,
          -0.6540152937488991,
          -0.8750132819341448,
          -1.0740851013412454,
          -1.254327573261094,
          -1.4182914884005553
         ]
        },
        {
         "line": {
          "color": "blue",
          "dash": "solid",
          "width": 2
         },
         "mode": "lines",
         "name": "T = -60°C",
         "type": "scatter",
         "uid": "cc2163dd-98b3-4082-bfd5-1ec7c877f7f9",
         "x": [
          5,
          6,
          7,
          8,
          9,
          10,
          11,
          12,
          13,
          14,
          15,
          16,
          17,
          18,
          19,
          20,
          21,
          22,
          23,
          24,
          25
         ],
         "y": [
          18.026527284593485,
          13.952586692731836,
          10.9554866515015,
          8.67618273748268,
          6.898807058552391,
          5.485230994541927,
          4.342592441307066,
          3.4059969696367154,
          2.6287202481674155,
          1.9763434751608837,
          1.4230620912190697,
          0.949257493696612,
          0.5398398887668614,
          0.18308434229014248,
          -0.13020468155715617,
          -0.4073027261749524,
          -0.6540152937488991,
          -0.8750132819341448,
          -1.0740851013412454,
          -1.254327573261094,
          -1.4182914884005553
         ]
        },
        {
         "line": {
          "color": "blue",
          "dash": "solid",
          "width": 2
         },
         "mode": "lines",
         "name": "T = -60°C",
         "type": "scatter",
         "uid": "776d3ec0-2ddd-4cec-a31e-2f1735ef61e0",
         "x": [
          5,
          6,
          7,
          8,
          9,
          10,
          11,
          12,
          13,
          14,
          15,
          16,
          17,
          18,
          19,
          20,
          21,
          22,
          23,
          24,
          25
         ],
         "y": [
          18.026527284593485,
          13.952586692731836,
          10.9554866515015,
          8.67618273748268,
          6.898807058552391,
          5.485230994541927,
          4.342592441307066,
          3.4059969696367154,
          2.6287202481674155,
          1.9763434751608837,
          1.4230620912190697,
          0.949257493696612,
          0.5398398887668614,
          0.18308434229014248,
          -0.13020468155715617,
          -0.4073027261749524,
          -0.6540152937488991,
          -0.8750132819341448,
          -1.0740851013412454,
          -1.254327573261094,
          -1.4182914884005553
         ]
        },
        {
         "line": {
          "color": "blue",
          "dash": "solid",
          "width": 2
         },
         "mode": "lines",
         "name": "T = -60°C",
         "type": "scatter",
         "uid": "b293a9ed-49d9-44fc-982a-2371fcabe019",
         "x": [
          5,
          6,
          7,
          8,
          9,
          10,
          11,
          12,
          13,
          14,
          15,
          16,
          17,
          18,
          19,
          20,
          21,
          22,
          23,
          24,
          25
         ],
         "y": [
          18.026527284593485,
          13.952586692731836,
          10.9554866515015,
          8.67618273748268,
          6.898807058552391,
          5.485230994541927,
          4.342592441307066,
          3.4059969696367154,
          2.6287202481674155,
          1.9763434751608837,
          1.4230620912190697,
          0.949257493696612,
          0.5398398887668614,
          0.18308434229014248,
          -0.13020468155715617,
          -0.4073027261749524,
          -0.6540152937488991,
          -0.8750132819341448,
          -1.0740851013412454,
          -1.254327573261094,
          -1.4182914884005553
         ]
        },
        {
         "line": {
          "color": "blue",
          "dash": "solid",
          "width": 2
         },
         "mode": "lines",
         "name": "T = -60°C",
         "type": "scatter",
         "uid": "e105fd61-2270-416f-86fa-f574fa7e1707",
         "x": [
          5,
          6,
          7,
          8,
          9,
          10,
          11,
          12,
          13,
          14,
          15,
          16,
          17,
          18,
          19,
          20,
          21,
          22,
          23,
          24,
          25
         ],
         "y": [
          18.026527284593485,
          13.952586692731836,
          10.9554866515015,
          8.67618273748268,
          6.898807058552391,
          5.485230994541927,
          4.342592441307066,
          3.4059969696367154,
          2.6287202481674155,
          1.9763434751608837,
          1.4230620912190697,
          0.949257493696612,
          0.5398398887668614,
          0.18308434229014248,
          -0.13020468155715617,
          -0.4073027261749524,
          -0.6540152937488991,
          -0.8750132819341448,
          -1.0740851013412454,
          -1.254327573261094,
          -1.4182914884005553
         ]
        },
        {
         "line": {
          "color": "blue",
          "dash": "solid",
          "width": 2
         },
         "mode": "lines",
         "name": "T = -60°C",
         "type": "scatter",
         "uid": "2a671ca3-e123-4223-a894-30aed74c8aa1",
         "x": [
          5,
          6,
          7,
          8,
          9,
          10,
          11,
          12,
          13,
          14,
          15,
          16,
          17,
          18,
          19,
          20,
          21,
          22,
          23,
          24,
          25
         ],
         "y": [
          18.026527284593485,
          13.952586692731836,
          10.9554866515015,
          8.67618273748268,
          6.898807058552391,
          5.485230994541927,
          4.342592441307066,
          3.4059969696367154,
          2.6287202481674155,
          1.9763434751608837,
          1.4230620912190697,
          0.949257493696612,
          0.5398398887668614,
          0.18308434229014248,
          -0.13020468155715617,
          -0.4073027261749524,
          -0.6540152937488991,
          -0.8750132819341448,
          -1.0740851013412454,
          -1.254327573261094,
          -1.4182914884005553
         ]
        },
        {
         "line": {
          "color": "green",
          "dash": "solid",
          "width": 2
         },
         "mode": "lines",
         "name": "T = -40°C",
         "type": "scatter",
         "uid": "8e2840f6-d118-4a7a-9774-cfe3ef026306",
         "x": [
          5,
          6,
          7,
          8,
          9,
          10,
          11,
          12,
          13,
          14,
          15,
          16,
          17,
          18,
          19,
          20,
          21,
          22,
          23,
          24,
          25
         ],
         "y": [
          26.158199076458345,
          20.827172012735346,
          16.83744924751148,
          13.760676816588841,
          11.329883646227664,
          9.370268362188177,
          7.762753583784855,
          6.4236406411664015,
          5.29262366834653,
          4.32537879682762,
          3.488786995991606,
          2.757746923074679,
          2.112989754153867,
          1.5395487488670574,
          1.0256692223630062,
          0.5620214613598395,
          0.1411256510568086,
          -0.2430727788041161,
          -0.5955198544164735,
          -0.9202914871167638,
          -1.2207746109536946
         ]
        },
        {
         "line": {
          "color": "green",
          "dash": "solid",
          "width": 2
         },
         "mode": "lines",
         "name": "T = -40°C",
         "type": "scatter",
         "uid": "53e84577-de1e-447c-bb7b-b83623a0e001",
         "x": [
          5,
          6,
          7,
          8,
          9,
          10,
          11,
          12,
          13,
          14,
          15,
          16,
          17,
          18,
          19,
          20,
          21,
          22,
          23,
          24,
          25
         ],
         "y": [
          26.158199076458345,
          20.827172012735346,
          16.83744924751148,
          13.760676816588841,
          11.329883646227664,
          9.370268362188177,
          7.762753583784855,
          6.4236406411664015,
          5.29262366834653,
          4.32537879682762,
          3.488786995991606,
          2.757746923074679,
          2.112989754153867,
          1.5395487488670574,
          1.0256692223630062,
          0.5620214613598395,
          0.1411256510568086,
          -0.2430727788041161,
          -0.5955198544164735,
          -0.9202914871167638,
          -1.2207746109536946
         ]
        },
        {
         "line": {
          "color": "green",
          "dash": "solid",
          "width": 2
         },
         "mode": "lines",
         "name": "T = -40°C",
         "type": "scatter",
         "uid": "f2f380b2-4be7-4b36-85d9-28c4436efb88",
         "x": [
          5,
          6,
          7,
          8,
          9,
          10,
          11,
          12,
          13,
          14,
          15,
          16,
          17,
          18,
          19,
          20,
          21,
          22,
          23,
          24,
          25
         ],
         "y": [
          26.158199076458345,
          20.827172012735346,
          16.83744924751148,
          13.760676816588841,
          11.329883646227664,
          9.370268362188177,
          7.762753583784855,
          6.4236406411664015,
          5.29262366834653,
          4.32537879682762,
          3.488786995991606,
          2.757746923074679,
          2.112989754153867,
          1.5395487488670574,
          1.0256692223630062,
          0.5620214613598395,
          0.1411256510568086,
          -0.2430727788041161,
          -0.5955198544164735,
          -0.9202914871167638,
          -1.2207746109536946
         ]
        },
        {
         "line": {
          "color": "green",
          "dash": "solid",
          "width": 2
         },
         "mode": "lines",
         "name": "T = -40°C",
         "type": "scatter",
         "uid": "4d3b815b-44c4-4b58-841d-2a6f1c60149c",
         "x": [
          5,
          6,
          7,
          8,
          9,
          10,
          11,
          12,
          13,
          14,
          15,
          16,
          17,
          18,
          19,
          20,
          21,
          22,
          23,
          24,
          25
         ],
         "y": [
          26.158199076458345,
          20.827172012735346,
          16.83744924751148,
          13.760676816588841,
          11.329883646227664,
          9.370268362188177,
          7.762753583784855,
          6.4236406411664015,
          5.29262366834653,
          4.32537879682762,
          3.488786995991606,
          2.757746923074679,
          2.112989754153867,
          1.5395487488670574,
          1.0256692223630062,
          0.5620214613598395,
          0.1411256510568086,
          -0.2430727788041161,
          -0.5955198544164735,
          -0.9202914871167638,
          -1.2207746109536946
         ]
        },
        {
         "line": {
          "color": "green",
          "dash": "solid",
          "width": 2
         },
         "mode": "lines",
         "name": "T = -40°C",
         "type": "scatter",
         "uid": "962459ab-fd25-4f71-befa-1f8adb465edb",
         "x": [
          5,
          6,
          7,
          8,
          9,
          10,
          11,
          12,
          13,
          14,
          15,
          16,
          17,
          18,
          19,
          20,
          21,
          22,
          23,
          24,
          25
         ],
         "y": [
          26.158199076458345,
          20.827172012735346,
          16.83744924751148,
          13.760676816588841,
          11.329883646227664,
          9.370268362188177,
          7.762753583784855,
          6.4236406411664015,
          5.29262366834653,
          4.32537879682762,
          3.488786995991606,
          2.757746923074679,
          2.112989754153867,
          1.5395487488670574,
          1.0256692223630062,
          0.5620214613598395,
          0.1411256510568086,
          -0.2430727788041161,
          -0.5955198544164735,
          -0.9202914871167638,
          -1.2207746109536946
         ]
        },
        {
         "line": {
          "color": "green",
          "dash": "solid",
          "width": 2
         },
         "mode": "lines",
         "name": "T = -40°C",
         "type": "scatter",
         "uid": "65f435da-f70e-4c09-bd85-3e62665a690b",
         "x": [
          5,
          6,
          7,
          8,
          9,
          10,
          11,
          12,
          13,
          14,
          15,
          16,
          17,
          18,
          19,
          20,
          21,
          22,
          23,
          24,
          25
         ],
         "y": [
          26.158199076458345,
          20.827172012735346,
          16.83744924751148,
          13.760676816588841,
          11.329883646227664,
          9.370268362188177,
          7.762753583784855,
          6.4236406411664015,
          5.29262366834653,
          4.32537879682762,
          3.488786995991606,
          2.757746923074679,
          2.112989754153867,
          1.5395487488670574,
          1.0256692223630062,
          0.5620214613598395,
          0.1411256510568086,
          -0.2430727788041161,
          -0.5955198544164735,
          -0.9202914871167638,
          -1.2207746109536946
         ]
        },
        {
         "line": {
          "color": "green",
          "dash": "solid",
          "width": 2
         },
         "mode": "lines",
         "name": "T = -40°C",
         "type": "scatter",
         "uid": "c26c0794-5fa0-4af5-be4d-f0fbee6c011d",
         "x": [
          5,
          6,
          7,
          8,
          9,
          10,
          11,
          12,
          13,
          14,
          15,
          16,
          17,
          18,
          19,
          20,
          21,
          22,
          23,
          24,
          25
         ],
         "y": [
          26.158199076458345,
          20.827172012735346,
          16.83744924751148,
          13.760676816588841,
          11.329883646227664,
          9.370268362188177,
          7.762753583784855,
          6.4236406411664015,
          5.29262366834653,
          4.32537879682762,
          3.488786995991606,
          2.757746923074679,
          2.112989754153867,
          1.5395487488670574,
          1.0256692223630062,
          0.5620214613598395,
          0.1411256510568086,
          -0.2430727788041161,
          -0.5955198544164735,
          -0.9202914871167638,
          -1.2207746109536946
         ]
        },
        {
         "line": {
          "color": "green",
          "dash": "solid",
          "width": 2
         },
         "mode": "lines",
         "name": "T = -40°C",
         "type": "scatter",
         "uid": "453b34e7-f420-47bd-9a95-fac844a30664",
         "x": [
          5,
          6,
          7,
          8,
          9,
          10,
          11,
          12,
          13,
          14,
          15,
          16,
          17,
          18,
          19,
          20,
          21,
          22,
          23,
          24,
          25
         ],
         "y": [
          26.158199076458345,
          20.827172012735346,
          16.83744924751148,
          13.760676816588841,
          11.329883646227664,
          9.370268362188177,
          7.762753583784855,
          6.4236406411664015,
          5.29262366834653,
          4.32537879682762,
          3.488786995991606,
          2.757746923074679,
          2.112989754153867,
          1.5395487488670574,
          1.0256692223630062,
          0.5620214613598395,
          0.1411256510568086,
          -0.2430727788041161,
          -0.5955198544164735,
          -0.9202914871167638,
          -1.2207746109536946
         ]
        },
        {
         "line": {
          "color": "green",
          "dash": "solid",
          "width": 2
         },
         "mode": "lines",
         "name": "T = -40°C",
         "type": "scatter",
         "uid": "1904c714-63cf-4e56-8fe6-73c55f4fd3e2",
         "x": [
          5,
          6,
          7,
          8,
          9,
          10,
          11,
          12,
          13,
          14,
          15,
          16,
          17,
          18,
          19,
          20,
          21,
          22,
          23,
          24,
          25
         ],
         "y": [
          26.158199076458345,
          20.827172012735346,
          16.83744924751148,
          13.760676816588841,
          11.329883646227664,
          9.370268362188177,
          7.762753583784855,
          6.4236406411664015,
          5.29262366834653,
          4.32537879682762,
          3.488786995991606,
          2.757746923074679,
          2.112989754153867,
          1.5395487488670574,
          1.0256692223630062,
          0.5620214613598395,
          0.1411256510568086,
          -0.2430727788041161,
          -0.5955198544164735,
          -0.9202914871167638,
          -1.2207746109536946
         ]
        },
        {
         "line": {
          "color": "green",
          "dash": "solid",
          "width": 2
         },
         "mode": "lines",
         "name": "T = -40°C",
         "type": "scatter",
         "uid": "e9aa89f9-5d1e-43e5-869f-703f8b48a656",
         "x": [
          5,
          6,
          7,
          8,
          9,
          10,
          11,
          12,
          13,
          14,
          15,
          16,
          17,
          18,
          19,
          20,
          21,
          22,
          23,
          24,
          25
         ],
         "y": [
          26.158199076458345,
          20.827172012735346,
          16.83744924751148,
          13.760676816588841,
          11.329883646227664,
          9.370268362188177,
          7.762753583784855,
          6.4236406411664015,
          5.29262366834653,
          4.32537879682762,
          3.488786995991606,
          2.757746923074679,
          2.112989754153867,
          1.5395487488670574,
          1.0256692223630062,
          0.5620214613598395,
          0.1411256510568086,
          -0.2430727788041161,
          -0.5955198544164735,
          -0.9202914871167638,
          -1.2207746109536946
         ]
        },
        {
         "line": {
          "color": "green",
          "dash": "solid",
          "width": 2
         },
         "mode": "lines",
         "name": "T = -40°C",
         "type": "scatter",
         "uid": "b34a643b-d75b-4ed4-8ed8-1905fea2e83e",
         "x": [
          5,
          6,
          7,
          8,
          9,
          10,
          11,
          12,
          13,
          14,
          15,
          16,
          17,
          18,
          19,
          20,
          21,
          22,
          23,
          24,
          25
         ],
         "y": [
          26.158199076458345,
          20.827172012735346,
          16.83744924751148,
          13.760676816588841,
          11.329883646227664,
          9.370268362188177,
          7.762753583784855,
          6.4236406411664015,
          5.29262366834653,
          4.32537879682762,
          3.488786995991606,
          2.757746923074679,
          2.112989754153867,
          1.5395487488670574,
          1.0256692223630062,
          0.5620214613598395,
          0.1411256510568086,
          -0.2430727788041161,
          -0.5955198544164735,
          -0.9202914871167638,
          -1.2207746109536946
         ]
        },
        {
         "line": {
          "color": "green",
          "dash": "solid",
          "width": 2
         },
         "mode": "lines",
         "name": "T = -40°C",
         "type": "scatter",
         "uid": "f76c5f27-5c8f-41ff-ad10-6682d6e5930c",
         "x": [
          5,
          6,
          7,
          8,
          9,
          10,
          11,
          12,
          13,
          14,
          15,
          16,
          17,
          18,
          19,
          20,
          21,
          22,
          23,
          24,
          25
         ],
         "y": [
          26.158199076458345,
          20.827172012735346,
          16.83744924751148,
          13.760676816588841,
          11.329883646227664,
          9.370268362188177,
          7.762753583784855,
          6.4236406411664015,
          5.29262366834653,
          4.32537879682762,
          3.488786995991606,
          2.757746923074679,
          2.112989754153867,
          1.5395487488670574,
          1.0256692223630062,
          0.5620214613598395,
          0.1411256510568086,
          -0.2430727788041161,
          -0.5955198544164735,
          -0.9202914871167638,
          -1.2207746109536946
         ]
        },
        {
         "line": {
          "color": "green",
          "dash": "solid",
          "width": 2
         },
         "mode": "lines",
         "name": "T = -40°C",
         "type": "scatter",
         "uid": "062546b6-6d2c-4ebc-9653-2896d157429d",
         "x": [
          5,
          6,
          7,
          8,
          9,
          10,
          11,
          12,
          13,
          14,
          15,
          16,
          17,
          18,
          19,
          20,
          21,
          22,
          23,
          24,
          25
         ],
         "y": [
          26.158199076458345,
          20.827172012735346,
          16.83744924751148,
          13.760676816588841,
          11.329883646227664,
          9.370268362188177,
          7.762753583784855,
          6.4236406411664015,
          5.29262366834653,
          4.32537879682762,
          3.488786995991606,
          2.757746923074679,
          2.112989754153867,
          1.5395487488670574,
          1.0256692223630062,
          0.5620214613598395,
          0.1411256510568086,
          -0.2430727788041161,
          -0.5955198544164735,
          -0.9202914871167638,
          -1.2207746109536946
         ]
        },
        {
         "line": {
          "color": "green",
          "dash": "solid",
          "width": 2
         },
         "mode": "lines",
         "name": "T = -40°C",
         "type": "scatter",
         "uid": "0a4dd6f2-a55a-494e-85a9-fb7579d49466",
         "x": [
          5,
          6,
          7,
          8,
          9,
          10,
          11,
          12,
          13,
          14,
          15,
          16,
          17,
          18,
          19,
          20,
          21,
          22,
          23,
          24,
          25
         ],
         "y": [
          26.158199076458345,
          20.827172012735346,
          16.83744924751148,
          13.760676816588841,
          11.329883646227664,
          9.370268362188177,
          7.762753583784855,
          6.4236406411664015,
          5.29262366834653,
          4.32537879682762,
          3.488786995991606,
          2.757746923074679,
          2.112989754153867,
          1.5395487488670574,
          1.0256692223630062,
          0.5620214613598395,
          0.1411256510568086,
          -0.2430727788041161,
          -0.5955198544164735,
          -0.9202914871167638,
          -1.2207746109536946
         ]
        },
        {
         "line": {
          "color": "green",
          "dash": "solid",
          "width": 2
         },
         "mode": "lines",
         "name": "T = -40°C",
         "type": "scatter",
         "uid": "87b1747b-7d9f-4940-ac89-4c9c9b2bbcb1",
         "x": [
          5,
          6,
          7,
          8,
          9,
          10,
          11,
          12,
          13,
          14,
          15,
          16,
          17,
          18,
          19,
          20,
          21,
          22,
          23,
          24,
          25
         ],
         "y": [
          26.158199076458345,
          20.827172012735346,
          16.83744924751148,
          13.760676816588841,
          11.329883646227664,
          9.370268362188177,
          7.762753583784855,
          6.4236406411664015,
          5.29262366834653,
          4.32537879682762,
          3.488786995991606,
          2.757746923074679,
          2.112989754153867,
          1.5395487488670574,
          1.0256692223630062,
          0.5620214613598395,
          0.1411256510568086,
          -0.2430727788041161,
          -0.5955198544164735,
          -0.9202914871167638,
          -1.2207746109536946
         ]
        },
        {
         "line": {
          "color": "green",
          "dash": "solid",
          "width": 2
         },
         "mode": "lines",
         "name": "T = -40°C",
         "type": "scatter",
         "uid": "37d7394d-7701-4a62-88e9-497415b01482",
         "x": [
          5,
          6,
          7,
          8,
          9,
          10,
          11,
          12,
          13,
          14,
          15,
          16,
          17,
          18,
          19,
          20,
          21,
          22,
          23,
          24,
          25
         ],
         "y": [
          26.158199076458345,
          20.827172012735346,
          16.83744924751148,
          13.760676816588841,
          11.329883646227664,
          9.370268362188177,
          7.762753583784855,
          6.4236406411664015,
          5.29262366834653,
          4.32537879682762,
          3.488786995991606,
          2.757746923074679,
          2.112989754153867,
          1.5395487488670574,
          1.0256692223630062,
          0.5620214613598395,
          0.1411256510568086,
          -0.2430727788041161,
          -0.5955198544164735,
          -0.9202914871167638,
          -1.2207746109536946
         ]
        },
        {
         "line": {
          "color": "green",
          "dash": "solid",
          "width": 2
         },
         "mode": "lines",
         "name": "T = -40°C",
         "type": "scatter",
         "uid": "dbc9ef15-0f34-41b3-8870-0b486a437391",
         "x": [
          5,
          6,
          7,
          8,
          9,
          10,
          11,
          12,
          13,
          14,
          15,
          16,
          17,
          18,
          19,
          20,
          21,
          22,
          23,
          24,
          25
         ],
         "y": [
          26.158199076458345,
          20.827172012735346,
          16.83744924751148,
          13.760676816588841,
          11.329883646227664,
          9.370268362188177,
          7.762753583784855,
          6.4236406411664015,
          5.29262366834653,
          4.32537879682762,
          3.488786995991606,
          2.757746923074679,
          2.112989754153867,
          1.5395487488670574,
          1.0256692223630062,
          0.5620214613598395,
          0.1411256510568086,
          -0.2430727788041161,
          -0.5955198544164735,
          -0.9202914871167638,
          -1.2207746109536946
         ]
        },
        {
         "line": {
          "color": "green",
          "dash": "solid",
          "width": 2
         },
         "mode": "lines",
         "name": "T = -40°C",
         "type": "scatter",
         "uid": "2816b1ec-ad25-401c-9e40-7370b081be38",
         "x": [
          5,
          6,
          7,
          8,
          9,
          10,
          11,
          12,
          13,
          14,
          15,
          16,
          17,
          18,
          19,
          20,
          21,
          22,
          23,
          24,
          25
         ],
         "y": [
          26.158199076458345,
          20.827172012735346,
          16.83744924751148,
          13.760676816588841,
          11.329883646227664,
          9.370268362188177,
          7.762753583784855,
          6.4236406411664015,
          5.29262366834653,
          4.32537879682762,
          3.488786995991606,
          2.757746923074679,
          2.112989754153867,
          1.5395487488670574,
          1.0256692223630062,
          0.5620214613598395,
          0.1411256510568086,
          -0.2430727788041161,
          -0.5955198544164735,
          -0.9202914871167638,
          -1.2207746109536946
         ]
        },
        {
         "line": {
          "color": "green",
          "dash": "solid",
          "width": 2
         },
         "mode": "lines",
         "name": "T = -40°C",
         "type": "scatter",
         "uid": "9945d473-0b62-48ac-b435-4a2a9e8e5c37",
         "x": [
          5,
          6,
          7,
          8,
          9,
          10,
          11,
          12,
          13,
          14,
          15,
          16,
          17,
          18,
          19,
          20,
          21,
          22,
          23,
          24,
          25
         ],
         "y": [
          26.158199076458345,
          20.827172012735346,
          16.83744924751148,
          13.760676816588841,
          11.329883646227664,
          9.370268362188177,
          7.762753583784855,
          6.4236406411664015,
          5.29262366834653,
          4.32537879682762,
          3.488786995991606,
          2.757746923074679,
          2.112989754153867,
          1.5395487488670574,
          1.0256692223630062,
          0.5620214613598395,
          0.1411256510568086,
          -0.2430727788041161,
          -0.5955198544164735,
          -0.9202914871167638,
          -1.2207746109536946
         ]
        },
        {
         "line": {
          "color": "green",
          "dash": "solid",
          "width": 2
         },
         "mode": "lines",
         "name": "T = -40°C",
         "type": "scatter",
         "uid": "8b535083-fed3-4208-be97-a1de1751fd53",
         "x": [
          5,
          6,
          7,
          8,
          9,
          10,
          11,
          12,
          13,
          14,
          15,
          16,
          17,
          18,
          19,
          20,
          21,
          22,
          23,
          24,
          25
         ],
         "y": [
          26.158199076458345,
          20.827172012735346,
          16.83744924751148,
          13.760676816588841,
          11.329883646227664,
          9.370268362188177,
          7.762753583784855,
          6.4236406411664015,
          5.29262366834653,
          4.32537879682762,
          3.488786995991606,
          2.757746923074679,
          2.112989754153867,
          1.5395487488670574,
          1.0256692223630062,
          0.5620214613598395,
          0.1411256510568086,
          -0.2430727788041161,
          -0.5955198544164735,
          -0.9202914871167638,
          -1.2207746109536946
         ]
        },
        {
         "line": {
          "color": "green",
          "dash": "solid",
          "width": 2
         },
         "mode": "lines",
         "name": "T = -40°C",
         "type": "scatter",
         "uid": "cfc5ccbc-5bdf-4150-bd95-ed883de52f70",
         "x": [
          5,
          6,
          7,
          8,
          9,
          10,
          11,
          12,
          13,
          14,
          15,
          16,
          17,
          18,
          19,
          20,
          21,
          22,
          23,
          24,
          25
         ],
         "y": [
          26.158199076458345,
          20.827172012735346,
          16.83744924751148,
          13.760676816588841,
          11.329883646227664,
          9.370268362188177,
          7.762753583784855,
          6.4236406411664015,
          5.29262366834653,
          4.32537879682762,
          3.488786995991606,
          2.757746923074679,
          2.112989754153867,
          1.5395487488670574,
          1.0256692223630062,
          0.5620214613598395,
          0.1411256510568086,
          -0.2430727788041161,
          -0.5955198544164735,
          -0.9202914871167638,
          -1.2207746109536946
         ]
        }
       ],
       "layout": {
        "annotations": [
         {
          "font": {
           "size": 18
          },
          "showarrow": false,
          "text": "$\\LARGE{m}$",
          "x": 0.5,
          "xref": "paper",
          "y": -0.2,
          "yref": "paper"
         },
         {
          "font": {
           "size": 18
          },
          "showarrow": false,
          "text": "$\\LARGE{ \\Delta \\sigma_\\mathrm{w} (\\%)}$",
          "textangle": -90,
          "x": -0.2,
          "xref": "paper",
          "y": 0.5,
          "yref": "paper"
         },
         {
          "font": {
           "size": 18
          },
          "showarrow": false,
          "text": "",
          "x": 0.41,
          "xref": "paper",
          "y": 1.1,
          "yref": "paper"
         }
        ],
        "height": 420,
        "legend": {
         "x": 0.6,
         "y": 0.5
        },
        "margin": {
         "b": 80,
         "l": 80,
         "r": 20,
         "t": 40
        },
        "showlegend": false,
        "template": {
         "data": {
          "bar": [
           {
            "error_x": {
             "color": "#2a3f5f"
            },
            "error_y": {
             "color": "#2a3f5f"
            },
            "marker": {
             "line": {
              "color": "#E5ECF6",
              "width": 0.5
             }
            },
            "type": "bar"
           }
          ],
          "barpolar": [
           {
            "marker": {
             "line": {
              "color": "#E5ECF6",
              "width": 0.5
             }
            },
            "type": "barpolar"
           }
          ],
          "carpet": [
           {
            "aaxis": {
             "endlinecolor": "#2a3f5f",
             "gridcolor": "white",
             "linecolor": "white",
             "minorgridcolor": "white",
             "startlinecolor": "#2a3f5f"
            },
            "baxis": {
             "endlinecolor": "#2a3f5f",
             "gridcolor": "white",
             "linecolor": "white",
             "minorgridcolor": "white",
             "startlinecolor": "#2a3f5f"
            },
            "type": "carpet"
           }
          ],
          "choropleth": [
           {
            "colorbar": {
             "outlinewidth": 0,
             "ticks": ""
            },
            "type": "choropleth"
           }
          ],
          "contour": [
           {
            "colorbar": {
             "outlinewidth": 0,
             "ticks": ""
            },
            "colorscale": [
             [
              0,
              "#0d0887"
             ],
             [
              0.1111111111111111,
              "#46039f"
             ],
             [
              0.2222222222222222,
              "#7201a8"
             ],
             [
              0.3333333333333333,
              "#9c179e"
             ],
             [
              0.4444444444444444,
              "#bd3786"
             ],
             [
              0.5555555555555556,
              "#d8576b"
             ],
             [
              0.6666666666666666,
              "#ed7953"
             ],
             [
              0.7777777777777778,
              "#fb9f3a"
             ],
             [
              0.8888888888888888,
              "#fdca26"
             ],
             [
              1,
              "#f0f921"
             ]
            ],
            "type": "contour"
           }
          ],
          "contourcarpet": [
           {
            "colorbar": {
             "outlinewidth": 0,
             "ticks": ""
            },
            "type": "contourcarpet"
           }
          ],
          "heatmap": [
           {
            "colorbar": {
             "outlinewidth": 0,
             "ticks": ""
            },
            "colorscale": [
             [
              0,
              "#0d0887"
             ],
             [
              0.1111111111111111,
              "#46039f"
             ],
             [
              0.2222222222222222,
              "#7201a8"
             ],
             [
              0.3333333333333333,
              "#9c179e"
             ],
             [
              0.4444444444444444,
              "#bd3786"
             ],
             [
              0.5555555555555556,
              "#d8576b"
             ],
             [
              0.6666666666666666,
              "#ed7953"
             ],
             [
              0.7777777777777778,
              "#fb9f3a"
             ],
             [
              0.8888888888888888,
              "#fdca26"
             ],
             [
              1,
              "#f0f921"
             ]
            ],
            "type": "heatmap"
           }
          ],
          "heatmapgl": [
           {
            "colorbar": {
             "outlinewidth": 0,
             "ticks": ""
            },
            "colorscale": [
             [
              0,
              "#0d0887"
             ],
             [
              0.1111111111111111,
              "#46039f"
             ],
             [
              0.2222222222222222,
              "#7201a8"
             ],
             [
              0.3333333333333333,
              "#9c179e"
             ],
             [
              0.4444444444444444,
              "#bd3786"
             ],
             [
              0.5555555555555556,
              "#d8576b"
             ],
             [
              0.6666666666666666,
              "#ed7953"
             ],
             [
              0.7777777777777778,
              "#fb9f3a"
             ],
             [
              0.8888888888888888,
              "#fdca26"
             ],
             [
              1,
              "#f0f921"
             ]
            ],
            "type": "heatmapgl"
           }
          ],
          "histogram": [
           {
            "marker": {
             "colorbar": {
              "outlinewidth": 0,
              "ticks": ""
             }
            },
            "type": "histogram"
           }
          ],
          "histogram2d": [
           {
            "colorbar": {
             "outlinewidth": 0,
             "ticks": ""
            },
            "colorscale": [
             [
              0,
              "#0d0887"
             ],
             [
              0.1111111111111111,
              "#46039f"
             ],
             [
              0.2222222222222222,
              "#7201a8"
             ],
             [
              0.3333333333333333,
              "#9c179e"
             ],
             [
              0.4444444444444444,
              "#bd3786"
             ],
             [
              0.5555555555555556,
              "#d8576b"
             ],
             [
              0.6666666666666666,
              "#ed7953"
             ],
             [
              0.7777777777777778,
              "#fb9f3a"
             ],
             [
              0.8888888888888888,
              "#fdca26"
             ],
             [
              1,
              "#f0f921"
             ]
            ],
            "type": "histogram2d"
           }
          ],
          "histogram2dcontour": [
           {
            "colorbar": {
             "outlinewidth": 0,
             "ticks": ""
            },
            "colorscale": [
             [
              0,
              "#0d0887"
             ],
             [
              0.1111111111111111,
              "#46039f"
             ],
             [
              0.2222222222222222,
              "#7201a8"
             ],
             [
              0.3333333333333333,
              "#9c179e"
             ],
             [
              0.4444444444444444,
              "#bd3786"
             ],
             [
              0.5555555555555556,
              "#d8576b"
             ],
             [
              0.6666666666666666,
              "#ed7953"
             ],
             [
              0.7777777777777778,
              "#fb9f3a"
             ],
             [
              0.8888888888888888,
              "#fdca26"
             ],
             [
              1,
              "#f0f921"
             ]
            ],
            "type": "histogram2dcontour"
           }
          ],
          "mesh3d": [
           {
            "colorbar": {
             "outlinewidth": 0,
             "ticks": ""
            },
            "type": "mesh3d"
           }
          ],
          "parcoords": [
           {
            "line": {
             "colorbar": {
              "outlinewidth": 0,
              "ticks": ""
             }
            },
            "type": "parcoords"
           }
          ],
          "pie": [
           {
            "automargin": true,
            "type": "pie"
           }
          ],
          "scatter": [
           {
            "marker": {
             "colorbar": {
              "outlinewidth": 0,
              "ticks": ""
             }
            },
            "type": "scatter"
           }
          ],
          "scatter3d": [
           {
            "line": {
             "colorbar": {
              "outlinewidth": 0,
              "ticks": ""
             }
            },
            "marker": {
             "colorbar": {
              "outlinewidth": 0,
              "ticks": ""
             }
            },
            "type": "scatter3d"
           }
          ],
          "scattercarpet": [
           {
            "marker": {
             "colorbar": {
              "outlinewidth": 0,
              "ticks": ""
             }
            },
            "type": "scattercarpet"
           }
          ],
          "scattergeo": [
           {
            "marker": {
             "colorbar": {
              "outlinewidth": 0,
              "ticks": ""
             }
            },
            "type": "scattergeo"
           }
          ],
          "scattergl": [
           {
            "marker": {
             "colorbar": {
              "outlinewidth": 0,
              "ticks": ""
             }
            },
            "type": "scattergl"
           }
          ],
          "scattermapbox": [
           {
            "marker": {
             "colorbar": {
              "outlinewidth": 0,
              "ticks": ""
             }
            },
            "type": "scattermapbox"
           }
          ],
          "scatterpolar": [
           {
            "marker": {
             "colorbar": {
              "outlinewidth": 0,
              "ticks": ""
             }
            },
            "type": "scatterpolar"
           }
          ],
          "scatterpolargl": [
           {
            "marker": {
             "colorbar": {
              "outlinewidth": 0,
              "ticks": ""
             }
            },
            "type": "scatterpolargl"
           }
          ],
          "scatterternary": [
           {
            "marker": {
             "colorbar": {
              "outlinewidth": 0,
              "ticks": ""
             }
            },
            "type": "scatterternary"
           }
          ],
          "surface": [
           {
            "colorbar": {
             "outlinewidth": 0,
             "ticks": ""
            },
            "colorscale": [
             [
              0,
              "#0d0887"
             ],
             [
              0.1111111111111111,
              "#46039f"
             ],
             [
              0.2222222222222222,
              "#7201a8"
             ],
             [
              0.3333333333333333,
              "#9c179e"
             ],
             [
              0.4444444444444444,
              "#bd3786"
             ],
             [
              0.5555555555555556,
              "#d8576b"
             ],
             [
              0.6666666666666666,
              "#ed7953"
             ],
             [
              0.7777777777777778,
              "#fb9f3a"
             ],
             [
              0.8888888888888888,
              "#fdca26"
             ],
             [
              1,
              "#f0f921"
             ]
            ],
            "type": "surface"
           }
          ],
          "table": [
           {
            "cells": {
             "fill": {
              "color": "#EBF0F8"
             },
             "line": {
              "color": "white"
             }
            },
            "header": {
             "fill": {
              "color": "#C8D4E3"
             },
             "line": {
              "color": "white"
             }
            },
            "type": "table"
           }
          ]
         },
         "layout": {
          "annotationdefaults": {
           "arrowcolor": "#2a3f5f",
           "arrowhead": 0,
           "arrowwidth": 1
          },
          "autotypenumbers": "strict",
          "coloraxis": {
           "colorbar": {
            "outlinewidth": 0,
            "ticks": ""
           }
          },
          "colorscale": {
           "diverging": [
            [
             0,
             "#8e0152"
            ],
            [
             0.1,
             "#c51b7d"
            ],
            [
             0.2,
             "#de77ae"
            ],
            [
             0.3,
             "#f1b6da"
            ],
            [
             0.4,
             "#fde0ef"
            ],
            [
             0.5,
             "#f7f7f7"
            ],
            [
             0.6,
             "#e6f5d0"
            ],
            [
             0.7,
             "#b8e186"
            ],
            [
             0.8,
             "#7fbc41"
            ],
            [
             0.9,
             "#4d9221"
            ],
            [
             1,
             "#276419"
            ]
           ],
           "sequential": [
            [
             0,
             "#0d0887"
            ],
            [
             0.1111111111111111,
             "#46039f"
            ],
            [
             0.2222222222222222,
             "#7201a8"
            ],
            [
             0.3333333333333333,
             "#9c179e"
            ],
            [
             0.4444444444444444,
             "#bd3786"
            ],
            [
             0.5555555555555556,
             "#d8576b"
            ],
            [
             0.6666666666666666,
             "#ed7953"
            ],
            [
             0.7777777777777778,
             "#fb9f3a"
            ],
            [
             0.8888888888888888,
             "#fdca26"
            ],
            [
             1,
             "#f0f921"
            ]
           ],
           "sequentialminus": [
            [
             0,
             "#0d0887"
            ],
            [
             0.1111111111111111,
             "#46039f"
            ],
            [
             0.2222222222222222,
             "#7201a8"
            ],
            [
             0.3333333333333333,
             "#9c179e"
            ],
            [
             0.4444444444444444,
             "#bd3786"
            ],
            [
             0.5555555555555556,
             "#d8576b"
            ],
            [
             0.6666666666666666,
             "#ed7953"
            ],
            [
             0.7777777777777778,
             "#fb9f3a"
            ],
            [
             0.8888888888888888,
             "#fdca26"
            ],
            [
             1,
             "#f0f921"
            ]
           ]
          },
          "colorway": [
           "#636efa",
           "#EF553B",
           "#00cc96",
           "#ab63fa",
           "#FFA15A",
           "#19d3f3",
           "#FF6692",
           "#B6E880",
           "#FF97FF",
           "#FECB52"
          ],
          "font": {
           "color": "#2a3f5f"
          },
          "geo": {
           "bgcolor": "white",
           "lakecolor": "white",
           "landcolor": "#E5ECF6",
           "showlakes": true,
           "showland": true,
           "subunitcolor": "white"
          },
          "hoverlabel": {
           "align": "left"
          },
          "hovermode": "closest",
          "mapbox": {
           "style": "light"
          },
          "paper_bgcolor": "white",
          "plot_bgcolor": "#E5ECF6",
          "polar": {
           "angularaxis": {
            "gridcolor": "white",
            "linecolor": "white",
            "ticks": ""
           },
           "bgcolor": "#E5ECF6",
           "radialaxis": {
            "gridcolor": "white",
            "linecolor": "white",
            "ticks": ""
           }
          },
          "scene": {
           "xaxis": {
            "backgroundcolor": "#E5ECF6",
            "gridcolor": "white",
            "gridwidth": 2,
            "linecolor": "white",
            "showbackground": true,
            "ticks": "",
            "zerolinecolor": "white"
           },
           "yaxis": {
            "backgroundcolor": "#E5ECF6",
            "gridcolor": "white",
            "gridwidth": 2,
            "linecolor": "white",
            "showbackground": true,
            "ticks": "",
            "zerolinecolor": "white"
           },
           "zaxis": {
            "backgroundcolor": "#E5ECF6",
            "gridcolor": "white",
            "gridwidth": 2,
            "linecolor": "white",
            "showbackground": true,
            "ticks": "",
            "zerolinecolor": "white"
           }
          },
          "shapedefaults": {
           "line": {
            "color": "#2a3f5f"
           }
          },
          "ternary": {
           "aaxis": {
            "gridcolor": "white",
            "linecolor": "white",
            "ticks": ""
           },
           "baxis": {
            "gridcolor": "white",
            "linecolor": "white",
            "ticks": ""
           },
           "bgcolor": "#E5ECF6",
           "caxis": {
            "gridcolor": "white",
            "linecolor": "white",
            "ticks": ""
           }
          },
          "title": {
           "x": 0.05
          },
          "xaxis": {
           "automargin": true,
           "gridcolor": "white",
           "linecolor": "white",
           "ticks": "",
           "title": {
            "standoff": 15
           },
           "zerolinecolor": "white",
           "zerolinewidth": 2
          },
          "yaxis": {
           "automargin": true,
           "gridcolor": "white",
           "linecolor": "white",
           "ticks": "",
           "title": {
            "standoff": 15
           },
           "zerolinecolor": "white",
           "zerolinewidth": 2
          }
         }
        },
        "width": 450,
        "xaxis": {
         "mirror": "all",
         "range": [
          5,
          25
         ],
         "showline": true,
         "title": {
          "font": {
           "size": 13
          }
         },
         "zeroline": false
        },
        "yaxis": {
         "mirror": "all",
         "showline": true,
         "title": {
          "font": {
           "size": 13
          }
         },
         "zeroline": false
        }
       }
      },
      "text/html": [
       "<div>                            <div id=\"56b4eeb0-6363-470c-b742-c2fc04d878d5\" class=\"plotly-graph-div\" style=\"height:420px; width:450px;\"></div>            <script type=\"text/javascript\">                require([\"plotly\"], function(Plotly) {                    window.PLOTLYENV=window.PLOTLYENV || {};                                    if (document.getElementById(\"56b4eeb0-6363-470c-b742-c2fc04d878d5\")) {                    Plotly.newPlot(                        \"56b4eeb0-6363-470c-b742-c2fc04d878d5\",                        [{\"line\": {\"color\": \"black\", \"dash\": \"solid\", \"width\": 2}, \"mode\": \"lines\", \"name\": \"T = -91\\u00b0C\", \"type\": \"scatter\", \"uid\": \"866f6e63-f0ff-475f-9221-dcaece93edc8\", \"x\": [5, 6, 7, 8, 9, 10, 11, 12, 13, 14, 15, 16, 17, 18, 19, 20, 21, 22, 23, 24, 25], \"y\": [0.0, 0.0, 0.0, 0.0, 0.0, 0.0, 0.0, 0.0, 0.0, 0.0, 0.0, 0.0, 0.0, 0.0, 0.0, 0.0, 0.0, 0.0, 0.0, 0.0, 0.0]}, {\"line\": {\"color\": \"black\", \"dash\": \"solid\", \"width\": 2}, \"mode\": \"lines\", \"name\": \"T = -91\\u00b0C\", \"type\": \"scatter\", \"uid\": \"25886803-79c6-4178-b277-bf09e887ecd6\", \"x\": [5, 6, 7, 8, 9, 10, 11, 12, 13, 14, 15, 16, 17, 18, 19, 20, 21, 22, 23, 24, 25], \"y\": [0.0, 0.0, 0.0, 0.0, 0.0, 0.0, 0.0, 0.0, 0.0, 0.0, 0.0, 0.0, 0.0, 0.0, 0.0, 0.0, 0.0, 0.0, 0.0, 0.0, 0.0]}, {\"line\": {\"color\": \"black\", \"dash\": \"solid\", \"width\": 2}, \"mode\": \"lines\", \"name\": \"T = -91\\u00b0C\", \"type\": \"scatter\", \"uid\": \"6088b3af-869e-4862-819e-669d6781d4da\", \"x\": [5, 6, 7, 8, 9, 10, 11, 12, 13, 14, 15, 16, 17, 18, 19, 20, 21, 22, 23, 24, 25], \"y\": [0.0, 0.0, 0.0, 0.0, 0.0, 0.0, 0.0, 0.0, 0.0, 0.0, 0.0, 0.0, 0.0, 0.0, 0.0, 0.0, 0.0, 0.0, 0.0, 0.0, 0.0]}, {\"line\": {\"color\": \"black\", \"dash\": \"solid\", \"width\": 2}, \"mode\": \"lines\", \"name\": \"T = -91\\u00b0C\", \"type\": \"scatter\", \"uid\": \"3485afa0-b8fa-48d8-80dd-0f9ec9ec7af3\", \"x\": [5, 6, 7, 8, 9, 10, 11, 12, 13, 14, 15, 16, 17, 18, 19, 20, 21, 22, 23, 24, 25], \"y\": [0.0, 0.0, 0.0, 0.0, 0.0, 0.0, 0.0, 0.0, 0.0, 0.0, 0.0, 0.0, 0.0, 0.0, 0.0, 0.0, 0.0, 0.0, 0.0, 0.0, 0.0]}, {\"line\": {\"color\": \"black\", \"dash\": \"solid\", \"width\": 2}, \"mode\": \"lines\", \"name\": \"T = -91\\u00b0C\", \"type\": \"scatter\", \"uid\": \"d973d084-9da8-4bd9-94ad-24d3be45b03a\", \"x\": [5, 6, 7, 8, 9, 10, 11, 12, 13, 14, 15, 16, 17, 18, 19, 20, 21, 22, 23, 24, 25], \"y\": [0.0, 0.0, 0.0, 0.0, 0.0, 0.0, 0.0, 0.0, 0.0, 0.0, 0.0, 0.0, 0.0, 0.0, 0.0, 0.0, 0.0, 0.0, 0.0, 0.0, 0.0]}, {\"line\": {\"color\": \"black\", \"dash\": \"solid\", \"width\": 2}, \"mode\": \"lines\", \"name\": \"T = -91\\u00b0C\", \"type\": \"scatter\", \"uid\": \"28061ed2-a2f1-42ce-9428-7a1570e1ebdf\", \"x\": [5, 6, 7, 8, 9, 10, 11, 12, 13, 14, 15, 16, 17, 18, 19, 20, 21, 22, 23, 24, 25], \"y\": [0.0, 0.0, 0.0, 0.0, 0.0, 0.0, 0.0, 0.0, 0.0, 0.0, 0.0, 0.0, 0.0, 0.0, 0.0, 0.0, 0.0, 0.0, 0.0, 0.0, 0.0]}, {\"line\": {\"color\": \"black\", \"dash\": \"solid\", \"width\": 2}, \"mode\": \"lines\", \"name\": \"T = -91\\u00b0C\", \"type\": \"scatter\", \"uid\": \"435d1916-9afb-4d30-8c67-c458ce3cde2d\", \"x\": [5, 6, 7, 8, 9, 10, 11, 12, 13, 14, 15, 16, 17, 18, 19, 20, 21, 22, 23, 24, 25], \"y\": [0.0, 0.0, 0.0, 0.0, 0.0, 0.0, 0.0, 0.0, 0.0, 0.0, 0.0, 0.0, 0.0, 0.0, 0.0, 0.0, 0.0, 0.0, 0.0, 0.0, 0.0]}, {\"line\": {\"color\": \"black\", \"dash\": \"solid\", \"width\": 2}, \"mode\": \"lines\", \"name\": \"T = -91\\u00b0C\", \"type\": \"scatter\", \"uid\": \"e498503b-a3cc-40f0-924d-ef0cf659e65c\", \"x\": [5, 6, 7, 8, 9, 10, 11, 12, 13, 14, 15, 16, 17, 18, 19, 20, 21, 22, 23, 24, 25], \"y\": [0.0, 0.0, 0.0, 0.0, 0.0, 0.0, 0.0, 0.0, 0.0, 0.0, 0.0, 0.0, 0.0, 0.0, 0.0, 0.0, 0.0, 0.0, 0.0, 0.0, 0.0]}, {\"line\": {\"color\": \"black\", \"dash\": \"solid\", \"width\": 2}, \"mode\": \"lines\", \"name\": \"T = -91\\u00b0C\", \"type\": \"scatter\", \"uid\": \"486867e5-23af-446f-8668-b2b9e1151c9e\", \"x\": [5, 6, 7, 8, 9, 10, 11, 12, 13, 14, 15, 16, 17, 18, 19, 20, 21, 22, 23, 24, 25], \"y\": [0.0, 0.0, 0.0, 0.0, 0.0, 0.0, 0.0, 0.0, 0.0, 0.0, 0.0, 0.0, 0.0, 0.0, 0.0, 0.0, 0.0, 0.0, 0.0, 0.0, 0.0]}, {\"line\": {\"color\": \"black\", \"dash\": \"solid\", \"width\": 2}, \"mode\": \"lines\", \"name\": \"T = -91\\u00b0C\", \"type\": \"scatter\", \"uid\": \"1f1ee947-1fe0-4d13-8ea0-cdd8597bb3ae\", \"x\": [5, 6, 7, 8, 9, 10, 11, 12, 13, 14, 15, 16, 17, 18, 19, 20, 21, 22, 23, 24, 25], \"y\": [0.0, 0.0, 0.0, 0.0, 0.0, 0.0, 0.0, 0.0, 0.0, 0.0, 0.0, 0.0, 0.0, 0.0, 0.0, 0.0, 0.0, 0.0, 0.0, 0.0, 0.0]}, {\"line\": {\"color\": \"black\", \"dash\": \"solid\", \"width\": 2}, \"mode\": \"lines\", \"name\": \"T = -91\\u00b0C\", \"type\": \"scatter\", \"uid\": \"0c47e79b-8794-437c-a6db-6074be008e5d\", \"x\": [5, 6, 7, 8, 9, 10, 11, 12, 13, 14, 15, 16, 17, 18, 19, 20, 21, 22, 23, 24, 25], \"y\": [0.0, 0.0, 0.0, 0.0, 0.0, 0.0, 0.0, 0.0, 0.0, 0.0, 0.0, 0.0, 0.0, 0.0, 0.0, 0.0, 0.0, 0.0, 0.0, 0.0, 0.0]}, {\"line\": {\"color\": \"black\", \"dash\": \"solid\", \"width\": 2}, \"mode\": \"lines\", \"name\": \"T = -91\\u00b0C\", \"type\": \"scatter\", \"uid\": \"76731513-8499-4ab3-a30a-0292b67a9330\", \"x\": [5, 6, 7, 8, 9, 10, 11, 12, 13, 14, 15, 16, 17, 18, 19, 20, 21, 22, 23, 24, 25], \"y\": [0.0, 0.0, 0.0, 0.0, 0.0, 0.0, 0.0, 0.0, 0.0, 0.0, 0.0, 0.0, 0.0, 0.0, 0.0, 0.0, 0.0, 0.0, 0.0, 0.0, 0.0]}, {\"line\": {\"color\": \"black\", \"dash\": \"solid\", \"width\": 2}, \"mode\": \"lines\", \"name\": \"T = -91\\u00b0C\", \"type\": \"scatter\", \"uid\": \"a4216d82-7ec0-4a84-abae-c8581b340be5\", \"x\": [5, 6, 7, 8, 9, 10, 11, 12, 13, 14, 15, 16, 17, 18, 19, 20, 21, 22, 23, 24, 25], \"y\": [0.0, 0.0, 0.0, 0.0, 0.0, 0.0, 0.0, 0.0, 0.0, 0.0, 0.0, 0.0, 0.0, 0.0, 0.0, 0.0, 0.0, 0.0, 0.0, 0.0, 0.0]}, {\"line\": {\"color\": \"black\", \"dash\": \"solid\", \"width\": 2}, \"mode\": \"lines\", \"name\": \"T = -91\\u00b0C\", \"type\": \"scatter\", \"uid\": \"31dcb2e0-8a98-4ea1-bd22-1fa0d8203d6f\", \"x\": [5, 6, 7, 8, 9, 10, 11, 12, 13, 14, 15, 16, 17, 18, 19, 20, 21, 22, 23, 24, 25], \"y\": [0.0, 0.0, 0.0, 0.0, 0.0, 0.0, 0.0, 0.0, 0.0, 0.0, 0.0, 0.0, 0.0, 0.0, 0.0, 0.0, 0.0, 0.0, 0.0, 0.0, 0.0]}, {\"line\": {\"color\": \"black\", \"dash\": \"solid\", \"width\": 2}, \"mode\": \"lines\", \"name\": \"T = -91\\u00b0C\", \"type\": \"scatter\", \"uid\": \"f922254c-1997-4207-93c3-b077cdd00a73\", \"x\": [5, 6, 7, 8, 9, 10, 11, 12, 13, 14, 15, 16, 17, 18, 19, 20, 21, 22, 23, 24, 25], \"y\": [0.0, 0.0, 0.0, 0.0, 0.0, 0.0, 0.0, 0.0, 0.0, 0.0, 0.0, 0.0, 0.0, 0.0, 0.0, 0.0, 0.0, 0.0, 0.0, 0.0, 0.0]}, {\"line\": {\"color\": \"black\", \"dash\": \"solid\", \"width\": 2}, \"mode\": \"lines\", \"name\": \"T = -91\\u00b0C\", \"type\": \"scatter\", \"uid\": \"44b9ed6f-d92e-4526-8a2e-90b12ee9d6cd\", \"x\": [5, 6, 7, 8, 9, 10, 11, 12, 13, 14, 15, 16, 17, 18, 19, 20, 21, 22, 23, 24, 25], \"y\": [0.0, 0.0, 0.0, 0.0, 0.0, 0.0, 0.0, 0.0, 0.0, 0.0, 0.0, 0.0, 0.0, 0.0, 0.0, 0.0, 0.0, 0.0, 0.0, 0.0, 0.0]}, {\"line\": {\"color\": \"black\", \"dash\": \"solid\", \"width\": 2}, \"mode\": \"lines\", \"name\": \"T = -91\\u00b0C\", \"type\": \"scatter\", \"uid\": \"0dab09be-1d57-4bfe-b47f-c87e5a395e4e\", \"x\": [5, 6, 7, 8, 9, 10, 11, 12, 13, 14, 15, 16, 17, 18, 19, 20, 21, 22, 23, 24, 25], \"y\": [0.0, 0.0, 0.0, 0.0, 0.0, 0.0, 0.0, 0.0, 0.0, 0.0, 0.0, 0.0, 0.0, 0.0, 0.0, 0.0, 0.0, 0.0, 0.0, 0.0, 0.0]}, {\"line\": {\"color\": \"black\", \"dash\": \"solid\", \"width\": 2}, \"mode\": \"lines\", \"name\": \"T = -91\\u00b0C\", \"type\": \"scatter\", \"uid\": \"82d53851-2363-4864-8ace-91ea9b688ae7\", \"x\": [5, 6, 7, 8, 9, 10, 11, 12, 13, 14, 15, 16, 17, 18, 19, 20, 21, 22, 23, 24, 25], \"y\": [0.0, 0.0, 0.0, 0.0, 0.0, 0.0, 0.0, 0.0, 0.0, 0.0, 0.0, 0.0, 0.0, 0.0, 0.0, 0.0, 0.0, 0.0, 0.0, 0.0, 0.0]}, {\"line\": {\"color\": \"black\", \"dash\": \"solid\", \"width\": 2}, \"mode\": \"lines\", \"name\": \"T = -91\\u00b0C\", \"type\": \"scatter\", \"uid\": \"f54392f8-318a-4cc0-aaea-aa1b0d4b7a0e\", \"x\": [5, 6, 7, 8, 9, 10, 11, 12, 13, 14, 15, 16, 17, 18, 19, 20, 21, 22, 23, 24, 25], \"y\": [0.0, 0.0, 0.0, 0.0, 0.0, 0.0, 0.0, 0.0, 0.0, 0.0, 0.0, 0.0, 0.0, 0.0, 0.0, 0.0, 0.0, 0.0, 0.0, 0.0, 0.0]}, {\"line\": {\"color\": \"black\", \"dash\": \"solid\", \"width\": 2}, \"mode\": \"lines\", \"name\": \"T = -91\\u00b0C\", \"type\": \"scatter\", \"uid\": \"2f7b52cd-99f4-4395-8284-a0e9eab32245\", \"x\": [5, 6, 7, 8, 9, 10, 11, 12, 13, 14, 15, 16, 17, 18, 19, 20, 21, 22, 23, 24, 25], \"y\": [0.0, 0.0, 0.0, 0.0, 0.0, 0.0, 0.0, 0.0, 0.0, 0.0, 0.0, 0.0, 0.0, 0.0, 0.0, 0.0, 0.0, 0.0, 0.0, 0.0, 0.0]}, {\"line\": {\"color\": \"black\", \"dash\": \"solid\", \"width\": 2}, \"mode\": \"lines\", \"name\": \"T = -91\\u00b0C\", \"type\": \"scatter\", \"uid\": \"72662409-c85f-4a41-bf03-9282f14defae\", \"x\": [5, 6, 7, 8, 9, 10, 11, 12, 13, 14, 15, 16, 17, 18, 19, 20, 21, 22, 23, 24, 25], \"y\": [0.0, 0.0, 0.0, 0.0, 0.0, 0.0, 0.0, 0.0, 0.0, 0.0, 0.0, 0.0, 0.0, 0.0, 0.0, 0.0, 0.0, 0.0, 0.0, 0.0, 0.0]}, {\"line\": {\"color\": \"blue\", \"dash\": \"solid\", \"width\": 2}, \"mode\": \"lines\", \"name\": \"T = -60\\u00b0C\", \"type\": \"scatter\", \"uid\": \"0462f21d-3f8b-4423-9b11-b8a2be7a3ef6\", \"x\": [5, 6, 7, 8, 9, 10, 11, 12, 13, 14, 15, 16, 17, 18, 19, 20, 21, 22, 23, 24, 25], \"y\": [18.026527284593485, 13.952586692731836, 10.9554866515015, 8.67618273748268, 6.898807058552391, 5.485230994541927, 4.342592441307066, 3.4059969696367154, 2.6287202481674155, 1.9763434751608837, 1.4230620912190697, 0.949257493696612, 0.5398398887668614, 0.18308434229014248, -0.13020468155715617, -0.4073027261749524, -0.6540152937488991, -0.8750132819341448, -1.0740851013412454, -1.254327573261094, -1.4182914884005553]}, {\"line\": {\"color\": \"blue\", \"dash\": \"solid\", \"width\": 2}, \"mode\": \"lines\", \"name\": \"T = -60\\u00b0C\", \"type\": \"scatter\", \"uid\": \"d6ae9288-86c4-452e-9f26-ed080fdb6257\", \"x\": [5, 6, 7, 8, 9, 10, 11, 12, 13, 14, 15, 16, 17, 18, 19, 20, 21, 22, 23, 24, 25], \"y\": [18.026527284593485, 13.952586692731836, 10.9554866515015, 8.67618273748268, 6.898807058552391, 5.485230994541927, 4.342592441307066, 3.4059969696367154, 2.6287202481674155, 1.9763434751608837, 1.4230620912190697, 0.949257493696612, 0.5398398887668614, 0.18308434229014248, -0.13020468155715617, -0.4073027261749524, -0.6540152937488991, -0.8750132819341448, -1.0740851013412454, -1.254327573261094, -1.4182914884005553]}, {\"line\": {\"color\": \"blue\", \"dash\": \"solid\", \"width\": 2}, \"mode\": \"lines\", \"name\": \"T = -60\\u00b0C\", \"type\": \"scatter\", \"uid\": \"4a64c537-b989-4848-bb4a-55dc1e9a4e50\", \"x\": [5, 6, 7, 8, 9, 10, 11, 12, 13, 14, 15, 16, 17, 18, 19, 20, 21, 22, 23, 24, 25], \"y\": [18.026527284593485, 13.952586692731836, 10.9554866515015, 8.67618273748268, 6.898807058552391, 5.485230994541927, 4.342592441307066, 3.4059969696367154, 2.6287202481674155, 1.9763434751608837, 1.4230620912190697, 0.949257493696612, 0.5398398887668614, 0.18308434229014248, -0.13020468155715617, -0.4073027261749524, -0.6540152937488991, -0.8750132819341448, -1.0740851013412454, -1.254327573261094, -1.4182914884005553]}, {\"line\": {\"color\": \"blue\", \"dash\": \"solid\", \"width\": 2}, \"mode\": \"lines\", \"name\": \"T = -60\\u00b0C\", \"type\": \"scatter\", \"uid\": \"2abf4dab-a2ee-4494-8d1a-77fb3bfb7998\", \"x\": [5, 6, 7, 8, 9, 10, 11, 12, 13, 14, 15, 16, 17, 18, 19, 20, 21, 22, 23, 24, 25], \"y\": [18.026527284593485, 13.952586692731836, 10.9554866515015, 8.67618273748268, 6.898807058552391, 5.485230994541927, 4.342592441307066, 3.4059969696367154, 2.6287202481674155, 1.9763434751608837, 1.4230620912190697, 0.949257493696612, 0.5398398887668614, 0.18308434229014248, -0.13020468155715617, -0.4073027261749524, -0.6540152937488991, -0.8750132819341448, -1.0740851013412454, -1.254327573261094, -1.4182914884005553]}, {\"line\": {\"color\": \"blue\", \"dash\": \"solid\", \"width\": 2}, \"mode\": \"lines\", \"name\": \"T = -60\\u00b0C\", \"type\": \"scatter\", \"uid\": \"dbe30aaf-ff75-42aa-843f-0f6a8b50601f\", \"x\": [5, 6, 7, 8, 9, 10, 11, 12, 13, 14, 15, 16, 17, 18, 19, 20, 21, 22, 23, 24, 25], \"y\": [18.026527284593485, 13.952586692731836, 10.9554866515015, 8.67618273748268, 6.898807058552391, 5.485230994541927, 4.342592441307066, 3.4059969696367154, 2.6287202481674155, 1.9763434751608837, 1.4230620912190697, 0.949257493696612, 0.5398398887668614, 0.18308434229014248, -0.13020468155715617, -0.4073027261749524, -0.6540152937488991, -0.8750132819341448, -1.0740851013412454, -1.254327573261094, -1.4182914884005553]}, {\"line\": {\"color\": \"blue\", \"dash\": \"solid\", \"width\": 2}, \"mode\": \"lines\", \"name\": \"T = -60\\u00b0C\", \"type\": \"scatter\", \"uid\": \"6fec0f03-3b14-45bd-b965-108867f6d529\", \"x\": [5, 6, 7, 8, 9, 10, 11, 12, 13, 14, 15, 16, 17, 18, 19, 20, 21, 22, 23, 24, 25], \"y\": [18.026527284593485, 13.952586692731836, 10.9554866515015, 8.67618273748268, 6.898807058552391, 5.485230994541927, 4.342592441307066, 3.4059969696367154, 2.6287202481674155, 1.9763434751608837, 1.4230620912190697, 0.949257493696612, 0.5398398887668614, 0.18308434229014248, -0.13020468155715617, -0.4073027261749524, -0.6540152937488991, -0.8750132819341448, -1.0740851013412454, -1.254327573261094, -1.4182914884005553]}, {\"line\": {\"color\": \"blue\", \"dash\": \"solid\", \"width\": 2}, \"mode\": \"lines\", \"name\": \"T = -60\\u00b0C\", \"type\": \"scatter\", \"uid\": \"d88b7aec-c03b-431f-b11a-038c984497f2\", \"x\": [5, 6, 7, 8, 9, 10, 11, 12, 13, 14, 15, 16, 17, 18, 19, 20, 21, 22, 23, 24, 25], \"y\": [18.026527284593485, 13.952586692731836, 10.9554866515015, 8.67618273748268, 6.898807058552391, 5.485230994541927, 4.342592441307066, 3.4059969696367154, 2.6287202481674155, 1.9763434751608837, 1.4230620912190697, 0.949257493696612, 0.5398398887668614, 0.18308434229014248, -0.13020468155715617, -0.4073027261749524, -0.6540152937488991, -0.8750132819341448, -1.0740851013412454, -1.254327573261094, -1.4182914884005553]}, {\"line\": {\"color\": \"blue\", \"dash\": \"solid\", \"width\": 2}, \"mode\": \"lines\", \"name\": \"T = -60\\u00b0C\", \"type\": \"scatter\", \"uid\": \"73fbbb33-a93c-4182-aaa1-f2e8b5b11147\", \"x\": [5, 6, 7, 8, 9, 10, 11, 12, 13, 14, 15, 16, 17, 18, 19, 20, 21, 22, 23, 24, 25], \"y\": [18.026527284593485, 13.952586692731836, 10.9554866515015, 8.67618273748268, 6.898807058552391, 5.485230994541927, 4.342592441307066, 3.4059969696367154, 2.6287202481674155, 1.9763434751608837, 1.4230620912190697, 0.949257493696612, 0.5398398887668614, 0.18308434229014248, -0.13020468155715617, -0.4073027261749524, -0.6540152937488991, -0.8750132819341448, -1.0740851013412454, -1.254327573261094, -1.4182914884005553]}, {\"line\": {\"color\": \"blue\", \"dash\": \"solid\", \"width\": 2}, \"mode\": \"lines\", \"name\": \"T = -60\\u00b0C\", \"type\": \"scatter\", \"uid\": \"482029f2-b21a-4bd8-81a9-88c48401a3c1\", \"x\": [5, 6, 7, 8, 9, 10, 11, 12, 13, 14, 15, 16, 17, 18, 19, 20, 21, 22, 23, 24, 25], \"y\": [18.026527284593485, 13.952586692731836, 10.9554866515015, 8.67618273748268, 6.898807058552391, 5.485230994541927, 4.342592441307066, 3.4059969696367154, 2.6287202481674155, 1.9763434751608837, 1.4230620912190697, 0.949257493696612, 0.5398398887668614, 0.18308434229014248, -0.13020468155715617, -0.4073027261749524, -0.6540152937488991, -0.8750132819341448, -1.0740851013412454, -1.254327573261094, -1.4182914884005553]}, {\"line\": {\"color\": \"blue\", \"dash\": \"solid\", \"width\": 2}, \"mode\": \"lines\", \"name\": \"T = -60\\u00b0C\", \"type\": \"scatter\", \"uid\": \"fe25cf01-caba-490c-92e0-4fe79bb91a9c\", \"x\": [5, 6, 7, 8, 9, 10, 11, 12, 13, 14, 15, 16, 17, 18, 19, 20, 21, 22, 23, 24, 25], \"y\": [18.026527284593485, 13.952586692731836, 10.9554866515015, 8.67618273748268, 6.898807058552391, 5.485230994541927, 4.342592441307066, 3.4059969696367154, 2.6287202481674155, 1.9763434751608837, 1.4230620912190697, 0.949257493696612, 0.5398398887668614, 0.18308434229014248, -0.13020468155715617, -0.4073027261749524, -0.6540152937488991, -0.8750132819341448, -1.0740851013412454, -1.254327573261094, -1.4182914884005553]}, {\"line\": {\"color\": \"blue\", \"dash\": \"solid\", \"width\": 2}, \"mode\": \"lines\", \"name\": \"T = -60\\u00b0C\", \"type\": \"scatter\", \"uid\": \"5fbe9304-62bf-44d7-9a90-55a7a0d00b9f\", \"x\": [5, 6, 7, 8, 9, 10, 11, 12, 13, 14, 15, 16, 17, 18, 19, 20, 21, 22, 23, 24, 25], \"y\": [18.026527284593485, 13.952586692731836, 10.9554866515015, 8.67618273748268, 6.898807058552391, 5.485230994541927, 4.342592441307066, 3.4059969696367154, 2.6287202481674155, 1.9763434751608837, 1.4230620912190697, 0.949257493696612, 0.5398398887668614, 0.18308434229014248, -0.13020468155715617, -0.4073027261749524, -0.6540152937488991, -0.8750132819341448, -1.0740851013412454, -1.254327573261094, -1.4182914884005553]}, {\"line\": {\"color\": \"blue\", \"dash\": \"solid\", \"width\": 2}, \"mode\": \"lines\", \"name\": \"T = -60\\u00b0C\", \"type\": \"scatter\", \"uid\": \"b0eb011f-bd9e-47d6-980e-b391fcbf68fa\", \"x\": [5, 6, 7, 8, 9, 10, 11, 12, 13, 14, 15, 16, 17, 18, 19, 20, 21, 22, 23, 24, 25], \"y\": [18.026527284593485, 13.952586692731836, 10.9554866515015, 8.67618273748268, 6.898807058552391, 5.485230994541927, 4.342592441307066, 3.4059969696367154, 2.6287202481674155, 1.9763434751608837, 1.4230620912190697, 0.949257493696612, 0.5398398887668614, 0.18308434229014248, -0.13020468155715617, -0.4073027261749524, -0.6540152937488991, -0.8750132819341448, -1.0740851013412454, -1.254327573261094, -1.4182914884005553]}, {\"line\": {\"color\": \"blue\", \"dash\": \"solid\", \"width\": 2}, \"mode\": \"lines\", \"name\": \"T = -60\\u00b0C\", \"type\": \"scatter\", \"uid\": \"9893f204-f8ab-47e7-9798-975939acdd7d\", \"x\": [5, 6, 7, 8, 9, 10, 11, 12, 13, 14, 15, 16, 17, 18, 19, 20, 21, 22, 23, 24, 25], \"y\": [18.026527284593485, 13.952586692731836, 10.9554866515015, 8.67618273748268, 6.898807058552391, 5.485230994541927, 4.342592441307066, 3.4059969696367154, 2.6287202481674155, 1.9763434751608837, 1.4230620912190697, 0.949257493696612, 0.5398398887668614, 0.18308434229014248, -0.13020468155715617, -0.4073027261749524, -0.6540152937488991, -0.8750132819341448, -1.0740851013412454, -1.254327573261094, -1.4182914884005553]}, {\"line\": {\"color\": \"blue\", \"dash\": \"solid\", \"width\": 2}, \"mode\": \"lines\", \"name\": \"T = -60\\u00b0C\", \"type\": \"scatter\", \"uid\": \"36de5e05-fa63-41f4-b3fe-d710e71e44db\", \"x\": [5, 6, 7, 8, 9, 10, 11, 12, 13, 14, 15, 16, 17, 18, 19, 20, 21, 22, 23, 24, 25], \"y\": [18.026527284593485, 13.952586692731836, 10.9554866515015, 8.67618273748268, 6.898807058552391, 5.485230994541927, 4.342592441307066, 3.4059969696367154, 2.6287202481674155, 1.9763434751608837, 1.4230620912190697, 0.949257493696612, 0.5398398887668614, 0.18308434229014248, -0.13020468155715617, -0.4073027261749524, -0.6540152937488991, -0.8750132819341448, -1.0740851013412454, -1.254327573261094, -1.4182914884005553]}, {\"line\": {\"color\": \"blue\", \"dash\": \"solid\", \"width\": 2}, \"mode\": \"lines\", \"name\": \"T = -60\\u00b0C\", \"type\": \"scatter\", \"uid\": \"e5cda1a6-21c2-4ed4-a565-b8f3c8734ccc\", \"x\": [5, 6, 7, 8, 9, 10, 11, 12, 13, 14, 15, 16, 17, 18, 19, 20, 21, 22, 23, 24, 25], \"y\": [18.026527284593485, 13.952586692731836, 10.9554866515015, 8.67618273748268, 6.898807058552391, 5.485230994541927, 4.342592441307066, 3.4059969696367154, 2.6287202481674155, 1.9763434751608837, 1.4230620912190697, 0.949257493696612, 0.5398398887668614, 0.18308434229014248, -0.13020468155715617, -0.4073027261749524, -0.6540152937488991, -0.8750132819341448, -1.0740851013412454, -1.254327573261094, -1.4182914884005553]}, {\"line\": {\"color\": \"blue\", \"dash\": \"solid\", \"width\": 2}, \"mode\": \"lines\", \"name\": \"T = -60\\u00b0C\", \"type\": \"scatter\", \"uid\": \"cce47dcd-5f93-4d3b-96b8-fed67a6d736d\", \"x\": [5, 6, 7, 8, 9, 10, 11, 12, 13, 14, 15, 16, 17, 18, 19, 20, 21, 22, 23, 24, 25], \"y\": [18.026527284593485, 13.952586692731836, 10.9554866515015, 8.67618273748268, 6.898807058552391, 5.485230994541927, 4.342592441307066, 3.4059969696367154, 2.6287202481674155, 1.9763434751608837, 1.4230620912190697, 0.949257493696612, 0.5398398887668614, 0.18308434229014248, -0.13020468155715617, -0.4073027261749524, -0.6540152937488991, -0.8750132819341448, -1.0740851013412454, -1.254327573261094, -1.4182914884005553]}, {\"line\": {\"color\": \"blue\", \"dash\": \"solid\", \"width\": 2}, \"mode\": \"lines\", \"name\": \"T = -60\\u00b0C\", \"type\": \"scatter\", \"uid\": \"cc2163dd-98b3-4082-bfd5-1ec7c877f7f9\", \"x\": [5, 6, 7, 8, 9, 10, 11, 12, 13, 14, 15, 16, 17, 18, 19, 20, 21, 22, 23, 24, 25], \"y\": [18.026527284593485, 13.952586692731836, 10.9554866515015, 8.67618273748268, 6.898807058552391, 5.485230994541927, 4.342592441307066, 3.4059969696367154, 2.6287202481674155, 1.9763434751608837, 1.4230620912190697, 0.949257493696612, 0.5398398887668614, 0.18308434229014248, -0.13020468155715617, -0.4073027261749524, -0.6540152937488991, -0.8750132819341448, -1.0740851013412454, -1.254327573261094, -1.4182914884005553]}, {\"line\": {\"color\": \"blue\", \"dash\": \"solid\", \"width\": 2}, \"mode\": \"lines\", \"name\": \"T = -60\\u00b0C\", \"type\": \"scatter\", \"uid\": \"776d3ec0-2ddd-4cec-a31e-2f1735ef61e0\", \"x\": [5, 6, 7, 8, 9, 10, 11, 12, 13, 14, 15, 16, 17, 18, 19, 20, 21, 22, 23, 24, 25], \"y\": [18.026527284593485, 13.952586692731836, 10.9554866515015, 8.67618273748268, 6.898807058552391, 5.485230994541927, 4.342592441307066, 3.4059969696367154, 2.6287202481674155, 1.9763434751608837, 1.4230620912190697, 0.949257493696612, 0.5398398887668614, 0.18308434229014248, -0.13020468155715617, -0.4073027261749524, -0.6540152937488991, -0.8750132819341448, -1.0740851013412454, -1.254327573261094, -1.4182914884005553]}, {\"line\": {\"color\": \"blue\", \"dash\": \"solid\", \"width\": 2}, \"mode\": \"lines\", \"name\": \"T = -60\\u00b0C\", \"type\": \"scatter\", \"uid\": \"b293a9ed-49d9-44fc-982a-2371fcabe019\", \"x\": [5, 6, 7, 8, 9, 10, 11, 12, 13, 14, 15, 16, 17, 18, 19, 20, 21, 22, 23, 24, 25], \"y\": [18.026527284593485, 13.952586692731836, 10.9554866515015, 8.67618273748268, 6.898807058552391, 5.485230994541927, 4.342592441307066, 3.4059969696367154, 2.6287202481674155, 1.9763434751608837, 1.4230620912190697, 0.949257493696612, 0.5398398887668614, 0.18308434229014248, -0.13020468155715617, -0.4073027261749524, -0.6540152937488991, -0.8750132819341448, -1.0740851013412454, -1.254327573261094, -1.4182914884005553]}, {\"line\": {\"color\": \"blue\", \"dash\": \"solid\", \"width\": 2}, \"mode\": \"lines\", \"name\": \"T = -60\\u00b0C\", \"type\": \"scatter\", \"uid\": \"e105fd61-2270-416f-86fa-f574fa7e1707\", \"x\": [5, 6, 7, 8, 9, 10, 11, 12, 13, 14, 15, 16, 17, 18, 19, 20, 21, 22, 23, 24, 25], \"y\": [18.026527284593485, 13.952586692731836, 10.9554866515015, 8.67618273748268, 6.898807058552391, 5.485230994541927, 4.342592441307066, 3.4059969696367154, 2.6287202481674155, 1.9763434751608837, 1.4230620912190697, 0.949257493696612, 0.5398398887668614, 0.18308434229014248, -0.13020468155715617, -0.4073027261749524, -0.6540152937488991, -0.8750132819341448, -1.0740851013412454, -1.254327573261094, -1.4182914884005553]}, {\"line\": {\"color\": \"blue\", \"dash\": \"solid\", \"width\": 2}, \"mode\": \"lines\", \"name\": \"T = -60\\u00b0C\", \"type\": \"scatter\", \"uid\": \"2a671ca3-e123-4223-a894-30aed74c8aa1\", \"x\": [5, 6, 7, 8, 9, 10, 11, 12, 13, 14, 15, 16, 17, 18, 19, 20, 21, 22, 23, 24, 25], \"y\": [18.026527284593485, 13.952586692731836, 10.9554866515015, 8.67618273748268, 6.898807058552391, 5.485230994541927, 4.342592441307066, 3.4059969696367154, 2.6287202481674155, 1.9763434751608837, 1.4230620912190697, 0.949257493696612, 0.5398398887668614, 0.18308434229014248, -0.13020468155715617, -0.4073027261749524, -0.6540152937488991, -0.8750132819341448, -1.0740851013412454, -1.254327573261094, -1.4182914884005553]}, {\"line\": {\"color\": \"green\", \"dash\": \"solid\", \"width\": 2}, \"mode\": \"lines\", \"name\": \"T = -40\\u00b0C\", \"type\": \"scatter\", \"uid\": \"8e2840f6-d118-4a7a-9774-cfe3ef026306\", \"x\": [5, 6, 7, 8, 9, 10, 11, 12, 13, 14, 15, 16, 17, 18, 19, 20, 21, 22, 23, 24, 25], \"y\": [26.158199076458345, 20.827172012735346, 16.83744924751148, 13.760676816588841, 11.329883646227664, 9.370268362188177, 7.762753583784855, 6.4236406411664015, 5.29262366834653, 4.32537879682762, 3.488786995991606, 2.757746923074679, 2.112989754153867, 1.5395487488670574, 1.0256692223630062, 0.5620214613598395, 0.1411256510568086, -0.2430727788041161, -0.5955198544164735, -0.9202914871167638, -1.2207746109536946]}, {\"line\": {\"color\": \"green\", \"dash\": \"solid\", \"width\": 2}, \"mode\": \"lines\", \"name\": \"T = -40\\u00b0C\", \"type\": \"scatter\", \"uid\": \"53e84577-de1e-447c-bb7b-b83623a0e001\", \"x\": [5, 6, 7, 8, 9, 10, 11, 12, 13, 14, 15, 16, 17, 18, 19, 20, 21, 22, 23, 24, 25], \"y\": [26.158199076458345, 20.827172012735346, 16.83744924751148, 13.760676816588841, 11.329883646227664, 9.370268362188177, 7.762753583784855, 6.4236406411664015, 5.29262366834653, 4.32537879682762, 3.488786995991606, 2.757746923074679, 2.112989754153867, 1.5395487488670574, 1.0256692223630062, 0.5620214613598395, 0.1411256510568086, -0.2430727788041161, -0.5955198544164735, -0.9202914871167638, -1.2207746109536946]}, {\"line\": {\"color\": \"green\", \"dash\": \"solid\", \"width\": 2}, \"mode\": \"lines\", \"name\": \"T = -40\\u00b0C\", \"type\": \"scatter\", \"uid\": \"f2f380b2-4be7-4b36-85d9-28c4436efb88\", \"x\": [5, 6, 7, 8, 9, 10, 11, 12, 13, 14, 15, 16, 17, 18, 19, 20, 21, 22, 23, 24, 25], \"y\": [26.158199076458345, 20.827172012735346, 16.83744924751148, 13.760676816588841, 11.329883646227664, 9.370268362188177, 7.762753583784855, 6.4236406411664015, 5.29262366834653, 4.32537879682762, 3.488786995991606, 2.757746923074679, 2.112989754153867, 1.5395487488670574, 1.0256692223630062, 0.5620214613598395, 0.1411256510568086, -0.2430727788041161, -0.5955198544164735, -0.9202914871167638, -1.2207746109536946]}, {\"line\": {\"color\": \"green\", \"dash\": \"solid\", \"width\": 2}, \"mode\": \"lines\", \"name\": \"T = -40\\u00b0C\", \"type\": \"scatter\", \"uid\": \"4d3b815b-44c4-4b58-841d-2a6f1c60149c\", \"x\": [5, 6, 7, 8, 9, 10, 11, 12, 13, 14, 15, 16, 17, 18, 19, 20, 21, 22, 23, 24, 25], \"y\": [26.158199076458345, 20.827172012735346, 16.83744924751148, 13.760676816588841, 11.329883646227664, 9.370268362188177, 7.762753583784855, 6.4236406411664015, 5.29262366834653, 4.32537879682762, 3.488786995991606, 2.757746923074679, 2.112989754153867, 1.5395487488670574, 1.0256692223630062, 0.5620214613598395, 0.1411256510568086, -0.2430727788041161, -0.5955198544164735, -0.9202914871167638, -1.2207746109536946]}, {\"line\": {\"color\": \"green\", \"dash\": \"solid\", \"width\": 2}, \"mode\": \"lines\", \"name\": \"T = -40\\u00b0C\", \"type\": \"scatter\", \"uid\": \"962459ab-fd25-4f71-befa-1f8adb465edb\", \"x\": [5, 6, 7, 8, 9, 10, 11, 12, 13, 14, 15, 16, 17, 18, 19, 20, 21, 22, 23, 24, 25], \"y\": [26.158199076458345, 20.827172012735346, 16.83744924751148, 13.760676816588841, 11.329883646227664, 9.370268362188177, 7.762753583784855, 6.4236406411664015, 5.29262366834653, 4.32537879682762, 3.488786995991606, 2.757746923074679, 2.112989754153867, 1.5395487488670574, 1.0256692223630062, 0.5620214613598395, 0.1411256510568086, -0.2430727788041161, -0.5955198544164735, -0.9202914871167638, -1.2207746109536946]}, {\"line\": {\"color\": \"green\", \"dash\": \"solid\", \"width\": 2}, \"mode\": \"lines\", \"name\": \"T = -40\\u00b0C\", \"type\": \"scatter\", \"uid\": \"65f435da-f70e-4c09-bd85-3e62665a690b\", \"x\": [5, 6, 7, 8, 9, 10, 11, 12, 13, 14, 15, 16, 17, 18, 19, 20, 21, 22, 23, 24, 25], \"y\": [26.158199076458345, 20.827172012735346, 16.83744924751148, 13.760676816588841, 11.329883646227664, 9.370268362188177, 7.762753583784855, 6.4236406411664015, 5.29262366834653, 4.32537879682762, 3.488786995991606, 2.757746923074679, 2.112989754153867, 1.5395487488670574, 1.0256692223630062, 0.5620214613598395, 0.1411256510568086, -0.2430727788041161, -0.5955198544164735, -0.9202914871167638, -1.2207746109536946]}, {\"line\": {\"color\": \"green\", \"dash\": \"solid\", \"width\": 2}, \"mode\": \"lines\", \"name\": \"T = -40\\u00b0C\", \"type\": \"scatter\", \"uid\": \"c26c0794-5fa0-4af5-be4d-f0fbee6c011d\", \"x\": [5, 6, 7, 8, 9, 10, 11, 12, 13, 14, 15, 16, 17, 18, 19, 20, 21, 22, 23, 24, 25], \"y\": [26.158199076458345, 20.827172012735346, 16.83744924751148, 13.760676816588841, 11.329883646227664, 9.370268362188177, 7.762753583784855, 6.4236406411664015, 5.29262366834653, 4.32537879682762, 3.488786995991606, 2.757746923074679, 2.112989754153867, 1.5395487488670574, 1.0256692223630062, 0.5620214613598395, 0.1411256510568086, -0.2430727788041161, -0.5955198544164735, -0.9202914871167638, -1.2207746109536946]}, {\"line\": {\"color\": \"green\", \"dash\": \"solid\", \"width\": 2}, \"mode\": \"lines\", \"name\": \"T = -40\\u00b0C\", \"type\": \"scatter\", \"uid\": \"453b34e7-f420-47bd-9a95-fac844a30664\", \"x\": [5, 6, 7, 8, 9, 10, 11, 12, 13, 14, 15, 16, 17, 18, 19, 20, 21, 22, 23, 24, 25], \"y\": [26.158199076458345, 20.827172012735346, 16.83744924751148, 13.760676816588841, 11.329883646227664, 9.370268362188177, 7.762753583784855, 6.4236406411664015, 5.29262366834653, 4.32537879682762, 3.488786995991606, 2.757746923074679, 2.112989754153867, 1.5395487488670574, 1.0256692223630062, 0.5620214613598395, 0.1411256510568086, -0.2430727788041161, -0.5955198544164735, -0.9202914871167638, -1.2207746109536946]}, {\"line\": {\"color\": \"green\", \"dash\": \"solid\", \"width\": 2}, \"mode\": \"lines\", \"name\": \"T = -40\\u00b0C\", \"type\": \"scatter\", \"uid\": \"1904c714-63cf-4e56-8fe6-73c55f4fd3e2\", \"x\": [5, 6, 7, 8, 9, 10, 11, 12, 13, 14, 15, 16, 17, 18, 19, 20, 21, 22, 23, 24, 25], \"y\": [26.158199076458345, 20.827172012735346, 16.83744924751148, 13.760676816588841, 11.329883646227664, 9.370268362188177, 7.762753583784855, 6.4236406411664015, 5.29262366834653, 4.32537879682762, 3.488786995991606, 2.757746923074679, 2.112989754153867, 1.5395487488670574, 1.0256692223630062, 0.5620214613598395, 0.1411256510568086, -0.2430727788041161, -0.5955198544164735, -0.9202914871167638, -1.2207746109536946]}, {\"line\": {\"color\": \"green\", \"dash\": \"solid\", \"width\": 2}, \"mode\": \"lines\", \"name\": \"T = -40\\u00b0C\", \"type\": \"scatter\", \"uid\": \"e9aa89f9-5d1e-43e5-869f-703f8b48a656\", \"x\": [5, 6, 7, 8, 9, 10, 11, 12, 13, 14, 15, 16, 17, 18, 19, 20, 21, 22, 23, 24, 25], \"y\": [26.158199076458345, 20.827172012735346, 16.83744924751148, 13.760676816588841, 11.329883646227664, 9.370268362188177, 7.762753583784855, 6.4236406411664015, 5.29262366834653, 4.32537879682762, 3.488786995991606, 2.757746923074679, 2.112989754153867, 1.5395487488670574, 1.0256692223630062, 0.5620214613598395, 0.1411256510568086, -0.2430727788041161, -0.5955198544164735, -0.9202914871167638, -1.2207746109536946]}, {\"line\": {\"color\": \"green\", \"dash\": \"solid\", \"width\": 2}, \"mode\": \"lines\", \"name\": \"T = -40\\u00b0C\", \"type\": \"scatter\", \"uid\": \"b34a643b-d75b-4ed4-8ed8-1905fea2e83e\", \"x\": [5, 6, 7, 8, 9, 10, 11, 12, 13, 14, 15, 16, 17, 18, 19, 20, 21, 22, 23, 24, 25], \"y\": [26.158199076458345, 20.827172012735346, 16.83744924751148, 13.760676816588841, 11.329883646227664, 9.370268362188177, 7.762753583784855, 6.4236406411664015, 5.29262366834653, 4.32537879682762, 3.488786995991606, 2.757746923074679, 2.112989754153867, 1.5395487488670574, 1.0256692223630062, 0.5620214613598395, 0.1411256510568086, -0.2430727788041161, -0.5955198544164735, -0.9202914871167638, -1.2207746109536946]}, {\"line\": {\"color\": \"green\", \"dash\": \"solid\", \"width\": 2}, \"mode\": \"lines\", \"name\": \"T = -40\\u00b0C\", \"type\": \"scatter\", \"uid\": \"f76c5f27-5c8f-41ff-ad10-6682d6e5930c\", \"x\": [5, 6, 7, 8, 9, 10, 11, 12, 13, 14, 15, 16, 17, 18, 19, 20, 21, 22, 23, 24, 25], \"y\": [26.158199076458345, 20.827172012735346, 16.83744924751148, 13.760676816588841, 11.329883646227664, 9.370268362188177, 7.762753583784855, 6.4236406411664015, 5.29262366834653, 4.32537879682762, 3.488786995991606, 2.757746923074679, 2.112989754153867, 1.5395487488670574, 1.0256692223630062, 0.5620214613598395, 0.1411256510568086, -0.2430727788041161, -0.5955198544164735, -0.9202914871167638, -1.2207746109536946]}, {\"line\": {\"color\": \"green\", \"dash\": \"solid\", \"width\": 2}, \"mode\": \"lines\", \"name\": \"T = -40\\u00b0C\", \"type\": \"scatter\", \"uid\": \"062546b6-6d2c-4ebc-9653-2896d157429d\", \"x\": [5, 6, 7, 8, 9, 10, 11, 12, 13, 14, 15, 16, 17, 18, 19, 20, 21, 22, 23, 24, 25], \"y\": [26.158199076458345, 20.827172012735346, 16.83744924751148, 13.760676816588841, 11.329883646227664, 9.370268362188177, 7.762753583784855, 6.4236406411664015, 5.29262366834653, 4.32537879682762, 3.488786995991606, 2.757746923074679, 2.112989754153867, 1.5395487488670574, 1.0256692223630062, 0.5620214613598395, 0.1411256510568086, -0.2430727788041161, -0.5955198544164735, -0.9202914871167638, -1.2207746109536946]}, {\"line\": {\"color\": \"green\", \"dash\": \"solid\", \"width\": 2}, \"mode\": \"lines\", \"name\": \"T = -40\\u00b0C\", \"type\": \"scatter\", \"uid\": \"0a4dd6f2-a55a-494e-85a9-fb7579d49466\", \"x\": [5, 6, 7, 8, 9, 10, 11, 12, 13, 14, 15, 16, 17, 18, 19, 20, 21, 22, 23, 24, 25], \"y\": [26.158199076458345, 20.827172012735346, 16.83744924751148, 13.760676816588841, 11.329883646227664, 9.370268362188177, 7.762753583784855, 6.4236406411664015, 5.29262366834653, 4.32537879682762, 3.488786995991606, 2.757746923074679, 2.112989754153867, 1.5395487488670574, 1.0256692223630062, 0.5620214613598395, 0.1411256510568086, -0.2430727788041161, -0.5955198544164735, -0.9202914871167638, -1.2207746109536946]}, {\"line\": {\"color\": \"green\", \"dash\": \"solid\", \"width\": 2}, \"mode\": \"lines\", \"name\": \"T = -40\\u00b0C\", \"type\": \"scatter\", \"uid\": \"87b1747b-7d9f-4940-ac89-4c9c9b2bbcb1\", \"x\": [5, 6, 7, 8, 9, 10, 11, 12, 13, 14, 15, 16, 17, 18, 19, 20, 21, 22, 23, 24, 25], \"y\": [26.158199076458345, 20.827172012735346, 16.83744924751148, 13.760676816588841, 11.329883646227664, 9.370268362188177, 7.762753583784855, 6.4236406411664015, 5.29262366834653, 4.32537879682762, 3.488786995991606, 2.757746923074679, 2.112989754153867, 1.5395487488670574, 1.0256692223630062, 0.5620214613598395, 0.1411256510568086, -0.2430727788041161, -0.5955198544164735, -0.9202914871167638, -1.2207746109536946]}, {\"line\": {\"color\": \"green\", \"dash\": \"solid\", \"width\": 2}, \"mode\": \"lines\", \"name\": \"T = -40\\u00b0C\", \"type\": \"scatter\", \"uid\": \"37d7394d-7701-4a62-88e9-497415b01482\", \"x\": [5, 6, 7, 8, 9, 10, 11, 12, 13, 14, 15, 16, 17, 18, 19, 20, 21, 22, 23, 24, 25], \"y\": [26.158199076458345, 20.827172012735346, 16.83744924751148, 13.760676816588841, 11.329883646227664, 9.370268362188177, 7.762753583784855, 6.4236406411664015, 5.29262366834653, 4.32537879682762, 3.488786995991606, 2.757746923074679, 2.112989754153867, 1.5395487488670574, 1.0256692223630062, 0.5620214613598395, 0.1411256510568086, -0.2430727788041161, -0.5955198544164735, -0.9202914871167638, -1.2207746109536946]}, {\"line\": {\"color\": \"green\", \"dash\": \"solid\", \"width\": 2}, \"mode\": \"lines\", \"name\": \"T = -40\\u00b0C\", \"type\": \"scatter\", \"uid\": \"dbc9ef15-0f34-41b3-8870-0b486a437391\", \"x\": [5, 6, 7, 8, 9, 10, 11, 12, 13, 14, 15, 16, 17, 18, 19, 20, 21, 22, 23, 24, 25], \"y\": [26.158199076458345, 20.827172012735346, 16.83744924751148, 13.760676816588841, 11.329883646227664, 9.370268362188177, 7.762753583784855, 6.4236406411664015, 5.29262366834653, 4.32537879682762, 3.488786995991606, 2.757746923074679, 2.112989754153867, 1.5395487488670574, 1.0256692223630062, 0.5620214613598395, 0.1411256510568086, -0.2430727788041161, -0.5955198544164735, -0.9202914871167638, -1.2207746109536946]}, {\"line\": {\"color\": \"green\", \"dash\": \"solid\", \"width\": 2}, \"mode\": \"lines\", \"name\": \"T = -40\\u00b0C\", \"type\": \"scatter\", \"uid\": \"2816b1ec-ad25-401c-9e40-7370b081be38\", \"x\": [5, 6, 7, 8, 9, 10, 11, 12, 13, 14, 15, 16, 17, 18, 19, 20, 21, 22, 23, 24, 25], \"y\": [26.158199076458345, 20.827172012735346, 16.83744924751148, 13.760676816588841, 11.329883646227664, 9.370268362188177, 7.762753583784855, 6.4236406411664015, 5.29262366834653, 4.32537879682762, 3.488786995991606, 2.757746923074679, 2.112989754153867, 1.5395487488670574, 1.0256692223630062, 0.5620214613598395, 0.1411256510568086, -0.2430727788041161, -0.5955198544164735, -0.9202914871167638, -1.2207746109536946]}, {\"line\": {\"color\": \"green\", \"dash\": \"solid\", \"width\": 2}, \"mode\": \"lines\", \"name\": \"T = -40\\u00b0C\", \"type\": \"scatter\", \"uid\": \"9945d473-0b62-48ac-b435-4a2a9e8e5c37\", \"x\": [5, 6, 7, 8, 9, 10, 11, 12, 13, 14, 15, 16, 17, 18, 19, 20, 21, 22, 23, 24, 25], \"y\": [26.158199076458345, 20.827172012735346, 16.83744924751148, 13.760676816588841, 11.329883646227664, 9.370268362188177, 7.762753583784855, 6.4236406411664015, 5.29262366834653, 4.32537879682762, 3.488786995991606, 2.757746923074679, 2.112989754153867, 1.5395487488670574, 1.0256692223630062, 0.5620214613598395, 0.1411256510568086, -0.2430727788041161, -0.5955198544164735, -0.9202914871167638, -1.2207746109536946]}, {\"line\": {\"color\": \"green\", \"dash\": \"solid\", \"width\": 2}, \"mode\": \"lines\", \"name\": \"T = -40\\u00b0C\", \"type\": \"scatter\", \"uid\": \"8b535083-fed3-4208-be97-a1de1751fd53\", \"x\": [5, 6, 7, 8, 9, 10, 11, 12, 13, 14, 15, 16, 17, 18, 19, 20, 21, 22, 23, 24, 25], \"y\": [26.158199076458345, 20.827172012735346, 16.83744924751148, 13.760676816588841, 11.329883646227664, 9.370268362188177, 7.762753583784855, 6.4236406411664015, 5.29262366834653, 4.32537879682762, 3.488786995991606, 2.757746923074679, 2.112989754153867, 1.5395487488670574, 1.0256692223630062, 0.5620214613598395, 0.1411256510568086, -0.2430727788041161, -0.5955198544164735, -0.9202914871167638, -1.2207746109536946]}, {\"line\": {\"color\": \"green\", \"dash\": \"solid\", \"width\": 2}, \"mode\": \"lines\", \"name\": \"T = -40\\u00b0C\", \"type\": \"scatter\", \"uid\": \"cfc5ccbc-5bdf-4150-bd95-ed883de52f70\", \"x\": [5, 6, 7, 8, 9, 10, 11, 12, 13, 14, 15, 16, 17, 18, 19, 20, 21, 22, 23, 24, 25], \"y\": [26.158199076458345, 20.827172012735346, 16.83744924751148, 13.760676816588841, 11.329883646227664, 9.370268362188177, 7.762753583784855, 6.4236406411664015, 5.29262366834653, 4.32537879682762, 3.488786995991606, 2.757746923074679, 2.112989754153867, 1.5395487488670574, 1.0256692223630062, 0.5620214613598395, 0.1411256510568086, -0.2430727788041161, -0.5955198544164735, -0.9202914871167638, -1.2207746109536946]}],                        {\"annotations\": [{\"font\": {\"size\": 18}, \"showarrow\": false, \"text\": \"$\\\\LARGE{m}$\", \"x\": 0.5, \"xref\": \"paper\", \"y\": -0.2, \"yref\": \"paper\"}, {\"font\": {\"size\": 18}, \"showarrow\": false, \"text\": \"$\\\\LARGE{ \\\\Delta \\\\sigma_\\\\mathrm{w} (\\\\%)}$\", \"textangle\": -90, \"x\": -0.2, \"xref\": \"paper\", \"y\": 0.5, \"yref\": \"paper\"}, {\"font\": {\"size\": 18}, \"showarrow\": false, \"text\": \"\", \"x\": 0.41, \"xref\": \"paper\", \"y\": 1.1, \"yref\": \"paper\"}], \"height\": 420, \"legend\": {\"x\": 0.6, \"y\": 0.5}, \"margin\": {\"b\": 80, \"l\": 80, \"r\": 20, \"t\": 40}, \"showlegend\": false, \"template\": {\"data\": {\"bar\": [{\"error_x\": {\"color\": \"#2a3f5f\"}, \"error_y\": {\"color\": \"#2a3f5f\"}, \"marker\": {\"line\": {\"color\": \"#E5ECF6\", \"width\": 0.5}}, \"type\": \"bar\"}], \"barpolar\": [{\"marker\": {\"line\": {\"color\": \"#E5ECF6\", \"width\": 0.5}}, \"type\": \"barpolar\"}], \"carpet\": [{\"aaxis\": {\"endlinecolor\": \"#2a3f5f\", \"gridcolor\": \"white\", \"linecolor\": \"white\", \"minorgridcolor\": \"white\", \"startlinecolor\": \"#2a3f5f\"}, \"baxis\": {\"endlinecolor\": \"#2a3f5f\", \"gridcolor\": \"white\", \"linecolor\": \"white\", \"minorgridcolor\": \"white\", \"startlinecolor\": \"#2a3f5f\"}, \"type\": \"carpet\"}], \"choropleth\": [{\"colorbar\": {\"outlinewidth\": 0, \"ticks\": \"\"}, \"type\": \"choropleth\"}], \"contour\": [{\"colorbar\": {\"outlinewidth\": 0, \"ticks\": \"\"}, \"colorscale\": [[0.0, \"#0d0887\"], [0.1111111111111111, \"#46039f\"], [0.2222222222222222, \"#7201a8\"], [0.3333333333333333, \"#9c179e\"], [0.4444444444444444, \"#bd3786\"], [0.5555555555555556, \"#d8576b\"], [0.6666666666666666, \"#ed7953\"], [0.7777777777777778, \"#fb9f3a\"], [0.8888888888888888, \"#fdca26\"], [1.0, \"#f0f921\"]], \"type\": \"contour\"}], \"contourcarpet\": [{\"colorbar\": {\"outlinewidth\": 0, \"ticks\": \"\"}, \"type\": \"contourcarpet\"}], \"heatmap\": [{\"colorbar\": {\"outlinewidth\": 0, \"ticks\": \"\"}, \"colorscale\": [[0.0, \"#0d0887\"], [0.1111111111111111, \"#46039f\"], [0.2222222222222222, \"#7201a8\"], [0.3333333333333333, \"#9c179e\"], [0.4444444444444444, \"#bd3786\"], [0.5555555555555556, \"#d8576b\"], [0.6666666666666666, \"#ed7953\"], [0.7777777777777778, \"#fb9f3a\"], [0.8888888888888888, \"#fdca26\"], [1.0, \"#f0f921\"]], \"type\": \"heatmap\"}], \"heatmapgl\": [{\"colorbar\": {\"outlinewidth\": 0, \"ticks\": \"\"}, \"colorscale\": [[0.0, \"#0d0887\"], [0.1111111111111111, \"#46039f\"], [0.2222222222222222, \"#7201a8\"], [0.3333333333333333, \"#9c179e\"], [0.4444444444444444, \"#bd3786\"], [0.5555555555555556, \"#d8576b\"], [0.6666666666666666, \"#ed7953\"], [0.7777777777777778, \"#fb9f3a\"], [0.8888888888888888, \"#fdca26\"], [1.0, \"#f0f921\"]], \"type\": \"heatmapgl\"}], \"histogram\": [{\"marker\": {\"colorbar\": {\"outlinewidth\": 0, \"ticks\": \"\"}}, \"type\": \"histogram\"}], \"histogram2d\": [{\"colorbar\": {\"outlinewidth\": 0, \"ticks\": \"\"}, \"colorscale\": [[0.0, \"#0d0887\"], [0.1111111111111111, \"#46039f\"], [0.2222222222222222, \"#7201a8\"], [0.3333333333333333, \"#9c179e\"], [0.4444444444444444, \"#bd3786\"], [0.5555555555555556, \"#d8576b\"], [0.6666666666666666, \"#ed7953\"], [0.7777777777777778, \"#fb9f3a\"], [0.8888888888888888, \"#fdca26\"], [1.0, \"#f0f921\"]], \"type\": \"histogram2d\"}], \"histogram2dcontour\": [{\"colorbar\": {\"outlinewidth\": 0, \"ticks\": \"\"}, \"colorscale\": [[0.0, \"#0d0887\"], [0.1111111111111111, \"#46039f\"], [0.2222222222222222, \"#7201a8\"], [0.3333333333333333, \"#9c179e\"], [0.4444444444444444, \"#bd3786\"], [0.5555555555555556, \"#d8576b\"], [0.6666666666666666, \"#ed7953\"], [0.7777777777777778, \"#fb9f3a\"], [0.8888888888888888, \"#fdca26\"], [1.0, \"#f0f921\"]], \"type\": \"histogram2dcontour\"}], \"mesh3d\": [{\"colorbar\": {\"outlinewidth\": 0, \"ticks\": \"\"}, \"type\": \"mesh3d\"}], \"parcoords\": [{\"line\": {\"colorbar\": {\"outlinewidth\": 0, \"ticks\": \"\"}}, \"type\": \"parcoords\"}], \"pie\": [{\"automargin\": true, \"type\": \"pie\"}], \"scatter\": [{\"marker\": {\"colorbar\": {\"outlinewidth\": 0, \"ticks\": \"\"}}, \"type\": \"scatter\"}], \"scatter3d\": [{\"line\": {\"colorbar\": {\"outlinewidth\": 0, \"ticks\": \"\"}}, \"marker\": {\"colorbar\": {\"outlinewidth\": 0, \"ticks\": \"\"}}, \"type\": \"scatter3d\"}], \"scattercarpet\": [{\"marker\": {\"colorbar\": {\"outlinewidth\": 0, \"ticks\": \"\"}}, \"type\": \"scattercarpet\"}], \"scattergeo\": [{\"marker\": {\"colorbar\": {\"outlinewidth\": 0, \"ticks\": \"\"}}, \"type\": \"scattergeo\"}], \"scattergl\": [{\"marker\": {\"colorbar\": {\"outlinewidth\": 0, \"ticks\": \"\"}}, \"type\": \"scattergl\"}], \"scattermapbox\": [{\"marker\": {\"colorbar\": {\"outlinewidth\": 0, \"ticks\": \"\"}}, \"type\": \"scattermapbox\"}], \"scatterpolar\": [{\"marker\": {\"colorbar\": {\"outlinewidth\": 0, \"ticks\": \"\"}}, \"type\": \"scatterpolar\"}], \"scatterpolargl\": [{\"marker\": {\"colorbar\": {\"outlinewidth\": 0, \"ticks\": \"\"}}, \"type\": \"scatterpolargl\"}], \"scatterternary\": [{\"marker\": {\"colorbar\": {\"outlinewidth\": 0, \"ticks\": \"\"}}, \"type\": \"scatterternary\"}], \"surface\": [{\"colorbar\": {\"outlinewidth\": 0, \"ticks\": \"\"}, \"colorscale\": [[0.0, \"#0d0887\"], [0.1111111111111111, \"#46039f\"], [0.2222222222222222, \"#7201a8\"], [0.3333333333333333, \"#9c179e\"], [0.4444444444444444, \"#bd3786\"], [0.5555555555555556, \"#d8576b\"], [0.6666666666666666, \"#ed7953\"], [0.7777777777777778, \"#fb9f3a\"], [0.8888888888888888, \"#fdca26\"], [1.0, \"#f0f921\"]], \"type\": \"surface\"}], \"table\": [{\"cells\": {\"fill\": {\"color\": \"#EBF0F8\"}, \"line\": {\"color\": \"white\"}}, \"header\": {\"fill\": {\"color\": \"#C8D4E3\"}, \"line\": {\"color\": \"white\"}}, \"type\": \"table\"}]}, \"layout\": {\"annotationdefaults\": {\"arrowcolor\": \"#2a3f5f\", \"arrowhead\": 0, \"arrowwidth\": 1}, \"autotypenumbers\": \"strict\", \"coloraxis\": {\"colorbar\": {\"outlinewidth\": 0, \"ticks\": \"\"}}, \"colorscale\": {\"diverging\": [[0, \"#8e0152\"], [0.1, \"#c51b7d\"], [0.2, \"#de77ae\"], [0.3, \"#f1b6da\"], [0.4, \"#fde0ef\"], [0.5, \"#f7f7f7\"], [0.6, \"#e6f5d0\"], [0.7, \"#b8e186\"], [0.8, \"#7fbc41\"], [0.9, \"#4d9221\"], [1, \"#276419\"]], \"sequential\": [[0.0, \"#0d0887\"], [0.1111111111111111, \"#46039f\"], [0.2222222222222222, \"#7201a8\"], [0.3333333333333333, \"#9c179e\"], [0.4444444444444444, \"#bd3786\"], [0.5555555555555556, \"#d8576b\"], [0.6666666666666666, \"#ed7953\"], [0.7777777777777778, \"#fb9f3a\"], [0.8888888888888888, \"#fdca26\"], [1.0, \"#f0f921\"]], \"sequentialminus\": [[0.0, \"#0d0887\"], [0.1111111111111111, \"#46039f\"], [0.2222222222222222, \"#7201a8\"], [0.3333333333333333, \"#9c179e\"], [0.4444444444444444, \"#bd3786\"], [0.5555555555555556, \"#d8576b\"], [0.6666666666666666, \"#ed7953\"], [0.7777777777777778, \"#fb9f3a\"], [0.8888888888888888, \"#fdca26\"], [1.0, \"#f0f921\"]]}, \"colorway\": [\"#636efa\", \"#EF553B\", \"#00cc96\", \"#ab63fa\", \"#FFA15A\", \"#19d3f3\", \"#FF6692\", \"#B6E880\", \"#FF97FF\", \"#FECB52\"], \"font\": {\"color\": \"#2a3f5f\"}, \"geo\": {\"bgcolor\": \"white\", \"lakecolor\": \"white\", \"landcolor\": \"#E5ECF6\", \"showlakes\": true, \"showland\": true, \"subunitcolor\": \"white\"}, \"hoverlabel\": {\"align\": \"left\"}, \"hovermode\": \"closest\", \"mapbox\": {\"style\": \"light\"}, \"paper_bgcolor\": \"white\", \"plot_bgcolor\": \"#E5ECF6\", \"polar\": {\"angularaxis\": {\"gridcolor\": \"white\", \"linecolor\": \"white\", \"ticks\": \"\"}, \"bgcolor\": \"#E5ECF6\", \"radialaxis\": {\"gridcolor\": \"white\", \"linecolor\": \"white\", \"ticks\": \"\"}}, \"scene\": {\"xaxis\": {\"backgroundcolor\": \"#E5ECF6\", \"gridcolor\": \"white\", \"gridwidth\": 2, \"linecolor\": \"white\", \"showbackground\": true, \"ticks\": \"\", \"zerolinecolor\": \"white\"}, \"yaxis\": {\"backgroundcolor\": \"#E5ECF6\", \"gridcolor\": \"white\", \"gridwidth\": 2, \"linecolor\": \"white\", \"showbackground\": true, \"ticks\": \"\", \"zerolinecolor\": \"white\"}, \"zaxis\": {\"backgroundcolor\": \"#E5ECF6\", \"gridcolor\": \"white\", \"gridwidth\": 2, \"linecolor\": \"white\", \"showbackground\": true, \"ticks\": \"\", \"zerolinecolor\": \"white\"}}, \"shapedefaults\": {\"line\": {\"color\": \"#2a3f5f\"}}, \"ternary\": {\"aaxis\": {\"gridcolor\": \"white\", \"linecolor\": \"white\", \"ticks\": \"\"}, \"baxis\": {\"gridcolor\": \"white\", \"linecolor\": \"white\", \"ticks\": \"\"}, \"bgcolor\": \"#E5ECF6\", \"caxis\": {\"gridcolor\": \"white\", \"linecolor\": \"white\", \"ticks\": \"\"}}, \"title\": {\"x\": 0.05}, \"xaxis\": {\"automargin\": true, \"gridcolor\": \"white\", \"linecolor\": \"white\", \"ticks\": \"\", \"title\": {\"standoff\": 15}, \"zerolinecolor\": \"white\", \"zerolinewidth\": 2}, \"yaxis\": {\"automargin\": true, \"gridcolor\": \"white\", \"linecolor\": \"white\", \"ticks\": \"\", \"title\": {\"standoff\": 15}, \"zerolinecolor\": \"white\", \"zerolinewidth\": 2}}}, \"width\": 450, \"xaxis\": {\"mirror\": \"all\", \"range\": [5, 25], \"showline\": true, \"title\": {\"font\": {\"size\": 13}}, \"zeroline\": false}, \"yaxis\": {\"mirror\": \"all\", \"showline\": true, \"title\": {\"font\": {\"size\": 13}}, \"zeroline\": false}},                        {\"responsive\": true}                    ).then(function(){\n",
       "                            \n",
       "var gd = document.getElementById('56b4eeb0-6363-470c-b742-c2fc04d878d5');\n",
       "var x = new MutationObserver(function (mutations, observer) {{\n",
       "        var display = window.getComputedStyle(gd).display;\n",
       "        if (!display || display === 'none') {{\n",
       "            console.log([gd, 'removed!']);\n",
       "            Plotly.purge(gd);\n",
       "            observer.disconnect();\n",
       "        }}\n",
       "}});\n",
       "\n",
       "// Listen for the removal of the full notebook cells\n",
       "var notebookContainer = gd.closest('#notebook-container');\n",
       "if (notebookContainer) {{\n",
       "    x.observe(notebookContainer, {childList: true});\n",
       "}}\n",
       "\n",
       "// Listen for the clearing of the current output cell\n",
       "var outputEl = gd.closest('.output');\n",
       "if (outputEl) {{\n",
       "    x.observe(outputEl, {childList: true});\n",
       "}}\n",
       "\n",
       "                        })                };                });            </script>        </div>"
      ]
     },
     "metadata": {},
     "output_type": "display_data"
    }
   ],
   "source": [
    "# plot\n",
    "\n",
    "title = r''\n",
    "ylab = r'$\\LARGE{ \\Delta \\sigma_\\mathrm{w} (\\%)}$'\n",
    "\n",
    "data = []\n",
    "for ri, sw_r in enumerate(glob_sw_all):\n",
    "\n",
    "    x_plot = []\n",
    "    y_plot = []\n",
    "\n",
    "    for mi, sw in enumerate(sw_r):\n",
    "        x_plot.append(m_vals[mi])\n",
    "        y_plot.append(\n",
    "            calc_sw_diff(glob_sw_all, 0, ri, mi, gdata_all, skipped_lines_all) \n",
    "            )\n",
    "        data.append({\n",
    "            'x': x_plot,\n",
    "            'y': y_plot,\n",
    "            'name': r'T = ' + str(temps[ri]) + r'°C',\n",
    "            'line': {'dash': lines[0], 'color': cols[ri], 'width': 2},\n",
    "            'mode': 'lines',\n",
    "        })\n",
    "\n",
    "        \n",
    "\n",
    "layout = {\n",
    "    'width': 450,\n",
    "    'height': 420,\n",
    "    'xaxis': {\n",
    "#         'range': [-0.1, 1.1],\n",
    "        'zeroline': False,\n",
    "        'showline': True,\n",
    "        'mirror': 'all',\n",
    "#         'title': r'$m$',\n",
    "        'titlefont':{'size': 13}\n",
    "    },\n",
    "    'yaxis': {\n",
    "        'zeroline': False,\n",
    "        'showline': True,\n",
    "        'mirror': 'all',\n",
    "#         'title': '$\\sigma_\\mathrm{w}/\\sigma_\\mathrm{f} $ ',\n",
    "        'titlefont':{'size': 13},\n",
    "\n",
    "    },\n",
    "    'annotations':[\n",
    "    {\n",
    "        'text':  r'$\\LARGE{m}$',\n",
    "        'x': 0.5,\n",
    "        'y': -0.2,\n",
    "        'xref': 'paper',\n",
    "        'yref': 'paper',\n",
    "        'showarrow': False,\n",
    "        'font': {'size': 18},\n",
    "    },\n",
    "        {\n",
    "        'text':  ylab,\n",
    "        'x': -0.2,\n",
    "        'y': 0.5,\n",
    "        'xref': 'paper',\n",
    "        'yref': 'paper',\n",
    "        'showarrow': False,\n",
    "        'font': {'size': 18},\n",
    "        'textangle': -90\n",
    "    },\n",
    "        {\n",
    "        'text':  title,\n",
    "        'x': 0.41,\n",
    "        'y': 1.1,\n",
    "        'xref': 'paper',\n",
    "        'yref': 'paper',\n",
    "        'showarrow': False,\n",
    "        'font': {'size': 18},\n",
    "    },\n",
    "    ],\n",
    "    'legend':{\n",
    "        'x': 0.6,\n",
    "        'y': 0.5,\n",
    "    },\n",
    "     'margin': {\n",
    "                'l': 80,\n",
    "                'r': 20,\n",
    "                'b': 80,\n",
    "                't': 40,\n",
    "#                 'pad': 1\n",
    "     },\n",
    "\n",
    "}\n",
    "layout['xaxis']['range'] = [5, 25]\n",
    "layout['showlegend'] = False\n",
    "f = go.FigureWidget(data,layout)\n",
    "py.iplot(f)\n",
    "# pio.write_image(f, 'images/fig9.svg',width=450, height=400,)"
   ]
  },
  {
   "cell_type": "markdown",
   "metadata": {},
   "source": [
    "### Predict the caharcteristic fracture toughness $J_0$"
   ]
  },
  {
   "cell_type": "code",
   "execution_count": 77,
   "metadata": {},
   "outputs": [
    {
     "name": "stdout",
     "output_type": "stream",
     "text": [
      "Temperature:  -91\n",
      "basis for prediction\n",
      "J0 = 58.65\n",
      "###\n",
      "Temperature:  -60\n",
      "shift_idx:  3\n",
      "Predicted J0 = 107.41\n",
      "###\n",
      "Temperature:  -40\n",
      "shift_idx:  2\n",
      "Predicted J0 = 191.02\n",
      "###\n",
      "None\n"
     ]
    }
   ],
   "source": [
    "# USER INPUT\n",
    "# Choose shape parameter m\n",
    "mchosen = 20\n",
    "\n",
    "# Choose index basis for prediction \n",
    "# For inctance, to use the first temperature as a basis, we specify 0 (due to zero-based indexing)\n",
    "pred_index = 0\n",
    "\n",
    "idxm = np.where(m_vals==mchosen)[0][0]\n",
    "print(pred_j0(pred_index, glob_sw_all, idxm, skipped_lines_all, \n",
    "              gdata_all, temps, tol=0.01))"
   ]
  },
  {
   "cell_type": "code",
   "execution_count": 80,
   "metadata": {
    "code_folding": [
     0
    ],
    "scrolled": true
   },
   "outputs": [
    {
     "data": {
      "application/vnd.plotly.v1+json": {
       "config": {
        "linkText": "Export to plot.ly",
        "plotlyServerURL": "https://plot.ly",
        "showLink": false
       },
       "data": [
        {
         "line": {
          "color": "black",
          "dash": "solid",
          "width": 2
         },
         "mode": "lines",
         "name": "T = -91°C",
         "type": "scatter",
         "uid": "e7280544-569c-495b-a58f-db9f31b0b418",
         "x": [
          0.115698337555,
          0.260338902473,
          0.462844640017,
          0.723201870918,
          1.0413916111,
          1.41738843918,
          1.8511531353,
          2.34265327454,
          2.89188027382,
          3.49874424934,
          4.16319656372,
          4.88532924652,
          5.6650261879,
          6.50230073929,
          7.39715242386,
          8.34968280792,
          9.35976886749,
          10.4275512695,
          11.5532798767,
          12.7366924286,
          13.9783153534,
          15.2781858444,
          16.6360569,
          18.0529785156,
          19.5280799866,
          21.0627822876,
          22.6562213898,
          24.3087234497,
          26.0200214386,
          27.7887744904,
          29.6151733398,
          31.5005283356,
          33.4433937073,
          35.4459915161,
          37.5080604553,
          39.6281471252,
          41.8096351624,
          44.0500984192,
          46.3443031311,
          48.6949882507,
          51.1016235352,
          53.5655479431,
          56.0808105469,
          58.6458435059,
          61.2635421753,
          63.9311790466,
          66.6494064331,
          69.4313201904,
          72.2623291016,
          72.3144683838,
          72.3590393066,
          72.4034729004,
          72.4702682495,
          72.5705413818,
          72.7211761475,
          72.9472045898,
          73.2865066528,
          73.795425415,
          74.5604400635,
          75.7085647583,
          77.4429092407,
          80.0786437988,
          80.1331558228,
          80.2023468018,
          80.3061447144,
          80.462020874,
          80.6963119507,
          81.048576355,
          81.5787963867,
          82.3776855469,
          83.5811386108,
          85.3967819214,
          88.1395187378,
          88.1960830688,
          88.2678604126,
          88.3758621216,
          88.5380477905,
          88.7816009521,
          89.147102356,
          89.6970901489,
          90.5262985229,
          91.7776031494,
          93.6670532227,
          96.5374755859,
          96.5973587036,
          96.6726913452,
          96.7853546143,
          96.9547653198,
          97.2091522217,
          97.5916366577,
          98.166053772,
          99.03074646,
          100.339012146,
          102.32346344,
          105.34589386,
          105.408500671,
          105.487579346,
          105.606735229,
          105.786094666,
          106.054298401,
          106.457695007,
          107.063247681,
          107.975448608,
          109.345672607,
          111.417732239,
          111.619148254,
          111.911865234,
          112.351303101,
          113.012252808,
          114.005645752,
          115.501480103,
          117.76423645,
          117.824699402,
          117.878089905,
          117.931419373,
          118.011329651,
          118.131332397,
          118.311355591,
          118.581512451,
          118.987037659,
          119.596694946
         ],
         "y": [
          0,
          0,
          1662.0425192238067,
          1758.4810329688064,
          2093.665641733161,
          2205.581753123157,
          2295.46041338779,
          2403.4377938649973,
          2483.200430075075,
          2545.622805735457,
          2620.897430213448,
          2679.9312261175583,
          2728.0890220288175,
          2788.3167467352328,
          2833.661173863511,
          2874.4871321797405,
          2911.548327978512,
          2962.892892129461,
          2998.7750153382344,
          3030.9831896967116,
          3074.6757339620735,
          3106.4168999646226,
          3135.363204167038,
          3169.442443316871,
          3200.872950599576,
          3227.6898054779854,
          3253.582070849321,
          3284.9974183750965,
          3308.868011716797,
          3332.671873360097,
          3357.9869033145783,
          3381.242001240575,
          3404.254613679157,
          3425.416039773245,
          3446.600768587834,
          3467.354916955075,
          3486.421555199937,
          3506.3875835476138,
          3524.9334486206603,
          3542.4541951133133,
          3560.7095639734957,
          3577.3707203685753,
          3593.454893799577,
          3609.8928755161382,
          3625.2951872061653,
          3640.6621082684105,
          3655.5670533785424,
          3669.9082133122915,
          3684.0044490013647,
          3684.3183530572387,
          3684.5127177188315,
          3684.713084816306,
          3685.016742259199,
          3685.4739206470877,
          3686.161392295811,
          3687.1881337359737,
          3688.719715468008,
          3691.168988982197,
          3694.738300332146,
          3699.9028167826664,
          3707.5174007106866,
          3718.746526118067,
          3719.0237961386224,
          3719.287225232087,
          3719.6804042613353,
          3720.2824328123857,
          3721.190566511677,
          3722.6422223876402,
          3724.7152473443102,
          3727.7963797927528,
          3732.57215013383,
          3739.45677131761,
          3749.533889530604,
          3749.7460230920756,
          3750.0728730091046,
          3750.4359467267973,
          3751.0018329836435,
          3751.850678085143,
          3753.1303867365764,
          3755.1793016861616,
          3758.105340839625,
          3762.341577231252,
          3768.8170574876613,
          3778.1508042209366,
          3778.340200886976,
          3778.5564288772775,
          3778.904394676219,
          3779.4309153059703,
          3780.2044001191575,
          3781.3860581018193,
          3783.2333115207707,
          3785.9092392427083,
          3789.9775131759015,
          3795.9099462038794,
          3804.668086062443,
          3804.832263627255,
          3804.9983180993095,
          3805.299856200637,
          3805.7809546174553,
          3806.508651550165,
          3807.6178505714565,
          3809.2743705909234,
          3811.8370322497512,
          3815.588682833158,
          3821.0743284522396,
          3821.5486668275994,
          3822.2918893593196,
          3823.4144660235825,
          3825.14349612078,
          3827.6975117688717,
          3831.4794766269542,
          3837.113491559724,
          3837.2703533623708,
          3837.385292783325,
          3837.511249676417,
          3837.70410233127,
          3837.9907102937814,
          3838.4224861907237,
          3839.108219477037,
          3840.0905356708895,
          3841.5591830794338
         ]
        },
        {
         "line": {
          "color": "blue",
          "dash": "solid",
          "width": 2
         },
         "mode": "lines",
         "name": "T = -60°C",
         "type": "scatter",
         "uid": "dc2cd7c3-050d-47d6-9241-60c0149192ec",
         "x": [
          0.260264933109,
          0.462675571442,
          0.722916841507,
          1.04088020325,
          1.41660559177,
          1.84996175766,
          2.34093403816,
          2.88945651054,
          3.49548697472,
          4.15896987915,
          4.87987756729,
          5.65815830231,
          6.49382162094,
          7.3868637085,
          8.337266922,
          9.34507083893,
          10.4104423523,
          11.533367157,
          12.7142162323,
          13.9527130127,
          15.2493076324,
          16.6042823792,
          18.0177688599,
          19.4895629883,
          21.0208816528,
          22.6110057831,
          24.2600402832,
          25.9664897919,
          27.7267971039,
          29.5445709229,
          31.4192276001,
          33.3480453491,
          35.3357048035,
          37.3792228699,
          39.4819259644,
          41.6393966675,
          43.8539237976,
          46.1201057434,
          48.4417304993,
          50.8184661865,
          53.2501831055,
          55.7308349609,
          58.263458252,
          60.8368263245,
          63.4373474121,
          66.0624237061,
          68.7168960571,
          71.4187698364,
          74.1615524292,
          76.9486999512,
          79.7900695801,
          82.6758041382,
          85.6066055298,
          88.5867767334,
          91.6195907593,
          94.6997756958,
          97.8332672119,
          100.995506287,
          104.183174133,
          107.408676147,
          110.669548035,
          113.964439392,
          117.293388367,
          120.655036926,
          124.052993774,
          127.490730286,
          130.976486206,
          134.507751465,
          138.082199097,
          141.702056885,
          145.361480713,
          149.064041138,
          152.803588867,
          156.577560425,
          160.395187378,
          164.257629395,
          168.166366577,
          172.11328125,
          176.090362549,
          180.102325439,
          184.151733398,
          188.236740112,
          192.351501465,
          196.502914429,
          200.688583374,
          204.902633667,
          209.144500732
         ],
         "y": [
          0,
          0,
          1770.591382440949,
          1940.313568287826,
          2057.6076299549936,
          2149.149343850524,
          2219.7656208956028,
          2275.929636607084,
          2326.5853402110774,
          2383.9112787110757,
          2478.802271900133,
          2540.418553300874,
          2591.5028713217407,
          2640.609072882217,
          2683.1922984348553,
          2726.514302884289,
          2760.9198976929847,
          2804.1768220422246,
          2845.1971739540922,
          2876.1476792247636,
          2908.8434006590664,
          2936.317074675672,
          2966.789993697945,
          2994.056333484506,
          3024.9121405784435,
          3050.211388723973,
          3074.6178341123064,
          3100.440037602119,
          3123.9879344685223,
          3147.8105166049813,
          3170.3599840196803,
          3191.1774361717776,
          3212.701322794133,
          3232.2490845732123,
          3252.396211816882,
          3270.684106608042,
          3288.2633229495486,
          3306.1540608461646,
          3322.8490360422056,
          3339.635823135496,
          3355.8973457915895,
          3371.880748782414,
          3387.483128737358,
          3402.4119309563675,
          3416.7176546087476,
          3430.1336655016144,
          3443.066879967492,
          3455.4972446159777,
          3467.4357676885434,
          3478.900864740926,
          3489.9811822260435,
          3500.765150148444,
          3511.272806028831,
          3521.529004116199,
          3531.5147058033767,
          3541.3719850897637,
          3551.00472100844,
          3560.4175042221805,
          3569.510023698896,
          3578.3224683918224,
          3586.9281811822884,
          3595.249326994503,
          3603.3719925742666,
          3611.284103839043,
          3619.036069541379,
          3626.660022330244,
          3634.2079031961107,
          3641.6366362033805,
          3648.908848621478,
          3656.043662552669,
          3663.0141299605734,
          3669.8335134622585,
          3676.486005920968,
          3683.0040328648106,
          3689.4252880678596,
          3695.7661882670445,
          3702.055113795824,
          3708.265609864583,
          3714.364587928432,
          3720.368052013286,
          3726.2845819685986,
          3732.1006659860745,
          3737.815782701392,
          3743.528345160718,
          3749.213142456576,
          3754.8308135768916,
          3760.3850628821256
         ]
        },
        {
         "line": {
          "color": "green",
          "dash": "solid",
          "width": 2
         },
         "mode": "lines",
         "name": "T = -40°C",
         "type": "scatter",
         "uid": "b53023db-8398-400a-9a42-c41babc77034",
         "x": [
          0.256513297558,
          0.577115416527,
          1.02571594715,
          1.60218751431,
          2.3061709404,
          3.13781690598,
          4.09654188156,
          5.182513237,
          6.39557027817,
          7.73576974869,
          9.20316505432,
          10.798204422,
          12.5211801529,
          14.37271595,
          16.3538303375,
          18.4647254944,
          20.7068767548,
          23.0804634094,
          25.5852451324,
          28.2205066681,
          30.9811096191,
          33.8687286377,
          36.8777542114,
          40.0129470825,
          43.2747955322,
          46.6620521545,
          50.1710205078,
          53.7910079956,
          57.5207939148,
          61.3296508789,
          65.2536392212,
          69.2781066895,
          73.419883728,
          77.6879348755,
          82.0928497314,
          86.632484436,
          91.2769851685,
          95.9990997314,
          100.799934387,
          105.691932678,
          110.682525635,
          115.769340515,
          120.960014343,
          126.246871948,
          131.642868042,
          137.153366089,
          142.774917603,
          148.487136841,
          154.304244995,
          160.217163086,
          166.211715698,
          172.28994751,
          178.453857422,
          184.704223633,
          191.022460938,
          197.407806396,
          203.853469849,
          210.355682373,
          216.914779663,
          223.516296387,
          230.164703369,
          236.860244751,
          243.600128174,
          250.373550415,
          257.177856445,
          264.017669678,
          270.890258789,
          277.795288086,
          284.73236084,
          291.703369141,
          298.705444336,
          305.73550415,
          312.79486084,
          319.884490967,
          327.001251221,
          334.14666748,
          341.313781738,
          348.506256104,
          355.719696045,
          362.953033447,
          370.205718994,
          377.479125977,
          384.768188477,
          392.071380615,
          399.388214111,
          406.720031738,
          414.067108154,
          421.430877686,
          428.809570313,
          436.20111084,
          443.604705811,
          451.019439697,
          458.44354248
         ],
         "y": [
          0,
          0,
          1762.2646930220114,
          1954.3735465901677,
          2078.347698299432,
          2164.0690557334265,
          2230.8547690269897,
          2285.8990292866506,
          2453.857916764073,
          2535.695538749219,
          2606.2516714590465,
          2668.1573048078603,
          2716.9261898074496,
          2758.436674945738,
          2805.804568481341,
          2840.6240836717666,
          2895.0519499337765,
          2930.644895762458,
          2965.1692218315206,
          2998.6344567112105,
          3032.422658611994,
          3066.310007020896,
          3096.127130353527,
          3125.9846136700603,
          3157.3284473852027,
          3184.7059431562843,
          3209.2135320363327,
          3232.7563363942013,
          3256.4614324305794,
          3276.4775846255347,
          3295.4423028248516,
          3313.8761617277296,
          3330.229811240077,
          3346.123195319851,
          3361.058942248536,
          3375.4387935820364,
          3389.2617750334134,
          3402.4558129487064,
          3415.0822892638794,
          3427.203279935721,
          3439.0786180578934,
          3450.7598504580137,
          3462.312532973001,
          3473.6562234958233,
          3484.7257458792005,
          3495.456614073892,
          3505.8361006621517,
          3515.8658778280565,
          3525.58958314011,
          3535.066346246493,
          3544.272681610836,
          3553.165255240478,
          3561.783619135356,
          3570.3061326753136,
          3578.5958633426208,
          3586.560611073934,
          3594.3090558115955,
          3601.7766377432868,
          3609.0635076577596,
          3616.1886652001504,
          3623.273457170976,
          3630.2959176843947,
          3637.322114414453,
          3644.244155391712,
          3651.036970391298,
          3657.6757162733156,
          3664.223825433118,
          3670.605077281703,
          3676.83524630466,
          3682.9288687251687,
          3688.8685468208564,
          3694.644646251835,
          3700.2714236738348,
          3705.7650580437885,
          3711.1217078188597,
          3716.3315243788666,
          3721.3901827403397,
          3726.321764620819,
          3731.1606548563,
          3735.921978589968,
          3740.596207577082,
          3745.1969586715327,
          3749.713693251903,
          3754.1473305346835,
          3758.501885972324,
          3762.7832230345775,
          3766.9896472287487,
          3771.123605105947,
          3775.173023294207,
          3779.141508653323,
          3783.0315636510645,
          3786.839723953149,
          3790.5640296352426
         ]
        },
        {
         "line": {
          "color": "grey",
          "dash": "dash"
         },
         "name": "$\\mathrm{prediction\\;based\\;on}\\;J_0^{T = -91\\mathrm{°C}}$",
         "type": "scatter",
         "uid": "d802d5ce-c94b-4356-8ad7-91e7d16db609",
         "x": [
          0,
          9.183673469387756,
          18.367346938775512,
          27.551020408163268,
          36.734693877551024,
          45.91836734693878,
          55.102040816326536,
          64.28571428571429,
          73.46938775510205,
          82.6530612244898,
          91.83673469387756,
          101.02040816326532,
          110.20408163265307,
          119.38775510204083,
          128.57142857142858,
          137.75510204081633,
          146.9387755102041,
          156.12244897959187,
          165.3061224489796,
          174.48979591836735,
          183.67346938775512,
          192.8571428571429,
          202.04081632653063,
          211.22448979591837,
          220.40816326530614,
          229.5918367346939,
          238.77551020408166,
          247.9591836734694,
          257.14285714285717,
          266.32653061224494,
          275.51020408163265,
          284.6938775510204,
          293.8775510204082,
          303.06122448979596,
          312.24489795918373,
          321.42857142857144,
          330.6122448979592,
          339.795918367347,
          348.9795918367347,
          358.16326530612247,
          367.34693877551024,
          376.530612244898,
          385.7142857142858,
          394.8979591836735,
          404.08163265306126,
          413.26530612244903,
          422.44897959183675,
          431.6326530612245,
          440.8163265306123,
          450
         ],
         "y": [
          3595.249326994503,
          3595.249326994503,
          3595.249326994503,
          3595.249326994503,
          3595.249326994503,
          3595.249326994503,
          3595.249326994503,
          3595.249326994503,
          3595.249326994503,
          3595.249326994503,
          3595.249326994503,
          3595.249326994503,
          3595.249326994503,
          3595.249326994503,
          3595.249326994503,
          3595.249326994503,
          3595.249326994503,
          3595.249326994503,
          3595.249326994503,
          3595.249326994503,
          3595.249326994503,
          3595.249326994503,
          3595.249326994503,
          3595.249326994503,
          3595.249326994503,
          3595.249326994503,
          3595.249326994503,
          3595.249326994503,
          3595.249326994503,
          3595.249326994503,
          3595.249326994503,
          3595.249326994503,
          3595.249326994503,
          3595.249326994503,
          3595.249326994503,
          3595.249326994503,
          3595.249326994503,
          3595.249326994503,
          3595.249326994503,
          3595.249326994503,
          3595.249326994503,
          3595.249326994503,
          3595.249326994503,
          3595.249326994503,
          3595.249326994503,
          3595.249326994503,
          3595.249326994503,
          3595.249326994503,
          3595.249326994503,
          3595.249326994503,
          3595.249326994503,
          3595.249326994503,
          3595.249326994503,
          3595.249326994503,
          3595.249326994503,
          3595.249326994503,
          3595.249326994503,
          3595.249326994503,
          3595.249326994503,
          3595.249326994503,
          3595.249326994503,
          3595.249326994503,
          3595.249326994503,
          3595.249326994503,
          3595.249326994503,
          3595.249326994503,
          3595.249326994503,
          3595.249326994503,
          3595.249326994503,
          3595.249326994503,
          3595.249326994503,
          3595.249326994503,
          3595.249326994503,
          3595.249326994503,
          3595.249326994503,
          3595.249326994503,
          3595.249326994503,
          3595.249326994503,
          3595.249326994503,
          3595.249326994503,
          3595.249326994503,
          3595.249326994503,
          3595.249326994503,
          3595.249326994503,
          3595.249326994503,
          3595.249326994503,
          3595.249326994503,
          3595.249326994503,
          3595.249326994503,
          3595.249326994503,
          3595.249326994503,
          3595.249326994503,
          3595.249326994503,
          3595.249326994503,
          3595.249326994503,
          3595.249326994503,
          3595.249326994503,
          3595.249326994503,
          3595.249326994503,
          3595.249326994503,
          3595.249326994503,
          3595.249326994503,
          3595.249326994503,
          3595.249326994503,
          3595.249326994503,
          3595.249326994503,
          3595.249326994503,
          3595.249326994503,
          3595.249326994503,
          3595.249326994503,
          3595.249326994503,
          3595.249326994503,
          3595.249326994503,
          3595.249326994503,
          3595.249326994503,
          3595.249326994503,
          3595.249326994503,
          3595.249326994503,
          3595.249326994503,
          3595.249326994503
         ]
        }
       ],
       "layout": {
        "annotations": [
         {
          "font": {
           "size": 11
          },
          "showarrow": false,
          "text": "$\\LARGE{J\\;\\mathrm{(Nmm)}^{-1}}$",
          "x": 0.5,
          "xref": "paper",
          "y": -0.22,
          "yref": "paper"
         },
         {
          "font": {
           "size": 11
          },
          "showarrow": false,
          "text": "$\\LARGE{\\sigma_\\mathrm{w}}$",
          "textangle": -90,
          "x": -0.22,
          "xref": "paper",
          "y": 0.5,
          "yref": "paper"
         },
         {
          "font": {
           "size": 11
          },
          "showarrow": false,
          "text": "$$",
          "x": 0.41,
          "xref": "paper",
          "y": 1.1,
          "yref": "paper"
         }
        ],
        "height": 350,
        "legend": {
         "x": 0.8,
         "y": 0.01
        },
        "margin": {
         "b": 80,
         "l": 80,
         "r": 20,
         "t": 40
        },
        "showlegend": true,
        "template": {
         "data": {
          "bar": [
           {
            "error_x": {
             "color": "#2a3f5f"
            },
            "error_y": {
             "color": "#2a3f5f"
            },
            "marker": {
             "line": {
              "color": "#E5ECF6",
              "width": 0.5
             }
            },
            "type": "bar"
           }
          ],
          "barpolar": [
           {
            "marker": {
             "line": {
              "color": "#E5ECF6",
              "width": 0.5
             }
            },
            "type": "barpolar"
           }
          ],
          "carpet": [
           {
            "aaxis": {
             "endlinecolor": "#2a3f5f",
             "gridcolor": "white",
             "linecolor": "white",
             "minorgridcolor": "white",
             "startlinecolor": "#2a3f5f"
            },
            "baxis": {
             "endlinecolor": "#2a3f5f",
             "gridcolor": "white",
             "linecolor": "white",
             "minorgridcolor": "white",
             "startlinecolor": "#2a3f5f"
            },
            "type": "carpet"
           }
          ],
          "choropleth": [
           {
            "colorbar": {
             "outlinewidth": 0,
             "ticks": ""
            },
            "type": "choropleth"
           }
          ],
          "contour": [
           {
            "colorbar": {
             "outlinewidth": 0,
             "ticks": ""
            },
            "colorscale": [
             [
              0,
              "#0d0887"
             ],
             [
              0.1111111111111111,
              "#46039f"
             ],
             [
              0.2222222222222222,
              "#7201a8"
             ],
             [
              0.3333333333333333,
              "#9c179e"
             ],
             [
              0.4444444444444444,
              "#bd3786"
             ],
             [
              0.5555555555555556,
              "#d8576b"
             ],
             [
              0.6666666666666666,
              "#ed7953"
             ],
             [
              0.7777777777777778,
              "#fb9f3a"
             ],
             [
              0.8888888888888888,
              "#fdca26"
             ],
             [
              1,
              "#f0f921"
             ]
            ],
            "type": "contour"
           }
          ],
          "contourcarpet": [
           {
            "colorbar": {
             "outlinewidth": 0,
             "ticks": ""
            },
            "type": "contourcarpet"
           }
          ],
          "heatmap": [
           {
            "colorbar": {
             "outlinewidth": 0,
             "ticks": ""
            },
            "colorscale": [
             [
              0,
              "#0d0887"
             ],
             [
              0.1111111111111111,
              "#46039f"
             ],
             [
              0.2222222222222222,
              "#7201a8"
             ],
             [
              0.3333333333333333,
              "#9c179e"
             ],
             [
              0.4444444444444444,
              "#bd3786"
             ],
             [
              0.5555555555555556,
              "#d8576b"
             ],
             [
              0.6666666666666666,
              "#ed7953"
             ],
             [
              0.7777777777777778,
              "#fb9f3a"
             ],
             [
              0.8888888888888888,
              "#fdca26"
             ],
             [
              1,
              "#f0f921"
             ]
            ],
            "type": "heatmap"
           }
          ],
          "heatmapgl": [
           {
            "colorbar": {
             "outlinewidth": 0,
             "ticks": ""
            },
            "colorscale": [
             [
              0,
              "#0d0887"
             ],
             [
              0.1111111111111111,
              "#46039f"
             ],
             [
              0.2222222222222222,
              "#7201a8"
             ],
             [
              0.3333333333333333,
              "#9c179e"
             ],
             [
              0.4444444444444444,
              "#bd3786"
             ],
             [
              0.5555555555555556,
              "#d8576b"
             ],
             [
              0.6666666666666666,
              "#ed7953"
             ],
             [
              0.7777777777777778,
              "#fb9f3a"
             ],
             [
              0.8888888888888888,
              "#fdca26"
             ],
             [
              1,
              "#f0f921"
             ]
            ],
            "type": "heatmapgl"
           }
          ],
          "histogram": [
           {
            "marker": {
             "colorbar": {
              "outlinewidth": 0,
              "ticks": ""
             }
            },
            "type": "histogram"
           }
          ],
          "histogram2d": [
           {
            "colorbar": {
             "outlinewidth": 0,
             "ticks": ""
            },
            "colorscale": [
             [
              0,
              "#0d0887"
             ],
             [
              0.1111111111111111,
              "#46039f"
             ],
             [
              0.2222222222222222,
              "#7201a8"
             ],
             [
              0.3333333333333333,
              "#9c179e"
             ],
             [
              0.4444444444444444,
              "#bd3786"
             ],
             [
              0.5555555555555556,
              "#d8576b"
             ],
             [
              0.6666666666666666,
              "#ed7953"
             ],
             [
              0.7777777777777778,
              "#fb9f3a"
             ],
             [
              0.8888888888888888,
              "#fdca26"
             ],
             [
              1,
              "#f0f921"
             ]
            ],
            "type": "histogram2d"
           }
          ],
          "histogram2dcontour": [
           {
            "colorbar": {
             "outlinewidth": 0,
             "ticks": ""
            },
            "colorscale": [
             [
              0,
              "#0d0887"
             ],
             [
              0.1111111111111111,
              "#46039f"
             ],
             [
              0.2222222222222222,
              "#7201a8"
             ],
             [
              0.3333333333333333,
              "#9c179e"
             ],
             [
              0.4444444444444444,
              "#bd3786"
             ],
             [
              0.5555555555555556,
              "#d8576b"
             ],
             [
              0.6666666666666666,
              "#ed7953"
             ],
             [
              0.7777777777777778,
              "#fb9f3a"
             ],
             [
              0.8888888888888888,
              "#fdca26"
             ],
             [
              1,
              "#f0f921"
             ]
            ],
            "type": "histogram2dcontour"
           }
          ],
          "mesh3d": [
           {
            "colorbar": {
             "outlinewidth": 0,
             "ticks": ""
            },
            "type": "mesh3d"
           }
          ],
          "parcoords": [
           {
            "line": {
             "colorbar": {
              "outlinewidth": 0,
              "ticks": ""
             }
            },
            "type": "parcoords"
           }
          ],
          "pie": [
           {
            "automargin": true,
            "type": "pie"
           }
          ],
          "scatter": [
           {
            "marker": {
             "colorbar": {
              "outlinewidth": 0,
              "ticks": ""
             }
            },
            "type": "scatter"
           }
          ],
          "scatter3d": [
           {
            "line": {
             "colorbar": {
              "outlinewidth": 0,
              "ticks": ""
             }
            },
            "marker": {
             "colorbar": {
              "outlinewidth": 0,
              "ticks": ""
             }
            },
            "type": "scatter3d"
           }
          ],
          "scattercarpet": [
           {
            "marker": {
             "colorbar": {
              "outlinewidth": 0,
              "ticks": ""
             }
            },
            "type": "scattercarpet"
           }
          ],
          "scattergeo": [
           {
            "marker": {
             "colorbar": {
              "outlinewidth": 0,
              "ticks": ""
             }
            },
            "type": "scattergeo"
           }
          ],
          "scattergl": [
           {
            "marker": {
             "colorbar": {
              "outlinewidth": 0,
              "ticks": ""
             }
            },
            "type": "scattergl"
           }
          ],
          "scattermapbox": [
           {
            "marker": {
             "colorbar": {
              "outlinewidth": 0,
              "ticks": ""
             }
            },
            "type": "scattermapbox"
           }
          ],
          "scatterpolar": [
           {
            "marker": {
             "colorbar": {
              "outlinewidth": 0,
              "ticks": ""
             }
            },
            "type": "scatterpolar"
           }
          ],
          "scatterpolargl": [
           {
            "marker": {
             "colorbar": {
              "outlinewidth": 0,
              "ticks": ""
             }
            },
            "type": "scatterpolargl"
           }
          ],
          "scatterternary": [
           {
            "marker": {
             "colorbar": {
              "outlinewidth": 0,
              "ticks": ""
             }
            },
            "type": "scatterternary"
           }
          ],
          "surface": [
           {
            "colorbar": {
             "outlinewidth": 0,
             "ticks": ""
            },
            "colorscale": [
             [
              0,
              "#0d0887"
             ],
             [
              0.1111111111111111,
              "#46039f"
             ],
             [
              0.2222222222222222,
              "#7201a8"
             ],
             [
              0.3333333333333333,
              "#9c179e"
             ],
             [
              0.4444444444444444,
              "#bd3786"
             ],
             [
              0.5555555555555556,
              "#d8576b"
             ],
             [
              0.6666666666666666,
              "#ed7953"
             ],
             [
              0.7777777777777778,
              "#fb9f3a"
             ],
             [
              0.8888888888888888,
              "#fdca26"
             ],
             [
              1,
              "#f0f921"
             ]
            ],
            "type": "surface"
           }
          ],
          "table": [
           {
            "cells": {
             "fill": {
              "color": "#EBF0F8"
             },
             "line": {
              "color": "white"
             }
            },
            "header": {
             "fill": {
              "color": "#C8D4E3"
             },
             "line": {
              "color": "white"
             }
            },
            "type": "table"
           }
          ]
         },
         "layout": {
          "annotationdefaults": {
           "arrowcolor": "#2a3f5f",
           "arrowhead": 0,
           "arrowwidth": 1
          },
          "autotypenumbers": "strict",
          "coloraxis": {
           "colorbar": {
            "outlinewidth": 0,
            "ticks": ""
           }
          },
          "colorscale": {
           "diverging": [
            [
             0,
             "#8e0152"
            ],
            [
             0.1,
             "#c51b7d"
            ],
            [
             0.2,
             "#de77ae"
            ],
            [
             0.3,
             "#f1b6da"
            ],
            [
             0.4,
             "#fde0ef"
            ],
            [
             0.5,
             "#f7f7f7"
            ],
            [
             0.6,
             "#e6f5d0"
            ],
            [
             0.7,
             "#b8e186"
            ],
            [
             0.8,
             "#7fbc41"
            ],
            [
             0.9,
             "#4d9221"
            ],
            [
             1,
             "#276419"
            ]
           ],
           "sequential": [
            [
             0,
             "#0d0887"
            ],
            [
             0.1111111111111111,
             "#46039f"
            ],
            [
             0.2222222222222222,
             "#7201a8"
            ],
            [
             0.3333333333333333,
             "#9c179e"
            ],
            [
             0.4444444444444444,
             "#bd3786"
            ],
            [
             0.5555555555555556,
             "#d8576b"
            ],
            [
             0.6666666666666666,
             "#ed7953"
            ],
            [
             0.7777777777777778,
             "#fb9f3a"
            ],
            [
             0.8888888888888888,
             "#fdca26"
            ],
            [
             1,
             "#f0f921"
            ]
           ],
           "sequentialminus": [
            [
             0,
             "#0d0887"
            ],
            [
             0.1111111111111111,
             "#46039f"
            ],
            [
             0.2222222222222222,
             "#7201a8"
            ],
            [
             0.3333333333333333,
             "#9c179e"
            ],
            [
             0.4444444444444444,
             "#bd3786"
            ],
            [
             0.5555555555555556,
             "#d8576b"
            ],
            [
             0.6666666666666666,
             "#ed7953"
            ],
            [
             0.7777777777777778,
             "#fb9f3a"
            ],
            [
             0.8888888888888888,
             "#fdca26"
            ],
            [
             1,
             "#f0f921"
            ]
           ]
          },
          "colorway": [
           "#636efa",
           "#EF553B",
           "#00cc96",
           "#ab63fa",
           "#FFA15A",
           "#19d3f3",
           "#FF6692",
           "#B6E880",
           "#FF97FF",
           "#FECB52"
          ],
          "font": {
           "color": "#2a3f5f"
          },
          "geo": {
           "bgcolor": "white",
           "lakecolor": "white",
           "landcolor": "#E5ECF6",
           "showlakes": true,
           "showland": true,
           "subunitcolor": "white"
          },
          "hoverlabel": {
           "align": "left"
          },
          "hovermode": "closest",
          "mapbox": {
           "style": "light"
          },
          "paper_bgcolor": "white",
          "plot_bgcolor": "#E5ECF6",
          "polar": {
           "angularaxis": {
            "gridcolor": "white",
            "linecolor": "white",
            "ticks": ""
           },
           "bgcolor": "#E5ECF6",
           "radialaxis": {
            "gridcolor": "white",
            "linecolor": "white",
            "ticks": ""
           }
          },
          "scene": {
           "xaxis": {
            "backgroundcolor": "#E5ECF6",
            "gridcolor": "white",
            "gridwidth": 2,
            "linecolor": "white",
            "showbackground": true,
            "ticks": "",
            "zerolinecolor": "white"
           },
           "yaxis": {
            "backgroundcolor": "#E5ECF6",
            "gridcolor": "white",
            "gridwidth": 2,
            "linecolor": "white",
            "showbackground": true,
            "ticks": "",
            "zerolinecolor": "white"
           },
           "zaxis": {
            "backgroundcolor": "#E5ECF6",
            "gridcolor": "white",
            "gridwidth": 2,
            "linecolor": "white",
            "showbackground": true,
            "ticks": "",
            "zerolinecolor": "white"
           }
          },
          "shapedefaults": {
           "line": {
            "color": "#2a3f5f"
           }
          },
          "ternary": {
           "aaxis": {
            "gridcolor": "white",
            "linecolor": "white",
            "ticks": ""
           },
           "baxis": {
            "gridcolor": "white",
            "linecolor": "white",
            "ticks": ""
           },
           "bgcolor": "#E5ECF6",
           "caxis": {
            "gridcolor": "white",
            "linecolor": "white",
            "ticks": ""
           }
          },
          "title": {
           "x": 0.05
          },
          "xaxis": {
           "automargin": true,
           "gridcolor": "white",
           "linecolor": "white",
           "ticks": "",
           "title": {
            "standoff": 15
           },
           "zerolinecolor": "white",
           "zerolinewidth": 2
          },
          "yaxis": {
           "automargin": true,
           "gridcolor": "white",
           "linecolor": "white",
           "ticks": "",
           "title": {
            "standoff": 15
           },
           "zerolinecolor": "white",
           "zerolinewidth": 2
          }
         }
        },
        "width": 500,
        "xaxis": {
         "mirror": "all",
         "showline": true,
         "title": {
          "font": {
           "size": 13
          }
         },
         "zeroline": false
        },
        "yaxis": {
         "mirror": "all",
         "showline": true,
         "title": {
          "font": {
           "size": 13
          }
         },
         "zeroline": false
        }
       }
      },
      "text/html": [
       "<div>                            <div id=\"f8f3a4fb-afa8-4416-80b2-b848ac8342d9\" class=\"plotly-graph-div\" style=\"height:350px; width:500px;\"></div>            <script type=\"text/javascript\">                require([\"plotly\"], function(Plotly) {                    window.PLOTLYENV=window.PLOTLYENV || {};                                    if (document.getElementById(\"f8f3a4fb-afa8-4416-80b2-b848ac8342d9\")) {                    Plotly.newPlot(                        \"f8f3a4fb-afa8-4416-80b2-b848ac8342d9\",                        [{\"line\": {\"color\": \"black\", \"dash\": \"solid\", \"width\": 2}, \"mode\": \"lines\", \"name\": \"T = -91\\u00b0C\", \"type\": \"scatter\", \"uid\": \"e7280544-569c-495b-a58f-db9f31b0b418\", \"x\": [0.115698337555, 0.260338902473, 0.462844640017, 0.723201870918, 1.0413916111, 1.41738843918, 1.8511531353, 2.34265327454, 2.89188027382, 3.49874424934, 4.16319656372, 4.88532924652, 5.6650261879, 6.50230073929, 7.39715242386, 8.34968280792, 9.35976886749, 10.4275512695, 11.5532798767, 12.7366924286, 13.9783153534, 15.2781858444, 16.6360569, 18.0529785156, 19.5280799866, 21.0627822876, 22.6562213898, 24.3087234497, 26.0200214386, 27.7887744904, 29.6151733398, 31.5005283356, 33.4433937073, 35.4459915161, 37.5080604553, 39.6281471252, 41.8096351624, 44.0500984192, 46.3443031311, 48.6949882507, 51.1016235352, 53.5655479431, 56.0808105469, 58.6458435059, 61.2635421753, 63.9311790466, 66.6494064331, 69.4313201904, 72.2623291016, 72.3144683838, 72.3590393066, 72.4034729004, 72.4702682495, 72.5705413818, 72.7211761475, 72.9472045898, 73.2865066528, 73.795425415, 74.5604400635, 75.7085647583, 77.4429092407, 80.0786437988, 80.1331558228, 80.2023468018, 80.3061447144, 80.462020874, 80.6963119507, 81.048576355, 81.5787963867, 82.3776855469, 83.5811386108, 85.3967819214, 88.1395187378, 88.1960830688, 88.2678604126, 88.3758621216, 88.5380477905, 88.7816009521, 89.147102356, 89.6970901489, 90.5262985229, 91.7776031494, 93.6670532227, 96.5374755859, 96.5973587036, 96.6726913452, 96.7853546143, 96.9547653198, 97.2091522217, 97.5916366577, 98.166053772, 99.03074646, 100.339012146, 102.32346344, 105.34589386, 105.408500671, 105.487579346, 105.606735229, 105.786094666, 106.054298401, 106.457695007, 107.063247681, 107.975448608, 109.345672607, 111.417732239, 111.619148254, 111.911865234, 112.351303101, 113.012252808, 114.005645752, 115.501480103, 117.76423645, 117.824699402, 117.878089905, 117.931419373, 118.011329651, 118.131332397, 118.311355591, 118.581512451, 118.987037659, 119.596694946], \"y\": [0.0, 0.0, 1662.0425192238067, 1758.4810329688064, 2093.665641733161, 2205.581753123157, 2295.46041338779, 2403.4377938649973, 2483.200430075075, 2545.622805735457, 2620.897430213448, 2679.9312261175583, 2728.0890220288175, 2788.3167467352328, 2833.661173863511, 2874.4871321797405, 2911.548327978512, 2962.892892129461, 2998.7750153382344, 3030.9831896967116, 3074.6757339620735, 3106.4168999646226, 3135.363204167038, 3169.442443316871, 3200.872950599576, 3227.6898054779854, 3253.582070849321, 3284.9974183750965, 3308.868011716797, 3332.671873360097, 3357.9869033145783, 3381.242001240575, 3404.254613679157, 3425.416039773245, 3446.600768587834, 3467.354916955075, 3486.421555199937, 3506.3875835476138, 3524.9334486206603, 3542.4541951133133, 3560.7095639734957, 3577.3707203685753, 3593.454893799577, 3609.8928755161382, 3625.2951872061653, 3640.6621082684105, 3655.5670533785424, 3669.9082133122915, 3684.0044490013647, 3684.3183530572387, 3684.5127177188315, 3684.713084816306, 3685.016742259199, 3685.4739206470877, 3686.161392295811, 3687.1881337359737, 3688.719715468008, 3691.168988982197, 3694.738300332146, 3699.9028167826664, 3707.5174007106866, 3718.746526118067, 3719.0237961386224, 3719.287225232087, 3719.6804042613353, 3720.2824328123857, 3721.190566511677, 3722.6422223876402, 3724.7152473443102, 3727.7963797927528, 3732.57215013383, 3739.45677131761, 3749.533889530604, 3749.7460230920756, 3750.0728730091046, 3750.4359467267973, 3751.0018329836435, 3751.850678085143, 3753.1303867365764, 3755.1793016861616, 3758.105340839625, 3762.341577231252, 3768.8170574876613, 3778.1508042209366, 3778.340200886976, 3778.5564288772775, 3778.904394676219, 3779.4309153059703, 3780.2044001191575, 3781.3860581018193, 3783.2333115207707, 3785.9092392427083, 3789.9775131759015, 3795.9099462038794, 3804.668086062443, 3804.832263627255, 3804.9983180993095, 3805.299856200637, 3805.7809546174553, 3806.508651550165, 3807.6178505714565, 3809.2743705909234, 3811.8370322497512, 3815.588682833158, 3821.0743284522396, 3821.5486668275994, 3822.2918893593196, 3823.4144660235825, 3825.14349612078, 3827.6975117688717, 3831.4794766269542, 3837.113491559724, 3837.2703533623708, 3837.385292783325, 3837.511249676417, 3837.70410233127, 3837.9907102937814, 3838.4224861907237, 3839.108219477037, 3840.0905356708895, 3841.5591830794338]}, {\"line\": {\"color\": \"blue\", \"dash\": \"solid\", \"width\": 2}, \"mode\": \"lines\", \"name\": \"T = -60\\u00b0C\", \"type\": \"scatter\", \"uid\": \"dc2cd7c3-050d-47d6-9241-60c0149192ec\", \"x\": [0.260264933109, 0.462675571442, 0.722916841507, 1.04088020325, 1.41660559177, 1.84996175766, 2.34093403816, 2.88945651054, 3.49548697472, 4.15896987915, 4.87987756729, 5.65815830231, 6.49382162094, 7.3868637085, 8.337266922, 9.34507083893, 10.4104423523, 11.533367157, 12.7142162323, 13.9527130127, 15.2493076324, 16.6042823792, 18.0177688599, 19.4895629883, 21.0208816528, 22.6110057831, 24.2600402832, 25.9664897919, 27.7267971039, 29.5445709229, 31.4192276001, 33.3480453491, 35.3357048035, 37.3792228699, 39.4819259644, 41.6393966675, 43.8539237976, 46.1201057434, 48.4417304993, 50.8184661865, 53.2501831055, 55.7308349609, 58.263458252, 60.8368263245, 63.4373474121, 66.0624237061, 68.7168960571, 71.4187698364, 74.1615524292, 76.9486999512, 79.7900695801, 82.6758041382, 85.6066055298, 88.5867767334, 91.6195907593, 94.6997756958, 97.8332672119, 100.995506287, 104.183174133, 107.408676147, 110.669548035, 113.964439392, 117.293388367, 120.655036926, 124.052993774, 127.490730286, 130.976486206, 134.507751465, 138.082199097, 141.702056885, 145.361480713, 149.064041138, 152.803588867, 156.577560425, 160.395187378, 164.257629395, 168.166366577, 172.11328125, 176.090362549, 180.102325439, 184.151733398, 188.236740112, 192.351501465, 196.502914429, 200.688583374, 204.902633667, 209.144500732], \"y\": [0.0, 0.0, 1770.591382440949, 1940.313568287826, 2057.6076299549936, 2149.149343850524, 2219.7656208956028, 2275.929636607084, 2326.5853402110774, 2383.9112787110757, 2478.802271900133, 2540.418553300874, 2591.5028713217407, 2640.609072882217, 2683.1922984348553, 2726.514302884289, 2760.9198976929847, 2804.1768220422246, 2845.1971739540922, 2876.1476792247636, 2908.8434006590664, 2936.317074675672, 2966.789993697945, 2994.056333484506, 3024.9121405784435, 3050.211388723973, 3074.6178341123064, 3100.440037602119, 3123.9879344685223, 3147.8105166049813, 3170.3599840196803, 3191.1774361717776, 3212.701322794133, 3232.2490845732123, 3252.396211816882, 3270.684106608042, 3288.2633229495486, 3306.1540608461646, 3322.8490360422056, 3339.635823135496, 3355.8973457915895, 3371.880748782414, 3387.483128737358, 3402.4119309563675, 3416.7176546087476, 3430.1336655016144, 3443.066879967492, 3455.4972446159777, 3467.4357676885434, 3478.900864740926, 3489.9811822260435, 3500.765150148444, 3511.272806028831, 3521.529004116199, 3531.5147058033767, 3541.3719850897637, 3551.00472100844, 3560.4175042221805, 3569.510023698896, 3578.3224683918224, 3586.9281811822884, 3595.249326994503, 3603.3719925742666, 3611.284103839043, 3619.036069541379, 3626.660022330244, 3634.2079031961107, 3641.6366362033805, 3648.908848621478, 3656.043662552669, 3663.0141299605734, 3669.8335134622585, 3676.486005920968, 3683.0040328648106, 3689.4252880678596, 3695.7661882670445, 3702.055113795824, 3708.265609864583, 3714.364587928432, 3720.368052013286, 3726.2845819685986, 3732.1006659860745, 3737.815782701392, 3743.528345160718, 3749.213142456576, 3754.8308135768916, 3760.3850628821256]}, {\"line\": {\"color\": \"green\", \"dash\": \"solid\", \"width\": 2}, \"mode\": \"lines\", \"name\": \"T = -40\\u00b0C\", \"type\": \"scatter\", \"uid\": \"b53023db-8398-400a-9a42-c41babc77034\", \"x\": [0.256513297558, 0.577115416527, 1.02571594715, 1.60218751431, 2.3061709404, 3.13781690598, 4.09654188156, 5.182513237, 6.39557027817, 7.73576974869, 9.20316505432, 10.798204422, 12.5211801529, 14.37271595, 16.3538303375, 18.4647254944, 20.7068767548, 23.0804634094, 25.5852451324, 28.2205066681, 30.9811096191, 33.8687286377, 36.8777542114, 40.0129470825, 43.2747955322, 46.6620521545, 50.1710205078, 53.7910079956, 57.5207939148, 61.3296508789, 65.2536392212, 69.2781066895, 73.419883728, 77.6879348755, 82.0928497314, 86.632484436, 91.2769851685, 95.9990997314, 100.799934387, 105.691932678, 110.682525635, 115.769340515, 120.960014343, 126.246871948, 131.642868042, 137.153366089, 142.774917603, 148.487136841, 154.304244995, 160.217163086, 166.211715698, 172.28994751, 178.453857422, 184.704223633, 191.022460938, 197.407806396, 203.853469849, 210.355682373, 216.914779663, 223.516296387, 230.164703369, 236.860244751, 243.600128174, 250.373550415, 257.177856445, 264.017669678, 270.890258789, 277.795288086, 284.73236084, 291.703369141, 298.705444336, 305.73550415, 312.79486084, 319.884490967, 327.001251221, 334.14666748, 341.313781738, 348.506256104, 355.719696045, 362.953033447, 370.205718994, 377.479125977, 384.768188477, 392.071380615, 399.388214111, 406.720031738, 414.067108154, 421.430877686, 428.809570313, 436.20111084, 443.604705811, 451.019439697, 458.44354248], \"y\": [0.0, 0.0, 1762.2646930220114, 1954.3735465901677, 2078.347698299432, 2164.0690557334265, 2230.8547690269897, 2285.8990292866506, 2453.857916764073, 2535.695538749219, 2606.2516714590465, 2668.1573048078603, 2716.9261898074496, 2758.436674945738, 2805.804568481341, 2840.6240836717666, 2895.0519499337765, 2930.644895762458, 2965.1692218315206, 2998.6344567112105, 3032.422658611994, 3066.310007020896, 3096.127130353527, 3125.9846136700603, 3157.3284473852027, 3184.7059431562843, 3209.2135320363327, 3232.7563363942013, 3256.4614324305794, 3276.4775846255347, 3295.4423028248516, 3313.8761617277296, 3330.229811240077, 3346.123195319851, 3361.058942248536, 3375.4387935820364, 3389.2617750334134, 3402.4558129487064, 3415.0822892638794, 3427.203279935721, 3439.0786180578934, 3450.7598504580137, 3462.312532973001, 3473.6562234958233, 3484.7257458792005, 3495.456614073892, 3505.8361006621517, 3515.8658778280565, 3525.58958314011, 3535.066346246493, 3544.272681610836, 3553.165255240478, 3561.783619135356, 3570.3061326753136, 3578.5958633426208, 3586.560611073934, 3594.3090558115955, 3601.7766377432868, 3609.0635076577596, 3616.1886652001504, 3623.273457170976, 3630.2959176843947, 3637.322114414453, 3644.244155391712, 3651.036970391298, 3657.6757162733156, 3664.223825433118, 3670.605077281703, 3676.83524630466, 3682.9288687251687, 3688.8685468208564, 3694.644646251835, 3700.2714236738348, 3705.7650580437885, 3711.1217078188597, 3716.3315243788666, 3721.3901827403397, 3726.321764620819, 3731.1606548563, 3735.921978589968, 3740.596207577082, 3745.1969586715327, 3749.713693251903, 3754.1473305346835, 3758.501885972324, 3762.7832230345775, 3766.9896472287487, 3771.123605105947, 3775.173023294207, 3779.141508653323, 3783.0315636510645, 3786.839723953149, 3790.5640296352426]}, {\"line\": {\"color\": \"grey\", \"dash\": \"dash\"}, \"name\": \"$\\\\mathrm{prediction\\\\;based\\\\;on}\\\\;J_0^{T = -91\\\\mathrm{\\u00b0C}}$\", \"type\": \"scatter\", \"uid\": \"d802d5ce-c94b-4356-8ad7-91e7d16db609\", \"x\": [0.0, 9.183673469387756, 18.367346938775512, 27.551020408163268, 36.734693877551024, 45.91836734693878, 55.102040816326536, 64.28571428571429, 73.46938775510205, 82.6530612244898, 91.83673469387756, 101.02040816326532, 110.20408163265307, 119.38775510204083, 128.57142857142858, 137.75510204081633, 146.9387755102041, 156.12244897959187, 165.3061224489796, 174.48979591836735, 183.67346938775512, 192.8571428571429, 202.04081632653063, 211.22448979591837, 220.40816326530614, 229.5918367346939, 238.77551020408166, 247.9591836734694, 257.14285714285717, 266.32653061224494, 275.51020408163265, 284.6938775510204, 293.8775510204082, 303.06122448979596, 312.24489795918373, 321.42857142857144, 330.6122448979592, 339.795918367347, 348.9795918367347, 358.16326530612247, 367.34693877551024, 376.530612244898, 385.7142857142858, 394.8979591836735, 404.08163265306126, 413.26530612244903, 422.44897959183675, 431.6326530612245, 440.8163265306123, 450.0], \"y\": [3595.249326994503, 3595.249326994503, 3595.249326994503, 3595.249326994503, 3595.249326994503, 3595.249326994503, 3595.249326994503, 3595.249326994503, 3595.249326994503, 3595.249326994503, 3595.249326994503, 3595.249326994503, 3595.249326994503, 3595.249326994503, 3595.249326994503, 3595.249326994503, 3595.249326994503, 3595.249326994503, 3595.249326994503, 3595.249326994503, 3595.249326994503, 3595.249326994503, 3595.249326994503, 3595.249326994503, 3595.249326994503, 3595.249326994503, 3595.249326994503, 3595.249326994503, 3595.249326994503, 3595.249326994503, 3595.249326994503, 3595.249326994503, 3595.249326994503, 3595.249326994503, 3595.249326994503, 3595.249326994503, 3595.249326994503, 3595.249326994503, 3595.249326994503, 3595.249326994503, 3595.249326994503, 3595.249326994503, 3595.249326994503, 3595.249326994503, 3595.249326994503, 3595.249326994503, 3595.249326994503, 3595.249326994503, 3595.249326994503, 3595.249326994503, 3595.249326994503, 3595.249326994503, 3595.249326994503, 3595.249326994503, 3595.249326994503, 3595.249326994503, 3595.249326994503, 3595.249326994503, 3595.249326994503, 3595.249326994503, 3595.249326994503, 3595.249326994503, 3595.249326994503, 3595.249326994503, 3595.249326994503, 3595.249326994503, 3595.249326994503, 3595.249326994503, 3595.249326994503, 3595.249326994503, 3595.249326994503, 3595.249326994503, 3595.249326994503, 3595.249326994503, 3595.249326994503, 3595.249326994503, 3595.249326994503, 3595.249326994503, 3595.249326994503, 3595.249326994503, 3595.249326994503, 3595.249326994503, 3595.249326994503, 3595.249326994503, 3595.249326994503, 3595.249326994503, 3595.249326994503, 3595.249326994503, 3595.249326994503, 3595.249326994503, 3595.249326994503, 3595.249326994503, 3595.249326994503, 3595.249326994503, 3595.249326994503, 3595.249326994503, 3595.249326994503, 3595.249326994503, 3595.249326994503, 3595.249326994503, 3595.249326994503, 3595.249326994503, 3595.249326994503, 3595.249326994503, 3595.249326994503, 3595.249326994503, 3595.249326994503, 3595.249326994503, 3595.249326994503, 3595.249326994503, 3595.249326994503, 3595.249326994503, 3595.249326994503, 3595.249326994503, 3595.249326994503, 3595.249326994503, 3595.249326994503, 3595.249326994503, 3595.249326994503, 3595.249326994503]}],                        {\"annotations\": [{\"font\": {\"size\": 11}, \"showarrow\": false, \"text\": \"$\\\\LARGE{J\\\\;\\\\mathrm{(Nmm)}^{-1}}$\", \"x\": 0.5, \"xref\": \"paper\", \"y\": -0.22, \"yref\": \"paper\"}, {\"font\": {\"size\": 11}, \"showarrow\": false, \"text\": \"$\\\\LARGE{\\\\sigma_\\\\mathrm{w}}$\", \"textangle\": -90, \"x\": -0.22, \"xref\": \"paper\", \"y\": 0.5, \"yref\": \"paper\"}, {\"font\": {\"size\": 11}, \"showarrow\": false, \"text\": \"$$\", \"x\": 0.41, \"xref\": \"paper\", \"y\": 1.1, \"yref\": \"paper\"}], \"height\": 350, \"legend\": {\"x\": 0.8, \"y\": 0.01}, \"margin\": {\"b\": 80, \"l\": 80, \"r\": 20, \"t\": 40}, \"showlegend\": true, \"template\": {\"data\": {\"bar\": [{\"error_x\": {\"color\": \"#2a3f5f\"}, \"error_y\": {\"color\": \"#2a3f5f\"}, \"marker\": {\"line\": {\"color\": \"#E5ECF6\", \"width\": 0.5}}, \"type\": \"bar\"}], \"barpolar\": [{\"marker\": {\"line\": {\"color\": \"#E5ECF6\", \"width\": 0.5}}, \"type\": \"barpolar\"}], \"carpet\": [{\"aaxis\": {\"endlinecolor\": \"#2a3f5f\", \"gridcolor\": \"white\", \"linecolor\": \"white\", \"minorgridcolor\": \"white\", \"startlinecolor\": \"#2a3f5f\"}, \"baxis\": {\"endlinecolor\": \"#2a3f5f\", \"gridcolor\": \"white\", \"linecolor\": \"white\", \"minorgridcolor\": \"white\", \"startlinecolor\": \"#2a3f5f\"}, \"type\": \"carpet\"}], \"choropleth\": [{\"colorbar\": {\"outlinewidth\": 0, \"ticks\": \"\"}, \"type\": \"choropleth\"}], \"contour\": [{\"colorbar\": {\"outlinewidth\": 0, \"ticks\": \"\"}, \"colorscale\": [[0.0, \"#0d0887\"], [0.1111111111111111, \"#46039f\"], [0.2222222222222222, \"#7201a8\"], [0.3333333333333333, \"#9c179e\"], [0.4444444444444444, \"#bd3786\"], [0.5555555555555556, \"#d8576b\"], [0.6666666666666666, \"#ed7953\"], [0.7777777777777778, \"#fb9f3a\"], [0.8888888888888888, \"#fdca26\"], [1.0, \"#f0f921\"]], \"type\": \"contour\"}], \"contourcarpet\": [{\"colorbar\": {\"outlinewidth\": 0, \"ticks\": \"\"}, \"type\": \"contourcarpet\"}], \"heatmap\": [{\"colorbar\": {\"outlinewidth\": 0, \"ticks\": \"\"}, \"colorscale\": [[0.0, \"#0d0887\"], [0.1111111111111111, \"#46039f\"], [0.2222222222222222, \"#7201a8\"], [0.3333333333333333, \"#9c179e\"], [0.4444444444444444, \"#bd3786\"], [0.5555555555555556, \"#d8576b\"], [0.6666666666666666, \"#ed7953\"], [0.7777777777777778, \"#fb9f3a\"], [0.8888888888888888, \"#fdca26\"], [1.0, \"#f0f921\"]], \"type\": \"heatmap\"}], \"heatmapgl\": [{\"colorbar\": {\"outlinewidth\": 0, \"ticks\": \"\"}, \"colorscale\": [[0.0, \"#0d0887\"], [0.1111111111111111, \"#46039f\"], [0.2222222222222222, \"#7201a8\"], [0.3333333333333333, \"#9c179e\"], [0.4444444444444444, \"#bd3786\"], [0.5555555555555556, \"#d8576b\"], [0.6666666666666666, \"#ed7953\"], [0.7777777777777778, \"#fb9f3a\"], [0.8888888888888888, \"#fdca26\"], [1.0, \"#f0f921\"]], \"type\": \"heatmapgl\"}], \"histogram\": [{\"marker\": {\"colorbar\": {\"outlinewidth\": 0, \"ticks\": \"\"}}, \"type\": \"histogram\"}], \"histogram2d\": [{\"colorbar\": {\"outlinewidth\": 0, \"ticks\": \"\"}, \"colorscale\": [[0.0, \"#0d0887\"], [0.1111111111111111, \"#46039f\"], [0.2222222222222222, \"#7201a8\"], [0.3333333333333333, \"#9c179e\"], [0.4444444444444444, \"#bd3786\"], [0.5555555555555556, \"#d8576b\"], [0.6666666666666666, \"#ed7953\"], [0.7777777777777778, \"#fb9f3a\"], [0.8888888888888888, \"#fdca26\"], [1.0, \"#f0f921\"]], \"type\": \"histogram2d\"}], \"histogram2dcontour\": [{\"colorbar\": {\"outlinewidth\": 0, \"ticks\": \"\"}, \"colorscale\": [[0.0, \"#0d0887\"], [0.1111111111111111, \"#46039f\"], [0.2222222222222222, \"#7201a8\"], [0.3333333333333333, \"#9c179e\"], [0.4444444444444444, \"#bd3786\"], [0.5555555555555556, \"#d8576b\"], [0.6666666666666666, \"#ed7953\"], [0.7777777777777778, \"#fb9f3a\"], [0.8888888888888888, \"#fdca26\"], [1.0, \"#f0f921\"]], \"type\": \"histogram2dcontour\"}], \"mesh3d\": [{\"colorbar\": {\"outlinewidth\": 0, \"ticks\": \"\"}, \"type\": \"mesh3d\"}], \"parcoords\": [{\"line\": {\"colorbar\": {\"outlinewidth\": 0, \"ticks\": \"\"}}, \"type\": \"parcoords\"}], \"pie\": [{\"automargin\": true, \"type\": \"pie\"}], \"scatter\": [{\"marker\": {\"colorbar\": {\"outlinewidth\": 0, \"ticks\": \"\"}}, \"type\": \"scatter\"}], \"scatter3d\": [{\"line\": {\"colorbar\": {\"outlinewidth\": 0, \"ticks\": \"\"}}, \"marker\": {\"colorbar\": {\"outlinewidth\": 0, \"ticks\": \"\"}}, \"type\": \"scatter3d\"}], \"scattercarpet\": [{\"marker\": {\"colorbar\": {\"outlinewidth\": 0, \"ticks\": \"\"}}, \"type\": \"scattercarpet\"}], \"scattergeo\": [{\"marker\": {\"colorbar\": {\"outlinewidth\": 0, \"ticks\": \"\"}}, \"type\": \"scattergeo\"}], \"scattergl\": [{\"marker\": {\"colorbar\": {\"outlinewidth\": 0, \"ticks\": \"\"}}, \"type\": \"scattergl\"}], \"scattermapbox\": [{\"marker\": {\"colorbar\": {\"outlinewidth\": 0, \"ticks\": \"\"}}, \"type\": \"scattermapbox\"}], \"scatterpolar\": [{\"marker\": {\"colorbar\": {\"outlinewidth\": 0, \"ticks\": \"\"}}, \"type\": \"scatterpolar\"}], \"scatterpolargl\": [{\"marker\": {\"colorbar\": {\"outlinewidth\": 0, \"ticks\": \"\"}}, \"type\": \"scatterpolargl\"}], \"scatterternary\": [{\"marker\": {\"colorbar\": {\"outlinewidth\": 0, \"ticks\": \"\"}}, \"type\": \"scatterternary\"}], \"surface\": [{\"colorbar\": {\"outlinewidth\": 0, \"ticks\": \"\"}, \"colorscale\": [[0.0, \"#0d0887\"], [0.1111111111111111, \"#46039f\"], [0.2222222222222222, \"#7201a8\"], [0.3333333333333333, \"#9c179e\"], [0.4444444444444444, \"#bd3786\"], [0.5555555555555556, \"#d8576b\"], [0.6666666666666666, \"#ed7953\"], [0.7777777777777778, \"#fb9f3a\"], [0.8888888888888888, \"#fdca26\"], [1.0, \"#f0f921\"]], \"type\": \"surface\"}], \"table\": [{\"cells\": {\"fill\": {\"color\": \"#EBF0F8\"}, \"line\": {\"color\": \"white\"}}, \"header\": {\"fill\": {\"color\": \"#C8D4E3\"}, \"line\": {\"color\": \"white\"}}, \"type\": \"table\"}]}, \"layout\": {\"annotationdefaults\": {\"arrowcolor\": \"#2a3f5f\", \"arrowhead\": 0, \"arrowwidth\": 1}, \"autotypenumbers\": \"strict\", \"coloraxis\": {\"colorbar\": {\"outlinewidth\": 0, \"ticks\": \"\"}}, \"colorscale\": {\"diverging\": [[0, \"#8e0152\"], [0.1, \"#c51b7d\"], [0.2, \"#de77ae\"], [0.3, \"#f1b6da\"], [0.4, \"#fde0ef\"], [0.5, \"#f7f7f7\"], [0.6, \"#e6f5d0\"], [0.7, \"#b8e186\"], [0.8, \"#7fbc41\"], [0.9, \"#4d9221\"], [1, \"#276419\"]], \"sequential\": [[0.0, \"#0d0887\"], [0.1111111111111111, \"#46039f\"], [0.2222222222222222, \"#7201a8\"], [0.3333333333333333, \"#9c179e\"], [0.4444444444444444, \"#bd3786\"], [0.5555555555555556, \"#d8576b\"], [0.6666666666666666, \"#ed7953\"], [0.7777777777777778, \"#fb9f3a\"], [0.8888888888888888, \"#fdca26\"], [1.0, \"#f0f921\"]], \"sequentialminus\": [[0.0, \"#0d0887\"], [0.1111111111111111, \"#46039f\"], [0.2222222222222222, \"#7201a8\"], [0.3333333333333333, \"#9c179e\"], [0.4444444444444444, \"#bd3786\"], [0.5555555555555556, \"#d8576b\"], [0.6666666666666666, \"#ed7953\"], [0.7777777777777778, \"#fb9f3a\"], [0.8888888888888888, \"#fdca26\"], [1.0, \"#f0f921\"]]}, \"colorway\": [\"#636efa\", \"#EF553B\", \"#00cc96\", \"#ab63fa\", \"#FFA15A\", \"#19d3f3\", \"#FF6692\", \"#B6E880\", \"#FF97FF\", \"#FECB52\"], \"font\": {\"color\": \"#2a3f5f\"}, \"geo\": {\"bgcolor\": \"white\", \"lakecolor\": \"white\", \"landcolor\": \"#E5ECF6\", \"showlakes\": true, \"showland\": true, \"subunitcolor\": \"white\"}, \"hoverlabel\": {\"align\": \"left\"}, \"hovermode\": \"closest\", \"mapbox\": {\"style\": \"light\"}, \"paper_bgcolor\": \"white\", \"plot_bgcolor\": \"#E5ECF6\", \"polar\": {\"angularaxis\": {\"gridcolor\": \"white\", \"linecolor\": \"white\", \"ticks\": \"\"}, \"bgcolor\": \"#E5ECF6\", \"radialaxis\": {\"gridcolor\": \"white\", \"linecolor\": \"white\", \"ticks\": \"\"}}, \"scene\": {\"xaxis\": {\"backgroundcolor\": \"#E5ECF6\", \"gridcolor\": \"white\", \"gridwidth\": 2, \"linecolor\": \"white\", \"showbackground\": true, \"ticks\": \"\", \"zerolinecolor\": \"white\"}, \"yaxis\": {\"backgroundcolor\": \"#E5ECF6\", \"gridcolor\": \"white\", \"gridwidth\": 2, \"linecolor\": \"white\", \"showbackground\": true, \"ticks\": \"\", \"zerolinecolor\": \"white\"}, \"zaxis\": {\"backgroundcolor\": \"#E5ECF6\", \"gridcolor\": \"white\", \"gridwidth\": 2, \"linecolor\": \"white\", \"showbackground\": true, \"ticks\": \"\", \"zerolinecolor\": \"white\"}}, \"shapedefaults\": {\"line\": {\"color\": \"#2a3f5f\"}}, \"ternary\": {\"aaxis\": {\"gridcolor\": \"white\", \"linecolor\": \"white\", \"ticks\": \"\"}, \"baxis\": {\"gridcolor\": \"white\", \"linecolor\": \"white\", \"ticks\": \"\"}, \"bgcolor\": \"#E5ECF6\", \"caxis\": {\"gridcolor\": \"white\", \"linecolor\": \"white\", \"ticks\": \"\"}}, \"title\": {\"x\": 0.05}, \"xaxis\": {\"automargin\": true, \"gridcolor\": \"white\", \"linecolor\": \"white\", \"ticks\": \"\", \"title\": {\"standoff\": 15}, \"zerolinecolor\": \"white\", \"zerolinewidth\": 2}, \"yaxis\": {\"automargin\": true, \"gridcolor\": \"white\", \"linecolor\": \"white\", \"ticks\": \"\", \"title\": {\"standoff\": 15}, \"zerolinecolor\": \"white\", \"zerolinewidth\": 2}}}, \"width\": 500, \"xaxis\": {\"mirror\": \"all\", \"showline\": true, \"title\": {\"font\": {\"size\": 13}}, \"zeroline\": false}, \"yaxis\": {\"mirror\": \"all\", \"showline\": true, \"title\": {\"font\": {\"size\": 13}}, \"zeroline\": false}},                        {\"responsive\": true}                    ).then(function(){\n",
       "                            \n",
       "var gd = document.getElementById('f8f3a4fb-afa8-4416-80b2-b848ac8342d9');\n",
       "var x = new MutationObserver(function (mutations, observer) {{\n",
       "        var display = window.getComputedStyle(gd).display;\n",
       "        if (!display || display === 'none') {{\n",
       "            console.log([gd, 'removed!']);\n",
       "            Plotly.purge(gd);\n",
       "            observer.disconnect();\n",
       "        }}\n",
       "}});\n",
       "\n",
       "// Listen for the removal of the full notebook cells\n",
       "var notebookContainer = gd.closest('#notebook-container');\n",
       "if (notebookContainer) {{\n",
       "    x.observe(notebookContainer, {childList: true});\n",
       "}}\n",
       "\n",
       "// Listen for the clearing of the current output cell\n",
       "var outputEl = gd.closest('.output');\n",
       "if (outputEl) {{\n",
       "    x.observe(outputEl, {childList: true});\n",
       "}}\n",
       "\n",
       "                        })                };                });            </script>        </div>"
      ]
     },
     "metadata": {},
     "output_type": "display_data"
    }
   ],
   "source": [
    "# plot\n",
    "# non-normalised\n",
    "\n",
    "ylab = r'$\\LARGE{\\sigma_\\mathrm{w}}$'\n",
    "xlab = r'$\\LARGE{J\\;\\mathrm{(Nmm)}^{-1}}$'\n",
    "# ylab = r'$\\LARGE{(\\sigma_\\mathrm{w}/\\sigma_\\mathrm{u})^m }$'\n",
    "layout['annotations'][1]['text'] = ylab\n",
    "title = r'$$'\n",
    "data = []\n",
    "\n",
    "sw_data_plot = glob_sw_all #glob_sw_all_corr\n",
    "\n",
    "for ri, sw_r in enumerate(sw_data_plot):\n",
    "    sw = sw_r[idxm]\n",
    "    mi = idxm\n",
    "   \n",
    "    x_plot = (gdata_all[ri]['gdata']['jintc']).values[skipped_lines_all[ri]:]\n",
    "    y_plot = sw # / su_all[ri] \n",
    "    \n",
    "\n",
    "    data.append({\n",
    "            'x': x_plot,\n",
    "            'y': np.array(y_plot),   # /mean_corr[ri]\n",
    "            'name': r'T = ' + str(temps[ri]) + r'°C',\n",
    "        #             'marker':{'symbol':'circle', 'color': [ri]},\n",
    "            'line': {'dash': lines[0], 'color': cols[ri], 'width': 2},\n",
    "             'mode': 'lines',\n",
    "        })\n",
    "data.append(\n",
    "    {\n",
    "        'x': np.linspace(0, 450),\n",
    "        'y': sw_data_plot[1][idxm][gdata_all[1]['j0_idx']-skipped_lines_all[1]]  * np.ones(120), # / su_all[1],\n",
    "        'line': {'dash': lines[1], 'color': 'grey'},\n",
    "        'name': r'$\\mathrm{prediction\\;based\\;on}\\;J_0^{T = -91\\mathrm{°C}}$' \n",
    "            })\n",
    "\n",
    "\n",
    "layout = {\n",
    "    'width': 500,\n",
    "    'height': 350,\n",
    "    'xaxis': {\n",
    "#         'range': [-0.1, 1.1],\n",
    "        'zeroline': False,\n",
    "        'showline': True,\n",
    "        'mirror': 'all',\n",
    "#         'title': r'$m$',\n",
    "        'titlefont':{'size': 13}\n",
    "    },\n",
    "    'yaxis': {\n",
    "        'zeroline': False,\n",
    "        'showline': True,\n",
    "        'mirror': 'all',\n",
    "#         'title': '$\\sigma_\\mathrm{w}/\\sigma_\\mathrm{f} $ ',\n",
    "        'titlefont':{'size': 13},\n",
    "\n",
    "    },\n",
    "    'annotations':[\n",
    "    {\n",
    "        'text':  xlab,\n",
    "        'x': 0.5,\n",
    "        'y': -0.22,\n",
    "        'xref': 'paper',\n",
    "        'yref': 'paper',\n",
    "        'showarrow': False,\n",
    "        'font': {'size': 11},\n",
    "    },\n",
    "        {\n",
    "        'text':  ylab,\n",
    "        'x': -0.22,\n",
    "        'y': 0.5,\n",
    "        'xref': 'paper',\n",
    "        'yref': 'paper',\n",
    "        'showarrow': False,\n",
    "        'font': {'size': 11},\n",
    "        'textangle': -90\n",
    "    },\n",
    "        {\n",
    "        'text':  title,\n",
    "        'x': 0.41,\n",
    "        'y': 1.1,\n",
    "        'xref': 'paper',\n",
    "        'yref': 'paper',\n",
    "        'showarrow': False,\n",
    "        'font': {'size': 11},\n",
    "    },\n",
    "    ],\n",
    "    'legend':{\n",
    "        'x': 0.8,\n",
    "        'y': 0.01,\n",
    "    },\n",
    "    \n",
    "     'margin': {\n",
    "                'l': 80,\n",
    "                'r': 20,\n",
    "                'b': 80,\n",
    "                't': 40,\n",
    "#                 'pad': 1\n",
    "     },\n",
    "\n",
    "}\n",
    "\n",
    "layout['showlegend'] = True\n",
    "f = go.FigureWidget(data,layout)\n",
    "py.iplot(f)     "
   ]
  },
  {
   "cell_type": "markdown",
   "metadata": {},
   "source": [
    "\n",
    "## Modified Beremin"
   ]
  },
  {
   "cell_type": "code",
   "execution_count": 32,
   "metadata": {},
   "outputs": [],
   "source": [
    "# USER INPUT\n",
    "sy_cut = 2\n",
    "plastic_strain_offset = 0.002\n",
    "unit_volume = (4 / 3) * np.pi * (10 * 1e-3) ** 3"
   ]
  },
  {
   "cell_type": "code",
   "execution_count": 44,
   "metadata": {
    "code_folding": []
   },
   "outputs": [],
   "source": [
    "# code\n",
    "m_vals = np.arange(5, 26, 1)\n",
    "v0s = unit_volume * np.ones(len(paths))\n",
    "sy_cut = 2\n",
    "glob_sw_all_corr = []\n",
    "davg_new = davg\n",
    "\n",
    "for ip, path in enumerate(paths):\n",
    "    temp_ip = temps[ip] + 273\n",
    "    glob_sw_all_corr.append([])\n",
    "    num_frames = len(sw_data_all[ip]['data'])\n",
    "    sy_ip = s0_all_temps[ip]\n",
    "    for m in m_vals:\n",
    "        glob_sw_corr = []\n",
    "        \n",
    "        for ti in range(num_frames):\n",
    "            data_i = sw_data_all[ip]['data'][ti]\n",
    "            smax_i = data_i['smax'].values\n",
    "            smaxallt_i = data_i['smaxallt']\n",
    "            smin_i = data_i['smin'].values\n",
    "            vols_i = data_i['vol']\n",
    "            peeq_i = data_i['peeq']\n",
    "            \n",
    "            loc_sw_i = (smaxallt_i ** m) * vols_i\n",
    "\n",
    "            tau_i = (smax_i - smin_i) / 2\n",
    "\n",
    "            thinf_i = postprocess.thinning_function(davg, tau_i * 1e6, temp_ip) \n",
    "            loc_corr_i = thinf_i\n",
    "            \n",
    "            pcut_idx = np.where(peeq_i>=plastic_strain_offset)[0] #\n",
    "            scut_idx = np.where(smax_i>=(sy_cut*sy_ip))[0]\n",
    "            combcut_idx = np.intersect1d(pcut_idx, scut_idx)\n",
    "\n",
    "\n",
    "            corr_loc_sw_i = loc_corr_i[combcut_idx] * loc_sw_i.values[combcut_idx]\n",
    "\n",
    "            glob_sw_corr.append(\n",
    "                (sum(np.array(corr_loc_sw_i)) / v0s[ip]) ** (1. / m)\n",
    "            )\n",
    "\n",
    "        glob_sw_all_corr[ip].append(glob_sw_corr)"
   ]
  },
  {
   "cell_type": "code",
   "execution_count": 45,
   "metadata": {
    "code_folding": [
     0,
     29
    ]
   },
   "outputs": [
    {
     "data": {
      "application/vnd.plotly.v1+json": {
       "config": {
        "linkText": "Export to plot.ly",
        "plotlyServerURL": "https://plot.ly",
        "showLink": false
       },
       "data": [
        {
         "line": {
          "color": "black",
          "dash": "solid",
          "width": 2
         },
         "mode": "lines",
         "name": "T = -91°C",
         "type": "scatter",
         "uid": "c4f306ad-c9b1-4fef-9648-aa4d0efc1ef6",
         "x": [
          5,
          6,
          7,
          8,
          9,
          10,
          11,
          12,
          13,
          14,
          15,
          16,
          17,
          18,
          19,
          20,
          21,
          22,
          23,
          24,
          25
         ],
         "y": [
          18946.982805598665,
          12512.002728062203,
          9328.372538827283,
          7502.064469940825,
          6345.133052688555,
          5558.673530069071,
          4995.267361600303,
          4575.023938257863,
          4251.385066022707,
          3995.6083892147817,
          3789.1009100423494,
          3619.3612203270873,
          3477.70634119125,
          3357.936263290063,
          3255.517036136328,
          3167.0634128839883,
          3090.001186965368,
          3022.34091498962,
          2962.5227039618935,
          2909.3075088981764,
          2861.699570967115
         ]
        },
        {
         "line": {
          "color": "blue",
          "dash": "solid",
          "width": 2
         },
         "mode": "lines",
         "name": "T = -60°C",
         "type": "scatter",
         "uid": "bd2da858-be57-4cf0-bb5f-7c8f03ccecce",
         "x": [
          5,
          6,
          7,
          8,
          9,
          10,
          11,
          12,
          13,
          14,
          15,
          16,
          17,
          18,
          19,
          20,
          21,
          22,
          23,
          24,
          25
         ],
         "y": [
          19016.449833224273,
          12346.894610266903,
          9098.704205136712,
          7257.062605655744,
          6101.214985266988,
          5321.549694666421,
          4766.717413768533,
          4355.281953793103,
          4040.0666764910547,
          3792.097582802473,
          3592.7188704212663,
          3429.4411373368316,
          3293.6254723478623,
          3179.1278255827015,
          3081.472416756168,
          2997.329793317972,
          2924.177138999016,
          2860.0712774711196,
          2803.4934082102136,
          2753.240681836803,
          2708.3490628328263
         ]
        },
        {
         "line": {
          "color": "green",
          "dash": "solid",
          "width": 2
         },
         "mode": "lines",
         "name": "T = -40°C",
         "type": "scatter",
         "uid": "ea4f7c96-5c42-4d72-ba72-289bbc6f2027",
         "x": [
          5,
          6,
          7,
          8,
          9,
          10,
          11,
          12,
          13,
          14,
          15,
          16,
          17,
          18,
          19,
          20,
          21,
          22,
          23,
          24,
          25
         ],
         "y": [
          18669.384053961145,
          12105.314756926939,
          8913.81058516241,
          7106.3364191407745,
          5972.761882309743,
          5208.438804063623,
          4664.6052459460525,
          4261.293489478372,
          3952.2178846808188,
          3708.974181773817,
          3513.2862398732987,
          3352.926001029413,
          3219.4391851206146,
          3106.8149885411717,
          3010.6755516653857,
          2927.7645405099743,
          2855.614535654221,
          2792.3249016392897,
          2736.409925098954,
          2686.6928041718525,
          2642.2302462924067
         ]
        }
       ],
       "layout": {
        "annotations": [
         {
          "font": {
           "size": 11
          },
          "showarrow": false,
          "text": "$\\LARGE{m}$",
          "x": 0.5,
          "xref": "paper",
          "y": -0.2,
          "yref": "paper"
         },
         {
          "font": {
           "size": 11
          },
          "showarrow": false,
          "text": "$\\LARGE{\\sigma_\\mathrm{w}\\;\\mathrm{(MPa)} }$",
          "textangle": -90,
          "x": -0.2,
          "xref": "paper",
          "y": 0.5,
          "yref": "paper"
         },
         {
          "font": {
           "size": 11
          },
          "showarrow": false,
          "text": "${\\mathrm{At}\\;J_0\\;\\mathrm{with}\\;\\theta(x)\\propto \\dot{\\varepsilon}}$",
          "x": 0.41,
          "xref": "paper",
          "y": 1.1,
          "yref": "paper"
         }
        ],
        "height": 420,
        "legend": {
         "x": 0.6,
         "y": 0.3
        },
        "margin": {
         "b": 80,
         "l": 80,
         "r": 20,
         "t": 40
        },
        "showlegend": true,
        "template": {
         "data": {
          "bar": [
           {
            "error_x": {
             "color": "#2a3f5f"
            },
            "error_y": {
             "color": "#2a3f5f"
            },
            "marker": {
             "line": {
              "color": "#E5ECF6",
              "width": 0.5
             }
            },
            "type": "bar"
           }
          ],
          "barpolar": [
           {
            "marker": {
             "line": {
              "color": "#E5ECF6",
              "width": 0.5
             }
            },
            "type": "barpolar"
           }
          ],
          "carpet": [
           {
            "aaxis": {
             "endlinecolor": "#2a3f5f",
             "gridcolor": "white",
             "linecolor": "white",
             "minorgridcolor": "white",
             "startlinecolor": "#2a3f5f"
            },
            "baxis": {
             "endlinecolor": "#2a3f5f",
             "gridcolor": "white",
             "linecolor": "white",
             "minorgridcolor": "white",
             "startlinecolor": "#2a3f5f"
            },
            "type": "carpet"
           }
          ],
          "choropleth": [
           {
            "colorbar": {
             "outlinewidth": 0,
             "ticks": ""
            },
            "type": "choropleth"
           }
          ],
          "contour": [
           {
            "colorbar": {
             "outlinewidth": 0,
             "ticks": ""
            },
            "colorscale": [
             [
              0,
              "#0d0887"
             ],
             [
              0.1111111111111111,
              "#46039f"
             ],
             [
              0.2222222222222222,
              "#7201a8"
             ],
             [
              0.3333333333333333,
              "#9c179e"
             ],
             [
              0.4444444444444444,
              "#bd3786"
             ],
             [
              0.5555555555555556,
              "#d8576b"
             ],
             [
              0.6666666666666666,
              "#ed7953"
             ],
             [
              0.7777777777777778,
              "#fb9f3a"
             ],
             [
              0.8888888888888888,
              "#fdca26"
             ],
             [
              1,
              "#f0f921"
             ]
            ],
            "type": "contour"
           }
          ],
          "contourcarpet": [
           {
            "colorbar": {
             "outlinewidth": 0,
             "ticks": ""
            },
            "type": "contourcarpet"
           }
          ],
          "heatmap": [
           {
            "colorbar": {
             "outlinewidth": 0,
             "ticks": ""
            },
            "colorscale": [
             [
              0,
              "#0d0887"
             ],
             [
              0.1111111111111111,
              "#46039f"
             ],
             [
              0.2222222222222222,
              "#7201a8"
             ],
             [
              0.3333333333333333,
              "#9c179e"
             ],
             [
              0.4444444444444444,
              "#bd3786"
             ],
             [
              0.5555555555555556,
              "#d8576b"
             ],
             [
              0.6666666666666666,
              "#ed7953"
             ],
             [
              0.7777777777777778,
              "#fb9f3a"
             ],
             [
              0.8888888888888888,
              "#fdca26"
             ],
             [
              1,
              "#f0f921"
             ]
            ],
            "type": "heatmap"
           }
          ],
          "heatmapgl": [
           {
            "colorbar": {
             "outlinewidth": 0,
             "ticks": ""
            },
            "colorscale": [
             [
              0,
              "#0d0887"
             ],
             [
              0.1111111111111111,
              "#46039f"
             ],
             [
              0.2222222222222222,
              "#7201a8"
             ],
             [
              0.3333333333333333,
              "#9c179e"
             ],
             [
              0.4444444444444444,
              "#bd3786"
             ],
             [
              0.5555555555555556,
              "#d8576b"
             ],
             [
              0.6666666666666666,
              "#ed7953"
             ],
             [
              0.7777777777777778,
              "#fb9f3a"
             ],
             [
              0.8888888888888888,
              "#fdca26"
             ],
             [
              1,
              "#f0f921"
             ]
            ],
            "type": "heatmapgl"
           }
          ],
          "histogram": [
           {
            "marker": {
             "colorbar": {
              "outlinewidth": 0,
              "ticks": ""
             }
            },
            "type": "histogram"
           }
          ],
          "histogram2d": [
           {
            "colorbar": {
             "outlinewidth": 0,
             "ticks": ""
            },
            "colorscale": [
             [
              0,
              "#0d0887"
             ],
             [
              0.1111111111111111,
              "#46039f"
             ],
             [
              0.2222222222222222,
              "#7201a8"
             ],
             [
              0.3333333333333333,
              "#9c179e"
             ],
             [
              0.4444444444444444,
              "#bd3786"
             ],
             [
              0.5555555555555556,
              "#d8576b"
             ],
             [
              0.6666666666666666,
              "#ed7953"
             ],
             [
              0.7777777777777778,
              "#fb9f3a"
             ],
             [
              0.8888888888888888,
              "#fdca26"
             ],
             [
              1,
              "#f0f921"
             ]
            ],
            "type": "histogram2d"
           }
          ],
          "histogram2dcontour": [
           {
            "colorbar": {
             "outlinewidth": 0,
             "ticks": ""
            },
            "colorscale": [
             [
              0,
              "#0d0887"
             ],
             [
              0.1111111111111111,
              "#46039f"
             ],
             [
              0.2222222222222222,
              "#7201a8"
             ],
             [
              0.3333333333333333,
              "#9c179e"
             ],
             [
              0.4444444444444444,
              "#bd3786"
             ],
             [
              0.5555555555555556,
              "#d8576b"
             ],
             [
              0.6666666666666666,
              "#ed7953"
             ],
             [
              0.7777777777777778,
              "#fb9f3a"
             ],
             [
              0.8888888888888888,
              "#fdca26"
             ],
             [
              1,
              "#f0f921"
             ]
            ],
            "type": "histogram2dcontour"
           }
          ],
          "mesh3d": [
           {
            "colorbar": {
             "outlinewidth": 0,
             "ticks": ""
            },
            "type": "mesh3d"
           }
          ],
          "parcoords": [
           {
            "line": {
             "colorbar": {
              "outlinewidth": 0,
              "ticks": ""
             }
            },
            "type": "parcoords"
           }
          ],
          "pie": [
           {
            "automargin": true,
            "type": "pie"
           }
          ],
          "scatter": [
           {
            "marker": {
             "colorbar": {
              "outlinewidth": 0,
              "ticks": ""
             }
            },
            "type": "scatter"
           }
          ],
          "scatter3d": [
           {
            "line": {
             "colorbar": {
              "outlinewidth": 0,
              "ticks": ""
             }
            },
            "marker": {
             "colorbar": {
              "outlinewidth": 0,
              "ticks": ""
             }
            },
            "type": "scatter3d"
           }
          ],
          "scattercarpet": [
           {
            "marker": {
             "colorbar": {
              "outlinewidth": 0,
              "ticks": ""
             }
            },
            "type": "scattercarpet"
           }
          ],
          "scattergeo": [
           {
            "marker": {
             "colorbar": {
              "outlinewidth": 0,
              "ticks": ""
             }
            },
            "type": "scattergeo"
           }
          ],
          "scattergl": [
           {
            "marker": {
             "colorbar": {
              "outlinewidth": 0,
              "ticks": ""
             }
            },
            "type": "scattergl"
           }
          ],
          "scattermapbox": [
           {
            "marker": {
             "colorbar": {
              "outlinewidth": 0,
              "ticks": ""
             }
            },
            "type": "scattermapbox"
           }
          ],
          "scatterpolar": [
           {
            "marker": {
             "colorbar": {
              "outlinewidth": 0,
              "ticks": ""
             }
            },
            "type": "scatterpolar"
           }
          ],
          "scatterpolargl": [
           {
            "marker": {
             "colorbar": {
              "outlinewidth": 0,
              "ticks": ""
             }
            },
            "type": "scatterpolargl"
           }
          ],
          "scatterternary": [
           {
            "marker": {
             "colorbar": {
              "outlinewidth": 0,
              "ticks": ""
             }
            },
            "type": "scatterternary"
           }
          ],
          "surface": [
           {
            "colorbar": {
             "outlinewidth": 0,
             "ticks": ""
            },
            "colorscale": [
             [
              0,
              "#0d0887"
             ],
             [
              0.1111111111111111,
              "#46039f"
             ],
             [
              0.2222222222222222,
              "#7201a8"
             ],
             [
              0.3333333333333333,
              "#9c179e"
             ],
             [
              0.4444444444444444,
              "#bd3786"
             ],
             [
              0.5555555555555556,
              "#d8576b"
             ],
             [
              0.6666666666666666,
              "#ed7953"
             ],
             [
              0.7777777777777778,
              "#fb9f3a"
             ],
             [
              0.8888888888888888,
              "#fdca26"
             ],
             [
              1,
              "#f0f921"
             ]
            ],
            "type": "surface"
           }
          ],
          "table": [
           {
            "cells": {
             "fill": {
              "color": "#EBF0F8"
             },
             "line": {
              "color": "white"
             }
            },
            "header": {
             "fill": {
              "color": "#C8D4E3"
             },
             "line": {
              "color": "white"
             }
            },
            "type": "table"
           }
          ]
         },
         "layout": {
          "annotationdefaults": {
           "arrowcolor": "#2a3f5f",
           "arrowhead": 0,
           "arrowwidth": 1
          },
          "autotypenumbers": "strict",
          "coloraxis": {
           "colorbar": {
            "outlinewidth": 0,
            "ticks": ""
           }
          },
          "colorscale": {
           "diverging": [
            [
             0,
             "#8e0152"
            ],
            [
             0.1,
             "#c51b7d"
            ],
            [
             0.2,
             "#de77ae"
            ],
            [
             0.3,
             "#f1b6da"
            ],
            [
             0.4,
             "#fde0ef"
            ],
            [
             0.5,
             "#f7f7f7"
            ],
            [
             0.6,
             "#e6f5d0"
            ],
            [
             0.7,
             "#b8e186"
            ],
            [
             0.8,
             "#7fbc41"
            ],
            [
             0.9,
             "#4d9221"
            ],
            [
             1,
             "#276419"
            ]
           ],
           "sequential": [
            [
             0,
             "#0d0887"
            ],
            [
             0.1111111111111111,
             "#46039f"
            ],
            [
             0.2222222222222222,
             "#7201a8"
            ],
            [
             0.3333333333333333,
             "#9c179e"
            ],
            [
             0.4444444444444444,
             "#bd3786"
            ],
            [
             0.5555555555555556,
             "#d8576b"
            ],
            [
             0.6666666666666666,
             "#ed7953"
            ],
            [
             0.7777777777777778,
             "#fb9f3a"
            ],
            [
             0.8888888888888888,
             "#fdca26"
            ],
            [
             1,
             "#f0f921"
            ]
           ],
           "sequentialminus": [
            [
             0,
             "#0d0887"
            ],
            [
             0.1111111111111111,
             "#46039f"
            ],
            [
             0.2222222222222222,
             "#7201a8"
            ],
            [
             0.3333333333333333,
             "#9c179e"
            ],
            [
             0.4444444444444444,
             "#bd3786"
            ],
            [
             0.5555555555555556,
             "#d8576b"
            ],
            [
             0.6666666666666666,
             "#ed7953"
            ],
            [
             0.7777777777777778,
             "#fb9f3a"
            ],
            [
             0.8888888888888888,
             "#fdca26"
            ],
            [
             1,
             "#f0f921"
            ]
           ]
          },
          "colorway": [
           "#636efa",
           "#EF553B",
           "#00cc96",
           "#ab63fa",
           "#FFA15A",
           "#19d3f3",
           "#FF6692",
           "#B6E880",
           "#FF97FF",
           "#FECB52"
          ],
          "font": {
           "color": "#2a3f5f"
          },
          "geo": {
           "bgcolor": "white",
           "lakecolor": "white",
           "landcolor": "#E5ECF6",
           "showlakes": true,
           "showland": true,
           "subunitcolor": "white"
          },
          "hoverlabel": {
           "align": "left"
          },
          "hovermode": "closest",
          "mapbox": {
           "style": "light"
          },
          "paper_bgcolor": "white",
          "plot_bgcolor": "#E5ECF6",
          "polar": {
           "angularaxis": {
            "gridcolor": "white",
            "linecolor": "white",
            "ticks": ""
           },
           "bgcolor": "#E5ECF6",
           "radialaxis": {
            "gridcolor": "white",
            "linecolor": "white",
            "ticks": ""
           }
          },
          "scene": {
           "xaxis": {
            "backgroundcolor": "#E5ECF6",
            "gridcolor": "white",
            "gridwidth": 2,
            "linecolor": "white",
            "showbackground": true,
            "ticks": "",
            "zerolinecolor": "white"
           },
           "yaxis": {
            "backgroundcolor": "#E5ECF6",
            "gridcolor": "white",
            "gridwidth": 2,
            "linecolor": "white",
            "showbackground": true,
            "ticks": "",
            "zerolinecolor": "white"
           },
           "zaxis": {
            "backgroundcolor": "#E5ECF6",
            "gridcolor": "white",
            "gridwidth": 2,
            "linecolor": "white",
            "showbackground": true,
            "ticks": "",
            "zerolinecolor": "white"
           }
          },
          "shapedefaults": {
           "line": {
            "color": "#2a3f5f"
           }
          },
          "ternary": {
           "aaxis": {
            "gridcolor": "white",
            "linecolor": "white",
            "ticks": ""
           },
           "baxis": {
            "gridcolor": "white",
            "linecolor": "white",
            "ticks": ""
           },
           "bgcolor": "#E5ECF6",
           "caxis": {
            "gridcolor": "white",
            "linecolor": "white",
            "ticks": ""
           }
          },
          "title": {
           "x": 0.05
          },
          "xaxis": {
           "automargin": true,
           "gridcolor": "white",
           "linecolor": "white",
           "ticks": "",
           "title": {
            "standoff": 15
           },
           "zerolinecolor": "white",
           "zerolinewidth": 2
          },
          "yaxis": {
           "automargin": true,
           "gridcolor": "white",
           "linecolor": "white",
           "ticks": "",
           "title": {
            "standoff": 15
           },
           "zerolinecolor": "white",
           "zerolinewidth": 2
          }
         }
        },
        "width": 450,
        "xaxis": {
         "mirror": "all",
         "range": [
          5,
          25
         ],
         "showline": true,
         "title": {
          "font": {
           "size": 13
          }
         },
         "zeroline": false
        },
        "yaxis": {
         "mirror": "all",
         "showline": true,
         "title": {
          "font": {
           "size": 13
          }
         },
         "zeroline": false
        }
       }
      },
      "text/html": [
       "<div>                            <div id=\"4476037d-dc9d-41a2-88d8-15973bb27c5c\" class=\"plotly-graph-div\" style=\"height:420px; width:450px;\"></div>            <script type=\"text/javascript\">                require([\"plotly\"], function(Plotly) {                    window.PLOTLYENV=window.PLOTLYENV || {};                                    if (document.getElementById(\"4476037d-dc9d-41a2-88d8-15973bb27c5c\")) {                    Plotly.newPlot(                        \"4476037d-dc9d-41a2-88d8-15973bb27c5c\",                        [{\"line\": {\"color\": \"black\", \"dash\": \"solid\", \"width\": 2}, \"mode\": \"lines\", \"name\": \"T = -91\\u00b0C\", \"type\": \"scatter\", \"uid\": \"c4f306ad-c9b1-4fef-9648-aa4d0efc1ef6\", \"x\": [5, 6, 7, 8, 9, 10, 11, 12, 13, 14, 15, 16, 17, 18, 19, 20, 21, 22, 23, 24, 25], \"y\": [18946.982805598665, 12512.002728062203, 9328.372538827283, 7502.064469940825, 6345.133052688555, 5558.673530069071, 4995.267361600303, 4575.023938257863, 4251.385066022707, 3995.6083892147817, 3789.1009100423494, 3619.3612203270873, 3477.70634119125, 3357.936263290063, 3255.517036136328, 3167.0634128839883, 3090.001186965368, 3022.34091498962, 2962.5227039618935, 2909.3075088981764, 2861.699570967115]}, {\"line\": {\"color\": \"blue\", \"dash\": \"solid\", \"width\": 2}, \"mode\": \"lines\", \"name\": \"T = -60\\u00b0C\", \"type\": \"scatter\", \"uid\": \"bd2da858-be57-4cf0-bb5f-7c8f03ccecce\", \"x\": [5, 6, 7, 8, 9, 10, 11, 12, 13, 14, 15, 16, 17, 18, 19, 20, 21, 22, 23, 24, 25], \"y\": [19016.449833224273, 12346.894610266903, 9098.704205136712, 7257.062605655744, 6101.214985266988, 5321.549694666421, 4766.717413768533, 4355.281953793103, 4040.0666764910547, 3792.097582802473, 3592.7188704212663, 3429.4411373368316, 3293.6254723478623, 3179.1278255827015, 3081.472416756168, 2997.329793317972, 2924.177138999016, 2860.0712774711196, 2803.4934082102136, 2753.240681836803, 2708.3490628328263]}, {\"line\": {\"color\": \"green\", \"dash\": \"solid\", \"width\": 2}, \"mode\": \"lines\", \"name\": \"T = -40\\u00b0C\", \"type\": \"scatter\", \"uid\": \"ea4f7c96-5c42-4d72-ba72-289bbc6f2027\", \"x\": [5, 6, 7, 8, 9, 10, 11, 12, 13, 14, 15, 16, 17, 18, 19, 20, 21, 22, 23, 24, 25], \"y\": [18669.384053961145, 12105.314756926939, 8913.81058516241, 7106.3364191407745, 5972.761882309743, 5208.438804063623, 4664.6052459460525, 4261.293489478372, 3952.2178846808188, 3708.974181773817, 3513.2862398732987, 3352.926001029413, 3219.4391851206146, 3106.8149885411717, 3010.6755516653857, 2927.7645405099743, 2855.614535654221, 2792.3249016392897, 2736.409925098954, 2686.6928041718525, 2642.2302462924067]}],                        {\"annotations\": [{\"font\": {\"size\": 11}, \"showarrow\": false, \"text\": \"$\\\\LARGE{m}$\", \"x\": 0.5, \"xref\": \"paper\", \"y\": -0.2, \"yref\": \"paper\"}, {\"font\": {\"size\": 11}, \"showarrow\": false, \"text\": \"$\\\\LARGE{\\\\sigma_\\\\mathrm{w}\\\\;\\\\mathrm{(MPa)} }$\", \"textangle\": -90, \"x\": -0.2, \"xref\": \"paper\", \"y\": 0.5, \"yref\": \"paper\"}, {\"font\": {\"size\": 11}, \"showarrow\": false, \"text\": \"${\\\\mathrm{At}\\\\;J_0\\\\;\\\\mathrm{with}\\\\;\\\\theta(x)\\\\propto \\\\dot{\\\\varepsilon}}$\", \"x\": 0.41, \"xref\": \"paper\", \"y\": 1.1, \"yref\": \"paper\"}], \"height\": 420, \"legend\": {\"x\": 0.6, \"y\": 0.3}, \"margin\": {\"b\": 80, \"l\": 80, \"r\": 20, \"t\": 40}, \"showlegend\": true, \"template\": {\"data\": {\"bar\": [{\"error_x\": {\"color\": \"#2a3f5f\"}, \"error_y\": {\"color\": \"#2a3f5f\"}, \"marker\": {\"line\": {\"color\": \"#E5ECF6\", \"width\": 0.5}}, \"type\": \"bar\"}], \"barpolar\": [{\"marker\": {\"line\": {\"color\": \"#E5ECF6\", \"width\": 0.5}}, \"type\": \"barpolar\"}], \"carpet\": [{\"aaxis\": {\"endlinecolor\": \"#2a3f5f\", \"gridcolor\": \"white\", \"linecolor\": \"white\", \"minorgridcolor\": \"white\", \"startlinecolor\": \"#2a3f5f\"}, \"baxis\": {\"endlinecolor\": \"#2a3f5f\", \"gridcolor\": \"white\", \"linecolor\": \"white\", \"minorgridcolor\": \"white\", \"startlinecolor\": \"#2a3f5f\"}, \"type\": \"carpet\"}], \"choropleth\": [{\"colorbar\": {\"outlinewidth\": 0, \"ticks\": \"\"}, \"type\": \"choropleth\"}], \"contour\": [{\"colorbar\": {\"outlinewidth\": 0, \"ticks\": \"\"}, \"colorscale\": [[0.0, \"#0d0887\"], [0.1111111111111111, \"#46039f\"], [0.2222222222222222, \"#7201a8\"], [0.3333333333333333, \"#9c179e\"], [0.4444444444444444, \"#bd3786\"], [0.5555555555555556, \"#d8576b\"], [0.6666666666666666, \"#ed7953\"], [0.7777777777777778, \"#fb9f3a\"], [0.8888888888888888, \"#fdca26\"], [1.0, \"#f0f921\"]], \"type\": \"contour\"}], \"contourcarpet\": [{\"colorbar\": {\"outlinewidth\": 0, \"ticks\": \"\"}, \"type\": \"contourcarpet\"}], \"heatmap\": [{\"colorbar\": {\"outlinewidth\": 0, \"ticks\": \"\"}, \"colorscale\": [[0.0, \"#0d0887\"], [0.1111111111111111, \"#46039f\"], [0.2222222222222222, \"#7201a8\"], [0.3333333333333333, \"#9c179e\"], [0.4444444444444444, \"#bd3786\"], [0.5555555555555556, \"#d8576b\"], [0.6666666666666666, \"#ed7953\"], [0.7777777777777778, \"#fb9f3a\"], [0.8888888888888888, \"#fdca26\"], [1.0, \"#f0f921\"]], \"type\": \"heatmap\"}], \"heatmapgl\": [{\"colorbar\": {\"outlinewidth\": 0, \"ticks\": \"\"}, \"colorscale\": [[0.0, \"#0d0887\"], [0.1111111111111111, \"#46039f\"], [0.2222222222222222, \"#7201a8\"], [0.3333333333333333, \"#9c179e\"], [0.4444444444444444, \"#bd3786\"], [0.5555555555555556, \"#d8576b\"], [0.6666666666666666, \"#ed7953\"], [0.7777777777777778, \"#fb9f3a\"], [0.8888888888888888, \"#fdca26\"], [1.0, \"#f0f921\"]], \"type\": \"heatmapgl\"}], \"histogram\": [{\"marker\": {\"colorbar\": {\"outlinewidth\": 0, \"ticks\": \"\"}}, \"type\": \"histogram\"}], \"histogram2d\": [{\"colorbar\": {\"outlinewidth\": 0, \"ticks\": \"\"}, \"colorscale\": [[0.0, \"#0d0887\"], [0.1111111111111111, \"#46039f\"], [0.2222222222222222, \"#7201a8\"], [0.3333333333333333, \"#9c179e\"], [0.4444444444444444, \"#bd3786\"], [0.5555555555555556, \"#d8576b\"], [0.6666666666666666, \"#ed7953\"], [0.7777777777777778, \"#fb9f3a\"], [0.8888888888888888, \"#fdca26\"], [1.0, \"#f0f921\"]], \"type\": \"histogram2d\"}], \"histogram2dcontour\": [{\"colorbar\": {\"outlinewidth\": 0, \"ticks\": \"\"}, \"colorscale\": [[0.0, \"#0d0887\"], [0.1111111111111111, \"#46039f\"], [0.2222222222222222, \"#7201a8\"], [0.3333333333333333, \"#9c179e\"], [0.4444444444444444, \"#bd3786\"], [0.5555555555555556, \"#d8576b\"], [0.6666666666666666, \"#ed7953\"], [0.7777777777777778, \"#fb9f3a\"], [0.8888888888888888, \"#fdca26\"], [1.0, \"#f0f921\"]], \"type\": \"histogram2dcontour\"}], \"mesh3d\": [{\"colorbar\": {\"outlinewidth\": 0, \"ticks\": \"\"}, \"type\": \"mesh3d\"}], \"parcoords\": [{\"line\": {\"colorbar\": {\"outlinewidth\": 0, \"ticks\": \"\"}}, \"type\": \"parcoords\"}], \"pie\": [{\"automargin\": true, \"type\": \"pie\"}], \"scatter\": [{\"marker\": {\"colorbar\": {\"outlinewidth\": 0, \"ticks\": \"\"}}, \"type\": \"scatter\"}], \"scatter3d\": [{\"line\": {\"colorbar\": {\"outlinewidth\": 0, \"ticks\": \"\"}}, \"marker\": {\"colorbar\": {\"outlinewidth\": 0, \"ticks\": \"\"}}, \"type\": \"scatter3d\"}], \"scattercarpet\": [{\"marker\": {\"colorbar\": {\"outlinewidth\": 0, \"ticks\": \"\"}}, \"type\": \"scattercarpet\"}], \"scattergeo\": [{\"marker\": {\"colorbar\": {\"outlinewidth\": 0, \"ticks\": \"\"}}, \"type\": \"scattergeo\"}], \"scattergl\": [{\"marker\": {\"colorbar\": {\"outlinewidth\": 0, \"ticks\": \"\"}}, \"type\": \"scattergl\"}], \"scattermapbox\": [{\"marker\": {\"colorbar\": {\"outlinewidth\": 0, \"ticks\": \"\"}}, \"type\": \"scattermapbox\"}], \"scatterpolar\": [{\"marker\": {\"colorbar\": {\"outlinewidth\": 0, \"ticks\": \"\"}}, \"type\": \"scatterpolar\"}], \"scatterpolargl\": [{\"marker\": {\"colorbar\": {\"outlinewidth\": 0, \"ticks\": \"\"}}, \"type\": \"scatterpolargl\"}], \"scatterternary\": [{\"marker\": {\"colorbar\": {\"outlinewidth\": 0, \"ticks\": \"\"}}, \"type\": \"scatterternary\"}], \"surface\": [{\"colorbar\": {\"outlinewidth\": 0, \"ticks\": \"\"}, \"colorscale\": [[0.0, \"#0d0887\"], [0.1111111111111111, \"#46039f\"], [0.2222222222222222, \"#7201a8\"], [0.3333333333333333, \"#9c179e\"], [0.4444444444444444, \"#bd3786\"], [0.5555555555555556, \"#d8576b\"], [0.6666666666666666, \"#ed7953\"], [0.7777777777777778, \"#fb9f3a\"], [0.8888888888888888, \"#fdca26\"], [1.0, \"#f0f921\"]], \"type\": \"surface\"}], \"table\": [{\"cells\": {\"fill\": {\"color\": \"#EBF0F8\"}, \"line\": {\"color\": \"white\"}}, \"header\": {\"fill\": {\"color\": \"#C8D4E3\"}, \"line\": {\"color\": \"white\"}}, \"type\": \"table\"}]}, \"layout\": {\"annotationdefaults\": {\"arrowcolor\": \"#2a3f5f\", \"arrowhead\": 0, \"arrowwidth\": 1}, \"autotypenumbers\": \"strict\", \"coloraxis\": {\"colorbar\": {\"outlinewidth\": 0, \"ticks\": \"\"}}, \"colorscale\": {\"diverging\": [[0, \"#8e0152\"], [0.1, \"#c51b7d\"], [0.2, \"#de77ae\"], [0.3, \"#f1b6da\"], [0.4, \"#fde0ef\"], [0.5, \"#f7f7f7\"], [0.6, \"#e6f5d0\"], [0.7, \"#b8e186\"], [0.8, \"#7fbc41\"], [0.9, \"#4d9221\"], [1, \"#276419\"]], \"sequential\": [[0.0, \"#0d0887\"], [0.1111111111111111, \"#46039f\"], [0.2222222222222222, \"#7201a8\"], [0.3333333333333333, \"#9c179e\"], [0.4444444444444444, \"#bd3786\"], [0.5555555555555556, \"#d8576b\"], [0.6666666666666666, \"#ed7953\"], [0.7777777777777778, \"#fb9f3a\"], [0.8888888888888888, \"#fdca26\"], [1.0, \"#f0f921\"]], \"sequentialminus\": [[0.0, \"#0d0887\"], [0.1111111111111111, \"#46039f\"], [0.2222222222222222, \"#7201a8\"], [0.3333333333333333, \"#9c179e\"], [0.4444444444444444, \"#bd3786\"], [0.5555555555555556, \"#d8576b\"], [0.6666666666666666, \"#ed7953\"], [0.7777777777777778, \"#fb9f3a\"], [0.8888888888888888, \"#fdca26\"], [1.0, \"#f0f921\"]]}, \"colorway\": [\"#636efa\", \"#EF553B\", \"#00cc96\", \"#ab63fa\", \"#FFA15A\", \"#19d3f3\", \"#FF6692\", \"#B6E880\", \"#FF97FF\", \"#FECB52\"], \"font\": {\"color\": \"#2a3f5f\"}, \"geo\": {\"bgcolor\": \"white\", \"lakecolor\": \"white\", \"landcolor\": \"#E5ECF6\", \"showlakes\": true, \"showland\": true, \"subunitcolor\": \"white\"}, \"hoverlabel\": {\"align\": \"left\"}, \"hovermode\": \"closest\", \"mapbox\": {\"style\": \"light\"}, \"paper_bgcolor\": \"white\", \"plot_bgcolor\": \"#E5ECF6\", \"polar\": {\"angularaxis\": {\"gridcolor\": \"white\", \"linecolor\": \"white\", \"ticks\": \"\"}, \"bgcolor\": \"#E5ECF6\", \"radialaxis\": {\"gridcolor\": \"white\", \"linecolor\": \"white\", \"ticks\": \"\"}}, \"scene\": {\"xaxis\": {\"backgroundcolor\": \"#E5ECF6\", \"gridcolor\": \"white\", \"gridwidth\": 2, \"linecolor\": \"white\", \"showbackground\": true, \"ticks\": \"\", \"zerolinecolor\": \"white\"}, \"yaxis\": {\"backgroundcolor\": \"#E5ECF6\", \"gridcolor\": \"white\", \"gridwidth\": 2, \"linecolor\": \"white\", \"showbackground\": true, \"ticks\": \"\", \"zerolinecolor\": \"white\"}, \"zaxis\": {\"backgroundcolor\": \"#E5ECF6\", \"gridcolor\": \"white\", \"gridwidth\": 2, \"linecolor\": \"white\", \"showbackground\": true, \"ticks\": \"\", \"zerolinecolor\": \"white\"}}, \"shapedefaults\": {\"line\": {\"color\": \"#2a3f5f\"}}, \"ternary\": {\"aaxis\": {\"gridcolor\": \"white\", \"linecolor\": \"white\", \"ticks\": \"\"}, \"baxis\": {\"gridcolor\": \"white\", \"linecolor\": \"white\", \"ticks\": \"\"}, \"bgcolor\": \"#E5ECF6\", \"caxis\": {\"gridcolor\": \"white\", \"linecolor\": \"white\", \"ticks\": \"\"}}, \"title\": {\"x\": 0.05}, \"xaxis\": {\"automargin\": true, \"gridcolor\": \"white\", \"linecolor\": \"white\", \"ticks\": \"\", \"title\": {\"standoff\": 15}, \"zerolinecolor\": \"white\", \"zerolinewidth\": 2}, \"yaxis\": {\"automargin\": true, \"gridcolor\": \"white\", \"linecolor\": \"white\", \"ticks\": \"\", \"title\": {\"standoff\": 15}, \"zerolinecolor\": \"white\", \"zerolinewidth\": 2}}}, \"width\": 450, \"xaxis\": {\"mirror\": \"all\", \"range\": [5, 25], \"showline\": true, \"title\": {\"font\": {\"size\": 13}}, \"zeroline\": false}, \"yaxis\": {\"mirror\": \"all\", \"showline\": true, \"title\": {\"font\": {\"size\": 13}}, \"zeroline\": false}},                        {\"responsive\": true}                    ).then(function(){\n",
       "                            \n",
       "var gd = document.getElementById('4476037d-dc9d-41a2-88d8-15973bb27c5c');\n",
       "var x = new MutationObserver(function (mutations, observer) {{\n",
       "        var display = window.getComputedStyle(gd).display;\n",
       "        if (!display || display === 'none') {{\n",
       "            console.log([gd, 'removed!']);\n",
       "            Plotly.purge(gd);\n",
       "            observer.disconnect();\n",
       "        }}\n",
       "}});\n",
       "\n",
       "// Listen for the removal of the full notebook cells\n",
       "var notebookContainer = gd.closest('#notebook-container');\n",
       "if (notebookContainer) {{\n",
       "    x.observe(notebookContainer, {childList: true});\n",
       "}}\n",
       "\n",
       "// Listen for the clearing of the current output cell\n",
       "var outputEl = gd.closest('.output');\n",
       "if (outputEl) {{\n",
       "    x.observe(outputEl, {childList: true});\n",
       "}}\n",
       "\n",
       "                        })                };                });            </script>        </div>"
      ]
     },
     "metadata": {},
     "output_type": "display_data"
    }
   ],
   "source": [
    "# plot\n",
    "\n",
    "# lambda_vals = [1000, 1.4, 0.4, 0.1]\n",
    "my_cols = ['black', 'blue', 'green', 'red']\n",
    "\n",
    "data = []\n",
    "lines = ['solid','dash', 'dot', '5, 10, 2, 2']\n",
    "\n",
    "title = r'${\\mathrm{At}\\;J_0\\;\\mathrm{with}\\;\\theta(x)\\propto \\dot{\\varepsilon}}$'\n",
    "ylab = r'$\\LARGE{\\sigma_\\mathrm{w}\\;\\mathrm{(MPa)} }$'\n",
    "\n",
    "for ri, sw_r in enumerate(glob_sw_all_corr):\n",
    "#     if ri != 0:\n",
    "        x_plot = []\n",
    "        y_plot = []\n",
    "        for mi, sw in enumerate(sw_r):\n",
    "            x_plot.append(m_vals[mi])\n",
    "            y_plot.append(sw[gdata_all[ri]['j0_idx'] - np.array(skipped_lines_all[ri])] )\n",
    "        y_plot_upper = list(1.12 * np.array(y_plot))\n",
    "        y_plot_lower = list(0.88 * np.array(y_plot))\n",
    "        y_plot_lower = y_plot_lower[::-1]\n",
    "        data.append({\n",
    "                'x': x_plot,\n",
    "                'y': y_plot,\n",
    "                'name': r'T = ' + str(temps[ri]) + r'°C',\n",
    "                'line': {'dash': lines[0], 'color': my_cols[ri], 'width': 2},\n",
    "                 'mode': 'lines',\n",
    "            })     \n",
    "\n",
    "layout = {\n",
    "    'width': 450,\n",
    "    'height': 420,\n",
    "    'xaxis': {\n",
    "#         'range': [-0.1, 1.1],\n",
    "        'zeroline': False,\n",
    "        'showline': True,\n",
    "        'mirror': 'all',\n",
    "#         'title': r'$m$',\n",
    "        'titlefont':{'size': 13}\n",
    "    },\n",
    "    'yaxis': {\n",
    "        'zeroline': False,\n",
    "        'showline': True,\n",
    "        'mirror': 'all',\n",
    "#         'title': '$\\sigma_\\mathrm{w}/\\sigma_\\mathrm{f} $ ',\n",
    "        'titlefont':{'size': 13},\n",
    "\n",
    "    },\n",
    "    'annotations':[\n",
    "    {\n",
    "        'text':  r'$\\LARGE{m}$',\n",
    "        'x': 0.5,\n",
    "        'y': -0.2,\n",
    "        'xref': 'paper',\n",
    "        'yref': 'paper',\n",
    "        'showarrow': False,\n",
    "        'font': {'size': 11},\n",
    "    },\n",
    "        {\n",
    "        'text':  ylab,\n",
    "        'x': -0.2,\n",
    "        'y': 0.5,\n",
    "        'xref': 'paper',\n",
    "        'yref': 'paper',\n",
    "        'showarrow': False,\n",
    "        'font': {'size': 11},\n",
    "        'textangle': -90\n",
    "    },\n",
    "        {\n",
    "        'text':  title,\n",
    "        'x': 0.41,\n",
    "        'y': 1.1,\n",
    "        'xref': 'paper',\n",
    "        'yref': 'paper',\n",
    "        'showarrow': False,\n",
    "        'font': {'size': 11},\n",
    "    },\n",
    "    ],\n",
    "    'legend':{\n",
    "        'x': 0.6,\n",
    "        'y': 0.3,\n",
    "    },\n",
    "     'margin': {\n",
    "                'l': 80,\n",
    "                'r': 20,\n",
    "                'b': 80,\n",
    "                't': 40,\n",
    "#                 'pad': 1\n",
    "     },\n",
    "\n",
    "}\n",
    "layout['xaxis']['range'] = [5, 25]\n",
    "layout['showlegend'] = True\n",
    "f = go.FigureWidget(data,layout)\n",
    "py.iplot(f)\n",
    "# pio.write_image(f, 'images/fig9.svg',width=450, height=400,)"
   ]
  },
  {
   "cell_type": "markdown",
   "metadata": {},
   "source": [
    "### Delta Weibull stress vs Shape parameter `m`\n",
    "\n",
    "$\\Large{\\Delta \\sigma_W = \\frac{\\sigma_{-91°C} - \\sigma_{T_i}}{\\sigma_{-91°C}} 100}$\n",
    "\n"
   ]
  },
  {
   "cell_type": "code",
   "execution_count": 46,
   "metadata": {
    "code_folding": [
     0,
     27
    ]
   },
   "outputs": [
    {
     "data": {
      "application/vnd.plotly.v1+json": {
       "config": {
        "linkText": "Export to plot.ly",
        "plotlyServerURL": "https://plot.ly",
        "showLink": false
       },
       "data": [
        {
         "line": {
          "color": "black",
          "dash": "solid",
          "width": 2
         },
         "mode": "lines",
         "name": "T = -91°C",
         "type": "scatter",
         "uid": "d5c92166-e64b-43e0-b974-4a63b660141a",
         "x": [
          5,
          6,
          7,
          8,
          9,
          10,
          11,
          12,
          13,
          14,
          15,
          16,
          17,
          18,
          19,
          20,
          21,
          22,
          23,
          24,
          25
         ],
         "y": [
          0,
          0,
          0,
          0,
          0,
          0,
          0,
          0,
          0,
          0,
          0,
          0,
          0,
          0,
          0,
          0,
          0,
          0,
          0,
          0,
          0
         ]
        },
        {
         "line": {
          "color": "black",
          "dash": "solid",
          "width": 2
         },
         "mode": "lines",
         "name": "T = -91°C",
         "type": "scatter",
         "uid": "c23ba409-cc1c-40c5-a407-92b5cb0fd771",
         "x": [
          5,
          6,
          7,
          8,
          9,
          10,
          11,
          12,
          13,
          14,
          15,
          16,
          17,
          18,
          19,
          20,
          21,
          22,
          23,
          24,
          25
         ],
         "y": [
          0,
          0,
          0,
          0,
          0,
          0,
          0,
          0,
          0,
          0,
          0,
          0,
          0,
          0,
          0,
          0,
          0,
          0,
          0,
          0,
          0
         ]
        },
        {
         "line": {
          "color": "black",
          "dash": "solid",
          "width": 2
         },
         "mode": "lines",
         "name": "T = -91°C",
         "type": "scatter",
         "uid": "672902a4-180b-49f3-a478-088fb12a5db3",
         "x": [
          5,
          6,
          7,
          8,
          9,
          10,
          11,
          12,
          13,
          14,
          15,
          16,
          17,
          18,
          19,
          20,
          21,
          22,
          23,
          24,
          25
         ],
         "y": [
          0,
          0,
          0,
          0,
          0,
          0,
          0,
          0,
          0,
          0,
          0,
          0,
          0,
          0,
          0,
          0,
          0,
          0,
          0,
          0,
          0
         ]
        },
        {
         "line": {
          "color": "black",
          "dash": "solid",
          "width": 2
         },
         "mode": "lines",
         "name": "T = -91°C",
         "type": "scatter",
         "uid": "94629003-15bf-4572-b5e8-69058f993227",
         "x": [
          5,
          6,
          7,
          8,
          9,
          10,
          11,
          12,
          13,
          14,
          15,
          16,
          17,
          18,
          19,
          20,
          21,
          22,
          23,
          24,
          25
         ],
         "y": [
          0,
          0,
          0,
          0,
          0,
          0,
          0,
          0,
          0,
          0,
          0,
          0,
          0,
          0,
          0,
          0,
          0,
          0,
          0,
          0,
          0
         ]
        },
        {
         "line": {
          "color": "black",
          "dash": "solid",
          "width": 2
         },
         "mode": "lines",
         "name": "T = -91°C",
         "type": "scatter",
         "uid": "3e27a57a-b582-4926-8987-6f0c80f921a0",
         "x": [
          5,
          6,
          7,
          8,
          9,
          10,
          11,
          12,
          13,
          14,
          15,
          16,
          17,
          18,
          19,
          20,
          21,
          22,
          23,
          24,
          25
         ],
         "y": [
          0,
          0,
          0,
          0,
          0,
          0,
          0,
          0,
          0,
          0,
          0,
          0,
          0,
          0,
          0,
          0,
          0,
          0,
          0,
          0,
          0
         ]
        },
        {
         "line": {
          "color": "black",
          "dash": "solid",
          "width": 2
         },
         "mode": "lines",
         "name": "T = -91°C",
         "type": "scatter",
         "uid": "f3c8e4b6-ce2b-417c-9f89-971bd4b11c13",
         "x": [
          5,
          6,
          7,
          8,
          9,
          10,
          11,
          12,
          13,
          14,
          15,
          16,
          17,
          18,
          19,
          20,
          21,
          22,
          23,
          24,
          25
         ],
         "y": [
          0,
          0,
          0,
          0,
          0,
          0,
          0,
          0,
          0,
          0,
          0,
          0,
          0,
          0,
          0,
          0,
          0,
          0,
          0,
          0,
          0
         ]
        },
        {
         "line": {
          "color": "black",
          "dash": "solid",
          "width": 2
         },
         "mode": "lines",
         "name": "T = -91°C",
         "type": "scatter",
         "uid": "10f2d733-3c78-49f4-941a-ab48ae9a38a0",
         "x": [
          5,
          6,
          7,
          8,
          9,
          10,
          11,
          12,
          13,
          14,
          15,
          16,
          17,
          18,
          19,
          20,
          21,
          22,
          23,
          24,
          25
         ],
         "y": [
          0,
          0,
          0,
          0,
          0,
          0,
          0,
          0,
          0,
          0,
          0,
          0,
          0,
          0,
          0,
          0,
          0,
          0,
          0,
          0,
          0
         ]
        },
        {
         "line": {
          "color": "black",
          "dash": "solid",
          "width": 2
         },
         "mode": "lines",
         "name": "T = -91°C",
         "type": "scatter",
         "uid": "7cadabde-e957-45e1-9e39-b4497176e5a3",
         "x": [
          5,
          6,
          7,
          8,
          9,
          10,
          11,
          12,
          13,
          14,
          15,
          16,
          17,
          18,
          19,
          20,
          21,
          22,
          23,
          24,
          25
         ],
         "y": [
          0,
          0,
          0,
          0,
          0,
          0,
          0,
          0,
          0,
          0,
          0,
          0,
          0,
          0,
          0,
          0,
          0,
          0,
          0,
          0,
          0
         ]
        },
        {
         "line": {
          "color": "black",
          "dash": "solid",
          "width": 2
         },
         "mode": "lines",
         "name": "T = -91°C",
         "type": "scatter",
         "uid": "bbcc92f6-771b-4400-97e2-9fdd8d695834",
         "x": [
          5,
          6,
          7,
          8,
          9,
          10,
          11,
          12,
          13,
          14,
          15,
          16,
          17,
          18,
          19,
          20,
          21,
          22,
          23,
          24,
          25
         ],
         "y": [
          0,
          0,
          0,
          0,
          0,
          0,
          0,
          0,
          0,
          0,
          0,
          0,
          0,
          0,
          0,
          0,
          0,
          0,
          0,
          0,
          0
         ]
        },
        {
         "line": {
          "color": "black",
          "dash": "solid",
          "width": 2
         },
         "mode": "lines",
         "name": "T = -91°C",
         "type": "scatter",
         "uid": "2ee63944-da04-48d2-8827-c9aa2c8cb7ab",
         "x": [
          5,
          6,
          7,
          8,
          9,
          10,
          11,
          12,
          13,
          14,
          15,
          16,
          17,
          18,
          19,
          20,
          21,
          22,
          23,
          24,
          25
         ],
         "y": [
          0,
          0,
          0,
          0,
          0,
          0,
          0,
          0,
          0,
          0,
          0,
          0,
          0,
          0,
          0,
          0,
          0,
          0,
          0,
          0,
          0
         ]
        },
        {
         "line": {
          "color": "black",
          "dash": "solid",
          "width": 2
         },
         "mode": "lines",
         "name": "T = -91°C",
         "type": "scatter",
         "uid": "04add254-f75b-474c-aab6-4c18504b3aef",
         "x": [
          5,
          6,
          7,
          8,
          9,
          10,
          11,
          12,
          13,
          14,
          15,
          16,
          17,
          18,
          19,
          20,
          21,
          22,
          23,
          24,
          25
         ],
         "y": [
          0,
          0,
          0,
          0,
          0,
          0,
          0,
          0,
          0,
          0,
          0,
          0,
          0,
          0,
          0,
          0,
          0,
          0,
          0,
          0,
          0
         ]
        },
        {
         "line": {
          "color": "black",
          "dash": "solid",
          "width": 2
         },
         "mode": "lines",
         "name": "T = -91°C",
         "type": "scatter",
         "uid": "b37dc73e-bcdc-432d-b433-d536ce42c0bd",
         "x": [
          5,
          6,
          7,
          8,
          9,
          10,
          11,
          12,
          13,
          14,
          15,
          16,
          17,
          18,
          19,
          20,
          21,
          22,
          23,
          24,
          25
         ],
         "y": [
          0,
          0,
          0,
          0,
          0,
          0,
          0,
          0,
          0,
          0,
          0,
          0,
          0,
          0,
          0,
          0,
          0,
          0,
          0,
          0,
          0
         ]
        },
        {
         "line": {
          "color": "black",
          "dash": "solid",
          "width": 2
         },
         "mode": "lines",
         "name": "T = -91°C",
         "type": "scatter",
         "uid": "4c48e17c-7415-45d5-83d7-91e2112f7a1f",
         "x": [
          5,
          6,
          7,
          8,
          9,
          10,
          11,
          12,
          13,
          14,
          15,
          16,
          17,
          18,
          19,
          20,
          21,
          22,
          23,
          24,
          25
         ],
         "y": [
          0,
          0,
          0,
          0,
          0,
          0,
          0,
          0,
          0,
          0,
          0,
          0,
          0,
          0,
          0,
          0,
          0,
          0,
          0,
          0,
          0
         ]
        },
        {
         "line": {
          "color": "black",
          "dash": "solid",
          "width": 2
         },
         "mode": "lines",
         "name": "T = -91°C",
         "type": "scatter",
         "uid": "121f4bcf-0f60-4cb5-8f48-32415af39480",
         "x": [
          5,
          6,
          7,
          8,
          9,
          10,
          11,
          12,
          13,
          14,
          15,
          16,
          17,
          18,
          19,
          20,
          21,
          22,
          23,
          24,
          25
         ],
         "y": [
          0,
          0,
          0,
          0,
          0,
          0,
          0,
          0,
          0,
          0,
          0,
          0,
          0,
          0,
          0,
          0,
          0,
          0,
          0,
          0,
          0
         ]
        },
        {
         "line": {
          "color": "black",
          "dash": "solid",
          "width": 2
         },
         "mode": "lines",
         "name": "T = -91°C",
         "type": "scatter",
         "uid": "a854494f-f47c-458e-ae3c-1c15f351a965",
         "x": [
          5,
          6,
          7,
          8,
          9,
          10,
          11,
          12,
          13,
          14,
          15,
          16,
          17,
          18,
          19,
          20,
          21,
          22,
          23,
          24,
          25
         ],
         "y": [
          0,
          0,
          0,
          0,
          0,
          0,
          0,
          0,
          0,
          0,
          0,
          0,
          0,
          0,
          0,
          0,
          0,
          0,
          0,
          0,
          0
         ]
        },
        {
         "line": {
          "color": "black",
          "dash": "solid",
          "width": 2
         },
         "mode": "lines",
         "name": "T = -91°C",
         "type": "scatter",
         "uid": "388c32f7-c918-4732-a67b-e260969b9182",
         "x": [
          5,
          6,
          7,
          8,
          9,
          10,
          11,
          12,
          13,
          14,
          15,
          16,
          17,
          18,
          19,
          20,
          21,
          22,
          23,
          24,
          25
         ],
         "y": [
          0,
          0,
          0,
          0,
          0,
          0,
          0,
          0,
          0,
          0,
          0,
          0,
          0,
          0,
          0,
          0,
          0,
          0,
          0,
          0,
          0
         ]
        },
        {
         "line": {
          "color": "black",
          "dash": "solid",
          "width": 2
         },
         "mode": "lines",
         "name": "T = -91°C",
         "type": "scatter",
         "uid": "e7e7a2f5-26f2-4abb-b600-23ec790047bc",
         "x": [
          5,
          6,
          7,
          8,
          9,
          10,
          11,
          12,
          13,
          14,
          15,
          16,
          17,
          18,
          19,
          20,
          21,
          22,
          23,
          24,
          25
         ],
         "y": [
          0,
          0,
          0,
          0,
          0,
          0,
          0,
          0,
          0,
          0,
          0,
          0,
          0,
          0,
          0,
          0,
          0,
          0,
          0,
          0,
          0
         ]
        },
        {
         "line": {
          "color": "black",
          "dash": "solid",
          "width": 2
         },
         "mode": "lines",
         "name": "T = -91°C",
         "type": "scatter",
         "uid": "2d905ceb-e9cf-489b-9348-2625a596acea",
         "x": [
          5,
          6,
          7,
          8,
          9,
          10,
          11,
          12,
          13,
          14,
          15,
          16,
          17,
          18,
          19,
          20,
          21,
          22,
          23,
          24,
          25
         ],
         "y": [
          0,
          0,
          0,
          0,
          0,
          0,
          0,
          0,
          0,
          0,
          0,
          0,
          0,
          0,
          0,
          0,
          0,
          0,
          0,
          0,
          0
         ]
        },
        {
         "line": {
          "color": "black",
          "dash": "solid",
          "width": 2
         },
         "mode": "lines",
         "name": "T = -91°C",
         "type": "scatter",
         "uid": "b45142ee-6bfe-4f0e-bc68-dcf130a0f86e",
         "x": [
          5,
          6,
          7,
          8,
          9,
          10,
          11,
          12,
          13,
          14,
          15,
          16,
          17,
          18,
          19,
          20,
          21,
          22,
          23,
          24,
          25
         ],
         "y": [
          0,
          0,
          0,
          0,
          0,
          0,
          0,
          0,
          0,
          0,
          0,
          0,
          0,
          0,
          0,
          0,
          0,
          0,
          0,
          0,
          0
         ]
        },
        {
         "line": {
          "color": "black",
          "dash": "solid",
          "width": 2
         },
         "mode": "lines",
         "name": "T = -91°C",
         "type": "scatter",
         "uid": "eeb0abbe-52cb-48a5-b924-b2cc1d349a58",
         "x": [
          5,
          6,
          7,
          8,
          9,
          10,
          11,
          12,
          13,
          14,
          15,
          16,
          17,
          18,
          19,
          20,
          21,
          22,
          23,
          24,
          25
         ],
         "y": [
          0,
          0,
          0,
          0,
          0,
          0,
          0,
          0,
          0,
          0,
          0,
          0,
          0,
          0,
          0,
          0,
          0,
          0,
          0,
          0,
          0
         ]
        },
        {
         "line": {
          "color": "black",
          "dash": "solid",
          "width": 2
         },
         "mode": "lines",
         "name": "T = -91°C",
         "type": "scatter",
         "uid": "80716a6e-de9b-472b-98b2-bade2071cbed",
         "x": [
          5,
          6,
          7,
          8,
          9,
          10,
          11,
          12,
          13,
          14,
          15,
          16,
          17,
          18,
          19,
          20,
          21,
          22,
          23,
          24,
          25
         ],
         "y": [
          0,
          0,
          0,
          0,
          0,
          0,
          0,
          0,
          0,
          0,
          0,
          0,
          0,
          0,
          0,
          0,
          0,
          0,
          0,
          0,
          0
         ]
        },
        {
         "line": {
          "color": "blue",
          "dash": "solid",
          "width": 2
         },
         "mode": "lines",
         "name": "T = -60°C",
         "type": "scatter",
         "uid": "cebf04ee-cb86-482f-afc2-3a4c387b5fa9",
         "x": [
          5,
          6,
          7,
          8,
          9,
          10,
          11,
          12,
          13,
          14,
          15,
          16,
          17,
          18,
          19,
          20,
          21,
          22,
          23,
          24,
          25
         ],
         "y": [
          0.3652996654729911,
          -1.3372440845004587,
          -2.5241872745012577,
          -3.3760472741979703,
          -3.9978605574557204,
          -4.4559169604356015,
          -4.7947031047321875,
          -5.045413518483746,
          -5.230566880524609,
          -5.366708054540838,
          -5.466112064539472,
          -5.537930974308545,
          -5.589004286882854,
          -5.6244494564979535,
          -5.648099214964733,
          -5.6628276255888865,
          -5.670793528709278,
          -5.673622150493384,
          -5.672540384291692,
          -5.668477445177604,
          -5.66213972337414
         ]
        },
        {
         "line": {
          "color": "blue",
          "dash": "solid",
          "width": 2
         },
         "mode": "lines",
         "name": "T = -60°C",
         "type": "scatter",
         "uid": "a4d617e5-e377-462a-8a16-3c397bbb055c",
         "x": [
          5,
          6,
          7,
          8,
          9,
          10,
          11,
          12,
          13,
          14,
          15,
          16,
          17,
          18,
          19,
          20,
          21,
          22,
          23,
          24,
          25
         ],
         "y": [
          0.3652996654729911,
          -1.3372440845004587,
          -2.5241872745012577,
          -3.3760472741979703,
          -3.9978605574557204,
          -4.4559169604356015,
          -4.7947031047321875,
          -5.045413518483746,
          -5.230566880524609,
          -5.366708054540838,
          -5.466112064539472,
          -5.537930974308545,
          -5.589004286882854,
          -5.6244494564979535,
          -5.648099214964733,
          -5.6628276255888865,
          -5.670793528709278,
          -5.673622150493384,
          -5.672540384291692,
          -5.668477445177604,
          -5.66213972337414
         ]
        },
        {
         "line": {
          "color": "blue",
          "dash": "solid",
          "width": 2
         },
         "mode": "lines",
         "name": "T = -60°C",
         "type": "scatter",
         "uid": "049350a1-9692-4cf5-9807-3464c691d866",
         "x": [
          5,
          6,
          7,
          8,
          9,
          10,
          11,
          12,
          13,
          14,
          15,
          16,
          17,
          18,
          19,
          20,
          21,
          22,
          23,
          24,
          25
         ],
         "y": [
          0.3652996654729911,
          -1.3372440845004587,
          -2.5241872745012577,
          -3.3760472741979703,
          -3.9978605574557204,
          -4.4559169604356015,
          -4.7947031047321875,
          -5.045413518483746,
          -5.230566880524609,
          -5.366708054540838,
          -5.466112064539472,
          -5.537930974308545,
          -5.589004286882854,
          -5.6244494564979535,
          -5.648099214964733,
          -5.6628276255888865,
          -5.670793528709278,
          -5.673622150493384,
          -5.672540384291692,
          -5.668477445177604,
          -5.66213972337414
         ]
        },
        {
         "line": {
          "color": "blue",
          "dash": "solid",
          "width": 2
         },
         "mode": "lines",
         "name": "T = -60°C",
         "type": "scatter",
         "uid": "93b3d4d7-9545-40f2-9db0-4f41c6530980",
         "x": [
          5,
          6,
          7,
          8,
          9,
          10,
          11,
          12,
          13,
          14,
          15,
          16,
          17,
          18,
          19,
          20,
          21,
          22,
          23,
          24,
          25
         ],
         "y": [
          0.3652996654729911,
          -1.3372440845004587,
          -2.5241872745012577,
          -3.3760472741979703,
          -3.9978605574557204,
          -4.4559169604356015,
          -4.7947031047321875,
          -5.045413518483746,
          -5.230566880524609,
          -5.366708054540838,
          -5.466112064539472,
          -5.537930974308545,
          -5.589004286882854,
          -5.6244494564979535,
          -5.648099214964733,
          -5.6628276255888865,
          -5.670793528709278,
          -5.673622150493384,
          -5.672540384291692,
          -5.668477445177604,
          -5.66213972337414
         ]
        },
        {
         "line": {
          "color": "blue",
          "dash": "solid",
          "width": 2
         },
         "mode": "lines",
         "name": "T = -60°C",
         "type": "scatter",
         "uid": "66805b84-9f7a-4d99-9b0a-73590e754923",
         "x": [
          5,
          6,
          7,
          8,
          9,
          10,
          11,
          12,
          13,
          14,
          15,
          16,
          17,
          18,
          19,
          20,
          21,
          22,
          23,
          24,
          25
         ],
         "y": [
          0.3652996654729911,
          -1.3372440845004587,
          -2.5241872745012577,
          -3.3760472741979703,
          -3.9978605574557204,
          -4.4559169604356015,
          -4.7947031047321875,
          -5.045413518483746,
          -5.230566880524609,
          -5.366708054540838,
          -5.466112064539472,
          -5.537930974308545,
          -5.589004286882854,
          -5.6244494564979535,
          -5.648099214964733,
          -5.6628276255888865,
          -5.670793528709278,
          -5.673622150493384,
          -5.672540384291692,
          -5.668477445177604,
          -5.66213972337414
         ]
        },
        {
         "line": {
          "color": "blue",
          "dash": "solid",
          "width": 2
         },
         "mode": "lines",
         "name": "T = -60°C",
         "type": "scatter",
         "uid": "026e272c-d4c9-49b2-8497-e0fda0bb4d27",
         "x": [
          5,
          6,
          7,
          8,
          9,
          10,
          11,
          12,
          13,
          14,
          15,
          16,
          17,
          18,
          19,
          20,
          21,
          22,
          23,
          24,
          25
         ],
         "y": [
          0.3652996654729911,
          -1.3372440845004587,
          -2.5241872745012577,
          -3.3760472741979703,
          -3.9978605574557204,
          -4.4559169604356015,
          -4.7947031047321875,
          -5.045413518483746,
          -5.230566880524609,
          -5.366708054540838,
          -5.466112064539472,
          -5.537930974308545,
          -5.589004286882854,
          -5.6244494564979535,
          -5.648099214964733,
          -5.6628276255888865,
          -5.670793528709278,
          -5.673622150493384,
          -5.672540384291692,
          -5.668477445177604,
          -5.66213972337414
         ]
        },
        {
         "line": {
          "color": "blue",
          "dash": "solid",
          "width": 2
         },
         "mode": "lines",
         "name": "T = -60°C",
         "type": "scatter",
         "uid": "01c8c805-eecd-43b5-81c2-b5bb53bf103b",
         "x": [
          5,
          6,
          7,
          8,
          9,
          10,
          11,
          12,
          13,
          14,
          15,
          16,
          17,
          18,
          19,
          20,
          21,
          22,
          23,
          24,
          25
         ],
         "y": [
          0.3652996654729911,
          -1.3372440845004587,
          -2.5241872745012577,
          -3.3760472741979703,
          -3.9978605574557204,
          -4.4559169604356015,
          -4.7947031047321875,
          -5.045413518483746,
          -5.230566880524609,
          -5.366708054540838,
          -5.466112064539472,
          -5.537930974308545,
          -5.589004286882854,
          -5.6244494564979535,
          -5.648099214964733,
          -5.6628276255888865,
          -5.670793528709278,
          -5.673622150493384,
          -5.672540384291692,
          -5.668477445177604,
          -5.66213972337414
         ]
        },
        {
         "line": {
          "color": "blue",
          "dash": "solid",
          "width": 2
         },
         "mode": "lines",
         "name": "T = -60°C",
         "type": "scatter",
         "uid": "b8800be9-c389-4118-bf75-803272baaf49",
         "x": [
          5,
          6,
          7,
          8,
          9,
          10,
          11,
          12,
          13,
          14,
          15,
          16,
          17,
          18,
          19,
          20,
          21,
          22,
          23,
          24,
          25
         ],
         "y": [
          0.3652996654729911,
          -1.3372440845004587,
          -2.5241872745012577,
          -3.3760472741979703,
          -3.9978605574557204,
          -4.4559169604356015,
          -4.7947031047321875,
          -5.045413518483746,
          -5.230566880524609,
          -5.366708054540838,
          -5.466112064539472,
          -5.537930974308545,
          -5.589004286882854,
          -5.6244494564979535,
          -5.648099214964733,
          -5.6628276255888865,
          -5.670793528709278,
          -5.673622150493384,
          -5.672540384291692,
          -5.668477445177604,
          -5.66213972337414
         ]
        },
        {
         "line": {
          "color": "blue",
          "dash": "solid",
          "width": 2
         },
         "mode": "lines",
         "name": "T = -60°C",
         "type": "scatter",
         "uid": "e117856d-022f-4c2c-b584-4a2f92cfadc1",
         "x": [
          5,
          6,
          7,
          8,
          9,
          10,
          11,
          12,
          13,
          14,
          15,
          16,
          17,
          18,
          19,
          20,
          21,
          22,
          23,
          24,
          25
         ],
         "y": [
          0.3652996654729911,
          -1.3372440845004587,
          -2.5241872745012577,
          -3.3760472741979703,
          -3.9978605574557204,
          -4.4559169604356015,
          -4.7947031047321875,
          -5.045413518483746,
          -5.230566880524609,
          -5.366708054540838,
          -5.466112064539472,
          -5.537930974308545,
          -5.589004286882854,
          -5.6244494564979535,
          -5.648099214964733,
          -5.6628276255888865,
          -5.670793528709278,
          -5.673622150493384,
          -5.672540384291692,
          -5.668477445177604,
          -5.66213972337414
         ]
        },
        {
         "line": {
          "color": "blue",
          "dash": "solid",
          "width": 2
         },
         "mode": "lines",
         "name": "T = -60°C",
         "type": "scatter",
         "uid": "3e918c99-a7a4-4545-afc4-bc13b4608b4d",
         "x": [
          5,
          6,
          7,
          8,
          9,
          10,
          11,
          12,
          13,
          14,
          15,
          16,
          17,
          18,
          19,
          20,
          21,
          22,
          23,
          24,
          25
         ],
         "y": [
          0.3652996654729911,
          -1.3372440845004587,
          -2.5241872745012577,
          -3.3760472741979703,
          -3.9978605574557204,
          -4.4559169604356015,
          -4.7947031047321875,
          -5.045413518483746,
          -5.230566880524609,
          -5.366708054540838,
          -5.466112064539472,
          -5.537930974308545,
          -5.589004286882854,
          -5.6244494564979535,
          -5.648099214964733,
          -5.6628276255888865,
          -5.670793528709278,
          -5.673622150493384,
          -5.672540384291692,
          -5.668477445177604,
          -5.66213972337414
         ]
        },
        {
         "line": {
          "color": "blue",
          "dash": "solid",
          "width": 2
         },
         "mode": "lines",
         "name": "T = -60°C",
         "type": "scatter",
         "uid": "a9d93989-99c5-4cc0-862b-3264d330be2f",
         "x": [
          5,
          6,
          7,
          8,
          9,
          10,
          11,
          12,
          13,
          14,
          15,
          16,
          17,
          18,
          19,
          20,
          21,
          22,
          23,
          24,
          25
         ],
         "y": [
          0.3652996654729911,
          -1.3372440845004587,
          -2.5241872745012577,
          -3.3760472741979703,
          -3.9978605574557204,
          -4.4559169604356015,
          -4.7947031047321875,
          -5.045413518483746,
          -5.230566880524609,
          -5.366708054540838,
          -5.466112064539472,
          -5.537930974308545,
          -5.589004286882854,
          -5.6244494564979535,
          -5.648099214964733,
          -5.6628276255888865,
          -5.670793528709278,
          -5.673622150493384,
          -5.672540384291692,
          -5.668477445177604,
          -5.66213972337414
         ]
        },
        {
         "line": {
          "color": "blue",
          "dash": "solid",
          "width": 2
         },
         "mode": "lines",
         "name": "T = -60°C",
         "type": "scatter",
         "uid": "e0ca8965-8017-4724-9498-66a99539a4fd",
         "x": [
          5,
          6,
          7,
          8,
          9,
          10,
          11,
          12,
          13,
          14,
          15,
          16,
          17,
          18,
          19,
          20,
          21,
          22,
          23,
          24,
          25
         ],
         "y": [
          0.3652996654729911,
          -1.3372440845004587,
          -2.5241872745012577,
          -3.3760472741979703,
          -3.9978605574557204,
          -4.4559169604356015,
          -4.7947031047321875,
          -5.045413518483746,
          -5.230566880524609,
          -5.366708054540838,
          -5.466112064539472,
          -5.537930974308545,
          -5.589004286882854,
          -5.6244494564979535,
          -5.648099214964733,
          -5.6628276255888865,
          -5.670793528709278,
          -5.673622150493384,
          -5.672540384291692,
          -5.668477445177604,
          -5.66213972337414
         ]
        },
        {
         "line": {
          "color": "blue",
          "dash": "solid",
          "width": 2
         },
         "mode": "lines",
         "name": "T = -60°C",
         "type": "scatter",
         "uid": "2a5e9132-8b1f-4064-94df-f4be41c849c9",
         "x": [
          5,
          6,
          7,
          8,
          9,
          10,
          11,
          12,
          13,
          14,
          15,
          16,
          17,
          18,
          19,
          20,
          21,
          22,
          23,
          24,
          25
         ],
         "y": [
          0.3652996654729911,
          -1.3372440845004587,
          -2.5241872745012577,
          -3.3760472741979703,
          -3.9978605574557204,
          -4.4559169604356015,
          -4.7947031047321875,
          -5.045413518483746,
          -5.230566880524609,
          -5.366708054540838,
          -5.466112064539472,
          -5.537930974308545,
          -5.589004286882854,
          -5.6244494564979535,
          -5.648099214964733,
          -5.6628276255888865,
          -5.670793528709278,
          -5.673622150493384,
          -5.672540384291692,
          -5.668477445177604,
          -5.66213972337414
         ]
        },
        {
         "line": {
          "color": "blue",
          "dash": "solid",
          "width": 2
         },
         "mode": "lines",
         "name": "T = -60°C",
         "type": "scatter",
         "uid": "6fb3d09c-f016-4249-b2ef-b2454640af2c",
         "x": [
          5,
          6,
          7,
          8,
          9,
          10,
          11,
          12,
          13,
          14,
          15,
          16,
          17,
          18,
          19,
          20,
          21,
          22,
          23,
          24,
          25
         ],
         "y": [
          0.3652996654729911,
          -1.3372440845004587,
          -2.5241872745012577,
          -3.3760472741979703,
          -3.9978605574557204,
          -4.4559169604356015,
          -4.7947031047321875,
          -5.045413518483746,
          -5.230566880524609,
          -5.366708054540838,
          -5.466112064539472,
          -5.537930974308545,
          -5.589004286882854,
          -5.6244494564979535,
          -5.648099214964733,
          -5.6628276255888865,
          -5.670793528709278,
          -5.673622150493384,
          -5.672540384291692,
          -5.668477445177604,
          -5.66213972337414
         ]
        },
        {
         "line": {
          "color": "blue",
          "dash": "solid",
          "width": 2
         },
         "mode": "lines",
         "name": "T = -60°C",
         "type": "scatter",
         "uid": "7cdc5eef-d7d0-4641-adee-d9c6862a4153",
         "x": [
          5,
          6,
          7,
          8,
          9,
          10,
          11,
          12,
          13,
          14,
          15,
          16,
          17,
          18,
          19,
          20,
          21,
          22,
          23,
          24,
          25
         ],
         "y": [
          0.3652996654729911,
          -1.3372440845004587,
          -2.5241872745012577,
          -3.3760472741979703,
          -3.9978605574557204,
          -4.4559169604356015,
          -4.7947031047321875,
          -5.045413518483746,
          -5.230566880524609,
          -5.366708054540838,
          -5.466112064539472,
          -5.537930974308545,
          -5.589004286882854,
          -5.6244494564979535,
          -5.648099214964733,
          -5.6628276255888865,
          -5.670793528709278,
          -5.673622150493384,
          -5.672540384291692,
          -5.668477445177604,
          -5.66213972337414
         ]
        },
        {
         "line": {
          "color": "blue",
          "dash": "solid",
          "width": 2
         },
         "mode": "lines",
         "name": "T = -60°C",
         "type": "scatter",
         "uid": "9464bf2f-8e52-40be-bc2f-649ef3062ff6",
         "x": [
          5,
          6,
          7,
          8,
          9,
          10,
          11,
          12,
          13,
          14,
          15,
          16,
          17,
          18,
          19,
          20,
          21,
          22,
          23,
          24,
          25
         ],
         "y": [
          0.3652996654729911,
          -1.3372440845004587,
          -2.5241872745012577,
          -3.3760472741979703,
          -3.9978605574557204,
          -4.4559169604356015,
          -4.7947031047321875,
          -5.045413518483746,
          -5.230566880524609,
          -5.366708054540838,
          -5.466112064539472,
          -5.537930974308545,
          -5.589004286882854,
          -5.6244494564979535,
          -5.648099214964733,
          -5.6628276255888865,
          -5.670793528709278,
          -5.673622150493384,
          -5.672540384291692,
          -5.668477445177604,
          -5.66213972337414
         ]
        },
        {
         "line": {
          "color": "blue",
          "dash": "solid",
          "width": 2
         },
         "mode": "lines",
         "name": "T = -60°C",
         "type": "scatter",
         "uid": "4ceeb224-91c9-45cb-b9e7-0e617d310368",
         "x": [
          5,
          6,
          7,
          8,
          9,
          10,
          11,
          12,
          13,
          14,
          15,
          16,
          17,
          18,
          19,
          20,
          21,
          22,
          23,
          24,
          25
         ],
         "y": [
          0.3652996654729911,
          -1.3372440845004587,
          -2.5241872745012577,
          -3.3760472741979703,
          -3.9978605574557204,
          -4.4559169604356015,
          -4.7947031047321875,
          -5.045413518483746,
          -5.230566880524609,
          -5.366708054540838,
          -5.466112064539472,
          -5.537930974308545,
          -5.589004286882854,
          -5.6244494564979535,
          -5.648099214964733,
          -5.6628276255888865,
          -5.670793528709278,
          -5.673622150493384,
          -5.672540384291692,
          -5.668477445177604,
          -5.66213972337414
         ]
        },
        {
         "line": {
          "color": "blue",
          "dash": "solid",
          "width": 2
         },
         "mode": "lines",
         "name": "T = -60°C",
         "type": "scatter",
         "uid": "e76aad70-a0b4-4f00-bc08-35d6b5dfe350",
         "x": [
          5,
          6,
          7,
          8,
          9,
          10,
          11,
          12,
          13,
          14,
          15,
          16,
          17,
          18,
          19,
          20,
          21,
          22,
          23,
          24,
          25
         ],
         "y": [
          0.3652996654729911,
          -1.3372440845004587,
          -2.5241872745012577,
          -3.3760472741979703,
          -3.9978605574557204,
          -4.4559169604356015,
          -4.7947031047321875,
          -5.045413518483746,
          -5.230566880524609,
          -5.366708054540838,
          -5.466112064539472,
          -5.537930974308545,
          -5.589004286882854,
          -5.6244494564979535,
          -5.648099214964733,
          -5.6628276255888865,
          -5.670793528709278,
          -5.673622150493384,
          -5.672540384291692,
          -5.668477445177604,
          -5.66213972337414
         ]
        },
        {
         "line": {
          "color": "blue",
          "dash": "solid",
          "width": 2
         },
         "mode": "lines",
         "name": "T = -60°C",
         "type": "scatter",
         "uid": "9bc982c6-b455-4256-a667-76c9543ce42d",
         "x": [
          5,
          6,
          7,
          8,
          9,
          10,
          11,
          12,
          13,
          14,
          15,
          16,
          17,
          18,
          19,
          20,
          21,
          22,
          23,
          24,
          25
         ],
         "y": [
          0.3652996654729911,
          -1.3372440845004587,
          -2.5241872745012577,
          -3.3760472741979703,
          -3.9978605574557204,
          -4.4559169604356015,
          -4.7947031047321875,
          -5.045413518483746,
          -5.230566880524609,
          -5.366708054540838,
          -5.466112064539472,
          -5.537930974308545,
          -5.589004286882854,
          -5.6244494564979535,
          -5.648099214964733,
          -5.6628276255888865,
          -5.670793528709278,
          -5.673622150493384,
          -5.672540384291692,
          -5.668477445177604,
          -5.66213972337414
         ]
        },
        {
         "line": {
          "color": "blue",
          "dash": "solid",
          "width": 2
         },
         "mode": "lines",
         "name": "T = -60°C",
         "type": "scatter",
         "uid": "c23f2637-cf40-4913-bf5a-9896ebebb040",
         "x": [
          5,
          6,
          7,
          8,
          9,
          10,
          11,
          12,
          13,
          14,
          15,
          16,
          17,
          18,
          19,
          20,
          21,
          22,
          23,
          24,
          25
         ],
         "y": [
          0.3652996654729911,
          -1.3372440845004587,
          -2.5241872745012577,
          -3.3760472741979703,
          -3.9978605574557204,
          -4.4559169604356015,
          -4.7947031047321875,
          -5.045413518483746,
          -5.230566880524609,
          -5.366708054540838,
          -5.466112064539472,
          -5.537930974308545,
          -5.589004286882854,
          -5.6244494564979535,
          -5.648099214964733,
          -5.6628276255888865,
          -5.670793528709278,
          -5.673622150493384,
          -5.672540384291692,
          -5.668477445177604,
          -5.66213972337414
         ]
        },
        {
         "line": {
          "color": "blue",
          "dash": "solid",
          "width": 2
         },
         "mode": "lines",
         "name": "T = -60°C",
         "type": "scatter",
         "uid": "790a2d59-783c-4614-b89d-c96b10aadd62",
         "x": [
          5,
          6,
          7,
          8,
          9,
          10,
          11,
          12,
          13,
          14,
          15,
          16,
          17,
          18,
          19,
          20,
          21,
          22,
          23,
          24,
          25
         ],
         "y": [
          0.3652996654729911,
          -1.3372440845004587,
          -2.5241872745012577,
          -3.3760472741979703,
          -3.9978605574557204,
          -4.4559169604356015,
          -4.7947031047321875,
          -5.045413518483746,
          -5.230566880524609,
          -5.366708054540838,
          -5.466112064539472,
          -5.537930974308545,
          -5.589004286882854,
          -5.6244494564979535,
          -5.648099214964733,
          -5.6628276255888865,
          -5.670793528709278,
          -5.673622150493384,
          -5.672540384291692,
          -5.668477445177604,
          -5.66213972337414
         ]
        },
        {
         "line": {
          "color": "green",
          "dash": "solid",
          "width": 2
         },
         "mode": "lines",
         "name": "T = -40°C",
         "type": "scatter",
         "uid": "aee8fe1e-2298-436c-a3f1-b1a5dd1585c1",
         "x": [
          5,
          6,
          7,
          8,
          9,
          10,
          11,
          12,
          13,
          14,
          15,
          16,
          17,
          18,
          19,
          20,
          21,
          22,
          23,
          24,
          25
         ],
         "y": [
          -1.4869197121616968,
          -3.3595819629766233,
          -4.650782622136236,
          -5.5686647445252495,
          -6.234488796241974,
          -6.724370568243876,
          -7.088748098065204,
          -7.362329056990037,
          -7.5696024376968065,
          -7.728126252523066,
          -7.850617664987,
          -7.94634952324846,
          -8.022116313433623,
          -8.082916931812766,
          -8.132443375889698,
          -8.17343297464528,
          -8.20792331684392,
          -8.237437313089712,
          -8.263117919175176,
          -8.28582651431721,
          -8.306214985717805
         ]
        },
        {
         "line": {
          "color": "green",
          "dash": "solid",
          "width": 2
         },
         "mode": "lines",
         "name": "T = -40°C",
         "type": "scatter",
         "uid": "a568ce4b-0466-4d86-8e74-5d99021bc4d3",
         "x": [
          5,
          6,
          7,
          8,
          9,
          10,
          11,
          12,
          13,
          14,
          15,
          16,
          17,
          18,
          19,
          20,
          21,
          22,
          23,
          24,
          25
         ],
         "y": [
          -1.4869197121616968,
          -3.3595819629766233,
          -4.650782622136236,
          -5.5686647445252495,
          -6.234488796241974,
          -6.724370568243876,
          -7.088748098065204,
          -7.362329056990037,
          -7.5696024376968065,
          -7.728126252523066,
          -7.850617664987,
          -7.94634952324846,
          -8.022116313433623,
          -8.082916931812766,
          -8.132443375889698,
          -8.17343297464528,
          -8.20792331684392,
          -8.237437313089712,
          -8.263117919175176,
          -8.28582651431721,
          -8.306214985717805
         ]
        },
        {
         "line": {
          "color": "green",
          "dash": "solid",
          "width": 2
         },
         "mode": "lines",
         "name": "T = -40°C",
         "type": "scatter",
         "uid": "e2b04463-4479-4873-b824-a230ecbd705b",
         "x": [
          5,
          6,
          7,
          8,
          9,
          10,
          11,
          12,
          13,
          14,
          15,
          16,
          17,
          18,
          19,
          20,
          21,
          22,
          23,
          24,
          25
         ],
         "y": [
          -1.4869197121616968,
          -3.3595819629766233,
          -4.650782622136236,
          -5.5686647445252495,
          -6.234488796241974,
          -6.724370568243876,
          -7.088748098065204,
          -7.362329056990037,
          -7.5696024376968065,
          -7.728126252523066,
          -7.850617664987,
          -7.94634952324846,
          -8.022116313433623,
          -8.082916931812766,
          -8.132443375889698,
          -8.17343297464528,
          -8.20792331684392,
          -8.237437313089712,
          -8.263117919175176,
          -8.28582651431721,
          -8.306214985717805
         ]
        },
        {
         "line": {
          "color": "green",
          "dash": "solid",
          "width": 2
         },
         "mode": "lines",
         "name": "T = -40°C",
         "type": "scatter",
         "uid": "2066a5f8-98d8-4cc2-be76-10ec2aaf5083",
         "x": [
          5,
          6,
          7,
          8,
          9,
          10,
          11,
          12,
          13,
          14,
          15,
          16,
          17,
          18,
          19,
          20,
          21,
          22,
          23,
          24,
          25
         ],
         "y": [
          -1.4869197121616968,
          -3.3595819629766233,
          -4.650782622136236,
          -5.5686647445252495,
          -6.234488796241974,
          -6.724370568243876,
          -7.088748098065204,
          -7.362329056990037,
          -7.5696024376968065,
          -7.728126252523066,
          -7.850617664987,
          -7.94634952324846,
          -8.022116313433623,
          -8.082916931812766,
          -8.132443375889698,
          -8.17343297464528,
          -8.20792331684392,
          -8.237437313089712,
          -8.263117919175176,
          -8.28582651431721,
          -8.306214985717805
         ]
        },
        {
         "line": {
          "color": "green",
          "dash": "solid",
          "width": 2
         },
         "mode": "lines",
         "name": "T = -40°C",
         "type": "scatter",
         "uid": "cfe618aa-388e-4382-bdcf-70b11edbeffc",
         "x": [
          5,
          6,
          7,
          8,
          9,
          10,
          11,
          12,
          13,
          14,
          15,
          16,
          17,
          18,
          19,
          20,
          21,
          22,
          23,
          24,
          25
         ],
         "y": [
          -1.4869197121616968,
          -3.3595819629766233,
          -4.650782622136236,
          -5.5686647445252495,
          -6.234488796241974,
          -6.724370568243876,
          -7.088748098065204,
          -7.362329056990037,
          -7.5696024376968065,
          -7.728126252523066,
          -7.850617664987,
          -7.94634952324846,
          -8.022116313433623,
          -8.082916931812766,
          -8.132443375889698,
          -8.17343297464528,
          -8.20792331684392,
          -8.237437313089712,
          -8.263117919175176,
          -8.28582651431721,
          -8.306214985717805
         ]
        },
        {
         "line": {
          "color": "green",
          "dash": "solid",
          "width": 2
         },
         "mode": "lines",
         "name": "T = -40°C",
         "type": "scatter",
         "uid": "6a9db3a7-9f87-4726-873b-6ae3b6f841a2",
         "x": [
          5,
          6,
          7,
          8,
          9,
          10,
          11,
          12,
          13,
          14,
          15,
          16,
          17,
          18,
          19,
          20,
          21,
          22,
          23,
          24,
          25
         ],
         "y": [
          -1.4869197121616968,
          -3.3595819629766233,
          -4.650782622136236,
          -5.5686647445252495,
          -6.234488796241974,
          -6.724370568243876,
          -7.088748098065204,
          -7.362329056990037,
          -7.5696024376968065,
          -7.728126252523066,
          -7.850617664987,
          -7.94634952324846,
          -8.022116313433623,
          -8.082916931812766,
          -8.132443375889698,
          -8.17343297464528,
          -8.20792331684392,
          -8.237437313089712,
          -8.263117919175176,
          -8.28582651431721,
          -8.306214985717805
         ]
        },
        {
         "line": {
          "color": "green",
          "dash": "solid",
          "width": 2
         },
         "mode": "lines",
         "name": "T = -40°C",
         "type": "scatter",
         "uid": "56f43de2-1300-4c91-94f3-eb8ccb04a6cd",
         "x": [
          5,
          6,
          7,
          8,
          9,
          10,
          11,
          12,
          13,
          14,
          15,
          16,
          17,
          18,
          19,
          20,
          21,
          22,
          23,
          24,
          25
         ],
         "y": [
          -1.4869197121616968,
          -3.3595819629766233,
          -4.650782622136236,
          -5.5686647445252495,
          -6.234488796241974,
          -6.724370568243876,
          -7.088748098065204,
          -7.362329056990037,
          -7.5696024376968065,
          -7.728126252523066,
          -7.850617664987,
          -7.94634952324846,
          -8.022116313433623,
          -8.082916931812766,
          -8.132443375889698,
          -8.17343297464528,
          -8.20792331684392,
          -8.237437313089712,
          -8.263117919175176,
          -8.28582651431721,
          -8.306214985717805
         ]
        },
        {
         "line": {
          "color": "green",
          "dash": "solid",
          "width": 2
         },
         "mode": "lines",
         "name": "T = -40°C",
         "type": "scatter",
         "uid": "95003e99-8703-4ea7-b11d-bc43baa3d479",
         "x": [
          5,
          6,
          7,
          8,
          9,
          10,
          11,
          12,
          13,
          14,
          15,
          16,
          17,
          18,
          19,
          20,
          21,
          22,
          23,
          24,
          25
         ],
         "y": [
          -1.4869197121616968,
          -3.3595819629766233,
          -4.650782622136236,
          -5.5686647445252495,
          -6.234488796241974,
          -6.724370568243876,
          -7.088748098065204,
          -7.362329056990037,
          -7.5696024376968065,
          -7.728126252523066,
          -7.850617664987,
          -7.94634952324846,
          -8.022116313433623,
          -8.082916931812766,
          -8.132443375889698,
          -8.17343297464528,
          -8.20792331684392,
          -8.237437313089712,
          -8.263117919175176,
          -8.28582651431721,
          -8.306214985717805
         ]
        },
        {
         "line": {
          "color": "green",
          "dash": "solid",
          "width": 2
         },
         "mode": "lines",
         "name": "T = -40°C",
         "type": "scatter",
         "uid": "d4a6293b-6e2d-46b2-be66-6b33fa459a7a",
         "x": [
          5,
          6,
          7,
          8,
          9,
          10,
          11,
          12,
          13,
          14,
          15,
          16,
          17,
          18,
          19,
          20,
          21,
          22,
          23,
          24,
          25
         ],
         "y": [
          -1.4869197121616968,
          -3.3595819629766233,
          -4.650782622136236,
          -5.5686647445252495,
          -6.234488796241974,
          -6.724370568243876,
          -7.088748098065204,
          -7.362329056990037,
          -7.5696024376968065,
          -7.728126252523066,
          -7.850617664987,
          -7.94634952324846,
          -8.022116313433623,
          -8.082916931812766,
          -8.132443375889698,
          -8.17343297464528,
          -8.20792331684392,
          -8.237437313089712,
          -8.263117919175176,
          -8.28582651431721,
          -8.306214985717805
         ]
        },
        {
         "line": {
          "color": "green",
          "dash": "solid",
          "width": 2
         },
         "mode": "lines",
         "name": "T = -40°C",
         "type": "scatter",
         "uid": "689d00e0-6971-48e0-a68f-5afb6c772860",
         "x": [
          5,
          6,
          7,
          8,
          9,
          10,
          11,
          12,
          13,
          14,
          15,
          16,
          17,
          18,
          19,
          20,
          21,
          22,
          23,
          24,
          25
         ],
         "y": [
          -1.4869197121616968,
          -3.3595819629766233,
          -4.650782622136236,
          -5.5686647445252495,
          -6.234488796241974,
          -6.724370568243876,
          -7.088748098065204,
          -7.362329056990037,
          -7.5696024376968065,
          -7.728126252523066,
          -7.850617664987,
          -7.94634952324846,
          -8.022116313433623,
          -8.082916931812766,
          -8.132443375889698,
          -8.17343297464528,
          -8.20792331684392,
          -8.237437313089712,
          -8.263117919175176,
          -8.28582651431721,
          -8.306214985717805
         ]
        },
        {
         "line": {
          "color": "green",
          "dash": "solid",
          "width": 2
         },
         "mode": "lines",
         "name": "T = -40°C",
         "type": "scatter",
         "uid": "76a51657-bdc7-40a9-ac96-d2d63ec1e68a",
         "x": [
          5,
          6,
          7,
          8,
          9,
          10,
          11,
          12,
          13,
          14,
          15,
          16,
          17,
          18,
          19,
          20,
          21,
          22,
          23,
          24,
          25
         ],
         "y": [
          -1.4869197121616968,
          -3.3595819629766233,
          -4.650782622136236,
          -5.5686647445252495,
          -6.234488796241974,
          -6.724370568243876,
          -7.088748098065204,
          -7.362329056990037,
          -7.5696024376968065,
          -7.728126252523066,
          -7.850617664987,
          -7.94634952324846,
          -8.022116313433623,
          -8.082916931812766,
          -8.132443375889698,
          -8.17343297464528,
          -8.20792331684392,
          -8.237437313089712,
          -8.263117919175176,
          -8.28582651431721,
          -8.306214985717805
         ]
        },
        {
         "line": {
          "color": "green",
          "dash": "solid",
          "width": 2
         },
         "mode": "lines",
         "name": "T = -40°C",
         "type": "scatter",
         "uid": "331eb876-f837-479e-9857-3c83bc44e216",
         "x": [
          5,
          6,
          7,
          8,
          9,
          10,
          11,
          12,
          13,
          14,
          15,
          16,
          17,
          18,
          19,
          20,
          21,
          22,
          23,
          24,
          25
         ],
         "y": [
          -1.4869197121616968,
          -3.3595819629766233,
          -4.650782622136236,
          -5.5686647445252495,
          -6.234488796241974,
          -6.724370568243876,
          -7.088748098065204,
          -7.362329056990037,
          -7.5696024376968065,
          -7.728126252523066,
          -7.850617664987,
          -7.94634952324846,
          -8.022116313433623,
          -8.082916931812766,
          -8.132443375889698,
          -8.17343297464528,
          -8.20792331684392,
          -8.237437313089712,
          -8.263117919175176,
          -8.28582651431721,
          -8.306214985717805
         ]
        },
        {
         "line": {
          "color": "green",
          "dash": "solid",
          "width": 2
         },
         "mode": "lines",
         "name": "T = -40°C",
         "type": "scatter",
         "uid": "ebd40504-c4f9-4855-b87f-6956be93d3fe",
         "x": [
          5,
          6,
          7,
          8,
          9,
          10,
          11,
          12,
          13,
          14,
          15,
          16,
          17,
          18,
          19,
          20,
          21,
          22,
          23,
          24,
          25
         ],
         "y": [
          -1.4869197121616968,
          -3.3595819629766233,
          -4.650782622136236,
          -5.5686647445252495,
          -6.234488796241974,
          -6.724370568243876,
          -7.088748098065204,
          -7.362329056990037,
          -7.5696024376968065,
          -7.728126252523066,
          -7.850617664987,
          -7.94634952324846,
          -8.022116313433623,
          -8.082916931812766,
          -8.132443375889698,
          -8.17343297464528,
          -8.20792331684392,
          -8.237437313089712,
          -8.263117919175176,
          -8.28582651431721,
          -8.306214985717805
         ]
        },
        {
         "line": {
          "color": "green",
          "dash": "solid",
          "width": 2
         },
         "mode": "lines",
         "name": "T = -40°C",
         "type": "scatter",
         "uid": "565eb89a-96e0-4868-9300-9447bfcec6ab",
         "x": [
          5,
          6,
          7,
          8,
          9,
          10,
          11,
          12,
          13,
          14,
          15,
          16,
          17,
          18,
          19,
          20,
          21,
          22,
          23,
          24,
          25
         ],
         "y": [
          -1.4869197121616968,
          -3.3595819629766233,
          -4.650782622136236,
          -5.5686647445252495,
          -6.234488796241974,
          -6.724370568243876,
          -7.088748098065204,
          -7.362329056990037,
          -7.5696024376968065,
          -7.728126252523066,
          -7.850617664987,
          -7.94634952324846,
          -8.022116313433623,
          -8.082916931812766,
          -8.132443375889698,
          -8.17343297464528,
          -8.20792331684392,
          -8.237437313089712,
          -8.263117919175176,
          -8.28582651431721,
          -8.306214985717805
         ]
        },
        {
         "line": {
          "color": "green",
          "dash": "solid",
          "width": 2
         },
         "mode": "lines",
         "name": "T = -40°C",
         "type": "scatter",
         "uid": "cc5574ab-ceac-49b0-a101-a09a8ca64f38",
         "x": [
          5,
          6,
          7,
          8,
          9,
          10,
          11,
          12,
          13,
          14,
          15,
          16,
          17,
          18,
          19,
          20,
          21,
          22,
          23,
          24,
          25
         ],
         "y": [
          -1.4869197121616968,
          -3.3595819629766233,
          -4.650782622136236,
          -5.5686647445252495,
          -6.234488796241974,
          -6.724370568243876,
          -7.088748098065204,
          -7.362329056990037,
          -7.5696024376968065,
          -7.728126252523066,
          -7.850617664987,
          -7.94634952324846,
          -8.022116313433623,
          -8.082916931812766,
          -8.132443375889698,
          -8.17343297464528,
          -8.20792331684392,
          -8.237437313089712,
          -8.263117919175176,
          -8.28582651431721,
          -8.306214985717805
         ]
        },
        {
         "line": {
          "color": "green",
          "dash": "solid",
          "width": 2
         },
         "mode": "lines",
         "name": "T = -40°C",
         "type": "scatter",
         "uid": "dea2e765-e416-4ec3-b505-9748a8d70830",
         "x": [
          5,
          6,
          7,
          8,
          9,
          10,
          11,
          12,
          13,
          14,
          15,
          16,
          17,
          18,
          19,
          20,
          21,
          22,
          23,
          24,
          25
         ],
         "y": [
          -1.4869197121616968,
          -3.3595819629766233,
          -4.650782622136236,
          -5.5686647445252495,
          -6.234488796241974,
          -6.724370568243876,
          -7.088748098065204,
          -7.362329056990037,
          -7.5696024376968065,
          -7.728126252523066,
          -7.850617664987,
          -7.94634952324846,
          -8.022116313433623,
          -8.082916931812766,
          -8.132443375889698,
          -8.17343297464528,
          -8.20792331684392,
          -8.237437313089712,
          -8.263117919175176,
          -8.28582651431721,
          -8.306214985717805
         ]
        },
        {
         "line": {
          "color": "green",
          "dash": "solid",
          "width": 2
         },
         "mode": "lines",
         "name": "T = -40°C",
         "type": "scatter",
         "uid": "06f061fd-8373-4d7c-821a-00cf434b5b37",
         "x": [
          5,
          6,
          7,
          8,
          9,
          10,
          11,
          12,
          13,
          14,
          15,
          16,
          17,
          18,
          19,
          20,
          21,
          22,
          23,
          24,
          25
         ],
         "y": [
          -1.4869197121616968,
          -3.3595819629766233,
          -4.650782622136236,
          -5.5686647445252495,
          -6.234488796241974,
          -6.724370568243876,
          -7.088748098065204,
          -7.362329056990037,
          -7.5696024376968065,
          -7.728126252523066,
          -7.850617664987,
          -7.94634952324846,
          -8.022116313433623,
          -8.082916931812766,
          -8.132443375889698,
          -8.17343297464528,
          -8.20792331684392,
          -8.237437313089712,
          -8.263117919175176,
          -8.28582651431721,
          -8.306214985717805
         ]
        },
        {
         "line": {
          "color": "green",
          "dash": "solid",
          "width": 2
         },
         "mode": "lines",
         "name": "T = -40°C",
         "type": "scatter",
         "uid": "5b7119c1-aeae-4d2e-b974-aae1408651ac",
         "x": [
          5,
          6,
          7,
          8,
          9,
          10,
          11,
          12,
          13,
          14,
          15,
          16,
          17,
          18,
          19,
          20,
          21,
          22,
          23,
          24,
          25
         ],
         "y": [
          -1.4869197121616968,
          -3.3595819629766233,
          -4.650782622136236,
          -5.5686647445252495,
          -6.234488796241974,
          -6.724370568243876,
          -7.088748098065204,
          -7.362329056990037,
          -7.5696024376968065,
          -7.728126252523066,
          -7.850617664987,
          -7.94634952324846,
          -8.022116313433623,
          -8.082916931812766,
          -8.132443375889698,
          -8.17343297464528,
          -8.20792331684392,
          -8.237437313089712,
          -8.263117919175176,
          -8.28582651431721,
          -8.306214985717805
         ]
        },
        {
         "line": {
          "color": "green",
          "dash": "solid",
          "width": 2
         },
         "mode": "lines",
         "name": "T = -40°C",
         "type": "scatter",
         "uid": "ccb17ec8-73fa-4df2-b2a1-c6773edb1df3",
         "x": [
          5,
          6,
          7,
          8,
          9,
          10,
          11,
          12,
          13,
          14,
          15,
          16,
          17,
          18,
          19,
          20,
          21,
          22,
          23,
          24,
          25
         ],
         "y": [
          -1.4869197121616968,
          -3.3595819629766233,
          -4.650782622136236,
          -5.5686647445252495,
          -6.234488796241974,
          -6.724370568243876,
          -7.088748098065204,
          -7.362329056990037,
          -7.5696024376968065,
          -7.728126252523066,
          -7.850617664987,
          -7.94634952324846,
          -8.022116313433623,
          -8.082916931812766,
          -8.132443375889698,
          -8.17343297464528,
          -8.20792331684392,
          -8.237437313089712,
          -8.263117919175176,
          -8.28582651431721,
          -8.306214985717805
         ]
        },
        {
         "line": {
          "color": "green",
          "dash": "solid",
          "width": 2
         },
         "mode": "lines",
         "name": "T = -40°C",
         "type": "scatter",
         "uid": "843fb3dc-c34a-4498-9fac-8d1628d1c91c",
         "x": [
          5,
          6,
          7,
          8,
          9,
          10,
          11,
          12,
          13,
          14,
          15,
          16,
          17,
          18,
          19,
          20,
          21,
          22,
          23,
          24,
          25
         ],
         "y": [
          -1.4869197121616968,
          -3.3595819629766233,
          -4.650782622136236,
          -5.5686647445252495,
          -6.234488796241974,
          -6.724370568243876,
          -7.088748098065204,
          -7.362329056990037,
          -7.5696024376968065,
          -7.728126252523066,
          -7.850617664987,
          -7.94634952324846,
          -8.022116313433623,
          -8.082916931812766,
          -8.132443375889698,
          -8.17343297464528,
          -8.20792331684392,
          -8.237437313089712,
          -8.263117919175176,
          -8.28582651431721,
          -8.306214985717805
         ]
        },
        {
         "line": {
          "color": "green",
          "dash": "solid",
          "width": 2
         },
         "mode": "lines",
         "name": "T = -40°C",
         "type": "scatter",
         "uid": "4310e9ba-5b4c-4919-a12f-57ee7520a8f2",
         "x": [
          5,
          6,
          7,
          8,
          9,
          10,
          11,
          12,
          13,
          14,
          15,
          16,
          17,
          18,
          19,
          20,
          21,
          22,
          23,
          24,
          25
         ],
         "y": [
          -1.4869197121616968,
          -3.3595819629766233,
          -4.650782622136236,
          -5.5686647445252495,
          -6.234488796241974,
          -6.724370568243876,
          -7.088748098065204,
          -7.362329056990037,
          -7.5696024376968065,
          -7.728126252523066,
          -7.850617664987,
          -7.94634952324846,
          -8.022116313433623,
          -8.082916931812766,
          -8.132443375889698,
          -8.17343297464528,
          -8.20792331684392,
          -8.237437313089712,
          -8.263117919175176,
          -8.28582651431721,
          -8.306214985717805
         ]
        }
       ],
       "layout": {
        "annotations": [
         {
          "font": {
           "size": 18
          },
          "showarrow": false,
          "text": "$\\LARGE{m}$",
          "x": 0.5,
          "xref": "paper",
          "y": -0.2,
          "yref": "paper"
         },
         {
          "font": {
           "size": 18
          },
          "showarrow": false,
          "text": "$\\LARGE{ \\Delta \\sigma_\\mathrm{w} (\\%)}$",
          "textangle": -90,
          "x": -0.2,
          "xref": "paper",
          "y": 0.5,
          "yref": "paper"
         },
         {
          "font": {
           "size": 18
          },
          "showarrow": false,
          "text": "",
          "x": 0.41,
          "xref": "paper",
          "y": 1.1,
          "yref": "paper"
         }
        ],
        "height": 420,
        "legend": {
         "x": 0.6,
         "y": 0.5
        },
        "margin": {
         "b": 80,
         "l": 80,
         "r": 20,
         "t": 40
        },
        "showlegend": false,
        "template": {
         "data": {
          "bar": [
           {
            "error_x": {
             "color": "#2a3f5f"
            },
            "error_y": {
             "color": "#2a3f5f"
            },
            "marker": {
             "line": {
              "color": "#E5ECF6",
              "width": 0.5
             }
            },
            "type": "bar"
           }
          ],
          "barpolar": [
           {
            "marker": {
             "line": {
              "color": "#E5ECF6",
              "width": 0.5
             }
            },
            "type": "barpolar"
           }
          ],
          "carpet": [
           {
            "aaxis": {
             "endlinecolor": "#2a3f5f",
             "gridcolor": "white",
             "linecolor": "white",
             "minorgridcolor": "white",
             "startlinecolor": "#2a3f5f"
            },
            "baxis": {
             "endlinecolor": "#2a3f5f",
             "gridcolor": "white",
             "linecolor": "white",
             "minorgridcolor": "white",
             "startlinecolor": "#2a3f5f"
            },
            "type": "carpet"
           }
          ],
          "choropleth": [
           {
            "colorbar": {
             "outlinewidth": 0,
             "ticks": ""
            },
            "type": "choropleth"
           }
          ],
          "contour": [
           {
            "colorbar": {
             "outlinewidth": 0,
             "ticks": ""
            },
            "colorscale": [
             [
              0,
              "#0d0887"
             ],
             [
              0.1111111111111111,
              "#46039f"
             ],
             [
              0.2222222222222222,
              "#7201a8"
             ],
             [
              0.3333333333333333,
              "#9c179e"
             ],
             [
              0.4444444444444444,
              "#bd3786"
             ],
             [
              0.5555555555555556,
              "#d8576b"
             ],
             [
              0.6666666666666666,
              "#ed7953"
             ],
             [
              0.7777777777777778,
              "#fb9f3a"
             ],
             [
              0.8888888888888888,
              "#fdca26"
             ],
             [
              1,
              "#f0f921"
             ]
            ],
            "type": "contour"
           }
          ],
          "contourcarpet": [
           {
            "colorbar": {
             "outlinewidth": 0,
             "ticks": ""
            },
            "type": "contourcarpet"
           }
          ],
          "heatmap": [
           {
            "colorbar": {
             "outlinewidth": 0,
             "ticks": ""
            },
            "colorscale": [
             [
              0,
              "#0d0887"
             ],
             [
              0.1111111111111111,
              "#46039f"
             ],
             [
              0.2222222222222222,
              "#7201a8"
             ],
             [
              0.3333333333333333,
              "#9c179e"
             ],
             [
              0.4444444444444444,
              "#bd3786"
             ],
             [
              0.5555555555555556,
              "#d8576b"
             ],
             [
              0.6666666666666666,
              "#ed7953"
             ],
             [
              0.7777777777777778,
              "#fb9f3a"
             ],
             [
              0.8888888888888888,
              "#fdca26"
             ],
             [
              1,
              "#f0f921"
             ]
            ],
            "type": "heatmap"
           }
          ],
          "heatmapgl": [
           {
            "colorbar": {
             "outlinewidth": 0,
             "ticks": ""
            },
            "colorscale": [
             [
              0,
              "#0d0887"
             ],
             [
              0.1111111111111111,
              "#46039f"
             ],
             [
              0.2222222222222222,
              "#7201a8"
             ],
             [
              0.3333333333333333,
              "#9c179e"
             ],
             [
              0.4444444444444444,
              "#bd3786"
             ],
             [
              0.5555555555555556,
              "#d8576b"
             ],
             [
              0.6666666666666666,
              "#ed7953"
             ],
             [
              0.7777777777777778,
              "#fb9f3a"
             ],
             [
              0.8888888888888888,
              "#fdca26"
             ],
             [
              1,
              "#f0f921"
             ]
            ],
            "type": "heatmapgl"
           }
          ],
          "histogram": [
           {
            "marker": {
             "colorbar": {
              "outlinewidth": 0,
              "ticks": ""
             }
            },
            "type": "histogram"
           }
          ],
          "histogram2d": [
           {
            "colorbar": {
             "outlinewidth": 0,
             "ticks": ""
            },
            "colorscale": [
             [
              0,
              "#0d0887"
             ],
             [
              0.1111111111111111,
              "#46039f"
             ],
             [
              0.2222222222222222,
              "#7201a8"
             ],
             [
              0.3333333333333333,
              "#9c179e"
             ],
             [
              0.4444444444444444,
              "#bd3786"
             ],
             [
              0.5555555555555556,
              "#d8576b"
             ],
             [
              0.6666666666666666,
              "#ed7953"
             ],
             [
              0.7777777777777778,
              "#fb9f3a"
             ],
             [
              0.8888888888888888,
              "#fdca26"
             ],
             [
              1,
              "#f0f921"
             ]
            ],
            "type": "histogram2d"
           }
          ],
          "histogram2dcontour": [
           {
            "colorbar": {
             "outlinewidth": 0,
             "ticks": ""
            },
            "colorscale": [
             [
              0,
              "#0d0887"
             ],
             [
              0.1111111111111111,
              "#46039f"
             ],
             [
              0.2222222222222222,
              "#7201a8"
             ],
             [
              0.3333333333333333,
              "#9c179e"
             ],
             [
              0.4444444444444444,
              "#bd3786"
             ],
             [
              0.5555555555555556,
              "#d8576b"
             ],
             [
              0.6666666666666666,
              "#ed7953"
             ],
             [
              0.7777777777777778,
              "#fb9f3a"
             ],
             [
              0.8888888888888888,
              "#fdca26"
             ],
             [
              1,
              "#f0f921"
             ]
            ],
            "type": "histogram2dcontour"
           }
          ],
          "mesh3d": [
           {
            "colorbar": {
             "outlinewidth": 0,
             "ticks": ""
            },
            "type": "mesh3d"
           }
          ],
          "parcoords": [
           {
            "line": {
             "colorbar": {
              "outlinewidth": 0,
              "ticks": ""
             }
            },
            "type": "parcoords"
           }
          ],
          "pie": [
           {
            "automargin": true,
            "type": "pie"
           }
          ],
          "scatter": [
           {
            "marker": {
             "colorbar": {
              "outlinewidth": 0,
              "ticks": ""
             }
            },
            "type": "scatter"
           }
          ],
          "scatter3d": [
           {
            "line": {
             "colorbar": {
              "outlinewidth": 0,
              "ticks": ""
             }
            },
            "marker": {
             "colorbar": {
              "outlinewidth": 0,
              "ticks": ""
             }
            },
            "type": "scatter3d"
           }
          ],
          "scattercarpet": [
           {
            "marker": {
             "colorbar": {
              "outlinewidth": 0,
              "ticks": ""
             }
            },
            "type": "scattercarpet"
           }
          ],
          "scattergeo": [
           {
            "marker": {
             "colorbar": {
              "outlinewidth": 0,
              "ticks": ""
             }
            },
            "type": "scattergeo"
           }
          ],
          "scattergl": [
           {
            "marker": {
             "colorbar": {
              "outlinewidth": 0,
              "ticks": ""
             }
            },
            "type": "scattergl"
           }
          ],
          "scattermapbox": [
           {
            "marker": {
             "colorbar": {
              "outlinewidth": 0,
              "ticks": ""
             }
            },
            "type": "scattermapbox"
           }
          ],
          "scatterpolar": [
           {
            "marker": {
             "colorbar": {
              "outlinewidth": 0,
              "ticks": ""
             }
            },
            "type": "scatterpolar"
           }
          ],
          "scatterpolargl": [
           {
            "marker": {
             "colorbar": {
              "outlinewidth": 0,
              "ticks": ""
             }
            },
            "type": "scatterpolargl"
           }
          ],
          "scatterternary": [
           {
            "marker": {
             "colorbar": {
              "outlinewidth": 0,
              "ticks": ""
             }
            },
            "type": "scatterternary"
           }
          ],
          "surface": [
           {
            "colorbar": {
             "outlinewidth": 0,
             "ticks": ""
            },
            "colorscale": [
             [
              0,
              "#0d0887"
             ],
             [
              0.1111111111111111,
              "#46039f"
             ],
             [
              0.2222222222222222,
              "#7201a8"
             ],
             [
              0.3333333333333333,
              "#9c179e"
             ],
             [
              0.4444444444444444,
              "#bd3786"
             ],
             [
              0.5555555555555556,
              "#d8576b"
             ],
             [
              0.6666666666666666,
              "#ed7953"
             ],
             [
              0.7777777777777778,
              "#fb9f3a"
             ],
             [
              0.8888888888888888,
              "#fdca26"
             ],
             [
              1,
              "#f0f921"
             ]
            ],
            "type": "surface"
           }
          ],
          "table": [
           {
            "cells": {
             "fill": {
              "color": "#EBF0F8"
             },
             "line": {
              "color": "white"
             }
            },
            "header": {
             "fill": {
              "color": "#C8D4E3"
             },
             "line": {
              "color": "white"
             }
            },
            "type": "table"
           }
          ]
         },
         "layout": {
          "annotationdefaults": {
           "arrowcolor": "#2a3f5f",
           "arrowhead": 0,
           "arrowwidth": 1
          },
          "autotypenumbers": "strict",
          "coloraxis": {
           "colorbar": {
            "outlinewidth": 0,
            "ticks": ""
           }
          },
          "colorscale": {
           "diverging": [
            [
             0,
             "#8e0152"
            ],
            [
             0.1,
             "#c51b7d"
            ],
            [
             0.2,
             "#de77ae"
            ],
            [
             0.3,
             "#f1b6da"
            ],
            [
             0.4,
             "#fde0ef"
            ],
            [
             0.5,
             "#f7f7f7"
            ],
            [
             0.6,
             "#e6f5d0"
            ],
            [
             0.7,
             "#b8e186"
            ],
            [
             0.8,
             "#7fbc41"
            ],
            [
             0.9,
             "#4d9221"
            ],
            [
             1,
             "#276419"
            ]
           ],
           "sequential": [
            [
             0,
             "#0d0887"
            ],
            [
             0.1111111111111111,
             "#46039f"
            ],
            [
             0.2222222222222222,
             "#7201a8"
            ],
            [
             0.3333333333333333,
             "#9c179e"
            ],
            [
             0.4444444444444444,
             "#bd3786"
            ],
            [
             0.5555555555555556,
             "#d8576b"
            ],
            [
             0.6666666666666666,
             "#ed7953"
            ],
            [
             0.7777777777777778,
             "#fb9f3a"
            ],
            [
             0.8888888888888888,
             "#fdca26"
            ],
            [
             1,
             "#f0f921"
            ]
           ],
           "sequentialminus": [
            [
             0,
             "#0d0887"
            ],
            [
             0.1111111111111111,
             "#46039f"
            ],
            [
             0.2222222222222222,
             "#7201a8"
            ],
            [
             0.3333333333333333,
             "#9c179e"
            ],
            [
             0.4444444444444444,
             "#bd3786"
            ],
            [
             0.5555555555555556,
             "#d8576b"
            ],
            [
             0.6666666666666666,
             "#ed7953"
            ],
            [
             0.7777777777777778,
             "#fb9f3a"
            ],
            [
             0.8888888888888888,
             "#fdca26"
            ],
            [
             1,
             "#f0f921"
            ]
           ]
          },
          "colorway": [
           "#636efa",
           "#EF553B",
           "#00cc96",
           "#ab63fa",
           "#FFA15A",
           "#19d3f3",
           "#FF6692",
           "#B6E880",
           "#FF97FF",
           "#FECB52"
          ],
          "font": {
           "color": "#2a3f5f"
          },
          "geo": {
           "bgcolor": "white",
           "lakecolor": "white",
           "landcolor": "#E5ECF6",
           "showlakes": true,
           "showland": true,
           "subunitcolor": "white"
          },
          "hoverlabel": {
           "align": "left"
          },
          "hovermode": "closest",
          "mapbox": {
           "style": "light"
          },
          "paper_bgcolor": "white",
          "plot_bgcolor": "#E5ECF6",
          "polar": {
           "angularaxis": {
            "gridcolor": "white",
            "linecolor": "white",
            "ticks": ""
           },
           "bgcolor": "#E5ECF6",
           "radialaxis": {
            "gridcolor": "white",
            "linecolor": "white",
            "ticks": ""
           }
          },
          "scene": {
           "xaxis": {
            "backgroundcolor": "#E5ECF6",
            "gridcolor": "white",
            "gridwidth": 2,
            "linecolor": "white",
            "showbackground": true,
            "ticks": "",
            "zerolinecolor": "white"
           },
           "yaxis": {
            "backgroundcolor": "#E5ECF6",
            "gridcolor": "white",
            "gridwidth": 2,
            "linecolor": "white",
            "showbackground": true,
            "ticks": "",
            "zerolinecolor": "white"
           },
           "zaxis": {
            "backgroundcolor": "#E5ECF6",
            "gridcolor": "white",
            "gridwidth": 2,
            "linecolor": "white",
            "showbackground": true,
            "ticks": "",
            "zerolinecolor": "white"
           }
          },
          "shapedefaults": {
           "line": {
            "color": "#2a3f5f"
           }
          },
          "ternary": {
           "aaxis": {
            "gridcolor": "white",
            "linecolor": "white",
            "ticks": ""
           },
           "baxis": {
            "gridcolor": "white",
            "linecolor": "white",
            "ticks": ""
           },
           "bgcolor": "#E5ECF6",
           "caxis": {
            "gridcolor": "white",
            "linecolor": "white",
            "ticks": ""
           }
          },
          "title": {
           "x": 0.05
          },
          "xaxis": {
           "automargin": true,
           "gridcolor": "white",
           "linecolor": "white",
           "ticks": "",
           "title": {
            "standoff": 15
           },
           "zerolinecolor": "white",
           "zerolinewidth": 2
          },
          "yaxis": {
           "automargin": true,
           "gridcolor": "white",
           "linecolor": "white",
           "ticks": "",
           "title": {
            "standoff": 15
           },
           "zerolinecolor": "white",
           "zerolinewidth": 2
          }
         }
        },
        "width": 450,
        "xaxis": {
         "mirror": "all",
         "range": [
          5,
          25
         ],
         "showline": true,
         "title": {
          "font": {
           "size": 13
          }
         },
         "zeroline": false
        },
        "yaxis": {
         "mirror": "all",
         "showline": true,
         "title": {
          "font": {
           "size": 13
          }
         },
         "zeroline": false
        }
       }
      },
      "text/html": [
       "<div>                            <div id=\"cd811113-b99d-4aad-9b7a-549fd02c9c5e\" class=\"plotly-graph-div\" style=\"height:420px; width:450px;\"></div>            <script type=\"text/javascript\">                require([\"plotly\"], function(Plotly) {                    window.PLOTLYENV=window.PLOTLYENV || {};                                    if (document.getElementById(\"cd811113-b99d-4aad-9b7a-549fd02c9c5e\")) {                    Plotly.newPlot(                        \"cd811113-b99d-4aad-9b7a-549fd02c9c5e\",                        [{\"line\": {\"color\": \"black\", \"dash\": \"solid\", \"width\": 2}, \"mode\": \"lines\", \"name\": \"T = -91\\u00b0C\", \"type\": \"scatter\", \"uid\": \"d5c92166-e64b-43e0-b974-4a63b660141a\", \"x\": [5, 6, 7, 8, 9, 10, 11, 12, 13, 14, 15, 16, 17, 18, 19, 20, 21, 22, 23, 24, 25], \"y\": [0.0, 0.0, 0.0, 0.0, 0.0, 0.0, 0.0, 0.0, 0.0, 0.0, 0.0, 0.0, 0.0, 0.0, 0.0, 0.0, 0.0, 0.0, 0.0, 0.0, 0.0]}, {\"line\": {\"color\": \"black\", \"dash\": \"solid\", \"width\": 2}, \"mode\": \"lines\", \"name\": \"T = -91\\u00b0C\", \"type\": \"scatter\", \"uid\": \"c23ba409-cc1c-40c5-a407-92b5cb0fd771\", \"x\": [5, 6, 7, 8, 9, 10, 11, 12, 13, 14, 15, 16, 17, 18, 19, 20, 21, 22, 23, 24, 25], \"y\": [0.0, 0.0, 0.0, 0.0, 0.0, 0.0, 0.0, 0.0, 0.0, 0.0, 0.0, 0.0, 0.0, 0.0, 0.0, 0.0, 0.0, 0.0, 0.0, 0.0, 0.0]}, {\"line\": {\"color\": \"black\", \"dash\": \"solid\", \"width\": 2}, \"mode\": \"lines\", \"name\": \"T = -91\\u00b0C\", \"type\": \"scatter\", \"uid\": \"672902a4-180b-49f3-a478-088fb12a5db3\", \"x\": [5, 6, 7, 8, 9, 10, 11, 12, 13, 14, 15, 16, 17, 18, 19, 20, 21, 22, 23, 24, 25], \"y\": [0.0, 0.0, 0.0, 0.0, 0.0, 0.0, 0.0, 0.0, 0.0, 0.0, 0.0, 0.0, 0.0, 0.0, 0.0, 0.0, 0.0, 0.0, 0.0, 0.0, 0.0]}, {\"line\": {\"color\": \"black\", \"dash\": \"solid\", \"width\": 2}, \"mode\": \"lines\", \"name\": \"T = -91\\u00b0C\", \"type\": \"scatter\", \"uid\": \"94629003-15bf-4572-b5e8-69058f993227\", \"x\": [5, 6, 7, 8, 9, 10, 11, 12, 13, 14, 15, 16, 17, 18, 19, 20, 21, 22, 23, 24, 25], \"y\": [0.0, 0.0, 0.0, 0.0, 0.0, 0.0, 0.0, 0.0, 0.0, 0.0, 0.0, 0.0, 0.0, 0.0, 0.0, 0.0, 0.0, 0.0, 0.0, 0.0, 0.0]}, {\"line\": {\"color\": \"black\", \"dash\": \"solid\", \"width\": 2}, \"mode\": \"lines\", \"name\": \"T = -91\\u00b0C\", \"type\": \"scatter\", \"uid\": \"3e27a57a-b582-4926-8987-6f0c80f921a0\", \"x\": [5, 6, 7, 8, 9, 10, 11, 12, 13, 14, 15, 16, 17, 18, 19, 20, 21, 22, 23, 24, 25], \"y\": [0.0, 0.0, 0.0, 0.0, 0.0, 0.0, 0.0, 0.0, 0.0, 0.0, 0.0, 0.0, 0.0, 0.0, 0.0, 0.0, 0.0, 0.0, 0.0, 0.0, 0.0]}, {\"line\": {\"color\": \"black\", \"dash\": \"solid\", \"width\": 2}, \"mode\": \"lines\", \"name\": \"T = -91\\u00b0C\", \"type\": \"scatter\", \"uid\": \"f3c8e4b6-ce2b-417c-9f89-971bd4b11c13\", \"x\": [5, 6, 7, 8, 9, 10, 11, 12, 13, 14, 15, 16, 17, 18, 19, 20, 21, 22, 23, 24, 25], \"y\": [0.0, 0.0, 0.0, 0.0, 0.0, 0.0, 0.0, 0.0, 0.0, 0.0, 0.0, 0.0, 0.0, 0.0, 0.0, 0.0, 0.0, 0.0, 0.0, 0.0, 0.0]}, {\"line\": {\"color\": \"black\", \"dash\": \"solid\", \"width\": 2}, \"mode\": \"lines\", \"name\": \"T = -91\\u00b0C\", \"type\": \"scatter\", \"uid\": \"10f2d733-3c78-49f4-941a-ab48ae9a38a0\", \"x\": [5, 6, 7, 8, 9, 10, 11, 12, 13, 14, 15, 16, 17, 18, 19, 20, 21, 22, 23, 24, 25], \"y\": [0.0, 0.0, 0.0, 0.0, 0.0, 0.0, 0.0, 0.0, 0.0, 0.0, 0.0, 0.0, 0.0, 0.0, 0.0, 0.0, 0.0, 0.0, 0.0, 0.0, 0.0]}, {\"line\": {\"color\": \"black\", \"dash\": \"solid\", \"width\": 2}, \"mode\": \"lines\", \"name\": \"T = -91\\u00b0C\", \"type\": \"scatter\", \"uid\": \"7cadabde-e957-45e1-9e39-b4497176e5a3\", \"x\": [5, 6, 7, 8, 9, 10, 11, 12, 13, 14, 15, 16, 17, 18, 19, 20, 21, 22, 23, 24, 25], \"y\": [0.0, 0.0, 0.0, 0.0, 0.0, 0.0, 0.0, 0.0, 0.0, 0.0, 0.0, 0.0, 0.0, 0.0, 0.0, 0.0, 0.0, 0.0, 0.0, 0.0, 0.0]}, {\"line\": {\"color\": \"black\", \"dash\": \"solid\", \"width\": 2}, \"mode\": \"lines\", \"name\": \"T = -91\\u00b0C\", \"type\": \"scatter\", \"uid\": \"bbcc92f6-771b-4400-97e2-9fdd8d695834\", \"x\": [5, 6, 7, 8, 9, 10, 11, 12, 13, 14, 15, 16, 17, 18, 19, 20, 21, 22, 23, 24, 25], \"y\": [0.0, 0.0, 0.0, 0.0, 0.0, 0.0, 0.0, 0.0, 0.0, 0.0, 0.0, 0.0, 0.0, 0.0, 0.0, 0.0, 0.0, 0.0, 0.0, 0.0, 0.0]}, {\"line\": {\"color\": \"black\", \"dash\": \"solid\", \"width\": 2}, \"mode\": \"lines\", \"name\": \"T = -91\\u00b0C\", \"type\": \"scatter\", \"uid\": \"2ee63944-da04-48d2-8827-c9aa2c8cb7ab\", \"x\": [5, 6, 7, 8, 9, 10, 11, 12, 13, 14, 15, 16, 17, 18, 19, 20, 21, 22, 23, 24, 25], \"y\": [0.0, 0.0, 0.0, 0.0, 0.0, 0.0, 0.0, 0.0, 0.0, 0.0, 0.0, 0.0, 0.0, 0.0, 0.0, 0.0, 0.0, 0.0, 0.0, 0.0, 0.0]}, {\"line\": {\"color\": \"black\", \"dash\": \"solid\", \"width\": 2}, \"mode\": \"lines\", \"name\": \"T = -91\\u00b0C\", \"type\": \"scatter\", \"uid\": \"04add254-f75b-474c-aab6-4c18504b3aef\", \"x\": [5, 6, 7, 8, 9, 10, 11, 12, 13, 14, 15, 16, 17, 18, 19, 20, 21, 22, 23, 24, 25], \"y\": [0.0, 0.0, 0.0, 0.0, 0.0, 0.0, 0.0, 0.0, 0.0, 0.0, 0.0, 0.0, 0.0, 0.0, 0.0, 0.0, 0.0, 0.0, 0.0, 0.0, 0.0]}, {\"line\": {\"color\": \"black\", \"dash\": \"solid\", \"width\": 2}, \"mode\": \"lines\", \"name\": \"T = -91\\u00b0C\", \"type\": \"scatter\", \"uid\": \"b37dc73e-bcdc-432d-b433-d536ce42c0bd\", \"x\": [5, 6, 7, 8, 9, 10, 11, 12, 13, 14, 15, 16, 17, 18, 19, 20, 21, 22, 23, 24, 25], \"y\": [0.0, 0.0, 0.0, 0.0, 0.0, 0.0, 0.0, 0.0, 0.0, 0.0, 0.0, 0.0, 0.0, 0.0, 0.0, 0.0, 0.0, 0.0, 0.0, 0.0, 0.0]}, {\"line\": {\"color\": \"black\", \"dash\": \"solid\", \"width\": 2}, \"mode\": \"lines\", \"name\": \"T = -91\\u00b0C\", \"type\": \"scatter\", \"uid\": \"4c48e17c-7415-45d5-83d7-91e2112f7a1f\", \"x\": [5, 6, 7, 8, 9, 10, 11, 12, 13, 14, 15, 16, 17, 18, 19, 20, 21, 22, 23, 24, 25], \"y\": [0.0, 0.0, 0.0, 0.0, 0.0, 0.0, 0.0, 0.0, 0.0, 0.0, 0.0, 0.0, 0.0, 0.0, 0.0, 0.0, 0.0, 0.0, 0.0, 0.0, 0.0]}, {\"line\": {\"color\": \"black\", \"dash\": \"solid\", \"width\": 2}, \"mode\": \"lines\", \"name\": \"T = -91\\u00b0C\", \"type\": \"scatter\", \"uid\": \"121f4bcf-0f60-4cb5-8f48-32415af39480\", \"x\": [5, 6, 7, 8, 9, 10, 11, 12, 13, 14, 15, 16, 17, 18, 19, 20, 21, 22, 23, 24, 25], \"y\": [0.0, 0.0, 0.0, 0.0, 0.0, 0.0, 0.0, 0.0, 0.0, 0.0, 0.0, 0.0, 0.0, 0.0, 0.0, 0.0, 0.0, 0.0, 0.0, 0.0, 0.0]}, {\"line\": {\"color\": \"black\", \"dash\": \"solid\", \"width\": 2}, \"mode\": \"lines\", \"name\": \"T = -91\\u00b0C\", \"type\": \"scatter\", \"uid\": \"a854494f-f47c-458e-ae3c-1c15f351a965\", \"x\": [5, 6, 7, 8, 9, 10, 11, 12, 13, 14, 15, 16, 17, 18, 19, 20, 21, 22, 23, 24, 25], \"y\": [0.0, 0.0, 0.0, 0.0, 0.0, 0.0, 0.0, 0.0, 0.0, 0.0, 0.0, 0.0, 0.0, 0.0, 0.0, 0.0, 0.0, 0.0, 0.0, 0.0, 0.0]}, {\"line\": {\"color\": \"black\", \"dash\": \"solid\", \"width\": 2}, \"mode\": \"lines\", \"name\": \"T = -91\\u00b0C\", \"type\": \"scatter\", \"uid\": \"388c32f7-c918-4732-a67b-e260969b9182\", \"x\": [5, 6, 7, 8, 9, 10, 11, 12, 13, 14, 15, 16, 17, 18, 19, 20, 21, 22, 23, 24, 25], \"y\": [0.0, 0.0, 0.0, 0.0, 0.0, 0.0, 0.0, 0.0, 0.0, 0.0, 0.0, 0.0, 0.0, 0.0, 0.0, 0.0, 0.0, 0.0, 0.0, 0.0, 0.0]}, {\"line\": {\"color\": \"black\", \"dash\": \"solid\", \"width\": 2}, \"mode\": \"lines\", \"name\": \"T = -91\\u00b0C\", \"type\": \"scatter\", \"uid\": \"e7e7a2f5-26f2-4abb-b600-23ec790047bc\", \"x\": [5, 6, 7, 8, 9, 10, 11, 12, 13, 14, 15, 16, 17, 18, 19, 20, 21, 22, 23, 24, 25], \"y\": [0.0, 0.0, 0.0, 0.0, 0.0, 0.0, 0.0, 0.0, 0.0, 0.0, 0.0, 0.0, 0.0, 0.0, 0.0, 0.0, 0.0, 0.0, 0.0, 0.0, 0.0]}, {\"line\": {\"color\": \"black\", \"dash\": \"solid\", \"width\": 2}, \"mode\": \"lines\", \"name\": \"T = -91\\u00b0C\", \"type\": \"scatter\", \"uid\": \"2d905ceb-e9cf-489b-9348-2625a596acea\", \"x\": [5, 6, 7, 8, 9, 10, 11, 12, 13, 14, 15, 16, 17, 18, 19, 20, 21, 22, 23, 24, 25], \"y\": [0.0, 0.0, 0.0, 0.0, 0.0, 0.0, 0.0, 0.0, 0.0, 0.0, 0.0, 0.0, 0.0, 0.0, 0.0, 0.0, 0.0, 0.0, 0.0, 0.0, 0.0]}, {\"line\": {\"color\": \"black\", \"dash\": \"solid\", \"width\": 2}, \"mode\": \"lines\", \"name\": \"T = -91\\u00b0C\", \"type\": \"scatter\", \"uid\": \"b45142ee-6bfe-4f0e-bc68-dcf130a0f86e\", \"x\": [5, 6, 7, 8, 9, 10, 11, 12, 13, 14, 15, 16, 17, 18, 19, 20, 21, 22, 23, 24, 25], \"y\": [0.0, 0.0, 0.0, 0.0, 0.0, 0.0, 0.0, 0.0, 0.0, 0.0, 0.0, 0.0, 0.0, 0.0, 0.0, 0.0, 0.0, 0.0, 0.0, 0.0, 0.0]}, {\"line\": {\"color\": \"black\", \"dash\": \"solid\", \"width\": 2}, \"mode\": \"lines\", \"name\": \"T = -91\\u00b0C\", \"type\": \"scatter\", \"uid\": \"eeb0abbe-52cb-48a5-b924-b2cc1d349a58\", \"x\": [5, 6, 7, 8, 9, 10, 11, 12, 13, 14, 15, 16, 17, 18, 19, 20, 21, 22, 23, 24, 25], \"y\": [0.0, 0.0, 0.0, 0.0, 0.0, 0.0, 0.0, 0.0, 0.0, 0.0, 0.0, 0.0, 0.0, 0.0, 0.0, 0.0, 0.0, 0.0, 0.0, 0.0, 0.0]}, {\"line\": {\"color\": \"black\", \"dash\": \"solid\", \"width\": 2}, \"mode\": \"lines\", \"name\": \"T = -91\\u00b0C\", \"type\": \"scatter\", \"uid\": \"80716a6e-de9b-472b-98b2-bade2071cbed\", \"x\": [5, 6, 7, 8, 9, 10, 11, 12, 13, 14, 15, 16, 17, 18, 19, 20, 21, 22, 23, 24, 25], \"y\": [0.0, 0.0, 0.0, 0.0, 0.0, 0.0, 0.0, 0.0, 0.0, 0.0, 0.0, 0.0, 0.0, 0.0, 0.0, 0.0, 0.0, 0.0, 0.0, 0.0, 0.0]}, {\"line\": {\"color\": \"blue\", \"dash\": \"solid\", \"width\": 2}, \"mode\": \"lines\", \"name\": \"T = -60\\u00b0C\", \"type\": \"scatter\", \"uid\": \"cebf04ee-cb86-482f-afc2-3a4c387b5fa9\", \"x\": [5, 6, 7, 8, 9, 10, 11, 12, 13, 14, 15, 16, 17, 18, 19, 20, 21, 22, 23, 24, 25], \"y\": [0.3652996654729911, -1.3372440845004587, -2.5241872745012577, -3.3760472741979703, -3.9978605574557204, -4.4559169604356015, -4.7947031047321875, -5.045413518483746, -5.230566880524609, -5.366708054540838, -5.466112064539472, -5.537930974308545, -5.589004286882854, -5.6244494564979535, -5.648099214964733, -5.6628276255888865, -5.670793528709278, -5.673622150493384, -5.672540384291692, -5.668477445177604, -5.66213972337414]}, {\"line\": {\"color\": \"blue\", \"dash\": \"solid\", \"width\": 2}, \"mode\": \"lines\", \"name\": \"T = -60\\u00b0C\", \"type\": \"scatter\", \"uid\": \"a4d617e5-e377-462a-8a16-3c397bbb055c\", \"x\": [5, 6, 7, 8, 9, 10, 11, 12, 13, 14, 15, 16, 17, 18, 19, 20, 21, 22, 23, 24, 25], \"y\": [0.3652996654729911, -1.3372440845004587, -2.5241872745012577, -3.3760472741979703, -3.9978605574557204, -4.4559169604356015, -4.7947031047321875, -5.045413518483746, -5.230566880524609, -5.366708054540838, -5.466112064539472, -5.537930974308545, -5.589004286882854, -5.6244494564979535, -5.648099214964733, -5.6628276255888865, -5.670793528709278, -5.673622150493384, -5.672540384291692, -5.668477445177604, -5.66213972337414]}, {\"line\": {\"color\": \"blue\", \"dash\": \"solid\", \"width\": 2}, \"mode\": \"lines\", \"name\": \"T = -60\\u00b0C\", \"type\": \"scatter\", \"uid\": \"049350a1-9692-4cf5-9807-3464c691d866\", \"x\": [5, 6, 7, 8, 9, 10, 11, 12, 13, 14, 15, 16, 17, 18, 19, 20, 21, 22, 23, 24, 25], \"y\": [0.3652996654729911, -1.3372440845004587, -2.5241872745012577, -3.3760472741979703, -3.9978605574557204, -4.4559169604356015, -4.7947031047321875, -5.045413518483746, -5.230566880524609, -5.366708054540838, -5.466112064539472, -5.537930974308545, -5.589004286882854, -5.6244494564979535, -5.648099214964733, -5.6628276255888865, -5.670793528709278, -5.673622150493384, -5.672540384291692, -5.668477445177604, -5.66213972337414]}, {\"line\": {\"color\": \"blue\", \"dash\": \"solid\", \"width\": 2}, \"mode\": \"lines\", \"name\": \"T = -60\\u00b0C\", \"type\": \"scatter\", \"uid\": \"93b3d4d7-9545-40f2-9db0-4f41c6530980\", \"x\": [5, 6, 7, 8, 9, 10, 11, 12, 13, 14, 15, 16, 17, 18, 19, 20, 21, 22, 23, 24, 25], \"y\": [0.3652996654729911, -1.3372440845004587, -2.5241872745012577, -3.3760472741979703, -3.9978605574557204, -4.4559169604356015, -4.7947031047321875, -5.045413518483746, -5.230566880524609, -5.366708054540838, -5.466112064539472, -5.537930974308545, -5.589004286882854, -5.6244494564979535, -5.648099214964733, -5.6628276255888865, -5.670793528709278, -5.673622150493384, -5.672540384291692, -5.668477445177604, -5.66213972337414]}, {\"line\": {\"color\": \"blue\", \"dash\": \"solid\", \"width\": 2}, \"mode\": \"lines\", \"name\": \"T = -60\\u00b0C\", \"type\": \"scatter\", \"uid\": \"66805b84-9f7a-4d99-9b0a-73590e754923\", \"x\": [5, 6, 7, 8, 9, 10, 11, 12, 13, 14, 15, 16, 17, 18, 19, 20, 21, 22, 23, 24, 25], \"y\": [0.3652996654729911, -1.3372440845004587, -2.5241872745012577, -3.3760472741979703, -3.9978605574557204, -4.4559169604356015, -4.7947031047321875, -5.045413518483746, -5.230566880524609, -5.366708054540838, -5.466112064539472, -5.537930974308545, -5.589004286882854, -5.6244494564979535, -5.648099214964733, -5.6628276255888865, -5.670793528709278, -5.673622150493384, -5.672540384291692, -5.668477445177604, -5.66213972337414]}, {\"line\": {\"color\": \"blue\", \"dash\": \"solid\", \"width\": 2}, \"mode\": \"lines\", \"name\": \"T = -60\\u00b0C\", \"type\": \"scatter\", \"uid\": \"026e272c-d4c9-49b2-8497-e0fda0bb4d27\", \"x\": [5, 6, 7, 8, 9, 10, 11, 12, 13, 14, 15, 16, 17, 18, 19, 20, 21, 22, 23, 24, 25], \"y\": [0.3652996654729911, -1.3372440845004587, -2.5241872745012577, -3.3760472741979703, -3.9978605574557204, -4.4559169604356015, -4.7947031047321875, -5.045413518483746, -5.230566880524609, -5.366708054540838, -5.466112064539472, -5.537930974308545, -5.589004286882854, -5.6244494564979535, -5.648099214964733, -5.6628276255888865, -5.670793528709278, -5.673622150493384, -5.672540384291692, -5.668477445177604, -5.66213972337414]}, {\"line\": {\"color\": \"blue\", \"dash\": \"solid\", \"width\": 2}, \"mode\": \"lines\", \"name\": \"T = -60\\u00b0C\", \"type\": \"scatter\", \"uid\": \"01c8c805-eecd-43b5-81c2-b5bb53bf103b\", \"x\": [5, 6, 7, 8, 9, 10, 11, 12, 13, 14, 15, 16, 17, 18, 19, 20, 21, 22, 23, 24, 25], \"y\": [0.3652996654729911, -1.3372440845004587, -2.5241872745012577, -3.3760472741979703, -3.9978605574557204, -4.4559169604356015, -4.7947031047321875, -5.045413518483746, -5.230566880524609, -5.366708054540838, -5.466112064539472, -5.537930974308545, -5.589004286882854, -5.6244494564979535, -5.648099214964733, -5.6628276255888865, -5.670793528709278, -5.673622150493384, -5.672540384291692, -5.668477445177604, -5.66213972337414]}, {\"line\": {\"color\": \"blue\", \"dash\": \"solid\", \"width\": 2}, \"mode\": \"lines\", \"name\": \"T = -60\\u00b0C\", \"type\": \"scatter\", \"uid\": \"b8800be9-c389-4118-bf75-803272baaf49\", \"x\": [5, 6, 7, 8, 9, 10, 11, 12, 13, 14, 15, 16, 17, 18, 19, 20, 21, 22, 23, 24, 25], \"y\": [0.3652996654729911, -1.3372440845004587, -2.5241872745012577, -3.3760472741979703, -3.9978605574557204, -4.4559169604356015, -4.7947031047321875, -5.045413518483746, -5.230566880524609, -5.366708054540838, -5.466112064539472, -5.537930974308545, -5.589004286882854, -5.6244494564979535, -5.648099214964733, -5.6628276255888865, -5.670793528709278, -5.673622150493384, -5.672540384291692, -5.668477445177604, -5.66213972337414]}, {\"line\": {\"color\": \"blue\", \"dash\": \"solid\", \"width\": 2}, \"mode\": \"lines\", \"name\": \"T = -60\\u00b0C\", \"type\": \"scatter\", \"uid\": \"e117856d-022f-4c2c-b584-4a2f92cfadc1\", \"x\": [5, 6, 7, 8, 9, 10, 11, 12, 13, 14, 15, 16, 17, 18, 19, 20, 21, 22, 23, 24, 25], \"y\": [0.3652996654729911, -1.3372440845004587, -2.5241872745012577, -3.3760472741979703, -3.9978605574557204, -4.4559169604356015, -4.7947031047321875, -5.045413518483746, -5.230566880524609, -5.366708054540838, -5.466112064539472, -5.537930974308545, -5.589004286882854, -5.6244494564979535, -5.648099214964733, -5.6628276255888865, -5.670793528709278, -5.673622150493384, -5.672540384291692, -5.668477445177604, -5.66213972337414]}, {\"line\": {\"color\": \"blue\", \"dash\": \"solid\", \"width\": 2}, \"mode\": \"lines\", \"name\": \"T = -60\\u00b0C\", \"type\": \"scatter\", \"uid\": \"3e918c99-a7a4-4545-afc4-bc13b4608b4d\", \"x\": [5, 6, 7, 8, 9, 10, 11, 12, 13, 14, 15, 16, 17, 18, 19, 20, 21, 22, 23, 24, 25], \"y\": [0.3652996654729911, -1.3372440845004587, -2.5241872745012577, -3.3760472741979703, -3.9978605574557204, -4.4559169604356015, -4.7947031047321875, -5.045413518483746, -5.230566880524609, -5.366708054540838, -5.466112064539472, -5.537930974308545, -5.589004286882854, -5.6244494564979535, -5.648099214964733, -5.6628276255888865, -5.670793528709278, -5.673622150493384, -5.672540384291692, -5.668477445177604, -5.66213972337414]}, {\"line\": {\"color\": \"blue\", \"dash\": \"solid\", \"width\": 2}, \"mode\": \"lines\", \"name\": \"T = -60\\u00b0C\", \"type\": \"scatter\", \"uid\": \"a9d93989-99c5-4cc0-862b-3264d330be2f\", \"x\": [5, 6, 7, 8, 9, 10, 11, 12, 13, 14, 15, 16, 17, 18, 19, 20, 21, 22, 23, 24, 25], \"y\": [0.3652996654729911, -1.3372440845004587, -2.5241872745012577, -3.3760472741979703, -3.9978605574557204, -4.4559169604356015, -4.7947031047321875, -5.045413518483746, -5.230566880524609, -5.366708054540838, -5.466112064539472, -5.537930974308545, -5.589004286882854, -5.6244494564979535, -5.648099214964733, -5.6628276255888865, -5.670793528709278, -5.673622150493384, -5.672540384291692, -5.668477445177604, -5.66213972337414]}, {\"line\": {\"color\": \"blue\", \"dash\": \"solid\", \"width\": 2}, \"mode\": \"lines\", \"name\": \"T = -60\\u00b0C\", \"type\": \"scatter\", \"uid\": \"e0ca8965-8017-4724-9498-66a99539a4fd\", \"x\": [5, 6, 7, 8, 9, 10, 11, 12, 13, 14, 15, 16, 17, 18, 19, 20, 21, 22, 23, 24, 25], \"y\": [0.3652996654729911, -1.3372440845004587, -2.5241872745012577, -3.3760472741979703, -3.9978605574557204, -4.4559169604356015, -4.7947031047321875, -5.045413518483746, -5.230566880524609, -5.366708054540838, -5.466112064539472, -5.537930974308545, -5.589004286882854, -5.6244494564979535, -5.648099214964733, -5.6628276255888865, -5.670793528709278, -5.673622150493384, -5.672540384291692, -5.668477445177604, -5.66213972337414]}, {\"line\": {\"color\": \"blue\", \"dash\": \"solid\", \"width\": 2}, \"mode\": \"lines\", \"name\": \"T = -60\\u00b0C\", \"type\": \"scatter\", \"uid\": \"2a5e9132-8b1f-4064-94df-f4be41c849c9\", \"x\": [5, 6, 7, 8, 9, 10, 11, 12, 13, 14, 15, 16, 17, 18, 19, 20, 21, 22, 23, 24, 25], \"y\": [0.3652996654729911, -1.3372440845004587, -2.5241872745012577, -3.3760472741979703, -3.9978605574557204, -4.4559169604356015, -4.7947031047321875, -5.045413518483746, -5.230566880524609, -5.366708054540838, -5.466112064539472, -5.537930974308545, -5.589004286882854, -5.6244494564979535, -5.648099214964733, -5.6628276255888865, -5.670793528709278, -5.673622150493384, -5.672540384291692, -5.668477445177604, -5.66213972337414]}, {\"line\": {\"color\": \"blue\", \"dash\": \"solid\", \"width\": 2}, \"mode\": \"lines\", \"name\": \"T = -60\\u00b0C\", \"type\": \"scatter\", \"uid\": \"6fb3d09c-f016-4249-b2ef-b2454640af2c\", \"x\": [5, 6, 7, 8, 9, 10, 11, 12, 13, 14, 15, 16, 17, 18, 19, 20, 21, 22, 23, 24, 25], \"y\": [0.3652996654729911, -1.3372440845004587, -2.5241872745012577, -3.3760472741979703, -3.9978605574557204, -4.4559169604356015, -4.7947031047321875, -5.045413518483746, -5.230566880524609, -5.366708054540838, -5.466112064539472, -5.537930974308545, -5.589004286882854, -5.6244494564979535, -5.648099214964733, -5.6628276255888865, -5.670793528709278, -5.673622150493384, -5.672540384291692, -5.668477445177604, -5.66213972337414]}, {\"line\": {\"color\": \"blue\", \"dash\": \"solid\", \"width\": 2}, \"mode\": \"lines\", \"name\": \"T = -60\\u00b0C\", \"type\": \"scatter\", \"uid\": \"7cdc5eef-d7d0-4641-adee-d9c6862a4153\", \"x\": [5, 6, 7, 8, 9, 10, 11, 12, 13, 14, 15, 16, 17, 18, 19, 20, 21, 22, 23, 24, 25], \"y\": [0.3652996654729911, -1.3372440845004587, -2.5241872745012577, -3.3760472741979703, -3.9978605574557204, -4.4559169604356015, -4.7947031047321875, -5.045413518483746, -5.230566880524609, -5.366708054540838, -5.466112064539472, -5.537930974308545, -5.589004286882854, -5.6244494564979535, -5.648099214964733, -5.6628276255888865, -5.670793528709278, -5.673622150493384, -5.672540384291692, -5.668477445177604, -5.66213972337414]}, {\"line\": {\"color\": \"blue\", \"dash\": \"solid\", \"width\": 2}, \"mode\": \"lines\", \"name\": \"T = -60\\u00b0C\", \"type\": \"scatter\", \"uid\": \"9464bf2f-8e52-40be-bc2f-649ef3062ff6\", \"x\": [5, 6, 7, 8, 9, 10, 11, 12, 13, 14, 15, 16, 17, 18, 19, 20, 21, 22, 23, 24, 25], \"y\": [0.3652996654729911, -1.3372440845004587, -2.5241872745012577, -3.3760472741979703, -3.9978605574557204, -4.4559169604356015, -4.7947031047321875, -5.045413518483746, -5.230566880524609, -5.366708054540838, -5.466112064539472, -5.537930974308545, -5.589004286882854, -5.6244494564979535, -5.648099214964733, -5.6628276255888865, -5.670793528709278, -5.673622150493384, -5.672540384291692, -5.668477445177604, -5.66213972337414]}, {\"line\": {\"color\": \"blue\", \"dash\": \"solid\", \"width\": 2}, \"mode\": \"lines\", \"name\": \"T = -60\\u00b0C\", \"type\": \"scatter\", \"uid\": \"4ceeb224-91c9-45cb-b9e7-0e617d310368\", \"x\": [5, 6, 7, 8, 9, 10, 11, 12, 13, 14, 15, 16, 17, 18, 19, 20, 21, 22, 23, 24, 25], \"y\": [0.3652996654729911, -1.3372440845004587, -2.5241872745012577, -3.3760472741979703, -3.9978605574557204, -4.4559169604356015, -4.7947031047321875, -5.045413518483746, -5.230566880524609, -5.366708054540838, -5.466112064539472, -5.537930974308545, -5.589004286882854, -5.6244494564979535, -5.648099214964733, -5.6628276255888865, -5.670793528709278, -5.673622150493384, -5.672540384291692, -5.668477445177604, -5.66213972337414]}, {\"line\": {\"color\": \"blue\", \"dash\": \"solid\", \"width\": 2}, \"mode\": \"lines\", \"name\": \"T = -60\\u00b0C\", \"type\": \"scatter\", \"uid\": \"e76aad70-a0b4-4f00-bc08-35d6b5dfe350\", \"x\": [5, 6, 7, 8, 9, 10, 11, 12, 13, 14, 15, 16, 17, 18, 19, 20, 21, 22, 23, 24, 25], \"y\": [0.3652996654729911, -1.3372440845004587, -2.5241872745012577, -3.3760472741979703, -3.9978605574557204, -4.4559169604356015, -4.7947031047321875, -5.045413518483746, -5.230566880524609, -5.366708054540838, -5.466112064539472, -5.537930974308545, -5.589004286882854, -5.6244494564979535, -5.648099214964733, -5.6628276255888865, -5.670793528709278, -5.673622150493384, -5.672540384291692, -5.668477445177604, -5.66213972337414]}, {\"line\": {\"color\": \"blue\", \"dash\": \"solid\", \"width\": 2}, \"mode\": \"lines\", \"name\": \"T = -60\\u00b0C\", \"type\": \"scatter\", \"uid\": \"9bc982c6-b455-4256-a667-76c9543ce42d\", \"x\": [5, 6, 7, 8, 9, 10, 11, 12, 13, 14, 15, 16, 17, 18, 19, 20, 21, 22, 23, 24, 25], \"y\": [0.3652996654729911, -1.3372440845004587, -2.5241872745012577, -3.3760472741979703, -3.9978605574557204, -4.4559169604356015, -4.7947031047321875, -5.045413518483746, -5.230566880524609, -5.366708054540838, -5.466112064539472, -5.537930974308545, -5.589004286882854, -5.6244494564979535, -5.648099214964733, -5.6628276255888865, -5.670793528709278, -5.673622150493384, -5.672540384291692, -5.668477445177604, -5.66213972337414]}, {\"line\": {\"color\": \"blue\", \"dash\": \"solid\", \"width\": 2}, \"mode\": \"lines\", \"name\": \"T = -60\\u00b0C\", \"type\": \"scatter\", \"uid\": \"c23f2637-cf40-4913-bf5a-9896ebebb040\", \"x\": [5, 6, 7, 8, 9, 10, 11, 12, 13, 14, 15, 16, 17, 18, 19, 20, 21, 22, 23, 24, 25], \"y\": [0.3652996654729911, -1.3372440845004587, -2.5241872745012577, -3.3760472741979703, -3.9978605574557204, -4.4559169604356015, -4.7947031047321875, -5.045413518483746, -5.230566880524609, -5.366708054540838, -5.466112064539472, -5.537930974308545, -5.589004286882854, -5.6244494564979535, -5.648099214964733, -5.6628276255888865, -5.670793528709278, -5.673622150493384, -5.672540384291692, -5.668477445177604, -5.66213972337414]}, {\"line\": {\"color\": \"blue\", \"dash\": \"solid\", \"width\": 2}, \"mode\": \"lines\", \"name\": \"T = -60\\u00b0C\", \"type\": \"scatter\", \"uid\": \"790a2d59-783c-4614-b89d-c96b10aadd62\", \"x\": [5, 6, 7, 8, 9, 10, 11, 12, 13, 14, 15, 16, 17, 18, 19, 20, 21, 22, 23, 24, 25], \"y\": [0.3652996654729911, -1.3372440845004587, -2.5241872745012577, -3.3760472741979703, -3.9978605574557204, -4.4559169604356015, -4.7947031047321875, -5.045413518483746, -5.230566880524609, -5.366708054540838, -5.466112064539472, -5.537930974308545, -5.589004286882854, -5.6244494564979535, -5.648099214964733, -5.6628276255888865, -5.670793528709278, -5.673622150493384, -5.672540384291692, -5.668477445177604, -5.66213972337414]}, {\"line\": {\"color\": \"green\", \"dash\": \"solid\", \"width\": 2}, \"mode\": \"lines\", \"name\": \"T = -40\\u00b0C\", \"type\": \"scatter\", \"uid\": \"aee8fe1e-2298-436c-a3f1-b1a5dd1585c1\", \"x\": [5, 6, 7, 8, 9, 10, 11, 12, 13, 14, 15, 16, 17, 18, 19, 20, 21, 22, 23, 24, 25], \"y\": [-1.4869197121616968, -3.3595819629766233, -4.650782622136236, -5.5686647445252495, -6.234488796241974, -6.724370568243876, -7.088748098065204, -7.362329056990037, -7.5696024376968065, -7.728126252523066, -7.850617664987, -7.94634952324846, -8.022116313433623, -8.082916931812766, -8.132443375889698, -8.17343297464528, -8.20792331684392, -8.237437313089712, -8.263117919175176, -8.28582651431721, -8.306214985717805]}, {\"line\": {\"color\": \"green\", \"dash\": \"solid\", \"width\": 2}, \"mode\": \"lines\", \"name\": \"T = -40\\u00b0C\", \"type\": \"scatter\", \"uid\": \"a568ce4b-0466-4d86-8e74-5d99021bc4d3\", \"x\": [5, 6, 7, 8, 9, 10, 11, 12, 13, 14, 15, 16, 17, 18, 19, 20, 21, 22, 23, 24, 25], \"y\": [-1.4869197121616968, -3.3595819629766233, -4.650782622136236, -5.5686647445252495, -6.234488796241974, -6.724370568243876, -7.088748098065204, -7.362329056990037, -7.5696024376968065, -7.728126252523066, -7.850617664987, -7.94634952324846, -8.022116313433623, -8.082916931812766, -8.132443375889698, -8.17343297464528, -8.20792331684392, -8.237437313089712, -8.263117919175176, -8.28582651431721, -8.306214985717805]}, {\"line\": {\"color\": \"green\", \"dash\": \"solid\", \"width\": 2}, \"mode\": \"lines\", \"name\": \"T = -40\\u00b0C\", \"type\": \"scatter\", \"uid\": \"e2b04463-4479-4873-b824-a230ecbd705b\", \"x\": [5, 6, 7, 8, 9, 10, 11, 12, 13, 14, 15, 16, 17, 18, 19, 20, 21, 22, 23, 24, 25], \"y\": [-1.4869197121616968, -3.3595819629766233, -4.650782622136236, -5.5686647445252495, -6.234488796241974, -6.724370568243876, -7.088748098065204, -7.362329056990037, -7.5696024376968065, -7.728126252523066, -7.850617664987, -7.94634952324846, -8.022116313433623, -8.082916931812766, -8.132443375889698, -8.17343297464528, -8.20792331684392, -8.237437313089712, -8.263117919175176, -8.28582651431721, -8.306214985717805]}, {\"line\": {\"color\": \"green\", \"dash\": \"solid\", \"width\": 2}, \"mode\": \"lines\", \"name\": \"T = -40\\u00b0C\", \"type\": \"scatter\", \"uid\": \"2066a5f8-98d8-4cc2-be76-10ec2aaf5083\", \"x\": [5, 6, 7, 8, 9, 10, 11, 12, 13, 14, 15, 16, 17, 18, 19, 20, 21, 22, 23, 24, 25], \"y\": [-1.4869197121616968, -3.3595819629766233, -4.650782622136236, -5.5686647445252495, -6.234488796241974, -6.724370568243876, -7.088748098065204, -7.362329056990037, -7.5696024376968065, -7.728126252523066, -7.850617664987, -7.94634952324846, -8.022116313433623, -8.082916931812766, -8.132443375889698, -8.17343297464528, -8.20792331684392, -8.237437313089712, -8.263117919175176, -8.28582651431721, -8.306214985717805]}, {\"line\": {\"color\": \"green\", \"dash\": \"solid\", \"width\": 2}, \"mode\": \"lines\", \"name\": \"T = -40\\u00b0C\", \"type\": \"scatter\", \"uid\": \"cfe618aa-388e-4382-bdcf-70b11edbeffc\", \"x\": [5, 6, 7, 8, 9, 10, 11, 12, 13, 14, 15, 16, 17, 18, 19, 20, 21, 22, 23, 24, 25], \"y\": [-1.4869197121616968, -3.3595819629766233, -4.650782622136236, -5.5686647445252495, -6.234488796241974, -6.724370568243876, -7.088748098065204, -7.362329056990037, -7.5696024376968065, -7.728126252523066, -7.850617664987, -7.94634952324846, -8.022116313433623, -8.082916931812766, -8.132443375889698, -8.17343297464528, -8.20792331684392, -8.237437313089712, -8.263117919175176, -8.28582651431721, -8.306214985717805]}, {\"line\": {\"color\": \"green\", \"dash\": \"solid\", \"width\": 2}, \"mode\": \"lines\", \"name\": \"T = -40\\u00b0C\", \"type\": \"scatter\", \"uid\": \"6a9db3a7-9f87-4726-873b-6ae3b6f841a2\", \"x\": [5, 6, 7, 8, 9, 10, 11, 12, 13, 14, 15, 16, 17, 18, 19, 20, 21, 22, 23, 24, 25], \"y\": [-1.4869197121616968, -3.3595819629766233, -4.650782622136236, -5.5686647445252495, -6.234488796241974, -6.724370568243876, -7.088748098065204, -7.362329056990037, -7.5696024376968065, -7.728126252523066, -7.850617664987, -7.94634952324846, -8.022116313433623, -8.082916931812766, -8.132443375889698, -8.17343297464528, -8.20792331684392, -8.237437313089712, -8.263117919175176, -8.28582651431721, -8.306214985717805]}, {\"line\": {\"color\": \"green\", \"dash\": \"solid\", \"width\": 2}, \"mode\": \"lines\", \"name\": \"T = -40\\u00b0C\", \"type\": \"scatter\", \"uid\": \"56f43de2-1300-4c91-94f3-eb8ccb04a6cd\", \"x\": [5, 6, 7, 8, 9, 10, 11, 12, 13, 14, 15, 16, 17, 18, 19, 20, 21, 22, 23, 24, 25], \"y\": [-1.4869197121616968, -3.3595819629766233, -4.650782622136236, -5.5686647445252495, -6.234488796241974, -6.724370568243876, -7.088748098065204, -7.362329056990037, -7.5696024376968065, -7.728126252523066, -7.850617664987, -7.94634952324846, -8.022116313433623, -8.082916931812766, -8.132443375889698, -8.17343297464528, -8.20792331684392, -8.237437313089712, -8.263117919175176, -8.28582651431721, -8.306214985717805]}, {\"line\": {\"color\": \"green\", \"dash\": \"solid\", \"width\": 2}, \"mode\": \"lines\", \"name\": \"T = -40\\u00b0C\", \"type\": \"scatter\", \"uid\": \"95003e99-8703-4ea7-b11d-bc43baa3d479\", \"x\": [5, 6, 7, 8, 9, 10, 11, 12, 13, 14, 15, 16, 17, 18, 19, 20, 21, 22, 23, 24, 25], \"y\": [-1.4869197121616968, -3.3595819629766233, -4.650782622136236, -5.5686647445252495, -6.234488796241974, -6.724370568243876, -7.088748098065204, -7.362329056990037, -7.5696024376968065, -7.728126252523066, -7.850617664987, -7.94634952324846, -8.022116313433623, -8.082916931812766, -8.132443375889698, -8.17343297464528, -8.20792331684392, -8.237437313089712, -8.263117919175176, -8.28582651431721, -8.306214985717805]}, {\"line\": {\"color\": \"green\", \"dash\": \"solid\", \"width\": 2}, \"mode\": \"lines\", \"name\": \"T = -40\\u00b0C\", \"type\": \"scatter\", \"uid\": \"d4a6293b-6e2d-46b2-be66-6b33fa459a7a\", \"x\": [5, 6, 7, 8, 9, 10, 11, 12, 13, 14, 15, 16, 17, 18, 19, 20, 21, 22, 23, 24, 25], \"y\": [-1.4869197121616968, -3.3595819629766233, -4.650782622136236, -5.5686647445252495, -6.234488796241974, -6.724370568243876, -7.088748098065204, -7.362329056990037, -7.5696024376968065, -7.728126252523066, -7.850617664987, -7.94634952324846, -8.022116313433623, -8.082916931812766, -8.132443375889698, -8.17343297464528, -8.20792331684392, -8.237437313089712, -8.263117919175176, -8.28582651431721, -8.306214985717805]}, {\"line\": {\"color\": \"green\", \"dash\": \"solid\", \"width\": 2}, \"mode\": \"lines\", \"name\": \"T = -40\\u00b0C\", \"type\": \"scatter\", \"uid\": \"689d00e0-6971-48e0-a68f-5afb6c772860\", \"x\": [5, 6, 7, 8, 9, 10, 11, 12, 13, 14, 15, 16, 17, 18, 19, 20, 21, 22, 23, 24, 25], \"y\": [-1.4869197121616968, -3.3595819629766233, -4.650782622136236, -5.5686647445252495, -6.234488796241974, -6.724370568243876, -7.088748098065204, -7.362329056990037, -7.5696024376968065, -7.728126252523066, -7.850617664987, -7.94634952324846, -8.022116313433623, -8.082916931812766, -8.132443375889698, -8.17343297464528, -8.20792331684392, -8.237437313089712, -8.263117919175176, -8.28582651431721, -8.306214985717805]}, {\"line\": {\"color\": \"green\", \"dash\": \"solid\", \"width\": 2}, \"mode\": \"lines\", \"name\": \"T = -40\\u00b0C\", \"type\": \"scatter\", \"uid\": \"76a51657-bdc7-40a9-ac96-d2d63ec1e68a\", \"x\": [5, 6, 7, 8, 9, 10, 11, 12, 13, 14, 15, 16, 17, 18, 19, 20, 21, 22, 23, 24, 25], \"y\": [-1.4869197121616968, -3.3595819629766233, -4.650782622136236, -5.5686647445252495, -6.234488796241974, -6.724370568243876, -7.088748098065204, -7.362329056990037, -7.5696024376968065, -7.728126252523066, -7.850617664987, -7.94634952324846, -8.022116313433623, -8.082916931812766, -8.132443375889698, -8.17343297464528, -8.20792331684392, -8.237437313089712, -8.263117919175176, -8.28582651431721, -8.306214985717805]}, {\"line\": {\"color\": \"green\", \"dash\": \"solid\", \"width\": 2}, \"mode\": \"lines\", \"name\": \"T = -40\\u00b0C\", \"type\": \"scatter\", \"uid\": \"331eb876-f837-479e-9857-3c83bc44e216\", \"x\": [5, 6, 7, 8, 9, 10, 11, 12, 13, 14, 15, 16, 17, 18, 19, 20, 21, 22, 23, 24, 25], \"y\": [-1.4869197121616968, -3.3595819629766233, -4.650782622136236, -5.5686647445252495, -6.234488796241974, -6.724370568243876, -7.088748098065204, -7.362329056990037, -7.5696024376968065, -7.728126252523066, -7.850617664987, -7.94634952324846, -8.022116313433623, -8.082916931812766, -8.132443375889698, -8.17343297464528, -8.20792331684392, -8.237437313089712, -8.263117919175176, -8.28582651431721, -8.306214985717805]}, {\"line\": {\"color\": \"green\", \"dash\": \"solid\", \"width\": 2}, \"mode\": \"lines\", \"name\": \"T = -40\\u00b0C\", \"type\": \"scatter\", \"uid\": \"ebd40504-c4f9-4855-b87f-6956be93d3fe\", \"x\": [5, 6, 7, 8, 9, 10, 11, 12, 13, 14, 15, 16, 17, 18, 19, 20, 21, 22, 23, 24, 25], \"y\": [-1.4869197121616968, -3.3595819629766233, -4.650782622136236, -5.5686647445252495, -6.234488796241974, -6.724370568243876, -7.088748098065204, -7.362329056990037, -7.5696024376968065, -7.728126252523066, -7.850617664987, -7.94634952324846, -8.022116313433623, -8.082916931812766, -8.132443375889698, -8.17343297464528, -8.20792331684392, -8.237437313089712, -8.263117919175176, -8.28582651431721, -8.306214985717805]}, {\"line\": {\"color\": \"green\", \"dash\": \"solid\", \"width\": 2}, \"mode\": \"lines\", \"name\": \"T = -40\\u00b0C\", \"type\": \"scatter\", \"uid\": \"565eb89a-96e0-4868-9300-9447bfcec6ab\", \"x\": [5, 6, 7, 8, 9, 10, 11, 12, 13, 14, 15, 16, 17, 18, 19, 20, 21, 22, 23, 24, 25], \"y\": [-1.4869197121616968, -3.3595819629766233, -4.650782622136236, -5.5686647445252495, -6.234488796241974, -6.724370568243876, -7.088748098065204, -7.362329056990037, -7.5696024376968065, -7.728126252523066, -7.850617664987, -7.94634952324846, -8.022116313433623, -8.082916931812766, -8.132443375889698, -8.17343297464528, -8.20792331684392, -8.237437313089712, -8.263117919175176, -8.28582651431721, -8.306214985717805]}, {\"line\": {\"color\": \"green\", \"dash\": \"solid\", \"width\": 2}, \"mode\": \"lines\", \"name\": \"T = -40\\u00b0C\", \"type\": \"scatter\", \"uid\": \"cc5574ab-ceac-49b0-a101-a09a8ca64f38\", \"x\": [5, 6, 7, 8, 9, 10, 11, 12, 13, 14, 15, 16, 17, 18, 19, 20, 21, 22, 23, 24, 25], \"y\": [-1.4869197121616968, -3.3595819629766233, -4.650782622136236, -5.5686647445252495, -6.234488796241974, -6.724370568243876, -7.088748098065204, -7.362329056990037, -7.5696024376968065, -7.728126252523066, -7.850617664987, -7.94634952324846, -8.022116313433623, -8.082916931812766, -8.132443375889698, -8.17343297464528, -8.20792331684392, -8.237437313089712, -8.263117919175176, -8.28582651431721, -8.306214985717805]}, {\"line\": {\"color\": \"green\", \"dash\": \"solid\", \"width\": 2}, \"mode\": \"lines\", \"name\": \"T = -40\\u00b0C\", \"type\": \"scatter\", \"uid\": \"dea2e765-e416-4ec3-b505-9748a8d70830\", \"x\": [5, 6, 7, 8, 9, 10, 11, 12, 13, 14, 15, 16, 17, 18, 19, 20, 21, 22, 23, 24, 25], \"y\": [-1.4869197121616968, -3.3595819629766233, -4.650782622136236, -5.5686647445252495, -6.234488796241974, -6.724370568243876, -7.088748098065204, -7.362329056990037, -7.5696024376968065, -7.728126252523066, -7.850617664987, -7.94634952324846, -8.022116313433623, -8.082916931812766, -8.132443375889698, -8.17343297464528, -8.20792331684392, -8.237437313089712, -8.263117919175176, -8.28582651431721, -8.306214985717805]}, {\"line\": {\"color\": \"green\", \"dash\": \"solid\", \"width\": 2}, \"mode\": \"lines\", \"name\": \"T = -40\\u00b0C\", \"type\": \"scatter\", \"uid\": \"06f061fd-8373-4d7c-821a-00cf434b5b37\", \"x\": [5, 6, 7, 8, 9, 10, 11, 12, 13, 14, 15, 16, 17, 18, 19, 20, 21, 22, 23, 24, 25], \"y\": [-1.4869197121616968, -3.3595819629766233, -4.650782622136236, -5.5686647445252495, -6.234488796241974, -6.724370568243876, -7.088748098065204, -7.362329056990037, -7.5696024376968065, -7.728126252523066, -7.850617664987, -7.94634952324846, -8.022116313433623, -8.082916931812766, -8.132443375889698, -8.17343297464528, -8.20792331684392, -8.237437313089712, -8.263117919175176, -8.28582651431721, -8.306214985717805]}, {\"line\": {\"color\": \"green\", \"dash\": \"solid\", \"width\": 2}, \"mode\": \"lines\", \"name\": \"T = -40\\u00b0C\", \"type\": \"scatter\", \"uid\": \"5b7119c1-aeae-4d2e-b974-aae1408651ac\", \"x\": [5, 6, 7, 8, 9, 10, 11, 12, 13, 14, 15, 16, 17, 18, 19, 20, 21, 22, 23, 24, 25], \"y\": [-1.4869197121616968, -3.3595819629766233, -4.650782622136236, -5.5686647445252495, -6.234488796241974, -6.724370568243876, -7.088748098065204, -7.362329056990037, -7.5696024376968065, -7.728126252523066, -7.850617664987, -7.94634952324846, -8.022116313433623, -8.082916931812766, -8.132443375889698, -8.17343297464528, -8.20792331684392, -8.237437313089712, -8.263117919175176, -8.28582651431721, -8.306214985717805]}, {\"line\": {\"color\": \"green\", \"dash\": \"solid\", \"width\": 2}, \"mode\": \"lines\", \"name\": \"T = -40\\u00b0C\", \"type\": \"scatter\", \"uid\": \"ccb17ec8-73fa-4df2-b2a1-c6773edb1df3\", \"x\": [5, 6, 7, 8, 9, 10, 11, 12, 13, 14, 15, 16, 17, 18, 19, 20, 21, 22, 23, 24, 25], \"y\": [-1.4869197121616968, -3.3595819629766233, -4.650782622136236, -5.5686647445252495, -6.234488796241974, -6.724370568243876, -7.088748098065204, -7.362329056990037, -7.5696024376968065, -7.728126252523066, -7.850617664987, -7.94634952324846, -8.022116313433623, -8.082916931812766, -8.132443375889698, -8.17343297464528, -8.20792331684392, -8.237437313089712, -8.263117919175176, -8.28582651431721, -8.306214985717805]}, {\"line\": {\"color\": \"green\", \"dash\": \"solid\", \"width\": 2}, \"mode\": \"lines\", \"name\": \"T = -40\\u00b0C\", \"type\": \"scatter\", \"uid\": \"843fb3dc-c34a-4498-9fac-8d1628d1c91c\", \"x\": [5, 6, 7, 8, 9, 10, 11, 12, 13, 14, 15, 16, 17, 18, 19, 20, 21, 22, 23, 24, 25], \"y\": [-1.4869197121616968, -3.3595819629766233, -4.650782622136236, -5.5686647445252495, -6.234488796241974, -6.724370568243876, -7.088748098065204, -7.362329056990037, -7.5696024376968065, -7.728126252523066, -7.850617664987, -7.94634952324846, -8.022116313433623, -8.082916931812766, -8.132443375889698, -8.17343297464528, -8.20792331684392, -8.237437313089712, -8.263117919175176, -8.28582651431721, -8.306214985717805]}, {\"line\": {\"color\": \"green\", \"dash\": \"solid\", \"width\": 2}, \"mode\": \"lines\", \"name\": \"T = -40\\u00b0C\", \"type\": \"scatter\", \"uid\": \"4310e9ba-5b4c-4919-a12f-57ee7520a8f2\", \"x\": [5, 6, 7, 8, 9, 10, 11, 12, 13, 14, 15, 16, 17, 18, 19, 20, 21, 22, 23, 24, 25], \"y\": [-1.4869197121616968, -3.3595819629766233, -4.650782622136236, -5.5686647445252495, -6.234488796241974, -6.724370568243876, -7.088748098065204, -7.362329056990037, -7.5696024376968065, -7.728126252523066, -7.850617664987, -7.94634952324846, -8.022116313433623, -8.082916931812766, -8.132443375889698, -8.17343297464528, -8.20792331684392, -8.237437313089712, -8.263117919175176, -8.28582651431721, -8.306214985717805]}],                        {\"annotations\": [{\"font\": {\"size\": 18}, \"showarrow\": false, \"text\": \"$\\\\LARGE{m}$\", \"x\": 0.5, \"xref\": \"paper\", \"y\": -0.2, \"yref\": \"paper\"}, {\"font\": {\"size\": 18}, \"showarrow\": false, \"text\": \"$\\\\LARGE{ \\\\Delta \\\\sigma_\\\\mathrm{w} (\\\\%)}$\", \"textangle\": -90, \"x\": -0.2, \"xref\": \"paper\", \"y\": 0.5, \"yref\": \"paper\"}, {\"font\": {\"size\": 18}, \"showarrow\": false, \"text\": \"\", \"x\": 0.41, \"xref\": \"paper\", \"y\": 1.1, \"yref\": \"paper\"}], \"height\": 420, \"legend\": {\"x\": 0.6, \"y\": 0.5}, \"margin\": {\"b\": 80, \"l\": 80, \"r\": 20, \"t\": 40}, \"showlegend\": false, \"template\": {\"data\": {\"bar\": [{\"error_x\": {\"color\": \"#2a3f5f\"}, \"error_y\": {\"color\": \"#2a3f5f\"}, \"marker\": {\"line\": {\"color\": \"#E5ECF6\", \"width\": 0.5}}, \"type\": \"bar\"}], \"barpolar\": [{\"marker\": {\"line\": {\"color\": \"#E5ECF6\", \"width\": 0.5}}, \"type\": \"barpolar\"}], \"carpet\": [{\"aaxis\": {\"endlinecolor\": \"#2a3f5f\", \"gridcolor\": \"white\", \"linecolor\": \"white\", \"minorgridcolor\": \"white\", \"startlinecolor\": \"#2a3f5f\"}, \"baxis\": {\"endlinecolor\": \"#2a3f5f\", \"gridcolor\": \"white\", \"linecolor\": \"white\", \"minorgridcolor\": \"white\", \"startlinecolor\": \"#2a3f5f\"}, \"type\": \"carpet\"}], \"choropleth\": [{\"colorbar\": {\"outlinewidth\": 0, \"ticks\": \"\"}, \"type\": \"choropleth\"}], \"contour\": [{\"colorbar\": {\"outlinewidth\": 0, \"ticks\": \"\"}, \"colorscale\": [[0.0, \"#0d0887\"], [0.1111111111111111, \"#46039f\"], [0.2222222222222222, \"#7201a8\"], [0.3333333333333333, \"#9c179e\"], [0.4444444444444444, \"#bd3786\"], [0.5555555555555556, \"#d8576b\"], [0.6666666666666666, \"#ed7953\"], [0.7777777777777778, \"#fb9f3a\"], [0.8888888888888888, \"#fdca26\"], [1.0, \"#f0f921\"]], \"type\": \"contour\"}], \"contourcarpet\": [{\"colorbar\": {\"outlinewidth\": 0, \"ticks\": \"\"}, \"type\": \"contourcarpet\"}], \"heatmap\": [{\"colorbar\": {\"outlinewidth\": 0, \"ticks\": \"\"}, \"colorscale\": [[0.0, \"#0d0887\"], [0.1111111111111111, \"#46039f\"], [0.2222222222222222, \"#7201a8\"], [0.3333333333333333, \"#9c179e\"], [0.4444444444444444, \"#bd3786\"], [0.5555555555555556, \"#d8576b\"], [0.6666666666666666, \"#ed7953\"], [0.7777777777777778, \"#fb9f3a\"], [0.8888888888888888, \"#fdca26\"], [1.0, \"#f0f921\"]], \"type\": \"heatmap\"}], \"heatmapgl\": [{\"colorbar\": {\"outlinewidth\": 0, \"ticks\": \"\"}, \"colorscale\": [[0.0, \"#0d0887\"], [0.1111111111111111, \"#46039f\"], [0.2222222222222222, \"#7201a8\"], [0.3333333333333333, \"#9c179e\"], [0.4444444444444444, \"#bd3786\"], [0.5555555555555556, \"#d8576b\"], [0.6666666666666666, \"#ed7953\"], [0.7777777777777778, \"#fb9f3a\"], [0.8888888888888888, \"#fdca26\"], [1.0, \"#f0f921\"]], \"type\": \"heatmapgl\"}], \"histogram\": [{\"marker\": {\"colorbar\": {\"outlinewidth\": 0, \"ticks\": \"\"}}, \"type\": \"histogram\"}], \"histogram2d\": [{\"colorbar\": {\"outlinewidth\": 0, \"ticks\": \"\"}, \"colorscale\": [[0.0, \"#0d0887\"], [0.1111111111111111, \"#46039f\"], [0.2222222222222222, \"#7201a8\"], [0.3333333333333333, \"#9c179e\"], [0.4444444444444444, \"#bd3786\"], [0.5555555555555556, \"#d8576b\"], [0.6666666666666666, \"#ed7953\"], [0.7777777777777778, \"#fb9f3a\"], [0.8888888888888888, \"#fdca26\"], [1.0, \"#f0f921\"]], \"type\": \"histogram2d\"}], \"histogram2dcontour\": [{\"colorbar\": {\"outlinewidth\": 0, \"ticks\": \"\"}, \"colorscale\": [[0.0, \"#0d0887\"], [0.1111111111111111, \"#46039f\"], [0.2222222222222222, \"#7201a8\"], [0.3333333333333333, \"#9c179e\"], [0.4444444444444444, \"#bd3786\"], [0.5555555555555556, \"#d8576b\"], [0.6666666666666666, \"#ed7953\"], [0.7777777777777778, \"#fb9f3a\"], [0.8888888888888888, \"#fdca26\"], [1.0, \"#f0f921\"]], \"type\": \"histogram2dcontour\"}], \"mesh3d\": [{\"colorbar\": {\"outlinewidth\": 0, \"ticks\": \"\"}, \"type\": \"mesh3d\"}], \"parcoords\": [{\"line\": {\"colorbar\": {\"outlinewidth\": 0, \"ticks\": \"\"}}, \"type\": \"parcoords\"}], \"pie\": [{\"automargin\": true, \"type\": \"pie\"}], \"scatter\": [{\"marker\": {\"colorbar\": {\"outlinewidth\": 0, \"ticks\": \"\"}}, \"type\": \"scatter\"}], \"scatter3d\": [{\"line\": {\"colorbar\": {\"outlinewidth\": 0, \"ticks\": \"\"}}, \"marker\": {\"colorbar\": {\"outlinewidth\": 0, \"ticks\": \"\"}}, \"type\": \"scatter3d\"}], \"scattercarpet\": [{\"marker\": {\"colorbar\": {\"outlinewidth\": 0, \"ticks\": \"\"}}, \"type\": \"scattercarpet\"}], \"scattergeo\": [{\"marker\": {\"colorbar\": {\"outlinewidth\": 0, \"ticks\": \"\"}}, \"type\": \"scattergeo\"}], \"scattergl\": [{\"marker\": {\"colorbar\": {\"outlinewidth\": 0, \"ticks\": \"\"}}, \"type\": \"scattergl\"}], \"scattermapbox\": [{\"marker\": {\"colorbar\": {\"outlinewidth\": 0, \"ticks\": \"\"}}, \"type\": \"scattermapbox\"}], \"scatterpolar\": [{\"marker\": {\"colorbar\": {\"outlinewidth\": 0, \"ticks\": \"\"}}, \"type\": \"scatterpolar\"}], \"scatterpolargl\": [{\"marker\": {\"colorbar\": {\"outlinewidth\": 0, \"ticks\": \"\"}}, \"type\": \"scatterpolargl\"}], \"scatterternary\": [{\"marker\": {\"colorbar\": {\"outlinewidth\": 0, \"ticks\": \"\"}}, \"type\": \"scatterternary\"}], \"surface\": [{\"colorbar\": {\"outlinewidth\": 0, \"ticks\": \"\"}, \"colorscale\": [[0.0, \"#0d0887\"], [0.1111111111111111, \"#46039f\"], [0.2222222222222222, \"#7201a8\"], [0.3333333333333333, \"#9c179e\"], [0.4444444444444444, \"#bd3786\"], [0.5555555555555556, \"#d8576b\"], [0.6666666666666666, \"#ed7953\"], [0.7777777777777778, \"#fb9f3a\"], [0.8888888888888888, \"#fdca26\"], [1.0, \"#f0f921\"]], \"type\": \"surface\"}], \"table\": [{\"cells\": {\"fill\": {\"color\": \"#EBF0F8\"}, \"line\": {\"color\": \"white\"}}, \"header\": {\"fill\": {\"color\": \"#C8D4E3\"}, \"line\": {\"color\": \"white\"}}, \"type\": \"table\"}]}, \"layout\": {\"annotationdefaults\": {\"arrowcolor\": \"#2a3f5f\", \"arrowhead\": 0, \"arrowwidth\": 1}, \"autotypenumbers\": \"strict\", \"coloraxis\": {\"colorbar\": {\"outlinewidth\": 0, \"ticks\": \"\"}}, \"colorscale\": {\"diverging\": [[0, \"#8e0152\"], [0.1, \"#c51b7d\"], [0.2, \"#de77ae\"], [0.3, \"#f1b6da\"], [0.4, \"#fde0ef\"], [0.5, \"#f7f7f7\"], [0.6, \"#e6f5d0\"], [0.7, \"#b8e186\"], [0.8, \"#7fbc41\"], [0.9, \"#4d9221\"], [1, \"#276419\"]], \"sequential\": [[0.0, \"#0d0887\"], [0.1111111111111111, \"#46039f\"], [0.2222222222222222, \"#7201a8\"], [0.3333333333333333, \"#9c179e\"], [0.4444444444444444, \"#bd3786\"], [0.5555555555555556, \"#d8576b\"], [0.6666666666666666, \"#ed7953\"], [0.7777777777777778, \"#fb9f3a\"], [0.8888888888888888, \"#fdca26\"], [1.0, \"#f0f921\"]], \"sequentialminus\": [[0.0, \"#0d0887\"], [0.1111111111111111, \"#46039f\"], [0.2222222222222222, \"#7201a8\"], [0.3333333333333333, \"#9c179e\"], [0.4444444444444444, \"#bd3786\"], [0.5555555555555556, \"#d8576b\"], [0.6666666666666666, \"#ed7953\"], [0.7777777777777778, \"#fb9f3a\"], [0.8888888888888888, \"#fdca26\"], [1.0, \"#f0f921\"]]}, \"colorway\": [\"#636efa\", \"#EF553B\", \"#00cc96\", \"#ab63fa\", \"#FFA15A\", \"#19d3f3\", \"#FF6692\", \"#B6E880\", \"#FF97FF\", \"#FECB52\"], \"font\": {\"color\": \"#2a3f5f\"}, \"geo\": {\"bgcolor\": \"white\", \"lakecolor\": \"white\", \"landcolor\": \"#E5ECF6\", \"showlakes\": true, \"showland\": true, \"subunitcolor\": \"white\"}, \"hoverlabel\": {\"align\": \"left\"}, \"hovermode\": \"closest\", \"mapbox\": {\"style\": \"light\"}, \"paper_bgcolor\": \"white\", \"plot_bgcolor\": \"#E5ECF6\", \"polar\": {\"angularaxis\": {\"gridcolor\": \"white\", \"linecolor\": \"white\", \"ticks\": \"\"}, \"bgcolor\": \"#E5ECF6\", \"radialaxis\": {\"gridcolor\": \"white\", \"linecolor\": \"white\", \"ticks\": \"\"}}, \"scene\": {\"xaxis\": {\"backgroundcolor\": \"#E5ECF6\", \"gridcolor\": \"white\", \"gridwidth\": 2, \"linecolor\": \"white\", \"showbackground\": true, \"ticks\": \"\", \"zerolinecolor\": \"white\"}, \"yaxis\": {\"backgroundcolor\": \"#E5ECF6\", \"gridcolor\": \"white\", \"gridwidth\": 2, \"linecolor\": \"white\", \"showbackground\": true, \"ticks\": \"\", \"zerolinecolor\": \"white\"}, \"zaxis\": {\"backgroundcolor\": \"#E5ECF6\", \"gridcolor\": \"white\", \"gridwidth\": 2, \"linecolor\": \"white\", \"showbackground\": true, \"ticks\": \"\", \"zerolinecolor\": \"white\"}}, \"shapedefaults\": {\"line\": {\"color\": \"#2a3f5f\"}}, \"ternary\": {\"aaxis\": {\"gridcolor\": \"white\", \"linecolor\": \"white\", \"ticks\": \"\"}, \"baxis\": {\"gridcolor\": \"white\", \"linecolor\": \"white\", \"ticks\": \"\"}, \"bgcolor\": \"#E5ECF6\", \"caxis\": {\"gridcolor\": \"white\", \"linecolor\": \"white\", \"ticks\": \"\"}}, \"title\": {\"x\": 0.05}, \"xaxis\": {\"automargin\": true, \"gridcolor\": \"white\", \"linecolor\": \"white\", \"ticks\": \"\", \"title\": {\"standoff\": 15}, \"zerolinecolor\": \"white\", \"zerolinewidth\": 2}, \"yaxis\": {\"automargin\": true, \"gridcolor\": \"white\", \"linecolor\": \"white\", \"ticks\": \"\", \"title\": {\"standoff\": 15}, \"zerolinecolor\": \"white\", \"zerolinewidth\": 2}}}, \"width\": 450, \"xaxis\": {\"mirror\": \"all\", \"range\": [5, 25], \"showline\": true, \"title\": {\"font\": {\"size\": 13}}, \"zeroline\": false}, \"yaxis\": {\"mirror\": \"all\", \"showline\": true, \"title\": {\"font\": {\"size\": 13}}, \"zeroline\": false}},                        {\"responsive\": true}                    ).then(function(){\n",
       "                            \n",
       "var gd = document.getElementById('cd811113-b99d-4aad-9b7a-549fd02c9c5e');\n",
       "var x = new MutationObserver(function (mutations, observer) {{\n",
       "        var display = window.getComputedStyle(gd).display;\n",
       "        if (!display || display === 'none') {{\n",
       "            console.log([gd, 'removed!']);\n",
       "            Plotly.purge(gd);\n",
       "            observer.disconnect();\n",
       "        }}\n",
       "}});\n",
       "\n",
       "// Listen for the removal of the full notebook cells\n",
       "var notebookContainer = gd.closest('#notebook-container');\n",
       "if (notebookContainer) {{\n",
       "    x.observe(notebookContainer, {childList: true});\n",
       "}}\n",
       "\n",
       "// Listen for the clearing of the current output cell\n",
       "var outputEl = gd.closest('.output');\n",
       "if (outputEl) {{\n",
       "    x.observe(outputEl, {childList: true});\n",
       "}}\n",
       "\n",
       "                        })                };                });            </script>        </div>"
      ]
     },
     "metadata": {},
     "output_type": "display_data"
    }
   ],
   "source": [
    "# plot\n",
    "\n",
    "title = r''\n",
    "ylab = r'$\\LARGE{ \\Delta \\sigma_\\mathrm{w} (\\%)}$'\n",
    "\n",
    "data = []\n",
    "for ri, sw_r in enumerate(glob_sw_all_corr):\n",
    "    x_plot = []\n",
    "    y_plot = []\n",
    "    \n",
    "    for mi, sw in enumerate(sw_r):\n",
    "\n",
    "        x_plot.append(m_vals[mi])\n",
    "        y_plot.append(\n",
    "            calc_sw_diff(glob_sw_all_corr, 0, ri, mi, gdata_all, skipped_lines_all) \n",
    "            )\n",
    "\n",
    "        data.append({\n",
    "            'x': x_plot,\n",
    "            'y': y_plot,\n",
    "            'name': r'T = ' + str(temps[ri]) + r'°C',\n",
    "            'line': {'dash': lines[0], 'color': my_cols[ri], 'width': 2},\n",
    "            'mode': 'lines',\n",
    "        })\n",
    "\n",
    "        \n",
    "\n",
    "layout = {\n",
    "    'width': 450,\n",
    "    'height': 420,\n",
    "    'xaxis': {\n",
    "#         'range': [-0.1, 1.1],\n",
    "        'zeroline': False,\n",
    "        'showline': True,\n",
    "        'mirror': 'all',\n",
    "#         'title': r'$m$',\n",
    "        'titlefont':{'size': 13}\n",
    "    },\n",
    "    'yaxis': {\n",
    "        'zeroline': False,\n",
    "        'showline': True,\n",
    "        'mirror': 'all',\n",
    "#         'title': '$\\sigma_\\mathrm{w}/\\sigma_\\mathrm{f} $ ',\n",
    "        'titlefont':{'size': 13},\n",
    "\n",
    "    },\n",
    "    'annotations':[\n",
    "    {\n",
    "        'text':  r'$\\LARGE{m}$',\n",
    "        'x': 0.5,\n",
    "        'y': -0.2,\n",
    "        'xref': 'paper',\n",
    "        'yref': 'paper',\n",
    "        'showarrow': False,\n",
    "        'font': {'size': 18},\n",
    "    },\n",
    "        {\n",
    "        'text':  ylab,\n",
    "        'x': -0.2,\n",
    "        'y': 0.5,\n",
    "        'xref': 'paper',\n",
    "        'yref': 'paper',\n",
    "        'showarrow': False,\n",
    "        'font': {'size': 18},\n",
    "        'textangle': -90\n",
    "    },\n",
    "        {\n",
    "        'text':  title,\n",
    "        'x': 0.41,\n",
    "        'y': 1.1,\n",
    "        'xref': 'paper',\n",
    "        'yref': 'paper',\n",
    "        'showarrow': False,\n",
    "        'font': {'size': 18},\n",
    "    },\n",
    "    ],\n",
    "    'legend':{\n",
    "        'x': 0.6,\n",
    "        'y': 0.5,\n",
    "    },\n",
    "     'margin': {\n",
    "                'l': 80,\n",
    "                'r': 20,\n",
    "                'b': 80,\n",
    "                't': 40,\n",
    "#                 'pad': 1\n",
    "     },\n",
    "\n",
    "}\n",
    "layout['xaxis']['range'] = [5, 25]\n",
    "layout['showlegend'] = False\n",
    "f = go.FigureWidget(data,layout)\n",
    "py.iplot(f)"
   ]
  },
  {
   "cell_type": "markdown",
   "metadata": {},
   "source": [
    "### Predict the caharcteristic fracture toughness $J_0$"
   ]
  },
  {
   "cell_type": "code",
   "execution_count": 81,
   "metadata": {},
   "outputs": [
    {
     "name": "stdout",
     "output_type": "stream",
     "text": [
      "Temperature:  -91\n",
      "basis for prediction\n",
      "J0 = 58.65\n",
      "###\n",
      "Temperature:  -60\n",
      "Predicted J0 = 110.67\n",
      "###\n",
      "Temperature:  -40\n",
      "Predicted J0 = 250.37\n",
      "###\n",
      "None\n"
     ]
    }
   ],
   "source": [
    "# USER INPUT\n",
    "# Choose shape parameter m\n",
    "mchosen = 5\n",
    "\n",
    "# Choose index basis for prediction \n",
    "# For inctance, to use the first temperature as a basis, we specify 0 (due to zero-based indexing)\n",
    "pred_index = 0\n",
    "\n",
    "idxm = np.where(m_vals==mchosen)[0][0]\n",
    "print(pred_j0(pred_index, glob_sw_all_corr, idxm, skipped_lines_all, \n",
    "              gdata_all, temps, tol=0.01))"
   ]
  },
  {
   "cell_type": "code",
   "execution_count": 82,
   "metadata": {
    "code_folding": [
     0
    ]
   },
   "outputs": [
    {
     "data": {
      "application/vnd.plotly.v1+json": {
       "config": {
        "linkText": "Export to plot.ly",
        "plotlyServerURL": "https://plot.ly",
        "showLink": false
       },
       "data": [
        {
         "line": {
          "color": "black",
          "dash": "solid",
          "width": 2
         },
         "mode": "lines",
         "name": "T = -91°C",
         "type": "scatter",
         "uid": "45932909-ed5e-4ef1-bc3e-06a774a3c4c2",
         "x": [
          0.115698337555,
          0.260338902473,
          0.462844640017,
          0.723201870918,
          1.0413916111,
          1.41738843918,
          1.8511531353,
          2.34265327454,
          2.89188027382,
          3.49874424934,
          4.16319656372,
          4.88532924652,
          5.6650261879,
          6.50230073929,
          7.39715242386,
          8.34968280792,
          9.35976886749,
          10.4275512695,
          11.5532798767,
          12.7366924286,
          13.9783153534,
          15.2781858444,
          16.6360569,
          18.0529785156,
          19.5280799866,
          21.0627822876,
          22.6562213898,
          24.3087234497,
          26.0200214386,
          27.7887744904,
          29.6151733398,
          31.5005283356,
          33.4433937073,
          35.4459915161,
          37.5080604553,
          39.6281471252,
          41.8096351624,
          44.0500984192,
          46.3443031311,
          48.6949882507,
          51.1016235352,
          53.5655479431,
          56.0808105469,
          58.6458435059,
          61.2635421753,
          63.9311790466,
          66.6494064331,
          69.4313201904,
          72.2623291016,
          72.3144683838,
          72.3590393066,
          72.4034729004,
          72.4702682495,
          72.5705413818,
          72.7211761475,
          72.9472045898,
          73.2865066528,
          73.795425415,
          74.5604400635,
          75.7085647583,
          77.4429092407,
          80.0786437988,
          80.1331558228,
          80.2023468018,
          80.3061447144,
          80.462020874,
          80.6963119507,
          81.048576355,
          81.5787963867,
          82.3776855469,
          83.5811386108,
          85.3967819214,
          88.1395187378,
          88.1960830688,
          88.2678604126,
          88.3758621216,
          88.5380477905,
          88.7816009521,
          89.147102356,
          89.6970901489,
          90.5262985229,
          91.7776031494,
          93.6670532227,
          96.5374755859,
          96.5973587036,
          96.6726913452,
          96.7853546143,
          96.9547653198,
          97.2091522217,
          97.5916366577,
          98.166053772,
          99.03074646,
          100.339012146,
          102.32346344,
          105.34589386,
          105.408500671,
          105.487579346,
          105.606735229,
          105.786094666,
          106.054298401,
          106.457695007,
          107.063247681,
          107.975448608,
          109.345672607,
          111.417732239,
          111.619148254,
          111.911865234,
          112.351303101,
          113.012252808,
          114.005645752,
          115.501480103,
          117.76423645,
          117.824699402,
          117.878089905,
          117.931419373,
          118.011329651,
          118.131332397,
          118.311355591,
          118.581512451,
          118.987037659,
          119.596694946
         ],
         "y": [
          0,
          0,
          2114.478277795962,
          2274.247700344687,
          3896.220883732599,
          4173.389942676251,
          4693.391810585966,
          5024.6218053443645,
          5642.633150288134,
          5955.283998024478,
          6524.274661005592,
          6982.741933210842,
          7312.047574022528,
          7866.815911687689,
          8169.8587131827835,
          8520.513689177338,
          8955.991426124649,
          9392.961986029854,
          9864.38060202833,
          10194.618180837373,
          10603.634111980818,
          11132.890511970309,
          11341.836949856028,
          11943.914508331745,
          12217.681874267695,
          12641.794676766096,
          12897.793497894589,
          13544.179301400583,
          13732.661306445392,
          14186.660069495225,
          14524.333941286734,
          14771.29007637544,
          15363.537162198105,
          15575.927065337279,
          15879.095117969544,
          16394.96621536978,
          16606.005364404427,
          16939.824361785075,
          17382.935555618347,
          17619.02058454795,
          17970.779361757533,
          18355.027053915703,
          18626.72525431448,
          18946.982805598665,
          19266.74136185917,
          19589.011114456447,
          19870.669490296932,
          20174.22308666226,
          20532.10706300612,
          20534.412268698492,
          20532.085002312535,
          20534.04003129249,
          20536.970326869377,
          20541.361842461934,
          20553.660706253984,
          20562.447089785026,
          20572.724595574167,
          20638.00637079943,
          20693.445239860142,
          20828.45494947875,
          21009.198737855113,
          21229.375959669684,
          21231.077461743353,
          21239.28683353238,
          21243.26380218079,
          21256.253564665833,
          21266.337227743676,
          21293.82983447518,
          21333.966284369933,
          21388.136577894576,
          21504.846914153328,
          21700.81410156677,
          21926.01538198252,
          21927.82474187127,
          21944.43118324545,
          21948.196373290662,
          21952.1638822256,
          21959.730452871514,
          21978.10011236463,
          22011.658366227843,
          22087.27496020375,
          22138.796823484347,
          22356.69417830121,
          22543.404310115646,
          22545.099279174436,
          22571.761279919763,
          22575.35716874427,
          22582.550858920105,
          22600.09108611418,
          22622.384650619,
          22649.386921272755,
          22705.570797788503,
          22784.562322587957,
          22918.437953275014,
          23103.845499263065,
          23105.41311106897,
          23107.024259523576,
          23110.366273550648,
          23111.25942390311,
          23119.28568981638,
          23186.90887346059,
          23199.043645733524,
          23309.854146713853,
          23392.597942567114,
          23526.64342145541,
          23532.033079250054,
          23552.27696597563,
          23566.788751341624,
          23595.761870528644,
          23636.511575956185,
          23712.646769970797,
          23878.042166172097,
          23904.51799864091,
          23905.894138059048,
          23907.299212093378,
          23909.420423566004,
          23912.603222713584,
          23917.39755200669,
          23934.839449530344,
          23956.892347969744,
          23968.6341650855
         ]
        },
        {
         "line": {
          "color": "blue",
          "dash": "solid",
          "width": 2
         },
         "mode": "lines",
         "name": "T = -60°C",
         "type": "scatter",
         "uid": "fb364433-c172-46ec-a5d0-6fd2f1686d37",
         "x": [
          0.260264933109,
          0.462675571442,
          0.722916841507,
          1.04088020325,
          1.41660559177,
          1.84996175766,
          2.34093403816,
          2.88945651054,
          3.49548697472,
          4.15896987915,
          4.87987756729,
          5.65815830231,
          6.49382162094,
          7.3868637085,
          8.337266922,
          9.34507083893,
          10.4104423523,
          11.533367157,
          12.7142162323,
          13.9527130127,
          15.2493076324,
          16.6042823792,
          18.0177688599,
          19.4895629883,
          21.0208816528,
          22.6110057831,
          24.2600402832,
          25.9664897919,
          27.7267971039,
          29.5445709229,
          31.4192276001,
          33.3480453491,
          35.3357048035,
          37.3792228699,
          39.4819259644,
          41.6393966675,
          43.8539237976,
          46.1201057434,
          48.4417304993,
          50.8184661865,
          53.2501831055,
          55.7308349609,
          58.263458252,
          60.8368263245,
          63.4373474121,
          66.0624237061,
          68.7168960571,
          71.4187698364,
          74.1615524292,
          76.9486999512,
          79.7900695801,
          82.6758041382,
          85.6066055298,
          88.5867767334,
          91.6195907593,
          94.6997756958,
          97.8332672119,
          100.995506287,
          104.183174133,
          107.408676147,
          110.669548035,
          113.964439392,
          117.293388367,
          120.655036926,
          124.052993774,
          127.490730286,
          130.976486206,
          134.507751465,
          138.082199097,
          141.702056885,
          145.361480713,
          149.064041138,
          152.803588867,
          156.577560425,
          160.395187378,
          164.257629395,
          168.166366577,
          172.11328125,
          176.090362549,
          180.102325439,
          184.151733398,
          188.236740112,
          192.351501465,
          196.502914429,
          200.688583374,
          204.902633667,
          209.144500732
         ],
         "y": [
          0,
          0,
          3736.979689045246,
          3668.81369468051,
          3761.437112632013,
          3870.2696092148185,
          4158.358291638291,
          4479.071561639233,
          4961.867449617095,
          5547.952977207388,
          6283.8635760691795,
          6544.683082194801,
          6804.293904032176,
          6984.845917467559,
          7341.6901935264605,
          7664.124417326405,
          7864.717151896553,
          8485.297019612834,
          8823.54430417608,
          9062.143248314344,
          9583.094563909075,
          9762.343823549025,
          10117.379977822715,
          10484.856729301791,
          10764.23500575437,
          11109.191294796921,
          11363.298536936967,
          11690.752859803417,
          11975.62076877419,
          12328.579577121716,
          12632.144472824464,
          12879.981607766196,
          13156.917970360744,
          13408.494482326736,
          13736.692679239799,
          13965.771459978585,
          14272.597929794396,
          14535.728581041201,
          14749.798689227746,
          15023.771786787964,
          15254.97542566363,
          15519.698963216726,
          15782.742157102228,
          16040.65925046506,
          16216.86547433601,
          16436.388849076247,
          16665.913350493473,
          16825.883053267826,
          17067.453429237696,
          17222.28106888076,
          17406.051317077265,
          17576.889014862005,
          17731.92784463323,
          17881.12973282386,
          18057.561481077475,
          18211.620068688444,
          18338.384294211464,
          18488.65784008811,
          18616.36939013192,
          18738.884638057152,
          18894.01235831721,
          19016.449833224273,
          19126.450870889505,
          19243.293522139098,
          19346.43028013876,
          19441.571506514258,
          19526.061665774952,
          19611.335673021713,
          19681.12885506708,
          19759.130170445213,
          19855.871535490664,
          19921.396751282162,
          19977.029967710507,
          20041.90495450885,
          20091.892861211418,
          20105.37777124798,
          20159.95899668802,
          20209.85282864366,
          20256.47630911357,
          20281.92517452079,
          20321.07447152652,
          20359.098697834634,
          20378.751756103426,
          20404.941947564872,
          20428.767880237378,
          20471.24858992582,
          20507.433245440952
         ]
        },
        {
         "line": {
          "color": "green",
          "dash": "solid",
          "width": 2
         },
         "mode": "lines",
         "name": "T = -40°C",
         "type": "scatter",
         "uid": "b914363a-e9c1-4a01-b06c-eee3d7a0e271",
         "x": [
          0.256513297558,
          0.577115416527,
          1.02571594715,
          1.60218751431,
          2.3061709404,
          3.13781690598,
          4.09654188156,
          5.182513237,
          6.39557027817,
          7.73576974869,
          9.20316505432,
          10.798204422,
          12.5211801529,
          14.37271595,
          16.3538303375,
          18.4647254944,
          20.7068767548,
          23.0804634094,
          25.5852451324,
          28.2205066681,
          30.9811096191,
          33.8687286377,
          36.8777542114,
          40.0129470825,
          43.2747955322,
          46.6620521545,
          50.1710205078,
          53.7910079956,
          57.5207939148,
          61.3296508789,
          65.2536392212,
          69.2781066895,
          73.419883728,
          77.6879348755,
          82.0928497314,
          86.632484436,
          91.2769851685,
          95.9990997314,
          100.799934387,
          105.691932678,
          110.682525635,
          115.769340515,
          120.960014343,
          126.246871948,
          131.642868042,
          137.153366089,
          142.774917603,
          148.487136841,
          154.304244995,
          160.217163086,
          166.211715698,
          172.28994751,
          178.453857422,
          184.704223633,
          191.022460938,
          197.407806396,
          203.853469849,
          210.355682373,
          216.914779663,
          223.516296387,
          230.164703369,
          236.860244751,
          243.600128174,
          250.373550415,
          257.177856445,
          264.017669678,
          270.890258789,
          277.795288086,
          284.73236084,
          291.703369141,
          298.705444336,
          305.73550415,
          312.79486084,
          319.884490967,
          327.001251221,
          334.14666748,
          341.313781738,
          348.506256104,
          355.719696045,
          362.953033447,
          370.205718994,
          377.479125977,
          384.768188477,
          392.071380615,
          399.388214111,
          406.720031738,
          414.067108154,
          421.430877686,
          428.809570313,
          436.20111084,
          443.604705811,
          451.019439697,
          458.44354248
         ],
         "y": [
          0,
          0,
          3476.512486385312,
          3862.3450417310346,
          3962.851582331004,
          4240.630015000106,
          4683.5719841418395,
          5001.8431457104,
          5995.269404393214,
          6504.034350642576,
          6722.6815472997205,
          7291.964750628949,
          7390.446990247441,
          8057.331666105259,
          8545.770718241698,
          8856.620663717184,
          9704.16322594646,
          9961.204129631938,
          10316.819385683177,
          10574.889344793706,
          11135.762471744676,
          11401.78208249189,
          11750.879745147196,
          12159.126413641607,
          12480.194662497664,
          13003.94407701642,
          13240.32964956995,
          13517.435754571898,
          14011.653545498479,
          14234.935125636614,
          14515.044418190853,
          14892.262118386934,
          15156.13085665714,
          15402.86805600051,
          15601.785399125845,
          15955.0091773994,
          16209.676012686936,
          16421.82777722699,
          16636.267605290745,
          16808.600214672886,
          16945.576160348286,
          17083.933819215497,
          17258.330854526776,
          17398.35662595901,
          17611.906294252614,
          17764.288260899997,
          17851.42781717103,
          17950.51360103645,
          17991.901133866388,
          18036.305011470624,
          18099.07011542716,
          18173.89197808229,
          18208.59044112094,
          18248.516287830877,
          18299.44735261173,
          18330.97069609109,
          18414.257592514186,
          18432.01808774266,
          18484.56189034287,
          18565.07957847942,
          18622.7551077653,
          18669.384053961145,
          18722.881579092293,
          18809.549599366095,
          18825.76057495739,
          18840.71412145539,
          18883.363159717755,
          18917.199543740666,
          18924.020831955917,
          18960.689987571244,
          18963.373041992712,
          18968.926031542265,
          18973.00220484918,
          18999.045941442993,
          19000.251165788846,
          19017.914430834597,
          19073.741675128542,
          19084.1863827407,
          19137.621453740965,
          19208.226603378476,
          19204.391847179417,
          19253.268307798433,
          19248.12097239929,
          19242.045289923313,
          19253.48221519396,
          19246.10750965263,
          19282.03911415484,
          19273.793526012432,
          19264.836418090785,
          19269.566814922684,
          19299.828977818164,
          19289.76611423421,
          19279.258021070524
         ]
        },
        {
         "line": {
          "color": "grey",
          "dash": "dash"
         },
         "name": "$\\mathrm{prediction\\;based\\;on}\\;J_0^{T = -91\\mathrm{°C}}$",
         "type": "scatter",
         "uid": "f0861b8d-6bc6-4233-9778-adbff1ae10f0",
         "x": [
          0,
          9.183673469387756,
          18.367346938775512,
          27.551020408163268,
          36.734693877551024,
          45.91836734693878,
          55.102040816326536,
          64.28571428571429,
          73.46938775510205,
          82.6530612244898,
          91.83673469387756,
          101.02040816326532,
          110.20408163265307,
          119.38775510204083,
          128.57142857142858,
          137.75510204081633,
          146.9387755102041,
          156.12244897959187,
          165.3061224489796,
          174.48979591836735,
          183.67346938775512,
          192.8571428571429,
          202.04081632653063,
          211.22448979591837,
          220.40816326530614,
          229.5918367346939,
          238.77551020408166,
          247.9591836734694,
          257.14285714285717,
          266.32653061224494,
          275.51020408163265,
          284.6938775510204,
          293.8775510204082,
          303.06122448979596,
          312.24489795918373,
          321.42857142857144,
          330.6122448979592,
          339.795918367347,
          348.9795918367347,
          358.16326530612247,
          367.34693877551024,
          376.530612244898,
          385.7142857142858,
          394.8979591836735,
          404.08163265306126,
          413.26530612244903,
          422.44897959183675,
          431.6326530612245,
          440.8163265306123,
          450
         ],
         "y": [
          19016.449833224273,
          19016.449833224273,
          19016.449833224273,
          19016.449833224273,
          19016.449833224273,
          19016.449833224273,
          19016.449833224273,
          19016.449833224273,
          19016.449833224273,
          19016.449833224273,
          19016.449833224273,
          19016.449833224273,
          19016.449833224273,
          19016.449833224273,
          19016.449833224273,
          19016.449833224273,
          19016.449833224273,
          19016.449833224273,
          19016.449833224273,
          19016.449833224273,
          19016.449833224273,
          19016.449833224273,
          19016.449833224273,
          19016.449833224273,
          19016.449833224273,
          19016.449833224273,
          19016.449833224273,
          19016.449833224273,
          19016.449833224273,
          19016.449833224273,
          19016.449833224273,
          19016.449833224273,
          19016.449833224273,
          19016.449833224273,
          19016.449833224273,
          19016.449833224273,
          19016.449833224273,
          19016.449833224273,
          19016.449833224273,
          19016.449833224273,
          19016.449833224273,
          19016.449833224273,
          19016.449833224273,
          19016.449833224273,
          19016.449833224273,
          19016.449833224273,
          19016.449833224273,
          19016.449833224273,
          19016.449833224273,
          19016.449833224273,
          19016.449833224273,
          19016.449833224273,
          19016.449833224273,
          19016.449833224273,
          19016.449833224273,
          19016.449833224273,
          19016.449833224273,
          19016.449833224273,
          19016.449833224273,
          19016.449833224273,
          19016.449833224273,
          19016.449833224273,
          19016.449833224273,
          19016.449833224273,
          19016.449833224273,
          19016.449833224273,
          19016.449833224273,
          19016.449833224273,
          19016.449833224273,
          19016.449833224273,
          19016.449833224273,
          19016.449833224273,
          19016.449833224273,
          19016.449833224273,
          19016.449833224273,
          19016.449833224273,
          19016.449833224273,
          19016.449833224273,
          19016.449833224273,
          19016.449833224273,
          19016.449833224273,
          19016.449833224273,
          19016.449833224273,
          19016.449833224273,
          19016.449833224273,
          19016.449833224273,
          19016.449833224273,
          19016.449833224273,
          19016.449833224273,
          19016.449833224273,
          19016.449833224273,
          19016.449833224273,
          19016.449833224273,
          19016.449833224273,
          19016.449833224273,
          19016.449833224273,
          19016.449833224273,
          19016.449833224273,
          19016.449833224273,
          19016.449833224273,
          19016.449833224273,
          19016.449833224273,
          19016.449833224273,
          19016.449833224273,
          19016.449833224273,
          19016.449833224273,
          19016.449833224273,
          19016.449833224273,
          19016.449833224273,
          19016.449833224273,
          19016.449833224273,
          19016.449833224273,
          19016.449833224273,
          19016.449833224273,
          19016.449833224273,
          19016.449833224273,
          19016.449833224273,
          19016.449833224273,
          19016.449833224273,
          19016.449833224273
         ]
        }
       ],
       "layout": {
        "annotations": [
         {
          "font": {
           "size": 11
          },
          "showarrow": false,
          "text": "$\\LARGE{J\\;\\mathrm{(Nmm)}^{-1}}$",
          "x": 0.5,
          "xref": "paper",
          "y": -0.22,
          "yref": "paper"
         },
         {
          "font": {
           "size": 11
          },
          "showarrow": false,
          "text": "$\\LARGE{\\sigma_\\mathrm{w}}$",
          "textangle": -90,
          "x": -0.22,
          "xref": "paper",
          "y": 0.5,
          "yref": "paper"
         },
         {
          "font": {
           "size": 11
          },
          "showarrow": false,
          "text": "$$",
          "x": 0.41,
          "xref": "paper",
          "y": 1.1,
          "yref": "paper"
         }
        ],
        "height": 350,
        "legend": {
         "x": 0.8,
         "y": 0.01
        },
        "margin": {
         "b": 80,
         "l": 80,
         "r": 20,
         "t": 40
        },
        "showlegend": true,
        "template": {
         "data": {
          "bar": [
           {
            "error_x": {
             "color": "#2a3f5f"
            },
            "error_y": {
             "color": "#2a3f5f"
            },
            "marker": {
             "line": {
              "color": "#E5ECF6",
              "width": 0.5
             }
            },
            "type": "bar"
           }
          ],
          "barpolar": [
           {
            "marker": {
             "line": {
              "color": "#E5ECF6",
              "width": 0.5
             }
            },
            "type": "barpolar"
           }
          ],
          "carpet": [
           {
            "aaxis": {
             "endlinecolor": "#2a3f5f",
             "gridcolor": "white",
             "linecolor": "white",
             "minorgridcolor": "white",
             "startlinecolor": "#2a3f5f"
            },
            "baxis": {
             "endlinecolor": "#2a3f5f",
             "gridcolor": "white",
             "linecolor": "white",
             "minorgridcolor": "white",
             "startlinecolor": "#2a3f5f"
            },
            "type": "carpet"
           }
          ],
          "choropleth": [
           {
            "colorbar": {
             "outlinewidth": 0,
             "ticks": ""
            },
            "type": "choropleth"
           }
          ],
          "contour": [
           {
            "colorbar": {
             "outlinewidth": 0,
             "ticks": ""
            },
            "colorscale": [
             [
              0,
              "#0d0887"
             ],
             [
              0.1111111111111111,
              "#46039f"
             ],
             [
              0.2222222222222222,
              "#7201a8"
             ],
             [
              0.3333333333333333,
              "#9c179e"
             ],
             [
              0.4444444444444444,
              "#bd3786"
             ],
             [
              0.5555555555555556,
              "#d8576b"
             ],
             [
              0.6666666666666666,
              "#ed7953"
             ],
             [
              0.7777777777777778,
              "#fb9f3a"
             ],
             [
              0.8888888888888888,
              "#fdca26"
             ],
             [
              1,
              "#f0f921"
             ]
            ],
            "type": "contour"
           }
          ],
          "contourcarpet": [
           {
            "colorbar": {
             "outlinewidth": 0,
             "ticks": ""
            },
            "type": "contourcarpet"
           }
          ],
          "heatmap": [
           {
            "colorbar": {
             "outlinewidth": 0,
             "ticks": ""
            },
            "colorscale": [
             [
              0,
              "#0d0887"
             ],
             [
              0.1111111111111111,
              "#46039f"
             ],
             [
              0.2222222222222222,
              "#7201a8"
             ],
             [
              0.3333333333333333,
              "#9c179e"
             ],
             [
              0.4444444444444444,
              "#bd3786"
             ],
             [
              0.5555555555555556,
              "#d8576b"
             ],
             [
              0.6666666666666666,
              "#ed7953"
             ],
             [
              0.7777777777777778,
              "#fb9f3a"
             ],
             [
              0.8888888888888888,
              "#fdca26"
             ],
             [
              1,
              "#f0f921"
             ]
            ],
            "type": "heatmap"
           }
          ],
          "heatmapgl": [
           {
            "colorbar": {
             "outlinewidth": 0,
             "ticks": ""
            },
            "colorscale": [
             [
              0,
              "#0d0887"
             ],
             [
              0.1111111111111111,
              "#46039f"
             ],
             [
              0.2222222222222222,
              "#7201a8"
             ],
             [
              0.3333333333333333,
              "#9c179e"
             ],
             [
              0.4444444444444444,
              "#bd3786"
             ],
             [
              0.5555555555555556,
              "#d8576b"
             ],
             [
              0.6666666666666666,
              "#ed7953"
             ],
             [
              0.7777777777777778,
              "#fb9f3a"
             ],
             [
              0.8888888888888888,
              "#fdca26"
             ],
             [
              1,
              "#f0f921"
             ]
            ],
            "type": "heatmapgl"
           }
          ],
          "histogram": [
           {
            "marker": {
             "colorbar": {
              "outlinewidth": 0,
              "ticks": ""
             }
            },
            "type": "histogram"
           }
          ],
          "histogram2d": [
           {
            "colorbar": {
             "outlinewidth": 0,
             "ticks": ""
            },
            "colorscale": [
             [
              0,
              "#0d0887"
             ],
             [
              0.1111111111111111,
              "#46039f"
             ],
             [
              0.2222222222222222,
              "#7201a8"
             ],
             [
              0.3333333333333333,
              "#9c179e"
             ],
             [
              0.4444444444444444,
              "#bd3786"
             ],
             [
              0.5555555555555556,
              "#d8576b"
             ],
             [
              0.6666666666666666,
              "#ed7953"
             ],
             [
              0.7777777777777778,
              "#fb9f3a"
             ],
             [
              0.8888888888888888,
              "#fdca26"
             ],
             [
              1,
              "#f0f921"
             ]
            ],
            "type": "histogram2d"
           }
          ],
          "histogram2dcontour": [
           {
            "colorbar": {
             "outlinewidth": 0,
             "ticks": ""
            },
            "colorscale": [
             [
              0,
              "#0d0887"
             ],
             [
              0.1111111111111111,
              "#46039f"
             ],
             [
              0.2222222222222222,
              "#7201a8"
             ],
             [
              0.3333333333333333,
              "#9c179e"
             ],
             [
              0.4444444444444444,
              "#bd3786"
             ],
             [
              0.5555555555555556,
              "#d8576b"
             ],
             [
              0.6666666666666666,
              "#ed7953"
             ],
             [
              0.7777777777777778,
              "#fb9f3a"
             ],
             [
              0.8888888888888888,
              "#fdca26"
             ],
             [
              1,
              "#f0f921"
             ]
            ],
            "type": "histogram2dcontour"
           }
          ],
          "mesh3d": [
           {
            "colorbar": {
             "outlinewidth": 0,
             "ticks": ""
            },
            "type": "mesh3d"
           }
          ],
          "parcoords": [
           {
            "line": {
             "colorbar": {
              "outlinewidth": 0,
              "ticks": ""
             }
            },
            "type": "parcoords"
           }
          ],
          "pie": [
           {
            "automargin": true,
            "type": "pie"
           }
          ],
          "scatter": [
           {
            "marker": {
             "colorbar": {
              "outlinewidth": 0,
              "ticks": ""
             }
            },
            "type": "scatter"
           }
          ],
          "scatter3d": [
           {
            "line": {
             "colorbar": {
              "outlinewidth": 0,
              "ticks": ""
             }
            },
            "marker": {
             "colorbar": {
              "outlinewidth": 0,
              "ticks": ""
             }
            },
            "type": "scatter3d"
           }
          ],
          "scattercarpet": [
           {
            "marker": {
             "colorbar": {
              "outlinewidth": 0,
              "ticks": ""
             }
            },
            "type": "scattercarpet"
           }
          ],
          "scattergeo": [
           {
            "marker": {
             "colorbar": {
              "outlinewidth": 0,
              "ticks": ""
             }
            },
            "type": "scattergeo"
           }
          ],
          "scattergl": [
           {
            "marker": {
             "colorbar": {
              "outlinewidth": 0,
              "ticks": ""
             }
            },
            "type": "scattergl"
           }
          ],
          "scattermapbox": [
           {
            "marker": {
             "colorbar": {
              "outlinewidth": 0,
              "ticks": ""
             }
            },
            "type": "scattermapbox"
           }
          ],
          "scatterpolar": [
           {
            "marker": {
             "colorbar": {
              "outlinewidth": 0,
              "ticks": ""
             }
            },
            "type": "scatterpolar"
           }
          ],
          "scatterpolargl": [
           {
            "marker": {
             "colorbar": {
              "outlinewidth": 0,
              "ticks": ""
             }
            },
            "type": "scatterpolargl"
           }
          ],
          "scatterternary": [
           {
            "marker": {
             "colorbar": {
              "outlinewidth": 0,
              "ticks": ""
             }
            },
            "type": "scatterternary"
           }
          ],
          "surface": [
           {
            "colorbar": {
             "outlinewidth": 0,
             "ticks": ""
            },
            "colorscale": [
             [
              0,
              "#0d0887"
             ],
             [
              0.1111111111111111,
              "#46039f"
             ],
             [
              0.2222222222222222,
              "#7201a8"
             ],
             [
              0.3333333333333333,
              "#9c179e"
             ],
             [
              0.4444444444444444,
              "#bd3786"
             ],
             [
              0.5555555555555556,
              "#d8576b"
             ],
             [
              0.6666666666666666,
              "#ed7953"
             ],
             [
              0.7777777777777778,
              "#fb9f3a"
             ],
             [
              0.8888888888888888,
              "#fdca26"
             ],
             [
              1,
              "#f0f921"
             ]
            ],
            "type": "surface"
           }
          ],
          "table": [
           {
            "cells": {
             "fill": {
              "color": "#EBF0F8"
             },
             "line": {
              "color": "white"
             }
            },
            "header": {
             "fill": {
              "color": "#C8D4E3"
             },
             "line": {
              "color": "white"
             }
            },
            "type": "table"
           }
          ]
         },
         "layout": {
          "annotationdefaults": {
           "arrowcolor": "#2a3f5f",
           "arrowhead": 0,
           "arrowwidth": 1
          },
          "autotypenumbers": "strict",
          "coloraxis": {
           "colorbar": {
            "outlinewidth": 0,
            "ticks": ""
           }
          },
          "colorscale": {
           "diverging": [
            [
             0,
             "#8e0152"
            ],
            [
             0.1,
             "#c51b7d"
            ],
            [
             0.2,
             "#de77ae"
            ],
            [
             0.3,
             "#f1b6da"
            ],
            [
             0.4,
             "#fde0ef"
            ],
            [
             0.5,
             "#f7f7f7"
            ],
            [
             0.6,
             "#e6f5d0"
            ],
            [
             0.7,
             "#b8e186"
            ],
            [
             0.8,
             "#7fbc41"
            ],
            [
             0.9,
             "#4d9221"
            ],
            [
             1,
             "#276419"
            ]
           ],
           "sequential": [
            [
             0,
             "#0d0887"
            ],
            [
             0.1111111111111111,
             "#46039f"
            ],
            [
             0.2222222222222222,
             "#7201a8"
            ],
            [
             0.3333333333333333,
             "#9c179e"
            ],
            [
             0.4444444444444444,
             "#bd3786"
            ],
            [
             0.5555555555555556,
             "#d8576b"
            ],
            [
             0.6666666666666666,
             "#ed7953"
            ],
            [
             0.7777777777777778,
             "#fb9f3a"
            ],
            [
             0.8888888888888888,
             "#fdca26"
            ],
            [
             1,
             "#f0f921"
            ]
           ],
           "sequentialminus": [
            [
             0,
             "#0d0887"
            ],
            [
             0.1111111111111111,
             "#46039f"
            ],
            [
             0.2222222222222222,
             "#7201a8"
            ],
            [
             0.3333333333333333,
             "#9c179e"
            ],
            [
             0.4444444444444444,
             "#bd3786"
            ],
            [
             0.5555555555555556,
             "#d8576b"
            ],
            [
             0.6666666666666666,
             "#ed7953"
            ],
            [
             0.7777777777777778,
             "#fb9f3a"
            ],
            [
             0.8888888888888888,
             "#fdca26"
            ],
            [
             1,
             "#f0f921"
            ]
           ]
          },
          "colorway": [
           "#636efa",
           "#EF553B",
           "#00cc96",
           "#ab63fa",
           "#FFA15A",
           "#19d3f3",
           "#FF6692",
           "#B6E880",
           "#FF97FF",
           "#FECB52"
          ],
          "font": {
           "color": "#2a3f5f"
          },
          "geo": {
           "bgcolor": "white",
           "lakecolor": "white",
           "landcolor": "#E5ECF6",
           "showlakes": true,
           "showland": true,
           "subunitcolor": "white"
          },
          "hoverlabel": {
           "align": "left"
          },
          "hovermode": "closest",
          "mapbox": {
           "style": "light"
          },
          "paper_bgcolor": "white",
          "plot_bgcolor": "#E5ECF6",
          "polar": {
           "angularaxis": {
            "gridcolor": "white",
            "linecolor": "white",
            "ticks": ""
           },
           "bgcolor": "#E5ECF6",
           "radialaxis": {
            "gridcolor": "white",
            "linecolor": "white",
            "ticks": ""
           }
          },
          "scene": {
           "xaxis": {
            "backgroundcolor": "#E5ECF6",
            "gridcolor": "white",
            "gridwidth": 2,
            "linecolor": "white",
            "showbackground": true,
            "ticks": "",
            "zerolinecolor": "white"
           },
           "yaxis": {
            "backgroundcolor": "#E5ECF6",
            "gridcolor": "white",
            "gridwidth": 2,
            "linecolor": "white",
            "showbackground": true,
            "ticks": "",
            "zerolinecolor": "white"
           },
           "zaxis": {
            "backgroundcolor": "#E5ECF6",
            "gridcolor": "white",
            "gridwidth": 2,
            "linecolor": "white",
            "showbackground": true,
            "ticks": "",
            "zerolinecolor": "white"
           }
          },
          "shapedefaults": {
           "line": {
            "color": "#2a3f5f"
           }
          },
          "ternary": {
           "aaxis": {
            "gridcolor": "white",
            "linecolor": "white",
            "ticks": ""
           },
           "baxis": {
            "gridcolor": "white",
            "linecolor": "white",
            "ticks": ""
           },
           "bgcolor": "#E5ECF6",
           "caxis": {
            "gridcolor": "white",
            "linecolor": "white",
            "ticks": ""
           }
          },
          "title": {
           "x": 0.05
          },
          "xaxis": {
           "automargin": true,
           "gridcolor": "white",
           "linecolor": "white",
           "ticks": "",
           "title": {
            "standoff": 15
           },
           "zerolinecolor": "white",
           "zerolinewidth": 2
          },
          "yaxis": {
           "automargin": true,
           "gridcolor": "white",
           "linecolor": "white",
           "ticks": "",
           "title": {
            "standoff": 15
           },
           "zerolinecolor": "white",
           "zerolinewidth": 2
          }
         }
        },
        "width": 500,
        "xaxis": {
         "mirror": "all",
         "showline": true,
         "title": {
          "font": {
           "size": 13
          }
         },
         "zeroline": false
        },
        "yaxis": {
         "mirror": "all",
         "showline": true,
         "title": {
          "font": {
           "size": 13
          }
         },
         "zeroline": false
        }
       }
      },
      "text/html": [
       "<div>                            <div id=\"6ade4405-0e86-4a7a-967e-8227f75afa27\" class=\"plotly-graph-div\" style=\"height:350px; width:500px;\"></div>            <script type=\"text/javascript\">                require([\"plotly\"], function(Plotly) {                    window.PLOTLYENV=window.PLOTLYENV || {};                                    if (document.getElementById(\"6ade4405-0e86-4a7a-967e-8227f75afa27\")) {                    Plotly.newPlot(                        \"6ade4405-0e86-4a7a-967e-8227f75afa27\",                        [{\"line\": {\"color\": \"black\", \"dash\": \"solid\", \"width\": 2}, \"mode\": \"lines\", \"name\": \"T = -91\\u00b0C\", \"type\": \"scatter\", \"uid\": \"45932909-ed5e-4ef1-bc3e-06a774a3c4c2\", \"x\": [0.115698337555, 0.260338902473, 0.462844640017, 0.723201870918, 1.0413916111, 1.41738843918, 1.8511531353, 2.34265327454, 2.89188027382, 3.49874424934, 4.16319656372, 4.88532924652, 5.6650261879, 6.50230073929, 7.39715242386, 8.34968280792, 9.35976886749, 10.4275512695, 11.5532798767, 12.7366924286, 13.9783153534, 15.2781858444, 16.6360569, 18.0529785156, 19.5280799866, 21.0627822876, 22.6562213898, 24.3087234497, 26.0200214386, 27.7887744904, 29.6151733398, 31.5005283356, 33.4433937073, 35.4459915161, 37.5080604553, 39.6281471252, 41.8096351624, 44.0500984192, 46.3443031311, 48.6949882507, 51.1016235352, 53.5655479431, 56.0808105469, 58.6458435059, 61.2635421753, 63.9311790466, 66.6494064331, 69.4313201904, 72.2623291016, 72.3144683838, 72.3590393066, 72.4034729004, 72.4702682495, 72.5705413818, 72.7211761475, 72.9472045898, 73.2865066528, 73.795425415, 74.5604400635, 75.7085647583, 77.4429092407, 80.0786437988, 80.1331558228, 80.2023468018, 80.3061447144, 80.462020874, 80.6963119507, 81.048576355, 81.5787963867, 82.3776855469, 83.5811386108, 85.3967819214, 88.1395187378, 88.1960830688, 88.2678604126, 88.3758621216, 88.5380477905, 88.7816009521, 89.147102356, 89.6970901489, 90.5262985229, 91.7776031494, 93.6670532227, 96.5374755859, 96.5973587036, 96.6726913452, 96.7853546143, 96.9547653198, 97.2091522217, 97.5916366577, 98.166053772, 99.03074646, 100.339012146, 102.32346344, 105.34589386, 105.408500671, 105.487579346, 105.606735229, 105.786094666, 106.054298401, 106.457695007, 107.063247681, 107.975448608, 109.345672607, 111.417732239, 111.619148254, 111.911865234, 112.351303101, 113.012252808, 114.005645752, 115.501480103, 117.76423645, 117.824699402, 117.878089905, 117.931419373, 118.011329651, 118.131332397, 118.311355591, 118.581512451, 118.987037659, 119.596694946], \"y\": [0.0, 0.0, 2114.478277795962, 2274.247700344687, 3896.220883732599, 4173.389942676251, 4693.391810585966, 5024.6218053443645, 5642.633150288134, 5955.283998024478, 6524.274661005592, 6982.741933210842, 7312.047574022528, 7866.815911687689, 8169.8587131827835, 8520.513689177338, 8955.991426124649, 9392.961986029854, 9864.38060202833, 10194.618180837373, 10603.634111980818, 11132.890511970309, 11341.836949856028, 11943.914508331745, 12217.681874267695, 12641.794676766096, 12897.793497894589, 13544.179301400583, 13732.661306445392, 14186.660069495225, 14524.333941286734, 14771.29007637544, 15363.537162198105, 15575.927065337279, 15879.095117969544, 16394.96621536978, 16606.005364404427, 16939.824361785075, 17382.935555618347, 17619.02058454795, 17970.779361757533, 18355.027053915703, 18626.72525431448, 18946.982805598665, 19266.74136185917, 19589.011114456447, 19870.669490296932, 20174.22308666226, 20532.10706300612, 20534.412268698492, 20532.085002312535, 20534.04003129249, 20536.970326869377, 20541.361842461934, 20553.660706253984, 20562.447089785026, 20572.724595574167, 20638.00637079943, 20693.445239860142, 20828.45494947875, 21009.198737855113, 21229.375959669684, 21231.077461743353, 21239.28683353238, 21243.26380218079, 21256.253564665833, 21266.337227743676, 21293.82983447518, 21333.966284369933, 21388.136577894576, 21504.846914153328, 21700.81410156677, 21926.01538198252, 21927.82474187127, 21944.43118324545, 21948.196373290662, 21952.1638822256, 21959.730452871514, 21978.10011236463, 22011.658366227843, 22087.27496020375, 22138.796823484347, 22356.69417830121, 22543.404310115646, 22545.099279174436, 22571.761279919763, 22575.35716874427, 22582.550858920105, 22600.09108611418, 22622.384650619, 22649.386921272755, 22705.570797788503, 22784.562322587957, 22918.437953275014, 23103.845499263065, 23105.41311106897, 23107.024259523576, 23110.366273550648, 23111.25942390311, 23119.28568981638, 23186.90887346059, 23199.043645733524, 23309.854146713853, 23392.597942567114, 23526.64342145541, 23532.033079250054, 23552.27696597563, 23566.788751341624, 23595.761870528644, 23636.511575956185, 23712.646769970797, 23878.042166172097, 23904.51799864091, 23905.894138059048, 23907.299212093378, 23909.420423566004, 23912.603222713584, 23917.39755200669, 23934.839449530344, 23956.892347969744, 23968.6341650855]}, {\"line\": {\"color\": \"blue\", \"dash\": \"solid\", \"width\": 2}, \"mode\": \"lines\", \"name\": \"T = -60\\u00b0C\", \"type\": \"scatter\", \"uid\": \"fb364433-c172-46ec-a5d0-6fd2f1686d37\", \"x\": [0.260264933109, 0.462675571442, 0.722916841507, 1.04088020325, 1.41660559177, 1.84996175766, 2.34093403816, 2.88945651054, 3.49548697472, 4.15896987915, 4.87987756729, 5.65815830231, 6.49382162094, 7.3868637085, 8.337266922, 9.34507083893, 10.4104423523, 11.533367157, 12.7142162323, 13.9527130127, 15.2493076324, 16.6042823792, 18.0177688599, 19.4895629883, 21.0208816528, 22.6110057831, 24.2600402832, 25.9664897919, 27.7267971039, 29.5445709229, 31.4192276001, 33.3480453491, 35.3357048035, 37.3792228699, 39.4819259644, 41.6393966675, 43.8539237976, 46.1201057434, 48.4417304993, 50.8184661865, 53.2501831055, 55.7308349609, 58.263458252, 60.8368263245, 63.4373474121, 66.0624237061, 68.7168960571, 71.4187698364, 74.1615524292, 76.9486999512, 79.7900695801, 82.6758041382, 85.6066055298, 88.5867767334, 91.6195907593, 94.6997756958, 97.8332672119, 100.995506287, 104.183174133, 107.408676147, 110.669548035, 113.964439392, 117.293388367, 120.655036926, 124.052993774, 127.490730286, 130.976486206, 134.507751465, 138.082199097, 141.702056885, 145.361480713, 149.064041138, 152.803588867, 156.577560425, 160.395187378, 164.257629395, 168.166366577, 172.11328125, 176.090362549, 180.102325439, 184.151733398, 188.236740112, 192.351501465, 196.502914429, 200.688583374, 204.902633667, 209.144500732], \"y\": [0.0, 0.0, 3736.979689045246, 3668.81369468051, 3761.437112632013, 3870.2696092148185, 4158.358291638291, 4479.071561639233, 4961.867449617095, 5547.952977207388, 6283.8635760691795, 6544.683082194801, 6804.293904032176, 6984.845917467559, 7341.6901935264605, 7664.124417326405, 7864.717151896553, 8485.297019612834, 8823.54430417608, 9062.143248314344, 9583.094563909075, 9762.343823549025, 10117.379977822715, 10484.856729301791, 10764.23500575437, 11109.191294796921, 11363.298536936967, 11690.752859803417, 11975.62076877419, 12328.579577121716, 12632.144472824464, 12879.981607766196, 13156.917970360744, 13408.494482326736, 13736.692679239799, 13965.771459978585, 14272.597929794396, 14535.728581041201, 14749.798689227746, 15023.771786787964, 15254.97542566363, 15519.698963216726, 15782.742157102228, 16040.65925046506, 16216.86547433601, 16436.388849076247, 16665.913350493473, 16825.883053267826, 17067.453429237696, 17222.28106888076, 17406.051317077265, 17576.889014862005, 17731.92784463323, 17881.12973282386, 18057.561481077475, 18211.620068688444, 18338.384294211464, 18488.65784008811, 18616.36939013192, 18738.884638057152, 18894.01235831721, 19016.449833224273, 19126.450870889505, 19243.293522139098, 19346.43028013876, 19441.571506514258, 19526.061665774952, 19611.335673021713, 19681.12885506708, 19759.130170445213, 19855.871535490664, 19921.396751282162, 19977.029967710507, 20041.90495450885, 20091.892861211418, 20105.37777124798, 20159.95899668802, 20209.85282864366, 20256.47630911357, 20281.92517452079, 20321.07447152652, 20359.098697834634, 20378.751756103426, 20404.941947564872, 20428.767880237378, 20471.24858992582, 20507.433245440952]}, {\"line\": {\"color\": \"green\", \"dash\": \"solid\", \"width\": 2}, \"mode\": \"lines\", \"name\": \"T = -40\\u00b0C\", \"type\": \"scatter\", \"uid\": \"b914363a-e9c1-4a01-b06c-eee3d7a0e271\", \"x\": [0.256513297558, 0.577115416527, 1.02571594715, 1.60218751431, 2.3061709404, 3.13781690598, 4.09654188156, 5.182513237, 6.39557027817, 7.73576974869, 9.20316505432, 10.798204422, 12.5211801529, 14.37271595, 16.3538303375, 18.4647254944, 20.7068767548, 23.0804634094, 25.5852451324, 28.2205066681, 30.9811096191, 33.8687286377, 36.8777542114, 40.0129470825, 43.2747955322, 46.6620521545, 50.1710205078, 53.7910079956, 57.5207939148, 61.3296508789, 65.2536392212, 69.2781066895, 73.419883728, 77.6879348755, 82.0928497314, 86.632484436, 91.2769851685, 95.9990997314, 100.799934387, 105.691932678, 110.682525635, 115.769340515, 120.960014343, 126.246871948, 131.642868042, 137.153366089, 142.774917603, 148.487136841, 154.304244995, 160.217163086, 166.211715698, 172.28994751, 178.453857422, 184.704223633, 191.022460938, 197.407806396, 203.853469849, 210.355682373, 216.914779663, 223.516296387, 230.164703369, 236.860244751, 243.600128174, 250.373550415, 257.177856445, 264.017669678, 270.890258789, 277.795288086, 284.73236084, 291.703369141, 298.705444336, 305.73550415, 312.79486084, 319.884490967, 327.001251221, 334.14666748, 341.313781738, 348.506256104, 355.719696045, 362.953033447, 370.205718994, 377.479125977, 384.768188477, 392.071380615, 399.388214111, 406.720031738, 414.067108154, 421.430877686, 428.809570313, 436.20111084, 443.604705811, 451.019439697, 458.44354248], \"y\": [0.0, 0.0, 3476.512486385312, 3862.3450417310346, 3962.851582331004, 4240.630015000106, 4683.5719841418395, 5001.8431457104, 5995.269404393214, 6504.034350642576, 6722.6815472997205, 7291.964750628949, 7390.446990247441, 8057.331666105259, 8545.770718241698, 8856.620663717184, 9704.16322594646, 9961.204129631938, 10316.819385683177, 10574.889344793706, 11135.762471744676, 11401.78208249189, 11750.879745147196, 12159.126413641607, 12480.194662497664, 13003.94407701642, 13240.32964956995, 13517.435754571898, 14011.653545498479, 14234.935125636614, 14515.044418190853, 14892.262118386934, 15156.13085665714, 15402.86805600051, 15601.785399125845, 15955.0091773994, 16209.676012686936, 16421.82777722699, 16636.267605290745, 16808.600214672886, 16945.576160348286, 17083.933819215497, 17258.330854526776, 17398.35662595901, 17611.906294252614, 17764.288260899997, 17851.42781717103, 17950.51360103645, 17991.901133866388, 18036.305011470624, 18099.07011542716, 18173.89197808229, 18208.59044112094, 18248.516287830877, 18299.44735261173, 18330.97069609109, 18414.257592514186, 18432.01808774266, 18484.56189034287, 18565.07957847942, 18622.7551077653, 18669.384053961145, 18722.881579092293, 18809.549599366095, 18825.76057495739, 18840.71412145539, 18883.363159717755, 18917.199543740666, 18924.020831955917, 18960.689987571244, 18963.373041992712, 18968.926031542265, 18973.00220484918, 18999.045941442993, 19000.251165788846, 19017.914430834597, 19073.741675128542, 19084.1863827407, 19137.621453740965, 19208.226603378476, 19204.391847179417, 19253.268307798433, 19248.12097239929, 19242.045289923313, 19253.48221519396, 19246.10750965263, 19282.03911415484, 19273.793526012432, 19264.836418090785, 19269.566814922684, 19299.828977818164, 19289.76611423421, 19279.258021070524]}, {\"line\": {\"color\": \"grey\", \"dash\": \"dash\"}, \"name\": \"$\\\\mathrm{prediction\\\\;based\\\\;on}\\\\;J_0^{T = -91\\\\mathrm{\\u00b0C}}$\", \"type\": \"scatter\", \"uid\": \"f0861b8d-6bc6-4233-9778-adbff1ae10f0\", \"x\": [0.0, 9.183673469387756, 18.367346938775512, 27.551020408163268, 36.734693877551024, 45.91836734693878, 55.102040816326536, 64.28571428571429, 73.46938775510205, 82.6530612244898, 91.83673469387756, 101.02040816326532, 110.20408163265307, 119.38775510204083, 128.57142857142858, 137.75510204081633, 146.9387755102041, 156.12244897959187, 165.3061224489796, 174.48979591836735, 183.67346938775512, 192.8571428571429, 202.04081632653063, 211.22448979591837, 220.40816326530614, 229.5918367346939, 238.77551020408166, 247.9591836734694, 257.14285714285717, 266.32653061224494, 275.51020408163265, 284.6938775510204, 293.8775510204082, 303.06122448979596, 312.24489795918373, 321.42857142857144, 330.6122448979592, 339.795918367347, 348.9795918367347, 358.16326530612247, 367.34693877551024, 376.530612244898, 385.7142857142858, 394.8979591836735, 404.08163265306126, 413.26530612244903, 422.44897959183675, 431.6326530612245, 440.8163265306123, 450.0], \"y\": [19016.449833224273, 19016.449833224273, 19016.449833224273, 19016.449833224273, 19016.449833224273, 19016.449833224273, 19016.449833224273, 19016.449833224273, 19016.449833224273, 19016.449833224273, 19016.449833224273, 19016.449833224273, 19016.449833224273, 19016.449833224273, 19016.449833224273, 19016.449833224273, 19016.449833224273, 19016.449833224273, 19016.449833224273, 19016.449833224273, 19016.449833224273, 19016.449833224273, 19016.449833224273, 19016.449833224273, 19016.449833224273, 19016.449833224273, 19016.449833224273, 19016.449833224273, 19016.449833224273, 19016.449833224273, 19016.449833224273, 19016.449833224273, 19016.449833224273, 19016.449833224273, 19016.449833224273, 19016.449833224273, 19016.449833224273, 19016.449833224273, 19016.449833224273, 19016.449833224273, 19016.449833224273, 19016.449833224273, 19016.449833224273, 19016.449833224273, 19016.449833224273, 19016.449833224273, 19016.449833224273, 19016.449833224273, 19016.449833224273, 19016.449833224273, 19016.449833224273, 19016.449833224273, 19016.449833224273, 19016.449833224273, 19016.449833224273, 19016.449833224273, 19016.449833224273, 19016.449833224273, 19016.449833224273, 19016.449833224273, 19016.449833224273, 19016.449833224273, 19016.449833224273, 19016.449833224273, 19016.449833224273, 19016.449833224273, 19016.449833224273, 19016.449833224273, 19016.449833224273, 19016.449833224273, 19016.449833224273, 19016.449833224273, 19016.449833224273, 19016.449833224273, 19016.449833224273, 19016.449833224273, 19016.449833224273, 19016.449833224273, 19016.449833224273, 19016.449833224273, 19016.449833224273, 19016.449833224273, 19016.449833224273, 19016.449833224273, 19016.449833224273, 19016.449833224273, 19016.449833224273, 19016.449833224273, 19016.449833224273, 19016.449833224273, 19016.449833224273, 19016.449833224273, 19016.449833224273, 19016.449833224273, 19016.449833224273, 19016.449833224273, 19016.449833224273, 19016.449833224273, 19016.449833224273, 19016.449833224273, 19016.449833224273, 19016.449833224273, 19016.449833224273, 19016.449833224273, 19016.449833224273, 19016.449833224273, 19016.449833224273, 19016.449833224273, 19016.449833224273, 19016.449833224273, 19016.449833224273, 19016.449833224273, 19016.449833224273, 19016.449833224273, 19016.449833224273, 19016.449833224273, 19016.449833224273, 19016.449833224273, 19016.449833224273, 19016.449833224273]}],                        {\"annotations\": [{\"font\": {\"size\": 11}, \"showarrow\": false, \"text\": \"$\\\\LARGE{J\\\\;\\\\mathrm{(Nmm)}^{-1}}$\", \"x\": 0.5, \"xref\": \"paper\", \"y\": -0.22, \"yref\": \"paper\"}, {\"font\": {\"size\": 11}, \"showarrow\": false, \"text\": \"$\\\\LARGE{\\\\sigma_\\\\mathrm{w}}$\", \"textangle\": -90, \"x\": -0.22, \"xref\": \"paper\", \"y\": 0.5, \"yref\": \"paper\"}, {\"font\": {\"size\": 11}, \"showarrow\": false, \"text\": \"$$\", \"x\": 0.41, \"xref\": \"paper\", \"y\": 1.1, \"yref\": \"paper\"}], \"height\": 350, \"legend\": {\"x\": 0.8, \"y\": 0.01}, \"margin\": {\"b\": 80, \"l\": 80, \"r\": 20, \"t\": 40}, \"showlegend\": true, \"template\": {\"data\": {\"bar\": [{\"error_x\": {\"color\": \"#2a3f5f\"}, \"error_y\": {\"color\": \"#2a3f5f\"}, \"marker\": {\"line\": {\"color\": \"#E5ECF6\", \"width\": 0.5}}, \"type\": \"bar\"}], \"barpolar\": [{\"marker\": {\"line\": {\"color\": \"#E5ECF6\", \"width\": 0.5}}, \"type\": \"barpolar\"}], \"carpet\": [{\"aaxis\": {\"endlinecolor\": \"#2a3f5f\", \"gridcolor\": \"white\", \"linecolor\": \"white\", \"minorgridcolor\": \"white\", \"startlinecolor\": \"#2a3f5f\"}, \"baxis\": {\"endlinecolor\": \"#2a3f5f\", \"gridcolor\": \"white\", \"linecolor\": \"white\", \"minorgridcolor\": \"white\", \"startlinecolor\": \"#2a3f5f\"}, \"type\": \"carpet\"}], \"choropleth\": [{\"colorbar\": {\"outlinewidth\": 0, \"ticks\": \"\"}, \"type\": \"choropleth\"}], \"contour\": [{\"colorbar\": {\"outlinewidth\": 0, \"ticks\": \"\"}, \"colorscale\": [[0.0, \"#0d0887\"], [0.1111111111111111, \"#46039f\"], [0.2222222222222222, \"#7201a8\"], [0.3333333333333333, \"#9c179e\"], [0.4444444444444444, \"#bd3786\"], [0.5555555555555556, \"#d8576b\"], [0.6666666666666666, \"#ed7953\"], [0.7777777777777778, \"#fb9f3a\"], [0.8888888888888888, \"#fdca26\"], [1.0, \"#f0f921\"]], \"type\": \"contour\"}], \"contourcarpet\": [{\"colorbar\": {\"outlinewidth\": 0, \"ticks\": \"\"}, \"type\": \"contourcarpet\"}], \"heatmap\": [{\"colorbar\": {\"outlinewidth\": 0, \"ticks\": \"\"}, \"colorscale\": [[0.0, \"#0d0887\"], [0.1111111111111111, \"#46039f\"], [0.2222222222222222, \"#7201a8\"], [0.3333333333333333, \"#9c179e\"], [0.4444444444444444, \"#bd3786\"], [0.5555555555555556, \"#d8576b\"], [0.6666666666666666, \"#ed7953\"], [0.7777777777777778, \"#fb9f3a\"], [0.8888888888888888, \"#fdca26\"], [1.0, \"#f0f921\"]], \"type\": \"heatmap\"}], \"heatmapgl\": [{\"colorbar\": {\"outlinewidth\": 0, \"ticks\": \"\"}, \"colorscale\": [[0.0, \"#0d0887\"], [0.1111111111111111, \"#46039f\"], [0.2222222222222222, \"#7201a8\"], [0.3333333333333333, \"#9c179e\"], [0.4444444444444444, \"#bd3786\"], [0.5555555555555556, \"#d8576b\"], [0.6666666666666666, \"#ed7953\"], [0.7777777777777778, \"#fb9f3a\"], [0.8888888888888888, \"#fdca26\"], [1.0, \"#f0f921\"]], \"type\": \"heatmapgl\"}], \"histogram\": [{\"marker\": {\"colorbar\": {\"outlinewidth\": 0, \"ticks\": \"\"}}, \"type\": \"histogram\"}], \"histogram2d\": [{\"colorbar\": {\"outlinewidth\": 0, \"ticks\": \"\"}, \"colorscale\": [[0.0, \"#0d0887\"], [0.1111111111111111, \"#46039f\"], [0.2222222222222222, \"#7201a8\"], [0.3333333333333333, \"#9c179e\"], [0.4444444444444444, \"#bd3786\"], [0.5555555555555556, \"#d8576b\"], [0.6666666666666666, \"#ed7953\"], [0.7777777777777778, \"#fb9f3a\"], [0.8888888888888888, \"#fdca26\"], [1.0, \"#f0f921\"]], \"type\": \"histogram2d\"}], \"histogram2dcontour\": [{\"colorbar\": {\"outlinewidth\": 0, \"ticks\": \"\"}, \"colorscale\": [[0.0, \"#0d0887\"], [0.1111111111111111, \"#46039f\"], [0.2222222222222222, \"#7201a8\"], [0.3333333333333333, \"#9c179e\"], [0.4444444444444444, \"#bd3786\"], [0.5555555555555556, \"#d8576b\"], [0.6666666666666666, \"#ed7953\"], [0.7777777777777778, \"#fb9f3a\"], [0.8888888888888888, \"#fdca26\"], [1.0, \"#f0f921\"]], \"type\": \"histogram2dcontour\"}], \"mesh3d\": [{\"colorbar\": {\"outlinewidth\": 0, \"ticks\": \"\"}, \"type\": \"mesh3d\"}], \"parcoords\": [{\"line\": {\"colorbar\": {\"outlinewidth\": 0, \"ticks\": \"\"}}, \"type\": \"parcoords\"}], \"pie\": [{\"automargin\": true, \"type\": \"pie\"}], \"scatter\": [{\"marker\": {\"colorbar\": {\"outlinewidth\": 0, \"ticks\": \"\"}}, \"type\": \"scatter\"}], \"scatter3d\": [{\"line\": {\"colorbar\": {\"outlinewidth\": 0, \"ticks\": \"\"}}, \"marker\": {\"colorbar\": {\"outlinewidth\": 0, \"ticks\": \"\"}}, \"type\": \"scatter3d\"}], \"scattercarpet\": [{\"marker\": {\"colorbar\": {\"outlinewidth\": 0, \"ticks\": \"\"}}, \"type\": \"scattercarpet\"}], \"scattergeo\": [{\"marker\": {\"colorbar\": {\"outlinewidth\": 0, \"ticks\": \"\"}}, \"type\": \"scattergeo\"}], \"scattergl\": [{\"marker\": {\"colorbar\": {\"outlinewidth\": 0, \"ticks\": \"\"}}, \"type\": \"scattergl\"}], \"scattermapbox\": [{\"marker\": {\"colorbar\": {\"outlinewidth\": 0, \"ticks\": \"\"}}, \"type\": \"scattermapbox\"}], \"scatterpolar\": [{\"marker\": {\"colorbar\": {\"outlinewidth\": 0, \"ticks\": \"\"}}, \"type\": \"scatterpolar\"}], \"scatterpolargl\": [{\"marker\": {\"colorbar\": {\"outlinewidth\": 0, \"ticks\": \"\"}}, \"type\": \"scatterpolargl\"}], \"scatterternary\": [{\"marker\": {\"colorbar\": {\"outlinewidth\": 0, \"ticks\": \"\"}}, \"type\": \"scatterternary\"}], \"surface\": [{\"colorbar\": {\"outlinewidth\": 0, \"ticks\": \"\"}, \"colorscale\": [[0.0, \"#0d0887\"], [0.1111111111111111, \"#46039f\"], [0.2222222222222222, \"#7201a8\"], [0.3333333333333333, \"#9c179e\"], [0.4444444444444444, \"#bd3786\"], [0.5555555555555556, \"#d8576b\"], [0.6666666666666666, \"#ed7953\"], [0.7777777777777778, \"#fb9f3a\"], [0.8888888888888888, \"#fdca26\"], [1.0, \"#f0f921\"]], \"type\": \"surface\"}], \"table\": [{\"cells\": {\"fill\": {\"color\": \"#EBF0F8\"}, \"line\": {\"color\": \"white\"}}, \"header\": {\"fill\": {\"color\": \"#C8D4E3\"}, \"line\": {\"color\": \"white\"}}, \"type\": \"table\"}]}, \"layout\": {\"annotationdefaults\": {\"arrowcolor\": \"#2a3f5f\", \"arrowhead\": 0, \"arrowwidth\": 1}, \"autotypenumbers\": \"strict\", \"coloraxis\": {\"colorbar\": {\"outlinewidth\": 0, \"ticks\": \"\"}}, \"colorscale\": {\"diverging\": [[0, \"#8e0152\"], [0.1, \"#c51b7d\"], [0.2, \"#de77ae\"], [0.3, \"#f1b6da\"], [0.4, \"#fde0ef\"], [0.5, \"#f7f7f7\"], [0.6, \"#e6f5d0\"], [0.7, \"#b8e186\"], [0.8, \"#7fbc41\"], [0.9, \"#4d9221\"], [1, \"#276419\"]], \"sequential\": [[0.0, \"#0d0887\"], [0.1111111111111111, \"#46039f\"], [0.2222222222222222, \"#7201a8\"], [0.3333333333333333, \"#9c179e\"], [0.4444444444444444, \"#bd3786\"], [0.5555555555555556, \"#d8576b\"], [0.6666666666666666, \"#ed7953\"], [0.7777777777777778, \"#fb9f3a\"], [0.8888888888888888, \"#fdca26\"], [1.0, \"#f0f921\"]], \"sequentialminus\": [[0.0, \"#0d0887\"], [0.1111111111111111, \"#46039f\"], [0.2222222222222222, \"#7201a8\"], [0.3333333333333333, \"#9c179e\"], [0.4444444444444444, \"#bd3786\"], [0.5555555555555556, \"#d8576b\"], [0.6666666666666666, \"#ed7953\"], [0.7777777777777778, \"#fb9f3a\"], [0.8888888888888888, \"#fdca26\"], [1.0, \"#f0f921\"]]}, \"colorway\": [\"#636efa\", \"#EF553B\", \"#00cc96\", \"#ab63fa\", \"#FFA15A\", \"#19d3f3\", \"#FF6692\", \"#B6E880\", \"#FF97FF\", \"#FECB52\"], \"font\": {\"color\": \"#2a3f5f\"}, \"geo\": {\"bgcolor\": \"white\", \"lakecolor\": \"white\", \"landcolor\": \"#E5ECF6\", \"showlakes\": true, \"showland\": true, \"subunitcolor\": \"white\"}, \"hoverlabel\": {\"align\": \"left\"}, \"hovermode\": \"closest\", \"mapbox\": {\"style\": \"light\"}, \"paper_bgcolor\": \"white\", \"plot_bgcolor\": \"#E5ECF6\", \"polar\": {\"angularaxis\": {\"gridcolor\": \"white\", \"linecolor\": \"white\", \"ticks\": \"\"}, \"bgcolor\": \"#E5ECF6\", \"radialaxis\": {\"gridcolor\": \"white\", \"linecolor\": \"white\", \"ticks\": \"\"}}, \"scene\": {\"xaxis\": {\"backgroundcolor\": \"#E5ECF6\", \"gridcolor\": \"white\", \"gridwidth\": 2, \"linecolor\": \"white\", \"showbackground\": true, \"ticks\": \"\", \"zerolinecolor\": \"white\"}, \"yaxis\": {\"backgroundcolor\": \"#E5ECF6\", \"gridcolor\": \"white\", \"gridwidth\": 2, \"linecolor\": \"white\", \"showbackground\": true, \"ticks\": \"\", \"zerolinecolor\": \"white\"}, \"zaxis\": {\"backgroundcolor\": \"#E5ECF6\", \"gridcolor\": \"white\", \"gridwidth\": 2, \"linecolor\": \"white\", \"showbackground\": true, \"ticks\": \"\", \"zerolinecolor\": \"white\"}}, \"shapedefaults\": {\"line\": {\"color\": \"#2a3f5f\"}}, \"ternary\": {\"aaxis\": {\"gridcolor\": \"white\", \"linecolor\": \"white\", \"ticks\": \"\"}, \"baxis\": {\"gridcolor\": \"white\", \"linecolor\": \"white\", \"ticks\": \"\"}, \"bgcolor\": \"#E5ECF6\", \"caxis\": {\"gridcolor\": \"white\", \"linecolor\": \"white\", \"ticks\": \"\"}}, \"title\": {\"x\": 0.05}, \"xaxis\": {\"automargin\": true, \"gridcolor\": \"white\", \"linecolor\": \"white\", \"ticks\": \"\", \"title\": {\"standoff\": 15}, \"zerolinecolor\": \"white\", \"zerolinewidth\": 2}, \"yaxis\": {\"automargin\": true, \"gridcolor\": \"white\", \"linecolor\": \"white\", \"ticks\": \"\", \"title\": {\"standoff\": 15}, \"zerolinecolor\": \"white\", \"zerolinewidth\": 2}}}, \"width\": 500, \"xaxis\": {\"mirror\": \"all\", \"showline\": true, \"title\": {\"font\": {\"size\": 13}}, \"zeroline\": false}, \"yaxis\": {\"mirror\": \"all\", \"showline\": true, \"title\": {\"font\": {\"size\": 13}}, \"zeroline\": false}},                        {\"responsive\": true}                    ).then(function(){\n",
       "                            \n",
       "var gd = document.getElementById('6ade4405-0e86-4a7a-967e-8227f75afa27');\n",
       "var x = new MutationObserver(function (mutations, observer) {{\n",
       "        var display = window.getComputedStyle(gd).display;\n",
       "        if (!display || display === 'none') {{\n",
       "            console.log([gd, 'removed!']);\n",
       "            Plotly.purge(gd);\n",
       "            observer.disconnect();\n",
       "        }}\n",
       "}});\n",
       "\n",
       "// Listen for the removal of the full notebook cells\n",
       "var notebookContainer = gd.closest('#notebook-container');\n",
       "if (notebookContainer) {{\n",
       "    x.observe(notebookContainer, {childList: true});\n",
       "}}\n",
       "\n",
       "// Listen for the clearing of the current output cell\n",
       "var outputEl = gd.closest('.output');\n",
       "if (outputEl) {{\n",
       "    x.observe(outputEl, {childList: true});\n",
       "}}\n",
       "\n",
       "                        })                };                });            </script>        </div>"
      ]
     },
     "metadata": {},
     "output_type": "display_data"
    }
   ],
   "source": [
    "# plot\n",
    "# non-normalised\n",
    "\n",
    "ylab = r'$\\LARGE{\\sigma_\\mathrm{w}}$'\n",
    "xlab = r'$\\LARGE{J\\;\\mathrm{(Nmm)}^{-1}}$'\n",
    "layout['annotations'][1]['text'] = ylab\n",
    "title = r'$$'\n",
    "data = []\n",
    "\n",
    "sw_data_plot = glob_sw_all_corr\n",
    "\n",
    "for ri, sw_r in enumerate(sw_data_plot):\n",
    "    sw = sw_r[idxm]\n",
    "    mi = idxm\n",
    "   \n",
    "    x_plot = (gdata_all[ri]['gdata']['jintc']).values[skipped_lines_all[ri]:]\n",
    "    y_plot = sw # / su_all[ri] \n",
    "    \n",
    "\n",
    "    data.append({\n",
    "            'x': x_plot,\n",
    "            'y': np.array(y_plot),   # /mean_corr[ri]\n",
    "            'name': r'T = ' + str(temps[ri]) + r'°C',\n",
    "        #             'marker':{'symbol':'circle', 'color': [ri]},\n",
    "            'line': {'dash': lines[0], 'color': cols[ri], 'width': 2},\n",
    "             'mode': 'lines',\n",
    "        })\n",
    "data.append(\n",
    "    {\n",
    "        'x': np.linspace(0, 450),\n",
    "        'y': sw_data_plot[1][idxm][gdata_all[1]['j0_idx']-skipped_lines_all[1]]  * np.ones(120), # / su_all[1],\n",
    "        'line': {'dash': lines[1], 'color': 'grey'},\n",
    "        'name': r'$\\mathrm{prediction\\;based\\;on}\\;J_0^{T = -91\\mathrm{°C}}$' \n",
    "            })\n",
    "\n",
    "\n",
    "layout = {\n",
    "    'width': 500,\n",
    "    'height': 350,\n",
    "    'xaxis': {\n",
    "#         'range': [-0.1, 1.1],\n",
    "        'zeroline': False,\n",
    "        'showline': True,\n",
    "        'mirror': 'all',\n",
    "#         'title': r'$m$',\n",
    "        'titlefont':{'size': 13}\n",
    "    },\n",
    "    'yaxis': {\n",
    "        'zeroline': False,\n",
    "        'showline': True,\n",
    "        'mirror': 'all',\n",
    "#         'title': '$\\sigma_\\mathrm{w}/\\sigma_\\mathrm{f} $ ',\n",
    "        'titlefont':{'size': 13},\n",
    "\n",
    "    },\n",
    "    'annotations':[\n",
    "    {\n",
    "        'text':  xlab,\n",
    "        'x': 0.5,\n",
    "        'y': -0.22,\n",
    "        'xref': 'paper',\n",
    "        'yref': 'paper',\n",
    "        'showarrow': False,\n",
    "        'font': {'size': 11},\n",
    "    },\n",
    "        {\n",
    "        'text':  ylab,\n",
    "        'x': -0.22,\n",
    "        'y': 0.5,\n",
    "        'xref': 'paper',\n",
    "        'yref': 'paper',\n",
    "        'showarrow': False,\n",
    "        'font': {'size': 11},\n",
    "        'textangle': -90\n",
    "    },\n",
    "        {\n",
    "        'text':  title,\n",
    "        'x': 0.41,\n",
    "        'y': 1.1,\n",
    "        'xref': 'paper',\n",
    "        'yref': 'paper',\n",
    "        'showarrow': False,\n",
    "        'font': {'size': 11},\n",
    "    },\n",
    "    ],\n",
    "    'legend':{\n",
    "        'x': 0.8,\n",
    "        'y': 0.01,\n",
    "    },\n",
    "    \n",
    "     'margin': {\n",
    "                'l': 80,\n",
    "                'r': 20,\n",
    "                'b': 80,\n",
    "                't': 40,\n",
    "#                 'pad': 1\n",
    "     },\n",
    "\n",
    "}\n",
    "\n",
    "layout['showlegend'] = True\n",
    "f = go.FigureWidget(data,layout)\n",
    "py.iplot(f)     "
   ]
  },
  {
   "cell_type": "code",
   "execution_count": null,
   "metadata": {},
   "outputs": [],
   "source": []
  }
 ],
 "metadata": {
  "kernelspec": {
   "display_name": "Python [conda env:fracture_fea_laf_env]",
   "language": "python",
   "name": "conda-env-fracture_fea_laf_env-py"
  },
  "language_info": {
   "codemirror_mode": {
    "name": "ipython",
    "version": 3
   },
   "file_extension": ".py",
   "mimetype": "text/x-python",
   "name": "python",
   "nbconvert_exporter": "python",
   "pygments_lexer": "ipython3",
   "version": "3.9.5"
  },
  "toc": {
   "base_numbering": 1,
   "nav_menu": {},
   "number_sections": true,
   "sideBar": true,
   "skip_h1_title": false,
   "title_cell": "Table of Contents",
   "title_sidebar": "Contents",
   "toc_cell": false,
   "toc_position": {
    "height": "calc(100% - 180px)",
    "left": "10px",
    "top": "150px",
    "width": "234px"
   },
   "toc_section_display": true,
   "toc_window_display": true
  }
 },
 "nbformat": 4,
 "nbformat_minor": 4
}
